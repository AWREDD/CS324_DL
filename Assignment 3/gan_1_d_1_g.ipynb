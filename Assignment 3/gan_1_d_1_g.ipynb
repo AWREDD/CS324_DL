{
 "cells": [
  {
   "cell_type": "code",
   "execution_count": 1,
   "id": "a94ac791-4fc9-4918-a9dd-652342c00a34",
   "metadata": {},
   "outputs": [],
   "source": [
    "import os\n",
    "\n",
    "import torch\n",
    "import torch.nn as nn\n",
    "import torchvision.transforms as transforms\n",
    "from torchvision import datasets\n",
    "from torchvision.utils import save_image\n",
    "\n",
    "from tqdm import tqdm\n",
    "import matplotlib.pyplot as plt\n",
    "import copy\n",
    "import numpy as np"
   ]
  },
  {
   "cell_type": "code",
   "execution_count": 2,
   "id": "ba546d0a-ac7f-4cf5-b3e0-7140eb37594c",
   "metadata": {},
   "outputs": [],
   "source": [
    "class Generator(nn.Module):\n",
    "    def __init__(self, latent_dim):\n",
    "        super(Generator, self).__init__()\n",
    "\n",
    "        self.fc1 = nn.Linear(latent_dim, 128)\n",
    "        self.fc2 = nn.Linear(128, 256)\n",
    "        self.fc3 = nn.Linear(256, 512)\n",
    "        self.fc4 = nn.Linear(512, 1024)\n",
    "        self.fc5 = nn.Linear(1024, 784)\n",
    "\n",
    "        self.BN1 = nn.BatchNorm1d(256)\n",
    "        self.BN2 = nn.BatchNorm1d(512)\n",
    "        self.BN3 = nn.BatchNorm1d(1024)\n",
    "        \n",
    "        self.leaky_relu1 = nn.LeakyReLU(0.2)\n",
    "        self.leaky_relu2 = nn.LeakyReLU(0.2)\n",
    "        self.leaky_relu3 = nn.LeakyReLU(0.2)\n",
    "        self.leaky_relu4 = nn.LeakyReLU(0.2)\n",
    "\n",
    "\n",
    "        # Construct generator. You should experiment with your model,\n",
    "        # but the following is a good start:\n",
    "        #   Linear args.latent_dim -> 128\n",
    "        #   LeakyReLU(0.2)\n",
    "        \n",
    "        #   Linear 128 -> 256\n",
    "        #   Bnorm\n",
    "        #   LeakyReLU(0.2)\n",
    "        \n",
    "        #   Linear 256 -> 512\n",
    "        #   Bnorm\n",
    "        #   LeakyReLU(0.2)\n",
    "        \n",
    "        #   Linear 512 -> 1024\n",
    "        #   Bnorm\n",
    "        #   LeakyReLU(0.2)\n",
    "        \n",
    "        #   Linear 1024 -> 784\n",
    "        #   Output non-linearity\n",
    "\n",
    "    def forward(self, z):\n",
    "        # Generate images from z\n",
    "        z = self.leaky_relu1(self.fc1(z))\n",
    "        z = self.leaky_relu2(self.BN1(self.fc2(z)))\n",
    "        z = self.leaky_relu3(self.BN2(self.fc3(z)))\n",
    "        z = self.leaky_relu4(self.BN3(self.fc4(z)))\n",
    "        z = torch.tanh(self.fc5(z))\n",
    "        return z\n",
    "\n",
    "\n",
    "class Discriminator(nn.Module):\n",
    "    def __init__(self):\n",
    "        super(Discriminator, self).__init__()\n",
    "        self.fc1 = nn.Linear(784, 512)\n",
    "        self.fc2 = nn.Linear(512, 256)\n",
    "        self.fc3 = nn.Linear(256, 1)\n",
    "        self.leaky_relu1 = nn.LeakyReLU(0.2)\n",
    "        self.leaky_relu2 = nn.LeakyReLU(0.2)\n",
    "\n",
    "        # Construct distriminator. You should experiment with your model,\n",
    "        # but the following is a good start:\n",
    "        #   Linear 784 -> 512\n",
    "        #   LeakyReLU(0.2)\n",
    "        #   Linear 512 -> 256\n",
    "        #   LeakyReLU(0.2)\n",
    "        #   Linear 256 -> 1\n",
    "        #   Output non-linearity\n",
    "\n",
    "    def forward(self, img):\n",
    "        # return discriminator score for img\n",
    "        img = self.leaky_relu1(self.fc1(img))\n",
    "        img = self.leaky_relu2(self.fc2(img))\n",
    "        img = torch.sigmoid(self.fc3(img))\n",
    "        return img"
   ]
  },
  {
   "cell_type": "code",
   "execution_count": 3,
   "id": "7735ce85-667b-4445-bcec-f8160d201342",
   "metadata": {},
   "outputs": [
    {
     "name": "stderr",
     "output_type": "stream",
     "text": [
      "/usr/local/miniconda3/lib/python3.8/site-packages/torch/cuda/__init__.py:107: UserWarning: CUDA initialization: Unexpected error from cudaGetDeviceCount(). Did you run some cuda functions before calling NumCudaDevices() that might have already set an error? Error 804: forward compatibility was attempted on non supported HW (Triggered internally at ../c10/cuda/CUDAFunctions.cpp:109.)\n",
      "  return torch._C._cuda_getDeviceCount() > 0\n"
     ]
    }
   ],
   "source": [
    "max_epoch = 200\n",
    "batch_size = 64\n",
    "learning_rate = 0.0002\n",
    "latent_dim = 100\n",
    "save_interval = 500\n",
    "device = torch.device('cuda:0' if torch.cuda.is_available() else 'cpu')"
   ]
  },
  {
   "cell_type": "code",
   "execution_count": 4,
   "id": "27eabbcc-6d7e-436e-8e61-cd7f1ba68b6f",
   "metadata": {},
   "outputs": [],
   "source": [
    "def train(dataloader, discriminator, generator, optimizer_G, optimizer_D):\n",
    "    criterion = nn.BCELoss()\n",
    "    for epoch in tqdm(range(max_epoch)):\n",
    "        discriminator.train()\n",
    "        generator.train()\n",
    "        G_total_loss = 0.\n",
    "        D_total_loss = 0.\n",
    "        for i, (imgs, _) in enumerate(dataloader):\n",
    "\n",
    "            imgs.to(device)\n",
    "            imgs_real = torch.flatten(imgs, start_dim=1).to(device)\n",
    "            \n",
    "            batch_size = imgs_real.size(0)\n",
    "\n",
    "            \n",
    "\n",
    "            # Train Discriminator\n",
    "            # -------------------\n",
    "            z = torch.randn(batch_size, latent_dim).to(device)\n",
    "            fake_images = generator(z)\n",
    "            \n",
    "            optimizer_D.zero_grad()\n",
    "\n",
    "            real_preds = discriminator(imgs_real)\n",
    "            real_labels = torch.ones(batch_size, 1).to(device)\n",
    "            real_loss = criterion(real_preds, real_labels)\n",
    "\n",
    "            fake_preds = discriminator(fake_images)\n",
    "            fake_labels = torch.zeros(batch_size, 1).to(device)\n",
    "            fake_loss = criterion(fake_preds, fake_labels)\n",
    "\n",
    "\n",
    "            d_loss = real_loss + fake_loss\n",
    "            d_loss.backward()\n",
    "            optimizer_D.step()\n",
    "\n",
    "\n",
    "            # Train Generator\n",
    "            # ---------------\n",
    "            z = torch.randn(batch_size, latent_dim).to(device)\n",
    "            fake_images = generator(z)\n",
    "            \n",
    "\n",
    "            optimizer_G.zero_grad()\n",
    "\n",
    "            fake_preds = discriminator(fake_images)\n",
    "            real_labels = torch.ones(batch_size, 1).to(device)\n",
    "\n",
    "            g_loss = criterion(fake_preds, real_labels)\n",
    "            g_loss.backward()\n",
    "            optimizer_G.step()\n",
    "\n",
    "            imgs_gen = 0.5 * (fake_images + 1).view(batch_size, 1, 28, 28)\n",
    "\n",
    "            batches_done = epoch * len(dataloader) + i\n",
    "            if batches_done % save_interval == 0:\n",
    "                # You can use the function save_image(Tensor (shape Bx1x28x28),\n",
    "                # filename, number of rows, normalize) to save the generated\n",
    "                # images, e.g.:\n",
    "                save_image(imgs_gen[:25],'images/{}.png'.format(batches_done),nrow=5, normalize=True, value_range=(-1,1))\n",
    "                print(\"image saved\")\n",
    "                \n",
    "\n",
    "            if (i+1) % 200 == 0:\n",
    "                print(f\"Epoch [{epoch+1}/{max_epoch}] Batch {i+1}/{len(dataloader)} \"\n",
    "                      f\"Loss D: {d_loss:.4f}, Loss G: {g_loss:.4f}\")"
   ]
  },
  {
   "cell_type": "code",
   "execution_count": 5,
   "id": "a6bb4ac5-63fe-478b-bd19-0d1e6d488d17",
   "metadata": {},
   "outputs": [],
   "source": [
    "os.makedirs('images', exist_ok=True)"
   ]
  },
  {
   "cell_type": "code",
   "execution_count": 6,
   "id": "7c637603-d1e2-40d2-b473-3ab97dd79b39",
   "metadata": {},
   "outputs": [],
   "source": [
    "dataloader = torch.utils.data.DataLoader(\n",
    "    datasets.MNIST('./data/mnist', train=True, download=True,\n",
    "                   transform=transforms.Compose([\n",
    "                           transforms.ToTensor(),\n",
    "                           transforms.Normalize(0.5, 0.5)])),\n",
    "    batch_size=batch_size, shuffle=True)"
   ]
  },
  {
   "cell_type": "code",
   "execution_count": 7,
   "id": "91127a41-6e4e-436d-a97a-f38d68216d6c",
   "metadata": {},
   "outputs": [],
   "source": [
    "generator = Generator(latent_dim).to(device)\n",
    "discriminator = Discriminator().to(device)\n",
    "optimizer_G = torch.optim.Adam(generator.parameters(), lr=learning_rate)\n",
    "optimizer_D = torch.optim.Adam(discriminator.parameters(), lr=learning_rate)"
   ]
  },
  {
   "cell_type": "code",
   "execution_count": null,
   "id": "d3b865be-e41e-4b5b-b058-d2ac17120ed7",
   "metadata": {},
   "outputs": [
    {
     "name": "stderr",
     "output_type": "stream",
     "text": [
      "  0%|          | 0/200 [00:00<?, ?it/s]"
     ]
    },
    {
     "name": "stdout",
     "output_type": "stream",
     "text": [
      "image saved\n",
      "Epoch [1/200] Batch 200/938 Loss D: 0.4533, Loss G: 4.6778\n",
      "Epoch [1/200] Batch 400/938 Loss D: 0.1854, Loss G: 5.3930\n",
      "image saved\n",
      "Epoch [1/200] Batch 600/938 Loss D: 0.5350, Loss G: 7.4200\n",
      "Epoch [1/200] Batch 800/938 Loss D: 0.2975, Loss G: 4.1808\n"
     ]
    },
    {
     "name": "stderr",
     "output_type": "stream",
     "text": [
      "  0%|          | 1/200 [01:08<3:47:19, 68.54s/it]"
     ]
    },
    {
     "name": "stdout",
     "output_type": "stream",
     "text": [
      "image saved\n",
      "Epoch [2/200] Batch 200/938 Loss D: 0.2831, Loss G: 5.8344\n",
      "Epoch [2/200] Batch 400/938 Loss D: 0.3017, Loss G: 6.4607\n",
      "image saved\n",
      "Epoch [2/200] Batch 600/938 Loss D: 0.1448, Loss G: 5.8045\n",
      "Epoch [2/200] Batch 800/938 Loss D: 0.3214, Loss G: 4.1796\n"
     ]
    },
    {
     "name": "stderr",
     "output_type": "stream",
     "text": [
      "  1%|          | 2/200 [02:10<3:34:15, 64.92s/it]"
     ]
    },
    {
     "name": "stdout",
     "output_type": "stream",
     "text": [
      "image saved\n",
      "Epoch [3/200] Batch 200/938 Loss D: 0.2179, Loss G: 4.2912\n",
      "Epoch [3/200] Batch 400/938 Loss D: 0.1788, Loss G: 6.3684\n",
      "Epoch [3/200] Batch 600/938 Loss D: 0.1243, Loss G: 7.0956\n",
      "image saved\n",
      "Epoch [3/200] Batch 800/938 Loss D: 0.2541, Loss G: 6.0579\n"
     ]
    },
    {
     "name": "stderr",
     "output_type": "stream",
     "text": [
      "  2%|▏         | 3/200 [03:15<3:33:06, 64.90s/it]"
     ]
    },
    {
     "name": "stdout",
     "output_type": "stream",
     "text": [
      "image saved\n",
      "Epoch [4/200] Batch 200/938 Loss D: 0.2787, Loss G: 6.0801\n",
      "Epoch [4/200] Batch 400/938 Loss D: 0.1882, Loss G: 7.4667\n",
      "Epoch [4/200] Batch 600/938 Loss D: 0.2357, Loss G: 7.8474\n",
      "image saved\n",
      "Epoch [4/200] Batch 800/938 Loss D: 0.4676, Loss G: 5.6621\n"
     ]
    },
    {
     "name": "stderr",
     "output_type": "stream",
     "text": [
      "  2%|▏         | 4/200 [04:22<3:33:49, 65.45s/it]"
     ]
    },
    {
     "name": "stdout",
     "output_type": "stream",
     "text": [
      "Epoch [5/200] Batch 200/938 Loss D: 0.1303, Loss G: 6.2529\n",
      "image saved\n",
      "Epoch [5/200] Batch 400/938 Loss D: 0.3124, Loss G: 6.5720\n",
      "Epoch [5/200] Batch 600/938 Loss D: 0.1464, Loss G: 5.3870\n",
      "image saved\n",
      "Epoch [5/200] Batch 800/938 Loss D: 0.3280, Loss G: 4.9232\n"
     ]
    },
    {
     "name": "stderr",
     "output_type": "stream",
     "text": [
      "  2%|▎         | 5/200 [05:30<3:36:18, 66.56s/it]"
     ]
    },
    {
     "name": "stdout",
     "output_type": "stream",
     "text": [
      "Epoch [6/200] Batch 200/938 Loss D: 0.1944, Loss G: 5.2548\n",
      "image saved\n",
      "Epoch [6/200] Batch 400/938 Loss D: 0.2744, Loss G: 4.6967\n",
      "Epoch [6/200] Batch 600/938 Loss D: 0.2798, Loss G: 2.6725\n",
      "Epoch [6/200] Batch 800/938 Loss D: 0.1930, Loss G: 6.2331\n",
      "image saved\n"
     ]
    },
    {
     "name": "stderr",
     "output_type": "stream",
     "text": [
      "  3%|▎         | 6/200 [06:43<3:42:14, 68.74s/it]"
     ]
    },
    {
     "name": "stdout",
     "output_type": "stream",
     "text": [
      "Epoch [7/200] Batch 200/938 Loss D: 0.3590, Loss G: 6.1007\n",
      "image saved\n",
      "Epoch [7/200] Batch 400/938 Loss D: 0.4264, Loss G: 4.9502\n",
      "Epoch [7/200] Batch 600/938 Loss D: 0.2823, Loss G: 4.3316\n",
      "Epoch [7/200] Batch 800/938 Loss D: 0.3568, Loss G: 4.3472\n",
      "image saved\n"
     ]
    },
    {
     "name": "stderr",
     "output_type": "stream",
     "text": [
      "  4%|▎         | 7/200 [07:54<3:43:42, 69.55s/it]"
     ]
    },
    {
     "name": "stdout",
     "output_type": "stream",
     "text": [
      "Epoch [8/200] Batch 200/938 Loss D: 0.4160, Loss G: 3.4129\n",
      "Epoch [8/200] Batch 400/938 Loss D: 0.3545, Loss G: 3.3756\n",
      "image saved\n",
      "Epoch [8/200] Batch 600/938 Loss D: 0.6810, Loss G: 2.8964\n",
      "Epoch [8/200] Batch 800/938 Loss D: 0.3833, Loss G: 3.4087\n",
      "image saved\n"
     ]
    },
    {
     "name": "stderr",
     "output_type": "stream",
     "text": [
      "  4%|▍         | 8/200 [09:06<3:44:33, 70.18s/it]"
     ]
    },
    {
     "name": "stdout",
     "output_type": "stream",
     "text": [
      "Epoch [9/200] Batch 200/938 Loss D: 0.3872, Loss G: 2.9615\n",
      "Epoch [9/200] Batch 400/938 Loss D: 0.4340, Loss G: 4.0603\n",
      "image saved\n",
      "Epoch [9/200] Batch 600/938 Loss D: 0.3173, Loss G: 5.5803\n",
      "Epoch [9/200] Batch 800/938 Loss D: 0.4850, Loss G: 4.4683\n"
     ]
    },
    {
     "name": "stderr",
     "output_type": "stream",
     "text": [
      "  4%|▍         | 9/200 [10:10<3:37:03, 68.19s/it]"
     ]
    },
    {
     "name": "stdout",
     "output_type": "stream",
     "text": [
      "image saved\n",
      "Epoch [10/200] Batch 200/938 Loss D: 0.4802, Loss G: 4.5240\n",
      "Epoch [10/200] Batch 400/938 Loss D: 0.6735, Loss G: 3.9723\n",
      "image saved\n",
      "Epoch [10/200] Batch 600/938 Loss D: 0.6778, Loss G: 3.9503\n",
      "Epoch [10/200] Batch 800/938 Loss D: 0.6308, Loss G: 2.4237\n"
     ]
    },
    {
     "name": "stderr",
     "output_type": "stream",
     "text": [
      "  5%|▌         | 10/200 [11:08<3:26:06, 65.09s/it]"
     ]
    },
    {
     "name": "stdout",
     "output_type": "stream",
     "text": [
      "image saved\n",
      "Epoch [11/200] Batch 200/938 Loss D: 0.4379, Loss G: 3.0576\n",
      "Epoch [11/200] Batch 400/938 Loss D: 0.3855, Loss G: 4.1979\n",
      "Epoch [11/200] Batch 600/938 Loss D: 0.7408, Loss G: 2.0707\n",
      "image saved\n",
      "Epoch [11/200] Batch 800/938 Loss D: 0.5316, Loss G: 3.4092\n"
     ]
    },
    {
     "name": "stderr",
     "output_type": "stream",
     "text": [
      "  6%|▌         | 11/200 [12:07<3:19:17, 63.27s/it]"
     ]
    },
    {
     "name": "stdout",
     "output_type": "stream",
     "text": [
      "image saved\n",
      "Epoch [12/200] Batch 200/938 Loss D: 0.7108, Loss G: 3.9004\n",
      "Epoch [12/200] Batch 400/938 Loss D: 0.7397, Loss G: 2.4534\n",
      "Epoch [12/200] Batch 600/938 Loss D: 0.6264, Loss G: 2.6283\n",
      "image saved\n",
      "Epoch [12/200] Batch 800/938 Loss D: 0.5965, Loss G: 2.8561\n"
     ]
    },
    {
     "name": "stderr",
     "output_type": "stream",
     "text": [
      "  6%|▌         | 12/200 [13:05<3:13:34, 61.78s/it]"
     ]
    },
    {
     "name": "stdout",
     "output_type": "stream",
     "text": [
      "Epoch [13/200] Batch 200/938 Loss D: 0.4971, Loss G: 3.2265\n",
      "image saved\n",
      "Epoch [13/200] Batch 400/938 Loss D: 0.3623, Loss G: 3.1941\n",
      "Epoch [13/200] Batch 600/938 Loss D: 0.7016, Loss G: 3.5030\n",
      "image saved\n",
      "Epoch [13/200] Batch 800/938 Loss D: 0.7964, Loss G: 2.0648\n"
     ]
    },
    {
     "name": "stderr",
     "output_type": "stream",
     "text": [
      "  6%|▋         | 13/200 [14:04<3:09:48, 60.90s/it]"
     ]
    },
    {
     "name": "stdout",
     "output_type": "stream",
     "text": [
      "Epoch [14/200] Batch 200/938 Loss D: 0.4552, Loss G: 3.3355\n",
      "image saved\n",
      "Epoch [14/200] Batch 400/938 Loss D: 0.7218, Loss G: 3.8498\n",
      "Epoch [14/200] Batch 600/938 Loss D: 0.4126, Loss G: 3.1889\n",
      "Epoch [14/200] Batch 800/938 Loss D: 0.7041, Loss G: 2.0123\n",
      "image saved\n"
     ]
    },
    {
     "name": "stderr",
     "output_type": "stream",
     "text": [
      "  7%|▋         | 14/200 [15:02<3:06:16, 60.09s/it]"
     ]
    },
    {
     "name": "stdout",
     "output_type": "stream",
     "text": [
      "Epoch [15/200] Batch 200/938 Loss D: 0.6321, Loss G: 2.7080\n",
      "image saved\n",
      "Epoch [15/200] Batch 400/938 Loss D: 1.0945, Loss G: 2.8614\n",
      "Epoch [15/200] Batch 600/938 Loss D: 0.6053, Loss G: 3.0065\n",
      "Epoch [15/200] Batch 800/938 Loss D: 0.6793, Loss G: 1.4908\n",
      "image saved\n"
     ]
    },
    {
     "name": "stderr",
     "output_type": "stream",
     "text": [
      "  8%|▊         | 15/200 [16:02<3:04:32, 59.85s/it]"
     ]
    },
    {
     "name": "stdout",
     "output_type": "stream",
     "text": [
      "Epoch [16/200] Batch 200/938 Loss D: 0.7522, Loss G: 1.9570\n",
      "Epoch [16/200] Batch 400/938 Loss D: 0.5825, Loss G: 2.9415\n",
      "image saved\n",
      "Epoch [16/200] Batch 600/938 Loss D: 0.6364, Loss G: 2.4875\n",
      "Epoch [16/200] Batch 800/938 Loss D: 0.6040, Loss G: 1.7944\n",
      "image saved\n"
     ]
    },
    {
     "name": "stderr",
     "output_type": "stream",
     "text": [
      "  8%|▊         | 16/200 [17:00<3:01:57, 59.33s/it]"
     ]
    },
    {
     "name": "stdout",
     "output_type": "stream",
     "text": [
      "Epoch [17/200] Batch 200/938 Loss D: 0.6897, Loss G: 2.8921\n",
      "Epoch [17/200] Batch 400/938 Loss D: 0.7278, Loss G: 2.7341\n",
      "image saved\n",
      "Epoch [17/200] Batch 600/938 Loss D: 0.6149, Loss G: 2.7415\n",
      "Epoch [17/200] Batch 800/938 Loss D: 0.6843, Loss G: 2.5331\n"
     ]
    },
    {
     "name": "stderr",
     "output_type": "stream",
     "text": [
      "  8%|▊         | 17/200 [18:03<3:04:20, 60.44s/it]"
     ]
    },
    {
     "name": "stdout",
     "output_type": "stream",
     "text": [
      "image saved\n",
      "Epoch [18/200] Batch 200/938 Loss D: 0.5301, Loss G: 1.9983\n",
      "Epoch [18/200] Batch 400/938 Loss D: 0.7612, Loss G: 2.5569\n",
      "image saved\n",
      "Epoch [18/200] Batch 600/938 Loss D: 0.7279, Loss G: 2.1412\n",
      "Epoch [18/200] Batch 800/938 Loss D: 0.5924, Loss G: 1.9235\n"
     ]
    },
    {
     "name": "stderr",
     "output_type": "stream",
     "text": [
      "  9%|▉         | 18/200 [19:06<3:05:28, 61.15s/it]"
     ]
    },
    {
     "name": "stdout",
     "output_type": "stream",
     "text": [
      "image saved\n",
      "Epoch [19/200] Batch 200/938 Loss D: 0.9099, Loss G: 2.3376\n",
      "Epoch [19/200] Batch 400/938 Loss D: 0.6896, Loss G: 2.6678\n",
      "Epoch [19/200] Batch 600/938 Loss D: 0.9482, Loss G: 3.0988\n",
      "image saved\n",
      "Epoch [19/200] Batch 800/938 Loss D: 0.7903, Loss G: 2.4582\n"
     ]
    },
    {
     "name": "stderr",
     "output_type": "stream",
     "text": [
      " 10%|▉         | 19/200 [20:10<3:07:01, 62.00s/it]"
     ]
    },
    {
     "name": "stdout",
     "output_type": "stream",
     "text": [
      "image saved\n",
      "Epoch [20/200] Batch 200/938 Loss D: 0.6801, Loss G: 1.3430\n",
      "Epoch [20/200] Batch 400/938 Loss D: 0.7270, Loss G: 2.8433\n",
      "Epoch [20/200] Batch 600/938 Loss D: 0.7224, Loss G: 2.2020\n",
      "image saved\n",
      "Epoch [20/200] Batch 800/938 Loss D: 0.6074, Loss G: 2.8248\n"
     ]
    },
    {
     "name": "stderr",
     "output_type": "stream",
     "text": [
      " 10%|█         | 20/200 [21:13<3:07:27, 62.48s/it]"
     ]
    },
    {
     "name": "stdout",
     "output_type": "stream",
     "text": [
      "Epoch [21/200] Batch 200/938 Loss D: 0.6742, Loss G: 2.7139\n",
      "image saved\n",
      "Epoch [21/200] Batch 400/938 Loss D: 0.8039, Loss G: 2.5795\n",
      "Epoch [21/200] Batch 600/938 Loss D: 0.7774, Loss G: 2.0991\n",
      "image saved\n",
      "Epoch [21/200] Batch 800/938 Loss D: 0.7003, Loss G: 2.1921\n"
     ]
    },
    {
     "name": "stderr",
     "output_type": "stream",
     "text": [
      " 10%|█         | 21/200 [22:19<3:09:16, 63.45s/it]"
     ]
    },
    {
     "name": "stdout",
     "output_type": "stream",
     "text": [
      "Epoch [22/200] Batch 200/938 Loss D: 0.7379, Loss G: 2.6650\n",
      "image saved\n",
      "Epoch [22/200] Batch 400/938 Loss D: 0.6895, Loss G: 2.6179\n",
      "Epoch [22/200] Batch 600/938 Loss D: 1.0827, Loss G: 2.2687\n",
      "Epoch [22/200] Batch 800/938 Loss D: 0.8112, Loss G: 2.1164\n",
      "image saved\n"
     ]
    },
    {
     "name": "stderr",
     "output_type": "stream",
     "text": [
      " 11%|█         | 22/200 [23:27<3:12:27, 64.87s/it]"
     ]
    },
    {
     "name": "stdout",
     "output_type": "stream",
     "text": [
      "Epoch [23/200] Batch 200/938 Loss D: 0.9229, Loss G: 2.0855\n",
      "image saved\n",
      "Epoch [23/200] Batch 400/938 Loss D: 0.7427, Loss G: 2.1696\n",
      "Epoch [23/200] Batch 600/938 Loss D: 0.8285, Loss G: 2.5768\n",
      "Epoch [23/200] Batch 800/938 Loss D: 0.9835, Loss G: 1.5857\n",
      "image saved\n"
     ]
    },
    {
     "name": "stderr",
     "output_type": "stream",
     "text": [
      " 12%|█▏        | 23/200 [24:36<3:14:34, 65.96s/it]"
     ]
    },
    {
     "name": "stdout",
     "output_type": "stream",
     "text": [
      "Epoch [24/200] Batch 200/938 Loss D: 0.7011, Loss G: 1.6995\n",
      "Epoch [24/200] Batch 400/938 Loss D: 0.7086, Loss G: 2.3106\n",
      "image saved\n",
      "Epoch [24/200] Batch 600/938 Loss D: 0.6093, Loss G: 1.8577\n",
      "Epoch [24/200] Batch 800/938 Loss D: 0.8725, Loss G: 1.9999\n",
      "image saved\n"
     ]
    },
    {
     "name": "stderr",
     "output_type": "stream",
     "text": [
      " 12%|█▏        | 24/200 [25:45<3:16:10, 66.88s/it]"
     ]
    },
    {
     "name": "stdout",
     "output_type": "stream",
     "text": [
      "Epoch [25/200] Batch 200/938 Loss D: 0.6565, Loss G: 2.8145\n",
      "Epoch [25/200] Batch 400/938 Loss D: 0.7797, Loss G: 1.7735\n",
      "image saved\n",
      "Epoch [25/200] Batch 600/938 Loss D: 0.9350, Loss G: 1.7427\n",
      "Epoch [25/200] Batch 800/938 Loss D: 0.6599, Loss G: 1.4345\n"
     ]
    },
    {
     "name": "stderr",
     "output_type": "stream",
     "text": [
      " 12%|█▎        | 25/200 [26:52<3:15:04, 66.88s/it]"
     ]
    },
    {
     "name": "stdout",
     "output_type": "stream",
     "text": [
      "image saved\n",
      "Epoch [26/200] Batch 200/938 Loss D: 0.8232, Loss G: 2.1109\n",
      "Epoch [26/200] Batch 400/938 Loss D: 0.7807, Loss G: 2.3318\n",
      "image saved\n",
      "Epoch [26/200] Batch 600/938 Loss D: 0.7838, Loss G: 2.2917\n",
      "Epoch [26/200] Batch 800/938 Loss D: 0.7528, Loss G: 2.4066\n"
     ]
    },
    {
     "name": "stderr",
     "output_type": "stream",
     "text": [
      " 13%|█▎        | 26/200 [28:03<3:18:04, 68.30s/it]"
     ]
    },
    {
     "name": "stdout",
     "output_type": "stream",
     "text": [
      "image saved\n",
      "Epoch [27/200] Batch 200/938 Loss D: 0.7314, Loss G: 1.4627\n",
      "Epoch [27/200] Batch 400/938 Loss D: 0.6967, Loss G: 1.5260\n",
      "Epoch [27/200] Batch 600/938 Loss D: 0.6616, Loss G: 2.1220\n",
      "image saved\n",
      "Epoch [27/200] Batch 800/938 Loss D: 0.8475, Loss G: 1.9073\n"
     ]
    },
    {
     "name": "stderr",
     "output_type": "stream",
     "text": [
      " 14%|█▎        | 27/200 [29:08<3:14:19, 67.40s/it]"
     ]
    },
    {
     "name": "stdout",
     "output_type": "stream",
     "text": [
      "image saved\n",
      "Epoch [28/200] Batch 200/938 Loss D: 0.8171, Loss G: 1.5180\n",
      "Epoch [28/200] Batch 400/938 Loss D: 0.7096, Loss G: 1.6103\n",
      "Epoch [28/200] Batch 600/938 Loss D: 0.8551, Loss G: 1.7878\n",
      "image saved\n",
      "Epoch [28/200] Batch 800/938 Loss D: 0.8451, Loss G: 2.1545\n"
     ]
    },
    {
     "name": "stderr",
     "output_type": "stream",
     "text": [
      " 14%|█▍        | 28/200 [30:20<3:16:39, 68.60s/it]"
     ]
    },
    {
     "name": "stdout",
     "output_type": "stream",
     "text": [
      "Epoch [29/200] Batch 200/938 Loss D: 0.9090, Loss G: 1.9515\n",
      "image saved\n",
      "Epoch [29/200] Batch 400/938 Loss D: 0.9753, Loss G: 2.3201\n",
      "Epoch [29/200] Batch 600/938 Loss D: 0.9333, Loss G: 2.3388\n",
      "image saved\n",
      "Epoch [29/200] Batch 800/938 Loss D: 0.8134, Loss G: 1.8253\n"
     ]
    },
    {
     "name": "stderr",
     "output_type": "stream",
     "text": [
      " 14%|█▍        | 29/200 [31:31<3:17:37, 69.34s/it]"
     ]
    },
    {
     "name": "stdout",
     "output_type": "stream",
     "text": [
      "Epoch [30/200] Batch 200/938 Loss D: 0.8801, Loss G: 1.9361\n",
      "image saved\n",
      "Epoch [30/200] Batch 400/938 Loss D: 0.8637, Loss G: 1.5138\n",
      "Epoch [30/200] Batch 600/938 Loss D: 0.8875, Loss G: 1.1123\n",
      "image saved\n",
      "Epoch [30/200] Batch 800/938 Loss D: 0.9224, Loss G: 1.6533\n"
     ]
    },
    {
     "name": "stderr",
     "output_type": "stream",
     "text": [
      " 15%|█▌        | 30/200 [32:42<3:17:54, 69.85s/it]"
     ]
    },
    {
     "name": "stdout",
     "output_type": "stream",
     "text": [
      "Epoch [31/200] Batch 200/938 Loss D: 0.9306, Loss G: 2.2170\n",
      "image saved\n",
      "Epoch [31/200] Batch 400/938 Loss D: 0.9385, Loss G: 2.2092\n",
      "Epoch [31/200] Batch 600/938 Loss D: 0.9273, Loss G: 1.4962\n",
      "Epoch [31/200] Batch 800/938 Loss D: 0.8969, Loss G: 1.4396\n",
      "image saved\n"
     ]
    },
    {
     "name": "stderr",
     "output_type": "stream",
     "text": [
      " 16%|█▌        | 31/200 [33:48<3:13:14, 68.61s/it]"
     ]
    },
    {
     "name": "stdout",
     "output_type": "stream",
     "text": [
      "Epoch [32/200] Batch 200/938 Loss D: 0.9258, Loss G: 1.8709\n",
      "Epoch [32/200] Batch 400/938 Loss D: 1.2447, Loss G: 1.3559\n",
      "image saved\n",
      "Epoch [32/200] Batch 600/938 Loss D: 0.7561, Loss G: 2.1191\n",
      "Epoch [32/200] Batch 800/938 Loss D: 0.8669, Loss G: 1.2537\n",
      "image saved\n"
     ]
    },
    {
     "name": "stderr",
     "output_type": "stream",
     "text": [
      " 16%|█▌        | 32/200 [34:55<3:10:54, 68.18s/it]"
     ]
    },
    {
     "name": "stdout",
     "output_type": "stream",
     "text": [
      "Epoch [33/200] Batch 200/938 Loss D: 0.7198, Loss G: 1.7819\n",
      "Epoch [33/200] Batch 400/938 Loss D: 0.9546, Loss G: 1.5274\n",
      "image saved\n",
      "Epoch [33/200] Batch 600/938 Loss D: 0.8354, Loss G: 1.6022\n",
      "Epoch [33/200] Batch 800/938 Loss D: 0.9392, Loss G: 1.6493\n"
     ]
    },
    {
     "name": "stderr",
     "output_type": "stream",
     "text": [
      " 16%|█▋        | 33/200 [36:00<3:07:39, 67.42s/it]"
     ]
    },
    {
     "name": "stdout",
     "output_type": "stream",
     "text": [
      "image saved\n",
      "Epoch [34/200] Batch 200/938 Loss D: 0.8641, Loss G: 1.6846\n",
      "Epoch [34/200] Batch 400/938 Loss D: 0.8860, Loss G: 1.5049\n",
      "image saved\n",
      "Epoch [34/200] Batch 600/938 Loss D: 0.9970, Loss G: 1.5198\n",
      "Epoch [34/200] Batch 800/938 Loss D: 1.0100, Loss G: 1.5601\n"
     ]
    },
    {
     "name": "stderr",
     "output_type": "stream",
     "text": [
      " 17%|█▋        | 34/200 [37:06<3:04:37, 66.73s/it]"
     ]
    },
    {
     "name": "stdout",
     "output_type": "stream",
     "text": [
      "image saved\n",
      "Epoch [35/200] Batch 200/938 Loss D: 0.5876, Loss G: 2.2832\n",
      "Epoch [35/200] Batch 400/938 Loss D: 1.0362, Loss G: 1.6493\n",
      "Epoch [35/200] Batch 600/938 Loss D: 0.7701, Loss G: 2.1137\n",
      "image saved\n",
      "Epoch [35/200] Batch 800/938 Loss D: 0.7882, Loss G: 1.8447\n"
     ]
    },
    {
     "name": "stderr",
     "output_type": "stream",
     "text": [
      " 18%|█▊        | 35/200 [38:12<3:03:23, 66.69s/it]"
     ]
    },
    {
     "name": "stdout",
     "output_type": "stream",
     "text": [
      "image saved\n",
      "Epoch [36/200] Batch 200/938 Loss D: 0.8893, Loss G: 1.6516\n",
      "Epoch [36/200] Batch 400/938 Loss D: 1.1492, Loss G: 1.5819\n",
      "Epoch [36/200] Batch 600/938 Loss D: 0.8532, Loss G: 1.7109\n",
      "image saved\n",
      "Epoch [36/200] Batch 800/938 Loss D: 0.9256, Loss G: 1.4039\n"
     ]
    },
    {
     "name": "stderr",
     "output_type": "stream",
     "text": [
      " 18%|█▊        | 36/200 [39:19<3:02:39, 66.83s/it]"
     ]
    },
    {
     "name": "stdout",
     "output_type": "stream",
     "text": [
      "Epoch [37/200] Batch 200/938 Loss D: 0.8563, Loss G: 1.9595\n",
      "image saved\n",
      "Epoch [37/200] Batch 400/938 Loss D: 0.8142, Loss G: 1.2672\n",
      "Epoch [37/200] Batch 600/938 Loss D: 1.1243, Loss G: 1.4759\n",
      "image saved\n",
      "Epoch [37/200] Batch 800/938 Loss D: 0.8681, Loss G: 2.0720\n"
     ]
    },
    {
     "name": "stderr",
     "output_type": "stream",
     "text": [
      " 18%|█▊        | 37/200 [40:25<3:00:52, 66.58s/it]"
     ]
    },
    {
     "name": "stdout",
     "output_type": "stream",
     "text": [
      "Epoch [38/200] Batch 200/938 Loss D: 0.8991, Loss G: 1.3470\n",
      "image saved\n",
      "Epoch [38/200] Batch 400/938 Loss D: 0.8675, Loss G: 2.1755\n",
      "Epoch [38/200] Batch 600/938 Loss D: 1.1865, Loss G: 1.5310\n",
      "image saved\n",
      "Epoch [38/200] Batch 800/938 Loss D: 1.0493, Loss G: 1.0565\n"
     ]
    },
    {
     "name": "stderr",
     "output_type": "stream",
     "text": [
      " 19%|█▉        | 38/200 [41:25<2:54:04, 64.47s/it]"
     ]
    },
    {
     "name": "stdout",
     "output_type": "stream",
     "text": [
      "Epoch [39/200] Batch 200/938 Loss D: 0.8582, Loss G: 1.3587\n",
      "image saved\n",
      "Epoch [39/200] Batch 400/938 Loss D: 0.7986, Loss G: 1.9248\n",
      "Epoch [39/200] Batch 600/938 Loss D: 0.9566, Loss G: 1.4364\n",
      "Epoch [39/200] Batch 800/938 Loss D: 0.8888, Loss G: 1.3852\n",
      "image saved\n"
     ]
    },
    {
     "name": "stderr",
     "output_type": "stream",
     "text": [
      " 20%|█▉        | 39/200 [42:28<2:51:45, 64.01s/it]"
     ]
    },
    {
     "name": "stdout",
     "output_type": "stream",
     "text": [
      "Epoch [40/200] Batch 200/938 Loss D: 0.8387, Loss G: 1.6454\n",
      "Epoch [40/200] Batch 400/938 Loss D: 1.0710, Loss G: 1.4111\n",
      "image saved\n",
      "Epoch [40/200] Batch 600/938 Loss D: 1.0134, Loss G: 1.4299\n",
      "Epoch [40/200] Batch 800/938 Loss D: 1.0298, Loss G: 1.9275\n",
      "image saved\n"
     ]
    },
    {
     "name": "stderr",
     "output_type": "stream",
     "text": [
      " 20%|██        | 40/200 [43:30<2:49:18, 63.49s/it]"
     ]
    },
    {
     "name": "stdout",
     "output_type": "stream",
     "text": [
      "Epoch [41/200] Batch 200/938 Loss D: 0.8247, Loss G: 1.4873\n",
      "Epoch [41/200] Batch 400/938 Loss D: 0.9622, Loss G: 1.5210\n",
      "image saved\n",
      "Epoch [41/200] Batch 600/938 Loss D: 1.0345, Loss G: 1.5962\n",
      "Epoch [41/200] Batch 800/938 Loss D: 0.8325, Loss G: 1.4280\n"
     ]
    },
    {
     "name": "stderr",
     "output_type": "stream",
     "text": [
      " 20%|██        | 41/200 [44:29<2:44:58, 62.26s/it]"
     ]
    },
    {
     "name": "stdout",
     "output_type": "stream",
     "text": [
      "image saved\n",
      "Epoch [42/200] Batch 200/938 Loss D: 1.0004, Loss G: 1.9282\n",
      "Epoch [42/200] Batch 400/938 Loss D: 0.7124, Loss G: 1.9976\n",
      "image saved\n",
      "Epoch [42/200] Batch 600/938 Loss D: 1.0088, Loss G: 1.4607\n",
      "Epoch [42/200] Batch 800/938 Loss D: 0.8499, Loss G: 1.1065\n"
     ]
    },
    {
     "name": "stderr",
     "output_type": "stream",
     "text": [
      " 21%|██        | 42/200 [45:27<2:40:08, 60.81s/it]"
     ]
    },
    {
     "name": "stdout",
     "output_type": "stream",
     "text": [
      "image saved\n",
      "Epoch [43/200] Batch 200/938 Loss D: 1.0457, Loss G: 1.8183\n",
      "Epoch [43/200] Batch 400/938 Loss D: 0.7748, Loss G: 1.7295\n",
      "Epoch [43/200] Batch 600/938 Loss D: 1.0253, Loss G: 1.2719\n",
      "image saved\n",
      "Epoch [43/200] Batch 800/938 Loss D: 0.9675, Loss G: 1.4996\n"
     ]
    },
    {
     "name": "stderr",
     "output_type": "stream",
     "text": [
      " 22%|██▏       | 43/200 [46:32<2:42:23, 62.06s/it]"
     ]
    },
    {
     "name": "stdout",
     "output_type": "stream",
     "text": [
      "image saved\n",
      "Epoch [44/200] Batch 200/938 Loss D: 0.8522, Loss G: 1.2998\n",
      "Epoch [44/200] Batch 400/938 Loss D: 0.9942, Loss G: 1.5792\n",
      "Epoch [44/200] Batch 600/938 Loss D: 1.0073, Loss G: 1.3558\n",
      "image saved\n",
      "Epoch [44/200] Batch 800/938 Loss D: 0.9607, Loss G: 1.5221\n"
     ]
    },
    {
     "name": "stderr",
     "output_type": "stream",
     "text": [
      " 22%|██▏       | 44/200 [48:05<3:05:11, 71.23s/it]"
     ]
    },
    {
     "name": "stdout",
     "output_type": "stream",
     "text": [
      "Epoch [45/200] Batch 200/938 Loss D: 0.8235, Loss G: 1.2770\n",
      "image saved\n",
      "Epoch [45/200] Batch 400/938 Loss D: 1.0555, Loss G: 1.4246\n",
      "Epoch [45/200] Batch 600/938 Loss D: 0.9643, Loss G: 1.6291\n",
      "image saved\n",
      "Epoch [45/200] Batch 800/938 Loss D: 1.0505, Loss G: 1.1722\n"
     ]
    },
    {
     "name": "stderr",
     "output_type": "stream",
     "text": [
      " 22%|██▎       | 45/200 [49:11<3:00:30, 69.88s/it]"
     ]
    },
    {
     "name": "stdout",
     "output_type": "stream",
     "text": [
      "Epoch [46/200] Batch 200/938 Loss D: 1.0356, Loss G: 1.2565\n",
      "image saved\n",
      "Epoch [46/200] Batch 400/938 Loss D: 0.9849, Loss G: 1.9190\n",
      "Epoch [46/200] Batch 600/938 Loss D: 1.0532, Loss G: 1.3079\n",
      "image saved\n",
      "Epoch [46/200] Batch 800/938 Loss D: 0.9576, Loss G: 1.5680\n"
     ]
    },
    {
     "name": "stderr",
     "output_type": "stream",
     "text": [
      " 23%|██▎       | 46/200 [50:19<2:58:01, 69.36s/it]"
     ]
    },
    {
     "name": "stdout",
     "output_type": "stream",
     "text": [
      "Epoch [47/200] Batch 200/938 Loss D: 1.1102, Loss G: 0.7769\n",
      "image saved\n",
      "Epoch [47/200] Batch 400/938 Loss D: 1.1035, Loss G: 1.7106\n",
      "Epoch [47/200] Batch 600/938 Loss D: 1.0071, Loss G: 1.1042\n",
      "Epoch [47/200] Batch 800/938 Loss D: 0.9851, Loss G: 1.1250\n",
      "image saved\n"
     ]
    },
    {
     "name": "stderr",
     "output_type": "stream",
     "text": [
      " 24%|██▎       | 47/200 [51:22<2:51:29, 67.25s/it]"
     ]
    },
    {
     "name": "stdout",
     "output_type": "stream",
     "text": [
      "Epoch [48/200] Batch 200/938 Loss D: 1.0699, Loss G: 1.3623\n",
      "Epoch [48/200] Batch 400/938 Loss D: 1.2061, Loss G: 1.2920\n",
      "image saved\n",
      "Epoch [48/200] Batch 600/938 Loss D: 1.3588, Loss G: 1.0839\n",
      "Epoch [48/200] Batch 800/938 Loss D: 0.9386, Loss G: 1.4662\n",
      "image saved\n"
     ]
    },
    {
     "name": "stderr",
     "output_type": "stream",
     "text": [
      " 24%|██▍       | 48/200 [52:24<2:46:50, 65.86s/it]"
     ]
    },
    {
     "name": "stdout",
     "output_type": "stream",
     "text": [
      "Epoch [49/200] Batch 200/938 Loss D: 1.0748, Loss G: 1.2416\n",
      "Epoch [49/200] Batch 400/938 Loss D: 1.0804, Loss G: 1.4022\n",
      "image saved\n",
      "Epoch [49/200] Batch 600/938 Loss D: 1.0275, Loss G: 1.3513\n",
      "Epoch [49/200] Batch 800/938 Loss D: 0.9262, Loss G: 1.3369\n"
     ]
    },
    {
     "name": "stderr",
     "output_type": "stream",
     "text": [
      " 24%|██▍       | 49/200 [53:22<2:39:16, 63.29s/it]"
     ]
    },
    {
     "name": "stdout",
     "output_type": "stream",
     "text": [
      "image saved\n",
      "Epoch [50/200] Batch 200/938 Loss D: 0.9628, Loss G: 1.2699\n",
      "Epoch [50/200] Batch 400/938 Loss D: 1.0931, Loss G: 1.6525\n",
      "image saved\n",
      "Epoch [50/200] Batch 600/938 Loss D: 1.2194, Loss G: 1.0899\n",
      "Epoch [50/200] Batch 800/938 Loss D: 1.0115, Loss G: 1.0948\n"
     ]
    },
    {
     "name": "stderr",
     "output_type": "stream",
     "text": [
      " 25%|██▌       | 50/200 [54:24<2:37:11, 62.87s/it]"
     ]
    },
    {
     "name": "stdout",
     "output_type": "stream",
     "text": [
      "image saved\n",
      "Epoch [51/200] Batch 200/938 Loss D: 0.9086, Loss G: 1.0907\n",
      "Epoch [51/200] Batch 400/938 Loss D: 1.2693, Loss G: 1.1384\n",
      "Epoch [51/200] Batch 600/938 Loss D: 0.9581, Loss G: 1.3479\n",
      "image saved\n",
      "Epoch [51/200] Batch 800/938 Loss D: 1.0918, Loss G: 1.4872\n"
     ]
    },
    {
     "name": "stderr",
     "output_type": "stream",
     "text": [
      " 26%|██▌       | 51/200 [55:27<2:36:44, 63.12s/it]"
     ]
    },
    {
     "name": "stdout",
     "output_type": "stream",
     "text": [
      "image saved\n",
      "Epoch [52/200] Batch 200/938 Loss D: 1.2987, Loss G: 1.4061\n",
      "Epoch [52/200] Batch 400/938 Loss D: 1.0520, Loss G: 1.0904\n",
      "Epoch [52/200] Batch 600/938 Loss D: 1.0675, Loss G: 1.2227\n",
      "image saved\n",
      "Epoch [52/200] Batch 800/938 Loss D: 1.1240, Loss G: 0.8494\n"
     ]
    },
    {
     "name": "stderr",
     "output_type": "stream",
     "text": [
      " 26%|██▌       | 52/200 [56:32<2:37:00, 63.65s/it]"
     ]
    },
    {
     "name": "stdout",
     "output_type": "stream",
     "text": [
      "Epoch [53/200] Batch 200/938 Loss D: 1.0294, Loss G: 1.3401\n",
      "image saved\n",
      "Epoch [53/200] Batch 400/938 Loss D: 1.0936, Loss G: 1.0182\n",
      "Epoch [53/200] Batch 600/938 Loss D: 1.0606, Loss G: 1.0695\n",
      "image saved\n",
      "Epoch [53/200] Batch 800/938 Loss D: 1.1638, Loss G: 1.4363\n"
     ]
    },
    {
     "name": "stderr",
     "output_type": "stream",
     "text": [
      " 26%|██▋       | 53/200 [57:37<2:36:32, 63.90s/it]"
     ]
    },
    {
     "name": "stdout",
     "output_type": "stream",
     "text": [
      "Epoch [54/200] Batch 200/938 Loss D: 1.0447, Loss G: 1.1665\n",
      "image saved\n",
      "Epoch [54/200] Batch 400/938 Loss D: 0.9787, Loss G: 1.6645\n",
      "Epoch [54/200] Batch 600/938 Loss D: 0.9367, Loss G: 1.4701\n",
      "image saved\n",
      "Epoch [54/200] Batch 800/938 Loss D: 1.1387, Loss G: 1.0644\n"
     ]
    },
    {
     "name": "stderr",
     "output_type": "stream",
     "text": [
      " 27%|██▋       | 54/200 [58:44<2:37:46, 64.84s/it]"
     ]
    },
    {
     "name": "stdout",
     "output_type": "stream",
     "text": [
      "Epoch [55/200] Batch 200/938 Loss D: 1.1225, Loss G: 1.2976\n",
      "image saved\n",
      "Epoch [55/200] Batch 400/938 Loss D: 1.0597, Loss G: 1.4388\n",
      "Epoch [55/200] Batch 600/938 Loss D: 1.0364, Loss G: 0.8484\n",
      "Epoch [55/200] Batch 800/938 Loss D: 1.0086, Loss G: 1.2810\n",
      "image saved\n"
     ]
    },
    {
     "name": "stderr",
     "output_type": "stream",
     "text": [
      " 28%|██▊       | 55/200 [59:47<2:35:16, 64.25s/it]"
     ]
    },
    {
     "name": "stdout",
     "output_type": "stream",
     "text": [
      "Epoch [56/200] Batch 200/938 Loss D: 1.1291, Loss G: 1.0432\n",
      "Epoch [56/200] Batch 400/938 Loss D: 0.9967, Loss G: 1.3246\n",
      "image saved\n",
      "Epoch [56/200] Batch 600/938 Loss D: 1.0383, Loss G: 1.0717\n",
      "Epoch [56/200] Batch 800/938 Loss D: 1.0740, Loss G: 1.4249\n",
      "image saved\n"
     ]
    },
    {
     "name": "stderr",
     "output_type": "stream",
     "text": [
      " 28%|██▊       | 56/200 [1:00:50<2:33:41, 64.04s/it]"
     ]
    },
    {
     "name": "stdout",
     "output_type": "stream",
     "text": [
      "Epoch [57/200] Batch 200/938 Loss D: 1.2042, Loss G: 1.2226\n",
      "Epoch [57/200] Batch 400/938 Loss D: 1.0050, Loss G: 1.2555\n",
      "image saved\n",
      "Epoch [57/200] Batch 600/938 Loss D: 1.1471, Loss G: 1.0175\n",
      "Epoch [57/200] Batch 800/938 Loss D: 1.0916, Loss G: 1.1295\n"
     ]
    },
    {
     "name": "stderr",
     "output_type": "stream",
     "text": [
      " 28%|██▊       | 57/200 [1:01:55<2:33:31, 64.41s/it]"
     ]
    },
    {
     "name": "stdout",
     "output_type": "stream",
     "text": [
      "image saved\n",
      "Epoch [58/200] Batch 200/938 Loss D: 1.2065, Loss G: 1.0392\n",
      "Epoch [58/200] Batch 400/938 Loss D: 1.1507, Loss G: 1.3366\n",
      "image saved\n",
      "Epoch [58/200] Batch 600/938 Loss D: 1.1124, Loss G: 1.2719\n",
      "Epoch [58/200] Batch 800/938 Loss D: 0.9349, Loss G: 1.6871\n"
     ]
    },
    {
     "name": "stderr",
     "output_type": "stream",
     "text": [
      " 29%|██▉       | 58/200 [1:03:01<2:33:24, 64.82s/it]"
     ]
    },
    {
     "name": "stdout",
     "output_type": "stream",
     "text": [
      "image saved\n",
      "Epoch [59/200] Batch 200/938 Loss D: 1.1088, Loss G: 1.0644\n",
      "Epoch [59/200] Batch 400/938 Loss D: 1.1227, Loss G: 1.2854\n",
      "image saved\n",
      "Epoch [59/200] Batch 600/938 Loss D: 1.0840, Loss G: 1.2564\n",
      "Epoch [59/200] Batch 800/938 Loss D: 1.0946, Loss G: 1.2129\n"
     ]
    },
    {
     "name": "stderr",
     "output_type": "stream",
     "text": [
      " 30%|██▉       | 59/200 [1:04:07<2:33:10, 65.18s/it]"
     ]
    },
    {
     "name": "stdout",
     "output_type": "stream",
     "text": [
      "image saved\n",
      "Epoch [60/200] Batch 200/938 Loss D: 1.1010, Loss G: 0.9186\n",
      "Epoch [60/200] Batch 400/938 Loss D: 1.0079, Loss G: 1.2722\n",
      "Epoch [60/200] Batch 600/938 Loss D: 1.1938, Loss G: 1.4579\n",
      "image saved\n",
      "Epoch [60/200] Batch 800/938 Loss D: 1.1966, Loss G: 0.9544\n"
     ]
    },
    {
     "name": "stderr",
     "output_type": "stream",
     "text": [
      " 30%|███       | 60/200 [1:05:15<2:33:55, 65.97s/it]"
     ]
    },
    {
     "name": "stdout",
     "output_type": "stream",
     "text": [
      "Epoch [61/200] Batch 200/938 Loss D: 0.9953, Loss G: 1.1168\n",
      "image saved\n",
      "Epoch [61/200] Batch 400/938 Loss D: 1.2089, Loss G: 1.1947\n",
      "Epoch [61/200] Batch 600/938 Loss D: 1.1578, Loss G: 1.3127\n",
      "image saved\n",
      "Epoch [61/200] Batch 800/938 Loss D: 1.1001, Loss G: 1.1294\n"
     ]
    },
    {
     "name": "stderr",
     "output_type": "stream",
     "text": [
      " 30%|███       | 61/200 [1:06:21<2:32:59, 66.04s/it]"
     ]
    },
    {
     "name": "stdout",
     "output_type": "stream",
     "text": [
      "Epoch [62/200] Batch 200/938 Loss D: 1.0211, Loss G: 1.0797\n",
      "image saved\n",
      "Epoch [62/200] Batch 400/938 Loss D: 1.0052, Loss G: 1.3143\n",
      "Epoch [62/200] Batch 600/938 Loss D: 1.2930, Loss G: 1.1914\n",
      "image saved\n",
      "Epoch [62/200] Batch 800/938 Loss D: 1.1005, Loss G: 1.1803\n"
     ]
    },
    {
     "name": "stderr",
     "output_type": "stream",
     "text": [
      " 31%|███       | 62/200 [1:07:26<2:31:18, 65.79s/it]"
     ]
    },
    {
     "name": "stdout",
     "output_type": "stream",
     "text": [
      "Epoch [63/200] Batch 200/938 Loss D: 1.1541, Loss G: 1.2165\n",
      "image saved\n",
      "Epoch [63/200] Batch 400/938 Loss D: 1.1034, Loss G: 1.2873\n",
      "Epoch [63/200] Batch 600/938 Loss D: 1.1120, Loss G: 1.2039\n",
      "Epoch [63/200] Batch 800/938 Loss D: 1.1449, Loss G: 1.6742\n",
      "image saved\n"
     ]
    },
    {
     "name": "stderr",
     "output_type": "stream",
     "text": [
      " 32%|███▏      | 63/200 [1:08:34<2:31:37, 66.41s/it]"
     ]
    },
    {
     "name": "stdout",
     "output_type": "stream",
     "text": [
      "Epoch [64/200] Batch 200/938 Loss D: 1.0640, Loss G: 1.2895\n",
      "Epoch [64/200] Batch 400/938 Loss D: 1.0377, Loss G: 1.0613\n",
      "image saved\n",
      "Epoch [64/200] Batch 600/938 Loss D: 1.0896, Loss G: 1.0225\n",
      "Epoch [64/200] Batch 800/938 Loss D: 1.0937, Loss G: 1.0963\n",
      "image saved\n"
     ]
    },
    {
     "name": "stderr",
     "output_type": "stream",
     "text": [
      " 32%|███▏      | 64/200 [1:09:37<2:27:47, 65.21s/it]"
     ]
    },
    {
     "name": "stdout",
     "output_type": "stream",
     "text": [
      "Epoch [65/200] Batch 200/938 Loss D: 0.9453, Loss G: 1.1522\n",
      "Epoch [65/200] Batch 400/938 Loss D: 0.9815, Loss G: 1.1898\n",
      "image saved\n",
      "Epoch [65/200] Batch 600/938 Loss D: 1.0772, Loss G: 1.5245\n",
      "Epoch [65/200] Batch 800/938 Loss D: 1.1389, Loss G: 1.0653\n"
     ]
    },
    {
     "name": "stderr",
     "output_type": "stream",
     "text": [
      " 32%|███▎      | 65/200 [1:10:43<2:27:40, 65.63s/it]"
     ]
    },
    {
     "name": "stdout",
     "output_type": "stream",
     "text": [
      "image saved\n",
      "Epoch [66/200] Batch 200/938 Loss D: 1.1288, Loss G: 0.9527\n",
      "Epoch [66/200] Batch 400/938 Loss D: 1.1348, Loss G: 1.4635\n",
      "image saved\n",
      "Epoch [66/200] Batch 600/938 Loss D: 1.1632, Loss G: 1.3202\n",
      "Epoch [66/200] Batch 800/938 Loss D: 1.1001, Loss G: 1.2545\n"
     ]
    },
    {
     "name": "stderr",
     "output_type": "stream",
     "text": [
      " 33%|███▎      | 66/200 [1:11:49<2:26:54, 65.78s/it]"
     ]
    },
    {
     "name": "stdout",
     "output_type": "stream",
     "text": [
      "image saved\n",
      "Epoch [67/200] Batch 200/938 Loss D: 0.9625, Loss G: 1.4938\n",
      "Epoch [67/200] Batch 400/938 Loss D: 1.2163, Loss G: 1.2392\n",
      "image saved\n",
      "Epoch [67/200] Batch 600/938 Loss D: 0.9801, Loss G: 1.6606\n",
      "Epoch [67/200] Batch 800/938 Loss D: 1.3492, Loss G: 1.1676\n"
     ]
    },
    {
     "name": "stderr",
     "output_type": "stream",
     "text": [
      " 34%|███▎      | 67/200 [1:12:59<2:28:20, 66.92s/it]"
     ]
    },
    {
     "name": "stdout",
     "output_type": "stream",
     "text": [
      "image saved\n",
      "Epoch [68/200] Batch 200/938 Loss D: 1.2438, Loss G: 0.9675\n",
      "Epoch [68/200] Batch 400/938 Loss D: 1.1116, Loss G: 1.1846\n",
      "Epoch [68/200] Batch 600/938 Loss D: 1.1155, Loss G: 1.4562\n",
      "image saved\n",
      "Epoch [68/200] Batch 800/938 Loss D: 1.2466, Loss G: 1.4923\n"
     ]
    },
    {
     "name": "stderr",
     "output_type": "stream",
     "text": [
      " 34%|███▍      | 68/200 [1:14:07<2:28:11, 67.36s/it]"
     ]
    },
    {
     "name": "stdout",
     "output_type": "stream",
     "text": [
      "Epoch [69/200] Batch 200/938 Loss D: 1.1263, Loss G: 1.2576\n",
      "image saved\n",
      "Epoch [69/200] Batch 400/938 Loss D: 1.1474, Loss G: 1.0542\n",
      "Epoch [69/200] Batch 600/938 Loss D: 1.0629, Loss G: 1.5783\n",
      "image saved\n",
      "Epoch [69/200] Batch 800/938 Loss D: 1.1426, Loss G: 1.4067\n"
     ]
    },
    {
     "name": "stderr",
     "output_type": "stream",
     "text": [
      " 34%|███▍      | 69/200 [1:15:09<2:23:40, 65.81s/it]"
     ]
    },
    {
     "name": "stdout",
     "output_type": "stream",
     "text": [
      "Epoch [70/200] Batch 200/938 Loss D: 1.1607, Loss G: 1.1340\n",
      "image saved\n",
      "Epoch [70/200] Batch 400/938 Loss D: 1.2400, Loss G: 1.2180\n",
      "Epoch [70/200] Batch 600/938 Loss D: 1.0675, Loss G: 1.2902\n",
      "image saved\n",
      "Epoch [70/200] Batch 800/938 Loss D: 1.1831, Loss G: 1.2589\n"
     ]
    },
    {
     "name": "stderr",
     "output_type": "stream",
     "text": [
      " 35%|███▌      | 70/200 [1:16:14<2:21:47, 65.44s/it]"
     ]
    },
    {
     "name": "stdout",
     "output_type": "stream",
     "text": [
      "Epoch [71/200] Batch 200/938 Loss D: 0.9739, Loss G: 1.3192\n",
      "image saved\n",
      "Epoch [71/200] Batch 400/938 Loss D: 1.2092, Loss G: 1.3015\n",
      "Epoch [71/200] Batch 600/938 Loss D: 1.1877, Loss G: 0.9858\n",
      "Epoch [71/200] Batch 800/938 Loss D: 1.1527, Loss G: 1.1922\n",
      "image saved\n"
     ]
    },
    {
     "name": "stderr",
     "output_type": "stream",
     "text": [
      " 36%|███▌      | 71/200 [1:17:19<2:20:24, 65.31s/it]"
     ]
    },
    {
     "name": "stdout",
     "output_type": "stream",
     "text": [
      "Epoch [72/200] Batch 200/938 Loss D: 1.1669, Loss G: 1.4710\n",
      "Epoch [72/200] Batch 400/938 Loss D: 0.9701, Loss G: 0.9677\n",
      "image saved\n",
      "Epoch [72/200] Batch 600/938 Loss D: 1.0892, Loss G: 1.3479\n",
      "Epoch [72/200] Batch 800/938 Loss D: 1.1305, Loss G: 1.0674\n",
      "image saved\n"
     ]
    },
    {
     "name": "stderr",
     "output_type": "stream",
     "text": [
      " 36%|███▌      | 72/200 [1:18:23<2:18:11, 64.78s/it]"
     ]
    },
    {
     "name": "stdout",
     "output_type": "stream",
     "text": [
      "Epoch [73/200] Batch 200/938 Loss D: 1.2101, Loss G: 0.9447\n",
      "Epoch [73/200] Batch 400/938 Loss D: 1.0849, Loss G: 0.9572\n",
      "image saved\n",
      "Epoch [73/200] Batch 600/938 Loss D: 1.1453, Loss G: 1.3097\n",
      "Epoch [73/200] Batch 800/938 Loss D: 1.0335, Loss G: 1.1693\n"
     ]
    },
    {
     "name": "stderr",
     "output_type": "stream",
     "text": [
      " 36%|███▋      | 73/200 [1:19:27<2:16:40, 64.57s/it]"
     ]
    },
    {
     "name": "stdout",
     "output_type": "stream",
     "text": [
      "image saved\n",
      "Epoch [74/200] Batch 200/938 Loss D: 1.2018, Loss G: 1.2783\n",
      "Epoch [74/200] Batch 400/938 Loss D: 1.0984, Loss G: 1.0294\n",
      "image saved\n",
      "Epoch [74/200] Batch 600/938 Loss D: 1.2534, Loss G: 1.3121\n",
      "Epoch [74/200] Batch 800/938 Loss D: 1.0830, Loss G: 1.2433\n"
     ]
    },
    {
     "name": "stderr",
     "output_type": "stream",
     "text": [
      " 37%|███▋      | 74/200 [1:20:32<2:16:21, 64.93s/it]"
     ]
    },
    {
     "name": "stdout",
     "output_type": "stream",
     "text": [
      "image saved\n",
      "Epoch [75/200] Batch 200/938 Loss D: 1.1793, Loss G: 1.2883\n",
      "Epoch [75/200] Batch 400/938 Loss D: 1.1938, Loss G: 0.9911\n",
      "image saved\n",
      "Epoch [75/200] Batch 600/938 Loss D: 1.1123, Loss G: 1.3200\n",
      "Epoch [75/200] Batch 800/938 Loss D: 1.1228, Loss G: 1.0738\n"
     ]
    },
    {
     "name": "stderr",
     "output_type": "stream",
     "text": [
      " 38%|███▊      | 75/200 [1:21:38<2:15:35, 65.09s/it]"
     ]
    },
    {
     "name": "stdout",
     "output_type": "stream",
     "text": [
      "image saved\n",
      "Epoch [76/200] Batch 200/938 Loss D: 1.0437, Loss G: 0.9357\n",
      "Epoch [76/200] Batch 400/938 Loss D: 1.1775, Loss G: 1.2107\n",
      "Epoch [76/200] Batch 600/938 Loss D: 1.0568, Loss G: 1.0750\n",
      "image saved\n",
      "Epoch [76/200] Batch 800/938 Loss D: 1.2660, Loss G: 1.1236\n"
     ]
    },
    {
     "name": "stderr",
     "output_type": "stream",
     "text": [
      " 38%|███▊      | 76/200 [1:22:46<2:16:10, 65.89s/it]"
     ]
    },
    {
     "name": "stdout",
     "output_type": "stream",
     "text": [
      "Epoch [77/200] Batch 200/938 Loss D: 1.0892, Loss G: 1.3579\n",
      "image saved\n",
      "Epoch [77/200] Batch 400/938 Loss D: 1.1649, Loss G: 1.3191\n",
      "Epoch [77/200] Batch 600/938 Loss D: 1.2086, Loss G: 1.0174\n",
      "image saved\n",
      "Epoch [77/200] Batch 800/938 Loss D: 1.0158, Loss G: 1.4492\n"
     ]
    },
    {
     "name": "stderr",
     "output_type": "stream",
     "text": [
      " 38%|███▊      | 77/200 [1:23:51<2:14:46, 65.74s/it]"
     ]
    },
    {
     "name": "stdout",
     "output_type": "stream",
     "text": [
      "Epoch [78/200] Batch 200/938 Loss D: 1.1161, Loss G: 1.1255\n",
      "image saved\n",
      "Epoch [78/200] Batch 400/938 Loss D: 1.2336, Loss G: 1.5233\n",
      "Epoch [78/200] Batch 600/938 Loss D: 1.1615, Loss G: 1.2395\n",
      "image saved\n",
      "Epoch [78/200] Batch 800/938 Loss D: 1.1793, Loss G: 0.9679\n"
     ]
    },
    {
     "name": "stderr",
     "output_type": "stream",
     "text": [
      " 39%|███▉      | 78/200 [1:24:54<2:12:03, 64.95s/it]"
     ]
    },
    {
     "name": "stdout",
     "output_type": "stream",
     "text": [
      "Epoch [79/200] Batch 200/938 Loss D: 1.1100, Loss G: 1.2853\n",
      "image saved\n",
      "Epoch [79/200] Batch 400/938 Loss D: 1.0499, Loss G: 1.0480\n",
      "Epoch [79/200] Batch 600/938 Loss D: 1.1692, Loss G: 1.3022\n",
      "Epoch [79/200] Batch 800/938 Loss D: 1.1070, Loss G: 0.9982\n",
      "image saved\n"
     ]
    },
    {
     "name": "stderr",
     "output_type": "stream",
     "text": [
      " 40%|███▉      | 79/200 [1:25:58<2:10:03, 64.49s/it]"
     ]
    },
    {
     "name": "stdout",
     "output_type": "stream",
     "text": [
      "Epoch [80/200] Batch 200/938 Loss D: 1.1024, Loss G: 0.9512\n",
      "image saved\n",
      "Epoch [80/200] Batch 400/938 Loss D: 1.0190, Loss G: 1.2755\n",
      "Epoch [80/200] Batch 600/938 Loss D: 1.1791, Loss G: 0.9656\n",
      "Epoch [80/200] Batch 800/938 Loss D: 1.2190, Loss G: 0.7745\n",
      "image saved\n"
     ]
    },
    {
     "name": "stderr",
     "output_type": "stream",
     "text": [
      " 40%|████      | 80/200 [1:27:00<2:07:55, 63.96s/it]"
     ]
    },
    {
     "name": "stdout",
     "output_type": "stream",
     "text": [
      "Epoch [81/200] Batch 200/938 Loss D: 1.2735, Loss G: 0.9393\n",
      "Epoch [81/200] Batch 400/938 Loss D: 1.0360, Loss G: 1.2561\n",
      "image saved\n",
      "Epoch [81/200] Batch 600/938 Loss D: 1.3021, Loss G: 1.0601\n",
      "Epoch [81/200] Batch 800/938 Loss D: 1.1559, Loss G: 1.0031\n"
     ]
    },
    {
     "name": "stderr",
     "output_type": "stream",
     "text": [
      " 40%|████      | 81/200 [1:28:04<2:06:58, 64.02s/it]"
     ]
    },
    {
     "name": "stdout",
     "output_type": "stream",
     "text": [
      "image saved\n",
      "Epoch [82/200] Batch 200/938 Loss D: 1.2854, Loss G: 1.1737\n",
      "Epoch [82/200] Batch 400/938 Loss D: 1.0655, Loss G: 1.2911\n",
      "image saved\n",
      "Epoch [82/200] Batch 600/938 Loss D: 1.0449, Loss G: 1.2611\n",
      "Epoch [82/200] Batch 800/938 Loss D: 1.1804, Loss G: 1.0818\n"
     ]
    },
    {
     "name": "stderr",
     "output_type": "stream",
     "text": [
      " 41%|████      | 82/200 [1:29:09<2:06:18, 64.22s/it]"
     ]
    },
    {
     "name": "stdout",
     "output_type": "stream",
     "text": [
      "image saved\n",
      "Epoch [83/200] Batch 200/938 Loss D: 1.2842, Loss G: 1.2743\n",
      "Epoch [83/200] Batch 400/938 Loss D: 1.1751, Loss G: 0.9177\n",
      "image saved\n",
      "Epoch [83/200] Batch 600/938 Loss D: 1.1129, Loss G: 1.2468\n",
      "Epoch [83/200] Batch 800/938 Loss D: 1.1369, Loss G: 0.9828\n"
     ]
    },
    {
     "name": "stderr",
     "output_type": "stream",
     "text": [
      " 42%|████▏     | 83/200 [1:30:15<2:06:10, 64.71s/it]"
     ]
    },
    {
     "name": "stdout",
     "output_type": "stream",
     "text": [
      "image saved\n",
      "Epoch [84/200] Batch 200/938 Loss D: 1.2414, Loss G: 1.1299\n",
      "Epoch [84/200] Batch 400/938 Loss D: 1.1335, Loss G: 1.0261\n",
      "Epoch [84/200] Batch 600/938 Loss D: 1.1550, Loss G: 1.0350\n",
      "image saved\n",
      "Epoch [84/200] Batch 800/938 Loss D: 1.1177, Loss G: 0.9518\n"
     ]
    },
    {
     "name": "stderr",
     "output_type": "stream",
     "text": [
      " 42%|████▏     | 84/200 [1:31:21<2:05:44, 65.04s/it]"
     ]
    },
    {
     "name": "stdout",
     "output_type": "stream",
     "text": [
      "Epoch [85/200] Batch 200/938 Loss D: 1.1269, Loss G: 0.8361\n",
      "image saved\n",
      "Epoch [85/200] Batch 400/938 Loss D: 1.1638, Loss G: 1.1298\n",
      "Epoch [85/200] Batch 600/938 Loss D: 1.2439, Loss G: 1.0700\n",
      "image saved\n",
      "Epoch [85/200] Batch 800/938 Loss D: 1.2643, Loss G: 1.1368\n"
     ]
    },
    {
     "name": "stderr",
     "output_type": "stream",
     "text": [
      " 42%|████▎     | 85/200 [1:32:18<1:59:53, 62.56s/it]"
     ]
    },
    {
     "name": "stdout",
     "output_type": "stream",
     "text": [
      "Epoch [86/200] Batch 200/938 Loss D: 1.2247, Loss G: 0.9964\n",
      "image saved\n",
      "Epoch [86/200] Batch 400/938 Loss D: 1.2272, Loss G: 1.1347\n",
      "Epoch [86/200] Batch 600/938 Loss D: 1.2870, Loss G: 0.7304\n",
      "image saved\n",
      "Epoch [86/200] Batch 800/938 Loss D: 1.2417, Loss G: 1.0719\n"
     ]
    },
    {
     "name": "stderr",
     "output_type": "stream",
     "text": [
      " 43%|████▎     | 86/200 [1:33:17<1:57:01, 61.59s/it]"
     ]
    },
    {
     "name": "stdout",
     "output_type": "stream",
     "text": [
      "Epoch [87/200] Batch 200/938 Loss D: 1.3197, Loss G: 1.1474\n",
      "image saved\n",
      "Epoch [87/200] Batch 400/938 Loss D: 1.1162, Loss G: 1.1217\n",
      "Epoch [87/200] Batch 600/938 Loss D: 1.3014, Loss G: 0.9351\n",
      "Epoch [87/200] Batch 800/938 Loss D: 1.1280, Loss G: 1.3668\n",
      "image saved\n"
     ]
    },
    {
     "name": "stderr",
     "output_type": "stream",
     "text": [
      " 44%|████▎     | 87/200 [1:34:19<1:56:26, 61.83s/it]"
     ]
    },
    {
     "name": "stdout",
     "output_type": "stream",
     "text": [
      "Epoch [88/200] Batch 200/938 Loss D: 1.1957, Loss G: 1.1056\n",
      "image saved\n",
      "Epoch [88/200] Batch 400/938 Loss D: 1.0668, Loss G: 1.1291\n",
      "Epoch [88/200] Batch 600/938 Loss D: 1.2398, Loss G: 1.0831\n",
      "Epoch [88/200] Batch 800/938 Loss D: 1.0672, Loss G: 0.9300\n",
      "image saved\n"
     ]
    },
    {
     "name": "stderr",
     "output_type": "stream",
     "text": [
      " 44%|████▍     | 88/200 [1:35:20<1:54:54, 61.55s/it]"
     ]
    },
    {
     "name": "stdout",
     "output_type": "stream",
     "text": [
      "Epoch [89/200] Batch 200/938 Loss D: 1.0893, Loss G: 1.2285\n",
      "Epoch [89/200] Batch 400/938 Loss D: 1.3011, Loss G: 1.0911\n",
      "image saved\n",
      "Epoch [89/200] Batch 600/938 Loss D: 1.1524, Loss G: 1.3988\n",
      "Epoch [89/200] Batch 800/938 Loss D: 1.1030, Loss G: 1.0423\n"
     ]
    },
    {
     "name": "stderr",
     "output_type": "stream",
     "text": [
      " 44%|████▍     | 89/200 [1:36:24<1:54:58, 62.15s/it]"
     ]
    },
    {
     "name": "stdout",
     "output_type": "stream",
     "text": [
      "image saved\n",
      "Epoch [90/200] Batch 200/938 Loss D: 1.1465, Loss G: 0.9777\n",
      "Epoch [90/200] Batch 400/938 Loss D: 1.0867, Loss G: 1.2453\n",
      "image saved\n",
      "Epoch [90/200] Batch 600/938 Loss D: 1.2123, Loss G: 1.0564\n",
      "Epoch [90/200] Batch 800/938 Loss D: 1.3347, Loss G: 1.1617\n"
     ]
    },
    {
     "name": "stderr",
     "output_type": "stream",
     "text": [
      " 45%|████▌     | 90/200 [1:37:27<1:54:45, 62.59s/it]"
     ]
    },
    {
     "name": "stdout",
     "output_type": "stream",
     "text": [
      "image saved\n",
      "Epoch [91/200] Batch 200/938 Loss D: 1.3466, Loss G: 0.8707\n",
      "Epoch [91/200] Batch 400/938 Loss D: 1.1486, Loss G: 1.0232\n",
      "image saved\n",
      "Epoch [91/200] Batch 600/938 Loss D: 1.2341, Loss G: 1.5279\n",
      "Epoch [91/200] Batch 800/938 Loss D: 1.2528, Loss G: 1.1464\n"
     ]
    },
    {
     "name": "stderr",
     "output_type": "stream",
     "text": [
      " 46%|████▌     | 91/200 [1:38:30<1:53:56, 62.72s/it]"
     ]
    },
    {
     "name": "stdout",
     "output_type": "stream",
     "text": [
      "image saved\n",
      "Epoch [92/200] Batch 200/938 Loss D: 1.3043, Loss G: 1.1640\n",
      "Epoch [92/200] Batch 400/938 Loss D: 1.1096, Loss G: 1.1068\n",
      "Epoch [92/200] Batch 600/938 Loss D: 1.2889, Loss G: 0.9487\n",
      "image saved\n",
      "Epoch [92/200] Batch 800/938 Loss D: 1.2247, Loss G: 0.9668\n"
     ]
    },
    {
     "name": "stderr",
     "output_type": "stream",
     "text": [
      " 46%|████▌     | 92/200 [1:39:33<1:52:47, 62.66s/it]"
     ]
    },
    {
     "name": "stdout",
     "output_type": "stream",
     "text": [
      "Epoch [93/200] Batch 200/938 Loss D: 1.2317, Loss G: 0.9847\n",
      "image saved\n",
      "Epoch [93/200] Batch 400/938 Loss D: 1.2039, Loss G: 0.8063\n",
      "Epoch [93/200] Batch 600/938 Loss D: 1.1486, Loss G: 0.9947\n",
      "image saved\n",
      "Epoch [93/200] Batch 800/938 Loss D: 1.1489, Loss G: 0.8612\n"
     ]
    },
    {
     "name": "stderr",
     "output_type": "stream",
     "text": [
      " 46%|████▋     | 93/200 [1:40:37<1:52:16, 62.96s/it]"
     ]
    },
    {
     "name": "stdout",
     "output_type": "stream",
     "text": [
      "Epoch [94/200] Batch 200/938 Loss D: 1.0922, Loss G: 1.0333\n",
      "image saved\n",
      "Epoch [94/200] Batch 400/938 Loss D: 1.1787, Loss G: 1.0577\n",
      "Epoch [94/200] Batch 600/938 Loss D: 1.1414, Loss G: 0.9046\n",
      "image saved\n",
      "Epoch [94/200] Batch 800/938 Loss D: 1.1102, Loss G: 1.1117\n"
     ]
    },
    {
     "name": "stderr",
     "output_type": "stream",
     "text": [
      " 47%|████▋     | 94/200 [1:41:41<1:51:54, 63.35s/it]"
     ]
    },
    {
     "name": "stdout",
     "output_type": "stream",
     "text": [
      "Epoch [95/200] Batch 200/938 Loss D: 1.1330, Loss G: 1.2597\n",
      "image saved\n",
      "Epoch [95/200] Batch 400/938 Loss D: 1.1752, Loss G: 0.9691\n",
      "Epoch [95/200] Batch 600/938 Loss D: 1.2500, Loss G: 0.9825\n",
      "Epoch [95/200] Batch 800/938 Loss D: 1.0844, Loss G: 1.1025\n",
      "image saved\n"
     ]
    },
    {
     "name": "stderr",
     "output_type": "stream",
     "text": [
      " 48%|████▊     | 95/200 [1:42:44<1:50:55, 63.39s/it]"
     ]
    },
    {
     "name": "stdout",
     "output_type": "stream",
     "text": [
      "Epoch [96/200] Batch 200/938 Loss D: 1.1133, Loss G: 1.1785\n",
      "image saved\n",
      "Epoch [96/200] Batch 400/938 Loss D: 1.2234, Loss G: 1.0182\n",
      "Epoch [96/200] Batch 800/938 Loss D: 1.2487, Loss G: 1.1405\n",
      "image saved\n"
     ]
    },
    {
     "name": "stderr",
     "output_type": "stream",
     "text": [
      " 48%|████▊     | 96/200 [1:43:46<1:49:11, 62.99s/it]"
     ]
    },
    {
     "name": "stdout",
     "output_type": "stream",
     "text": [
      "Epoch [97/200] Batch 200/938 Loss D: 1.2531, Loss G: 0.9690\n",
      "Epoch [97/200] Batch 600/938 Loss D: 1.1626, Loss G: 0.9743\n",
      "Epoch [97/200] Batch 800/938 Loss D: 1.0956, Loss G: 1.2160\n"
     ]
    },
    {
     "name": "stderr",
     "output_type": "stream",
     "text": [
      " 48%|████▊     | 97/200 [1:44:48<1:47:28, 62.61s/it]"
     ]
    },
    {
     "name": "stdout",
     "output_type": "stream",
     "text": [
      "image saved\n",
      "Epoch [98/200] Batch 200/938 Loss D: 1.2260, Loss G: 1.0212\n",
      "Epoch [98/200] Batch 400/938 Loss D: 1.2124, Loss G: 0.9481\n",
      "image saved\n",
      "Epoch [98/200] Batch 600/938 Loss D: 1.2242, Loss G: 1.0610\n",
      "Epoch [98/200] Batch 800/938 Loss D: 1.1786, Loss G: 0.9846\n"
     ]
    },
    {
     "name": "stderr",
     "output_type": "stream",
     "text": [
      " 49%|████▉     | 98/200 [1:45:51<1:46:32, 62.67s/it]"
     ]
    },
    {
     "name": "stdout",
     "output_type": "stream",
     "text": [
      "image saved\n",
      "image saved\n",
      "Epoch [99/200] Batch 600/938 Loss D: 1.1365, Loss G: 1.3226\n",
      "Epoch [99/200] Batch 800/938 Loss D: 1.0457, Loss G: 1.5770\n",
      "image saved\n",
      "Epoch [100/200] Batch 200/938 Loss D: 1.1088, Loss G: 1.0350\n",
      "Epoch [100/200] Batch 400/938 Loss D: 1.1376, Loss G: 1.0175\n",
      "Epoch [100/200] Batch 600/938 Loss D: 1.1244, Loss G: 1.3252\n",
      "image saved\n",
      "Epoch [100/200] Batch 800/938 Loss D: 1.3011, Loss G: 0.9080\n"
     ]
    },
    {
     "name": "stderr",
     "output_type": "stream",
     "text": [
      " 50%|█████     | 100/200 [1:48:00<1:45:48, 63.49s/it]"
     ]
    },
    {
     "name": "stdout",
     "output_type": "stream",
     "text": [
      "Epoch [101/200] Batch 200/938 Loss D: 1.0834, Loss G: 0.9791\n",
      "image saved\n",
      "Epoch [101/200] Batch 600/938 Loss D: 1.3158, Loss G: 0.8929\n",
      "image saved\n",
      "Epoch [101/200] Batch 800/938 Loss D: 1.1632, Loss G: 1.2350\n"
     ]
    },
    {
     "name": "stderr",
     "output_type": "stream",
     "text": [
      " 50%|█████     | 101/200 [1:49:12<1:49:08, 66.14s/it]"
     ]
    },
    {
     "name": "stdout",
     "output_type": "stream",
     "text": [
      "Epoch [102/200] Batch 200/938 Loss D: 1.1643, Loss G: 0.9386\n",
      "image saved\n",
      "Epoch [102/200] Batch 400/938 Loss D: 1.2090, Loss G: 1.0890\n",
      "Epoch [102/200] Batch 600/938 Loss D: 1.0747, Loss G: 1.3446\n",
      "image saved\n",
      "Epoch [102/200] Batch 800/938 Loss D: 1.1654, Loss G: 0.8658\n"
     ]
    },
    {
     "name": "stderr",
     "output_type": "stream",
     "text": [
      " 51%|█████     | 102/200 [1:50:19<1:48:24, 66.37s/it]"
     ]
    },
    {
     "name": "stdout",
     "output_type": "stream",
     "text": [
      "Epoch [103/200] Batch 200/938 Loss D: 1.1620, Loss G: 1.1701\n",
      "image saved\n",
      "Epoch [103/200] Batch 400/938 Loss D: 1.1957, Loss G: 1.2966\n",
      "Epoch [103/200] Batch 600/938 Loss D: 1.1957, Loss G: 0.9047\n",
      "Epoch [103/200] Batch 800/938 Loss D: 0.9647, Loss G: 0.9674\n",
      "image saved\n"
     ]
    },
    {
     "name": "stderr",
     "output_type": "stream",
     "text": [
      " 52%|█████▏    | 103/200 [1:51:23<1:46:20, 65.78s/it]"
     ]
    },
    {
     "name": "stdout",
     "output_type": "stream",
     "text": [
      "Epoch [104/200] Batch 200/938 Loss D: 1.1353, Loss G: 1.1604\n",
      "image saved\n",
      "Epoch [104/200] Batch 400/938 Loss D: 1.2126, Loss G: 0.9211\n",
      "Epoch [104/200] Batch 800/938 Loss D: 1.1928, Loss G: 1.2208\n",
      "image saved\n"
     ]
    },
    {
     "name": "stderr",
     "output_type": "stream",
     "text": [
      " 52%|█████▏    | 104/200 [1:52:30<1:45:31, 65.95s/it]"
     ]
    },
    {
     "name": "stdout",
     "output_type": "stream",
     "text": [
      "Epoch [105/200] Batch 200/938 Loss D: 1.2114, Loss G: 0.8848\n",
      "Epoch [105/200] Batch 600/938 Loss D: 1.2708, Loss G: 0.8385\n",
      "Epoch [105/200] Batch 800/938 Loss D: 1.1703, Loss G: 1.1467\n"
     ]
    },
    {
     "name": "stderr",
     "output_type": "stream",
     "text": [
      " 52%|█████▎    | 105/200 [1:53:36<1:44:28, 65.98s/it]"
     ]
    },
    {
     "name": "stdout",
     "output_type": "stream",
     "text": [
      "image saved\n",
      "Epoch [106/200] Batch 200/938 Loss D: 1.0727, Loss G: 0.9422\n",
      "Epoch [106/200] Batch 400/938 Loss D: 1.2164, Loss G: 1.2584\n",
      "image saved\n",
      "Epoch [106/200] Batch 600/938 Loss D: 1.2030, Loss G: 1.0768\n",
      "Epoch [106/200] Batch 800/938 Loss D: 1.0743, Loss G: 1.0888\n"
     ]
    },
    {
     "name": "stderr",
     "output_type": "stream",
     "text": [
      " 53%|█████▎    | 106/200 [1:54:42<1:43:33, 66.10s/it]"
     ]
    },
    {
     "name": "stdout",
     "output_type": "stream",
     "text": [
      "image saved\n",
      "Epoch [107/200] Batch 200/938 Loss D: 1.1713, Loss G: 1.1375\n",
      "Epoch [107/200] Batch 400/938 Loss D: 1.2057, Loss G: 1.1507\n",
      "image saved\n",
      "Epoch [107/200] Batch 600/938 Loss D: 1.4286, Loss G: 1.3594\n",
      "Epoch [107/200] Batch 800/938 Loss D: 1.1149, Loss G: 1.0115\n"
     ]
    },
    {
     "name": "stderr",
     "output_type": "stream",
     "text": [
      " 54%|█████▎    | 107/200 [1:55:49<1:42:47, 66.32s/it]"
     ]
    },
    {
     "name": "stdout",
     "output_type": "stream",
     "text": [
      "image saved\n",
      "Epoch [108/200] Batch 200/938 Loss D: 1.1198, Loss G: 1.0072\n",
      "Epoch [108/200] Batch 600/938 Loss D: 1.1313, Loss G: 1.1282\n",
      "image saved\n",
      "Epoch [108/200] Batch 800/938 Loss D: 1.1184, Loss G: 1.1130\n",
      "Epoch [109/200] Batch 400/938 Loss D: 1.3609, Loss G: 0.8373\n",
      "Epoch [109/200] Batch 600/938 Loss D: 1.1954, Loss G: 1.1739\n"
     ]
    },
    {
     "name": "stderr",
     "output_type": "stream",
     "text": [
      " 55%|█████▍    | 109/200 [1:57:59<1:39:50, 65.83s/it]"
     ]
    },
    {
     "name": "stdout",
     "output_type": "stream",
     "text": [
      "Epoch [110/200] Batch 200/938 Loss D: 1.0601, Loss G: 1.1296\n",
      "image saved\n",
      "Epoch [110/200] Batch 400/938 Loss D: 1.1407, Loss G: 1.0461\n",
      "Epoch [110/200] Batch 600/938 Loss D: 1.1842, Loss G: 1.1649\n",
      "image saved\n",
      "Epoch [110/200] Batch 800/938 Loss D: 1.3073, Loss G: 0.9648\n"
     ]
    },
    {
     "name": "stderr",
     "output_type": "stream",
     "text": [
      " 55%|█████▌    | 110/200 [1:59:06<1:38:56, 65.96s/it]"
     ]
    },
    {
     "name": "stdout",
     "output_type": "stream",
     "text": [
      "Epoch [111/200] Batch 200/938 Loss D: 1.0048, Loss G: 0.9822\n",
      "image saved\n",
      "Epoch [111/200] Batch 400/938 Loss D: 1.1939, Loss G: 1.2202\n",
      "Epoch [111/200] Batch 800/938 Loss D: 1.2809, Loss G: 0.8737\n",
      "image saved\n"
     ]
    },
    {
     "name": "stderr",
     "output_type": "stream",
     "text": [
      " 56%|█████▌    | 111/200 [2:00:16<1:39:37, 67.17s/it]"
     ]
    },
    {
     "name": "stdout",
     "output_type": "stream",
     "text": [
      "Epoch [112/200] Batch 600/938 Loss D: 1.1633, Loss G: 0.9317\n",
      "Epoch [112/200] Batch 800/938 Loss D: 1.2816, Loss G: 0.8618\n",
      "Epoch [113/200] Batch 200/938 Loss D: 1.0375, Loss G: 0.9695\n",
      "Epoch [113/200] Batch 400/938 Loss D: 1.1647, Loss G: 1.1349\n",
      "image saved\n",
      "Epoch [113/200] Batch 600/938 Loss D: 1.1518, Loss G: 0.9061\n",
      "Epoch [113/200] Batch 800/938 Loss D: 1.1518, Loss G: 1.3738\n"
     ]
    },
    {
     "name": "stderr",
     "output_type": "stream",
     "text": [
      " 56%|█████▋    | 113/200 [2:02:37<1:40:04, 69.01s/it]"
     ]
    },
    {
     "name": "stdout",
     "output_type": "stream",
     "text": [
      "image saved\n",
      "Epoch [114/200] Batch 200/938 Loss D: 1.1289, Loss G: 1.2637\n",
      "Epoch [114/200] Batch 400/938 Loss D: 1.2227, Loss G: 0.9700\n",
      "Epoch [114/200] Batch 800/938 Loss D: 1.2937, Loss G: 1.1086\n"
     ]
    },
    {
     "name": "stderr",
     "output_type": "stream",
     "text": [
      " 57%|█████▋    | 114/200 [2:03:55<1:42:33, 71.55s/it]"
     ]
    },
    {
     "name": "stdout",
     "output_type": "stream",
     "text": [
      "image saved\n",
      "Epoch [115/200] Batch 200/938 Loss D: 1.2269, Loss G: 0.9885\n",
      "Epoch [115/200] Batch 400/938 Loss D: 1.1706, Loss G: 0.9701\n",
      "image saved\n",
      "Epoch [115/200] Batch 600/938 Loss D: 1.3114, Loss G: 0.8831\n",
      "Epoch [115/200] Batch 800/938 Loss D: 1.2944, Loss G: 0.8452\n"
     ]
    },
    {
     "name": "stderr",
     "output_type": "stream",
     "text": [
      " 57%|█████▊    | 115/200 [2:05:54<2:01:30, 85.77s/it]"
     ]
    },
    {
     "name": "stdout",
     "output_type": "stream",
     "text": [
      "image saved\n",
      "Epoch [116/200] Batch 200/938 Loss D: 1.3060, Loss G: 0.9863\n",
      "Epoch [116/200] Batch 600/938 Loss D: 1.2060, Loss G: 1.2991\n",
      "image saved\n",
      "Epoch [116/200] Batch 800/938 Loss D: 1.2925, Loss G: 1.0796\n"
     ]
    },
    {
     "name": "stderr",
     "output_type": "stream",
     "text": [
      " 58%|█████▊    | 116/200 [2:07:04<1:53:29, 81.06s/it]"
     ]
    },
    {
     "name": "stdout",
     "output_type": "stream",
     "text": [
      "image saved\n",
      "Epoch [117/200] Batch 200/938 Loss D: 1.1480, Loss G: 0.9953\n",
      "Epoch [117/200] Batch 400/938 Loss D: 1.1426, Loss G: 1.0383\n",
      "Epoch [117/200] Batch 600/938 Loss D: 1.1368, Loss G: 1.1107\n",
      "image saved\n",
      "Epoch [117/200] Batch 800/938 Loss D: 1.2320, Loss G: 1.0677\n",
      "Epoch [118/200] Batch 600/938 Loss D: 1.1716, Loss G: 1.0965\n"
     ]
    },
    {
     "name": "stderr",
     "output_type": "stream",
     "text": [
      " 59%|█████▉    | 118/200 [2:09:26<1:43:43, 75.90s/it]"
     ]
    },
    {
     "name": "stdout",
     "output_type": "stream",
     "text": [
      "Epoch [119/200] Batch 200/938 Loss D: 1.1132, Loss G: 0.8594\n",
      "image saved\n",
      "Epoch [119/200] Batch 400/938 Loss D: 1.1105, Loss G: 1.3525\n",
      "Epoch [119/200] Batch 600/938 Loss D: 1.1816, Loss G: 1.0677\n",
      "Epoch [119/200] Batch 800/938 Loss D: 0.9602, Loss G: 1.1675\n",
      "image saved\n"
     ]
    },
    {
     "name": "stderr",
     "output_type": "stream",
     "text": [
      " 60%|█████▉    | 119/200 [2:10:33<1:38:55, 73.28s/it]"
     ]
    },
    {
     "name": "stdout",
     "output_type": "stream",
     "text": [
      "Epoch [120/200] Batch 200/938 Loss D: 1.2173, Loss G: 0.8971\n",
      "image saved\n",
      "Epoch [120/200] Batch 400/938 Loss D: 1.2085, Loss G: 1.1649\n",
      "image saved\n"
     ]
    },
    {
     "name": "stderr",
     "output_type": "stream",
     "text": [
      " 60%|██████    | 120/200 [2:11:35<1:33:15, 69.94s/it]"
     ]
    },
    {
     "name": "stdout",
     "output_type": "stream",
     "text": [
      "Epoch [121/200] Batch 200/938 Loss D: 1.2465, Loss G: 0.7922\n",
      "Epoch [121/200] Batch 600/938 Loss D: 1.1895, Loss G: 0.9770\n",
      "Epoch [121/200] Batch 800/938 Loss D: 1.1401, Loss G: 0.9942\n"
     ]
    },
    {
     "name": "stderr",
     "output_type": "stream",
     "text": [
      " 60%|██████    | 121/200 [2:12:36<1:28:27, 67.18s/it]"
     ]
    },
    {
     "name": "stdout",
     "output_type": "stream",
     "text": [
      "image saved\n",
      "Epoch [122/200] Batch 400/938 Loss D: 1.1078, Loss G: 1.0686\n",
      "image saved\n",
      "Epoch [122/200] Batch 600/938 Loss D: 1.1064, Loss G: 0.8126\n",
      "Epoch [122/200] Batch 800/938 Loss D: 1.2097, Loss G: 0.6914\n",
      "Epoch [123/200] Batch 400/938 Loss D: 1.3238, Loss G: 1.2236\n",
      "image saved\n",
      "Epoch [123/200] Batch 600/938 Loss D: 1.2251, Loss G: 0.9549\n",
      "Epoch [123/200] Batch 800/938 Loss D: 1.1648, Loss G: 1.1772\n"
     ]
    },
    {
     "name": "stderr",
     "output_type": "stream",
     "text": [
      " 62%|██████▏   | 123/200 [2:14:40<1:23:06, 64.76s/it]"
     ]
    },
    {
     "name": "stdout",
     "output_type": "stream",
     "text": [
      "image saved\n",
      "Epoch [124/200] Batch 200/938 Loss D: 0.9770, Loss G: 1.1641\n",
      "Epoch [124/200] Batch 400/938 Loss D: 1.1686, Loss G: 0.9199\n",
      "Epoch [124/200] Batch 600/938 Loss D: 1.2215, Loss G: 1.4496\n",
      "image saved\n"
     ]
    },
    {
     "name": "stderr",
     "output_type": "stream",
     "text": [
      " 62%|██████▏   | 124/200 [2:15:43<1:21:24, 64.27s/it]"
     ]
    },
    {
     "name": "stdout",
     "output_type": "stream",
     "text": [
      "image saved\n",
      "Epoch [125/200] Batch 200/938 Loss D: 1.2132, Loss G: 0.9489\n",
      "Epoch [125/200] Batch 400/938 Loss D: 1.2612, Loss G: 1.1641\n",
      "Epoch [125/200] Batch 800/938 Loss D: 1.2573, Loss G: 1.2990\n"
     ]
    },
    {
     "name": "stderr",
     "output_type": "stream",
     "text": [
      " 62%|██████▎   | 125/200 [2:16:46<1:20:03, 64.05s/it]"
     ]
    },
    {
     "name": "stdout",
     "output_type": "stream",
     "text": [
      "Epoch [126/200] Batch 200/938 Loss D: 1.1620, Loss G: 1.1853\n",
      "image saved\n",
      "Epoch [126/200] Batch 600/938 Loss D: 1.2214, Loss G: 0.9961\n",
      "image saved\n",
      "Epoch [126/200] Batch 800/938 Loss D: 1.3519, Loss G: 0.9881\n"
     ]
    },
    {
     "name": "stderr",
     "output_type": "stream",
     "text": [
      " 63%|██████▎   | 126/200 [2:17:50<1:18:48, 63.90s/it]"
     ]
    },
    {
     "name": "stdout",
     "output_type": "stream",
     "text": [
      "Epoch [127/200] Batch 200/938 Loss D: 1.1686, Loss G: 0.9328\n",
      "image saved\n",
      "Epoch [127/200] Batch 400/938 Loss D: 1.1430, Loss G: 1.1966\n",
      "Epoch [127/200] Batch 600/938 Loss D: 1.1642, Loss G: 1.3378\n",
      "Epoch [127/200] Batch 800/938 Loss D: 1.1941, Loss G: 0.8512\n",
      "image saved\n"
     ]
    },
    {
     "name": "stderr",
     "output_type": "stream",
     "text": [
      " 64%|██████▎   | 127/200 [2:18:54<1:17:43, 63.89s/it]"
     ]
    },
    {
     "name": "stdout",
     "output_type": "stream",
     "text": [
      "Epoch [128/200] Batch 200/938 Loss D: 1.2352, Loss G: 1.1949\n",
      "Epoch [128/200] Batch 600/938 Loss D: 1.2036, Loss G: 0.7505\n",
      "Epoch [128/200] Batch 800/938 Loss D: 1.2391, Loss G: 1.1319\n",
      "image saved\n"
     ]
    },
    {
     "name": "stderr",
     "output_type": "stream",
     "text": [
      " 64%|██████▍   | 128/200 [2:20:03<1:18:33, 65.47s/it]"
     ]
    },
    {
     "name": "stdout",
     "output_type": "stream",
     "text": [
      "Epoch [129/200] Batch 200/938 Loss D: 1.1629, Loss G: 1.1657\n",
      "Epoch [129/200] Batch 400/938 Loss D: 1.3350, Loss G: 0.8036\n",
      "image saved\n",
      "Epoch [129/200] Batch 600/938 Loss D: 1.2033, Loss G: 1.1454\n",
      "Epoch [129/200] Batch 800/938 Loss D: 1.2878, Loss G: 0.8708\n"
     ]
    },
    {
     "name": "stderr",
     "output_type": "stream",
     "text": [
      " 64%|██████▍   | 129/200 [2:21:05<1:16:13, 64.41s/it]"
     ]
    },
    {
     "name": "stdout",
     "output_type": "stream",
     "text": [
      "image saved\n",
      "Epoch [130/200] Batch 200/938 Loss D: 1.1914, Loss G: 1.1313\n",
      "Epoch [130/200] Batch 400/938 Loss D: 1.2582, Loss G: 1.3511\n",
      "image saved\n",
      "Epoch [130/200] Batch 600/938 Loss D: 1.3588, Loss G: 1.2315\n",
      "Epoch [130/200] Batch 800/938 Loss D: 1.2923, Loss G: 1.0293\n"
     ]
    },
    {
     "name": "stderr",
     "output_type": "stream",
     "text": [
      " 65%|██████▌   | 130/200 [2:22:08<1:14:32, 63.89s/it]"
     ]
    },
    {
     "name": "stdout",
     "output_type": "stream",
     "text": [
      "image saved\n",
      "Epoch [131/200] Batch 200/938 Loss D: 1.1937, Loss G: 0.9637\n",
      "Epoch [131/200] Batch 400/938 Loss D: 1.3038, Loss G: 0.9145\n",
      "image saved\n",
      "Epoch [131/200] Batch 600/938 Loss D: 1.1701, Loss G: 1.1488\n",
      "Epoch [131/200] Batch 800/938 Loss D: 1.2763, Loss G: 0.9934\n"
     ]
    },
    {
     "name": "stderr",
     "output_type": "stream",
     "text": [
      " 66%|██████▌   | 131/200 [2:23:10<1:12:59, 63.48s/it]"
     ]
    },
    {
     "name": "stdout",
     "output_type": "stream",
     "text": [
      "image saved\n",
      "Epoch [132/200] Batch 200/938 Loss D: 1.1157, Loss G: 0.9288\n",
      "Epoch [132/200] Batch 400/938 Loss D: 1.0576, Loss G: 0.9890\n",
      "Epoch [132/200] Batch 600/938 Loss D: 1.1405, Loss G: 1.0025\n",
      "image saved\n",
      "Epoch [132/200] Batch 800/938 Loss D: 1.1765, Loss G: 0.9924\n"
     ]
    },
    {
     "name": "stderr",
     "output_type": "stream",
     "text": [
      " 66%|██████▌   | 132/200 [2:24:14<1:12:01, 63.54s/it]"
     ]
    },
    {
     "name": "stdout",
     "output_type": "stream",
     "text": [
      "image saved\n",
      "Epoch [133/200] Batch 200/938 Loss D: 1.1838, Loss G: 1.1740\n",
      "Epoch [133/200] Batch 400/938 Loss D: 1.2419, Loss G: 0.9662\n",
      "Epoch [133/200] Batch 600/938 Loss D: 1.1656, Loss G: 1.0643\n",
      "image saved\n",
      "Epoch [133/200] Batch 800/938 Loss D: 1.2865, Loss G: 1.0917\n"
     ]
    },
    {
     "name": "stderr",
     "output_type": "stream",
     "text": [
      " 66%|██████▋   | 133/200 [2:25:16<1:10:24, 63.05s/it]"
     ]
    },
    {
     "name": "stdout",
     "output_type": "stream",
     "text": [
      "Epoch [134/200] Batch 200/938 Loss D: 1.2433, Loss G: 1.2592\n",
      "image saved\n",
      "Epoch [134/200] Batch 400/938 Loss D: 1.3875, Loss G: 0.9215\n",
      "Epoch [134/200] Batch 600/938 Loss D: 1.0831, Loss G: 1.0581\n"
     ]
    },
    {
     "name": "stderr",
     "output_type": "stream",
     "text": [
      " 67%|██████▋   | 134/200 [2:26:17<1:08:52, 62.61s/it]"
     ]
    },
    {
     "name": "stdout",
     "output_type": "stream",
     "text": [
      "Epoch [135/200] Batch 200/938 Loss D: 1.1379, Loss G: 1.0715\n",
      "image saved\n",
      "Epoch [135/200] Batch 400/938 Loss D: 1.2446, Loss G: 0.9978\n",
      "Epoch [135/200] Batch 800/938 Loss D: 1.1673, Loss G: 0.9000\n",
      "image saved\n"
     ]
    },
    {
     "name": "stderr",
     "output_type": "stream",
     "text": [
      " 68%|██████▊   | 135/200 [2:27:20<1:07:43, 62.51s/it]"
     ]
    },
    {
     "name": "stdout",
     "output_type": "stream",
     "text": [
      "image saved\n",
      "Epoch [136/200] Batch 400/938 Loss D: 1.3341, Loss G: 1.0104\n",
      "Epoch [136/200] Batch 600/938 Loss D: 1.2613, Loss G: 1.1500\n",
      "Epoch [136/200] Batch 800/938 Loss D: 1.2018, Loss G: 0.9971\n",
      "image saved\n"
     ]
    },
    {
     "name": "stderr",
     "output_type": "stream",
     "text": [
      " 68%|██████▊   | 136/200 [2:28:39<1:12:01, 67.52s/it]"
     ]
    },
    {
     "name": "stdout",
     "output_type": "stream",
     "text": [
      "Epoch [137/200] Batch 200/938 Loss D: 1.0764, Loss G: 0.9331\n",
      "Epoch [137/200] Batch 400/938 Loss D: 1.1735, Loss G: 0.9178\n",
      "image saved\n",
      "Epoch [137/200] Batch 600/938 Loss D: 1.2130, Loss G: 0.9995\n",
      "Epoch [138/200] Batch 200/938 Loss D: 1.2346, Loss G: 0.8714\n",
      "Epoch [138/200] Batch 400/938 Loss D: 1.1717, Loss G: 0.9094\n",
      "image saved\n",
      "Epoch [138/200] Batch 600/938 Loss D: 1.2329, Loss G: 0.8785\n",
      "Epoch [138/200] Batch 800/938 Loss D: 1.2463, Loss G: 0.8105\n"
     ]
    },
    {
     "name": "stderr",
     "output_type": "stream",
     "text": [
      " 69%|██████▉   | 138/200 [2:30:58<1:10:45, 68.47s/it]"
     ]
    },
    {
     "name": "stdout",
     "output_type": "stream",
     "text": [
      "image saved\n",
      "Epoch [139/200] Batch 200/938 Loss D: 1.2100, Loss G: 1.0478\n",
      "Epoch [139/200] Batch 400/938 Loss D: 1.2923, Loss G: 1.1638\n",
      "Epoch [139/200] Batch 800/938 Loss D: 1.1841, Loss G: 0.8969\n"
     ]
    },
    {
     "name": "stderr",
     "output_type": "stream",
     "text": [
      " 70%|██████▉   | 139/200 [2:32:11<1:10:56, 69.78s/it]"
     ]
    },
    {
     "name": "stdout",
     "output_type": "stream",
     "text": [
      "image saved\n",
      "Epoch [140/200] Batch 200/938 Loss D: 1.2205, Loss G: 1.0302\n",
      "Epoch [140/200] Batch 400/938 Loss D: 1.1331, Loss G: 0.7911\n",
      "Epoch [140/200] Batch 600/938 Loss D: 1.2054, Loss G: 1.1618\n",
      "image saved\n",
      "Epoch [140/200] Batch 800/938 Loss D: 1.2303, Loss G: 1.1514\n"
     ]
    },
    {
     "name": "stderr",
     "output_type": "stream",
     "text": [
      " 70%|███████   | 140/200 [2:33:15<1:08:03, 68.05s/it]"
     ]
    },
    {
     "name": "stdout",
     "output_type": "stream",
     "text": [
      "image saved\n",
      "Epoch [141/200] Batch 200/938 Loss D: 1.1791, Loss G: 0.9640\n",
      "Epoch [141/200] Batch 400/938 Loss D: 1.2648, Loss G: 0.9975\n",
      "Epoch [141/200] Batch 600/938 Loss D: 1.2213, Loss G: 0.8144\n",
      "image saved\n",
      "Epoch [141/200] Batch 800/938 Loss D: 1.1706, Loss G: 1.2816\n"
     ]
    },
    {
     "name": "stderr",
     "output_type": "stream",
     "text": [
      " 70%|███████   | 141/200 [2:34:20<1:05:48, 66.92s/it]"
     ]
    },
    {
     "name": "stdout",
     "output_type": "stream",
     "text": [
      "Epoch [142/200] Batch 200/938 Loss D: 1.3350, Loss G: 0.9542\n",
      "image saved\n",
      "Epoch [142/200] Batch 400/938 Loss D: 1.2680, Loss G: 0.9023\n",
      "Epoch [142/200] Batch 600/938 Loss D: 1.2056, Loss G: 0.9970\n",
      "image saved\n",
      "Epoch [142/200] Batch 800/938 Loss D: 1.1293, Loss G: 1.0101\n"
     ]
    },
    {
     "name": "stderr",
     "output_type": "stream",
     "text": [
      " 71%|███████   | 142/200 [2:35:22<1:03:31, 65.72s/it]"
     ]
    },
    {
     "name": "stdout",
     "output_type": "stream",
     "text": [
      "Epoch [143/200] Batch 200/938 Loss D: 1.1473, Loss G: 1.3451\n",
      "Epoch [143/200] Batch 600/938 Loss D: 1.3522, Loss G: 0.7734\n",
      "Epoch [143/200] Batch 800/938 Loss D: 1.2924, Loss G: 1.2723\n",
      "image saved\n",
      "Epoch [144/200] Batch 200/938 Loss D: 1.2332, Loss G: 0.8805\n",
      "image saved\n",
      "Epoch [144/200] Batch 400/938 Loss D: 1.2538, Loss G: 0.9210\n",
      "Epoch [144/200] Batch 600/938 Loss D: 1.2223, Loss G: 0.8426\n",
      "Epoch [144/200] Batch 800/938 Loss D: 1.1431, Loss G: 1.0599\n",
      "image saved\n"
     ]
    },
    {
     "name": "stderr",
     "output_type": "stream",
     "text": [
      " 72%|███████▏  | 144/200 [2:37:37<1:02:13, 66.67s/it]"
     ]
    },
    {
     "name": "stdout",
     "output_type": "stream",
     "text": [
      "Epoch [145/200] Batch 200/938 Loss D: 1.1817, Loss G: 1.0137\n",
      "Epoch [145/200] Batch 400/938 Loss D: 1.2251, Loss G: 0.8639\n",
      "image saved\n",
      "Epoch [145/200] Batch 600/938 Loss D: 1.1856, Loss G: 0.9263\n",
      "Epoch [145/200] Batch 800/938 Loss D: 1.1356, Loss G: 1.1191\n",
      "image saved\n"
     ]
    },
    {
     "name": "stderr",
     "output_type": "stream",
     "text": [
      " 72%|███████▎  | 145/200 [2:38:45<1:01:23, 66.98s/it]"
     ]
    },
    {
     "name": "stdout",
     "output_type": "stream",
     "text": [
      "Epoch [146/200] Batch 200/938 Loss D: 1.1021, Loss G: 1.0510\n",
      "Epoch [146/200] Batch 400/938 Loss D: 1.2134, Loss G: 1.1914\n",
      "Epoch [146/200] Batch 800/938 Loss D: 1.2608, Loss G: 1.2463\n"
     ]
    },
    {
     "name": "stderr",
     "output_type": "stream",
     "text": [
      " 73%|███████▎  | 146/200 [2:40:01<1:02:39, 69.62s/it]"
     ]
    },
    {
     "name": "stdout",
     "output_type": "stream",
     "text": [
      "Epoch [147/200] Batch 200/938 Loss D: 1.3696, Loss G: 1.1847\n",
      "Epoch [147/200] Batch 400/938 Loss D: 1.2292, Loss G: 1.1087\n",
      "image saved\n",
      "Epoch [147/200] Batch 600/938 Loss D: 1.2009, Loss G: 1.2384\n"
     ]
    },
    {
     "name": "stderr",
     "output_type": "stream",
     "text": [
      " 74%|███████▎  | 147/200 [2:41:15<1:02:49, 71.12s/it]"
     ]
    },
    {
     "name": "stdout",
     "output_type": "stream",
     "text": [
      "image saved\n",
      "Epoch [148/200] Batch 200/938 Loss D: 1.2511, Loss G: 1.2046\n",
      "Epoch [148/200] Batch 600/938 Loss D: 1.2993, Loss G: 0.8541\n",
      "image saved\n",
      "Epoch [148/200] Batch 800/938 Loss D: 1.0722, Loss G: 0.8312\n"
     ]
    },
    {
     "name": "stderr",
     "output_type": "stream",
     "text": [
      " 74%|███████▍  | 148/200 [2:42:21<1:00:16, 69.54s/it]"
     ]
    },
    {
     "name": "stdout",
     "output_type": "stream",
     "text": [
      "image saved\n",
      "Epoch [149/200] Batch 200/938 Loss D: 1.1431, Loss G: 1.1441\n",
      "Epoch [149/200] Batch 400/938 Loss D: 1.0864, Loss G: 1.2452\n",
      "Epoch [149/200] Batch 600/938 Loss D: 1.2321, Loss G: 1.0175\n",
      "image saved\n",
      "image saved\n",
      "Epoch [150/200] Batch 800/938 Loss D: 1.1176, Loss G: 1.2698\n"
     ]
    },
    {
     "name": "stderr",
     "output_type": "stream",
     "text": [
      " 75%|███████▌  | 150/200 [2:44:44<58:57, 70.75s/it]"
     ]
    },
    {
     "name": "stdout",
     "output_type": "stream",
     "text": [
      "Epoch [151/200] Batch 400/938 Loss D: 1.2501, Loss G: 0.9950\n",
      "Epoch [151/200] Batch 600/938 Loss D: 1.2419, Loss G: 0.8185\n"
     ]
    },
    {
     "name": "stderr",
     "output_type": "stream",
     "text": [
      " 76%|███████▌  | 151/200 [2:45:51<56:49, 69.59s/it]"
     ]
    },
    {
     "name": "stdout",
     "output_type": "stream",
     "text": [
      "Epoch [152/200] Batch 200/938 Loss D: 1.1891, Loss G: 1.0412\n",
      "image saved\n",
      "Epoch [152/200] Batch 400/938 Loss D: 1.1986, Loss G: 1.3710\n",
      "image saved\n"
     ]
    },
    {
     "name": "stderr",
     "output_type": "stream",
     "text": [
      " 76%|███████▌  | 152/200 [2:46:58<55:04, 68.84s/it]"
     ]
    },
    {
     "name": "stdout",
     "output_type": "stream",
     "text": [
      "Epoch [153/200] Batch 200/938 Loss D: 1.2294, Loss G: 0.9969\n",
      "Epoch [153/200] Batch 400/938 Loss D: 1.2352, Loss G: 1.2802\n",
      "image saved\n",
      "Epoch [153/200] Batch 600/938 Loss D: 1.1392, Loss G: 1.0460\n",
      "Epoch [153/200] Batch 800/938 Loss D: 1.1834, Loss G: 1.0758\n",
      "image saved\n"
     ]
    },
    {
     "name": "stderr",
     "output_type": "stream",
     "text": [
      " 76%|███████▋  | 153/200 [2:48:04<53:23, 68.17s/it]"
     ]
    },
    {
     "name": "stdout",
     "output_type": "stream",
     "text": [
      "Epoch [154/200] Batch 200/938 Loss D: 1.2372, Loss G: 1.0819\n",
      "Epoch [154/200] Batch 400/938 Loss D: 1.1899, Loss G: 0.9076\n",
      "image saved\n",
      "Epoch [154/200] Batch 600/938 Loss D: 1.1587, Loss G: 1.0222\n",
      "Epoch [154/200] Batch 800/938 Loss D: 1.1210, Loss G: 1.0689\n"
     ]
    },
    {
     "name": "stderr",
     "output_type": "stream",
     "text": [
      " 77%|███████▋  | 154/200 [2:49:13<52:29, 68.46s/it]"
     ]
    },
    {
     "name": "stdout",
     "output_type": "stream",
     "text": [
      "image saved\n",
      "Epoch [155/200] Batch 200/938 Loss D: 1.0528, Loss G: 1.2235\n",
      "Epoch [155/200] Batch 400/938 Loss D: 1.1926, Loss G: 1.2636\n",
      "image saved\n",
      "Epoch [155/200] Batch 600/938 Loss D: 1.1627, Loss G: 1.1354\n"
     ]
    },
    {
     "name": "stderr",
     "output_type": "stream",
     "text": [
      " 78%|███████▊  | 155/200 [2:50:21<51:04, 68.10s/it]"
     ]
    },
    {
     "name": "stdout",
     "output_type": "stream",
     "text": [
      "image saved\n",
      "Epoch [156/200] Batch 200/938 Loss D: 1.1865, Loss G: 0.9009\n",
      "Epoch [156/200] Batch 400/938 Loss D: 1.1822, Loss G: 1.2468\n",
      "Epoch [156/200] Batch 600/938 Loss D: 1.1047, Loss G: 0.9081\n",
      "image saved\n",
      "Epoch [156/200] Batch 800/938 Loss D: 1.1151, Loss G: 1.1590\n"
     ]
    },
    {
     "name": "stderr",
     "output_type": "stream",
     "text": [
      " 78%|███████▊  | 156/200 [2:51:26<49:21, 67.30s/it]"
     ]
    },
    {
     "name": "stdout",
     "output_type": "stream",
     "text": [
      "image saved\n",
      "Epoch [157/200] Batch 400/938 Loss D: 1.0619, Loss G: 1.1542\n",
      "Epoch [157/200] Batch 600/938 Loss D: 1.1629, Loss G: 1.0497\n",
      "image saved\n",
      "Epoch [157/200] Batch 800/938 Loss D: 1.1693, Loss G: 0.9616\n"
     ]
    },
    {
     "name": "stderr",
     "output_type": "stream",
     "text": [
      " 78%|███████▊  | 157/200 [2:52:26<46:36, 65.04s/it]"
     ]
    },
    {
     "name": "stdout",
     "output_type": "stream",
     "text": [
      "image saved\n",
      "Epoch [158/200] Batch 400/938 Loss D: 1.1471, Loss G: 0.9723\n",
      "Epoch [158/200] Batch 600/938 Loss D: 1.2435, Loss G: 0.7026\n",
      "image saved\n",
      "image saved\n",
      "Epoch [159/200] Batch 400/938 Loss D: 1.1354, Loss G: 1.2498\n"
     ]
    },
    {
     "name": "stderr",
     "output_type": "stream",
     "text": [
      " 80%|███████▉  | 159/200 [2:54:23<42:18, 61.92s/it]"
     ]
    },
    {
     "name": "stdout",
     "output_type": "stream",
     "text": [
      "Epoch [160/200] Batch 200/938 Loss D: 1.2693, Loss G: 1.0013\n",
      "image saved\n",
      "Epoch [160/200] Batch 400/938 Loss D: 1.1304, Loss G: 0.9424\n",
      "Epoch [160/200] Batch 600/938 Loss D: 1.2477, Loss G: 1.0952\n",
      "Epoch [160/200] Batch 800/938 Loss D: 1.2348, Loss G: 0.9858\n",
      "image saved\n"
     ]
    },
    {
     "name": "stderr",
     "output_type": "stream",
     "text": [
      " 80%|████████  | 160/200 [2:55:21<40:24, 60.62s/it]"
     ]
    },
    {
     "name": "stdout",
     "output_type": "stream",
     "text": [
      "Epoch [161/200] Batch 200/938 Loss D: 1.0794, Loss G: 1.0601\n",
      "Epoch [161/200] Batch 400/938 Loss D: 1.1542, Loss G: 1.0497\n",
      "image saved\n",
      "Epoch [161/200] Batch 600/938 Loss D: 1.0273, Loss G: 1.2507\n",
      "Epoch [161/200] Batch 800/938 Loss D: 1.0605, Loss G: 0.9485\n",
      "image saved\n"
     ]
    },
    {
     "name": "stderr",
     "output_type": "stream",
     "text": [
      " 80%|████████  | 161/200 [2:56:21<39:20, 60.51s/it]"
     ]
    },
    {
     "name": "stdout",
     "output_type": "stream",
     "text": [
      "Epoch [162/200] Batch 200/938 Loss D: 1.1347, Loss G: 0.9565\n",
      "Epoch [162/200] Batch 400/938 Loss D: 1.0715, Loss G: 0.9200\n",
      "image saved\n"
     ]
    },
    {
     "name": "stderr",
     "output_type": "stream",
     "text": [
      " 81%|████████  | 162/200 [2:57:19<37:54, 59.87s/it]"
     ]
    },
    {
     "name": "stdout",
     "output_type": "stream",
     "text": [
      "image saved\n",
      "Epoch [163/200] Batch 200/938 Loss D: 1.1598, Loss G: 1.2387\n",
      "Epoch [163/200] Batch 800/938 Loss D: 1.1356, Loss G: 1.0104\n"
     ]
    },
    {
     "name": "stderr",
     "output_type": "stream",
     "text": [
      " 82%|████████▏ | 163/200 [2:58:18<36:36, 59.37s/it]"
     ]
    },
    {
     "name": "stdout",
     "output_type": "stream",
     "text": [
      "image saved\n",
      "Epoch [164/200] Batch 600/938 Loss D: 1.1477, Loss G: 1.0867\n",
      "image saved\n",
      "Epoch [164/200] Batch 800/938 Loss D: 1.1354, Loss G: 1.0870\n"
     ]
    },
    {
     "name": "stderr",
     "output_type": "stream",
     "text": [
      " 82%|████████▏ | 164/200 [2:59:16<35:22, 58.94s/it]"
     ]
    },
    {
     "name": "stdout",
     "output_type": "stream",
     "text": [
      "Epoch [165/200] Batch 400/938 Loss D: 1.1039, Loss G: 1.2973\n",
      "Epoch [165/200] Batch 600/938 Loss D: 1.0620, Loss G: 1.2086\n",
      "image saved\n",
      "Epoch [166/200] Batch 200/938 Loss D: 1.2145, Loss G: 1.1843\n",
      "image saved\n",
      "Epoch [166/200] Batch 400/938 Loss D: 1.2114, Loss G: 1.1967\n",
      "Epoch [166/200] Batch 600/938 Loss D: 1.2222, Loss G: 1.0277\n",
      "image saved\n",
      "Epoch [166/200] Batch 800/938 Loss D: 1.0566, Loss G: 1.2008\n"
     ]
    },
    {
     "name": "stderr",
     "output_type": "stream",
     "text": [
      " 83%|████████▎ | 166/200 [3:01:10<32:54, 58.08s/it]"
     ]
    },
    {
     "name": "stdout",
     "output_type": "stream",
     "text": [
      "Epoch [167/200] Batch 200/938 Loss D: 1.2399, Loss G: 1.0796\n",
      "image saved\n",
      "Epoch [167/200] Batch 400/938 Loss D: 1.1787, Loss G: 1.0440\n",
      "Epoch [167/200] Batch 600/938 Loss D: 1.1867, Loss G: 0.9408\n",
      "image saved\n",
      "Epoch [167/200] Batch 800/938 Loss D: 1.1227, Loss G: 1.0032\n"
     ]
    },
    {
     "name": "stderr",
     "output_type": "stream",
     "text": [
      " 84%|████████▎ | 167/200 [3:02:08<31:55, 58.05s/it]"
     ]
    },
    {
     "name": "stdout",
     "output_type": "stream",
     "text": [
      "Epoch [168/200] Batch 200/938 Loss D: 1.1929, Loss G: 0.9373\n",
      "image saved\n",
      "Epoch [168/200] Batch 400/938 Loss D: 1.1713, Loss G: 1.0686\n",
      "Epoch [168/200] Batch 600/938 Loss D: 1.2532, Loss G: 0.9442\n"
     ]
    },
    {
     "name": "stderr",
     "output_type": "stream",
     "text": [
      " 84%|████████▍ | 168/200 [3:03:07<31:01, 58.18s/it]"
     ]
    },
    {
     "name": "stdout",
     "output_type": "stream",
     "text": [
      "Epoch [169/200] Batch 200/938 Loss D: 1.0980, Loss G: 0.9883\n",
      "Epoch [169/200] Batch 400/938 Loss D: 1.1359, Loss G: 1.4802\n",
      "image saved\n",
      "Epoch [169/200] Batch 800/938 Loss D: 1.0366, Loss G: 0.9344\n",
      "image saved\n"
     ]
    },
    {
     "name": "stderr",
     "output_type": "stream",
     "text": [
      " 84%|████████▍ | 169/200 [3:04:05<30:07, 58.30s/it]"
     ]
    },
    {
     "name": "stdout",
     "output_type": "stream",
     "text": [
      "Epoch [170/200] Batch 200/938 Loss D: 1.3285, Loss G: 1.1676\n",
      "Epoch [170/200] Batch 400/938 Loss D: 1.2013, Loss G: 1.3518\n",
      "image saved\n",
      "Epoch [170/200] Batch 600/938 Loss D: 1.1135, Loss G: 0.9681\n",
      "Epoch [170/200] Batch 800/938 Loss D: 1.1658, Loss G: 1.2222\n"
     ]
    },
    {
     "name": "stderr",
     "output_type": "stream",
     "text": [
      " 85%|████████▌ | 170/200 [3:05:01<28:41, 57.38s/it]"
     ]
    },
    {
     "name": "stdout",
     "output_type": "stream",
     "text": [
      "image saved\n",
      "Epoch [171/200] Batch 200/938 Loss D: 1.1176, Loss G: 1.0482\n",
      "Epoch [171/200] Batch 400/938 Loss D: 1.1595, Loss G: 1.0777\n",
      "image saved\n",
      "Epoch [171/200] Batch 600/938 Loss D: 1.1535, Loss G: 0.9650\n"
     ]
    },
    {
     "name": "stderr",
     "output_type": "stream",
     "text": [
      " 86%|████████▌ | 171/200 [3:06:00<27:59, 57.90s/it]"
     ]
    },
    {
     "name": "stdout",
     "output_type": "stream",
     "text": [
      "image saved\n",
      "Epoch [172/200] Batch 200/938 Loss D: 1.0963, Loss G: 0.8841\n",
      "Epoch [172/200] Batch 400/938 Loss D: 1.1186, Loss G: 0.8964\n",
      "Epoch [172/200] Batch 600/938 Loss D: 1.1466, Loss G: 1.2085\n",
      "image saved\n",
      "Epoch [172/200] Batch 800/938 Loss D: 1.1077, Loss G: 1.3085\n"
     ]
    },
    {
     "name": "stderr",
     "output_type": "stream",
     "text": [
      " 86%|████████▌ | 172/200 [3:06:55<26:41, 57.21s/it]"
     ]
    },
    {
     "name": "stdout",
     "output_type": "stream",
     "text": [
      "image saved\n",
      "Epoch [173/200] Batch 200/938 Loss D: 1.1575, Loss G: 1.1108\n",
      "Epoch [173/200] Batch 400/938 Loss D: 1.2251, Loss G: 1.1684\n",
      "Epoch [173/200] Batch 600/938 Loss D: 1.2946, Loss G: 1.1353\n",
      "image saved\n",
      "Epoch [173/200] Batch 800/938 Loss D: 1.1016, Loss G: 0.9555\n"
     ]
    },
    {
     "name": "stderr",
     "output_type": "stream",
     "text": [
      " 86%|████████▋ | 173/200 [3:07:52<25:38, 56.99s/it]"
     ]
    },
    {
     "name": "stdout",
     "output_type": "stream",
     "text": [
      "Epoch [174/200] Batch 200/938 Loss D: 1.1896, Loss G: 1.2840\n",
      "image saved\n",
      "Epoch [174/200] Batch 400/938 Loss D: 1.1722, Loss G: 0.9190\n",
      "Epoch [174/200] Batch 600/938 Loss D: 1.0905, Loss G: 1.0653\n",
      "image saved\n",
      "Epoch [174/200] Batch 800/938 Loss D: 1.1427, Loss G: 0.9112\n"
     ]
    },
    {
     "name": "stderr",
     "output_type": "stream",
     "text": [
      " 87%|████████▋ | 174/200 [3:08:46<24:19, 56.13s/it]"
     ]
    },
    {
     "name": "stdout",
     "output_type": "stream",
     "text": [
      "Epoch [175/200] Batch 200/938 Loss D: 1.2003, Loss G: 1.0698\n",
      "image saved\n",
      "Epoch [175/200] Batch 400/938 Loss D: 1.0835, Loss G: 1.2792\n"
     ]
    },
    {
     "name": "stderr",
     "output_type": "stream",
     "text": [
      " 88%|████████▊ | 175/200 [3:09:46<23:49, 57.19s/it]"
     ]
    },
    {
     "name": "stdout",
     "output_type": "stream",
     "text": [
      "Epoch [176/200] Batch 200/938 Loss D: 0.9973, Loss G: 1.2172\n",
      "image saved\n",
      "Epoch [176/200] Batch 400/938 Loss D: 1.2112, Loss G: 1.0312\n",
      "Epoch [176/200] Batch 600/938 Loss D: 1.1731, Loss G: 1.0063\n",
      "Epoch [176/200] Batch 800/938 Loss D: 1.1159, Loss G: 1.0180\n",
      "image saved\n"
     ]
    },
    {
     "name": "stderr",
     "output_type": "stream",
     "text": [
      " 88%|████████▊ | 176/200 [3:10:43<22:56, 57.35s/it]"
     ]
    },
    {
     "name": "stdout",
     "output_type": "stream",
     "text": [
      "Epoch [177/200] Batch 200/938 Loss D: 1.1419, Loss G: 1.0699\n",
      "Epoch [177/200] Batch 400/938 Loss D: 1.1724, Loss G: 1.1782\n",
      "image saved\n",
      "Epoch [177/200] Batch 600/938 Loss D: 1.0855, Loss G: 1.1981\n",
      "Epoch [177/200] Batch 800/938 Loss D: 1.1145, Loss G: 0.9628\n",
      "image saved\n"
     ]
    },
    {
     "name": "stderr",
     "output_type": "stream",
     "text": [
      " 88%|████████▊ | 177/200 [3:11:42<22:08, 57.78s/it]"
     ]
    },
    {
     "name": "stdout",
     "output_type": "stream",
     "text": [
      "Epoch [178/200] Batch 200/938 Loss D: 1.1879, Loss G: 0.8708\n",
      "Epoch [178/200] Batch 400/938 Loss D: 1.0435, Loss G: 1.2917\n",
      "image saved\n",
      "Epoch [178/200] Batch 600/938 Loss D: 1.0621, Loss G: 1.1018\n",
      "Epoch [178/200] Batch 800/938 Loss D: 1.1653, Loss G: 1.0565\n"
     ]
    },
    {
     "name": "stderr",
     "output_type": "stream",
     "text": [
      " 89%|████████▉ | 178/200 [3:12:39<21:06, 57.57s/it]"
     ]
    },
    {
     "name": "stdout",
     "output_type": "stream",
     "text": [
      "image saved\n",
      "Epoch [179/200] Batch 200/938 Loss D: 1.1462, Loss G: 0.9375\n",
      "Epoch [179/200] Batch 400/938 Loss D: 1.2215, Loss G: 0.9549\n",
      "image saved\n",
      "Epoch [179/200] Batch 600/938 Loss D: 1.1903, Loss G: 0.9073\n"
     ]
    },
    {
     "name": "stderr",
     "output_type": "stream",
     "text": [
      " 90%|████████▉ | 179/200 [3:13:36<20:05, 57.40s/it]"
     ]
    },
    {
     "name": "stdout",
     "output_type": "stream",
     "text": [
      "image saved\n",
      "Epoch [180/200] Batch 200/938 Loss D: 1.2611, Loss G: 0.9891\n",
      "Epoch [180/200] Batch 400/938 Loss D: 1.1594, Loss G: 1.2511\n",
      "image saved\n",
      "Epoch [180/200] Batch 600/938 Loss D: 1.1382, Loss G: 1.0199\n",
      "Epoch [180/200] Batch 800/938 Loss D: 1.2516, Loss G: 1.1678\n"
     ]
    },
    {
     "name": "stderr",
     "output_type": "stream",
     "text": [
      " 90%|█████████ | 180/200 [3:14:32<19:00, 57.02s/it]"
     ]
    },
    {
     "name": "stdout",
     "output_type": "stream",
     "text": [
      "image saved\n",
      "Epoch [181/200] Batch 200/938 Loss D: 1.2154, Loss G: 0.9719\n",
      "Epoch [181/200] Batch 800/938 Loss D: 1.2943, Loss G: 1.2098\n"
     ]
    },
    {
     "name": "stderr",
     "output_type": "stream",
     "text": [
      " 90%|█████████ | 181/200 [3:15:26<17:47, 56.17s/it]"
     ]
    },
    {
     "name": "stdout",
     "output_type": "stream",
     "text": [
      "Epoch [182/200] Batch 200/938 Loss D: 1.2013, Loss G: 1.0424\n",
      "image saved\n",
      "Epoch [182/200] Batch 400/938 Loss D: 1.3826, Loss G: 1.0456\n",
      "Epoch [182/200] Batch 600/938 Loss D: 1.3425, Loss G: 0.9549\n",
      "image saved\n",
      "Epoch [182/200] Batch 800/938 Loss D: 1.1431, Loss G: 1.2079\n"
     ]
    },
    {
     "name": "stderr",
     "output_type": "stream",
     "text": [
      " 91%|█████████ | 182/200 [3:16:23<16:52, 56.28s/it]"
     ]
    },
    {
     "name": "stdout",
     "output_type": "stream",
     "text": [
      "Epoch [183/200] Batch 200/938 Loss D: 1.2297, Loss G: 0.8476\n",
      "image saved\n",
      "Epoch [183/200] Batch 400/938 Loss D: 1.2175, Loss G: 1.1216\n",
      "Epoch [183/200] Batch 600/938 Loss D: 1.0870, Loss G: 1.1713\n",
      "image saved\n",
      "Epoch [183/200] Batch 800/938 Loss D: 1.2872, Loss G: 0.8731\n"
     ]
    },
    {
     "name": "stderr",
     "output_type": "stream",
     "text": [
      " 92%|█████████▏| 183/200 [3:17:16<15:42, 55.43s/it]"
     ]
    },
    {
     "name": "stdout",
     "output_type": "stream",
     "text": [
      "Epoch [184/200] Batch 200/938 Loss D: 1.2868, Loss G: 1.1980\n",
      "image saved\n",
      "Epoch [184/200] Batch 400/938 Loss D: 1.1176, Loss G: 1.1894\n",
      "Epoch [184/200] Batch 800/938 Loss D: 1.1259, Loss G: 0.9666\n",
      "image saved\n"
     ]
    },
    {
     "name": "stderr",
     "output_type": "stream",
     "text": [
      " 92%|█████████▏| 184/200 [3:18:10<14:37, 54.86s/it]"
     ]
    },
    {
     "name": "stdout",
     "output_type": "stream",
     "text": [
      "Epoch [185/200] Batch 200/938 Loss D: 1.3560, Loss G: 1.3130\n",
      "Epoch [185/200] Batch 400/938 Loss D: 1.1662, Loss G: 1.1161\n",
      "image saved\n",
      "Epoch [185/200] Batch 600/938 Loss D: 1.1516, Loss G: 0.9820\n",
      "Epoch [185/200] Batch 800/938 Loss D: 1.1925, Loss G: 1.0619\n",
      "image saved\n"
     ]
    },
    {
     "name": "stderr",
     "output_type": "stream",
     "text": [
      " 92%|█████████▎| 185/200 [3:19:01<13:27, 53.82s/it]"
     ]
    },
    {
     "name": "stdout",
     "output_type": "stream",
     "text": [
      "Epoch [186/200] Batch 200/938 Loss D: 1.1757, Loss G: 1.1722\n",
      "Epoch [186/200] Batch 400/938 Loss D: 1.1441, Loss G: 1.0279\n",
      "image saved\n",
      "Epoch [186/200] Batch 600/938 Loss D: 1.3015, Loss G: 1.0476\n",
      "Epoch [186/200] Batch 800/938 Loss D: 1.1231, Loss G: 0.9920\n"
     ]
    }
   ],
   "source": [
    "train(dataloader, discriminator, generator, optimizer_G, optimizer_D)"
   ]
  },
  {
   "cell_type": "code",
   "execution_count": null,
   "id": "54c962c9-a004-4a2e-aee5-69c861760401",
   "metadata": {},
   "outputs": [],
   "source": []
  }
 ],
 "metadata": {
  "kernelspec": {
   "display_name": "Python 3 (ipykernel)",
   "language": "python",
   "name": "python3"
  },
  "language_info": {
   "codemirror_mode": {
    "name": "ipython",
    "version": 3
   },
   "file_extension": ".py",
   "mimetype": "text/x-python",
   "name": "python",
   "nbconvert_exporter": "python",
   "pygments_lexer": "ipython3",
   "version": "3.8.10"
  }
 },
 "nbformat": 4,
 "nbformat_minor": 5
}
