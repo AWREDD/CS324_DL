{
 "cells": [
  {
   "cell_type": "code",
   "execution_count": 1,
   "id": "19f1bc19-bb5e-4f96-8ef5-7f9de12a04fa",
   "metadata": {},
   "outputs": [
    {
     "name": "stderr",
     "output_type": "stream",
     "text": [
      "/usr/local/lib/python3.8/dist-packages/tqdm/auto.py:21: TqdmWarning: IProgress not found. Please update jupyter and ipywidgets. See https://ipywidgets.readthedocs.io/en/stable/user_install.html\n",
      "  from .autonotebook import tqdm as notebook_tqdm\n"
     ]
    }
   ],
   "source": [
    "import os\n",
    "\n",
    "import torch\n",
    "import torch.nn as nn\n",
    "import torchvision.transforms as transforms\n",
    "from torchvision import datasets\n",
    "from torchvision.utils import save_image\n",
    "\n",
    "from tqdm import tqdm\n",
    "import matplotlib.pyplot as plt\n",
    "import copy\n",
    "import numpy as np"
   ]
  },
  {
   "cell_type": "code",
   "execution_count": 2,
   "id": "52893ef7-8bad-49cb-ab1d-66c93946e369",
   "metadata": {},
   "outputs": [],
   "source": [
    "class Generator(nn.Module):\n",
    "    def __init__(self, latent_dim):\n",
    "        super(Generator, self).__init__()\n",
    "\n",
    "        self.fc1 = nn.Linear(latent_dim, 128)\n",
    "        self.fc2 = nn.Linear(128, 256)\n",
    "        self.fc3 = nn.Linear(256, 512)\n",
    "        self.fc4 = nn.Linear(512, 1024)\n",
    "        self.fc5 = nn.Linear(1024, 784)\n",
    "\n",
    "        self.BN1 = nn.BatchNorm1d(256)\n",
    "        self.BN2 = nn.BatchNorm1d(512)\n",
    "        self.BN3 = nn.BatchNorm1d(1024)\n",
    "        \n",
    "        self.leaky_relu1 = nn.LeakyReLU(0.2)\n",
    "        self.leaky_relu2 = nn.LeakyReLU(0.2)\n",
    "        self.leaky_relu3 = nn.LeakyReLU(0.2)\n",
    "        self.leaky_relu4 = nn.LeakyReLU(0.2)\n",
    "\n",
    "\n",
    "        # Construct generator. You should experiment with your model,\n",
    "        # but the following is a good start:\n",
    "        #   Linear args.latent_dim -> 128\n",
    "        #   LeakyReLU(0.2)\n",
    "        \n",
    "        #   Linear 128 -> 256\n",
    "        #   Bnorm\n",
    "        #   LeakyReLU(0.2)\n",
    "        \n",
    "        #   Linear 256 -> 512\n",
    "        #   Bnorm\n",
    "        #   LeakyReLU(0.2)\n",
    "        \n",
    "        #   Linear 512 -> 1024\n",
    "        #   Bnorm\n",
    "        #   LeakyReLU(0.2)\n",
    "        \n",
    "        #   Linear 1024 -> 784\n",
    "        #   Output non-linearity\n",
    "\n",
    "    def forward(self, z):\n",
    "        # Generate images from z\n",
    "        z = self.leaky_relu1(self.fc1(z))\n",
    "        z = self.leaky_relu2(self.BN1(self.fc2(z)))\n",
    "        z = self.leaky_relu3(self.BN2(self.fc3(z)))\n",
    "        z = self.leaky_relu4(self.BN3(self.fc4(z)))\n",
    "        z = torch.tanh(self.fc5(z))\n",
    "        return z\n",
    "\n",
    "\n",
    "class Discriminator(nn.Module):\n",
    "    def __init__(self):\n",
    "        super(Discriminator, self).__init__()\n",
    "        self.fc1 = nn.Linear(784, 512)\n",
    "        self.fc2 = nn.Linear(512, 256)\n",
    "        self.fc3 = nn.Linear(256, 1)\n",
    "        self.leaky_relu1 = nn.LeakyReLU(0.2)\n",
    "        self.leaky_relu2 = nn.LeakyReLU(0.2)\n",
    "\n",
    "        # Construct distriminator. You should experiment with your model,\n",
    "        # but the following is a good start:\n",
    "        #   Linear 784 -> 512\n",
    "        #   LeakyReLU(0.2)\n",
    "        #   Linear 512 -> 256\n",
    "        #   LeakyReLU(0.2)\n",
    "        #   Linear 256 -> 1\n",
    "        #   Output non-linearity\n",
    "\n",
    "    def forward(self, img):\n",
    "        # return discriminator score for img\n",
    "        img = self.leaky_relu1(self.fc1(img))\n",
    "        img = self.leaky_relu2(self.fc2(img))\n",
    "        img = torch.sigmoid(self.fc3(img))\n",
    "        return img"
   ]
  },
  {
   "cell_type": "code",
   "execution_count": 3,
   "id": "8816b541-b6c1-4db6-9c0b-b1317d1abe23",
   "metadata": {},
   "outputs": [],
   "source": [
    "max_epoch = 200\n",
    "batch_size = 64\n",
    "learning_rate = 0.0002\n",
    "latent_dim = 100\n",
    "save_interval = 500\n",
    "device = torch.device('cuda:0')\n",
    "\n",
    "g_loss_list = []\n",
    "d_loss_list = []\n",
    "epoch_list = []"
   ]
  },
  {
   "cell_type": "code",
   "execution_count": 4,
   "id": "ac6238d3-cde2-4c2f-8141-a0af3bbf18a0",
   "metadata": {},
   "outputs": [],
   "source": [
    "def train(dataloader, discriminator, generator, optimizer_G, optimizer_D):\n",
    "    criterion = nn.BCELoss()\n",
    "    for epoch in tqdm(range(max_epoch)):\n",
    "        discriminator.train()\n",
    "        generator.train()\n",
    "        G_total_loss = 0.\n",
    "        D_total_loss = 0.\n",
    "        for i, (imgs, _) in enumerate(dataloader):\n",
    "\n",
    "            imgs.cuda()\n",
    "            imgs_real = torch.flatten(imgs, start_dim=1).cuda()\n",
    "            \n",
    "            batch_size = imgs_real.size(0)\n",
    "\n",
    "            \n",
    "\n",
    "            # Train Discriminator\n",
    "            # -------------------\n",
    "            for _ in range(5):\n",
    "                z = torch.randn(batch_size, latent_dim).cuda()\n",
    "                fake_images = generator(z)\n",
    "            \n",
    "                optimizer_D.zero_grad()\n",
    "\n",
    "                real_preds = discriminator(imgs_real)\n",
    "                real_labels = torch.ones(batch_size, 1).cuda()\n",
    "                real_loss = criterion(real_preds, real_labels)\n",
    "\n",
    "                fake_preds = discriminator(fake_images)\n",
    "                fake_labels = torch.zeros(batch_size, 1).cuda()\n",
    "                fake_loss = criterion(fake_preds, fake_labels)\n",
    "\n",
    "\n",
    "                d_loss = real_loss + fake_loss\n",
    "                d_loss.backward()\n",
    "                optimizer_D.step()\n",
    "\n",
    "\n",
    "            # Train Generator\n",
    "            # ---------------\n",
    "            imgs_gen = None\n",
    "            for _ in range(2):\n",
    "                z = torch.randn(batch_size, latent_dim).cuda()\n",
    "                fake_images = generator(z)\n",
    "                \n",
    "\n",
    "                optimizer_G.zero_grad()\n",
    "\n",
    "                fake_preds = discriminator(fake_images)\n",
    "                real_labels = torch.ones(batch_size, 1).cuda()\n",
    "\n",
    "                g_loss = criterion(fake_preds, real_labels)\n",
    "                g_loss.backward()\n",
    "                optimizer_G.step()\n",
    "\n",
    "                imgs_gen = 0.5 * (fake_images + 1).view(batch_size, 1, 28, 28)\n",
    "\n",
    "            batches_done = epoch * len(dataloader) + i\n",
    "            if batches_done % save_interval == 0:\n",
    "                # You can use the function save_image(Tensor (shape Bx1x28x28),\n",
    "                # filename, number of rows, normalize) to save the generated\n",
    "                # images, e.g.:\n",
    "                save_image(imgs_gen[:25],'images_new/{}.png'.format(batches_done),nrow=5, normalize=True, value_range=(-1,1))\n",
    "                \n",
    "        epoch_list.append(epoch)        \n",
    "        g_loss_list.append(g_loss)\n",
    "        d_loss_list.append(d_loss)\n",
    "        # print('G loss: {0}, D loss: {1}'.format(g_loss, d_loss))"
   ]
  },
  {
   "cell_type": "code",
   "execution_count": 5,
   "id": "c96f4ace-1ed2-4e3f-9580-01f9c33ce2b6",
   "metadata": {},
   "outputs": [],
   "source": [
    "os.makedirs('images_new', exist_ok=True)"
   ]
  },
  {
   "cell_type": "code",
   "execution_count": 6,
   "id": "6371ae4d-562e-450f-ac9d-1149094a98f8",
   "metadata": {},
   "outputs": [],
   "source": [
    "dataloader = torch.utils.data.DataLoader(\n",
    "    datasets.MNIST('./data/mnist', train=True, download=True,\n",
    "                   transform=transforms.Compose([\n",
    "                           transforms.ToTensor(),\n",
    "                           transforms.Normalize(0.5, 0.5)])),\n",
    "    batch_size=batch_size, shuffle=True)"
   ]
  },
  {
   "cell_type": "code",
   "execution_count": 7,
   "id": "10a46dc1-52c8-430e-a3b4-5adb977e32ee",
   "metadata": {},
   "outputs": [],
   "source": [
    "generator = Generator(latent_dim).cuda()\n",
    "discriminator = Discriminator().cuda()\n",
    "optimizer_G = torch.optim.Adam(generator.parameters(), lr=learning_rate)\n",
    "optimizer_D = torch.optim.Adam(discriminator.parameters(), lr=learning_rate)"
   ]
  },
  {
   "cell_type": "code",
   "execution_count": null,
   "id": "24c80ec0-52df-4b37-9ff2-e6bb5a32acbd",
   "metadata": {},
   "outputs": [
    {
     "name": "stderr",
     "output_type": "stream",
     "text": [
      " 98%|█████████▊| 197/200 [3:28:44<03:12, 64.10s/it]  "
     ]
    }
   ],
   "source": [
    "train(dataloader, discriminator, generator, optimizer_G, optimizer_D)"
   ]
  },
  {
   "cell_type": "code",
   "execution_count": 11,
   "id": "55bf4c34-dbd8-4cd8-b199-bac223b39bf1",
   "metadata": {},
   "outputs": [],
   "source": [
    "torch.save(generator.state_dict(), \"mnist_generator_new.pt\")"
   ]
  },
  {
   "cell_type": "code",
   "execution_count": 18,
   "id": "fb61c3ae-9763-4d99-9a29-21df547730e9",
   "metadata": {},
   "outputs": [],
   "source": [
    "epoch_list = torch.tensor(epoch_list, device = 'cpu')\n",
    "g_loss_list = torch.tensor(g_loss_list, device = 'cpu')\n",
    "d_loss_list = torch.tensor(d_loss_list, device = 'cpu')"
   ]
  },
  {
   "cell_type": "code",
   "execution_count": 19,
   "id": "71a01e82-39cc-4cf6-9ca3-454e933bd3ba",
   "metadata": {},
   "outputs": [
    {
     "data": {
      "text/plain": [
       "<matplotlib.legend.Legend at 0x7f03531b2fd0>"
      ]
     },
     "execution_count": 19,
     "metadata": {},
     "output_type": "execute_result"
    },
    {
     "data": {
      "image/png": "[encoded data removed]",
      "text/plain": [
       "<Figure size 432x288 with 1 Axes>"
      ]
     },
     "metadata": {
      "needs_background": "light"
     },
     "output_type": "display_data"
    }
   ],
   "source": [
    "plt.plot(epoch_list, g_loss_list, linewidth=1, color=\"orange\",label=\"g_loss_list\")\n",
    "plt.plot(epoch_list, d_loss_list, linewidth=1, color=\"red\",label=\"d_loss_list\")\n",
    "plt.legend()"
   ]
  },
  {
   "cell_type": "code",
   "execution_count": 98,
   "id": "2055d3fc-a121-4954-9cd1-923f6c7fbf40",
   "metadata": {},
   "outputs": [],
   "source": [
    "def buildImage(imgs_t, batch):\n",
    "    img = 0.5 * (imgs_t + 1).view(batch, 1, 28, 28)\n",
    "    return img"
   ]
  },
  {
   "cell_type": "code",
   "execution_count": 99,
   "id": "123ada45-77bc-4c98-9be1-7e7de193db40",
   "metadata": {},
   "outputs": [
    {
     "data": {
      "text/plain": [
       "<All keys matched successfully>"
      ]
     },
     "execution_count": 99,
     "metadata": {},
     "output_type": "execute_result"
    }
   ],
   "source": [
    "G = Generator(latent_dim)\n",
    "G.load_state_dict(torch.load('mnist_generator_new.pt'))"
   ]
  },
  {
   "cell_type": "code",
   "execution_count": 100,
   "id": "e689f462-f52b-42ad-8fb1-72e67d6516ac",
   "metadata": {},
   "outputs": [
    {
     "data": {
      "text/plain": [
       "torch.Size([64, 100])"
      ]
     },
     "execution_count": 100,
     "metadata": {},
     "output_type": "execute_result"
    }
   ],
   "source": [
    "z = torch.randn(batch_size, latent_dim)\n",
    "z.shape"
   ]
  },
  {
   "cell_type": "code",
   "execution_count": 101,
   "id": "e4fda64b-0ef4-432f-b5f9-e92bc1494c42",
   "metadata": {},
   "outputs": [],
   "source": [
    "imgs_fake = buildImage(G(z), batch_size)\n",
    "save_image(imgs_fake, 'images.png', nrow=7, normalize=True)"
   ]
  },
  {
   "cell_type": "code",
   "execution_count": 134,
   "id": "21f03172-9b37-4964-a5dc-4d46619abc4d",
   "metadata": {},
   "outputs": [
    {
     "data": {
      "text/plain": [
       "<matplotlib.image.AxesImage at 0x7f03a45a9310>"
      ]
     },
     "execution_count": 134,
     "metadata": {},
     "output_type": "execute_result"
    },
    {
     "data": {
      "image/png": "[encoded data removed]",
      "text/plain": [
       "<Figure size 432x288 with 1 Axes>"
      ]
     },
     "metadata": {
      "needs_background": "light"
     },
     "output_type": "display_data"
    }
   ],
   "source": [
    "plt.imshow(imgs_fake[28].squeeze(0).detach().numpy())"
   ]
  },
  {
   "cell_type": "code",
   "execution_count": 135,
   "id": "1846e69b-c263-4fe4-b927-e816ba49effc",
   "metadata": {},
   "outputs": [
    {
     "data": {
      "text/plain": [
       "<matplotlib.image.AxesImage at 0x7f03a4509460>"
      ]
     },
     "execution_count": 135,
     "metadata": {},
     "output_type": "execute_result"
    },
    {
     "data": {
      "image/png": "[encoded data removed]",
      "text/plain": [
       "<Figure size 432x288 with 1 Axes>"
      ]
     },
     "metadata": {
      "needs_background": "light"
     },
     "output_type": "display_data"
    }
   ],
   "source": [
    "plt.imshow(imgs_fake[41].squeeze(0).detach().numpy())"
   ]
  },
  {
   "cell_type": "code",
   "execution_count": 139,
   "id": "8ba8fa98-904e-4a24-8523-a332c30bb5dc",
   "metadata": {},
   "outputs": [
    {
     "data": {
      "text/plain": [
       "torch.Size([9, 100])"
      ]
     },
     "execution_count": 139,
     "metadata": {},
     "output_type": "execute_result"
    }
   ],
   "source": [
    "image_start = z[41].numpy()\n",
    "image_end = z[28].numpy()\n",
    "\n",
    "interpolate_list = []\n",
    "\n",
    "image_step = ((image_end - image_start) / (7 + 2))\n",
    "\n",
    "for step in range(9):\n",
    "    image_bias = step * image_step\n",
    "    interpolate_list.append(image_start + image_bias)\n",
    "    \n",
    "interpolate_list_t = torch.Tensor(np.array(interpolate_list))\n",
    "interpolate_list_t.shape"
   ]
  },
  {
   "cell_type": "code",
   "execution_count": 140,
   "id": "520df0ed-c97b-43df-8c2f-f990ba112b08",
   "metadata": {},
   "outputs": [],
   "source": [
    "\n",
    "image_interplate = buildImage(G(interpolate_list_t), 9)\n",
    "save_image(image_interplate[:9], 'interpolation_image.png', nrow=3, normalize=True)"
   ]
  },
  {
   "cell_type": "code",
   "execution_count": 138,
   "id": "d4ed5da6-ad3e-41c9-a6c0-4698d703a867",
   "metadata": {},
   "outputs": [],
   "source": []
  },
  {
   "cell_type": "code",
   "execution_count": null,
   "id": "f56a0359-4976-4662-a067-10d2053a4d6c",
   "metadata": {},
   "outputs": [],
   "source": []
  }
 ],
 "metadata": {
  "kernelspec": {
   "display_name": "Python 3 (ipykernel)",
   "language": "python",
   "name": "python3"
  },
  "language_info": {
   "codemirror_mode": {
    "name": "ipython",
    "version": 3
   },
   "file_extension": ".py",
   "mimetype": "text/x-python",
   "name": "python",
   "nbconvert_exporter": "python",
   "pygments_lexer": "ipython3",
   "version": "3.8.10"
  }
 },
 "nbformat": 4,
 "nbformat_minor": 5
}
