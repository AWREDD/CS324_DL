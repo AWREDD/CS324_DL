{
 "cells": [
  {
   "cell_type": "code",
   "execution_count": 1,
   "id": "589052b0-9be9-4843-bd45-882a30019f6d",
   "metadata": {},
   "outputs": [],
   "source": [
    "from sklearn import datasets\n",
    "from sklearn.model_selection import train_test_split\n",
    "\n",
    "import matplotlib.pyplot as plt\n",
    "\n",
    "import torch\n",
    "import torch.nn as nn\n",
    "import torch.optim as optim\n",
    "from torch.autograd import Variable\n",
    "from torch.utils.data import random_split\n",
    "from torch.utils.data import TensorDataset\n",
    "from torch.utils.data import DataLoader\n",
    "from torch.utils.tensorboard import SummaryWriter\n",
    "import torchvision\n",
    "from torchvision import transforms\n",
    "\n",
    "import time\n",
    "import numpy as np\n",
    "import os\n",
    "from tqdm import  tqdm"
   ]
  },
  {
   "cell_type": "code",
   "execution_count": 2,
   "id": "23996535-aef5-444c-8d07-36c1e1397e51",
   "metadata": {},
   "outputs": [],
   "source": [
    "N_INPUTS = 32 * 32 * 3\n",
    "N_CLASSES = 10\n",
    "HIDDEN_LAYER = '64, 64, 64'\n",
    "\n",
    "# Default constants\n",
    "LEARNING_RATE = 0.01\n",
    "EPOCH = 1500\n",
    "EVAL_FREQ = 10\n",
    "\n",
    "dataset_size = 1000\n",
    "TEST_SIZE = 0.2\n",
    "\n",
    "BATCH_SIZE = 128"
   ]
  },
  {
   "cell_type": "code",
   "execution_count": 3,
   "id": "e467dc7c-0fbc-43b5-ab5b-8b99482b331d",
   "metadata": {},
   "outputs": [
    {
     "name": "stdout",
     "output_type": "stream",
     "text": [
      "Files already downloaded and verified\n",
      "Files already downloaded and verified\n"
     ]
    }
   ],
   "source": [
    "transform_train = transforms.Compose(\n",
    "    [transforms.ToTensor(),\n",
    "     transforms.Normalize((0.4914, 0.4822, 0.4465), (0.2470, 0.2435, 0.2616))])\n",
    " \n",
    "transform_test = transforms.Compose(\n",
    "    [transforms.ToTensor(),\n",
    "     transforms.Normalize((0.4941, 0.4850, 0.4502), (0.2467, 0.2429, 0.2616))])\n",
    "    \n",
    "    \n",
    "trainset = torchvision.datasets.CIFAR10(\n",
    "    root='./data',\n",
    "    train=True,\n",
    "    download=True,\n",
    "    transform=transform_train)\n",
    "\n",
    "trainloader = torch.utils.data.DataLoader(\n",
    "    trainset, \n",
    "    batch_size=BATCH_SIZE, \n",
    "    shuffle=True, \n",
    "    num_workers=2)\n",
    " \n",
    "testset = torchvision.datasets.CIFAR10(\n",
    "    root='./data', \n",
    "    train=False, \n",
    "    download=True, \n",
    "    transform=transform_test)\n",
    "\n",
    "testloader = torch.utils.data.DataLoader(\n",
    "    testset, \n",
    "    batch_size=BATCH_SIZE, \n",
    "    shuffle=True, \n",
    "    num_workers=2)\n",
    " \n",
    "classes = ('plane', 'car', 'bird', 'cat', 'deer', 'dog', 'frog', 'horse', 'ship', 'truck')"
   ]
  },
  {
   "cell_type": "code",
   "execution_count": 4,
   "id": "9b163ced-d8c2-4574-94e8-f4375aafa598",
   "metadata": {},
   "outputs": [],
   "source": [
    "class MLP(nn.Module):\n",
    "\n",
    "    def __init__(self, n_inputs, n_hidden, n_classes):\n",
    "        \"\"\"\n",
    "        Initializes multi-layer perceptron object.    \n",
    "        Args:\n",
    "            n_inputs: number of inputs (i.e., dimension of an input vector).\n",
    "            n_hidden: list of integers, where each integer is the number of units in each linear layer\n",
    "            n_classes: number of classes of the classification problem (i.e., output dimension of the network)\n",
    "        \"\"\"\n",
    "        super(MLP, self).__init__()\n",
    "        self.input_layers = nn.Sequential()\n",
    "        self.hidden_layers = nn.Sequential()\n",
    "        self.output_layers = nn.Sequential()\n",
    "        for index in range(len(n_hidden)):\n",
    "            if index == 0:\n",
    "                self.input_layers.add_module(\"input_layer\",\n",
    "                                             nn.Linear(in_features=n_inputs, out_features=int(n_hidden[index]),\n",
    "                                                       bias=True))\n",
    "                self.input_layers.add_module(\"input_relu\",\n",
    "                                             nn.ReLU())\n",
    "            if index == len(n_hidden) - 1:\n",
    "                self.output_layers.add_module(\"output_layer\",\n",
    "                                              nn.Linear(in_features=int(n_hidden[index]), out_features=n_classes,\n",
    "                                                        bias=True))\n",
    "            else:\n",
    "                self.hidden_layers.add_module(\"hidden_layer\" + str(index),\n",
    "                                              nn.Linear(in_features=int(n_hidden[index]),\n",
    "                                                        out_features=int(n_hidden[index + 1]), bias=True))\n",
    "                self.hidden_layers.add_module(\"hidden_relu\" + str(index),\n",
    "                                              nn.ReLU())\n",
    "                \n",
    "        for m in self.modules():\n",
    "            if isinstance(m, nn.Linear):\n",
    "                nn.init.normal_(m.weight, mean=0, std=0.001)\n",
    "                nn.init.constant_(m.bias, 0)\n",
    "            elif isinstance(m, nn.Conv2d):\n",
    "                nn.init.kaiming_normal_(m.weight, mode='fan_out', nonlinearity='relu')\n",
    "\n",
    "            elif isinstance(m, nn.BatchNorm2d):\n",
    "                nn.init.constant_(m.weight, 1)\n",
    "                nn.init.constant_(m.bias, 0)\n",
    "\n",
    "    def forward(self, x):\n",
    "        \"\"\"\n",
    "        Predict network output from input by passing it through several layers.\n",
    "        Args:\n",
    "            x: input to the network\n",
    "        Returns:\n",
    "            out: output of the network\n",
    "        \"\"\"\n",
    "        x = x.view(-1,32 * 32 * 3)    \n",
    "        x = self.input_layers(x)\n",
    "        x = self.hidden_layers(x)\n",
    "        x = self.output_layers(x)\n",
    "        return x\n"
   ]
  },
  {
   "cell_type": "code",
   "execution_count": 5,
   "id": "fb4676f0-da02-48a5-af92-8635b8465024",
   "metadata": {},
   "outputs": [],
   "source": [
    "loss_train_list = []\n",
    "loss_test_list = []\n",
    "acc_train_list = []\n",
    "acc_test_list = []\n",
    "epoch_list = []"
   ]
  },
  {
   "cell_type": "code",
   "execution_count": 6,
   "id": "3f42f064-2225-470a-a9d9-fd7a9faf088f",
   "metadata": {},
   "outputs": [],
   "source": [
    "def train(optimizer, learning_rate, max_epochs, eval_freq, ada_opt, save_para):\n",
    "    device = torch.device(\"cuda:0\" if torch.cuda.is_available() else \"mps\")\n",
    "    print(\"start training CNN...\")\n",
    "    print(device)\n",
    "    # 储存学习到的参数\n",
    "    opt_save_path = \"optimizer\" + optimizer + '.pth'\n",
    "    writer = SummaryWriter('./logs-MLP-image/' + optimizer + '/lr=' + str(learning_rate))\n",
    "    \n",
    "    hidden_layer = HIDDEN_LAYER.split(\",\")\n",
    "    model = MLP(n_inputs=N_INPUTS, n_hidden=hidden_layer, n_classes=N_CLASSES)\n",
    "    model.to(device)\n",
    "    \n",
    "    cost = nn.CrossEntropyLoss()\n",
    "    \n",
    "    if optimizer == 'SGD':\n",
    "      optimizer = torch.optim.SGD(model.parameters(), lr=learning_rate)\n",
    "    elif optimizer == 'ADAM':\n",
    "      optimizer = torch.optim.Adam(model.parameters(), lr=learning_rate)\n",
    "    elif optimizer == 'RMSprop':\n",
    "      optimizer = torch.optim.RMSprop(model.parameters(), lr=learning_rate)\n",
    "    \n",
    "    if ada_opt:\n",
    "        scheduler = torch.optim.lr_scheduler.MultiStepLR(optimizer, milestones=[80, 100, 120], gamma=0.1)\n",
    "    \n",
    "    for epoch in tqdm(range(max_epochs)):\n",
    "        \n",
    "        model.train()\n",
    "        \n",
    "        train_acc_avg = 0.\n",
    "        train_loss_avg = 0.\n",
    "        \n",
    "        for idx, (image, label) in enumerate(trainloader):\n",
    "            \n",
    "            image, label = image.to(device), label.to(device)\n",
    "            \n",
    "            optimizer.zero_grad()\n",
    "            output = model(image)\n",
    "            loss = cost(output, label)\n",
    "            loss.backward()\n",
    "            optimizer.step()\n",
    "            \n",
    "            train_loss_avg = train_loss_avg + loss.item()\n",
    "            \n",
    "            _, pred = output.max(1)\n",
    "            num_correct = (pred == label).sum().item()\n",
    "            train_acc_avg = train_acc_avg + num_correct/label.shape[0]\n",
    "            \n",
    "        train_loss_avg = train_loss_avg/len(trainloader)\n",
    "        train_acc_avg = train_acc_avg/len(trainloader)\n",
    "        print(\"epoch is %d, train_loss is %lf, train_acc is %lf\" %(epoch+1, train_loss_avg, train_acc_avg))\n",
    "        writer.add_scalar('Train/Accuracy', train_acc_avg, epoch)\n",
    "        writer.add_scalar('Train/Loss', train_loss_avg, epoch)\n",
    "        if ada_opt: scheduler.step()\n",
    "        \n",
    "        test_acc_avg = 0.\n",
    "        test_loss_avg = 0.\n",
    "        \n",
    "        with torch.no_grad():\n",
    "            for idx, (image, label) in enumerate(testloader):\n",
    "                \n",
    "                image, label = image.to(device), label.to(device)\n",
    "                \n",
    "                output = model(image)\n",
    "                loss = cost(output, label)\n",
    "                \n",
    "                test_loss_avg = test_loss_avg + loss.item()\n",
    "                \n",
    "                _, pred = output.max(1)\n",
    "                num_correct = (pred == label).sum().item()\n",
    "                test_acc_avg = test_acc_avg + num_correct/label.shape[0]\n",
    "            \n",
    "        test_loss_avg = test_loss_avg/len(testloader)\n",
    "        test_acc_avg = test_acc_avg/len(testloader)\n",
    "        print('epoch is %d, test_loss is %lf, test_acc is %lf' %(epoch+1, test_loss_avg, test_acc_avg))\n",
    "        writer.add_scalar('Test/Accuracy', test_acc_avg, epoch)\n",
    "        writer.add_scalar('Test/Loss', test_loss_avg, epoch)\n",
    "    \n",
    "    return model\n",
    "    "
   ]
  },
  {
   "cell_type": "code",
   "execution_count": 7,
   "id": "da4efed4-6913-4167-a6b3-b1dc6d990c7e",
   "metadata": {},
   "outputs": [
    {
     "name": "stdout",
     "output_type": "stream",
     "text": [
      "start training CNN...\n",
      "cuda:0\n"
     ]
    },
    {
     "name": "stderr",
     "output_type": "stream",
     "text": [
      "  0%|          | 0/200 [00:00<?, ?it/s]"
     ]
    },
    {
     "name": "stdout",
     "output_type": "stream",
     "text": [
      "epoch is 1, train_loss is 2.149992, train_acc is 0.168934\n"
     ]
    },
    {
     "name": "stderr",
     "output_type": "stream",
     "text": [
      "  0%|          | 1/200 [00:07<24:54,  7.51s/it]"
     ]
    },
    {
     "name": "stdout",
     "output_type": "stream",
     "text": [
      "epoch is 1, test_loss is 2.062653, test_acc is 0.187203\n",
      "epoch is 2, train_loss is 2.043097, train_acc is 0.198270\n"
     ]
    },
    {
     "name": "stderr",
     "output_type": "stream",
     "text": [
      "  1%|          | 2/200 [00:15<24:50,  7.53s/it]"
     ]
    },
    {
     "name": "stdout",
     "output_type": "stream",
     "text": [
      "epoch is 2, test_loss is 2.011459, test_acc is 0.210740\n",
      "epoch is 3, train_loss is 1.982708, train_acc is 0.220956\n"
     ]
    },
    {
     "name": "stderr",
     "output_type": "stream",
     "text": [
      "  2%|▏         | 3/200 [00:22<24:32,  7.48s/it]"
     ]
    },
    {
     "name": "stdout",
     "output_type": "stream",
     "text": [
      "epoch is 3, test_loss is 1.952842, test_acc is 0.223991\n",
      "epoch is 4, train_loss is 1.932750, train_acc is 0.231186\n"
     ]
    },
    {
     "name": "stderr",
     "output_type": "stream",
     "text": [
      "  2%|▏         | 4/200 [00:30<24:39,  7.55s/it]"
     ]
    },
    {
     "name": "stdout",
     "output_type": "stream",
     "text": [
      "epoch is 4, test_loss is 1.915328, test_acc is 0.239419\n",
      "epoch is 5, train_loss is 1.899783, train_acc is 0.248929\n"
     ]
    },
    {
     "name": "stderr",
     "output_type": "stream",
     "text": [
      "  2%|▎         | 5/200 [00:37<24:44,  7.61s/it]"
     ]
    },
    {
     "name": "stdout",
     "output_type": "stream",
     "text": [
      "epoch is 5, test_loss is 1.886128, test_acc is 0.257219\n",
      "epoch is 6, train_loss is 1.865336, train_acc is 0.276423\n"
     ]
    },
    {
     "name": "stderr",
     "output_type": "stream",
     "text": [
      "  3%|▎         | 6/200 [00:45<24:36,  7.61s/it]"
     ]
    },
    {
     "name": "stdout",
     "output_type": "stream",
     "text": [
      "epoch is 6, test_loss is 1.846374, test_acc is 0.289755\n",
      "epoch is 7, train_loss is 1.837827, train_acc is 0.292675\n"
     ]
    },
    {
     "name": "stderr",
     "output_type": "stream",
     "text": [
      "  4%|▎         | 7/200 [00:53<24:28,  7.61s/it]"
     ]
    },
    {
     "name": "stdout",
     "output_type": "stream",
     "text": [
      "epoch is 7, test_loss is 1.825427, test_acc is 0.306171\n",
      "epoch is 8, train_loss is 1.816396, train_acc is 0.303812\n"
     ]
    },
    {
     "name": "stderr",
     "output_type": "stream",
     "text": [
      "  4%|▍         | 8/200 [01:00<24:24,  7.63s/it]"
     ]
    },
    {
     "name": "stdout",
     "output_type": "stream",
     "text": [
      "epoch is 8, test_loss is 1.811530, test_acc is 0.302017\n",
      "epoch is 9, train_loss is 1.794509, train_acc is 0.310973\n"
     ]
    },
    {
     "name": "stderr",
     "output_type": "stream",
     "text": [
      "  4%|▍         | 9/200 [01:08<24:30,  7.70s/it]"
     ]
    },
    {
     "name": "stdout",
     "output_type": "stream",
     "text": [
      "epoch is 9, test_loss is 1.792936, test_acc is 0.315961\n",
      "epoch is 10, train_loss is 1.772801, train_acc is 0.320948\n"
     ]
    },
    {
     "name": "stderr",
     "output_type": "stream",
     "text": [
      "  5%|▌         | 10/200 [01:16<24:22,  7.70s/it]"
     ]
    },
    {
     "name": "stdout",
     "output_type": "stream",
     "text": [
      "epoch is 10, test_loss is 1.774987, test_acc is 0.320609\n",
      "epoch is 11, train_loss is 1.750641, train_acc is 0.333360\n"
     ]
    },
    {
     "name": "stderr",
     "output_type": "stream",
     "text": [
      "  6%|▌         | 11/200 [01:23<24:09,  7.67s/it]"
     ]
    },
    {
     "name": "stdout",
     "output_type": "stream",
     "text": [
      "epoch is 11, test_loss is 1.759563, test_acc is 0.330202\n",
      "epoch is 12, train_loss is 1.730088, train_acc is 0.345780\n"
     ]
    },
    {
     "name": "stderr",
     "output_type": "stream",
     "text": [
      "  6%|▌         | 12/200 [01:31<24:00,  7.66s/it]"
     ]
    },
    {
     "name": "stdout",
     "output_type": "stream",
     "text": [
      "epoch is 12, test_loss is 1.745439, test_acc is 0.346123\n",
      "epoch is 13, train_loss is 1.705052, train_acc is 0.358927\n"
     ]
    },
    {
     "name": "stderr",
     "output_type": "stream",
     "text": [
      "  6%|▋         | 13/200 [01:39<23:43,  7.61s/it]"
     ]
    },
    {
     "name": "stdout",
     "output_type": "stream",
     "text": [
      "epoch is 13, test_loss is 1.723831, test_acc is 0.350969\n",
      "epoch is 14, train_loss is 1.678922, train_acc is 0.371332\n"
     ]
    },
    {
     "name": "stderr",
     "output_type": "stream",
     "text": [
      "  7%|▋         | 14/200 [01:46<23:38,  7.63s/it]"
     ]
    },
    {
     "name": "stdout",
     "output_type": "stream",
     "text": [
      "epoch is 14, test_loss is 1.699930, test_acc is 0.366001\n",
      "epoch is 15, train_loss is 1.656709, train_acc is 0.380846\n"
     ]
    },
    {
     "name": "stderr",
     "output_type": "stream",
     "text": [
      "  8%|▊         | 15/200 [01:54<23:26,  7.60s/it]"
     ]
    },
    {
     "name": "stdout",
     "output_type": "stream",
     "text": [
      "epoch is 15, test_loss is 1.688359, test_acc is 0.367880\n",
      "epoch is 16, train_loss is 1.637578, train_acc is 0.390345\n"
     ]
    },
    {
     "name": "stderr",
     "output_type": "stream",
     "text": [
      "  8%|▊         | 16/200 [02:01<23:16,  7.59s/it]"
     ]
    },
    {
     "name": "stdout",
     "output_type": "stream",
     "text": [
      "epoch is 16, test_loss is 1.671222, test_acc is 0.379846\n",
      "epoch is 17, train_loss is 1.618967, train_acc is 0.397546\n"
     ]
    },
    {
     "name": "stderr",
     "output_type": "stream",
     "text": [
      "  8%|▊         | 17/200 [02:09<23:14,  7.62s/it]"
     ]
    },
    {
     "name": "stdout",
     "output_type": "stream",
     "text": [
      "epoch is 17, test_loss is 1.656975, test_acc is 0.386867\n",
      "epoch is 18, train_loss is 1.602464, train_acc is 0.406062\n"
     ]
    },
    {
     "name": "stderr",
     "output_type": "stream",
     "text": [
      "  9%|▉         | 18/200 [02:17<23:02,  7.60s/it]"
     ]
    },
    {
     "name": "stdout",
     "output_type": "stream",
     "text": [
      "epoch is 18, test_loss is 1.645065, test_acc is 0.394877\n",
      "epoch is 19, train_loss is 1.587759, train_acc is 0.412456\n"
     ]
    },
    {
     "name": "stderr",
     "output_type": "stream",
     "text": [
      " 10%|▉         | 19/200 [02:24<22:57,  7.61s/it]"
     ]
    },
    {
     "name": "stdout",
     "output_type": "stream",
     "text": [
      "epoch is 19, test_loss is 1.642394, test_acc is 0.396756\n",
      "epoch is 20, train_loss is 1.571420, train_acc is 0.420704\n"
     ]
    },
    {
     "name": "stderr",
     "output_type": "stream",
     "text": [
      " 10%|█         | 20/200 [02:32<22:47,  7.60s/it]"
     ]
    },
    {
     "name": "stdout",
     "output_type": "stream",
     "text": [
      "epoch is 20, test_loss is 1.630276, test_acc is 0.404074\n",
      "epoch is 21, train_loss is 1.557206, train_acc is 0.423465\n"
     ]
    },
    {
     "name": "stderr",
     "output_type": "stream",
     "text": [
      " 10%|█         | 21/200 [02:39<22:45,  7.63s/it]"
     ]
    },
    {
     "name": "stdout",
     "output_type": "stream",
     "text": [
      "epoch is 21, test_loss is 1.610558, test_acc is 0.412282\n",
      "epoch is 22, train_loss is 1.543075, train_acc is 0.431166\n"
     ]
    },
    {
     "name": "stderr",
     "output_type": "stream",
     "text": [
      " 11%|█         | 22/200 [02:47<22:37,  7.63s/it]"
     ]
    },
    {
     "name": "stdout",
     "output_type": "stream",
     "text": [
      "epoch is 22, test_loss is 1.602124, test_acc is 0.415051\n",
      "epoch is 23, train_loss is 1.529471, train_acc is 0.434459\n"
     ]
    },
    {
     "name": "stderr",
     "output_type": "stream",
     "text": [
      " 12%|█▏        | 23/200 [02:55<22:33,  7.65s/it]"
     ]
    },
    {
     "name": "stdout",
     "output_type": "stream",
     "text": [
      "epoch is 23, test_loss is 1.600788, test_acc is 0.420293\n",
      "epoch is 24, train_loss is 1.517135, train_acc is 0.440189\n"
     ]
    },
    {
     "name": "stderr",
     "output_type": "stream",
     "text": [
      " 12%|█▏        | 24/200 [03:02<22:28,  7.66s/it]"
     ]
    },
    {
     "name": "stdout",
     "output_type": "stream",
     "text": [
      "epoch is 24, test_loss is 1.595336, test_acc is 0.420688\n",
      "epoch is 25, train_loss is 1.504175, train_acc is 0.446016\n"
     ]
    },
    {
     "name": "stderr",
     "output_type": "stream",
     "text": [
      " 12%|█▎        | 25/200 [03:10<22:15,  7.63s/it]"
     ]
    },
    {
     "name": "stdout",
     "output_type": "stream",
     "text": [
      "epoch is 25, test_loss is 1.580671, test_acc is 0.420392\n",
      "epoch is 26, train_loss is 1.491538, train_acc is 0.450424\n"
     ]
    },
    {
     "name": "stderr",
     "output_type": "stream",
     "text": [
      " 13%|█▎        | 26/200 [03:18<22:02,  7.60s/it]"
     ]
    },
    {
     "name": "stdout",
     "output_type": "stream",
     "text": [
      "epoch is 26, test_loss is 1.574152, test_acc is 0.426721\n",
      "epoch is 27, train_loss is 1.479656, train_acc is 0.454288\n"
     ]
    },
    {
     "name": "stderr",
     "output_type": "stream",
     "text": [
      " 14%|█▎        | 27/200 [03:25<21:58,  7.62s/it]"
     ]
    },
    {
     "name": "stdout",
     "output_type": "stream",
     "text": [
      "epoch is 27, test_loss is 1.568700, test_acc is 0.432654\n",
      "epoch is 28, train_loss is 1.467497, train_acc is 0.459603\n"
     ]
    },
    {
     "name": "stderr",
     "output_type": "stream",
     "text": [
      " 14%|█▍        | 28/200 [03:33<21:50,  7.62s/it]"
     ]
    },
    {
     "name": "stdout",
     "output_type": "stream",
     "text": [
      "epoch is 28, test_loss is 1.560413, test_acc is 0.433445\n",
      "epoch is 29, train_loss is 1.456410, train_acc is 0.464294\n"
     ]
    },
    {
     "name": "stderr",
     "output_type": "stream",
     "text": [
      " 14%|█▍        | 29/200 [03:40<21:44,  7.63s/it]"
     ]
    },
    {
     "name": "stdout",
     "output_type": "stream",
     "text": [
      "epoch is 29, test_loss is 1.559921, test_acc is 0.432456\n",
      "epoch is 30, train_loss is 1.444979, train_acc is 0.468003\n"
     ]
    },
    {
     "name": "stderr",
     "output_type": "stream",
     "text": [
      " 15%|█▌        | 30/200 [03:48<21:36,  7.63s/it]"
     ]
    },
    {
     "name": "stdout",
     "output_type": "stream",
     "text": [
      "epoch is 30, test_loss is 1.550624, test_acc is 0.439873\n",
      "epoch is 31, train_loss is 1.434338, train_acc is 0.473398\n"
     ]
    },
    {
     "name": "stderr",
     "output_type": "stream",
     "text": [
      " 16%|█▌        | 31/200 [03:56<21:30,  7.64s/it]"
     ]
    },
    {
     "name": "stdout",
     "output_type": "stream",
     "text": [
      "epoch is 31, test_loss is 1.552295, test_acc is 0.440566\n",
      "epoch is 32, train_loss is 1.424836, train_acc is 0.477210\n"
     ]
    },
    {
     "name": "stderr",
     "output_type": "stream",
     "text": [
      " 16%|█▌        | 32/200 [04:03<21:25,  7.65s/it]"
     ]
    },
    {
     "name": "stdout",
     "output_type": "stream",
     "text": [
      "epoch is 32, test_loss is 1.545101, test_acc is 0.445609\n",
      "epoch is 33, train_loss is 1.415454, train_acc is 0.480914\n"
     ]
    },
    {
     "name": "stderr",
     "output_type": "stream",
     "text": [
      " 16%|█▋        | 33/200 [04:11<21:15,  7.64s/it]"
     ]
    },
    {
     "name": "stdout",
     "output_type": "stream",
     "text": [
      "epoch is 33, test_loss is 1.537555, test_acc is 0.445906\n",
      "epoch is 34, train_loss is 1.406110, train_acc is 0.483899\n"
     ]
    },
    {
     "name": "stderr",
     "output_type": "stream",
     "text": [
      " 17%|█▋        | 34/200 [04:19<21:05,  7.62s/it]"
     ]
    },
    {
     "name": "stdout",
     "output_type": "stream",
     "text": [
      "epoch is 34, test_loss is 1.543803, test_acc is 0.444521\n",
      "epoch is 35, train_loss is 1.395682, train_acc is 0.489430\n"
     ]
    },
    {
     "name": "stderr",
     "output_type": "stream",
     "text": [
      " 18%|█▊        | 35/200 [04:26<20:55,  7.61s/it]"
     ]
    },
    {
     "name": "stdout",
     "output_type": "stream",
     "text": [
      "epoch is 35, test_loss is 1.528170, test_acc is 0.448972\n",
      "epoch is 36, train_loss is 1.386847, train_acc is 0.491524\n"
     ]
    },
    {
     "name": "stderr",
     "output_type": "stream",
     "text": [
      " 18%|█▊        | 36/200 [04:34<20:51,  7.63s/it]"
     ]
    },
    {
     "name": "stdout",
     "output_type": "stream",
     "text": [
      "epoch is 36, test_loss is 1.528968, test_acc is 0.449070\n",
      "epoch is 37, train_loss is 1.378057, train_acc is 0.494329\n"
     ]
    },
    {
     "name": "stderr",
     "output_type": "stream",
     "text": [
      " 18%|█▊        | 37/200 [04:42<20:45,  7.64s/it]"
     ]
    },
    {
     "name": "stdout",
     "output_type": "stream",
     "text": [
      "epoch is 37, test_loss is 1.530138, test_acc is 0.447389\n",
      "epoch is 38, train_loss is 1.370295, train_acc is 0.496168\n"
     ]
    },
    {
     "name": "stderr",
     "output_type": "stream",
     "text": [
      " 19%|█▉        | 38/200 [04:49<20:38,  7.65s/it]"
     ]
    },
    {
     "name": "stdout",
     "output_type": "stream",
     "text": [
      "epoch is 38, test_loss is 1.526227, test_acc is 0.454509\n",
      "epoch is 39, train_loss is 1.360361, train_acc is 0.499756\n"
     ]
    },
    {
     "name": "stderr",
     "output_type": "stream",
     "text": [
      " 20%|█▉        | 39/200 [04:57<20:29,  7.64s/it]"
     ]
    },
    {
     "name": "stdout",
     "output_type": "stream",
     "text": [
      "epoch is 39, test_loss is 1.522158, test_acc is 0.449960\n",
      "epoch is 40, train_loss is 1.353281, train_acc is 0.502402\n"
     ]
    },
    {
     "name": "stderr",
     "output_type": "stream",
     "text": [
      " 20%|██        | 40/200 [05:04<20:23,  7.64s/it]"
     ]
    },
    {
     "name": "stdout",
     "output_type": "stream",
     "text": [
      "epoch is 40, test_loss is 1.522010, test_acc is 0.454015\n",
      "epoch is 41, train_loss is 1.344296, train_acc is 0.504703\n"
     ]
    },
    {
     "name": "stderr",
     "output_type": "stream",
     "text": [
      " 20%|██        | 41/200 [05:12<20:15,  7.64s/it]"
     ]
    },
    {
     "name": "stdout",
     "output_type": "stream",
     "text": [
      "epoch is 41, test_loss is 1.523036, test_acc is 0.453619\n",
      "epoch is 42, train_loss is 1.336496, train_acc is 0.508348\n"
     ]
    },
    {
     "name": "stderr",
     "output_type": "stream",
     "text": [
      " 21%|██        | 42/200 [05:20<20:05,  7.63s/it]"
     ]
    },
    {
     "name": "stdout",
     "output_type": "stream",
     "text": [
      "epoch is 42, test_loss is 1.520145, test_acc is 0.455696\n",
      "epoch is 43, train_loss is 1.328923, train_acc is 0.511713\n"
     ]
    },
    {
     "name": "stderr",
     "output_type": "stream",
     "text": [
      " 22%|██▏       | 43/200 [05:27<19:55,  7.62s/it]"
     ]
    },
    {
     "name": "stdout",
     "output_type": "stream",
     "text": [
      "epoch is 43, test_loss is 1.517827, test_acc is 0.455795\n",
      "epoch is 44, train_loss is 1.319806, train_acc is 0.515277\n"
     ]
    },
    {
     "name": "stderr",
     "output_type": "stream",
     "text": [
      " 22%|██▏       | 44/200 [05:35<19:51,  7.64s/it]"
     ]
    },
    {
     "name": "stdout",
     "output_type": "stream",
     "text": [
      "epoch is 44, test_loss is 1.529721, test_acc is 0.455696\n",
      "epoch is 45, train_loss is 1.313112, train_acc is 0.516065\n"
     ]
    },
    {
     "name": "stderr",
     "output_type": "stream",
     "text": [
      " 22%|██▎       | 45/200 [05:43<19:41,  7.62s/it]"
     ]
    },
    {
     "name": "stdout",
     "output_type": "stream",
     "text": [
      "epoch is 45, test_loss is 1.520489, test_acc is 0.451147\n",
      "epoch is 46, train_loss is 1.305547, train_acc is 0.518266\n"
     ]
    },
    {
     "name": "stderr",
     "output_type": "stream",
     "text": [
      " 23%|██▎       | 46/200 [05:50<19:30,  7.60s/it]"
     ]
    },
    {
     "name": "stdout",
     "output_type": "stream",
     "text": [
      "epoch is 46, test_loss is 1.517780, test_acc is 0.460938\n",
      "epoch is 47, train_loss is 1.297809, train_acc is 0.520828\n"
     ]
    },
    {
     "name": "stderr",
     "output_type": "stream",
     "text": [
      " 24%|██▎       | 47/200 [05:58<19:24,  7.61s/it]"
     ]
    },
    {
     "name": "stdout",
     "output_type": "stream",
     "text": [
      "epoch is 47, test_loss is 1.512393, test_acc is 0.455498\n",
      "epoch is 48, train_loss is 1.290353, train_acc is 0.525336\n"
     ]
    },
    {
     "name": "stderr",
     "output_type": "stream",
     "text": [
      " 24%|██▍       | 48/200 [06:05<19:19,  7.63s/it]"
     ]
    },
    {
     "name": "stdout",
     "output_type": "stream",
     "text": [
      "epoch is 48, test_loss is 1.527068, test_acc is 0.459850\n",
      "epoch is 49, train_loss is 1.283858, train_acc is 0.526894\n"
     ]
    },
    {
     "name": "stderr",
     "output_type": "stream",
     "text": [
      " 24%|██▍       | 49/200 [06:13<19:12,  7.64s/it]"
     ]
    },
    {
     "name": "stdout",
     "output_type": "stream",
     "text": [
      "epoch is 49, test_loss is 1.521986, test_acc is 0.460047\n",
      "epoch is 50, train_loss is 1.277325, train_acc is 0.528025\n"
     ]
    },
    {
     "name": "stderr",
     "output_type": "stream",
     "text": [
      " 25%|██▌       | 50/200 [06:21<19:00,  7.60s/it]"
     ]
    },
    {
     "name": "stdout",
     "output_type": "stream",
     "text": [
      "epoch is 50, test_loss is 1.519412, test_acc is 0.462718\n",
      "epoch is 51, train_loss is 1.270188, train_acc is 0.531362\n"
     ]
    },
    {
     "name": "stderr",
     "output_type": "stream",
     "text": [
      " 26%|██▌       | 51/200 [06:28<18:54,  7.61s/it]"
     ]
    },
    {
     "name": "stdout",
     "output_type": "stream",
     "text": [
      "epoch is 51, test_loss is 1.519501, test_acc is 0.457081\n",
      "epoch is 52, train_loss is 1.262658, train_acc is 0.532809\n"
     ]
    },
    {
     "name": "stderr",
     "output_type": "stream",
     "text": [
      " 26%|██▌       | 52/200 [06:36<18:48,  7.62s/it]"
     ]
    },
    {
     "name": "stdout",
     "output_type": "stream",
     "text": [
      "epoch is 52, test_loss is 1.530060, test_acc is 0.464893\n",
      "epoch is 53, train_loss is 1.258707, train_acc is 0.536873\n"
     ]
    },
    {
     "name": "stderr",
     "output_type": "stream",
     "text": [
      " 26%|██▋       | 53/200 [06:44<18:41,  7.63s/it]"
     ]
    },
    {
     "name": "stdout",
     "output_type": "stream",
     "text": [
      "epoch is 53, test_loss is 1.524518, test_acc is 0.466278\n",
      "epoch is 54, train_loss is 1.249643, train_acc is 0.537296\n"
     ]
    },
    {
     "name": "stderr",
     "output_type": "stream",
     "text": [
      " 27%|██▋       | 54/200 [06:51<18:31,  7.61s/it]"
     ]
    },
    {
     "name": "stdout",
     "output_type": "stream",
     "text": [
      "epoch is 54, test_loss is 1.517273, test_acc is 0.465289\n",
      "epoch is 55, train_loss is 1.242625, train_acc is 0.540589\n"
     ]
    },
    {
     "name": "stderr",
     "output_type": "stream",
     "text": [
      " 28%|██▊       | 55/200 [06:59<18:26,  7.63s/it]"
     ]
    },
    {
     "name": "stdout",
     "output_type": "stream",
     "text": [
      "epoch is 55, test_loss is 1.520341, test_acc is 0.468354\n",
      "epoch is 56, train_loss is 1.238182, train_acc is 0.543414\n"
     ]
    },
    {
     "name": "stderr",
     "output_type": "stream",
     "text": [
      " 28%|██▊       | 56/200 [07:07<18:23,  7.67s/it]"
     ]
    },
    {
     "name": "stdout",
     "output_type": "stream",
     "text": [
      "epoch is 56, test_loss is 1.534929, test_acc is 0.466278\n",
      "epoch is 57, train_loss is 1.230888, train_acc is 0.544961\n"
     ]
    },
    {
     "name": "stderr",
     "output_type": "stream",
     "text": [
      " 28%|██▊       | 57/200 [07:14<18:15,  7.66s/it]"
     ]
    },
    {
     "name": "stdout",
     "output_type": "stream",
     "text": [
      "epoch is 57, test_loss is 1.520340, test_acc is 0.473695\n",
      "epoch is 58, train_loss is 1.225872, train_acc is 0.546675\n"
     ]
    },
    {
     "name": "stderr",
     "output_type": "stream",
     "text": [
      " 29%|██▉       | 58/200 [07:22<18:05,  7.64s/it]"
     ]
    },
    {
     "name": "stdout",
     "output_type": "stream",
     "text": [
      "epoch is 58, test_loss is 1.532246, test_acc is 0.469244\n",
      "epoch is 59, train_loss is 1.218718, train_acc is 0.550064\n"
     ]
    },
    {
     "name": "stderr",
     "output_type": "stream",
     "text": [
      " 30%|██▉       | 59/200 [07:29<17:59,  7.65s/it]"
     ]
    },
    {
     "name": "stdout",
     "output_type": "stream",
     "text": [
      "epoch is 59, test_loss is 1.531414, test_acc is 0.470134\n",
      "epoch is 60, train_loss is 1.213149, train_acc is 0.551275\n"
     ]
    },
    {
     "name": "stderr",
     "output_type": "stream",
     "text": [
      " 30%|███       | 60/200 [07:37<17:52,  7.66s/it]"
     ]
    },
    {
     "name": "stdout",
     "output_type": "stream",
     "text": [
      "epoch is 60, test_loss is 1.542954, test_acc is 0.464498\n",
      "epoch is 61, train_loss is 1.206429, train_acc is 0.553029\n"
     ]
    },
    {
     "name": "stderr",
     "output_type": "stream",
     "text": [
      " 30%|███       | 61/200 [07:45<17:45,  7.67s/it]"
     ]
    },
    {
     "name": "stdout",
     "output_type": "stream",
     "text": [
      "epoch is 61, test_loss is 1.531482, test_acc is 0.470332\n",
      "epoch is 62, train_loss is 1.199909, train_acc is 0.557277\n"
     ]
    },
    {
     "name": "stderr",
     "output_type": "stream",
     "text": [
      " 31%|███       | 62/200 [07:53<17:41,  7.69s/it]"
     ]
    },
    {
     "name": "stdout",
     "output_type": "stream",
     "text": [
      "epoch is 62, test_loss is 1.549907, test_acc is 0.469244\n",
      "epoch is 63, train_loss is 1.195726, train_acc is 0.558340\n"
     ]
    },
    {
     "name": "stderr",
     "output_type": "stream",
     "text": [
      " 32%|███▏      | 63/200 [08:00<17:30,  7.67s/it]"
     ]
    },
    {
     "name": "stdout",
     "output_type": "stream",
     "text": [
      "epoch is 63, test_loss is 1.544243, test_acc is 0.467761\n",
      "epoch is 64, train_loss is 1.187652, train_acc is 0.561065\n"
     ]
    },
    {
     "name": "stderr",
     "output_type": "stream",
     "text": [
      " 32%|███▏      | 64/200 [08:08<17:26,  7.70s/it]"
     ]
    },
    {
     "name": "stdout",
     "output_type": "stream",
     "text": [
      "epoch is 64, test_loss is 1.539865, test_acc is 0.471915\n",
      "epoch is 65, train_loss is 1.183340, train_acc is 0.562824\n"
     ]
    },
    {
     "name": "stderr",
     "output_type": "stream",
     "text": [
      " 32%|███▎      | 65/200 [08:16<17:19,  7.70s/it]"
     ]
    },
    {
     "name": "stdout",
     "output_type": "stream",
     "text": [
      "epoch is 65, test_loss is 1.536469, test_acc is 0.473497\n",
      "epoch is 66, train_loss is 1.177910, train_acc is 0.565345\n"
     ]
    },
    {
     "name": "stderr",
     "output_type": "stream",
     "text": [
      " 33%|███▎      | 66/200 [08:23<17:09,  7.68s/it]"
     ]
    },
    {
     "name": "stdout",
     "output_type": "stream",
     "text": [
      "epoch is 66, test_loss is 1.547406, test_acc is 0.470036\n",
      "epoch is 67, train_loss is 1.171315, train_acc is 0.566244\n"
     ]
    },
    {
     "name": "stderr",
     "output_type": "stream",
     "text": [
      " 34%|███▎      | 67/200 [08:31<17:01,  7.68s/it]"
     ]
    },
    {
     "name": "stdout",
     "output_type": "stream",
     "text": [
      "epoch is 67, test_loss is 1.541649, test_acc is 0.474090\n",
      "epoch is 68, train_loss is 1.165351, train_acc is 0.569405\n"
     ]
    },
    {
     "name": "stderr",
     "output_type": "stream",
     "text": [
      " 34%|███▍      | 68/200 [08:39<16:54,  7.69s/it]"
     ]
    },
    {
     "name": "stdout",
     "output_type": "stream",
     "text": [
      "epoch is 68, test_loss is 1.544798, test_acc is 0.477156\n",
      "epoch is 69, train_loss is 1.159766, train_acc is 0.570065\n"
     ]
    },
    {
     "name": "stderr",
     "output_type": "stream",
     "text": [
      " 34%|███▍      | 69/200 [08:46<16:43,  7.66s/it]"
     ]
    },
    {
     "name": "stdout",
     "output_type": "stream",
     "text": [
      "epoch is 69, test_loss is 1.557741, test_acc is 0.469739\n",
      "epoch is 70, train_loss is 1.153839, train_acc is 0.573102\n"
     ]
    },
    {
     "name": "stderr",
     "output_type": "stream",
     "text": [
      " 35%|███▌      | 70/200 [08:54<16:33,  7.64s/it]"
     ]
    },
    {
     "name": "stdout",
     "output_type": "stream",
     "text": [
      "epoch is 70, test_loss is 1.554230, test_acc is 0.469640\n",
      "epoch is 71, train_loss is 1.148887, train_acc is 0.574125\n"
     ]
    },
    {
     "name": "stderr",
     "output_type": "stream",
     "text": [
      " 36%|███▌      | 71/200 [09:02<16:29,  7.67s/it]"
     ]
    },
    {
     "name": "stdout",
     "output_type": "stream",
     "text": [
      "epoch is 71, test_loss is 1.571180, test_acc is 0.469541\n",
      "epoch is 72, train_loss is 1.143432, train_acc is 0.575208\n"
     ]
    },
    {
     "name": "stderr",
     "output_type": "stream",
     "text": [
      " 36%|███▌      | 72/200 [09:09<16:20,  7.66s/it]"
     ]
    },
    {
     "name": "stdout",
     "output_type": "stream",
     "text": [
      "epoch is 72, test_loss is 1.566700, test_acc is 0.472903\n",
      "epoch is 73, train_loss is 1.137842, train_acc is 0.578593\n"
     ]
    },
    {
     "name": "stderr",
     "output_type": "stream",
     "text": [
      " 36%|███▋      | 73/200 [09:17<16:11,  7.65s/it]"
     ]
    },
    {
     "name": "stdout",
     "output_type": "stream",
     "text": [
      "epoch is 73, test_loss is 1.557948, test_acc is 0.473398\n",
      "epoch is 74, train_loss is 1.133780, train_acc is 0.581150\n"
     ]
    },
    {
     "name": "stderr",
     "output_type": "stream",
     "text": [
      " 37%|███▋      | 74/200 [09:24<16:02,  7.64s/it]"
     ]
    },
    {
     "name": "stdout",
     "output_type": "stream",
     "text": [
      "epoch is 74, test_loss is 1.573595, test_acc is 0.466970\n",
      "epoch is 75, train_loss is 1.126385, train_acc is 0.583124\n"
     ]
    },
    {
     "name": "stderr",
     "output_type": "stream",
     "text": [
      " 38%|███▊      | 75/200 [09:32<15:56,  7.65s/it]"
     ]
    },
    {
     "name": "stdout",
     "output_type": "stream",
     "text": [
      "epoch is 75, test_loss is 1.580103, test_acc is 0.472211\n",
      "epoch is 76, train_loss is 1.119563, train_acc is 0.585242\n"
     ]
    },
    {
     "name": "stderr",
     "output_type": "stream",
     "text": [
      " 38%|███▊      | 76/200 [09:40<15:47,  7.64s/it]"
     ]
    },
    {
     "name": "stdout",
     "output_type": "stream",
     "text": [
      "epoch is 76, test_loss is 1.576257, test_acc is 0.471519\n",
      "epoch is 77, train_loss is 1.115011, train_acc is 0.586913\n"
     ]
    },
    {
     "name": "stderr",
     "output_type": "stream",
     "text": [
      " 38%|███▊      | 77/200 [09:47<15:40,  7.65s/it]"
     ]
    },
    {
     "name": "stdout",
     "output_type": "stream",
     "text": [
      "epoch is 77, test_loss is 1.577675, test_acc is 0.476167\n",
      "epoch is 78, train_loss is 1.110749, train_acc is 0.587932\n"
     ]
    },
    {
     "name": "stderr",
     "output_type": "stream",
     "text": [
      " 39%|███▉      | 78/200 [09:55<15:31,  7.63s/it]"
     ]
    },
    {
     "name": "stdout",
     "output_type": "stream",
     "text": [
      "epoch is 78, test_loss is 1.586071, test_acc is 0.474189\n",
      "epoch is 79, train_loss is 1.105190, train_acc is 0.590657\n"
     ]
    },
    {
     "name": "stderr",
     "output_type": "stream",
     "text": [
      " 40%|███▉      | 79/200 [10:03<15:24,  7.64s/it]"
     ]
    },
    {
     "name": "stdout",
     "output_type": "stream",
     "text": [
      "epoch is 79, test_loss is 1.580904, test_acc is 0.472706\n",
      "epoch is 80, train_loss is 1.099132, train_acc is 0.592024\n"
     ]
    },
    {
     "name": "stderr",
     "output_type": "stream",
     "text": [
      " 40%|████      | 80/200 [10:10<15:20,  7.67s/it]"
     ]
    },
    {
     "name": "stdout",
     "output_type": "stream",
     "text": [
      "epoch is 80, test_loss is 1.592524, test_acc is 0.469047\n",
      "epoch is 81, train_loss is 1.068726, train_acc is 0.604751\n"
     ]
    },
    {
     "name": "stderr",
     "output_type": "stream",
     "text": [
      " 40%|████      | 81/200 [10:18<15:13,  7.68s/it]"
     ]
    },
    {
     "name": "stdout",
     "output_type": "stream",
     "text": [
      "epoch is 81, test_loss is 1.574621, test_acc is 0.475672\n",
      "epoch is 82, train_loss is 1.064062, train_acc is 0.606662\n"
     ]
    },
    {
     "name": "stderr",
     "output_type": "stream",
     "text": [
      " 41%|████      | 82/200 [10:26<15:01,  7.64s/it]"
     ]
    },
    {
     "name": "stdout",
     "output_type": "stream",
     "text": [
      "epoch is 82, test_loss is 1.576223, test_acc is 0.473695\n",
      "epoch is 83, train_loss is 1.062505, train_acc is 0.607201\n"
     ]
    },
    {
     "name": "stderr",
     "output_type": "stream",
     "text": [
      " 42%|████▏     | 83/200 [10:33<14:56,  7.67s/it]"
     ]
    },
    {
     "name": "stdout",
     "output_type": "stream",
     "text": [
      "epoch is 83, test_loss is 1.574918, test_acc is 0.474486\n",
      "epoch is 84, train_loss is 1.061579, train_acc is 0.607753\n"
     ]
    },
    {
     "name": "stderr",
     "output_type": "stream",
     "text": [
      " 42%|████▏     | 84/200 [10:41<14:48,  7.66s/it]"
     ]
    },
    {
     "name": "stdout",
     "output_type": "stream",
     "text": [
      "epoch is 84, test_loss is 1.578235, test_acc is 0.475771\n",
      "epoch is 85, train_loss is 1.060600, train_acc is 0.608520\n"
     ]
    },
    {
     "name": "stderr",
     "output_type": "stream",
     "text": [
      " 42%|████▎     | 85/200 [10:49<14:44,  7.69s/it]"
     ]
    },
    {
     "name": "stdout",
     "output_type": "stream",
     "text": [
      "epoch is 85, test_loss is 1.571822, test_acc is 0.476464\n",
      "epoch is 86, train_loss is 1.059734, train_acc is 0.608544\n"
     ]
    },
    {
     "name": "stderr",
     "output_type": "stream",
     "text": [
      " 43%|████▎     | 86/200 [10:57<14:38,  7.70s/it]"
     ]
    },
    {
     "name": "stdout",
     "output_type": "stream",
     "text": [
      "epoch is 86, test_loss is 1.591427, test_acc is 0.470332\n",
      "epoch is 87, train_loss is 1.059477, train_acc is 0.608344\n"
     ]
    },
    {
     "name": "stderr",
     "output_type": "stream",
     "text": [
      " 44%|████▎     | 87/200 [11:04<14:30,  7.70s/it]"
     ]
    },
    {
     "name": "stdout",
     "output_type": "stream",
     "text": [
      "epoch is 87, test_loss is 1.580010, test_acc is 0.473695\n",
      "epoch is 88, train_loss is 1.058409, train_acc is 0.608444\n"
     ]
    },
    {
     "name": "stderr",
     "output_type": "stream",
     "text": [
      " 44%|████▍     | 88/200 [11:12<14:20,  7.68s/it]"
     ]
    },
    {
     "name": "stdout",
     "output_type": "stream",
     "text": [
      "epoch is 88, test_loss is 1.582121, test_acc is 0.473398\n",
      "epoch is 89, train_loss is 1.057981, train_acc is 0.608036\n"
     ]
    },
    {
     "name": "stderr",
     "output_type": "stream",
     "text": [
      " 44%|████▍     | 89/200 [11:20<14:13,  7.69s/it]"
     ]
    },
    {
     "name": "stdout",
     "output_type": "stream",
     "text": [
      "epoch is 89, test_loss is 1.580658, test_acc is 0.474387\n",
      "epoch is 90, train_loss is 1.057043, train_acc is 0.609447\n"
     ]
    },
    {
     "name": "stderr",
     "output_type": "stream",
     "text": [
      " 45%|████▌     | 90/200 [11:27<14:06,  7.69s/it]"
     ]
    },
    {
     "name": "stdout",
     "output_type": "stream",
     "text": [
      "epoch is 90, test_loss is 1.583935, test_acc is 0.474585\n",
      "epoch is 91, train_loss is 1.056543, train_acc is 0.609887\n"
     ]
    },
    {
     "name": "stderr",
     "output_type": "stream",
     "text": [
      " 46%|████▌     | 91/200 [11:35<13:55,  7.67s/it]"
     ]
    },
    {
     "name": "stdout",
     "output_type": "stream",
     "text": [
      "epoch is 91, test_loss is 1.591996, test_acc is 0.472211\n",
      "epoch is 92, train_loss is 1.055816, train_acc is 0.609407\n"
     ]
    },
    {
     "name": "stderr",
     "output_type": "stream",
     "text": [
      " 46%|████▌     | 92/200 [11:43<13:47,  7.66s/it]"
     ]
    },
    {
     "name": "stdout",
     "output_type": "stream",
     "text": [
      "epoch is 92, test_loss is 1.595484, test_acc is 0.472508\n",
      "epoch is 93, train_loss is 1.054903, train_acc is 0.609547\n"
     ]
    },
    {
     "name": "stderr",
     "output_type": "stream",
     "text": [
      " 46%|████▋     | 93/200 [11:50<13:36,  7.63s/it]"
     ]
    },
    {
     "name": "stdout",
     "output_type": "stream",
     "text": [
      "epoch is 93, test_loss is 1.583900, test_acc is 0.476464\n",
      "epoch is 94, train_loss is 1.054145, train_acc is 0.610778\n"
     ]
    },
    {
     "name": "stderr",
     "output_type": "stream",
     "text": [
      " 47%|████▋     | 94/200 [11:58<13:27,  7.62s/it]"
     ]
    },
    {
     "name": "stdout",
     "output_type": "stream",
     "text": [
      "epoch is 94, test_loss is 1.589786, test_acc is 0.473892\n",
      "epoch is 95, train_loss is 1.053678, train_acc is 0.609946\n"
     ]
    },
    {
     "name": "stderr",
     "output_type": "stream",
     "text": [
      " 48%|████▊     | 95/200 [12:05<13:21,  7.63s/it]"
     ]
    },
    {
     "name": "stdout",
     "output_type": "stream",
     "text": [
      "epoch is 95, test_loss is 1.597195, test_acc is 0.471222\n",
      "epoch is 96, train_loss is 1.052884, train_acc is 0.609879\n"
     ]
    },
    {
     "name": "stderr",
     "output_type": "stream",
     "text": [
      " 48%|████▊     | 96/200 [12:13<13:14,  7.64s/it]"
     ]
    },
    {
     "name": "stdout",
     "output_type": "stream",
     "text": [
      "epoch is 96, test_loss is 1.592831, test_acc is 0.474684\n",
      "epoch is 97, train_loss is 1.052124, train_acc is 0.609739\n"
     ]
    },
    {
     "name": "stderr",
     "output_type": "stream",
     "text": [
      " 48%|████▊     | 97/200 [12:21<13:07,  7.64s/it]"
     ]
    },
    {
     "name": "stdout",
     "output_type": "stream",
     "text": [
      "epoch is 97, test_loss is 1.595788, test_acc is 0.474782\n",
      "epoch is 98, train_loss is 1.051334, train_acc is 0.610634\n"
     ]
    },
    {
     "name": "stderr",
     "output_type": "stream",
     "text": [
      " 49%|████▉     | 98/200 [12:28<13:03,  7.68s/it]"
     ]
    },
    {
     "name": "stdout",
     "output_type": "stream",
     "text": [
      "epoch is 98, test_loss is 1.605774, test_acc is 0.472013\n",
      "epoch is 99, train_loss is 1.051120, train_acc is 0.610498\n"
     ]
    },
    {
     "name": "stderr",
     "output_type": "stream",
     "text": [
      " 50%|████▉     | 99/200 [12:36<12:53,  7.66s/it]"
     ]
    },
    {
     "name": "stdout",
     "output_type": "stream",
     "text": [
      "epoch is 99, test_loss is 1.597310, test_acc is 0.473002\n",
      "epoch is 100, train_loss is 1.050489, train_acc is 0.611269\n"
     ]
    },
    {
     "name": "stderr",
     "output_type": "stream",
     "text": [
      " 50%|█████     | 100/200 [12:44<12:43,  7.63s/it]"
     ]
    },
    {
     "name": "stdout",
     "output_type": "stream",
     "text": [
      "epoch is 100, test_loss is 1.602902, test_acc is 0.474387\n",
      "epoch is 101, train_loss is 1.046284, train_acc is 0.612452\n"
     ]
    },
    {
     "name": "stderr",
     "output_type": "stream",
     "text": [
      " 50%|█████     | 101/200 [12:51<12:38,  7.66s/it]"
     ]
    },
    {
     "name": "stdout",
     "output_type": "stream",
     "text": [
      "epoch is 101, test_loss is 1.597540, test_acc is 0.475277\n",
      "epoch is 102, train_loss is 1.045928, train_acc is 0.613283\n"
     ]
    },
    {
     "name": "stderr",
     "output_type": "stream",
     "text": [
      " 51%|█████     | 102/200 [12:59<12:28,  7.64s/it]"
     ]
    },
    {
     "name": "stdout",
     "output_type": "stream",
     "text": [
      "epoch is 102, test_loss is 1.597117, test_acc is 0.471717\n",
      "epoch is 103, train_loss is 1.045812, train_acc is 0.613563\n"
     ]
    },
    {
     "name": "stderr",
     "output_type": "stream",
     "text": [
      " 52%|█████▏    | 103/200 [13:07<12:20,  7.64s/it]"
     ]
    },
    {
     "name": "stdout",
     "output_type": "stream",
     "text": [
      "epoch is 103, test_loss is 1.600729, test_acc is 0.471321\n",
      "epoch is 104, train_loss is 1.045613, train_acc is 0.613255\n"
     ]
    },
    {
     "name": "stderr",
     "output_type": "stream",
     "text": [
      " 52%|█████▏    | 104/200 [13:14<12:15,  7.66s/it]"
     ]
    },
    {
     "name": "stdout",
     "output_type": "stream",
     "text": [
      "epoch is 104, test_loss is 1.592056, test_acc is 0.474189\n",
      "epoch is 105, train_loss is 1.045578, train_acc is 0.613367\n"
     ]
    },
    {
     "name": "stderr",
     "output_type": "stream",
     "text": [
      " 52%|█████▎    | 105/200 [13:22<12:08,  7.67s/it]"
     ]
    },
    {
     "name": "stdout",
     "output_type": "stream",
     "text": [
      "epoch is 105, test_loss is 1.595246, test_acc is 0.475475\n",
      "epoch is 106, train_loss is 1.045526, train_acc is 0.613471\n"
     ]
    },
    {
     "name": "stderr",
     "output_type": "stream",
     "text": [
      " 53%|█████▎    | 106/200 [13:30<12:00,  7.67s/it]"
     ]
    },
    {
     "name": "stdout",
     "output_type": "stream",
     "text": [
      "epoch is 106, test_loss is 1.599941, test_acc is 0.473695\n",
      "epoch is 107, train_loss is 1.045237, train_acc is 0.613383\n"
     ]
    },
    {
     "name": "stderr",
     "output_type": "stream",
     "text": [
      " 54%|█████▎    | 107/200 [13:37<11:54,  7.69s/it]"
     ]
    },
    {
     "name": "stdout",
     "output_type": "stream",
     "text": [
      "epoch is 107, test_loss is 1.591088, test_acc is 0.476958\n",
      "epoch is 108, train_loss is 1.045287, train_acc is 0.613543\n"
     ]
    },
    {
     "name": "stderr",
     "output_type": "stream",
     "text": [
      " 54%|█████▍    | 108/200 [13:45<11:46,  7.68s/it]"
     ]
    },
    {
     "name": "stdout",
     "output_type": "stream",
     "text": [
      "epoch is 108, test_loss is 1.591973, test_acc is 0.475969\n",
      "epoch is 109, train_loss is 1.045256, train_acc is 0.613459\n"
     ]
    },
    {
     "name": "stderr",
     "output_type": "stream",
     "text": [
      " 55%|█████▍    | 109/200 [13:53<11:36,  7.65s/it]"
     ]
    },
    {
     "name": "stdout",
     "output_type": "stream",
     "text": [
      "epoch is 109, test_loss is 1.604453, test_acc is 0.471519\n",
      "epoch is 110, train_loss is 1.045192, train_acc is 0.613443\n"
     ]
    },
    {
     "name": "stderr",
     "output_type": "stream",
     "text": [
      " 55%|█████▌    | 110/200 [14:00<11:25,  7.61s/it]"
     ]
    },
    {
     "name": "stdout",
     "output_type": "stream",
     "text": [
      "epoch is 110, test_loss is 1.592725, test_acc is 0.474387\n",
      "epoch is 111, train_loss is 1.045238, train_acc is 0.613295\n"
     ]
    },
    {
     "name": "stderr",
     "output_type": "stream",
     "text": [
      " 56%|█████▌    | 111/200 [14:08<11:20,  7.64s/it]"
     ]
    },
    {
     "name": "stdout",
     "output_type": "stream",
     "text": [
      "epoch is 111, test_loss is 1.593822, test_acc is 0.473497\n",
      "epoch is 112, train_loss is 1.045206, train_acc is 0.613435\n"
     ]
    },
    {
     "name": "stderr",
     "output_type": "stream",
     "text": [
      " 56%|█████▌    | 112/200 [14:16<11:13,  7.65s/it]"
     ]
    },
    {
     "name": "stdout",
     "output_type": "stream",
     "text": [
      "epoch is 112, test_loss is 1.594154, test_acc is 0.476464\n",
      "epoch is 113, train_loss is 1.044999, train_acc is 0.613475\n"
     ]
    },
    {
     "name": "stderr",
     "output_type": "stream",
     "text": [
      " 56%|█████▋    | 113/200 [14:23<11:01,  7.61s/it]"
     ]
    },
    {
     "name": "stdout",
     "output_type": "stream",
     "text": [
      "epoch is 113, test_loss is 1.597085, test_acc is 0.475079\n",
      "epoch is 114, train_loss is 1.044867, train_acc is 0.613371\n"
     ]
    },
    {
     "name": "stderr",
     "output_type": "stream",
     "text": [
      " 57%|█████▋    | 114/200 [14:31<10:54,  7.61s/it]"
     ]
    },
    {
     "name": "stdout",
     "output_type": "stream",
     "text": [
      "epoch is 114, test_loss is 1.597431, test_acc is 0.472310\n",
      "epoch is 115, train_loss is 1.044858, train_acc is 0.613391\n"
     ]
    },
    {
     "name": "stderr",
     "output_type": "stream",
     "text": [
      " 57%|█████▊    | 115/200 [14:38<10:47,  7.61s/it]"
     ]
    },
    {
     "name": "stdout",
     "output_type": "stream",
     "text": [
      "epoch is 115, test_loss is 1.598177, test_acc is 0.474090\n",
      "epoch is 116, train_loss is 1.044647, train_acc is 0.613655\n"
     ]
    },
    {
     "name": "stderr",
     "output_type": "stream",
     "text": [
      " 58%|█████▊    | 116/200 [14:46<10:42,  7.65s/it]"
     ]
    },
    {
     "name": "stdout",
     "output_type": "stream",
     "text": [
      "epoch is 116, test_loss is 1.594582, test_acc is 0.474387\n",
      "epoch is 117, train_loss is 1.044683, train_acc is 0.613367\n"
     ]
    },
    {
     "name": "stderr",
     "output_type": "stream",
     "text": [
      " 58%|█████▊    | 117/200 [14:54<10:37,  7.68s/it]"
     ]
    },
    {
     "name": "stdout",
     "output_type": "stream",
     "text": [
      "epoch is 117, test_loss is 1.587949, test_acc is 0.477848\n",
      "epoch is 118, train_loss is 1.044791, train_acc is 0.613379\n"
     ]
    },
    {
     "name": "stderr",
     "output_type": "stream",
     "text": [
      " 59%|█████▉    | 118/200 [15:01<10:27,  7.66s/it]"
     ]
    },
    {
     "name": "stdout",
     "output_type": "stream",
     "text": [
      "epoch is 118, test_loss is 1.599052, test_acc is 0.471816\n",
      "epoch is 119, train_loss is 1.044542, train_acc is 0.613703\n"
     ]
    },
    {
     "name": "stderr",
     "output_type": "stream",
     "text": [
      " 60%|█████▉    | 119/200 [15:09<10:21,  7.67s/it]"
     ]
    },
    {
     "name": "stdout",
     "output_type": "stream",
     "text": [
      "epoch is 119, test_loss is 1.592474, test_acc is 0.473892\n",
      "epoch is 120, train_loss is 1.044634, train_acc is 0.613347\n"
     ]
    },
    {
     "name": "stderr",
     "output_type": "stream",
     "text": [
      " 60%|██████    | 120/200 [15:17<10:13,  7.66s/it]"
     ]
    },
    {
     "name": "stdout",
     "output_type": "stream",
     "text": [
      "epoch is 120, test_loss is 1.604694, test_acc is 0.473497\n",
      "epoch is 121, train_loss is 1.044177, train_acc is 0.613575\n"
     ]
    },
    {
     "name": "stderr",
     "output_type": "stream",
     "text": [
      " 60%|██████    | 121/200 [15:24<10:06,  7.67s/it]"
     ]
    },
    {
     "name": "stdout",
     "output_type": "stream",
     "text": [
      "epoch is 121, test_loss is 1.600600, test_acc is 0.474189\n",
      "epoch is 122, train_loss is 1.044263, train_acc is 0.613731\n"
     ]
    },
    {
     "name": "stderr",
     "output_type": "stream",
     "text": [
      " 61%|██████    | 122/200 [15:32<09:57,  7.66s/it]"
     ]
    },
    {
     "name": "stdout",
     "output_type": "stream",
     "text": [
      "epoch is 122, test_loss is 1.604412, test_acc is 0.473695\n",
      "epoch is 123, train_loss is 1.044069, train_acc is 0.613771\n"
     ]
    },
    {
     "name": "stderr",
     "output_type": "stream",
     "text": [
      " 62%|██████▏   | 123/200 [15:40<09:52,  7.70s/it]"
     ]
    },
    {
     "name": "stdout",
     "output_type": "stream",
     "text": [
      "epoch is 123, test_loss is 1.595525, test_acc is 0.475672\n",
      "epoch is 124, train_loss is 1.044062, train_acc is 0.613915\n"
     ]
    },
    {
     "name": "stderr",
     "output_type": "stream",
     "text": [
      " 62%|██████▏   | 124/200 [15:48<09:45,  7.70s/it]"
     ]
    },
    {
     "name": "stdout",
     "output_type": "stream",
     "text": [
      "epoch is 124, test_loss is 1.592895, test_acc is 0.474387\n",
      "epoch is 125, train_loss is 1.044045, train_acc is 0.613835\n"
     ]
    },
    {
     "name": "stderr",
     "output_type": "stream",
     "text": [
      " 62%|██████▎   | 125/200 [15:55<09:36,  7.68s/it]"
     ]
    },
    {
     "name": "stdout",
     "output_type": "stream",
     "text": [
      "epoch is 125, test_loss is 1.597614, test_acc is 0.473002\n",
      "epoch is 126, train_loss is 1.043959, train_acc is 0.613895\n"
     ]
    },
    {
     "name": "stderr",
     "output_type": "stream",
     "text": [
      " 63%|██████▎   | 126/200 [16:03<09:29,  7.69s/it]"
     ]
    },
    {
     "name": "stdout",
     "output_type": "stream",
     "text": [
      "epoch is 126, test_loss is 1.594722, test_acc is 0.476464\n",
      "epoch is 127, train_loss is 1.043915, train_acc is 0.613863\n"
     ]
    },
    {
     "name": "stderr",
     "output_type": "stream",
     "text": [
      " 64%|██████▎   | 127/200 [16:11<09:20,  7.68s/it]"
     ]
    },
    {
     "name": "stdout",
     "output_type": "stream",
     "text": [
      "epoch is 127, test_loss is 1.596032, test_acc is 0.472211\n",
      "epoch is 128, train_loss is 1.044101, train_acc is 0.613999\n"
     ]
    },
    {
     "name": "stderr",
     "output_type": "stream",
     "text": [
      " 64%|██████▍   | 128/200 [16:18<09:14,  7.70s/it]"
     ]
    },
    {
     "name": "stdout",
     "output_type": "stream",
     "text": [
      "epoch is 128, test_loss is 1.598252, test_acc is 0.473596\n",
      "epoch is 129, train_loss is 1.043936, train_acc is 0.613923\n"
     ]
    },
    {
     "name": "stderr",
     "output_type": "stream",
     "text": [
      " 64%|██████▍   | 129/200 [16:26<09:05,  7.69s/it]"
     ]
    },
    {
     "name": "stdout",
     "output_type": "stream",
     "text": [
      "epoch is 129, test_loss is 1.608824, test_acc is 0.470926\n",
      "epoch is 130, train_loss is 1.043978, train_acc is 0.613775\n"
     ]
    },
    {
     "name": "stderr",
     "output_type": "stream",
     "text": [
      " 65%|██████▌   | 130/200 [16:34<08:59,  7.70s/it]"
     ]
    },
    {
     "name": "stdout",
     "output_type": "stream",
     "text": [
      "epoch is 130, test_loss is 1.596481, test_acc is 0.475672\n",
      "epoch is 131, train_loss is 1.043872, train_acc is 0.614003\n"
     ]
    },
    {
     "name": "stderr",
     "output_type": "stream",
     "text": [
      " 66%|██████▌   | 131/200 [16:41<08:53,  7.74s/it]"
     ]
    },
    {
     "name": "stdout",
     "output_type": "stream",
     "text": [
      "epoch is 131, test_loss is 1.600793, test_acc is 0.473002\n",
      "epoch is 132, train_loss is 1.043973, train_acc is 0.613839\n"
     ]
    },
    {
     "name": "stderr",
     "output_type": "stream",
     "text": [
      " 66%|██████▌   | 132/200 [16:49<08:45,  7.73s/it]"
     ]
    },
    {
     "name": "stdout",
     "output_type": "stream",
     "text": [
      "epoch is 132, test_loss is 1.601709, test_acc is 0.475870\n",
      "epoch is 133, train_loss is 1.044007, train_acc is 0.613911\n"
     ]
    },
    {
     "name": "stderr",
     "output_type": "stream",
     "text": [
      " 66%|██████▋   | 133/200 [16:57<08:35,  7.70s/it]"
     ]
    },
    {
     "name": "stdout",
     "output_type": "stream",
     "text": [
      "epoch is 133, test_loss is 1.603105, test_acc is 0.473002\n",
      "epoch is 134, train_loss is 1.043976, train_acc is 0.613779\n"
     ]
    },
    {
     "name": "stderr",
     "output_type": "stream",
     "text": [
      " 67%|██████▋   | 134/200 [17:05<08:28,  7.70s/it]"
     ]
    },
    {
     "name": "stdout",
     "output_type": "stream",
     "text": [
      "epoch is 134, test_loss is 1.591124, test_acc is 0.476464\n",
      "epoch is 135, train_loss is 1.044008, train_acc is 0.613775\n"
     ]
    },
    {
     "name": "stderr",
     "output_type": "stream",
     "text": [
      " 68%|██████▊   | 135/200 [17:12<08:19,  7.68s/it]"
     ]
    },
    {
     "name": "stdout",
     "output_type": "stream",
     "text": [
      "epoch is 135, test_loss is 1.602301, test_acc is 0.473695\n",
      "epoch is 136, train_loss is 1.044001, train_acc is 0.613875\n"
     ]
    },
    {
     "name": "stderr",
     "output_type": "stream",
     "text": [
      " 68%|██████▊   | 136/200 [17:20<08:09,  7.65s/it]"
     ]
    },
    {
     "name": "stdout",
     "output_type": "stream",
     "text": [
      "epoch is 136, test_loss is 1.595105, test_acc is 0.475079\n",
      "epoch is 137, train_loss is 1.044009, train_acc is 0.613803\n"
     ]
    },
    {
     "name": "stderr",
     "output_type": "stream",
     "text": [
      " 68%|██████▊   | 137/200 [17:27<08:01,  7.64s/it]"
     ]
    },
    {
     "name": "stdout",
     "output_type": "stream",
     "text": [
      "epoch is 137, test_loss is 1.597603, test_acc is 0.474387\n",
      "epoch is 138, train_loss is 1.043713, train_acc is 0.613887\n"
     ]
    },
    {
     "name": "stderr",
     "output_type": "stream",
     "text": [
      " 69%|██████▉   | 138/200 [17:35<07:55,  7.67s/it]"
     ]
    },
    {
     "name": "stdout",
     "output_type": "stream",
     "text": [
      "epoch is 138, test_loss is 1.591019, test_acc is 0.476365\n",
      "epoch is 139, train_loss is 1.043922, train_acc is 0.613803\n"
     ]
    },
    {
     "name": "stderr",
     "output_type": "stream",
     "text": [
      " 70%|██████▉   | 139/200 [17:43<07:46,  7.66s/it]"
     ]
    },
    {
     "name": "stdout",
     "output_type": "stream",
     "text": [
      "epoch is 139, test_loss is 1.594796, test_acc is 0.476464\n",
      "epoch is 140, train_loss is 1.043899, train_acc is 0.613731\n"
     ]
    },
    {
     "name": "stderr",
     "output_type": "stream",
     "text": [
      " 70%|███████   | 140/200 [17:50<07:38,  7.65s/it]"
     ]
    },
    {
     "name": "stdout",
     "output_type": "stream",
     "text": [
      "epoch is 140, test_loss is 1.593237, test_acc is 0.475178\n",
      "epoch is 141, train_loss is 1.043904, train_acc is 0.613727\n"
     ]
    },
    {
     "name": "stderr",
     "output_type": "stream",
     "text": [
      " 70%|███████   | 141/200 [17:58<07:29,  7.63s/it]"
     ]
    },
    {
     "name": "stdout",
     "output_type": "stream",
     "text": [
      "epoch is 141, test_loss is 1.607214, test_acc is 0.471717\n",
      "epoch is 142, train_loss is 1.043895, train_acc is 0.613871\n"
     ]
    },
    {
     "name": "stderr",
     "output_type": "stream",
     "text": [
      " 71%|███████   | 142/200 [18:06<07:23,  7.65s/it]"
     ]
    },
    {
     "name": "stdout",
     "output_type": "stream",
     "text": [
      "epoch is 142, test_loss is 1.597078, test_acc is 0.475178\n",
      "epoch is 143, train_loss is 1.043946, train_acc is 0.613751\n"
     ]
    },
    {
     "name": "stderr",
     "output_type": "stream",
     "text": [
      " 72%|███████▏  | 143/200 [18:13<07:16,  7.65s/it]"
     ]
    },
    {
     "name": "stdout",
     "output_type": "stream",
     "text": [
      "epoch is 143, test_loss is 1.601153, test_acc is 0.473794\n",
      "epoch is 144, train_loss is 1.044058, train_acc is 0.613815\n"
     ]
    },
    {
     "name": "stderr",
     "output_type": "stream",
     "text": [
      " 72%|███████▏  | 144/200 [18:21<07:10,  7.69s/it]"
     ]
    },
    {
     "name": "stdout",
     "output_type": "stream",
     "text": [
      "epoch is 144, test_loss is 1.601555, test_acc is 0.474486\n",
      "epoch is 145, train_loss is 1.043594, train_acc is 0.613883\n"
     ]
    },
    {
     "name": "stderr",
     "output_type": "stream",
     "text": [
      " 72%|███████▎  | 145/200 [18:29<07:02,  7.68s/it]"
     ]
    },
    {
     "name": "stdout",
     "output_type": "stream",
     "text": [
      "epoch is 145, test_loss is 1.595265, test_acc is 0.475870\n",
      "epoch is 146, train_loss is 1.043760, train_acc is 0.613743\n"
     ]
    },
    {
     "name": "stderr",
     "output_type": "stream",
     "text": [
      " 73%|███████▎  | 146/200 [18:36<06:55,  7.69s/it]"
     ]
    },
    {
     "name": "stdout",
     "output_type": "stream",
     "text": [
      "epoch is 146, test_loss is 1.593987, test_acc is 0.474486\n",
      "epoch is 147, train_loss is 1.043919, train_acc is 0.613731\n"
     ]
    },
    {
     "name": "stderr",
     "output_type": "stream",
     "text": [
      " 74%|███████▎  | 147/200 [18:44<06:47,  7.68s/it]"
     ]
    },
    {
     "name": "stdout",
     "output_type": "stream",
     "text": [
      "epoch is 147, test_loss is 1.595379, test_acc is 0.475178\n",
      "epoch is 148, train_loss is 1.043854, train_acc is 0.613759\n"
     ]
    },
    {
     "name": "stderr",
     "output_type": "stream",
     "text": [
      " 74%|███████▍  | 148/200 [18:52<06:39,  7.69s/it]"
     ]
    },
    {
     "name": "stdout",
     "output_type": "stream",
     "text": [
      "epoch is 148, test_loss is 1.595898, test_acc is 0.471717\n",
      "epoch is 149, train_loss is 1.043740, train_acc is 0.613927\n"
     ]
    },
    {
     "name": "stderr",
     "output_type": "stream",
     "text": [
      " 74%|███████▍  | 149/200 [18:59<06:30,  7.65s/it]"
     ]
    },
    {
     "name": "stdout",
     "output_type": "stream",
     "text": [
      "epoch is 149, test_loss is 1.599773, test_acc is 0.473794\n",
      "epoch is 150, train_loss is 1.043725, train_acc is 0.613835\n"
     ]
    },
    {
     "name": "stderr",
     "output_type": "stream",
     "text": [
      " 75%|███████▌  | 150/200 [19:07<06:22,  7.65s/it]"
     ]
    },
    {
     "name": "stdout",
     "output_type": "stream",
     "text": [
      "epoch is 150, test_loss is 1.609813, test_acc is 0.472409\n",
      "epoch is 151, train_loss is 1.043714, train_acc is 0.613763\n"
     ]
    },
    {
     "name": "stderr",
     "output_type": "stream",
     "text": [
      " 76%|███████▌  | 151/200 [19:15<06:15,  7.66s/it]"
     ]
    },
    {
     "name": "stdout",
     "output_type": "stream",
     "text": [
      "epoch is 151, test_loss is 1.593474, test_acc is 0.475178\n",
      "epoch is 152, train_loss is 1.043730, train_acc is 0.613911\n"
     ]
    },
    {
     "name": "stderr",
     "output_type": "stream",
     "text": [
      " 76%|███████▌  | 152/200 [19:22<06:08,  7.67s/it]"
     ]
    },
    {
     "name": "stdout",
     "output_type": "stream",
     "text": [
      "epoch is 152, test_loss is 1.598206, test_acc is 0.474486\n",
      "epoch is 153, train_loss is 1.043891, train_acc is 0.613927\n"
     ]
    },
    {
     "name": "stderr",
     "output_type": "stream",
     "text": [
      " 76%|███████▋  | 153/200 [19:30<06:01,  7.68s/it]"
     ]
    },
    {
     "name": "stdout",
     "output_type": "stream",
     "text": [
      "epoch is 153, test_loss is 1.593497, test_acc is 0.476562\n",
      "epoch is 154, train_loss is 1.043824, train_acc is 0.613819\n"
     ]
    },
    {
     "name": "stderr",
     "output_type": "stream",
     "text": [
      " 77%|███████▋  | 154/200 [19:38<05:52,  7.67s/it]"
     ]
    },
    {
     "name": "stdout",
     "output_type": "stream",
     "text": [
      "epoch is 154, test_loss is 1.593139, test_acc is 0.475178\n",
      "epoch is 155, train_loss is 1.043863, train_acc is 0.613963\n"
     ]
    },
    {
     "name": "stderr",
     "output_type": "stream",
     "text": [
      " 78%|███████▊  | 155/200 [19:45<05:44,  7.64s/it]"
     ]
    },
    {
     "name": "stdout",
     "output_type": "stream",
     "text": [
      "epoch is 155, test_loss is 1.609085, test_acc is 0.471717\n",
      "epoch is 156, train_loss is 1.043759, train_acc is 0.613875\n"
     ]
    },
    {
     "name": "stderr",
     "output_type": "stream",
     "text": [
      " 78%|███████▊  | 156/200 [19:53<05:37,  7.67s/it]"
     ]
    },
    {
     "name": "stdout",
     "output_type": "stream",
     "text": [
      "epoch is 156, test_loss is 1.601656, test_acc is 0.474486\n",
      "epoch is 157, train_loss is 1.043937, train_acc is 0.613759\n"
     ]
    },
    {
     "name": "stderr",
     "output_type": "stream",
     "text": [
      " 78%|███████▊  | 157/200 [20:01<05:29,  7.67s/it]"
     ]
    },
    {
     "name": "stdout",
     "output_type": "stream",
     "text": [
      "epoch is 157, test_loss is 1.604354, test_acc is 0.474486\n",
      "epoch is 158, train_loss is 1.043806, train_acc is 0.613831\n"
     ]
    },
    {
     "name": "stderr",
     "output_type": "stream",
     "text": [
      " 79%|███████▉  | 158/200 [20:08<05:22,  7.67s/it]"
     ]
    },
    {
     "name": "stdout",
     "output_type": "stream",
     "text": [
      "epoch is 158, test_loss is 1.603528, test_acc is 0.474486\n",
      "epoch is 159, train_loss is 1.043579, train_acc is 0.613895\n"
     ]
    },
    {
     "name": "stderr",
     "output_type": "stream",
     "text": [
      " 80%|███████▉  | 159/200 [20:16<05:13,  7.65s/it]"
     ]
    },
    {
     "name": "stdout",
     "output_type": "stream",
     "text": [
      "epoch is 159, test_loss is 1.606278, test_acc is 0.472409\n",
      "epoch is 160, train_loss is 1.043850, train_acc is 0.613979\n"
     ]
    },
    {
     "name": "stderr",
     "output_type": "stream",
     "text": [
      " 80%|████████  | 160/200 [20:24<05:06,  7.66s/it]"
     ]
    },
    {
     "name": "stdout",
     "output_type": "stream",
     "text": [
      "epoch is 160, test_loss is 1.597801, test_acc is 0.472409\n",
      "epoch is 161, train_loss is 1.043713, train_acc is 0.613963\n"
     ]
    },
    {
     "name": "stderr",
     "output_type": "stream",
     "text": [
      " 80%|████████  | 161/200 [20:31<04:58,  7.66s/it]"
     ]
    },
    {
     "name": "stdout",
     "output_type": "stream",
     "text": [
      "epoch is 161, test_loss is 1.596358, test_acc is 0.473794\n",
      "epoch is 162, train_loss is 1.043818, train_acc is 0.614031\n"
     ]
    },
    {
     "name": "stderr",
     "output_type": "stream",
     "text": [
      " 81%|████████  | 162/200 [20:39<04:50,  7.64s/it]"
     ]
    },
    {
     "name": "stdout",
     "output_type": "stream",
     "text": [
      "epoch is 162, test_loss is 1.591475, test_acc is 0.475178\n",
      "epoch is 163, train_loss is 1.043730, train_acc is 0.614066\n"
     ]
    },
    {
     "name": "stderr",
     "output_type": "stream",
     "text": [
      " 82%|████████▏ | 163/200 [20:47<04:44,  7.70s/it]"
     ]
    },
    {
     "name": "stdout",
     "output_type": "stream",
     "text": [
      "epoch is 163, test_loss is 1.598735, test_acc is 0.475079\n",
      "epoch is 164, train_loss is 1.043659, train_acc is 0.614019\n"
     ]
    },
    {
     "name": "stderr",
     "output_type": "stream",
     "text": [
      " 82%|████████▏ | 164/200 [20:54<04:36,  7.69s/it]"
     ]
    },
    {
     "name": "stdout",
     "output_type": "stream",
     "text": [
      "epoch is 164, test_loss is 1.592140, test_acc is 0.475079\n",
      "epoch is 165, train_loss is 1.043714, train_acc is 0.613931\n"
     ]
    },
    {
     "name": "stderr",
     "output_type": "stream",
     "text": [
      " 82%|████████▎ | 165/200 [21:02<04:28,  7.68s/it]"
     ]
    },
    {
     "name": "stdout",
     "output_type": "stream",
     "text": [
      "epoch is 165, test_loss is 1.597077, test_acc is 0.474486\n",
      "epoch is 166, train_loss is 1.043638, train_acc is 0.613891\n"
     ]
    },
    {
     "name": "stderr",
     "output_type": "stream",
     "text": [
      " 83%|████████▎ | 166/200 [21:10<04:19,  7.65s/it]"
     ]
    },
    {
     "name": "stdout",
     "output_type": "stream",
     "text": [
      "epoch is 166, test_loss is 1.594703, test_acc is 0.475178\n",
      "epoch is 167, train_loss is 1.043796, train_acc is 0.613879\n"
     ]
    },
    {
     "name": "stderr",
     "output_type": "stream",
     "text": [
      " 84%|████████▎ | 167/200 [21:17<04:13,  7.68s/it]"
     ]
    },
    {
     "name": "stdout",
     "output_type": "stream",
     "text": [
      "epoch is 167, test_loss is 1.599749, test_acc is 0.471717\n",
      "epoch is 168, train_loss is 1.043645, train_acc is 0.614170\n"
     ]
    },
    {
     "name": "stderr",
     "output_type": "stream",
     "text": [
      " 84%|████████▍ | 168/200 [21:25<04:05,  7.66s/it]"
     ]
    },
    {
     "name": "stdout",
     "output_type": "stream",
     "text": [
      "epoch is 168, test_loss is 1.598140, test_acc is 0.472409\n",
      "epoch is 169, train_loss is 1.043706, train_acc is 0.613911\n"
     ]
    },
    {
     "name": "stderr",
     "output_type": "stream",
     "text": [
      " 84%|████████▍ | 169/200 [21:33<03:57,  7.67s/it]"
     ]
    },
    {
     "name": "stdout",
     "output_type": "stream",
     "text": [
      "epoch is 169, test_loss is 1.590781, test_acc is 0.476562\n",
      "epoch is 170, train_loss is 1.043600, train_acc is 0.614031\n"
     ]
    },
    {
     "name": "stderr",
     "output_type": "stream",
     "text": [
      " 85%|████████▌ | 170/200 [21:40<03:49,  7.66s/it]"
     ]
    },
    {
     "name": "stdout",
     "output_type": "stream",
     "text": [
      "epoch is 170, test_loss is 1.597991, test_acc is 0.475870\n",
      "epoch is 171, train_loss is 1.043770, train_acc is 0.613863\n"
     ]
    },
    {
     "name": "stderr",
     "output_type": "stream",
     "text": [
      " 86%|████████▌ | 171/200 [21:48<03:41,  7.63s/it]"
     ]
    },
    {
     "name": "stdout",
     "output_type": "stream",
     "text": [
      "epoch is 171, test_loss is 1.607069, test_acc is 0.473794\n",
      "epoch is 172, train_loss is 1.043634, train_acc is 0.614011\n"
     ]
    },
    {
     "name": "stderr",
     "output_type": "stream",
     "text": [
      " 86%|████████▌ | 172/200 [21:56<03:33,  7.63s/it]"
     ]
    },
    {
     "name": "stdout",
     "output_type": "stream",
     "text": [
      "epoch is 172, test_loss is 1.611529, test_acc is 0.473101\n",
      "epoch is 173, train_loss is 1.043657, train_acc is 0.614062\n"
     ]
    },
    {
     "name": "stderr",
     "output_type": "stream",
     "text": [
      " 86%|████████▋ | 173/200 [22:03<03:26,  7.66s/it]"
     ]
    },
    {
     "name": "stdout",
     "output_type": "stream",
     "text": [
      "epoch is 173, test_loss is 1.596365, test_acc is 0.474486\n",
      "epoch is 174, train_loss is 1.043497, train_acc is 0.613871\n"
     ]
    },
    {
     "name": "stderr",
     "output_type": "stream",
     "text": [
      " 87%|████████▋ | 174/200 [22:11<03:19,  7.67s/it]"
     ]
    },
    {
     "name": "stdout",
     "output_type": "stream",
     "text": [
      "epoch is 174, test_loss is 1.599823, test_acc is 0.472409\n",
      "epoch is 175, train_loss is 1.043750, train_acc is 0.613967\n"
     ]
    },
    {
     "name": "stderr",
     "output_type": "stream",
     "text": [
      " 88%|████████▊ | 175/200 [22:19<03:12,  7.69s/it]"
     ]
    },
    {
     "name": "stdout",
     "output_type": "stream",
     "text": [
      "epoch is 175, test_loss is 1.598093, test_acc is 0.473002\n",
      "epoch is 176, train_loss is 1.043751, train_acc is 0.614011\n"
     ]
    },
    {
     "name": "stderr",
     "output_type": "stream",
     "text": [
      " 88%|████████▊ | 176/200 [22:26<03:04,  7.68s/it]"
     ]
    },
    {
     "name": "stdout",
     "output_type": "stream",
     "text": [
      "epoch is 176, test_loss is 1.601457, test_acc is 0.470332\n",
      "epoch is 177, train_loss is 1.043499, train_acc is 0.614023\n"
     ]
    },
    {
     "name": "stderr",
     "output_type": "stream",
     "text": [
      " 88%|████████▊ | 177/200 [22:34<02:56,  7.68s/it]"
     ]
    },
    {
     "name": "stdout",
     "output_type": "stream",
     "text": [
      "epoch is 177, test_loss is 1.597263, test_acc is 0.475178\n",
      "epoch is 178, train_loss is 1.043513, train_acc is 0.613903\n"
     ]
    },
    {
     "name": "stderr",
     "output_type": "stream",
     "text": [
      " 89%|████████▉ | 178/200 [22:42<02:48,  7.66s/it]"
     ]
    },
    {
     "name": "stdout",
     "output_type": "stream",
     "text": [
      "epoch is 178, test_loss is 1.600534, test_acc is 0.475178\n",
      "epoch is 179, train_loss is 1.043573, train_acc is 0.613931\n"
     ]
    },
    {
     "name": "stderr",
     "output_type": "stream",
     "text": [
      " 90%|████████▉ | 179/200 [22:49<02:40,  7.65s/it]"
     ]
    },
    {
     "name": "stdout",
     "output_type": "stream",
     "text": [
      "epoch is 179, test_loss is 1.596259, test_acc is 0.473794\n",
      "epoch is 180, train_loss is 1.043445, train_acc is 0.614190\n"
     ]
    },
    {
     "name": "stderr",
     "output_type": "stream",
     "text": [
      " 90%|█████████ | 180/200 [22:57<02:33,  7.68s/it]"
     ]
    },
    {
     "name": "stdout",
     "output_type": "stream",
     "text": [
      "epoch is 180, test_loss is 1.595031, test_acc is 0.475771\n",
      "epoch is 181, train_loss is 1.043601, train_acc is 0.614003\n"
     ]
    },
    {
     "name": "stderr",
     "output_type": "stream",
     "text": [
      " 90%|█████████ | 181/200 [23:05<02:25,  7.68s/it]"
     ]
    },
    {
     "name": "stdout",
     "output_type": "stream",
     "text": [
      "epoch is 181, test_loss is 1.604928, test_acc is 0.473794\n",
      "epoch is 182, train_loss is 1.043613, train_acc is 0.613835\n"
     ]
    },
    {
     "name": "stderr",
     "output_type": "stream",
     "text": [
      " 91%|█████████ | 182/200 [23:12<02:17,  7.66s/it]"
     ]
    },
    {
     "name": "stdout",
     "output_type": "stream",
     "text": [
      "epoch is 182, test_loss is 1.595727, test_acc is 0.473794\n",
      "epoch is 183, train_loss is 1.043773, train_acc is 0.614039\n"
     ]
    },
    {
     "name": "stderr",
     "output_type": "stream",
     "text": [
      " 92%|█████████▏| 183/200 [23:20<02:10,  7.67s/it]"
     ]
    },
    {
     "name": "stdout",
     "output_type": "stream",
     "text": [
      "epoch is 183, test_loss is 1.593392, test_acc is 0.475870\n",
      "epoch is 184, train_loss is 1.043688, train_acc is 0.614023\n"
     ]
    },
    {
     "name": "stderr",
     "output_type": "stream",
     "text": [
      " 92%|█████████▏| 184/200 [23:28<02:02,  7.67s/it]"
     ]
    },
    {
     "name": "stdout",
     "output_type": "stream",
     "text": [
      "epoch is 184, test_loss is 1.597718, test_acc is 0.473794\n",
      "epoch is 185, train_loss is 1.043501, train_acc is 0.613959\n"
     ]
    },
    {
     "name": "stderr",
     "output_type": "stream",
     "text": [
      " 92%|█████████▎| 185/200 [23:35<01:54,  7.66s/it]"
     ]
    },
    {
     "name": "stdout",
     "output_type": "stream",
     "text": [
      "epoch is 185, test_loss is 1.602542, test_acc is 0.473002\n",
      "epoch is 186, train_loss is 1.043546, train_acc is 0.614074\n"
     ]
    },
    {
     "name": "stderr",
     "output_type": "stream",
     "text": [
      " 93%|█████████▎| 186/200 [23:43<01:47,  7.66s/it]"
     ]
    },
    {
     "name": "stdout",
     "output_type": "stream",
     "text": [
      "epoch is 186, test_loss is 1.590258, test_acc is 0.475079\n",
      "epoch is 187, train_loss is 1.043407, train_acc is 0.613979\n"
     ]
    },
    {
     "name": "stderr",
     "output_type": "stream",
     "text": [
      " 94%|█████████▎| 187/200 [23:51<01:39,  7.64s/it]"
     ]
    },
    {
     "name": "stdout",
     "output_type": "stream",
     "text": [
      "epoch is 187, test_loss is 1.598971, test_acc is 0.473695\n",
      "epoch is 188, train_loss is 1.043523, train_acc is 0.614086\n"
     ]
    },
    {
     "name": "stderr",
     "output_type": "stream",
     "text": [
      " 94%|█████████▍| 188/200 [23:58<01:31,  7.66s/it]"
     ]
    },
    {
     "name": "stdout",
     "output_type": "stream",
     "text": [
      "epoch is 188, test_loss is 1.593441, test_acc is 0.475771\n",
      "epoch is 189, train_loss is 1.043400, train_acc is 0.613951\n"
     ]
    },
    {
     "name": "stderr",
     "output_type": "stream",
     "text": [
      " 94%|█████████▍| 189/200 [24:06<01:24,  7.67s/it]"
     ]
    },
    {
     "name": "stdout",
     "output_type": "stream",
     "text": [
      "epoch is 189, test_loss is 1.598180, test_acc is 0.474387\n",
      "epoch is 190, train_loss is 1.043371, train_acc is 0.614122\n"
     ]
    },
    {
     "name": "stderr",
     "output_type": "stream",
     "text": [
      " 95%|█████████▌| 190/200 [24:14<01:16,  7.65s/it]"
     ]
    },
    {
     "name": "stdout",
     "output_type": "stream",
     "text": [
      "epoch is 190, test_loss is 1.597609, test_acc is 0.473101\n",
      "epoch is 191, train_loss is 1.043445, train_acc is 0.613983\n"
     ]
    },
    {
     "name": "stderr",
     "output_type": "stream",
     "text": [
      " 96%|█████████▌| 191/200 [24:21<01:09,  7.67s/it]"
     ]
    },
    {
     "name": "stdout",
     "output_type": "stream",
     "text": [
      "epoch is 191, test_loss is 1.598838, test_acc is 0.473695\n",
      "epoch is 192, train_loss is 1.043641, train_acc is 0.613955\n"
     ]
    },
    {
     "name": "stderr",
     "output_type": "stream",
     "text": [
      " 96%|█████████▌| 192/200 [24:29<01:01,  7.64s/it]"
     ]
    },
    {
     "name": "stdout",
     "output_type": "stream",
     "text": [
      "epoch is 192, test_loss is 1.596028, test_acc is 0.473596\n",
      "epoch is 193, train_loss is 1.043699, train_acc is 0.613971\n"
     ]
    },
    {
     "name": "stderr",
     "output_type": "stream",
     "text": [
      " 96%|█████████▋| 193/200 [24:37<00:53,  7.66s/it]"
     ]
    },
    {
     "name": "stdout",
     "output_type": "stream",
     "text": [
      "epoch is 193, test_loss is 1.600354, test_acc is 0.473794\n",
      "epoch is 194, train_loss is 1.043393, train_acc is 0.614031\n"
     ]
    },
    {
     "name": "stderr",
     "output_type": "stream",
     "text": [
      " 97%|█████████▋| 194/200 [24:44<00:45,  7.64s/it]"
     ]
    },
    {
     "name": "stdout",
     "output_type": "stream",
     "text": [
      "epoch is 194, test_loss is 1.590338, test_acc is 0.476464\n",
      "epoch is 195, train_loss is 1.043511, train_acc is 0.613943\n"
     ]
    },
    {
     "name": "stderr",
     "output_type": "stream",
     "text": [
      " 98%|█████████▊| 195/200 [24:52<00:38,  7.64s/it]"
     ]
    },
    {
     "name": "stdout",
     "output_type": "stream",
     "text": [
      "epoch is 195, test_loss is 1.602552, test_acc is 0.473794\n",
      "epoch is 196, train_loss is 1.043461, train_acc is 0.614051\n"
     ]
    },
    {
     "name": "stderr",
     "output_type": "stream",
     "text": [
      " 98%|█████████▊| 196/200 [24:59<00:30,  7.64s/it]"
     ]
    },
    {
     "name": "stdout",
     "output_type": "stream",
     "text": [
      "epoch is 196, test_loss is 1.600025, test_acc is 0.472409\n",
      "epoch is 197, train_loss is 1.043501, train_acc is 0.613999\n"
     ]
    },
    {
     "name": "stderr",
     "output_type": "stream",
     "text": [
      " 98%|█████████▊| 197/200 [25:07<00:22,  7.62s/it]"
     ]
    },
    {
     "name": "stdout",
     "output_type": "stream",
     "text": [
      "epoch is 197, test_loss is 1.599066, test_acc is 0.474387\n",
      "epoch is 198, train_loss is 1.043554, train_acc is 0.614094\n"
     ]
    },
    {
     "name": "stderr",
     "output_type": "stream",
     "text": [
      " 99%|█████████▉| 198/200 [25:15<00:15,  7.65s/it]"
     ]
    },
    {
     "name": "stdout",
     "output_type": "stream",
     "text": [
      "epoch is 198, test_loss is 1.599611, test_acc is 0.476562\n",
      "epoch is 199, train_loss is 1.043474, train_acc is 0.613863\n"
     ]
    },
    {
     "name": "stderr",
     "output_type": "stream",
     "text": [
      "100%|█████████▉| 199/200 [25:22<00:07,  7.64s/it]"
     ]
    },
    {
     "name": "stdout",
     "output_type": "stream",
     "text": [
      "epoch is 199, test_loss is 1.595750, test_acc is 0.474486\n",
      "epoch is 200, train_loss is 1.043575, train_acc is 0.614142\n"
     ]
    },
    {
     "name": "stderr",
     "output_type": "stream",
     "text": [
      "100%|██████████| 200/200 [25:30<00:00,  7.65s/it]"
     ]
    },
    {
     "name": "stdout",
     "output_type": "stream",
     "text": [
      "epoch is 200, test_loss is 1.596326, test_acc is 0.475079\n"
     ]
    },
    {
     "name": "stderr",
     "output_type": "stream",
     "text": [
      "\n"
     ]
    }
   ],
   "source": [
    "#lr=1e-5 para defalut opt\n",
    "model = train(optimizer='ADAM', learning_rate=1e-4, max_epochs=200, eval_freq=500, ada_opt=True, save_para=False)"
   ]
  },
  {
   "cell_type": "code",
   "execution_count": null,
   "id": "c48748dc-6c9e-4730-9647-6c50666943bf",
   "metadata": {},
   "outputs": [],
   "source": []
  }
 ],
 "metadata": {
  "kernelspec": {
   "display_name": "PyTorch-1.8",
   "language": "python",
   "name": "pytorch-1.8"
  },
  "language_info": {
   "codemirror_mode": {
    "name": "ipython",
    "version": 3
   },
   "file_extension": ".py",
   "mimetype": "text/x-python",
   "name": "python",
   "nbconvert_exporter": "python",
   "pygments_lexer": "ipython3",
   "version": "3.7.10"
  }
 },
 "nbformat": 4,
 "nbformat_minor": 5
}
