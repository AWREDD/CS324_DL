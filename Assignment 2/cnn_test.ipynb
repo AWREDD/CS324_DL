{
 "cells": [
  {
   "cell_type": "code",
   "execution_count": 1,
   "id": "01188b77-2005-416d-8e24-c15adaeb3dc8",
   "metadata": {},
   "outputs": [],
   "source": [
    "import torch\n",
    "import torch.nn as nn\n",
    "import torch.nn.functional as F\n",
    "from torch.utils.data import DataLoader\n",
    "from torch.utils.tensorboard import SummaryWriter\n",
    "import torchvision\n",
    "from torchvision import transforms\n",
    "\n",
    "import torch.optim as optim\n",
    "\n",
    "from tqdm import  tqdm\n",
    "import os"
   ]
  },
  {
   "cell_type": "code",
   "execution_count": 2,
   "id": "de7ef257-b46b-4c7d-abe5-db6904f48eee",
   "metadata": {},
   "outputs": [],
   "source": [
    "LEARNING_RATE = 1e-4\n",
    "BATCH_SIZE = 512\n",
    "MAX_EPOCHS = 200\n",
    "\n",
    "EVAL_FREQ = 500\n",
    "\n",
    "# ADAM RMSprop SGD\n",
    "OPTIMIZER = 'ADAM'"
   ]
  },
  {
   "cell_type": "code",
   "execution_count": 3,
   "id": "97cfef76-d28e-47d6-8f0e-1c9d333192b7",
   "metadata": {},
   "outputs": [
    {
     "name": "stderr",
     "output_type": "stream",
     "text": [
      "/home/ma-user/anaconda3/envs/PyTorch-1.8/lib/python3.7/site-packages/requests/__init__.py:104: RequestsDependencyWarning: urllib3 (1.26.12) or chardet (5.0.0)/charset_normalizer (2.0.12) doesn't match a supported version!\n",
      "  RequestsDependencyWarning)\n"
     ]
    },
    {
     "name": "stdout",
     "output_type": "stream",
     "text": [
      "Downloading https://www.cs.toronto.edu/~kriz/cifar-10-python.tar.gz to ./data/cifar-10-python.tar.gz\n"
     ]
    },
    {
     "data": {
      "application/vnd.jupyter.widget-view+json": {
       "model_id": "28ecac0ec20444acb7f1a9130eacff04",
       "version_major": 2,
       "version_minor": 0
      },
      "text/plain": [
       "  0%|          | 0/170498071 [00:00<?, ?it/s]"
      ]
     },
     "metadata": {},
     "output_type": "display_data"
    },
    {
     "name": "stdout",
     "output_type": "stream",
     "text": [
      "Extracting ./data/cifar-10-python.tar.gz to ./data\n",
      "Files already downloaded and verified\n"
     ]
    }
   ],
   "source": [
    "transform_train = transforms.Compose(\n",
    "    [transforms.ToTensor(),\n",
    "     transforms.Normalize((0.4914, 0.4822, 0.4465), (0.2470, 0.2435, 0.2616))])\n",
    " \n",
    "transform_test = transforms.Compose(\n",
    "    [transforms.ToTensor(),\n",
    "     transforms.Normalize((0.4941, 0.4850, 0.4502), (0.2467, 0.2429, 0.2616))])\n",
    "    \n",
    "    \n",
    "trainset = torchvision.datasets.CIFAR10(\n",
    "    root='./data',\n",
    "    train=True,\n",
    "    download=True,\n",
    "    transform=transform_train)\n",
    "\n",
    "trainloader = torch.utils.data.DataLoader(\n",
    "    trainset, \n",
    "    batch_size=BATCH_SIZE, \n",
    "    shuffle=True, \n",
    "    num_workers=2)\n",
    " \n",
    "testset = torchvision.datasets.CIFAR10(\n",
    "    root='./data', \n",
    "    train=False, \n",
    "    download=True, \n",
    "    transform=transform_test)\n",
    "\n",
    "testloader = torch.utils.data.DataLoader(\n",
    "    testset, \n",
    "    batch_size=BATCH_SIZE, \n",
    "    shuffle=True, \n",
    "    num_workers=2)\n",
    " \n",
    "classes = ('plane', 'car', 'bird', 'cat', 'deer', 'dog', 'frog', 'horse', 'ship', 'truck')"
   ]
  },
  {
   "cell_type": "code",
   "execution_count": 4,
   "id": "028baceb-ed39-4238-ac0d-c94c6f280d64",
   "metadata": {},
   "outputs": [],
   "source": [
    "class CNN(nn.Module):\n",
    "    def __init__(self, n_channels, n_classes): \n",
    "        super().__init__()\n",
    "        self.features = nn.Sequential(\n",
    "            #1\n",
    "            nn.Conv2d(in_channels=n_channels, out_channels=64, kernel_size=(3,3), stride=1, padding=1, bias=True),\n",
    "            nn.BatchNorm2d(64),\n",
    "            nn.ReLU(inplace=True),\n",
    "            #2\n",
    "            nn.MaxPool2d(kernel_size=(3,3), stride=2, padding=1),\n",
    "            #3\n",
    "            nn.Conv2d(in_channels=64, out_channels=128, kernel_size=(3,3), stride=1, padding=1, bias=True),\n",
    "            nn.BatchNorm2d(128),\n",
    "            nn.ReLU(inplace=True),\n",
    "            #4\n",
    "            nn.MaxPool2d(kernel_size=(3,3), stride=2, padding=1),\n",
    "            #5\n",
    "            nn.Conv2d(in_channels=128, out_channels=256, kernel_size=(3,3), stride=1, padding=1, bias=True),\n",
    "            nn.BatchNorm2d(256),\n",
    "            nn.ReLU(inplace=True),\n",
    "            #6\n",
    "            nn.Conv2d(in_channels=256, out_channels=256, kernel_size=(3,3), stride=1, padding=1, bias=True),\n",
    "            nn.BatchNorm2d(256),\n",
    "            nn.ReLU(inplace=True),\n",
    "            #7\n",
    "            nn.MaxPool2d(kernel_size=(3,3), stride=2, padding=1),\n",
    "            #8\n",
    "            nn.Conv2d(in_channels=256, out_channels=512, kernel_size=(3,3), stride=1, padding=1, bias=True),\n",
    "            nn.BatchNorm2d(512),\n",
    "            nn.ReLU(inplace=True),\n",
    "            #9\n",
    "            nn.Conv2d(in_channels=512, out_channels=512, kernel_size=(3,3), stride=1, padding=1, bias=True),\n",
    "            nn.BatchNorm2d(512),\n",
    "            nn.ReLU(inplace=True),\n",
    "            #10\n",
    "            nn.MaxPool2d(kernel_size=(3,3), stride=2, padding=1),\n",
    "            #11\n",
    "            nn.Conv2d(in_channels=512, out_channels=512, kernel_size=(3,3), stride=1, padding=1, bias=True),\n",
    "            nn.BatchNorm2d(512),\n",
    "            nn.ReLU(inplace=True),\n",
    "            #12\n",
    "            nn.Conv2d(in_channels=512, out_channels=512, kernel_size=(3,3), stride=1, padding=1, bias=True),\n",
    "            nn.BatchNorm2d(512),\n",
    "            nn.ReLU(inplace=True),\n",
    "            #13\n",
    "            nn.MaxPool2d(kernel_size=(3,3), stride=2, padding=1),\n",
    "            \n",
    "        )\n",
    "        self.classifier = nn.Sequential(\n",
    "            nn.Linear(512, n_classes)\n",
    "        )\n",
    "        \n",
    "        for m in self.modules():\n",
    "            if isinstance(m, nn.Linear):\n",
    "                nn.init.xavier_normal_(m.weight)\n",
    "                nn.init.constant_(m.bias, 0)\n",
    "            elif isinstance(m, nn.Conv2d):\n",
    "                nn.init.kaiming_normal_(m.weight, mode='fan_out', nonlinearity='relu')\n",
    "\n",
    "            elif isinstance(m, nn.BatchNorm2d):\n",
    "                nn.init.constant_(m.weight, 1)\n",
    "                nn.init.constant_(m.bias, 0)\n",
    " \n",
    "    def forward(self, x):\n",
    "        x = self.features(x)\n",
    "        x = torch.flatten(x, 1)\n",
    "        x = self.classifier(x)\n",
    "        return x \n",
    "        "
   ]
  },
  {
   "cell_type": "code",
   "execution_count": 11,
   "id": "cb90a807-a15e-476e-b843-15073fd146c1",
   "metadata": {},
   "outputs": [],
   "source": [
    "def train(optimizer, learning_rate, max_epochs, eval_freq, ada_opt, save_para):\n",
    "    device = torch.device(\"cuda:0\" if torch.cuda.is_available() else \"mps\")\n",
    "    print(\"start training CNN...\")\n",
    "    print(device)\n",
    "    # 储存学习到的参数\n",
    "    opt_save_path = \"optimizer\" + optimizer + '.pth'\n",
    "    writer = SummaryWriter('./logs-CNN-batch512/' + optimizer + '/lr=' + str(learning_rate))\n",
    "    \n",
    "    model = CNN(n_channels=3, n_classes=10)\n",
    "    model.to(device)\n",
    "    \n",
    "    cost = nn.CrossEntropyLoss()\n",
    "    \n",
    "    if save_para and os.path.exists(opt_save_path):\n",
    "      model.load_state_dict(torch.load(opt_save_path))\n",
    "    \n",
    "    if optimizer == 'SGD':\n",
    "      optimizer = torch.optim.SGD(model.parameters(), lr=learning_rate)\n",
    "    elif optimizer == 'ADAM':\n",
    "      optimizer = torch.optim.Adam(model.parameters(), lr=learning_rate)\n",
    "    elif optimizer == 'RMSprop':\n",
    "      optimizer = torch.optim.RMSprop(model.parameters(), lr=learning_rate)\n",
    "    \n",
    "    if ada_opt:\n",
    "        scheduler = torch.optim.lr_scheduler.MultiStepLR(optimizer, milestones=[80, 100, 120], gamma=0.1)\n",
    "    \n",
    "    for epoch in tqdm(range(max_epochs)):\n",
    "        \n",
    "        model.train()\n",
    "        \n",
    "        train_acc_avg = 0.\n",
    "        train_loss_avg = 0.\n",
    "        \n",
    "        for idx, (image, label) in enumerate(trainloader):\n",
    "            \n",
    "            image, label = image.to(device), label.to(device)\n",
    "            \n",
    "            optimizer.zero_grad()\n",
    "            \n",
    "            output = model(image)\n",
    "            loss = cost(output, label)\n",
    "            loss.backward()\n",
    "            optimizer.step()\n",
    "            \n",
    "            train_loss_avg = train_loss_avg + loss.item()\n",
    "            \n",
    "            _, pred = output.max(1)\n",
    "            num_correct = (pred == label).sum().item()\n",
    "            train_acc_avg = train_acc_avg + num_correct/label.shape[0]\n",
    "            \n",
    "        train_loss_avg = train_loss_avg/len(trainloader)\n",
    "        train_acc_avg = train_acc_avg/len(trainloader)\n",
    "        print(\"epoch is %d, train_loss is %lf, train_acc is %lf\" %(epoch+1, train_loss_avg, train_acc_avg))\n",
    "        writer.add_scalar('Train/Accuracy', train_acc_avg, epoch)\n",
    "        writer.add_scalar('Train/Loss', train_loss_avg, epoch)\n",
    "        if ada_opt: scheduler.step()\n",
    "        \n",
    "        test_acc_avg = 0.\n",
    "        test_loss_avg = 0.\n",
    "        \n",
    "        with torch.no_grad():\n",
    "            for idx, (image, label) in enumerate(testloader):\n",
    "                \n",
    "                image, label = image.to(device), label.to(device)\n",
    "                \n",
    "                output = model(image)\n",
    "                loss = cost(output, label)\n",
    "                \n",
    "                test_loss_avg = test_loss_avg + loss.item()\n",
    "                \n",
    "                _, pred = output.max(1)\n",
    "                num_correct = (pred == label).sum().item()\n",
    "                test_acc_avg = test_acc_avg + num_correct/label.shape[0]\n",
    "            \n",
    "        test_loss_avg = test_loss_avg/len(testloader)\n",
    "        test_acc_avg = test_acc_avg/len(testloader)\n",
    "        print('epoch is %d, test_loss is %lf, test_acc is %lf' %(epoch+1, test_loss_avg, test_acc_avg))\n",
    "        writer.add_scalar('Test/Accuracy', test_acc_avg, epoch)\n",
    "        writer.add_scalar('Test/Loss', test_loss_avg, epoch)\n",
    "        \n",
    "    if save_para: torch.save(model.state_dict(), opt_save_path)\n",
    "    \n",
    "    return model\n",
    "    "
   ]
  },
  {
   "cell_type": "code",
   "execution_count": 6,
   "id": "b0999c4d-4468-45df-ab3c-8850a7fa0496",
   "metadata": {},
   "outputs": [
    {
     "name": "stdout",
     "output_type": "stream",
     "text": [
      "start training CNN...\n",
      "cuda:0\n"
     ]
    },
    {
     "name": "stderr",
     "output_type": "stream",
     "text": [
      "  0%|          | 0/200 [00:00<?, ?it/s]"
     ]
    },
    {
     "name": "stdout",
     "output_type": "stream",
     "text": [
      "epoch is 1, train_loss is 1.321407, train_acc is 0.530495\n"
     ]
    },
    {
     "name": "stderr",
     "output_type": "stream",
     "text": [
      "  0%|          | 1/200 [00:07<26:07,  7.88s/it]"
     ]
    },
    {
     "name": "stdout",
     "output_type": "stream",
     "text": [
      "epoch is 1, test_loss is 1.077020, test_acc is 0.613793\n",
      "epoch is 2, train_loss is 0.885150, train_acc is 0.688343\n"
     ]
    },
    {
     "name": "stderr",
     "output_type": "stream",
     "text": [
      "  1%|          | 2/200 [00:15<25:41,  7.79s/it]"
     ]
    },
    {
     "name": "stdout",
     "output_type": "stream",
     "text": [
      "epoch is 2, test_loss is 0.934950, test_acc is 0.666343\n",
      "epoch is 3, train_loss is 0.654286, train_acc is 0.773282\n"
     ]
    },
    {
     "name": "stderr",
     "output_type": "stream",
     "text": [
      "  2%|▏         | 3/200 [00:23<25:18,  7.71s/it]"
     ]
    },
    {
     "name": "stdout",
     "output_type": "stream",
     "text": [
      "epoch is 3, test_loss is 0.928662, test_acc is 0.684369\n",
      "epoch is 4, train_loss is 0.454194, train_acc is 0.844071\n"
     ]
    },
    {
     "name": "stderr",
     "output_type": "stream",
     "text": [
      "  2%|▏         | 4/200 [00:30<25:01,  7.66s/it]"
     ]
    },
    {
     "name": "stdout",
     "output_type": "stream",
     "text": [
      "epoch is 4, test_loss is 0.917210, test_acc is 0.699793\n",
      "epoch is 5, train_loss is 0.269979, train_acc is 0.914130\n"
     ]
    },
    {
     "name": "stderr",
     "output_type": "stream",
     "text": [
      "  2%|▎         | 5/200 [00:38<24:54,  7.66s/it]"
     ]
    },
    {
     "name": "stdout",
     "output_type": "stream",
     "text": [
      "epoch is 5, test_loss is 1.040906, test_acc is 0.691108\n",
      "epoch is 6, train_loss is 0.149335, train_acc is 0.956466\n"
     ]
    },
    {
     "name": "stderr",
     "output_type": "stream",
     "text": [
      "  3%|▎         | 6/200 [00:45<23:55,  7.40s/it]"
     ]
    },
    {
     "name": "stdout",
     "output_type": "stream",
     "text": [
      "epoch is 6, test_loss is 1.080571, test_acc is 0.702108\n",
      "epoch is 7, train_loss is 0.064920, train_acc is 0.985350\n"
     ]
    },
    {
     "name": "stderr",
     "output_type": "stream",
     "text": [
      "  4%|▎         | 7/200 [00:51<22:16,  6.92s/it]"
     ]
    },
    {
     "name": "stdout",
     "output_type": "stream",
     "text": [
      "epoch is 7, test_loss is 1.096283, test_acc is 0.717957\n",
      "epoch is 8, train_loss is 0.020531, train_acc is 0.997728\n"
     ]
    },
    {
     "name": "stderr",
     "output_type": "stream",
     "text": [
      "  4%|▍         | 8/200 [00:57<20:58,  6.55s/it]"
     ]
    },
    {
     "name": "stdout",
     "output_type": "stream",
     "text": [
      "epoch is 8, test_loss is 1.131740, test_acc is 0.724397\n",
      "epoch is 9, train_loss is 0.006678, train_acc is 0.999900\n"
     ]
    },
    {
     "name": "stderr",
     "output_type": "stream",
     "text": [
      "  4%|▍         | 9/200 [01:03<20:19,  6.39s/it]"
     ]
    },
    {
     "name": "stdout",
     "output_type": "stream",
     "text": [
      "epoch is 9, test_loss is 1.182401, test_acc is 0.724925\n",
      "epoch is 10, train_loss is 0.003014, train_acc is 1.000000\n"
     ]
    },
    {
     "name": "stderr",
     "output_type": "stream",
     "text": [
      "  5%|▌         | 10/200 [01:08<19:29,  6.15s/it]"
     ]
    },
    {
     "name": "stdout",
     "output_type": "stream",
     "text": [
      "epoch is 10, test_loss is 1.189302, test_acc is 0.729354\n",
      "epoch is 11, train_loss is 0.001916, train_acc is 1.000000\n"
     ]
    },
    {
     "name": "stderr",
     "output_type": "stream",
     "text": [
      "  6%|▌         | 11/200 [01:14<19:02,  6.05s/it]"
     ]
    },
    {
     "name": "stdout",
     "output_type": "stream",
     "text": [
      "epoch is 11, test_loss is 1.207412, test_acc is 0.728895\n",
      "epoch is 12, train_loss is 0.001526, train_acc is 1.000000\n"
     ]
    },
    {
     "name": "stderr",
     "output_type": "stream",
     "text": [
      "  6%|▌         | 12/200 [01:20<18:40,  5.96s/it]"
     ]
    },
    {
     "name": "stdout",
     "output_type": "stream",
     "text": [
      "epoch is 12, test_loss is 1.215536, test_acc is 0.730802\n",
      "epoch is 13, train_loss is 0.001287, train_acc is 1.000000\n"
     ]
    },
    {
     "name": "stderr",
     "output_type": "stream",
     "text": [
      "  6%|▋         | 13/200 [01:25<18:17,  5.87s/it]"
     ]
    },
    {
     "name": "stdout",
     "output_type": "stream",
     "text": [
      "epoch is 13, test_loss is 1.229693, test_acc is 0.731290\n",
      "epoch is 14, train_loss is 0.001073, train_acc is 1.000000\n"
     ]
    },
    {
     "name": "stderr",
     "output_type": "stream",
     "text": [
      "  7%|▋         | 14/200 [01:31<18:03,  5.83s/it]"
     ]
    },
    {
     "name": "stdout",
     "output_type": "stream",
     "text": [
      "epoch is 14, test_loss is 1.250895, test_acc is 0.729860\n",
      "epoch is 15, train_loss is 0.000943, train_acc is 1.000000\n"
     ]
    },
    {
     "name": "stderr",
     "output_type": "stream",
     "text": [
      "  8%|▊         | 15/200 [01:37<17:50,  5.79s/it]"
     ]
    },
    {
     "name": "stdout",
     "output_type": "stream",
     "text": [
      "epoch is 15, test_loss is 1.260408, test_acc is 0.732129\n",
      "epoch is 16, train_loss is 0.000838, train_acc is 1.000000\n"
     ]
    },
    {
     "name": "stderr",
     "output_type": "stream",
     "text": [
      "  8%|▊         | 16/200 [01:43<17:41,  5.77s/it]"
     ]
    },
    {
     "name": "stdout",
     "output_type": "stream",
     "text": [
      "epoch is 16, test_loss is 1.276500, test_acc is 0.731388\n",
      "epoch is 17, train_loss is 0.000727, train_acc is 1.000000\n"
     ]
    },
    {
     "name": "stderr",
     "output_type": "stream",
     "text": [
      "  8%|▊         | 17/200 [01:48<17:34,  5.76s/it]"
     ]
    },
    {
     "name": "stdout",
     "output_type": "stream",
     "text": [
      "epoch is 17, test_loss is 1.285552, test_acc is 0.730733\n",
      "epoch is 18, train_loss is 0.000655, train_acc is 1.000000\n"
     ]
    },
    {
     "name": "stderr",
     "output_type": "stream",
     "text": [
      "  9%|▉         | 18/200 [01:54<17:28,  5.76s/it]"
     ]
    },
    {
     "name": "stdout",
     "output_type": "stream",
     "text": [
      "epoch is 18, test_loss is 1.292494, test_acc is 0.734547\n",
      "epoch is 19, train_loss is 0.000591, train_acc is 1.000000\n"
     ]
    },
    {
     "name": "stderr",
     "output_type": "stream",
     "text": [
      " 10%|▉         | 19/200 [02:00<17:27,  5.79s/it]"
     ]
    },
    {
     "name": "stdout",
     "output_type": "stream",
     "text": [
      "epoch is 19, test_loss is 1.308933, test_acc is 0.728763\n",
      "epoch is 20, train_loss is 0.000533, train_acc is 1.000000\n"
     ]
    },
    {
     "name": "stderr",
     "output_type": "stream",
     "text": [
      " 10%|█         | 20/200 [02:06<17:25,  5.81s/it]"
     ]
    },
    {
     "name": "stdout",
     "output_type": "stream",
     "text": [
      "epoch is 20, test_loss is 1.320357, test_acc is 0.729820\n",
      "epoch is 21, train_loss is 0.000496, train_acc is 1.000000\n"
     ]
    },
    {
     "name": "stderr",
     "output_type": "stream",
     "text": [
      " 10%|█         | 21/200 [02:11<17:10,  5.76s/it]"
     ]
    },
    {
     "name": "stdout",
     "output_type": "stream",
     "text": [
      "epoch is 21, test_loss is 1.325113, test_acc is 0.730492\n",
      "epoch is 22, train_loss is 0.000445, train_acc is 1.000000\n"
     ]
    },
    {
     "name": "stderr",
     "output_type": "stream",
     "text": [
      " 11%|█         | 22/200 [02:17<16:57,  5.71s/it]"
     ]
    },
    {
     "name": "stdout",
     "output_type": "stream",
     "text": [
      "epoch is 22, test_loss is 1.335633, test_acc is 0.731244\n",
      "epoch is 23, train_loss is 0.000406, train_acc is 1.000000\n"
     ]
    },
    {
     "name": "stderr",
     "output_type": "stream",
     "text": [
      " 12%|█▏        | 23/200 [02:23<16:45,  5.68s/it]"
     ]
    },
    {
     "name": "stdout",
     "output_type": "stream",
     "text": [
      "epoch is 23, test_loss is 1.346897, test_acc is 0.732284\n",
      "epoch is 24, train_loss is 0.000373, train_acc is 1.000000\n"
     ]
    },
    {
     "name": "stderr",
     "output_type": "stream",
     "text": [
      " 12%|█▏        | 24/200 [02:28<16:35,  5.66s/it]"
     ]
    },
    {
     "name": "stdout",
     "output_type": "stream",
     "text": [
      "epoch is 24, test_loss is 1.372082, test_acc is 0.727309\n",
      "epoch is 25, train_loss is 0.000344, train_acc is 1.000000\n"
     ]
    },
    {
     "name": "stderr",
     "output_type": "stream",
     "text": [
      " 12%|█▎        | 25/200 [02:34<16:27,  5.64s/it]"
     ]
    },
    {
     "name": "stdout",
     "output_type": "stream",
     "text": [
      "epoch is 25, test_loss is 1.366103, test_acc is 0.729406\n",
      "epoch is 26, train_loss is 0.000319, train_acc is 1.000000\n"
     ]
    },
    {
     "name": "stderr",
     "output_type": "stream",
     "text": [
      " 13%|█▎        | 26/200 [02:40<16:22,  5.64s/it]"
     ]
    },
    {
     "name": "stdout",
     "output_type": "stream",
     "text": [
      "epoch is 26, test_loss is 1.370158, test_acc is 0.731307\n",
      "epoch is 27, train_loss is 0.000290, train_acc is 1.000000\n"
     ]
    },
    {
     "name": "stderr",
     "output_type": "stream",
     "text": [
      " 14%|█▎        | 27/200 [02:45<16:16,  5.64s/it]"
     ]
    },
    {
     "name": "stdout",
     "output_type": "stream",
     "text": [
      "epoch is 27, test_loss is 1.380445, test_acc is 0.729871\n",
      "epoch is 28, train_loss is 0.000271, train_acc is 1.000000\n"
     ]
    },
    {
     "name": "stderr",
     "output_type": "stream",
     "text": [
      " 14%|█▍        | 28/200 [02:51<16:11,  5.65s/it]"
     ]
    },
    {
     "name": "stdout",
     "output_type": "stream",
     "text": [
      "epoch is 28, test_loss is 1.386254, test_acc is 0.729044\n",
      "epoch is 29, train_loss is 0.000243, train_acc is 1.000000\n"
     ]
    },
    {
     "name": "stderr",
     "output_type": "stream",
     "text": [
      " 14%|█▍        | 29/200 [02:56<16:05,  5.64s/it]"
     ]
    },
    {
     "name": "stdout",
     "output_type": "stream",
     "text": [
      "epoch is 29, test_loss is 1.393455, test_acc is 0.730716\n",
      "epoch is 30, train_loss is 0.000232, train_acc is 1.000000\n"
     ]
    },
    {
     "name": "stderr",
     "output_type": "stream",
     "text": [
      " 15%|█▌        | 30/200 [03:02<15:58,  5.64s/it]"
     ]
    },
    {
     "name": "stdout",
     "output_type": "stream",
     "text": [
      "epoch is 30, test_loss is 1.390227, test_acc is 0.731991\n",
      "epoch is 31, train_loss is 0.000213, train_acc is 1.000000\n"
     ]
    },
    {
     "name": "stderr",
     "output_type": "stream",
     "text": [
      " 16%|█▌        | 31/200 [03:08<15:50,  5.63s/it]"
     ]
    },
    {
     "name": "stdout",
     "output_type": "stream",
     "text": [
      "epoch is 31, test_loss is 1.405291, test_acc is 0.731813\n",
      "epoch is 32, train_loss is 0.000196, train_acc is 1.000000\n"
     ]
    },
    {
     "name": "stderr",
     "output_type": "stream",
     "text": [
      " 16%|█▌        | 32/200 [03:13<15:54,  5.68s/it]"
     ]
    },
    {
     "name": "stdout",
     "output_type": "stream",
     "text": [
      "epoch is 32, test_loss is 1.423946, test_acc is 0.729056\n",
      "epoch is 33, train_loss is 0.000183, train_acc is 1.000000\n"
     ]
    },
    {
     "name": "stderr",
     "output_type": "stream",
     "text": [
      " 16%|█▋        | 33/200 [03:19<15:44,  5.66s/it]"
     ]
    },
    {
     "name": "stdout",
     "output_type": "stream",
     "text": [
      "epoch is 33, test_loss is 1.426849, test_acc is 0.730095\n",
      "epoch is 34, train_loss is 0.000174, train_acc is 1.000000\n"
     ]
    },
    {
     "name": "stderr",
     "output_type": "stream",
     "text": [
      " 17%|█▋        | 34/200 [03:25<15:38,  5.65s/it]"
     ]
    },
    {
     "name": "stdout",
     "output_type": "stream",
     "text": [
      "epoch is 34, test_loss is 1.436266, test_acc is 0.730388\n",
      "epoch is 35, train_loss is 0.000166, train_acc is 1.000000\n"
     ]
    },
    {
     "name": "stderr",
     "output_type": "stream",
     "text": [
      " 18%|█▊        | 35/200 [03:31<15:47,  5.74s/it]"
     ]
    },
    {
     "name": "stdout",
     "output_type": "stream",
     "text": [
      "epoch is 35, test_loss is 1.433322, test_acc is 0.731445\n",
      "epoch is 36, train_loss is 0.000152, train_acc is 1.000000\n"
     ]
    },
    {
     "name": "stderr",
     "output_type": "stream",
     "text": [
      " 18%|█▊        | 36/200 [03:36<15:34,  5.70s/it]"
     ]
    },
    {
     "name": "stdout",
     "output_type": "stream",
     "text": [
      "epoch is 36, test_loss is 1.441257, test_acc is 0.729986\n",
      "epoch is 37, train_loss is 0.000144, train_acc is 1.000000\n"
     ]
    },
    {
     "name": "stderr",
     "output_type": "stream",
     "text": [
      " 18%|█▊        | 37/200 [03:42<15:40,  5.77s/it]"
     ]
    },
    {
     "name": "stdout",
     "output_type": "stream",
     "text": [
      "epoch is 37, test_loss is 1.450589, test_acc is 0.728814\n",
      "epoch is 38, train_loss is 0.000135, train_acc is 1.000000\n"
     ]
    },
    {
     "name": "stderr",
     "output_type": "stream",
     "text": [
      " 19%|█▉        | 38/200 [03:48<15:31,  5.75s/it]"
     ]
    },
    {
     "name": "stdout",
     "output_type": "stream",
     "text": [
      "epoch is 38, test_loss is 1.458472, test_acc is 0.729596\n",
      "epoch is 39, train_loss is 0.000123, train_acc is 1.000000\n"
     ]
    },
    {
     "name": "stderr",
     "output_type": "stream",
     "text": [
      " 20%|█▉        | 39/200 [03:54<15:23,  5.73s/it]"
     ]
    },
    {
     "name": "stdout",
     "output_type": "stream",
     "text": [
      "epoch is 39, test_loss is 1.464957, test_acc is 0.731916\n",
      "epoch is 40, train_loss is 0.000120, train_acc is 1.000000\n"
     ]
    },
    {
     "name": "stderr",
     "output_type": "stream",
     "text": [
      " 20%|██        | 40/200 [03:59<15:16,  5.73s/it]"
     ]
    },
    {
     "name": "stdout",
     "output_type": "stream",
     "text": [
      "epoch is 40, test_loss is 1.460461, test_acc is 0.731118\n",
      "epoch is 41, train_loss is 0.000108, train_acc is 1.000000\n"
     ]
    },
    {
     "name": "stderr",
     "output_type": "stream",
     "text": [
      " 20%|██        | 41/200 [04:05<15:07,  5.71s/it]"
     ]
    },
    {
     "name": "stdout",
     "output_type": "stream",
     "text": [
      "epoch is 41, test_loss is 1.472119, test_acc is 0.729406\n",
      "epoch is 42, train_loss is 0.000100, train_acc is 1.000000\n"
     ]
    },
    {
     "name": "stderr",
     "output_type": "stream",
     "text": [
      " 21%|██        | 42/200 [04:11<15:02,  5.71s/it]"
     ]
    },
    {
     "name": "stdout",
     "output_type": "stream",
     "text": [
      "epoch is 42, test_loss is 1.491720, test_acc is 0.730388\n",
      "epoch is 43, train_loss is 0.000095, train_acc is 1.000000\n"
     ]
    },
    {
     "name": "stderr",
     "output_type": "stream",
     "text": [
      " 22%|██▏       | 43/200 [04:16<14:55,  5.71s/it]"
     ]
    },
    {
     "name": "stdout",
     "output_type": "stream",
     "text": [
      "epoch is 43, test_loss is 1.493420, test_acc is 0.727166\n",
      "epoch is 44, train_loss is 0.000089, train_acc is 1.000000\n"
     ]
    },
    {
     "name": "stderr",
     "output_type": "stream",
     "text": [
      " 22%|██▏       | 44/200 [04:22<14:48,  5.70s/it]"
     ]
    },
    {
     "name": "stdout",
     "output_type": "stream",
     "text": [
      "epoch is 44, test_loss is 1.497636, test_acc is 0.731181\n",
      "epoch is 45, train_loss is 0.000085, train_acc is 1.000000\n"
     ]
    },
    {
     "name": "stderr",
     "output_type": "stream",
     "text": [
      " 22%|██▎       | 45/200 [04:29<15:24,  5.96s/it]"
     ]
    },
    {
     "name": "stdout",
     "output_type": "stream",
     "text": [
      "epoch is 45, test_loss is 1.506014, test_acc is 0.730566\n",
      "epoch is 46, train_loss is 0.000080, train_acc is 1.000000\n"
     ]
    },
    {
     "name": "stderr",
     "output_type": "stream",
     "text": [
      " 23%|██▎       | 46/200 [04:36<16:26,  6.40s/it]"
     ]
    },
    {
     "name": "stdout",
     "output_type": "stream",
     "text": [
      "epoch is 46, test_loss is 1.511560, test_acc is 0.729274\n",
      "epoch is 47, train_loss is 0.000074, train_acc is 1.000000\n"
     ]
    },
    {
     "name": "stderr",
     "output_type": "stream",
     "text": [
      " 24%|██▎       | 47/200 [04:44<17:11,  6.74s/it]"
     ]
    },
    {
     "name": "stdout",
     "output_type": "stream",
     "text": [
      "epoch is 47, test_loss is 1.511738, test_acc is 0.729980\n",
      "epoch is 48, train_loss is 0.000070, train_acc is 1.000000\n"
     ]
    },
    {
     "name": "stderr",
     "output_type": "stream",
     "text": [
      " 24%|██▍       | 48/200 [04:51<17:41,  6.98s/it]"
     ]
    },
    {
     "name": "stdout",
     "output_type": "stream",
     "text": [
      "epoch is 48, test_loss is 1.523631, test_acc is 0.730095\n",
      "epoch is 49, train_loss is 0.000068, train_acc is 1.000000\n"
     ]
    },
    {
     "name": "stderr",
     "output_type": "stream",
     "text": [
      " 24%|██▍       | 49/200 [04:59<18:11,  7.23s/it]"
     ]
    },
    {
     "name": "stdout",
     "output_type": "stream",
     "text": [
      "epoch is 49, test_loss is 1.537316, test_acc is 0.727924\n",
      "epoch is 50, train_loss is 0.000063, train_acc is 1.000000\n"
     ]
    },
    {
     "name": "stderr",
     "output_type": "stream",
     "text": [
      " 25%|██▌       | 50/200 [05:07<18:31,  7.41s/it]"
     ]
    },
    {
     "name": "stdout",
     "output_type": "stream",
     "text": [
      "epoch is 50, test_loss is 1.541668, test_acc is 0.730009\n",
      "epoch is 51, train_loss is 0.000058, train_acc is 1.000000\n"
     ]
    },
    {
     "name": "stderr",
     "output_type": "stream",
     "text": [
      " 26%|██▌       | 51/200 [05:15<18:37,  7.50s/it]"
     ]
    },
    {
     "name": "stdout",
     "output_type": "stream",
     "text": [
      "epoch is 51, test_loss is 1.540139, test_acc is 0.728705\n",
      "epoch is 52, train_loss is 0.000057, train_acc is 1.000000\n"
     ]
    },
    {
     "name": "stderr",
     "output_type": "stream",
     "text": [
      " 26%|██▌       | 52/200 [05:22<18:47,  7.62s/it]"
     ]
    },
    {
     "name": "stdout",
     "output_type": "stream",
     "text": [
      "epoch is 52, test_loss is 1.554549, test_acc is 0.728263\n",
      "epoch is 53, train_loss is 0.000054, train_acc is 1.000000\n"
     ]
    },
    {
     "name": "stderr",
     "output_type": "stream",
     "text": [
      " 26%|██▋       | 53/200 [05:30<18:36,  7.59s/it]"
     ]
    },
    {
     "name": "stdout",
     "output_type": "stream",
     "text": [
      "epoch is 53, test_loss is 1.551285, test_acc is 0.728837\n",
      "epoch is 54, train_loss is 0.000051, train_acc is 1.000000\n"
     ]
    },
    {
     "name": "stderr",
     "output_type": "stream",
     "text": [
      " 27%|██▋       | 54/200 [05:36<17:21,  7.13s/it]"
     ]
    },
    {
     "name": "stdout",
     "output_type": "stream",
     "text": [
      "epoch is 54, test_loss is 1.551385, test_acc is 0.730946\n",
      "epoch is 55, train_loss is 0.000048, train_acc is 1.000000\n"
     ]
    },
    {
     "name": "stderr",
     "output_type": "stream",
     "text": [
      " 28%|██▊       | 55/200 [05:42<16:13,  6.72s/it]"
     ]
    },
    {
     "name": "stdout",
     "output_type": "stream",
     "text": [
      "epoch is 55, test_loss is 1.568044, test_acc is 0.730894\n",
      "epoch is 56, train_loss is 0.000045, train_acc is 1.000000\n"
     ]
    },
    {
     "name": "stderr",
     "output_type": "stream",
     "text": [
      " 28%|██▊       | 56/200 [05:48<15:27,  6.44s/it]"
     ]
    },
    {
     "name": "stdout",
     "output_type": "stream",
     "text": [
      "epoch is 56, test_loss is 1.575829, test_acc is 0.728567\n",
      "epoch is 57, train_loss is 0.000042, train_acc is 1.000000\n"
     ]
    },
    {
     "name": "stderr",
     "output_type": "stream",
     "text": [
      " 28%|██▊       | 57/200 [05:53<14:47,  6.20s/it]"
     ]
    },
    {
     "name": "stdout",
     "output_type": "stream",
     "text": [
      "epoch is 57, test_loss is 1.574640, test_acc is 0.730222\n",
      "epoch is 58, train_loss is 0.000039, train_acc is 1.000000\n"
     ]
    },
    {
     "name": "stderr",
     "output_type": "stream",
     "text": [
      " 29%|██▉       | 58/200 [05:59<14:16,  6.03s/it]"
     ]
    },
    {
     "name": "stdout",
     "output_type": "stream",
     "text": [
      "epoch is 58, test_loss is 1.583687, test_acc is 0.730836\n",
      "epoch is 59, train_loss is 0.000037, train_acc is 1.000000\n"
     ]
    },
    {
     "name": "stderr",
     "output_type": "stream",
     "text": [
      " 30%|██▉       | 59/200 [06:04<13:54,  5.92s/it]"
     ]
    },
    {
     "name": "stdout",
     "output_type": "stream",
     "text": [
      "epoch is 59, test_loss is 1.594532, test_acc is 0.728602\n",
      "epoch is 60, train_loss is 0.000036, train_acc is 1.000000\n"
     ]
    },
    {
     "name": "stderr",
     "output_type": "stream",
     "text": [
      " 30%|███       | 60/200 [06:10<13:39,  5.85s/it]"
     ]
    },
    {
     "name": "stdout",
     "output_type": "stream",
     "text": [
      "epoch is 60, test_loss is 1.598908, test_acc is 0.728820\n",
      "epoch is 61, train_loss is 0.000034, train_acc is 1.000000\n"
     ]
    },
    {
     "name": "stderr",
     "output_type": "stream",
     "text": [
      " 30%|███       | 61/200 [06:16<13:24,  5.79s/it]"
     ]
    },
    {
     "name": "stdout",
     "output_type": "stream",
     "text": [
      "epoch is 61, test_loss is 1.600714, test_acc is 0.731164\n",
      "epoch is 62, train_loss is 0.000033, train_acc is 1.000000\n"
     ]
    },
    {
     "name": "stderr",
     "output_type": "stream",
     "text": [
      " 31%|███       | 62/200 [06:21<13:09,  5.72s/it]"
     ]
    },
    {
     "name": "stdout",
     "output_type": "stream",
     "text": [
      "epoch is 62, test_loss is 1.605662, test_acc is 0.727907\n",
      "epoch is 63, train_loss is 0.000030, train_acc is 1.000000\n"
     ]
    },
    {
     "name": "stderr",
     "output_type": "stream",
     "text": [
      " 32%|███▏      | 63/200 [06:27<12:59,  5.69s/it]"
     ]
    },
    {
     "name": "stdout",
     "output_type": "stream",
     "text": [
      "epoch is 63, test_loss is 1.612140, test_acc is 0.733410\n",
      "epoch is 64, train_loss is 0.000029, train_acc is 1.000000\n"
     ]
    },
    {
     "name": "stderr",
     "output_type": "stream",
     "text": [
      " 32%|███▏      | 64/200 [06:33<12:51,  5.68s/it]"
     ]
    },
    {
     "name": "stdout",
     "output_type": "stream",
     "text": [
      "epoch is 64, test_loss is 1.625792, test_acc is 0.728504\n",
      "epoch is 65, train_loss is 0.000026, train_acc is 1.000000\n"
     ]
    },
    {
     "name": "stderr",
     "output_type": "stream",
     "text": [
      " 32%|███▎      | 65/200 [06:38<12:52,  5.72s/it]"
     ]
    },
    {
     "name": "stdout",
     "output_type": "stream",
     "text": [
      "epoch is 65, test_loss is 1.632251, test_acc is 0.729515\n",
      "epoch is 66, train_loss is 0.000025, train_acc is 1.000000\n"
     ]
    },
    {
     "name": "stderr",
     "output_type": "stream",
     "text": [
      " 33%|███▎      | 66/200 [06:44<12:42,  5.69s/it]"
     ]
    },
    {
     "name": "stdout",
     "output_type": "stream",
     "text": [
      "epoch is 66, test_loss is 1.638471, test_acc is 0.730653\n",
      "epoch is 67, train_loss is 0.000024, train_acc is 1.000000\n"
     ]
    },
    {
     "name": "stderr",
     "output_type": "stream",
     "text": [
      " 34%|███▎      | 67/200 [06:50<12:36,  5.69s/it]"
     ]
    },
    {
     "name": "stdout",
     "output_type": "stream",
     "text": [
      "epoch is 67, test_loss is 1.640724, test_acc is 0.729090\n",
      "epoch is 68, train_loss is 0.000023, train_acc is 1.000000\n"
     ]
    },
    {
     "name": "stderr",
     "output_type": "stream",
     "text": [
      " 34%|███▍      | 68/200 [06:56<12:36,  5.73s/it]"
     ]
    },
    {
     "name": "stdout",
     "output_type": "stream",
     "text": [
      "epoch is 68, test_loss is 1.647636, test_acc is 0.729710\n",
      "epoch is 69, train_loss is 0.000022, train_acc is 1.000000\n"
     ]
    },
    {
     "name": "stderr",
     "output_type": "stream",
     "text": [
      " 34%|███▍      | 69/200 [07:01<12:26,  5.70s/it]"
     ]
    },
    {
     "name": "stdout",
     "output_type": "stream",
     "text": [
      "epoch is 69, test_loss is 1.652596, test_acc is 0.728429\n",
      "epoch is 70, train_loss is 0.000020, train_acc is 1.000000\n"
     ]
    },
    {
     "name": "stderr",
     "output_type": "stream",
     "text": [
      " 35%|███▌      | 70/200 [07:07<12:18,  5.68s/it]"
     ]
    },
    {
     "name": "stdout",
     "output_type": "stream",
     "text": [
      "epoch is 70, test_loss is 1.653733, test_acc is 0.728504\n",
      "epoch is 71, train_loss is 0.000019, train_acc is 1.000000\n"
     ]
    },
    {
     "name": "stderr",
     "output_type": "stream",
     "text": [
      " 36%|███▌      | 71/200 [07:13<12:12,  5.68s/it]"
     ]
    },
    {
     "name": "stdout",
     "output_type": "stream",
     "text": [
      "epoch is 71, test_loss is 1.675561, test_acc is 0.726551\n",
      "epoch is 72, train_loss is 0.000018, train_acc is 1.000000\n"
     ]
    },
    {
     "name": "stderr",
     "output_type": "stream",
     "text": [
      " 36%|███▌      | 72/200 [07:18<12:12,  5.72s/it]"
     ]
    },
    {
     "name": "stdout",
     "output_type": "stream",
     "text": [
      "epoch is 72, test_loss is 1.659673, test_acc is 0.730658\n",
      "epoch is 73, train_loss is 0.000017, train_acc is 1.000000\n"
     ]
    },
    {
     "name": "stderr",
     "output_type": "stream",
     "text": [
      " 36%|███▋      | 73/200 [07:24<12:06,  5.72s/it]"
     ]
    },
    {
     "name": "stdout",
     "output_type": "stream",
     "text": [
      "epoch is 73, test_loss is 1.656427, test_acc is 0.730090\n",
      "epoch is 74, train_loss is 0.000016, train_acc is 1.000000\n"
     ]
    },
    {
     "name": "stderr",
     "output_type": "stream",
     "text": [
      " 37%|███▋      | 74/200 [07:30<12:01,  5.73s/it]"
     ]
    },
    {
     "name": "stdout",
     "output_type": "stream",
     "text": [
      "epoch is 74, test_loss is 1.674262, test_acc is 0.728998\n",
      "epoch is 75, train_loss is 0.000015, train_acc is 1.000000\n"
     ]
    },
    {
     "name": "stderr",
     "output_type": "stream",
     "text": [
      " 38%|███▊      | 75/200 [07:35<11:53,  5.71s/it]"
     ]
    },
    {
     "name": "stdout",
     "output_type": "stream",
     "text": [
      "epoch is 75, test_loss is 1.691288, test_acc is 0.727775\n",
      "epoch is 76, train_loss is 0.000015, train_acc is 1.000000\n"
     ]
    },
    {
     "name": "stderr",
     "output_type": "stream",
     "text": [
      " 38%|███▊      | 76/200 [07:42<12:22,  5.99s/it]"
     ]
    },
    {
     "name": "stdout",
     "output_type": "stream",
     "text": [
      "epoch is 76, test_loss is 1.686245, test_acc is 0.729544\n",
      "epoch is 77, train_loss is 0.000014, train_acc is 1.000000\n"
     ]
    },
    {
     "name": "stderr",
     "output_type": "stream",
     "text": [
      " 38%|███▊      | 77/200 [07:50<13:11,  6.44s/it]"
     ]
    },
    {
     "name": "stdout",
     "output_type": "stream",
     "text": [
      "epoch is 77, test_loss is 1.705699, test_acc is 0.725730\n",
      "epoch is 78, train_loss is 0.000013, train_acc is 1.000000\n"
     ]
    },
    {
     "name": "stderr",
     "output_type": "stream",
     "text": [
      " 39%|███▉      | 78/200 [07:57<13:45,  6.77s/it]"
     ]
    },
    {
     "name": "stdout",
     "output_type": "stream",
     "text": [
      "epoch is 78, test_loss is 1.704462, test_acc is 0.727568\n",
      "epoch is 79, train_loss is 0.000012, train_acc is 1.000000\n"
     ]
    },
    {
     "name": "stderr",
     "output_type": "stream",
     "text": [
      " 40%|███▉      | 79/200 [08:04<13:39,  6.77s/it]"
     ]
    },
    {
     "name": "stdout",
     "output_type": "stream",
     "text": [
      "epoch is 79, test_loss is 1.706781, test_acc is 0.728108\n",
      "epoch is 80, train_loss is 0.000012, train_acc is 1.000000\n"
     ]
    },
    {
     "name": "stderr",
     "output_type": "stream",
     "text": [
      " 40%|████      | 80/200 [08:10<12:56,  6.47s/it]"
     ]
    },
    {
     "name": "stdout",
     "output_type": "stream",
     "text": [
      "epoch is 80, test_loss is 1.704461, test_acc is 0.728504\n",
      "epoch is 81, train_loss is 0.000011, train_acc is 1.000000\n"
     ]
    },
    {
     "name": "stderr",
     "output_type": "stream",
     "text": [
      " 40%|████      | 81/200 [08:16<12:29,  6.30s/it]"
     ]
    },
    {
     "name": "stdout",
     "output_type": "stream",
     "text": [
      "epoch is 81, test_loss is 1.724531, test_acc is 0.728372\n",
      "epoch is 82, train_loss is 0.000011, train_acc is 1.000000\n"
     ]
    },
    {
     "name": "stderr",
     "output_type": "stream",
     "text": [
      " 41%|████      | 82/200 [08:22<12:10,  6.19s/it]"
     ]
    },
    {
     "name": "stdout",
     "output_type": "stream",
     "text": [
      "epoch is 82, test_loss is 1.714698, test_acc is 0.726677\n",
      "epoch is 83, train_loss is 0.000011, train_acc is 1.000000\n"
     ]
    },
    {
     "name": "stderr",
     "output_type": "stream",
     "text": [
      " 42%|████▏     | 83/200 [08:27<11:50,  6.07s/it]"
     ]
    },
    {
     "name": "stdout",
     "output_type": "stream",
     "text": [
      "epoch is 83, test_loss is 1.713160, test_acc is 0.730664\n",
      "epoch is 84, train_loss is 0.000011, train_acc is 1.000000\n"
     ]
    },
    {
     "name": "stderr",
     "output_type": "stream",
     "text": [
      " 42%|████▏     | 84/200 [08:33<11:36,  6.00s/it]"
     ]
    },
    {
     "name": "stdout",
     "output_type": "stream",
     "text": [
      "epoch is 84, test_loss is 1.714955, test_acc is 0.730262\n",
      "epoch is 85, train_loss is 0.000011, train_acc is 1.000000\n"
     ]
    },
    {
     "name": "stderr",
     "output_type": "stream",
     "text": [
      " 42%|████▎     | 85/200 [08:39<11:23,  5.94s/it]"
     ]
    },
    {
     "name": "stdout",
     "output_type": "stream",
     "text": [
      "epoch is 85, test_loss is 1.706559, test_acc is 0.727505\n",
      "epoch is 86, train_loss is 0.000011, train_acc is 1.000000\n"
     ]
    },
    {
     "name": "stderr",
     "output_type": "stream",
     "text": [
      " 43%|████▎     | 86/200 [08:45<11:09,  5.88s/it]"
     ]
    },
    {
     "name": "stdout",
     "output_type": "stream",
     "text": [
      "epoch is 86, test_loss is 1.722481, test_acc is 0.728412\n",
      "epoch is 87, train_loss is 0.000011, train_acc is 1.000000\n"
     ]
    },
    {
     "name": "stderr",
     "output_type": "stream",
     "text": [
      " 44%|████▎     | 87/200 [08:50<10:57,  5.82s/it]"
     ]
    },
    {
     "name": "stdout",
     "output_type": "stream",
     "text": [
      "epoch is 87, test_loss is 1.706785, test_acc is 0.727700\n",
      "epoch is 88, train_loss is 0.000011, train_acc is 1.000000\n"
     ]
    },
    {
     "name": "stderr",
     "output_type": "stream",
     "text": [
      " 44%|████▍     | 88/200 [08:56<10:49,  5.80s/it]"
     ]
    },
    {
     "name": "stdout",
     "output_type": "stream",
     "text": [
      "epoch is 88, test_loss is 1.716427, test_acc is 0.729607\n",
      "epoch is 89, train_loss is 0.000011, train_acc is 1.000000\n"
     ]
    },
    {
     "name": "stderr",
     "output_type": "stream",
     "text": [
      " 44%|████▍     | 89/200 [09:02<10:43,  5.80s/it]"
     ]
    },
    {
     "name": "stdout",
     "output_type": "stream",
     "text": [
      "epoch is 89, test_loss is 1.703562, test_acc is 0.729262\n",
      "epoch is 90, train_loss is 0.000011, train_acc is 1.000000\n"
     ]
    },
    {
     "name": "stderr",
     "output_type": "stream",
     "text": [
      " 45%|████▌     | 90/200 [09:08<10:37,  5.80s/it]"
     ]
    },
    {
     "name": "stdout",
     "output_type": "stream",
     "text": [
      "epoch is 90, test_loss is 1.716641, test_acc is 0.727706\n",
      "epoch is 91, train_loss is 0.000010, train_acc is 1.000000\n"
     ]
    },
    {
     "name": "stderr",
     "output_type": "stream",
     "text": [
      " 46%|████▌     | 91/200 [09:13<10:31,  5.79s/it]"
     ]
    },
    {
     "name": "stdout",
     "output_type": "stream",
     "text": [
      "epoch is 91, test_loss is 1.707209, test_acc is 0.730377\n",
      "epoch is 92, train_loss is 0.000010, train_acc is 1.000000\n"
     ]
    },
    {
     "name": "stderr",
     "output_type": "stream",
     "text": [
      " 46%|████▌     | 92/200 [09:19<10:20,  5.74s/it]"
     ]
    },
    {
     "name": "stdout",
     "output_type": "stream",
     "text": [
      "epoch is 92, test_loss is 1.722481, test_acc is 0.727935\n",
      "epoch is 93, train_loss is 0.000010, train_acc is 1.000000\n"
     ]
    },
    {
     "name": "stderr",
     "output_type": "stream",
     "text": [
      " 46%|████▋     | 93/200 [09:25<10:14,  5.74s/it]"
     ]
    },
    {
     "name": "stdout",
     "output_type": "stream",
     "text": [
      "epoch is 93, test_loss is 1.715024, test_acc is 0.728366\n",
      "epoch is 94, train_loss is 0.000010, train_acc is 1.000000\n"
     ]
    },
    {
     "name": "stderr",
     "output_type": "stream",
     "text": [
      " 47%|████▋     | 94/200 [09:31<10:11,  5.77s/it]"
     ]
    },
    {
     "name": "stdout",
     "output_type": "stream",
     "text": [
      "epoch is 94, test_loss is 1.712375, test_acc is 0.730072\n",
      "epoch is 95, train_loss is 0.000010, train_acc is 1.000000\n"
     ]
    },
    {
     "name": "stderr",
     "output_type": "stream",
     "text": [
      " 48%|████▊     | 95/200 [09:36<10:05,  5.76s/it]"
     ]
    },
    {
     "name": "stdout",
     "output_type": "stream",
     "text": [
      "epoch is 95, test_loss is 1.727895, test_acc is 0.727855\n",
      "epoch is 96, train_loss is 0.000010, train_acc is 1.000000\n"
     ]
    },
    {
     "name": "stderr",
     "output_type": "stream",
     "text": [
      " 48%|████▊     | 96/200 [09:42<09:55,  5.73s/it]"
     ]
    },
    {
     "name": "stdout",
     "output_type": "stream",
     "text": [
      "epoch is 96, test_loss is 1.723381, test_acc is 0.728659\n",
      "epoch is 97, train_loss is 0.000009, train_acc is 1.000000\n"
     ]
    },
    {
     "name": "stderr",
     "output_type": "stream",
     "text": [
      " 48%|████▊     | 97/200 [09:48<09:51,  5.74s/it]"
     ]
    },
    {
     "name": "stdout",
     "output_type": "stream",
     "text": [
      "epoch is 97, test_loss is 1.725894, test_acc is 0.725913\n",
      "epoch is 98, train_loss is 0.000010, train_acc is 1.000000\n"
     ]
    },
    {
     "name": "stderr",
     "output_type": "stream",
     "text": [
      " 49%|████▉     | 98/200 [09:54<09:43,  5.72s/it]"
     ]
    },
    {
     "name": "stdout",
     "output_type": "stream",
     "text": [
      "epoch is 98, test_loss is 1.724245, test_acc is 0.728734\n",
      "epoch is 99, train_loss is 0.000010, train_acc is 1.000000\n"
     ]
    },
    {
     "name": "stderr",
     "output_type": "stream",
     "text": [
      " 50%|████▉     | 99/200 [09:59<09:35,  5.70s/it]"
     ]
    },
    {
     "name": "stdout",
     "output_type": "stream",
     "text": [
      "epoch is 99, test_loss is 1.721793, test_acc is 0.729429\n",
      "epoch is 100, train_loss is 0.000009, train_acc is 1.000000\n"
     ]
    },
    {
     "name": "stderr",
     "output_type": "stream",
     "text": [
      " 50%|█████     | 100/200 [10:05<09:27,  5.68s/it]"
     ]
    },
    {
     "name": "stdout",
     "output_type": "stream",
     "text": [
      "epoch is 100, test_loss is 1.721502, test_acc is 0.728918\n",
      "epoch is 101, train_loss is 0.000009, train_acc is 1.000000\n"
     ]
    },
    {
     "name": "stderr",
     "output_type": "stream",
     "text": [
      " 50%|█████     | 101/200 [10:10<09:20,  5.66s/it]"
     ]
    },
    {
     "name": "stdout",
     "output_type": "stream",
     "text": [
      "epoch is 101, test_loss is 1.722579, test_acc is 0.729728\n",
      "epoch is 102, train_loss is 0.000009, train_acc is 1.000000\n"
     ]
    },
    {
     "name": "stderr",
     "output_type": "stream",
     "text": [
      " 51%|█████     | 102/200 [10:16<09:13,  5.65s/it]"
     ]
    },
    {
     "name": "stdout",
     "output_type": "stream",
     "text": [
      "epoch is 102, test_loss is 1.729577, test_acc is 0.727384\n",
      "epoch is 103, train_loss is 0.000009, train_acc is 1.000000\n"
     ]
    },
    {
     "name": "stderr",
     "output_type": "stream",
     "text": [
      " 52%|█████▏    | 103/200 [10:22<09:05,  5.62s/it]"
     ]
    },
    {
     "name": "stdout",
     "output_type": "stream",
     "text": [
      "epoch is 103, test_loss is 1.717399, test_acc is 0.731032\n",
      "epoch is 104, train_loss is 0.000009, train_acc is 1.000000\n"
     ]
    },
    {
     "name": "stderr",
     "output_type": "stream",
     "text": [
      " 52%|█████▏    | 104/200 [10:27<09:01,  5.64s/it]"
     ]
    },
    {
     "name": "stdout",
     "output_type": "stream",
     "text": [
      "epoch is 104, test_loss is 1.724205, test_acc is 0.730670\n",
      "epoch is 105, train_loss is 0.000009, train_acc is 1.000000\n"
     ]
    },
    {
     "name": "stderr",
     "output_type": "stream",
     "text": [
      " 52%|█████▎    | 105/200 [10:33<09:03,  5.72s/it]"
     ]
    },
    {
     "name": "stdout",
     "output_type": "stream",
     "text": [
      "epoch is 105, test_loss is 1.728573, test_acc is 0.726591\n",
      "epoch is 106, train_loss is 0.000010, train_acc is 1.000000\n"
     ]
    },
    {
     "name": "stderr",
     "output_type": "stream",
     "text": [
      " 53%|█████▎    | 106/200 [10:39<08:55,  5.70s/it]"
     ]
    },
    {
     "name": "stdout",
     "output_type": "stream",
     "text": [
      "epoch is 106, test_loss is 1.731351, test_acc is 0.728171\n",
      "epoch is 107, train_loss is 0.000009, train_acc is 1.000000\n"
     ]
    },
    {
     "name": "stderr",
     "output_type": "stream",
     "text": [
      " 54%|█████▎    | 107/200 [10:44<08:49,  5.69s/it]"
     ]
    },
    {
     "name": "stdout",
     "output_type": "stream",
     "text": [
      "epoch is 107, test_loss is 1.726682, test_acc is 0.727878\n",
      "epoch is 108, train_loss is 0.000009, train_acc is 1.000000\n"
     ]
    },
    {
     "name": "stderr",
     "output_type": "stream",
     "text": [
      " 54%|█████▍    | 108/200 [10:50<08:41,  5.67s/it]"
     ]
    },
    {
     "name": "stdout",
     "output_type": "stream",
     "text": [
      "epoch is 108, test_loss is 1.718053, test_acc is 0.729015\n",
      "epoch is 109, train_loss is 0.000009, train_acc is 1.000000\n"
     ]
    },
    {
     "name": "stderr",
     "output_type": "stream",
     "text": [
      " 55%|█████▍    | 109/200 [10:56<08:37,  5.69s/it]"
     ]
    },
    {
     "name": "stdout",
     "output_type": "stream",
     "text": [
      "epoch is 109, test_loss is 1.740162, test_acc is 0.728763\n",
      "epoch is 110, train_loss is 0.000009, train_acc is 1.000000\n"
     ]
    },
    {
     "name": "stderr",
     "output_type": "stream",
     "text": [
      " 55%|█████▌    | 110/200 [11:03<09:10,  6.12s/it]"
     ]
    },
    {
     "name": "stdout",
     "output_type": "stream",
     "text": [
      "epoch is 110, test_loss is 1.719218, test_acc is 0.729492\n",
      "epoch is 111, train_loss is 0.000009, train_acc is 1.000000\n"
     ]
    },
    {
     "name": "stderr",
     "output_type": "stream",
     "text": [
      " 56%|█████▌    | 111/200 [11:11<09:43,  6.56s/it]"
     ]
    },
    {
     "name": "stdout",
     "output_type": "stream",
     "text": [
      "epoch is 111, test_loss is 1.723292, test_acc is 0.729337\n",
      "epoch is 112, train_loss is 0.000009, train_acc is 1.000000\n"
     ]
    },
    {
     "name": "stderr",
     "output_type": "stream",
     "text": [
      " 56%|█████▌    | 112/200 [11:18<10:05,  6.88s/it]"
     ]
    },
    {
     "name": "stdout",
     "output_type": "stream",
     "text": [
      "epoch is 112, test_loss is 1.728839, test_acc is 0.728280\n",
      "epoch is 113, train_loss is 0.000009, train_acc is 1.000000\n"
     ]
    },
    {
     "name": "stderr",
     "output_type": "stream",
     "text": [
      " 56%|█████▋    | 113/200 [11:26<10:19,  7.12s/it]"
     ]
    },
    {
     "name": "stdout",
     "output_type": "stream",
     "text": [
      "epoch is 113, test_loss is 1.724953, test_acc is 0.729969\n",
      "epoch is 114, train_loss is 0.000009, train_acc is 1.000000\n"
     ]
    },
    {
     "name": "stderr",
     "output_type": "stream",
     "text": [
      " 57%|█████▋    | 114/200 [11:33<10:03,  7.02s/it]"
     ]
    },
    {
     "name": "stdout",
     "output_type": "stream",
     "text": [
      "epoch is 114, test_loss is 1.729829, test_acc is 0.727034\n",
      "epoch is 115, train_loss is 0.000009, train_acc is 1.000000\n"
     ]
    },
    {
     "name": "stderr",
     "output_type": "stream",
     "text": [
      " 57%|█████▊    | 115/200 [11:39<09:32,  6.74s/it]"
     ]
    },
    {
     "name": "stdout",
     "output_type": "stream",
     "text": [
      "epoch is 115, test_loss is 1.717860, test_acc is 0.729676\n",
      "epoch is 116, train_loss is 0.000009, train_acc is 1.000000\n"
     ]
    },
    {
     "name": "stderr",
     "output_type": "stream",
     "text": [
      " 58%|█████▊    | 116/200 [11:44<08:59,  6.42s/it]"
     ]
    },
    {
     "name": "stdout",
     "output_type": "stream",
     "text": [
      "epoch is 116, test_loss is 1.739060, test_acc is 0.725609\n",
      "epoch is 117, train_loss is 0.000009, train_acc is 1.000000\n"
     ]
    },
    {
     "name": "stderr",
     "output_type": "stream",
     "text": [
      " 58%|█████▊    | 117/200 [11:50<08:37,  6.23s/it]"
     ]
    },
    {
     "name": "stdout",
     "output_type": "stream",
     "text": [
      "epoch is 117, test_loss is 1.725453, test_acc is 0.728165\n",
      "epoch is 118, train_loss is 0.000009, train_acc is 1.000000\n"
     ]
    },
    {
     "name": "stderr",
     "output_type": "stream",
     "text": [
      " 59%|█████▉    | 118/200 [11:56<08:18,  6.08s/it]"
     ]
    },
    {
     "name": "stdout",
     "output_type": "stream",
     "text": [
      "epoch is 118, test_loss is 1.721699, test_acc is 0.729061\n",
      "epoch is 119, train_loss is 0.000009, train_acc is 1.000000\n"
     ]
    },
    {
     "name": "stderr",
     "output_type": "stream",
     "text": [
      " 60%|█████▉    | 119/200 [12:02<08:06,  6.00s/it]"
     ]
    },
    {
     "name": "stdout",
     "output_type": "stream",
     "text": [
      "epoch is 119, test_loss is 1.732656, test_acc is 0.731847\n",
      "epoch is 120, train_loss is 0.000009, train_acc is 1.000000\n"
     ]
    },
    {
     "name": "stderr",
     "output_type": "stream",
     "text": [
      " 60%|██████    | 120/200 [12:07<07:50,  5.89s/it]"
     ]
    },
    {
     "name": "stdout",
     "output_type": "stream",
     "text": [
      "epoch is 120, test_loss is 1.732390, test_acc is 0.728349\n",
      "epoch is 121, train_loss is 0.000009, train_acc is 1.000000\n"
     ]
    },
    {
     "name": "stderr",
     "output_type": "stream",
     "text": [
      " 60%|██████    | 121/200 [12:13<07:38,  5.81s/it]"
     ]
    },
    {
     "name": "stdout",
     "output_type": "stream",
     "text": [
      "epoch is 121, test_loss is 1.745990, test_acc is 0.724506\n",
      "epoch is 122, train_loss is 0.000009, train_acc is 1.000000\n"
     ]
    },
    {
     "name": "stderr",
     "output_type": "stream",
     "text": [
      " 61%|██████    | 122/200 [12:19<07:29,  5.76s/it]"
     ]
    },
    {
     "name": "stdout",
     "output_type": "stream",
     "text": [
      "epoch is 122, test_loss is 1.732282, test_acc is 0.728102\n",
      "epoch is 123, train_loss is 0.000009, train_acc is 1.000000\n"
     ]
    },
    {
     "name": "stderr",
     "output_type": "stream",
     "text": [
      " 62%|██████▏   | 123/200 [12:24<07:20,  5.72s/it]"
     ]
    },
    {
     "name": "stdout",
     "output_type": "stream",
     "text": [
      "epoch is 123, test_loss is 1.723884, test_acc is 0.731204\n",
      "epoch is 124, train_loss is 0.000009, train_acc is 1.000000\n"
     ]
    },
    {
     "name": "stderr",
     "output_type": "stream",
     "text": [
      " 62%|██████▏   | 124/200 [12:30<07:13,  5.70s/it]"
     ]
    },
    {
     "name": "stdout",
     "output_type": "stream",
     "text": [
      "epoch is 124, test_loss is 1.728916, test_acc is 0.731497\n",
      "epoch is 125, train_loss is 0.000009, train_acc is 1.000000\n"
     ]
    },
    {
     "name": "stderr",
     "output_type": "stream",
     "text": [
      " 62%|██████▎   | 125/200 [12:36<07:06,  5.68s/it]"
     ]
    },
    {
     "name": "stdout",
     "output_type": "stream",
     "text": [
      "epoch is 125, test_loss is 1.743194, test_acc is 0.728860\n",
      "epoch is 126, train_loss is 0.000009, train_acc is 1.000000\n"
     ]
    },
    {
     "name": "stderr",
     "output_type": "stream",
     "text": [
      " 63%|██████▎   | 126/200 [12:41<06:58,  5.65s/it]"
     ]
    },
    {
     "name": "stdout",
     "output_type": "stream",
     "text": [
      "epoch is 126, test_loss is 1.719029, test_acc is 0.729216\n",
      "epoch is 127, train_loss is 0.000009, train_acc is 1.000000\n"
     ]
    },
    {
     "name": "stderr",
     "output_type": "stream",
     "text": [
      " 64%|██████▎   | 127/200 [12:47<06:51,  5.63s/it]"
     ]
    },
    {
     "name": "stdout",
     "output_type": "stream",
     "text": [
      "epoch is 127, test_loss is 1.729660, test_acc is 0.728998\n",
      "epoch is 128, train_loss is 0.000009, train_acc is 1.000000\n"
     ]
    },
    {
     "name": "stderr",
     "output_type": "stream",
     "text": [
      " 64%|██████▍   | 128/200 [12:52<06:45,  5.63s/it]"
     ]
    },
    {
     "name": "stdout",
     "output_type": "stream",
     "text": [
      "epoch is 128, test_loss is 1.723810, test_acc is 0.729785\n",
      "epoch is 129, train_loss is 0.000009, train_acc is 1.000000\n"
     ]
    },
    {
     "name": "stderr",
     "output_type": "stream",
     "text": [
      " 64%|██████▍   | 129/200 [12:58<06:40,  5.64s/it]"
     ]
    },
    {
     "name": "stdout",
     "output_type": "stream",
     "text": [
      "epoch is 129, test_loss is 1.718230, test_acc is 0.730767\n",
      "epoch is 130, train_loss is 0.000009, train_acc is 1.000000\n"
     ]
    },
    {
     "name": "stderr",
     "output_type": "stream",
     "text": [
      " 65%|██████▌   | 130/200 [13:04<06:33,  5.63s/it]"
     ]
    },
    {
     "name": "stdout",
     "output_type": "stream",
     "text": [
      "epoch is 130, test_loss is 1.726694, test_acc is 0.728958\n",
      "epoch is 131, train_loss is 0.000009, train_acc is 1.000000\n"
     ]
    },
    {
     "name": "stderr",
     "output_type": "stream",
     "text": [
      " 66%|██████▌   | 131/200 [13:09<06:30,  5.66s/it]"
     ]
    },
    {
     "name": "stdout",
     "output_type": "stream",
     "text": [
      "epoch is 131, test_loss is 1.744699, test_acc is 0.729446\n",
      "epoch is 132, train_loss is 0.000009, train_acc is 1.000000\n"
     ]
    },
    {
     "name": "stderr",
     "output_type": "stream",
     "text": [
      " 66%|██████▌   | 132/200 [13:15<06:26,  5.68s/it]"
     ]
    },
    {
     "name": "stdout",
     "output_type": "stream",
     "text": [
      "epoch is 132, test_loss is 1.734055, test_acc is 0.727562\n",
      "epoch is 133, train_loss is 0.000009, train_acc is 1.000000\n"
     ]
    },
    {
     "name": "stderr",
     "output_type": "stream",
     "text": [
      " 66%|██████▋   | 133/200 [13:21<06:18,  5.65s/it]"
     ]
    },
    {
     "name": "stdout",
     "output_type": "stream",
     "text": [
      "epoch is 133, test_loss is 1.732289, test_acc is 0.727355\n",
      "epoch is 134, train_loss is 0.000009, train_acc is 1.000000\n"
     ]
    },
    {
     "name": "stderr",
     "output_type": "stream",
     "text": [
      " 67%|██████▋   | 134/200 [13:26<06:11,  5.63s/it]"
     ]
    },
    {
     "name": "stdout",
     "output_type": "stream",
     "text": [
      "epoch is 134, test_loss is 1.726387, test_acc is 0.730767\n",
      "epoch is 135, train_loss is 0.000009, train_acc is 1.000000\n"
     ]
    },
    {
     "name": "stderr",
     "output_type": "stream",
     "text": [
      " 68%|██████▊   | 135/200 [13:32<06:05,  5.62s/it]"
     ]
    },
    {
     "name": "stdout",
     "output_type": "stream",
     "text": [
      "epoch is 135, test_loss is 1.741204, test_acc is 0.728251\n",
      "epoch is 136, train_loss is 0.000009, train_acc is 1.000000\n"
     ]
    },
    {
     "name": "stderr",
     "output_type": "stream",
     "text": [
      " 68%|██████▊   | 136/200 [13:37<05:59,  5.62s/it]"
     ]
    },
    {
     "name": "stdout",
     "output_type": "stream",
     "text": [
      "epoch is 136, test_loss is 1.735272, test_acc is 0.727884\n",
      "epoch is 137, train_loss is 0.000009, train_acc is 1.000000\n"
     ]
    },
    {
     "name": "stderr",
     "output_type": "stream",
     "text": [
      " 68%|██████▊   | 137/200 [13:43<05:59,  5.71s/it]"
     ]
    },
    {
     "name": "stdout",
     "output_type": "stream",
     "text": [
      "epoch is 137, test_loss is 1.728949, test_acc is 0.727941\n",
      "epoch is 138, train_loss is 0.000009, train_acc is 1.000000\n"
     ]
    },
    {
     "name": "stderr",
     "output_type": "stream",
     "text": [
      " 69%|██████▉   | 138/200 [13:49<05:52,  5.69s/it]"
     ]
    },
    {
     "name": "stdout",
     "output_type": "stream",
     "text": [
      "epoch is 138, test_loss is 1.743337, test_acc is 0.728315\n",
      "epoch is 139, train_loss is 0.000009, train_acc is 1.000000\n"
     ]
    },
    {
     "name": "stderr",
     "output_type": "stream",
     "text": [
      " 70%|██████▉   | 139/200 [13:55<05:46,  5.67s/it]"
     ]
    },
    {
     "name": "stdout",
     "output_type": "stream",
     "text": [
      "epoch is 139, test_loss is 1.728773, test_acc is 0.728269\n",
      "epoch is 140, train_loss is 0.000009, train_acc is 1.000000\n"
     ]
    },
    {
     "name": "stderr",
     "output_type": "stream",
     "text": [
      " 70%|███████   | 140/200 [14:00<05:42,  5.70s/it]"
     ]
    },
    {
     "name": "stdout",
     "output_type": "stream",
     "text": [
      "epoch is 140, test_loss is 1.731298, test_acc is 0.728251\n",
      "epoch is 141, train_loss is 0.000009, train_acc is 1.000000\n"
     ]
    },
    {
     "name": "stderr",
     "output_type": "stream",
     "text": [
      " 70%|███████   | 141/200 [14:06<05:35,  5.69s/it]"
     ]
    },
    {
     "name": "stdout",
     "output_type": "stream",
     "text": [
      "epoch is 141, test_loss is 1.735471, test_acc is 0.727016\n",
      "epoch is 142, train_loss is 0.000009, train_acc is 1.000000\n"
     ]
    },
    {
     "name": "stderr",
     "output_type": "stream",
     "text": [
      " 71%|███████   | 142/200 [14:12<05:29,  5.69s/it]"
     ]
    },
    {
     "name": "stdout",
     "output_type": "stream",
     "text": [
      "epoch is 142, test_loss is 1.732851, test_acc is 0.728424\n",
      "epoch is 143, train_loss is 0.000009, train_acc is 1.000000\n"
     ]
    },
    {
     "name": "stderr",
     "output_type": "stream",
     "text": [
      " 72%|███████▏  | 143/200 [14:18<05:27,  5.75s/it]"
     ]
    },
    {
     "name": "stdout",
     "output_type": "stream",
     "text": [
      "epoch is 143, test_loss is 1.734581, test_acc is 0.729745\n",
      "epoch is 144, train_loss is 0.000008, train_acc is 1.000000\n"
     ]
    },
    {
     "name": "stderr",
     "output_type": "stream",
     "text": [
      " 72%|███████▏  | 144/200 [14:25<05:49,  6.25s/it]"
     ]
    },
    {
     "name": "stdout",
     "output_type": "stream",
     "text": [
      "epoch is 144, test_loss is 1.724060, test_acc is 0.729262\n",
      "epoch is 145, train_loss is 0.000009, train_acc is 1.000000\n"
     ]
    },
    {
     "name": "stderr",
     "output_type": "stream",
     "text": [
      " 72%|███████▎  | 145/200 [14:33<06:06,  6.67s/it]"
     ]
    },
    {
     "name": "stdout",
     "output_type": "stream",
     "text": [
      "epoch is 145, test_loss is 1.727784, test_acc is 0.729297\n",
      "epoch is 146, train_loss is 0.000009, train_acc is 1.000000\n"
     ]
    },
    {
     "name": "stderr",
     "output_type": "stream",
     "text": [
      " 73%|███████▎  | 146/200 [14:40<06:16,  6.97s/it]"
     ]
    },
    {
     "name": "stdout",
     "output_type": "stream",
     "text": [
      "epoch is 146, test_loss is 1.734418, test_acc is 0.729481\n",
      "epoch is 147, train_loss is 0.000009, train_acc is 1.000000\n"
     ]
    },
    {
     "name": "stderr",
     "output_type": "stream",
     "text": [
      " 74%|███████▎  | 147/200 [14:48<06:25,  7.27s/it]"
     ]
    },
    {
     "name": "stdout",
     "output_type": "stream",
     "text": [
      "epoch is 147, test_loss is 1.741445, test_acc is 0.728998\n",
      "epoch is 148, train_loss is 0.000009, train_acc is 1.000000\n"
     ]
    },
    {
     "name": "stderr",
     "output_type": "stream",
     "text": [
      " 74%|███████▍  | 148/200 [14:56<06:23,  7.38s/it]"
     ]
    },
    {
     "name": "stdout",
     "output_type": "stream",
     "text": [
      "epoch is 148, test_loss is 1.744516, test_acc is 0.727918\n",
      "epoch is 149, train_loss is 0.000009, train_acc is 1.000000\n"
     ]
    },
    {
     "name": "stderr",
     "output_type": "stream",
     "text": [
      " 74%|███████▍  | 149/200 [15:04<06:20,  7.45s/it]"
     ]
    },
    {
     "name": "stdout",
     "output_type": "stream",
     "text": [
      "epoch is 149, test_loss is 1.735089, test_acc is 0.730055\n",
      "epoch is 150, train_loss is 0.000009, train_acc is 1.000000\n"
     ]
    },
    {
     "name": "stderr",
     "output_type": "stream",
     "text": [
      " 75%|███████▌  | 150/200 [15:10<05:50,  7.00s/it]"
     ]
    },
    {
     "name": "stdout",
     "output_type": "stream",
     "text": [
      "epoch is 150, test_loss is 1.732903, test_acc is 0.728889\n",
      "epoch is 151, train_loss is 0.000009, train_acc is 1.000000\n"
     ]
    },
    {
     "name": "stderr",
     "output_type": "stream",
     "text": [
      " 76%|███████▌  | 151/200 [15:15<05:24,  6.62s/it]"
     ]
    },
    {
     "name": "stdout",
     "output_type": "stream",
     "text": [
      "epoch is 151, test_loss is 1.730096, test_acc is 0.728809\n",
      "epoch is 152, train_loss is 0.000009, train_acc is 1.000000\n"
     ]
    },
    {
     "name": "stderr",
     "output_type": "stream",
     "text": [
      " 76%|███████▌  | 152/200 [15:21<05:03,  6.33s/it]"
     ]
    },
    {
     "name": "stdout",
     "output_type": "stream",
     "text": [
      "epoch is 152, test_loss is 1.720775, test_acc is 0.729245\n",
      "epoch is 153, train_loss is 0.000009, train_acc is 1.000000\n"
     ]
    },
    {
     "name": "stderr",
     "output_type": "stream",
     "text": [
      " 76%|███████▋  | 153/200 [15:27<04:47,  6.12s/it]"
     ]
    },
    {
     "name": "stdout",
     "output_type": "stream",
     "text": [
      "epoch is 153, test_loss is 1.726184, test_acc is 0.729245\n",
      "epoch is 154, train_loss is 0.000009, train_acc is 1.000000\n"
     ]
    },
    {
     "name": "stderr",
     "output_type": "stream",
     "text": [
      " 77%|███████▋  | 154/200 [15:32<04:35,  5.99s/it]"
     ]
    },
    {
     "name": "stdout",
     "output_type": "stream",
     "text": [
      "epoch is 154, test_loss is 1.734020, test_acc is 0.727430\n",
      "epoch is 155, train_loss is 0.000009, train_acc is 1.000000\n"
     ]
    },
    {
     "name": "stderr",
     "output_type": "stream",
     "text": [
      " 78%|███████▊  | 155/200 [15:38<04:24,  5.88s/it]"
     ]
    },
    {
     "name": "stdout",
     "output_type": "stream",
     "text": [
      "epoch is 155, test_loss is 1.733501, test_acc is 0.729486\n",
      "epoch is 156, train_loss is 0.000009, train_acc is 1.000000\n"
     ]
    },
    {
     "name": "stderr",
     "output_type": "stream",
     "text": [
      " 78%|███████▊  | 156/200 [15:44<04:15,  5.80s/it]"
     ]
    },
    {
     "name": "stdout",
     "output_type": "stream",
     "text": [
      "epoch is 156, test_loss is 1.730052, test_acc is 0.728211\n",
      "epoch is 157, train_loss is 0.000009, train_acc is 1.000000\n"
     ]
    },
    {
     "name": "stderr",
     "output_type": "stream",
     "text": [
      " 78%|███████▊  | 157/200 [15:49<04:06,  5.74s/it]"
     ]
    },
    {
     "name": "stdout",
     "output_type": "stream",
     "text": [
      "epoch is 157, test_loss is 1.729955, test_acc is 0.731434\n",
      "epoch is 158, train_loss is 0.000009, train_acc is 1.000000\n"
     ]
    },
    {
     "name": "stderr",
     "output_type": "stream",
     "text": [
      " 79%|███████▉  | 158/200 [15:55<03:59,  5.69s/it]"
     ]
    },
    {
     "name": "stdout",
     "output_type": "stream",
     "text": [
      "epoch is 158, test_loss is 1.733747, test_acc is 0.729722\n",
      "epoch is 159, train_loss is 0.000008, train_acc is 1.000000\n"
     ]
    },
    {
     "name": "stderr",
     "output_type": "stream",
     "text": [
      " 80%|███████▉  | 159/200 [16:00<03:54,  5.71s/it]"
     ]
    },
    {
     "name": "stdout",
     "output_type": "stream",
     "text": [
      "epoch is 159, test_loss is 1.734629, test_acc is 0.729670\n",
      "epoch is 160, train_loss is 0.000009, train_acc is 1.000000\n"
     ]
    },
    {
     "name": "stderr",
     "output_type": "stream",
     "text": [
      " 80%|████████  | 160/200 [16:06<03:48,  5.72s/it]"
     ]
    },
    {
     "name": "stdout",
     "output_type": "stream",
     "text": [
      "epoch is 160, test_loss is 1.736640, test_acc is 0.729308\n",
      "epoch is 161, train_loss is 0.000009, train_acc is 1.000000\n"
     ]
    },
    {
     "name": "stderr",
     "output_type": "stream",
     "text": [
      " 80%|████████  | 161/200 [16:12<03:42,  5.69s/it]"
     ]
    },
    {
     "name": "stdout",
     "output_type": "stream",
     "text": [
      "epoch is 161, test_loss is 1.725692, test_acc is 0.729337\n",
      "epoch is 162, train_loss is 0.000008, train_acc is 1.000000\n"
     ]
    },
    {
     "name": "stderr",
     "output_type": "stream",
     "text": [
      " 81%|████████  | 162/200 [16:17<03:35,  5.67s/it]"
     ]
    },
    {
     "name": "stdout",
     "output_type": "stream",
     "text": [
      "epoch is 162, test_loss is 1.734537, test_acc is 0.728039\n",
      "epoch is 163, train_loss is 0.000009, train_acc is 1.000000\n"
     ]
    },
    {
     "name": "stderr",
     "output_type": "stream",
     "text": [
      " 82%|████████▏ | 163/200 [16:23<03:28,  5.64s/it]"
     ]
    },
    {
     "name": "stdout",
     "output_type": "stream",
     "text": [
      "epoch is 163, test_loss is 1.728550, test_acc is 0.727935\n",
      "epoch is 164, train_loss is 0.000008, train_acc is 1.000000\n"
     ]
    },
    {
     "name": "stderr",
     "output_type": "stream",
     "text": [
      " 82%|████████▏ | 164/200 [16:29<03:23,  5.65s/it]"
     ]
    },
    {
     "name": "stdout",
     "output_type": "stream",
     "text": [
      "epoch is 164, test_loss is 1.736243, test_acc is 0.730744\n",
      "epoch is 165, train_loss is 0.000009, train_acc is 1.000000\n"
     ]
    },
    {
     "name": "stderr",
     "output_type": "stream",
     "text": [
      " 82%|████████▎ | 165/200 [16:34<03:17,  5.64s/it]"
     ]
    },
    {
     "name": "stdout",
     "output_type": "stream",
     "text": [
      "epoch is 165, test_loss is 1.739985, test_acc is 0.727585\n",
      "epoch is 166, train_loss is 0.000008, train_acc is 1.000000\n"
     ]
    },
    {
     "name": "stderr",
     "output_type": "stream",
     "text": [
      " 83%|████████▎ | 166/200 [16:40<03:11,  5.64s/it]"
     ]
    },
    {
     "name": "stdout",
     "output_type": "stream",
     "text": [
      "epoch is 166, test_loss is 1.740229, test_acc is 0.728171\n",
      "epoch is 167, train_loss is 0.000009, train_acc is 1.000000\n"
     ]
    },
    {
     "name": "stderr",
     "output_type": "stream",
     "text": [
      " 84%|████████▎ | 167/200 [16:46<03:05,  5.64s/it]"
     ]
    },
    {
     "name": "stdout",
     "output_type": "stream",
     "text": [
      "epoch is 167, test_loss is 1.740234, test_acc is 0.730664\n",
      "epoch is 168, train_loss is 0.000008, train_acc is 1.000000\n"
     ]
    },
    {
     "name": "stderr",
     "output_type": "stream",
     "text": [
      " 84%|████████▍ | 168/200 [16:51<03:00,  5.64s/it]"
     ]
    },
    {
     "name": "stdout",
     "output_type": "stream",
     "text": [
      "epoch is 168, test_loss is 1.724788, test_acc is 0.729504\n",
      "epoch is 169, train_loss is 0.000008, train_acc is 1.000000\n"
     ]
    },
    {
     "name": "stderr",
     "output_type": "stream",
     "text": [
      " 84%|████████▍ | 169/200 [16:57<02:54,  5.63s/it]"
     ]
    },
    {
     "name": "stdout",
     "output_type": "stream",
     "text": [
      "epoch is 169, test_loss is 1.727493, test_acc is 0.728039\n",
      "epoch is 170, train_loss is 0.000008, train_acc is 1.000000\n"
     ]
    },
    {
     "name": "stderr",
     "output_type": "stream",
     "text": [
      " 85%|████████▌ | 170/200 [17:02<02:48,  5.63s/it]"
     ]
    },
    {
     "name": "stdout",
     "output_type": "stream",
     "text": [
      "epoch is 170, test_loss is 1.731243, test_acc is 0.730268\n",
      "epoch is 171, train_loss is 0.000008, train_acc is 1.000000\n"
     ]
    },
    {
     "name": "stderr",
     "output_type": "stream",
     "text": [
      " 86%|████████▌ | 171/200 [17:08<02:43,  5.65s/it]"
     ]
    },
    {
     "name": "stdout",
     "output_type": "stream",
     "text": [
      "epoch is 171, test_loss is 1.737044, test_acc is 0.728981\n",
      "epoch is 172, train_loss is 0.000008, train_acc is 1.000000\n"
     ]
    },
    {
     "name": "stderr",
     "output_type": "stream",
     "text": [
      " 86%|████████▌ | 172/200 [17:14<02:37,  5.64s/it]"
     ]
    },
    {
     "name": "stdout",
     "output_type": "stream",
     "text": [
      "epoch is 172, test_loss is 1.729990, test_acc is 0.731612\n",
      "epoch is 173, train_loss is 0.000008, train_acc is 1.000000\n"
     ]
    },
    {
     "name": "stderr",
     "output_type": "stream",
     "text": [
      " 86%|████████▋ | 173/200 [17:19<02:31,  5.63s/it]"
     ]
    },
    {
     "name": "stdout",
     "output_type": "stream",
     "text": [
      "epoch is 173, test_loss is 1.732554, test_acc is 0.730888\n",
      "epoch is 174, train_loss is 0.000008, train_acc is 1.000000\n"
     ]
    },
    {
     "name": "stderr",
     "output_type": "stream",
     "text": [
      " 87%|████████▋ | 174/200 [17:25<02:26,  5.62s/it]"
     ]
    },
    {
     "name": "stdout",
     "output_type": "stream",
     "text": [
      "epoch is 174, test_loss is 1.728228, test_acc is 0.730360\n",
      "epoch is 175, train_loss is 0.000008, train_acc is 1.000000\n"
     ]
    },
    {
     "name": "stderr",
     "output_type": "stream",
     "text": [
      " 88%|████████▊ | 175/200 [17:31<02:19,  5.60s/it]"
     ]
    },
    {
     "name": "stdout",
     "output_type": "stream",
     "text": [
      "epoch is 175, test_loss is 1.751390, test_acc is 0.726051\n",
      "epoch is 176, train_loss is 0.000008, train_acc is 1.000000\n"
     ]
    },
    {
     "name": "stderr",
     "output_type": "stream",
     "text": [
      " 88%|████████▊ | 176/200 [17:36<02:14,  5.59s/it]"
     ]
    },
    {
     "name": "stdout",
     "output_type": "stream",
     "text": [
      "epoch is 176, test_loss is 1.739890, test_acc is 0.729756\n",
      "epoch is 177, train_loss is 0.000008, train_acc is 1.000000\n"
     ]
    },
    {
     "name": "stderr",
     "output_type": "stream",
     "text": [
      " 88%|████████▊ | 177/200 [17:42<02:08,  5.61s/it]"
     ]
    },
    {
     "name": "stdout",
     "output_type": "stream",
     "text": [
      "epoch is 177, test_loss is 1.735860, test_acc is 0.728464\n",
      "epoch is 178, train_loss is 0.000008, train_acc is 1.000000\n"
     ]
    },
    {
     "name": "stderr",
     "output_type": "stream",
     "text": [
      " 89%|████████▉ | 178/200 [17:47<02:03,  5.63s/it]"
     ]
    },
    {
     "name": "stdout",
     "output_type": "stream",
     "text": [
      "epoch is 178, test_loss is 1.742528, test_acc is 0.726350\n",
      "epoch is 179, train_loss is 0.000008, train_acc is 1.000000\n"
     ]
    },
    {
     "name": "stderr",
     "output_type": "stream",
     "text": [
      " 90%|████████▉ | 179/200 [17:53<01:58,  5.62s/it]"
     ]
    },
    {
     "name": "stdout",
     "output_type": "stream",
     "text": [
      "epoch is 179, test_loss is 1.753503, test_acc is 0.732565\n",
      "epoch is 180, train_loss is 0.000008, train_acc is 1.000000\n"
     ]
    },
    {
     "name": "stderr",
     "output_type": "stream",
     "text": [
      " 90%|█████████ | 180/200 [17:59<01:52,  5.61s/it]"
     ]
    },
    {
     "name": "stdout",
     "output_type": "stream",
     "text": [
      "epoch is 180, test_loss is 1.743158, test_acc is 0.728585\n",
      "epoch is 181, train_loss is 0.000009, train_acc is 1.000000\n"
     ]
    },
    {
     "name": "stderr",
     "output_type": "stream",
     "text": [
      " 90%|█████████ | 181/200 [18:04<01:47,  5.66s/it]"
     ]
    },
    {
     "name": "stdout",
     "output_type": "stream",
     "text": [
      "epoch is 181, test_loss is 1.739912, test_acc is 0.729199\n",
      "epoch is 182, train_loss is 0.000008, train_acc is 1.000000\n"
     ]
    },
    {
     "name": "stderr",
     "output_type": "stream",
     "text": [
      " 91%|█████████ | 182/200 [18:10<01:42,  5.68s/it]"
     ]
    },
    {
     "name": "stdout",
     "output_type": "stream",
     "text": [
      "epoch is 182, test_loss is 1.734349, test_acc is 0.730790\n",
      "epoch is 183, train_loss is 0.000008, train_acc is 1.000000\n"
     ]
    },
    {
     "name": "stderr",
     "output_type": "stream",
     "text": [
      " 92%|█████████▏| 183/200 [18:16<01:36,  5.68s/it]"
     ]
    },
    {
     "name": "stdout",
     "output_type": "stream",
     "text": [
      "epoch is 183, test_loss is 1.752020, test_acc is 0.727976\n",
      "epoch is 184, train_loss is 0.000008, train_acc is 1.000000\n"
     ]
    },
    {
     "name": "stderr",
     "output_type": "stream",
     "text": [
      " 92%|█████████▏| 184/200 [18:21<01:30,  5.66s/it]"
     ]
    },
    {
     "name": "stdout",
     "output_type": "stream",
     "text": [
      "epoch is 184, test_loss is 1.736659, test_acc is 0.729653\n",
      "epoch is 185, train_loss is 0.000008, train_acc is 1.000000\n"
     ]
    },
    {
     "name": "stderr",
     "output_type": "stream",
     "text": [
      " 92%|█████████▎| 185/200 [18:27<01:25,  5.67s/it]"
     ]
    },
    {
     "name": "stdout",
     "output_type": "stream",
     "text": [
      "epoch is 185, test_loss is 1.745526, test_acc is 0.727591\n",
      "epoch is 186, train_loss is 0.000008, train_acc is 1.000000\n"
     ]
    },
    {
     "name": "stderr",
     "output_type": "stream",
     "text": [
      " 93%|█████████▎| 186/200 [18:33<01:19,  5.66s/it]"
     ]
    },
    {
     "name": "stdout",
     "output_type": "stream",
     "text": [
      "epoch is 186, test_loss is 1.745506, test_acc is 0.731296\n",
      "epoch is 187, train_loss is 0.000008, train_acc is 1.000000\n"
     ]
    },
    {
     "name": "stderr",
     "output_type": "stream",
     "text": [
      " 94%|█████████▎| 187/200 [18:38<01:13,  5.65s/it]"
     ]
    },
    {
     "name": "stdout",
     "output_type": "stream",
     "text": [
      "epoch is 187, test_loss is 1.747448, test_acc is 0.727487\n",
      "epoch is 188, train_loss is 0.000008, train_acc is 1.000000\n"
     ]
    },
    {
     "name": "stderr",
     "output_type": "stream",
     "text": [
      " 94%|█████████▍| 188/200 [18:44<01:07,  5.64s/it]"
     ]
    },
    {
     "name": "stdout",
     "output_type": "stream",
     "text": [
      "epoch is 188, test_loss is 1.740857, test_acc is 0.729871\n",
      "epoch is 189, train_loss is 0.000008, train_acc is 1.000000\n"
     ]
    },
    {
     "name": "stderr",
     "output_type": "stream",
     "text": [
      " 94%|█████████▍| 189/200 [18:50<01:02,  5.67s/it]"
     ]
    },
    {
     "name": "stdout",
     "output_type": "stream",
     "text": [
      "epoch is 189, test_loss is 1.757815, test_acc is 0.728504\n",
      "epoch is 190, train_loss is 0.000008, train_acc is 1.000000\n"
     ]
    },
    {
     "name": "stderr",
     "output_type": "stream",
     "text": [
      " 95%|█████████▌| 190/200 [18:55<00:56,  5.68s/it]"
     ]
    },
    {
     "name": "stdout",
     "output_type": "stream",
     "text": [
      "epoch is 190, test_loss is 1.744961, test_acc is 0.729751\n",
      "epoch is 191, train_loss is 0.000008, train_acc is 1.000000\n"
     ]
    },
    {
     "name": "stderr",
     "output_type": "stream",
     "text": [
      " 96%|█████████▌| 191/200 [19:01<00:51,  5.68s/it]"
     ]
    },
    {
     "name": "stdout",
     "output_type": "stream",
     "text": [
      "epoch is 191, test_loss is 1.755164, test_acc is 0.726649\n",
      "epoch is 192, train_loss is 0.000008, train_acc is 1.000000\n"
     ]
    },
    {
     "name": "stderr",
     "output_type": "stream",
     "text": [
      " 96%|█████████▌| 192/200 [19:07<00:45,  5.71s/it]"
     ]
    },
    {
     "name": "stdout",
     "output_type": "stream",
     "text": [
      "epoch is 192, test_loss is 1.755339, test_acc is 0.727924\n",
      "epoch is 193, train_loss is 0.000008, train_acc is 1.000000\n"
     ]
    },
    {
     "name": "stderr",
     "output_type": "stream",
     "text": [
      " 96%|█████████▋| 193/200 [19:13<00:40,  5.72s/it]"
     ]
    },
    {
     "name": "stdout",
     "output_type": "stream",
     "text": [
      "epoch is 193, test_loss is 1.754779, test_acc is 0.729584\n",
      "epoch is 194, train_loss is 0.000008, train_acc is 1.000000\n"
     ]
    },
    {
     "name": "stderr",
     "output_type": "stream",
     "text": [
      " 97%|█████████▋| 194/200 [19:18<00:34,  5.75s/it]"
     ]
    },
    {
     "name": "stdout",
     "output_type": "stream",
     "text": [
      "epoch is 194, test_loss is 1.761217, test_acc is 0.726488\n",
      "epoch is 195, train_loss is 0.000008, train_acc is 1.000000\n"
     ]
    },
    {
     "name": "stderr",
     "output_type": "stream",
     "text": [
      " 98%|█████████▊| 195/200 [19:24<00:28,  5.74s/it]"
     ]
    },
    {
     "name": "stdout",
     "output_type": "stream",
     "text": [
      "epoch is 195, test_loss is 1.738506, test_acc is 0.729360\n",
      "epoch is 196, train_loss is 0.000008, train_acc is 1.000000\n"
     ]
    },
    {
     "name": "stderr",
     "output_type": "stream",
     "text": [
      " 98%|█████████▊| 196/200 [19:30<00:22,  5.75s/it]"
     ]
    },
    {
     "name": "stdout",
     "output_type": "stream",
     "text": [
      "epoch is 196, test_loss is 1.752154, test_acc is 0.729113\n",
      "epoch is 197, train_loss is 0.000008, train_acc is 1.000000\n"
     ]
    },
    {
     "name": "stderr",
     "output_type": "stream",
     "text": [
      " 98%|█████████▊| 197/200 [19:36<00:17,  5.73s/it]"
     ]
    },
    {
     "name": "stdout",
     "output_type": "stream",
     "text": [
      "epoch is 197, test_loss is 1.749147, test_acc is 0.728918\n",
      "epoch is 198, train_loss is 0.000008, train_acc is 1.000000\n"
     ]
    },
    {
     "name": "stderr",
     "output_type": "stream",
     "text": [
      " 99%|█████████▉| 198/200 [19:41<00:11,  5.71s/it]"
     ]
    },
    {
     "name": "stdout",
     "output_type": "stream",
     "text": [
      "epoch is 198, test_loss is 1.747480, test_acc is 0.728550\n",
      "epoch is 199, train_loss is 0.000007, train_acc is 1.000000\n"
     ]
    },
    {
     "name": "stderr",
     "output_type": "stream",
     "text": [
      "100%|█████████▉| 199/200 [19:47<00:05,  5.70s/it]"
     ]
    },
    {
     "name": "stdout",
     "output_type": "stream",
     "text": [
      "epoch is 199, test_loss is 1.737781, test_acc is 0.730457\n",
      "epoch is 200, train_loss is 0.000008, train_acc is 1.000000\n"
     ]
    },
    {
     "name": "stderr",
     "output_type": "stream",
     "text": [
      "100%|██████████| 200/200 [19:53<00:00,  5.97s/it]"
     ]
    },
    {
     "name": "stdout",
     "output_type": "stream",
     "text": [
      "epoch is 200, test_loss is 1.757130, test_acc is 0.727987\n"
     ]
    },
    {
     "name": "stderr",
     "output_type": "stream",
     "text": [
      "\n"
     ]
    }
   ],
   "source": [
    "#default para defalut opt\n",
    "model = train(optimizer='ADAM', learning_rate=1e-4, max_epochs=200, eval_freq=500, ada_opt=True, save_para=True)"
   ]
  },
  {
   "cell_type": "code",
   "execution_count": 7,
   "id": "941d1d61-0044-4d50-ba74-3e97768bf066",
   "metadata": {},
   "outputs": [
    {
     "name": "stdout",
     "output_type": "stream",
     "text": [
      "start training CNN...\n",
      "cuda:0\n"
     ]
    },
    {
     "name": "stderr",
     "output_type": "stream",
     "text": [
      "  0%|          | 0/200 [00:00<?, ?it/s]"
     ]
    },
    {
     "name": "stdout",
     "output_type": "stream",
     "text": [
      "epoch is 1, train_loss is 2.726918, train_acc is 0.136061\n"
     ]
    },
    {
     "name": "stderr",
     "output_type": "stream",
     "text": [
      "  0%|          | 1/200 [00:05<18:52,  5.69s/it]"
     ]
    },
    {
     "name": "stdout",
     "output_type": "stream",
     "text": [
      "epoch is 1, test_loss is 2.442461, test_acc is 0.165338\n",
      "epoch is 2, train_loss is 2.291968, train_acc is 0.200382\n"
     ]
    },
    {
     "name": "stderr",
     "output_type": "stream",
     "text": [
      "  1%|          | 2/200 [00:11<18:36,  5.64s/it]"
     ]
    },
    {
     "name": "stdout",
     "output_type": "stream",
     "text": [
      "epoch is 2, test_loss is 2.174068, test_acc is 0.219382\n",
      "epoch is 3, train_loss is 2.102509, train_acc is 0.249503\n"
     ]
    },
    {
     "name": "stderr",
     "output_type": "stream",
     "text": [
      "  2%|▏         | 3/200 [00:17<18:38,  5.68s/it]"
     ]
    },
    {
     "name": "stdout",
     "output_type": "stream",
     "text": [
      "epoch is 3, test_loss is 2.051836, test_acc is 0.263207\n",
      "epoch is 4, train_loss is 2.005623, train_acc is 0.281939\n"
     ]
    },
    {
     "name": "stderr",
     "output_type": "stream",
     "text": [
      "  2%|▏         | 4/200 [00:22<18:32,  5.68s/it]"
     ]
    },
    {
     "name": "stdout",
     "output_type": "stream",
     "text": [
      "epoch is 4, test_loss is 1.976550, test_acc is 0.296105\n",
      "epoch is 5, train_loss is 1.938089, train_acc is 0.309022\n"
     ]
    },
    {
     "name": "stderr",
     "output_type": "stream",
     "text": [
      "  2%|▎         | 5/200 [00:28<18:28,  5.68s/it]"
     ]
    },
    {
     "name": "stdout",
     "output_type": "stream",
     "text": [
      "epoch is 5, test_loss is 1.925950, test_acc is 0.308594\n",
      "epoch is 6, train_loss is 1.885641, train_acc is 0.326768\n"
     ]
    },
    {
     "name": "stderr",
     "output_type": "stream",
     "text": [
      "  3%|▎         | 6/200 [00:34<18:19,  5.67s/it]"
     ]
    },
    {
     "name": "stdout",
     "output_type": "stream",
     "text": [
      "epoch is 6, test_loss is 1.881413, test_acc is 0.325609\n",
      "epoch is 7, train_loss is 1.842305, train_acc is 0.342650\n"
     ]
    },
    {
     "name": "stderr",
     "output_type": "stream",
     "text": [
      "  4%|▎         | 7/200 [00:39<18:07,  5.64s/it]"
     ]
    },
    {
     "name": "stdout",
     "output_type": "stream",
     "text": [
      "epoch is 7, test_loss is 1.846485, test_acc is 0.340211\n",
      "epoch is 8, train_loss is 1.804655, train_acc is 0.357377\n"
     ]
    },
    {
     "name": "stderr",
     "output_type": "stream",
     "text": [
      "  4%|▍         | 8/200 [00:45<17:57,  5.61s/it]"
     ]
    },
    {
     "name": "stdout",
     "output_type": "stream",
     "text": [
      "epoch is 8, test_loss is 1.810671, test_acc is 0.353091\n",
      "epoch is 9, train_loss is 1.770851, train_acc is 0.370619\n"
     ]
    },
    {
     "name": "stderr",
     "output_type": "stream",
     "text": [
      "  4%|▍         | 9/200 [00:50<17:51,  5.61s/it]"
     ]
    },
    {
     "name": "stdout",
     "output_type": "stream",
     "text": [
      "epoch is 9, test_loss is 1.784378, test_acc is 0.363586\n",
      "epoch is 10, train_loss is 1.739946, train_acc is 0.381788\n"
     ]
    },
    {
     "name": "stderr",
     "output_type": "stream",
     "text": [
      "  5%|▌         | 10/200 [00:56<17:44,  5.60s/it]"
     ]
    },
    {
     "name": "stdout",
     "output_type": "stream",
     "text": [
      "epoch is 10, test_loss is 1.757254, test_acc is 0.376723\n",
      "epoch is 11, train_loss is 1.712225, train_acc is 0.394539\n"
     ]
    },
    {
     "name": "stderr",
     "output_type": "stream",
     "text": [
      "  6%|▌         | 11/200 [01:01<17:41,  5.62s/it]"
     ]
    },
    {
     "name": "stdout",
     "output_type": "stream",
     "text": [
      "epoch is 11, test_loss is 1.738848, test_acc is 0.379395\n",
      "epoch is 12, train_loss is 1.686770, train_acc is 0.402123\n"
     ]
    },
    {
     "name": "stderr",
     "output_type": "stream",
     "text": [
      "  6%|▌         | 12/200 [01:07<17:38,  5.63s/it]"
     ]
    },
    {
     "name": "stdout",
     "output_type": "stream",
     "text": [
      "epoch is 12, test_loss is 1.716246, test_acc is 0.387299\n",
      "epoch is 13, train_loss is 1.664424, train_acc is 0.410703\n"
     ]
    },
    {
     "name": "stderr",
     "output_type": "stream",
     "text": [
      "  6%|▋         | 13/200 [01:13<17:37,  5.65s/it]"
     ]
    },
    {
     "name": "stdout",
     "output_type": "stream",
     "text": [
      "epoch is 13, test_loss is 1.698638, test_acc is 0.394715\n",
      "epoch is 14, train_loss is 1.642957, train_acc is 0.418305\n"
     ]
    },
    {
     "name": "stderr",
     "output_type": "stream",
     "text": [
      "  7%|▋         | 14/200 [01:19<17:37,  5.69s/it]"
     ]
    },
    {
     "name": "stdout",
     "output_type": "stream",
     "text": [
      "epoch is 14, test_loss is 1.683822, test_acc is 0.400126\n",
      "epoch is 15, train_loss is 1.622505, train_acc is 0.426816\n"
     ]
    },
    {
     "name": "stderr",
     "output_type": "stream",
     "text": [
      "  8%|▊         | 15/200 [01:24<17:28,  5.67s/it]"
     ]
    },
    {
     "name": "stdout",
     "output_type": "stream",
     "text": [
      "epoch is 15, test_loss is 1.664722, test_acc is 0.405739\n",
      "epoch is 16, train_loss is 1.603545, train_acc is 0.434291\n"
     ]
    },
    {
     "name": "stderr",
     "output_type": "stream",
     "text": [
      "  8%|▊         | 16/200 [01:30<17:20,  5.65s/it]"
     ]
    },
    {
     "name": "stdout",
     "output_type": "stream",
     "text": [
      "epoch is 16, test_loss is 1.649324, test_acc is 0.410736\n",
      "epoch is 17, train_loss is 1.586660, train_acc is 0.440036\n"
     ]
    },
    {
     "name": "stderr",
     "output_type": "stream",
     "text": [
      "  8%|▊         | 17/200 [01:36<17:17,  5.67s/it]"
     ]
    },
    {
     "name": "stdout",
     "output_type": "stream",
     "text": [
      "epoch is 17, test_loss is 1.637593, test_acc is 0.421301\n",
      "epoch is 18, train_loss is 1.570186, train_acc is 0.447342\n"
     ]
    },
    {
     "name": "stderr",
     "output_type": "stream",
     "text": [
      "  9%|▉         | 18/200 [01:41<17:19,  5.71s/it]"
     ]
    },
    {
     "name": "stdout",
     "output_type": "stream",
     "text": [
      "epoch is 18, test_loss is 1.624797, test_acc is 0.421295\n",
      "epoch is 19, train_loss is 1.553226, train_acc is 0.453666\n"
     ]
    },
    {
     "name": "stderr",
     "output_type": "stream",
     "text": [
      " 10%|▉         | 19/200 [01:47<17:24,  5.77s/it]"
     ]
    },
    {
     "name": "stdout",
     "output_type": "stream",
     "text": [
      "epoch is 19, test_loss is 1.608946, test_acc is 0.425661\n",
      "epoch is 20, train_loss is 1.539342, train_acc is 0.456889\n"
     ]
    },
    {
     "name": "stderr",
     "output_type": "stream",
     "text": [
      " 10%|█         | 20/200 [01:53<17:14,  5.75s/it]"
     ]
    },
    {
     "name": "stdout",
     "output_type": "stream",
     "text": [
      "epoch is 20, test_loss is 1.598792, test_acc is 0.432531\n",
      "epoch is 21, train_loss is 1.524419, train_acc is 0.463370\n"
     ]
    },
    {
     "name": "stderr",
     "output_type": "stream",
     "text": [
      " 10%|█         | 21/200 [01:59<17:02,  5.71s/it]"
     ]
    },
    {
     "name": "stdout",
     "output_type": "stream",
     "text": [
      "epoch is 21, test_loss is 1.588297, test_acc is 0.434375\n",
      "epoch is 22, train_loss is 1.511418, train_acc is 0.467398\n"
     ]
    },
    {
     "name": "stderr",
     "output_type": "stream",
     "text": [
      " 11%|█         | 22/200 [02:04<16:52,  5.69s/it]"
     ]
    },
    {
     "name": "stdout",
     "output_type": "stream",
     "text": [
      "epoch is 22, test_loss is 1.575185, test_acc is 0.439332\n",
      "epoch is 23, train_loss is 1.497567, train_acc is 0.472763\n"
     ]
    },
    {
     "name": "stderr",
     "output_type": "stream",
     "text": [
      " 12%|█▏        | 23/200 [02:10<16:44,  5.68s/it]"
     ]
    },
    {
     "name": "stdout",
     "output_type": "stream",
     "text": [
      "epoch is 23, test_loss is 1.568048, test_acc is 0.442923\n",
      "epoch is 24, train_loss is 1.484315, train_acc is 0.478196\n"
     ]
    },
    {
     "name": "stderr",
     "output_type": "stream",
     "text": [
      " 12%|█▏        | 24/200 [02:16<16:42,  5.69s/it]"
     ]
    },
    {
     "name": "stdout",
     "output_type": "stream",
     "text": [
      "epoch is 24, test_loss is 1.556168, test_acc is 0.449535\n",
      "epoch is 25, train_loss is 1.473069, train_acc is 0.483060\n"
     ]
    },
    {
     "name": "stderr",
     "output_type": "stream",
     "text": [
      " 12%|█▎        | 25/200 [02:22<17:34,  6.02s/it]"
     ]
    },
    {
     "name": "stdout",
     "output_type": "stream",
     "text": [
      "epoch is 25, test_loss is 1.546513, test_acc is 0.451000\n",
      "epoch is 26, train_loss is 1.461896, train_acc is 0.485278\n"
     ]
    },
    {
     "name": "stderr",
     "output_type": "stream",
     "text": [
      " 13%|█▎        | 26/200 [02:30<18:44,  6.46s/it]"
     ]
    },
    {
     "name": "stdout",
     "output_type": "stream",
     "text": [
      "epoch is 26, test_loss is 1.538243, test_acc is 0.457474\n",
      "epoch is 27, train_loss is 1.450436, train_acc is 0.489885\n"
     ]
    },
    {
     "name": "stderr",
     "output_type": "stream",
     "text": [
      " 14%|█▎        | 27/200 [02:37<19:30,  6.77s/it]"
     ]
    },
    {
     "name": "stdout",
     "output_type": "stream",
     "text": [
      "epoch is 27, test_loss is 1.531052, test_acc is 0.454917\n",
      "epoch is 28, train_loss is 1.440477, train_acc is 0.493439\n"
     ]
    },
    {
     "name": "stderr",
     "output_type": "stream",
     "text": [
      " 14%|█▍        | 28/200 [02:45<19:45,  6.89s/it]"
     ]
    },
    {
     "name": "stdout",
     "output_type": "stream",
     "text": [
      "epoch is 28, test_loss is 1.526479, test_acc is 0.460983\n",
      "epoch is 29, train_loss is 1.428717, train_acc is 0.499336\n"
     ]
    },
    {
     "name": "stderr",
     "output_type": "stream",
     "text": [
      " 14%|█▍        | 29/200 [02:52<20:20,  7.14s/it]"
     ]
    },
    {
     "name": "stdout",
     "output_type": "stream",
     "text": [
      "epoch is 29, test_loss is 1.513673, test_acc is 0.466406\n",
      "epoch is 30, train_loss is 1.418942, train_acc is 0.501909\n"
     ]
    },
    {
     "name": "stderr",
     "output_type": "stream",
     "text": [
      " 15%|█▌        | 30/200 [02:59<19:58,  7.05s/it]"
     ]
    },
    {
     "name": "stdout",
     "output_type": "stream",
     "text": [
      "epoch is 30, test_loss is 1.508025, test_acc is 0.464040\n",
      "epoch is 31, train_loss is 1.409201, train_acc is 0.506176\n"
     ]
    },
    {
     "name": "stderr",
     "output_type": "stream",
     "text": [
      " 16%|█▌        | 31/200 [03:05<19:11,  6.81s/it]"
     ]
    },
    {
     "name": "stdout",
     "output_type": "stream",
     "text": [
      "epoch is 31, test_loss is 1.500955, test_acc is 0.466895\n",
      "epoch is 32, train_loss is 1.400304, train_acc is 0.509077\n"
     ]
    },
    {
     "name": "stderr",
     "output_type": "stream",
     "text": [
      " 16%|█▌        | 32/200 [03:11<18:07,  6.47s/it]"
     ]
    },
    {
     "name": "stdout",
     "output_type": "stream",
     "text": [
      "epoch is 32, test_loss is 1.492589, test_acc is 0.468141\n",
      "epoch is 33, train_loss is 1.391562, train_acc is 0.513458\n"
     ]
    },
    {
     "name": "stderr",
     "output_type": "stream",
     "text": [
      " 16%|█▋        | 33/200 [03:17<17:17,  6.21s/it]"
     ]
    },
    {
     "name": "stdout",
     "output_type": "stream",
     "text": [
      "epoch is 33, test_loss is 1.486131, test_acc is 0.470703\n",
      "epoch is 34, train_loss is 1.382330, train_acc is 0.516144\n"
     ]
    },
    {
     "name": "stderr",
     "output_type": "stream",
     "text": [
      " 17%|█▋        | 34/200 [03:22<16:42,  6.04s/it]"
     ]
    },
    {
     "name": "stdout",
     "output_type": "stream",
     "text": [
      "epoch is 34, test_loss is 1.479610, test_acc is 0.470353\n",
      "epoch is 35, train_loss is 1.373018, train_acc is 0.520317\n"
     ]
    },
    {
     "name": "stderr",
     "output_type": "stream",
     "text": [
      " 18%|█▊        | 35/200 [03:28<16:19,  5.93s/it]"
     ]
    },
    {
     "name": "stdout",
     "output_type": "stream",
     "text": [
      "epoch is 35, test_loss is 1.474624, test_acc is 0.478625\n",
      "epoch is 36, train_loss is 1.364888, train_acc is 0.522951\n"
     ]
    },
    {
     "name": "stderr",
     "output_type": "stream",
     "text": [
      " 18%|█▊        | 36/200 [03:34<15:57,  5.84s/it]"
     ]
    },
    {
     "name": "stdout",
     "output_type": "stream",
     "text": [
      "epoch is 36, test_loss is 1.465600, test_acc is 0.481847\n",
      "epoch is 37, train_loss is 1.355556, train_acc is 0.526189\n"
     ]
    },
    {
     "name": "stderr",
     "output_type": "stream",
     "text": [
      " 18%|█▊        | 37/200 [03:39<15:44,  5.79s/it]"
     ]
    },
    {
     "name": "stdout",
     "output_type": "stream",
     "text": [
      "epoch is 37, test_loss is 1.462648, test_acc is 0.482543\n",
      "epoch is 38, train_loss is 1.347500, train_acc is 0.529608\n"
     ]
    },
    {
     "name": "stderr",
     "output_type": "stream",
     "text": [
      " 19%|█▉        | 38/200 [03:45<15:25,  5.72s/it]"
     ]
    },
    {
     "name": "stdout",
     "output_type": "stream",
     "text": [
      "epoch is 38, test_loss is 1.452831, test_acc is 0.483370\n",
      "epoch is 39, train_loss is 1.339964, train_acc is 0.532403\n"
     ]
    },
    {
     "name": "stderr",
     "output_type": "stream",
     "text": [
      " 20%|█▉        | 39/200 [03:50<15:16,  5.70s/it]"
     ]
    },
    {
     "name": "stdout",
     "output_type": "stream",
     "text": [
      "epoch is 39, test_loss is 1.443896, test_acc is 0.489218\n",
      "epoch is 40, train_loss is 1.332378, train_acc is 0.534682\n"
     ]
    },
    {
     "name": "stderr",
     "output_type": "stream",
     "text": [
      " 20%|██        | 40/200 [03:56<15:10,  5.69s/it]"
     ]
    },
    {
     "name": "stdout",
     "output_type": "stream",
     "text": [
      "epoch is 40, test_loss is 1.441124, test_acc is 0.491406\n",
      "epoch is 41, train_loss is 1.324862, train_acc is 0.538413\n"
     ]
    },
    {
     "name": "stderr",
     "output_type": "stream",
     "text": [
      " 20%|██        | 41/200 [04:02<15:00,  5.66s/it]"
     ]
    },
    {
     "name": "stdout",
     "output_type": "stream",
     "text": [
      "epoch is 41, test_loss is 1.440240, test_acc is 0.489855\n",
      "epoch is 42, train_loss is 1.316690, train_acc is 0.540952\n"
     ]
    },
    {
     "name": "stderr",
     "output_type": "stream",
     "text": [
      " 21%|██        | 42/200 [04:07<14:51,  5.64s/it]"
     ]
    },
    {
     "name": "stdout",
     "output_type": "stream",
     "text": [
      "epoch is 42, test_loss is 1.434112, test_acc is 0.490499\n",
      "epoch is 43, train_loss is 1.309170, train_acc is 0.543898\n"
     ]
    },
    {
     "name": "stderr",
     "output_type": "stream",
     "text": [
      " 22%|██▏       | 43/200 [04:13<14:44,  5.64s/it]"
     ]
    },
    {
     "name": "stdout",
     "output_type": "stream",
     "text": [
      "epoch is 43, test_loss is 1.427722, test_acc is 0.496324\n",
      "epoch is 44, train_loss is 1.302456, train_acc is 0.547518\n"
     ]
    },
    {
     "name": "stderr",
     "output_type": "stream",
     "text": [
      " 22%|██▏       | 44/200 [04:19<14:38,  5.63s/it]"
     ]
    },
    {
     "name": "stdout",
     "output_type": "stream",
     "text": [
      "epoch is 44, test_loss is 1.423099, test_acc is 0.492521\n",
      "epoch is 45, train_loss is 1.294869, train_acc is 0.549995\n"
     ]
    },
    {
     "name": "stderr",
     "output_type": "stream",
     "text": [
      " 22%|██▎       | 45/200 [04:24<14:32,  5.63s/it]"
     ]
    },
    {
     "name": "stdout",
     "output_type": "stream",
     "text": [
      "epoch is 45, test_loss is 1.416785, test_acc is 0.496818\n",
      "epoch is 46, train_loss is 1.288605, train_acc is 0.550399\n"
     ]
    },
    {
     "name": "stderr",
     "output_type": "stream",
     "text": [
      " 23%|██▎       | 46/200 [04:30<14:27,  5.63s/it]"
     ]
    },
    {
     "name": "stdout",
     "output_type": "stream",
     "text": [
      "epoch is 46, test_loss is 1.415195, test_acc is 0.498529\n",
      "epoch is 47, train_loss is 1.281756, train_acc is 0.553982\n"
     ]
    },
    {
     "name": "stderr",
     "output_type": "stream",
     "text": [
      " 24%|██▎       | 47/200 [04:35<14:19,  5.62s/it]"
     ]
    },
    {
     "name": "stdout",
     "output_type": "stream",
     "text": [
      "epoch is 47, test_loss is 1.405448, test_acc is 0.502493\n",
      "epoch is 48, train_loss is 1.274514, train_acc is 0.558346\n"
     ]
    },
    {
     "name": "stderr",
     "output_type": "stream",
     "text": [
      " 24%|██▍       | 48/200 [04:41<14:21,  5.67s/it]"
     ]
    },
    {
     "name": "stdout",
     "output_type": "stream",
     "text": [
      "epoch is 48, test_loss is 1.402540, test_acc is 0.503366\n",
      "epoch is 49, train_loss is 1.268244, train_acc is 0.560415\n"
     ]
    },
    {
     "name": "stderr",
     "output_type": "stream",
     "text": [
      " 24%|██▍       | 49/200 [04:47<14:14,  5.66s/it]"
     ]
    },
    {
     "name": "stdout",
     "output_type": "stream",
     "text": [
      "epoch is 49, test_loss is 1.398250, test_acc is 0.501086\n",
      "epoch is 50, train_loss is 1.261461, train_acc is 0.563318\n"
     ]
    },
    {
     "name": "stderr",
     "output_type": "stream",
     "text": [
      " 25%|██▌       | 50/200 [04:52<14:07,  5.65s/it]"
     ]
    },
    {
     "name": "stdout",
     "output_type": "stream",
     "text": [
      "epoch is 50, test_loss is 1.396368, test_acc is 0.502321\n",
      "epoch is 51, train_loss is 1.255510, train_acc is 0.564834\n"
     ]
    },
    {
     "name": "stderr",
     "output_type": "stream",
     "text": [
      " 26%|██▌       | 51/200 [04:58<14:03,  5.66s/it]"
     ]
    },
    {
     "name": "stdout",
     "output_type": "stream",
     "text": [
      "epoch is 51, test_loss is 1.385222, test_acc is 0.506371\n",
      "epoch is 52, train_loss is 1.249726, train_acc is 0.566308\n"
     ]
    },
    {
     "name": "stderr",
     "output_type": "stream",
     "text": [
      " 26%|██▌       | 52/200 [05:04<13:57,  5.66s/it]"
     ]
    },
    {
     "name": "stdout",
     "output_type": "stream",
     "text": [
      "epoch is 52, test_loss is 1.382884, test_acc is 0.510805\n",
      "epoch is 53, train_loss is 1.242825, train_acc is 0.570585\n"
     ]
    },
    {
     "name": "stderr",
     "output_type": "stream",
     "text": [
      " 26%|██▋       | 53/200 [05:09<13:51,  5.65s/it]"
     ]
    },
    {
     "name": "stdout",
     "output_type": "stream",
     "text": [
      "epoch is 53, test_loss is 1.381146, test_acc is 0.511253\n",
      "epoch is 54, train_loss is 1.237247, train_acc is 0.570950\n"
     ]
    },
    {
     "name": "stderr",
     "output_type": "stream",
     "text": [
      " 27%|██▋       | 54/200 [05:15<13:46,  5.66s/it]"
     ]
    },
    {
     "name": "stdout",
     "output_type": "stream",
     "text": [
      "epoch is 54, test_loss is 1.374002, test_acc is 0.510064\n",
      "epoch is 55, train_loss is 1.231256, train_acc is 0.573096\n"
     ]
    },
    {
     "name": "stderr",
     "output_type": "stream",
     "text": [
      " 28%|██▊       | 55/200 [05:21<13:40,  5.66s/it]"
     ]
    },
    {
     "name": "stdout",
     "output_type": "stream",
     "text": [
      "epoch is 55, test_loss is 1.375449, test_acc is 0.513293\n",
      "epoch is 56, train_loss is 1.225573, train_acc is 0.576936\n"
     ]
    },
    {
     "name": "stderr",
     "output_type": "stream",
     "text": [
      " 28%|██▊       | 56/200 [05:26<13:34,  5.65s/it]"
     ]
    },
    {
     "name": "stdout",
     "output_type": "stream",
     "text": [
      "epoch is 56, test_loss is 1.371688, test_acc is 0.514361\n",
      "epoch is 57, train_loss is 1.219270, train_acc is 0.578562\n"
     ]
    },
    {
     "name": "stderr",
     "output_type": "stream",
     "text": [
      " 28%|██▊       | 57/200 [05:32<13:29,  5.66s/it]"
     ]
    },
    {
     "name": "stdout",
     "output_type": "stream",
     "text": [
      "epoch is 57, test_loss is 1.368633, test_acc is 0.513494\n",
      "epoch is 58, train_loss is 1.214212, train_acc is 0.581274\n"
     ]
    },
    {
     "name": "stderr",
     "output_type": "stream",
     "text": [
      " 29%|██▉       | 58/200 [05:38<13:21,  5.64s/it]"
     ]
    },
    {
     "name": "stdout",
     "output_type": "stream",
     "text": [
      "epoch is 58, test_loss is 1.362618, test_acc is 0.518698\n",
      "epoch is 59, train_loss is 1.208644, train_acc is 0.583780\n"
     ]
    },
    {
     "name": "stderr",
     "output_type": "stream",
     "text": [
      " 30%|██▉       | 59/200 [05:43<13:14,  5.63s/it]"
     ]
    },
    {
     "name": "stdout",
     "output_type": "stream",
     "text": [
      "epoch is 59, test_loss is 1.360173, test_acc is 0.518905\n",
      "epoch is 60, train_loss is 1.204370, train_acc is 0.583266\n"
     ]
    },
    {
     "name": "stderr",
     "output_type": "stream",
     "text": [
      " 30%|███       | 60/200 [05:49<13:05,  5.61s/it]"
     ]
    },
    {
     "name": "stdout",
     "output_type": "stream",
     "text": [
      "epoch is 60, test_loss is 1.354189, test_acc is 0.520043\n",
      "epoch is 61, train_loss is 1.198522, train_acc is 0.585613\n"
     ]
    },
    {
     "name": "stderr",
     "output_type": "stream",
     "text": [
      " 30%|███       | 61/200 [05:55<13:00,  5.61s/it]"
     ]
    },
    {
     "name": "stdout",
     "output_type": "stream",
     "text": [
      "epoch is 61, test_loss is 1.351298, test_acc is 0.521375\n",
      "epoch is 62, train_loss is 1.193019, train_acc is 0.588424\n"
     ]
    },
    {
     "name": "stderr",
     "output_type": "stream",
     "text": [
      " 31%|███       | 62/200 [06:00<12:56,  5.63s/it]"
     ]
    },
    {
     "name": "stdout",
     "output_type": "stream",
     "text": [
      "epoch is 62, test_loss is 1.347554, test_acc is 0.524224\n",
      "epoch is 63, train_loss is 1.186452, train_acc is 0.589975\n"
     ]
    },
    {
     "name": "stderr",
     "output_type": "stream",
     "text": [
      " 32%|███▏      | 63/200 [06:06<12:54,  5.65s/it]"
     ]
    },
    {
     "name": "stdout",
     "output_type": "stream",
     "text": [
      "epoch is 63, test_loss is 1.344135, test_acc is 0.525770\n",
      "epoch is 64, train_loss is 1.182495, train_acc is 0.592662\n"
     ]
    },
    {
     "name": "stderr",
     "output_type": "stream",
     "text": [
      " 32%|███▏      | 64/200 [06:11<12:46,  5.64s/it]"
     ]
    },
    {
     "name": "stdout",
     "output_type": "stream",
     "text": [
      "epoch is 64, test_loss is 1.341243, test_acc is 0.523346\n",
      "epoch is 65, train_loss is 1.177209, train_acc is 0.593638\n"
     ]
    },
    {
     "name": "stderr",
     "output_type": "stream",
     "text": [
      " 32%|███▎      | 65/200 [06:17<12:41,  5.64s/it]"
     ]
    },
    {
     "name": "stdout",
     "output_type": "stream",
     "text": [
      "epoch is 65, test_loss is 1.340366, test_acc is 0.524414\n",
      "epoch is 66, train_loss is 1.172859, train_acc is 0.596306\n"
     ]
    },
    {
     "name": "stderr",
     "output_type": "stream",
     "text": [
      " 33%|███▎      | 66/200 [06:23<12:35,  5.64s/it]"
     ]
    },
    {
     "name": "stdout",
     "output_type": "stream",
     "text": [
      "epoch is 66, test_loss is 1.336512, test_acc is 0.527166\n",
      "epoch is 67, train_loss is 1.166933, train_acc is 0.598458\n"
     ]
    },
    {
     "name": "stderr",
     "output_type": "stream",
     "text": [
      " 34%|███▎      | 67/200 [06:28<12:32,  5.66s/it]"
     ]
    },
    {
     "name": "stdout",
     "output_type": "stream",
     "text": [
      "epoch is 67, test_loss is 1.331601, test_acc is 0.526413\n",
      "epoch is 68, train_loss is 1.161477, train_acc is 0.600953\n"
     ]
    },
    {
     "name": "stderr",
     "output_type": "stream",
     "text": [
      " 34%|███▍      | 68/200 [06:34<12:28,  5.67s/it]"
     ]
    },
    {
     "name": "stdout",
     "output_type": "stream",
     "text": [
      "epoch is 68, test_loss is 1.327075, test_acc is 0.530268\n",
      "epoch is 69, train_loss is 1.156360, train_acc is 0.602289\n"
     ]
    },
    {
     "name": "stderr",
     "output_type": "stream",
     "text": [
      " 34%|███▍      | 69/200 [06:40<12:23,  5.67s/it]"
     ]
    },
    {
     "name": "stdout",
     "output_type": "stream",
     "text": [
      "epoch is 69, test_loss is 1.323377, test_acc is 0.531520\n",
      "epoch is 70, train_loss is 1.151955, train_acc is 0.603791\n"
     ]
    },
    {
     "name": "stderr",
     "output_type": "stream",
     "text": [
      " 35%|███▌      | 70/200 [06:45<12:14,  5.65s/it]"
     ]
    },
    {
     "name": "stdout",
     "output_type": "stream",
     "text": [
      "epoch is 70, test_loss is 1.323240, test_acc is 0.530411\n",
      "epoch is 71, train_loss is 1.147613, train_acc is 0.606062\n"
     ]
    },
    {
     "name": "stderr",
     "output_type": "stream",
     "text": [
      " 36%|███▌      | 71/200 [06:51<12:09,  5.66s/it]"
     ]
    },
    {
     "name": "stdout",
     "output_type": "stream",
     "text": [
      "epoch is 71, test_loss is 1.320895, test_acc is 0.531543\n",
      "epoch is 72, train_loss is 1.142659, train_acc is 0.607670\n"
     ]
    },
    {
     "name": "stderr",
     "output_type": "stream",
     "text": [
      " 36%|███▌      | 72/200 [06:57<12:03,  5.66s/it]"
     ]
    },
    {
     "name": "stdout",
     "output_type": "stream",
     "text": [
      "epoch is 72, test_loss is 1.317021, test_acc is 0.534180\n",
      "epoch is 73, train_loss is 1.138209, train_acc is 0.609673\n"
     ]
    },
    {
     "name": "stderr",
     "output_type": "stream",
     "text": [
      " 36%|███▋      | 73/200 [07:02<11:57,  5.65s/it]"
     ]
    },
    {
     "name": "stdout",
     "output_type": "stream",
     "text": [
      "epoch is 73, test_loss is 1.312247, test_acc is 0.532669\n",
      "epoch is 74, train_loss is 1.133461, train_acc is 0.611262\n"
     ]
    },
    {
     "name": "stderr",
     "output_type": "stream",
     "text": [
      " 37%|███▋      | 74/200 [07:08<11:54,  5.67s/it]"
     ]
    },
    {
     "name": "stdout",
     "output_type": "stream",
     "text": [
      "epoch is 74, test_loss is 1.310014, test_acc is 0.531428\n",
      "epoch is 75, train_loss is 1.128858, train_acc is 0.613765\n"
     ]
    },
    {
     "name": "stderr",
     "output_type": "stream",
     "text": [
      " 38%|███▊      | 75/200 [07:14<11:48,  5.67s/it]"
     ]
    },
    {
     "name": "stdout",
     "output_type": "stream",
     "text": [
      "epoch is 75, test_loss is 1.308387, test_acc is 0.531888\n",
      "epoch is 76, train_loss is 1.124922, train_acc is 0.614235\n"
     ]
    },
    {
     "name": "stderr",
     "output_type": "stream",
     "text": [
      " 38%|███▊      | 76/200 [07:20<11:46,  5.70s/it]"
     ]
    },
    {
     "name": "stdout",
     "output_type": "stream",
     "text": [
      "epoch is 76, test_loss is 1.305799, test_acc is 0.535409\n",
      "epoch is 77, train_loss is 1.120295, train_acc is 0.615746\n"
     ]
    },
    {
     "name": "stderr",
     "output_type": "stream",
     "text": [
      " 38%|███▊      | 77/200 [07:25<11:41,  5.70s/it]"
     ]
    },
    {
     "name": "stdout",
     "output_type": "stream",
     "text": [
      "epoch is 77, test_loss is 1.303494, test_acc is 0.536455\n",
      "epoch is 78, train_loss is 1.115235, train_acc is 0.619061\n"
     ]
    },
    {
     "name": "stderr",
     "output_type": "stream",
     "text": [
      " 39%|███▉      | 78/200 [07:31<11:31,  5.67s/it]"
     ]
    },
    {
     "name": "stdout",
     "output_type": "stream",
     "text": [
      "epoch is 78, test_loss is 1.296384, test_acc is 0.540493\n",
      "epoch is 79, train_loss is 1.111450, train_acc is 0.619589\n"
     ]
    },
    {
     "name": "stderr",
     "output_type": "stream",
     "text": [
      " 40%|███▉      | 79/200 [07:36<11:23,  5.65s/it]"
     ]
    },
    {
     "name": "stdout",
     "output_type": "stream",
     "text": [
      "epoch is 79, test_loss is 1.296402, test_acc is 0.540344\n",
      "epoch is 80, train_loss is 1.106684, train_acc is 0.621221\n"
     ]
    },
    {
     "name": "stderr",
     "output_type": "stream",
     "text": [
      " 40%|████      | 80/200 [07:42<11:14,  5.62s/it]"
     ]
    },
    {
     "name": "stdout",
     "output_type": "stream",
     "text": [
      "epoch is 80, test_loss is 1.292945, test_acc is 0.540539\n",
      "epoch is 81, train_loss is 1.102773, train_acc is 0.622766\n"
     ]
    },
    {
     "name": "stderr",
     "output_type": "stream",
     "text": [
      " 40%|████      | 81/200 [07:48<11:10,  5.64s/it]"
     ]
    },
    {
     "name": "stdout",
     "output_type": "stream",
     "text": [
      "epoch is 81, test_loss is 1.295201, test_acc is 0.539746\n",
      "epoch is 82, train_loss is 1.102598, train_acc is 0.624281\n"
     ]
    },
    {
     "name": "stderr",
     "output_type": "stream",
     "text": [
      " 41%|████      | 82/200 [07:53<11:05,  5.64s/it]"
     ]
    },
    {
     "name": "stdout",
     "output_type": "stream",
     "text": [
      "epoch is 82, test_loss is 1.294274, test_acc is 0.542371\n",
      "epoch is 83, train_loss is 1.101229, train_acc is 0.623780\n"
     ]
    },
    {
     "name": "stderr",
     "output_type": "stream",
     "text": [
      " 42%|████▏     | 83/200 [07:59<10:58,  5.63s/it]"
     ]
    },
    {
     "name": "stdout",
     "output_type": "stream",
     "text": [
      "epoch is 83, test_loss is 1.294611, test_acc is 0.542452\n",
      "epoch is 84, train_loss is 1.100758, train_acc is 0.625044\n"
     ]
    },
    {
     "name": "stderr",
     "output_type": "stream",
     "text": [
      " 42%|████▏     | 84/200 [08:05<10:51,  5.62s/it]"
     ]
    },
    {
     "name": "stdout",
     "output_type": "stream",
     "text": [
      "epoch is 84, test_loss is 1.295378, test_acc is 0.540349\n",
      "epoch is 85, train_loss is 1.101062, train_acc is 0.623724\n"
     ]
    },
    {
     "name": "stderr",
     "output_type": "stream",
     "text": [
      " 42%|████▎     | 85/200 [08:10<10:46,  5.62s/it]"
     ]
    },
    {
     "name": "stdout",
     "output_type": "stream",
     "text": [
      "epoch is 85, test_loss is 1.293709, test_acc is 0.541705\n",
      "epoch is 86, train_loss is 1.099773, train_acc is 0.625456\n"
     ]
    },
    {
     "name": "stderr",
     "output_type": "stream",
     "text": [
      " 43%|████▎     | 86/200 [08:16<10:40,  5.62s/it]"
     ]
    },
    {
     "name": "stdout",
     "output_type": "stream",
     "text": [
      "epoch is 86, test_loss is 1.294359, test_acc is 0.540476\n",
      "epoch is 87, train_loss is 1.099594, train_acc is 0.623780\n"
     ]
    },
    {
     "name": "stderr",
     "output_type": "stream",
     "text": [
      " 44%|████▎     | 87/200 [08:21<10:37,  5.64s/it]"
     ]
    },
    {
     "name": "stdout",
     "output_type": "stream",
     "text": [
      "epoch is 87, test_loss is 1.293629, test_acc is 0.541556\n",
      "epoch is 88, train_loss is 1.099070, train_acc is 0.626613\n"
     ]
    },
    {
     "name": "stderr",
     "output_type": "stream",
     "text": [
      " 44%|████▍     | 88/200 [08:27<10:30,  5.63s/it]"
     ]
    },
    {
     "name": "stdout",
     "output_type": "stream",
     "text": [
      "epoch is 88, test_loss is 1.293390, test_acc is 0.539401\n",
      "epoch is 89, train_loss is 1.098466, train_acc is 0.625010\n"
     ]
    },
    {
     "name": "stderr",
     "output_type": "stream",
     "text": [
      " 44%|████▍     | 89/200 [08:33<10:25,  5.64s/it]"
     ]
    },
    {
     "name": "stdout",
     "output_type": "stream",
     "text": [
      "epoch is 89, test_loss is 1.292793, test_acc is 0.541021\n",
      "epoch is 90, train_loss is 1.098470, train_acc is 0.624210\n"
     ]
    },
    {
     "name": "stderr",
     "output_type": "stream",
     "text": [
      " 45%|████▌     | 90/200 [08:38<10:19,  5.63s/it]"
     ]
    },
    {
     "name": "stdout",
     "output_type": "stream",
     "text": [
      "epoch is 90, test_loss is 1.294649, test_acc is 0.541067\n",
      "epoch is 91, train_loss is 1.098328, train_acc is 0.625020\n"
     ]
    },
    {
     "name": "stderr",
     "output_type": "stream",
     "text": [
      " 46%|████▌     | 91/200 [08:44<10:14,  5.64s/it]"
     ]
    },
    {
     "name": "stdout",
     "output_type": "stream",
     "text": [
      "epoch is 91, test_loss is 1.292619, test_acc is 0.542314\n",
      "epoch is 92, train_loss is 1.096894, train_acc is 0.625931\n"
     ]
    },
    {
     "name": "stderr",
     "output_type": "stream",
     "text": [
      " 46%|████▌     | 92/200 [08:50<10:09,  5.64s/it]"
     ]
    },
    {
     "name": "stdout",
     "output_type": "stream",
     "text": [
      "epoch is 92, test_loss is 1.290942, test_acc is 0.545985\n",
      "epoch is 93, train_loss is 1.098729, train_acc is 0.624108\n"
     ]
    },
    {
     "name": "stderr",
     "output_type": "stream",
     "text": [
      " 46%|████▋     | 93/200 [08:55<10:05,  5.66s/it]"
     ]
    },
    {
     "name": "stdout",
     "output_type": "stream",
     "text": [
      "epoch is 93, test_loss is 1.287535, test_acc is 0.542239\n",
      "epoch is 94, train_loss is 1.096895, train_acc is 0.626513\n"
     ]
    },
    {
     "name": "stderr",
     "output_type": "stream",
     "text": [
      " 47%|████▋     | 94/200 [09:01<09:59,  5.66s/it]"
     ]
    },
    {
     "name": "stdout",
     "output_type": "stream",
     "text": [
      "epoch is 94, test_loss is 1.292437, test_acc is 0.539585\n",
      "epoch is 95, train_loss is 1.095530, train_acc is 0.626798\n"
     ]
    },
    {
     "name": "stderr",
     "output_type": "stream",
     "text": [
      " 48%|████▊     | 95/200 [09:07<09:51,  5.63s/it]"
     ]
    },
    {
     "name": "stdout",
     "output_type": "stream",
     "text": [
      "epoch is 95, test_loss is 1.291103, test_acc is 0.539516\n",
      "epoch is 96, train_loss is 1.095908, train_acc is 0.627016\n"
     ]
    },
    {
     "name": "stderr",
     "output_type": "stream",
     "text": [
      " 48%|████▊     | 96/200 [09:12<09:45,  5.63s/it]"
     ]
    },
    {
     "name": "stdout",
     "output_type": "stream",
     "text": [
      "epoch is 96, test_loss is 1.287560, test_acc is 0.544244\n",
      "epoch is 97, train_loss is 1.095538, train_acc is 0.625987\n"
     ]
    },
    {
     "name": "stderr",
     "output_type": "stream",
     "text": [
      " 48%|████▊     | 97/200 [09:18<09:39,  5.63s/it]"
     ]
    },
    {
     "name": "stdout",
     "output_type": "stream",
     "text": [
      "epoch is 97, test_loss is 1.291060, test_acc is 0.539700\n",
      "epoch is 98, train_loss is 1.095714, train_acc is 0.626684\n"
     ]
    },
    {
     "name": "stderr",
     "output_type": "stream",
     "text": [
      " 49%|████▉     | 98/200 [09:24<09:37,  5.66s/it]"
     ]
    },
    {
     "name": "stdout",
     "output_type": "stream",
     "text": [
      "epoch is 98, test_loss is 1.290093, test_acc is 0.543721\n",
      "epoch is 99, train_loss is 1.094708, train_acc is 0.626068\n"
     ]
    },
    {
     "name": "stderr",
     "output_type": "stream",
     "text": [
      " 50%|████▉     | 99/200 [09:29<09:30,  5.65s/it]"
     ]
    },
    {
     "name": "stdout",
     "output_type": "stream",
     "text": [
      "epoch is 99, test_loss is 1.288314, test_acc is 0.540918\n",
      "epoch is 100, train_loss is 1.095006, train_acc is 0.627470\n"
     ]
    },
    {
     "name": "stderr",
     "output_type": "stream",
     "text": [
      " 50%|█████     | 100/200 [09:35<09:23,  5.64s/it]"
     ]
    },
    {
     "name": "stdout",
     "output_type": "stream",
     "text": [
      "epoch is 100, test_loss is 1.289020, test_acc is 0.539964\n",
      "epoch is 101, train_loss is 1.094131, train_acc is 0.626304\n"
     ]
    },
    {
     "name": "stderr",
     "output_type": "stream",
     "text": [
      " 50%|█████     | 101/200 [09:40<09:17,  5.63s/it]"
     ]
    },
    {
     "name": "stdout",
     "output_type": "stream",
     "text": [
      "epoch is 101, test_loss is 1.288924, test_acc is 0.542084\n",
      "epoch is 102, train_loss is 1.094917, train_acc is 0.626541\n"
     ]
    },
    {
     "name": "stderr",
     "output_type": "stream",
     "text": [
      " 51%|█████     | 102/200 [09:46<09:11,  5.63s/it]"
     ]
    },
    {
     "name": "stdout",
     "output_type": "stream",
     "text": [
      "epoch is 102, test_loss is 1.289258, test_acc is 0.544003\n",
      "epoch is 103, train_loss is 1.094701, train_acc is 0.627244\n"
     ]
    },
    {
     "name": "stderr",
     "output_type": "stream",
     "text": [
      " 52%|█████▏    | 103/200 [09:52<09:07,  5.64s/it]"
     ]
    },
    {
     "name": "stdout",
     "output_type": "stream",
     "text": [
      "epoch is 103, test_loss is 1.288694, test_acc is 0.545088\n",
      "epoch is 104, train_loss is 1.093670, train_acc is 0.626620\n"
     ]
    },
    {
     "name": "stderr",
     "output_type": "stream",
     "text": [
      " 52%|█████▏    | 104/200 [09:57<09:00,  5.63s/it]"
     ]
    },
    {
     "name": "stdout",
     "output_type": "stream",
     "text": [
      "epoch is 104, test_loss is 1.290134, test_acc is 0.540740\n",
      "epoch is 105, train_loss is 1.093862, train_acc is 0.627286\n"
     ]
    },
    {
     "name": "stderr",
     "output_type": "stream",
     "text": [
      " 52%|█████▎    | 105/200 [10:03<08:54,  5.62s/it]"
     ]
    },
    {
     "name": "stdout",
     "output_type": "stream",
     "text": [
      "epoch is 105, test_loss is 1.288649, test_acc is 0.542503\n",
      "epoch is 106, train_loss is 1.093535, train_acc is 0.626369\n"
     ]
    },
    {
     "name": "stderr",
     "output_type": "stream",
     "text": [
      " 53%|█████▎    | 106/200 [10:09<08:48,  5.62s/it]"
     ]
    },
    {
     "name": "stdout",
     "output_type": "stream",
     "text": [
      "epoch is 106, test_loss is 1.290684, test_acc is 0.543388\n",
      "epoch is 107, train_loss is 1.093743, train_acc is 0.625820\n"
     ]
    },
    {
     "name": "stderr",
     "output_type": "stream",
     "text": [
      " 54%|█████▎    | 107/200 [10:14<08:43,  5.62s/it]"
     ]
    },
    {
     "name": "stdout",
     "output_type": "stream",
     "text": [
      "epoch is 107, test_loss is 1.287626, test_acc is 0.541481\n",
      "epoch is 108, train_loss is 1.093882, train_acc is 0.628957\n"
     ]
    },
    {
     "name": "stderr",
     "output_type": "stream",
     "text": [
      " 54%|█████▍    | 108/200 [10:20<08:40,  5.65s/it]"
     ]
    },
    {
     "name": "stdout",
     "output_type": "stream",
     "text": [
      "epoch is 108, test_loss is 1.290443, test_acc is 0.545973\n",
      "epoch is 109, train_loss is 1.093676, train_acc is 0.627062\n"
     ]
    },
    {
     "name": "stderr",
     "output_type": "stream",
     "text": [
      " 55%|█████▍    | 109/200 [10:26<08:34,  5.65s/it]"
     ]
    },
    {
     "name": "stdout",
     "output_type": "stream",
     "text": [
      "epoch is 109, test_loss is 1.286102, test_acc is 0.545111\n",
      "epoch is 110, train_loss is 1.093696, train_acc is 0.627257\n"
     ]
    },
    {
     "name": "stderr",
     "output_type": "stream",
     "text": [
      " 55%|█████▌    | 110/200 [10:31<08:26,  5.63s/it]"
     ]
    },
    {
     "name": "stdout",
     "output_type": "stream",
     "text": [
      "epoch is 110, test_loss is 1.290064, test_acc is 0.541889\n",
      "epoch is 111, train_loss is 1.093165, train_acc is 0.627216\n"
     ]
    },
    {
     "name": "stderr",
     "output_type": "stream",
     "text": [
      " 56%|█████▌    | 111/200 [10:37<08:21,  5.63s/it]"
     ]
    },
    {
     "name": "stdout",
     "output_type": "stream",
     "text": [
      "epoch is 111, test_loss is 1.294395, test_acc is 0.541251\n",
      "epoch is 112, train_loss is 1.092858, train_acc is 0.628149\n"
     ]
    },
    {
     "name": "stderr",
     "output_type": "stream",
     "text": [
      " 56%|█████▌    | 112/200 [10:42<08:15,  5.63s/it]"
     ]
    },
    {
     "name": "stdout",
     "output_type": "stream",
     "text": [
      "epoch is 112, test_loss is 1.290135, test_acc is 0.542906\n",
      "epoch is 113, train_loss is 1.093794, train_acc is 0.627409\n"
     ]
    },
    {
     "name": "stderr",
     "output_type": "stream",
     "text": [
      " 56%|█████▋    | 113/200 [10:48<08:08,  5.62s/it]"
     ]
    },
    {
     "name": "stdout",
     "output_type": "stream",
     "text": [
      "epoch is 113, test_loss is 1.288754, test_acc is 0.543606\n",
      "epoch is 114, train_loss is 1.093476, train_acc is 0.627489\n"
     ]
    },
    {
     "name": "stderr",
     "output_type": "stream",
     "text": [
      " 57%|█████▋    | 114/200 [10:54<08:05,  5.65s/it]"
     ]
    },
    {
     "name": "stdout",
     "output_type": "stream",
     "text": [
      "epoch is 114, test_loss is 1.290873, test_acc is 0.544169\n",
      "epoch is 115, train_loss is 1.093494, train_acc is 0.627720\n"
     ]
    },
    {
     "name": "stderr",
     "output_type": "stream",
     "text": [
      " 57%|█████▊    | 115/200 [10:59<08:01,  5.66s/it]"
     ]
    },
    {
     "name": "stdout",
     "output_type": "stream",
     "text": [
      "epoch is 115, test_loss is 1.292118, test_acc is 0.543216\n",
      "epoch is 116, train_loss is 1.093643, train_acc is 0.627926\n"
     ]
    },
    {
     "name": "stderr",
     "output_type": "stream",
     "text": [
      " 58%|█████▊    | 116/200 [11:05<07:53,  5.64s/it]"
     ]
    },
    {
     "name": "stdout",
     "output_type": "stream",
     "text": [
      "epoch is 116, test_loss is 1.293012, test_acc is 0.537569\n",
      "epoch is 117, train_loss is 1.093016, train_acc is 0.627243\n"
     ]
    },
    {
     "name": "stderr",
     "output_type": "stream",
     "text": [
      " 58%|█████▊    | 117/200 [11:11<07:48,  5.64s/it]"
     ]
    },
    {
     "name": "stdout",
     "output_type": "stream",
     "text": [
      "epoch is 117, test_loss is 1.289135, test_acc is 0.542860\n",
      "epoch is 118, train_loss is 1.092686, train_acc is 0.627176\n"
     ]
    },
    {
     "name": "stderr",
     "output_type": "stream",
     "text": [
      " 59%|█████▉    | 118/200 [11:16<07:43,  5.66s/it]"
     ]
    },
    {
     "name": "stdout",
     "output_type": "stream",
     "text": [
      "epoch is 118, test_loss is 1.292359, test_acc is 0.540769\n",
      "epoch is 119, train_loss is 1.093483, train_acc is 0.628315\n"
     ]
    },
    {
     "name": "stderr",
     "output_type": "stream",
     "text": [
      " 60%|█████▉    | 119/200 [11:22<07:36,  5.64s/it]"
     ]
    },
    {
     "name": "stdout",
     "output_type": "stream",
     "text": [
      "epoch is 119, test_loss is 1.289951, test_acc is 0.543423\n",
      "epoch is 120, train_loss is 1.092790, train_acc is 0.626947\n"
     ]
    },
    {
     "name": "stderr",
     "output_type": "stream",
     "text": [
      " 60%|██████    | 120/200 [11:28<07:30,  5.63s/it]"
     ]
    },
    {
     "name": "stdout",
     "output_type": "stream",
     "text": [
      "epoch is 120, test_loss is 1.286511, test_acc is 0.545502\n",
      "epoch is 121, train_loss is 1.092477, train_acc is 0.628343\n"
     ]
    },
    {
     "name": "stderr",
     "output_type": "stream",
     "text": [
      " 60%|██████    | 121/200 [11:33<07:25,  5.64s/it]"
     ]
    },
    {
     "name": "stdout",
     "output_type": "stream",
     "text": [
      "epoch is 121, test_loss is 1.290310, test_acc is 0.543830\n",
      "epoch is 122, train_loss is 1.092630, train_acc is 0.627579\n"
     ]
    },
    {
     "name": "stderr",
     "output_type": "stream",
     "text": [
      " 61%|██████    | 122/200 [11:39<07:19,  5.63s/it]"
     ]
    },
    {
     "name": "stdout",
     "output_type": "stream",
     "text": [
      "epoch is 122, test_loss is 1.289669, test_acc is 0.542492\n",
      "epoch is 123, train_loss is 1.092975, train_acc is 0.628097\n"
     ]
    },
    {
     "name": "stderr",
     "output_type": "stream",
     "text": [
      " 62%|██████▏   | 123/200 [11:44<07:14,  5.64s/it]"
     ]
    },
    {
     "name": "stdout",
     "output_type": "stream",
     "text": [
      "epoch is 123, test_loss is 1.287896, test_acc is 0.546329\n",
      "epoch is 124, train_loss is 1.093614, train_acc is 0.627160\n"
     ]
    },
    {
     "name": "stderr",
     "output_type": "stream",
     "text": [
      " 62%|██████▏   | 124/200 [11:50<07:09,  5.66s/it]"
     ]
    },
    {
     "name": "stdout",
     "output_type": "stream",
     "text": [
      "epoch is 124, test_loss is 1.288418, test_acc is 0.542480\n",
      "epoch is 125, train_loss is 1.092934, train_acc is 0.627735\n"
     ]
    },
    {
     "name": "stderr",
     "output_type": "stream",
     "text": [
      " 62%|██████▎   | 125/200 [11:56<07:04,  5.65s/it]"
     ]
    },
    {
     "name": "stdout",
     "output_type": "stream",
     "text": [
      "epoch is 125, test_loss is 1.287898, test_acc is 0.543727\n",
      "epoch is 126, train_loss is 1.092737, train_acc is 0.627368\n"
     ]
    },
    {
     "name": "stderr",
     "output_type": "stream",
     "text": [
      " 63%|██████▎   | 126/200 [12:01<06:57,  5.64s/it]"
     ]
    },
    {
     "name": "stdout",
     "output_type": "stream",
     "text": [
      "epoch is 126, test_loss is 1.287418, test_acc is 0.540384\n",
      "epoch is 127, train_loss is 1.092226, train_acc is 0.628312\n"
     ]
    },
    {
     "name": "stderr",
     "output_type": "stream",
     "text": [
      " 64%|██████▎   | 127/200 [12:07<06:50,  5.63s/it]"
     ]
    },
    {
     "name": "stdout",
     "output_type": "stream",
     "text": [
      "epoch is 127, test_loss is 1.289213, test_acc is 0.545514\n",
      "epoch is 128, train_loss is 1.092962, train_acc is 0.627058\n"
     ]
    },
    {
     "name": "stderr",
     "output_type": "stream",
     "text": [
      " 64%|██████▍   | 128/200 [12:13<06:44,  5.62s/it]"
     ]
    },
    {
     "name": "stdout",
     "output_type": "stream",
     "text": [
      "epoch is 128, test_loss is 1.292211, test_acc is 0.540062\n",
      "epoch is 129, train_loss is 1.092593, train_acc is 0.627036\n"
     ]
    },
    {
     "name": "stderr",
     "output_type": "stream",
     "text": [
      " 64%|██████▍   | 129/200 [12:18<06:40,  5.64s/it]"
     ]
    },
    {
     "name": "stdout",
     "output_type": "stream",
     "text": [
      "epoch is 129, test_loss is 1.290887, test_acc is 0.541935\n",
      "epoch is 130, train_loss is 1.093104, train_acc is 0.627479\n"
     ]
    },
    {
     "name": "stderr",
     "output_type": "stream",
     "text": [
      " 65%|██████▌   | 130/200 [12:24<06:35,  5.65s/it]"
     ]
    },
    {
     "name": "stdout",
     "output_type": "stream",
     "text": [
      "epoch is 130, test_loss is 1.289422, test_acc is 0.543130\n",
      "epoch is 131, train_loss is 1.092852, train_acc is 0.628316\n"
     ]
    },
    {
     "name": "stderr",
     "output_type": "stream",
     "text": [
      " 66%|██████▌   | 131/200 [12:30<06:29,  5.64s/it]"
     ]
    },
    {
     "name": "stdout",
     "output_type": "stream",
     "text": [
      "epoch is 131, test_loss is 1.288516, test_acc is 0.544520\n",
      "epoch is 132, train_loss is 1.091540, train_acc is 0.627674\n"
     ]
    },
    {
     "name": "stderr",
     "output_type": "stream",
     "text": [
      " 66%|██████▌   | 132/200 [12:35<06:22,  5.62s/it]"
     ]
    },
    {
     "name": "stdout",
     "output_type": "stream",
     "text": [
      "epoch is 132, test_loss is 1.291569, test_acc is 0.541360\n",
      "epoch is 133, train_loss is 1.092969, train_acc is 0.626943\n"
     ]
    },
    {
     "name": "stderr",
     "output_type": "stream",
     "text": [
      " 66%|██████▋   | 133/200 [12:41<06:15,  5.61s/it]"
     ]
    },
    {
     "name": "stdout",
     "output_type": "stream",
     "text": [
      "epoch is 133, test_loss is 1.287393, test_acc is 0.545571\n",
      "epoch is 134, train_loss is 1.093254, train_acc is 0.626746\n"
     ]
    },
    {
     "name": "stderr",
     "output_type": "stream",
     "text": [
      " 67%|██████▋   | 134/200 [12:46<06:10,  5.61s/it]"
     ]
    },
    {
     "name": "stdout",
     "output_type": "stream",
     "text": [
      "epoch is 134, test_loss is 1.291677, test_acc is 0.537437\n",
      "epoch is 135, train_loss is 1.093156, train_acc is 0.627393\n"
     ]
    },
    {
     "name": "stderr",
     "output_type": "stream",
     "text": [
      " 68%|██████▊   | 135/200 [12:52<06:04,  5.61s/it]"
     ]
    },
    {
     "name": "stdout",
     "output_type": "stream",
     "text": [
      "epoch is 135, test_loss is 1.290244, test_acc is 0.541716\n",
      "epoch is 136, train_loss is 1.092600, train_acc is 0.626636\n"
     ]
    },
    {
     "name": "stderr",
     "output_type": "stream",
     "text": [
      " 68%|██████▊   | 136/200 [12:58<06:02,  5.66s/it]"
     ]
    },
    {
     "name": "stdout",
     "output_type": "stream",
     "text": [
      "epoch is 136, test_loss is 1.291197, test_acc is 0.542917\n",
      "epoch is 137, train_loss is 1.093378, train_acc is 0.626468\n"
     ]
    },
    {
     "name": "stderr",
     "output_type": "stream",
     "text": [
      " 68%|██████▊   | 137/200 [13:03<05:57,  5.67s/it]"
     ]
    },
    {
     "name": "stdout",
     "output_type": "stream",
     "text": [
      "epoch is 137, test_loss is 1.290157, test_acc is 0.542831\n",
      "epoch is 138, train_loss is 1.093562, train_acc is 0.627419\n"
     ]
    },
    {
     "name": "stderr",
     "output_type": "stream",
     "text": [
      " 69%|██████▉   | 138/200 [13:09<05:50,  5.65s/it]"
     ]
    },
    {
     "name": "stdout",
     "output_type": "stream",
     "text": [
      "epoch is 138, test_loss is 1.290477, test_acc is 0.541889\n",
      "epoch is 139, train_loss is 1.093230, train_acc is 0.627264\n"
     ]
    },
    {
     "name": "stderr",
     "output_type": "stream",
     "text": [
      " 70%|██████▉   | 139/200 [13:15<05:43,  5.64s/it]"
     ]
    },
    {
     "name": "stdout",
     "output_type": "stream",
     "text": [
      "epoch is 139, test_loss is 1.289098, test_acc is 0.543647\n",
      "epoch is 140, train_loss is 1.092951, train_acc is 0.628173\n"
     ]
    },
    {
     "name": "stderr",
     "output_type": "stream",
     "text": [
      " 70%|███████   | 140/200 [13:20<05:37,  5.63s/it]"
     ]
    },
    {
     "name": "stdout",
     "output_type": "stream",
     "text": [
      "epoch is 140, test_loss is 1.288307, test_acc is 0.544129\n",
      "epoch is 141, train_loss is 1.092209, train_acc is 0.628163\n"
     ]
    },
    {
     "name": "stderr",
     "output_type": "stream",
     "text": [
      " 70%|███████   | 141/200 [13:26<05:33,  5.65s/it]"
     ]
    },
    {
     "name": "stdout",
     "output_type": "stream",
     "text": [
      "epoch is 141, test_loss is 1.289556, test_acc is 0.541182\n",
      "epoch is 142, train_loss is 1.093655, train_acc is 0.628941\n"
     ]
    },
    {
     "name": "stderr",
     "output_type": "stream",
     "text": [
      " 71%|███████   | 142/200 [13:32<05:27,  5.65s/it]"
     ]
    },
    {
     "name": "stdout",
     "output_type": "stream",
     "text": [
      "epoch is 142, test_loss is 1.293179, test_acc is 0.539522\n",
      "epoch is 143, train_loss is 1.093459, train_acc is 0.627580\n"
     ]
    },
    {
     "name": "stderr",
     "output_type": "stream",
     "text": [
      " 72%|███████▏  | 143/200 [13:37<05:24,  5.69s/it]"
     ]
    },
    {
     "name": "stdout",
     "output_type": "stream",
     "text": [
      "epoch is 143, test_loss is 1.291877, test_acc is 0.540114\n",
      "epoch is 144, train_loss is 1.092376, train_acc is 0.628227\n"
     ]
    },
    {
     "name": "stderr",
     "output_type": "stream",
     "text": [
      " 72%|███████▏  | 144/200 [13:43<05:17,  5.68s/it]"
     ]
    },
    {
     "name": "stdout",
     "output_type": "stream",
     "text": [
      "epoch is 144, test_loss is 1.287402, test_acc is 0.542946\n",
      "epoch is 145, train_loss is 1.093298, train_acc is 0.626843\n"
     ]
    },
    {
     "name": "stderr",
     "output_type": "stream",
     "text": [
      " 72%|███████▎  | 145/200 [13:49<05:11,  5.67s/it]"
     ]
    },
    {
     "name": "stdout",
     "output_type": "stream",
     "text": [
      "epoch is 145, test_loss is 1.293125, test_acc is 0.540884\n",
      "epoch is 146, train_loss is 1.092766, train_acc is 0.627426\n"
     ]
    },
    {
     "name": "stderr",
     "output_type": "stream",
     "text": [
      " 73%|███████▎  | 146/200 [13:54<05:05,  5.65s/it]"
     ]
    },
    {
     "name": "stdout",
     "output_type": "stream",
     "text": [
      "epoch is 146, test_loss is 1.289907, test_acc is 0.539625\n",
      "epoch is 147, train_loss is 1.092919, train_acc is 0.627916\n"
     ]
    },
    {
     "name": "stderr",
     "output_type": "stream",
     "text": [
      " 74%|███████▎  | 147/200 [14:00<04:59,  5.66s/it]"
     ]
    },
    {
     "name": "stdout",
     "output_type": "stream",
     "text": [
      "epoch is 147, test_loss is 1.289804, test_acc is 0.540659\n",
      "epoch is 148, train_loss is 1.092966, train_acc is 0.628715\n"
     ]
    },
    {
     "name": "stderr",
     "output_type": "stream",
     "text": [
      " 74%|███████▍  | 148/200 [14:06<04:55,  5.69s/it]"
     ]
    },
    {
     "name": "stdout",
     "output_type": "stream",
     "text": [
      "epoch is 148, test_loss is 1.293442, test_acc is 0.540614\n",
      "epoch is 149, train_loss is 1.093246, train_acc is 0.626890\n"
     ]
    },
    {
     "name": "stderr",
     "output_type": "stream",
     "text": [
      " 74%|███████▍  | 149/200 [14:11<04:49,  5.69s/it]"
     ]
    },
    {
     "name": "stdout",
     "output_type": "stream",
     "text": [
      "epoch is 149, test_loss is 1.288612, test_acc is 0.544043\n",
      "epoch is 150, train_loss is 1.093200, train_acc is 0.626615\n"
     ]
    },
    {
     "name": "stderr",
     "output_type": "stream",
     "text": [
      " 75%|███████▌  | 150/200 [14:17<04:44,  5.70s/it]"
     ]
    },
    {
     "name": "stdout",
     "output_type": "stream",
     "text": [
      "epoch is 150, test_loss is 1.289639, test_acc is 0.543118\n",
      "epoch is 151, train_loss is 1.092765, train_acc is 0.627341\n"
     ]
    },
    {
     "name": "stderr",
     "output_type": "stream",
     "text": [
      " 76%|███████▌  | 151/200 [14:23<04:38,  5.68s/it]"
     ]
    },
    {
     "name": "stdout",
     "output_type": "stream",
     "text": [
      "epoch is 151, test_loss is 1.288723, test_acc is 0.542791\n",
      "epoch is 152, train_loss is 1.092668, train_acc is 0.628745\n"
     ]
    },
    {
     "name": "stderr",
     "output_type": "stream",
     "text": [
      " 76%|███████▌  | 152/200 [14:28<04:31,  5.66s/it]"
     ]
    },
    {
     "name": "stdout",
     "output_type": "stream",
     "text": [
      "epoch is 152, test_loss is 1.291496, test_acc is 0.540275\n",
      "epoch is 153, train_loss is 1.092099, train_acc is 0.628826\n"
     ]
    },
    {
     "name": "stderr",
     "output_type": "stream",
     "text": [
      " 76%|███████▋  | 153/200 [14:34<04:26,  5.68s/it]"
     ]
    },
    {
     "name": "stdout",
     "output_type": "stream",
     "text": [
      "epoch is 153, test_loss is 1.286754, test_acc is 0.540728\n",
      "epoch is 154, train_loss is 1.092890, train_acc is 0.626630\n"
     ]
    },
    {
     "name": "stderr",
     "output_type": "stream",
     "text": [
      " 77%|███████▋  | 154/200 [14:40<04:21,  5.68s/it]"
     ]
    },
    {
     "name": "stdout",
     "output_type": "stream",
     "text": [
      "epoch is 154, test_loss is 1.291176, test_acc is 0.540884\n",
      "epoch is 155, train_loss is 1.093453, train_acc is 0.628085\n"
     ]
    },
    {
     "name": "stderr",
     "output_type": "stream",
     "text": [
      " 78%|███████▊  | 155/200 [14:46<04:17,  5.71s/it]"
     ]
    },
    {
     "name": "stdout",
     "output_type": "stream",
     "text": [
      "epoch is 155, test_loss is 1.290508, test_acc is 0.542532\n",
      "epoch is 156, train_loss is 1.093865, train_acc is 0.627153\n"
     ]
    },
    {
     "name": "stderr",
     "output_type": "stream",
     "text": [
      " 78%|███████▊  | 156/200 [14:51<04:10,  5.70s/it]"
     ]
    },
    {
     "name": "stdout",
     "output_type": "stream",
     "text": [
      "epoch is 156, test_loss is 1.290858, test_acc is 0.541481\n",
      "epoch is 157, train_loss is 1.093939, train_acc is 0.627861\n"
     ]
    },
    {
     "name": "stderr",
     "output_type": "stream",
     "text": [
      " 78%|███████▊  | 157/200 [14:57<04:04,  5.68s/it]"
     ]
    },
    {
     "name": "stdout",
     "output_type": "stream",
     "text": [
      "epoch is 157, test_loss is 1.290619, test_acc is 0.544462\n",
      "epoch is 158, train_loss is 1.093018, train_acc is 0.628434\n"
     ]
    },
    {
     "name": "stderr",
     "output_type": "stream",
     "text": [
      " 79%|███████▉  | 158/200 [15:03<03:58,  5.67s/it]"
     ]
    },
    {
     "name": "stdout",
     "output_type": "stream",
     "text": [
      "epoch is 158, test_loss is 1.289315, test_acc is 0.539930\n",
      "epoch is 159, train_loss is 1.093272, train_acc is 0.628579\n"
     ]
    },
    {
     "name": "stderr",
     "output_type": "stream",
     "text": [
      " 80%|███████▉  | 159/200 [15:08<03:55,  5.74s/it]"
     ]
    },
    {
     "name": "stdout",
     "output_type": "stream",
     "text": [
      "epoch is 159, test_loss is 1.294043, test_acc is 0.540964\n",
      "epoch is 160, train_loss is 1.092868, train_acc is 0.627706\n"
     ]
    },
    {
     "name": "stderr",
     "output_type": "stream",
     "text": [
      " 80%|████████  | 160/200 [15:14<03:49,  5.75s/it]"
     ]
    },
    {
     "name": "stdout",
     "output_type": "stream",
     "text": [
      "epoch is 160, test_loss is 1.288772, test_acc is 0.542544\n",
      "epoch is 161, train_loss is 1.093014, train_acc is 0.627694\n"
     ]
    },
    {
     "name": "stderr",
     "output_type": "stream",
     "text": [
      " 80%|████████  | 161/200 [15:20<03:46,  5.82s/it]"
     ]
    },
    {
     "name": "stdout",
     "output_type": "stream",
     "text": [
      "epoch is 161, test_loss is 1.290170, test_acc is 0.541533\n",
      "epoch is 162, train_loss is 1.092666, train_acc is 0.627598\n"
     ]
    },
    {
     "name": "stderr",
     "output_type": "stream",
     "text": [
      " 81%|████████  | 162/200 [15:26<03:39,  5.78s/it]"
     ]
    },
    {
     "name": "stdout",
     "output_type": "stream",
     "text": [
      "epoch is 162, test_loss is 1.290425, test_acc is 0.541355\n",
      "epoch is 163, train_loss is 1.094260, train_acc is 0.626193\n"
     ]
    },
    {
     "name": "stderr",
     "output_type": "stream",
     "text": [
      " 82%|████████▏ | 163/200 [15:31<03:32,  5.73s/it]"
     ]
    },
    {
     "name": "stdout",
     "output_type": "stream",
     "text": [
      "epoch is 163, test_loss is 1.287710, test_acc is 0.542360\n",
      "epoch is 164, train_loss is 1.091763, train_acc is 0.628367\n"
     ]
    },
    {
     "name": "stderr",
     "output_type": "stream",
     "text": [
      " 82%|████████▏ | 164/200 [15:37<03:25,  5.71s/it]"
     ]
    },
    {
     "name": "stdout",
     "output_type": "stream",
     "text": [
      "epoch is 164, test_loss is 1.289729, test_acc is 0.542239\n",
      "epoch is 165, train_loss is 1.093727, train_acc is 0.626844\n"
     ]
    },
    {
     "name": "stderr",
     "output_type": "stream",
     "text": [
      " 82%|████████▎ | 165/200 [15:43<03:20,  5.72s/it]"
     ]
    },
    {
     "name": "stdout",
     "output_type": "stream",
     "text": [
      "epoch is 165, test_loss is 1.293411, test_acc is 0.541108\n",
      "epoch is 166, train_loss is 1.092915, train_acc is 0.627899\n"
     ]
    },
    {
     "name": "stderr",
     "output_type": "stream",
     "text": [
      " 83%|████████▎ | 166/200 [15:49<03:18,  5.84s/it]"
     ]
    },
    {
     "name": "stdout",
     "output_type": "stream",
     "text": [
      "epoch is 166, test_loss is 1.289954, test_acc is 0.543290\n",
      "epoch is 167, train_loss is 1.093632, train_acc is 0.627821\n"
     ]
    },
    {
     "name": "stderr",
     "output_type": "stream",
     "text": [
      " 84%|████████▎ | 167/200 [15:55<03:15,  5.92s/it]"
     ]
    },
    {
     "name": "stdout",
     "output_type": "stream",
     "text": [
      "epoch is 167, test_loss is 1.290330, test_acc is 0.541418\n",
      "epoch is 168, train_loss is 1.091876, train_acc is 0.627130\n"
     ]
    },
    {
     "name": "stderr",
     "output_type": "stream",
     "text": [
      " 84%|████████▍ | 168/200 [16:01<03:07,  5.86s/it]"
     ]
    },
    {
     "name": "stdout",
     "output_type": "stream",
     "text": [
      "epoch is 168, test_loss is 1.289945, test_acc is 0.540671\n",
      "epoch is 169, train_loss is 1.092136, train_acc is 0.628103\n"
     ]
    },
    {
     "name": "stderr",
     "output_type": "stream",
     "text": [
      " 84%|████████▍ | 169/200 [16:07<03:00,  5.84s/it]"
     ]
    },
    {
     "name": "stdout",
     "output_type": "stream",
     "text": [
      "epoch is 169, test_loss is 1.287623, test_acc is 0.542383\n",
      "epoch is 170, train_loss is 1.092501, train_acc is 0.627563\n"
     ]
    },
    {
     "name": "stderr",
     "output_type": "stream",
     "text": [
      " 85%|████████▌ | 170/200 [16:12<02:54,  5.80s/it]"
     ]
    },
    {
     "name": "stdout",
     "output_type": "stream",
     "text": [
      "epoch is 170, test_loss is 1.291694, test_acc is 0.542561\n",
      "epoch is 171, train_loss is 1.092032, train_acc is 0.628647\n"
     ]
    },
    {
     "name": "stderr",
     "output_type": "stream",
     "text": [
      " 86%|████████▌ | 171/200 [16:18<02:47,  5.76s/it]"
     ]
    },
    {
     "name": "stdout",
     "output_type": "stream",
     "text": [
      "epoch is 171, test_loss is 1.291713, test_acc is 0.542412\n",
      "epoch is 172, train_loss is 1.093248, train_acc is 0.625851\n"
     ]
    },
    {
     "name": "stderr",
     "output_type": "stream",
     "text": [
      " 86%|████████▌ | 172/200 [16:24<02:41,  5.75s/it]"
     ]
    },
    {
     "name": "stdout",
     "output_type": "stream",
     "text": [
      "epoch is 172, test_loss is 1.291079, test_acc is 0.541343\n",
      "epoch is 173, train_loss is 1.093044, train_acc is 0.628298\n"
     ]
    },
    {
     "name": "stderr",
     "output_type": "stream",
     "text": [
      " 86%|████████▋ | 173/200 [16:29<02:34,  5.72s/it]"
     ]
    },
    {
     "name": "stdout",
     "output_type": "stream",
     "text": [
      "epoch is 173, test_loss is 1.287739, test_acc is 0.543693\n",
      "epoch is 174, train_loss is 1.093166, train_acc is 0.628013\n"
     ]
    },
    {
     "name": "stderr",
     "output_type": "stream",
     "text": [
      " 87%|████████▋ | 174/200 [16:35<02:28,  5.72s/it]"
     ]
    },
    {
     "name": "stdout",
     "output_type": "stream",
     "text": [
      "epoch is 174, test_loss is 1.286596, test_acc is 0.543032\n",
      "epoch is 175, train_loss is 1.092480, train_acc is 0.628075\n"
     ]
    },
    {
     "name": "stderr",
     "output_type": "stream",
     "text": [
      " 88%|████████▊ | 175/200 [16:41<02:22,  5.71s/it]"
     ]
    },
    {
     "name": "stdout",
     "output_type": "stream",
     "text": [
      "epoch is 175, test_loss is 1.289659, test_acc is 0.545479\n",
      "epoch is 176, train_loss is 1.093571, train_acc is 0.626891\n"
     ]
    },
    {
     "name": "stderr",
     "output_type": "stream",
     "text": [
      " 88%|████████▊ | 176/200 [16:46<02:17,  5.71s/it]"
     ]
    },
    {
     "name": "stdout",
     "output_type": "stream",
     "text": [
      "epoch is 176, test_loss is 1.291169, test_acc is 0.543549\n",
      "epoch is 177, train_loss is 1.093816, train_acc is 0.627777\n"
     ]
    },
    {
     "name": "stderr",
     "output_type": "stream",
     "text": [
      " 88%|████████▊ | 177/200 [16:52<02:11,  5.72s/it]"
     ]
    },
    {
     "name": "stdout",
     "output_type": "stream",
     "text": [
      "epoch is 177, test_loss is 1.290312, test_acc is 0.542871\n",
      "epoch is 178, train_loss is 1.092360, train_acc is 0.627947\n"
     ]
    },
    {
     "name": "stderr",
     "output_type": "stream",
     "text": [
      " 89%|████████▉ | 178/200 [16:58<02:05,  5.71s/it]"
     ]
    },
    {
     "name": "stdout",
     "output_type": "stream",
     "text": [
      "epoch is 178, test_loss is 1.289868, test_acc is 0.544370\n",
      "epoch is 179, train_loss is 1.092779, train_acc is 0.627705\n"
     ]
    },
    {
     "name": "stderr",
     "output_type": "stream",
     "text": [
      " 90%|████████▉ | 179/200 [17:04<01:59,  5.71s/it]"
     ]
    },
    {
     "name": "stdout",
     "output_type": "stream",
     "text": [
      "epoch is 179, test_loss is 1.289175, test_acc is 0.543342\n",
      "epoch is 180, train_loss is 1.094144, train_acc is 0.627375\n"
     ]
    },
    {
     "name": "stderr",
     "output_type": "stream",
     "text": [
      " 90%|█████████ | 180/200 [17:09<01:54,  5.72s/it]"
     ]
    },
    {
     "name": "stdout",
     "output_type": "stream",
     "text": [
      "epoch is 180, test_loss is 1.288904, test_acc is 0.539126\n",
      "epoch is 181, train_loss is 1.093625, train_acc is 0.627555\n"
     ]
    },
    {
     "name": "stderr",
     "output_type": "stream",
     "text": [
      " 90%|█████████ | 181/200 [17:15<01:48,  5.72s/it]"
     ]
    },
    {
     "name": "stdout",
     "output_type": "stream",
     "text": [
      "epoch is 181, test_loss is 1.293032, test_acc is 0.542113\n",
      "epoch is 182, train_loss is 1.092069, train_acc is 0.628796\n"
     ]
    },
    {
     "name": "stderr",
     "output_type": "stream",
     "text": [
      " 91%|█████████ | 182/200 [17:21<01:43,  5.73s/it]"
     ]
    },
    {
     "name": "stdout",
     "output_type": "stream",
     "text": [
      "epoch is 182, test_loss is 1.288374, test_acc is 0.544290\n",
      "epoch is 183, train_loss is 1.092089, train_acc is 0.629271\n"
     ]
    },
    {
     "name": "stderr",
     "output_type": "stream",
     "text": [
      " 92%|█████████▏| 183/200 [17:27<01:37,  5.72s/it]"
     ]
    },
    {
     "name": "stdout",
     "output_type": "stream",
     "text": [
      "epoch is 183, test_loss is 1.289532, test_acc is 0.541837\n",
      "epoch is 184, train_loss is 1.093306, train_acc is 0.626463\n"
     ]
    },
    {
     "name": "stderr",
     "output_type": "stream",
     "text": [
      " 92%|█████████▏| 184/200 [17:32<01:31,  5.75s/it]"
     ]
    },
    {
     "name": "stdout",
     "output_type": "stream",
     "text": [
      "epoch is 184, test_loss is 1.288080, test_acc is 0.541895\n",
      "epoch is 185, train_loss is 1.092501, train_acc is 0.629140\n"
     ]
    },
    {
     "name": "stderr",
     "output_type": "stream",
     "text": [
      " 92%|█████████▎| 185/200 [17:38<01:26,  5.74s/it]"
     ]
    },
    {
     "name": "stdout",
     "output_type": "stream",
     "text": [
      "epoch is 185, test_loss is 1.292870, test_acc is 0.540929\n",
      "epoch is 186, train_loss is 1.092344, train_acc is 0.626397\n"
     ]
    },
    {
     "name": "stderr",
     "output_type": "stream",
     "text": [
      " 93%|█████████▎| 186/200 [17:44<01:20,  5.74s/it]"
     ]
    },
    {
     "name": "stdout",
     "output_type": "stream",
     "text": [
      "epoch is 186, test_loss is 1.289874, test_acc is 0.543761\n",
      "epoch is 187, train_loss is 1.092798, train_acc is 0.628567\n"
     ]
    },
    {
     "name": "stderr",
     "output_type": "stream",
     "text": [
      " 94%|█████████▎| 187/200 [17:50<01:14,  5.73s/it]"
     ]
    },
    {
     "name": "stdout",
     "output_type": "stream",
     "text": [
      "epoch is 187, test_loss is 1.286176, test_acc is 0.544382\n",
      "epoch is 188, train_loss is 1.093293, train_acc is 0.627716\n"
     ]
    },
    {
     "name": "stderr",
     "output_type": "stream",
     "text": [
      " 94%|█████████▍| 188/200 [17:55<01:08,  5.73s/it]"
     ]
    },
    {
     "name": "stdout",
     "output_type": "stream",
     "text": [
      "epoch is 188, test_loss is 1.288438, test_acc is 0.543509\n",
      "epoch is 189, train_loss is 1.092755, train_acc is 0.627572\n"
     ]
    },
    {
     "name": "stderr",
     "output_type": "stream",
     "text": [
      " 94%|█████████▍| 189/200 [18:01<01:03,  5.73s/it]"
     ]
    },
    {
     "name": "stdout",
     "output_type": "stream",
     "text": [
      "epoch is 189, test_loss is 1.288266, test_acc is 0.540792\n",
      "epoch is 190, train_loss is 1.092971, train_acc is 0.627102\n"
     ]
    },
    {
     "name": "stderr",
     "output_type": "stream",
     "text": [
      " 95%|█████████▌| 190/200 [18:07<00:57,  5.73s/it]"
     ]
    },
    {
     "name": "stdout",
     "output_type": "stream",
     "text": [
      "epoch is 190, test_loss is 1.290447, test_acc is 0.541699\n",
      "epoch is 191, train_loss is 1.092946, train_acc is 0.627484\n"
     ]
    },
    {
     "name": "stderr",
     "output_type": "stream",
     "text": [
      " 96%|█████████▌| 191/200 [18:13<00:51,  5.76s/it]"
     ]
    },
    {
     "name": "stdout",
     "output_type": "stream",
     "text": [
      "epoch is 191, test_loss is 1.290295, test_acc is 0.542796\n",
      "epoch is 192, train_loss is 1.093889, train_acc is 0.628035\n"
     ]
    },
    {
     "name": "stderr",
     "output_type": "stream",
     "text": [
      " 96%|█████████▌| 192/200 [18:18<00:46,  5.77s/it]"
     ]
    },
    {
     "name": "stdout",
     "output_type": "stream",
     "text": [
      "epoch is 192, test_loss is 1.288368, test_acc is 0.540792\n",
      "epoch is 193, train_loss is 1.092994, train_acc is 0.629023\n"
     ]
    },
    {
     "name": "stderr",
     "output_type": "stream",
     "text": [
      " 96%|█████████▋| 193/200 [18:24<00:40,  5.79s/it]"
     ]
    },
    {
     "name": "stdout",
     "output_type": "stream",
     "text": [
      "epoch is 193, test_loss is 1.289817, test_acc is 0.540171\n",
      "epoch is 194, train_loss is 1.093799, train_acc is 0.627229\n"
     ]
    },
    {
     "name": "stderr",
     "output_type": "stream",
     "text": [
      " 97%|█████████▋| 194/200 [18:30<00:34,  5.78s/it]"
     ]
    },
    {
     "name": "stdout",
     "output_type": "stream",
     "text": [
      "epoch is 194, test_loss is 1.289261, test_acc is 0.543951\n",
      "epoch is 195, train_loss is 1.093007, train_acc is 0.627454\n"
     ]
    },
    {
     "name": "stderr",
     "output_type": "stream",
     "text": [
      " 98%|█████████▊| 195/200 [18:36<00:28,  5.76s/it]"
     ]
    },
    {
     "name": "stdout",
     "output_type": "stream",
     "text": [
      "epoch is 195, test_loss is 1.291062, test_acc is 0.541222\n",
      "epoch is 196, train_loss is 1.093035, train_acc is 0.627394\n"
     ]
    },
    {
     "name": "stderr",
     "output_type": "stream",
     "text": [
      " 98%|█████████▊| 196/200 [18:41<00:23,  5.76s/it]"
     ]
    },
    {
     "name": "stdout",
     "output_type": "stream",
     "text": [
      "epoch is 196, test_loss is 1.290612, test_acc is 0.539229\n",
      "epoch is 197, train_loss is 1.093011, train_acc is 0.628428\n"
     ]
    },
    {
     "name": "stderr",
     "output_type": "stream",
     "text": [
      " 98%|█████████▊| 197/200 [18:47<00:17,  5.76s/it]"
     ]
    },
    {
     "name": "stdout",
     "output_type": "stream",
     "text": [
      "epoch is 197, test_loss is 1.290466, test_acc is 0.542366\n",
      "epoch is 198, train_loss is 1.091847, train_acc is 0.628219\n"
     ]
    },
    {
     "name": "stderr",
     "output_type": "stream",
     "text": [
      " 99%|█████████▉| 198/200 [18:53<00:11,  5.76s/it]"
     ]
    },
    {
     "name": "stdout",
     "output_type": "stream",
     "text": [
      "epoch is 198, test_loss is 1.290539, test_acc is 0.543997\n",
      "epoch is 199, train_loss is 1.093301, train_acc is 0.628162\n"
     ]
    },
    {
     "name": "stderr",
     "output_type": "stream",
     "text": [
      "100%|█████████▉| 199/200 [18:59<00:05,  5.82s/it]"
     ]
    },
    {
     "name": "stdout",
     "output_type": "stream",
     "text": [
      "epoch is 199, test_loss is 1.289963, test_acc is 0.541446\n",
      "epoch is 200, train_loss is 1.092865, train_acc is 0.628258\n"
     ]
    },
    {
     "name": "stderr",
     "output_type": "stream",
     "text": [
      "100%|██████████| 200/200 [19:05<00:00,  5.73s/it]"
     ]
    },
    {
     "name": "stdout",
     "output_type": "stream",
     "text": [
      "epoch is 200, test_loss is 1.286940, test_acc is 0.544129\n"
     ]
    },
    {
     "name": "stderr",
     "output_type": "stream",
     "text": [
      "\n"
     ]
    }
   ],
   "source": [
    "#default para SGD opt\n",
    "model = train(optimizer='SGD', learning_rate=1e-4, max_epochs=200, eval_freq=500, ada_opt=True, save_para=True)"
   ]
  },
  {
   "cell_type": "code",
   "execution_count": 8,
   "id": "ace7b705-87d6-4c87-8099-144314c5fd4a",
   "metadata": {},
   "outputs": [
    {
     "name": "stdout",
     "output_type": "stream",
     "text": [
      "start training CNN...\n",
      "cuda:0\n"
     ]
    },
    {
     "name": "stderr",
     "output_type": "stream",
     "text": [
      "  0%|          | 0/200 [00:00<?, ?it/s]"
     ]
    },
    {
     "name": "stdout",
     "output_type": "stream",
     "text": [
      "epoch is 1, train_loss is 1.400436, train_acc is 0.513301\n"
     ]
    },
    {
     "name": "stderr",
     "output_type": "stream",
     "text": [
      "  0%|          | 1/200 [00:05<19:30,  5.88s/it]"
     ]
    },
    {
     "name": "stdout",
     "output_type": "stream",
     "text": [
      "epoch is 1, test_loss is 0.999704, test_acc is 0.642837\n",
      "epoch is 2, train_loss is 0.851914, train_acc is 0.699147\n"
     ]
    },
    {
     "name": "stderr",
     "output_type": "stream",
     "text": [
      "  1%|          | 2/200 [00:11<19:22,  5.87s/it]"
     ]
    },
    {
     "name": "stdout",
     "output_type": "stream",
     "text": [
      "epoch is 2, test_loss is 0.911494, test_acc is 0.677935\n",
      "epoch is 3, train_loss is 0.638986, train_acc is 0.774155\n"
     ]
    },
    {
     "name": "stderr",
     "output_type": "stream",
     "text": [
      "  2%|▏         | 3/200 [00:17<19:08,  5.83s/it]"
     ]
    },
    {
     "name": "stdout",
     "output_type": "stream",
     "text": [
      "epoch is 3, test_loss is 0.875735, test_acc is 0.702688\n",
      "epoch is 4, train_loss is 0.464322, train_acc is 0.837042\n"
     ]
    },
    {
     "name": "stderr",
     "output_type": "stream",
     "text": [
      "  2%|▏         | 4/200 [00:23<18:57,  5.81s/it]"
     ]
    },
    {
     "name": "stdout",
     "output_type": "stream",
     "text": [
      "epoch is 4, test_loss is 0.852972, test_acc is 0.726792\n",
      "epoch is 5, train_loss is 0.304385, train_acc is 0.895125\n"
     ]
    },
    {
     "name": "stderr",
     "output_type": "stream",
     "text": [
      "  2%|▎         | 5/200 [00:29<18:55,  5.82s/it]"
     ]
    },
    {
     "name": "stdout",
     "output_type": "stream",
     "text": [
      "epoch is 5, test_loss is 0.953995, test_acc is 0.719118\n",
      "epoch is 6, train_loss is 0.193177, train_acc is 0.935290\n"
     ]
    },
    {
     "name": "stderr",
     "output_type": "stream",
     "text": [
      "  3%|▎         | 6/200 [00:34<18:43,  5.79s/it]"
     ]
    },
    {
     "name": "stdout",
     "output_type": "stream",
     "text": [
      "epoch is 6, test_loss is 1.043308, test_acc is 0.721657\n",
      "epoch is 7, train_loss is 0.109545, train_acc is 0.964431\n"
     ]
    },
    {
     "name": "stderr",
     "output_type": "stream",
     "text": [
      "  4%|▎         | 7/200 [00:40<18:40,  5.81s/it]"
     ]
    },
    {
     "name": "stdout",
     "output_type": "stream",
     "text": [
      "epoch is 7, test_loss is 1.176326, test_acc is 0.719612\n",
      "epoch is 8, train_loss is 0.089967, train_acc is 0.973758\n"
     ]
    },
    {
     "name": "stderr",
     "output_type": "stream",
     "text": [
      "  4%|▍         | 8/200 [00:46<18:32,  5.79s/it]"
     ]
    },
    {
     "name": "stdout",
     "output_type": "stream",
     "text": [
      "epoch is 8, test_loss is 1.178943, test_acc is 0.727597\n",
      "epoch is 9, train_loss is 0.093590, train_acc is 0.971739\n"
     ]
    },
    {
     "name": "stderr",
     "output_type": "stream",
     "text": [
      "  4%|▍         | 9/200 [00:52<18:23,  5.78s/it]"
     ]
    },
    {
     "name": "stdout",
     "output_type": "stream",
     "text": [
      "epoch is 9, test_loss is 1.120878, test_acc is 0.741257\n",
      "epoch is 10, train_loss is 0.067478, train_acc is 0.981872\n"
     ]
    },
    {
     "name": "stderr",
     "output_type": "stream",
     "text": [
      "  5%|▌         | 10/200 [00:58<18:17,  5.78s/it]"
     ]
    },
    {
     "name": "stdout",
     "output_type": "stream",
     "text": [
      "epoch is 10, test_loss is 1.107658, test_acc is 0.736834\n",
      "epoch is 11, train_loss is 0.076887, train_acc is 0.980636\n"
     ]
    },
    {
     "name": "stderr",
     "output_type": "stream",
     "text": [
      "  6%|▌         | 11/200 [01:03<18:16,  5.80s/it]"
     ]
    },
    {
     "name": "stdout",
     "output_type": "stream",
     "text": [
      "epoch is 11, test_loss is 1.207739, test_acc is 0.736587\n",
      "epoch is 12, train_loss is 0.082316, train_acc is 0.980418\n"
     ]
    },
    {
     "name": "stderr",
     "output_type": "stream",
     "text": [
      "  6%|▌         | 12/200 [01:09<18:08,  5.79s/it]"
     ]
    },
    {
     "name": "stdout",
     "output_type": "stream",
     "text": [
      "epoch is 12, test_loss is 1.145849, test_acc is 0.749299\n",
      "epoch is 13, train_loss is 0.005536, train_acc is 0.999542\n"
     ]
    },
    {
     "name": "stderr",
     "output_type": "stream",
     "text": [
      "  6%|▋         | 13/200 [01:16<18:40,  5.99s/it]"
     ]
    },
    {
     "name": "stdout",
     "output_type": "stream",
     "text": [
      "epoch is 13, test_loss is 1.298952, test_acc is 0.753659\n",
      "epoch is 14, train_loss is 0.001059, train_acc is 0.999980\n"
     ]
    },
    {
     "name": "stderr",
     "output_type": "stream",
     "text": [
      "  7%|▋         | 14/200 [01:23<20:07,  6.49s/it]"
     ]
    },
    {
     "name": "stdout",
     "output_type": "stream",
     "text": [
      "epoch is 14, test_loss is 1.350021, test_acc is 0.757520\n",
      "epoch is 15, train_loss is 0.000351, train_acc is 1.000000\n"
     ]
    },
    {
     "name": "stderr",
     "output_type": "stream",
     "text": [
      "  8%|▊         | 15/200 [01:31<21:06,  6.85s/it]"
     ]
    },
    {
     "name": "stdout",
     "output_type": "stream",
     "text": [
      "epoch is 15, test_loss is 1.376833, test_acc is 0.758025\n",
      "epoch is 16, train_loss is 0.000204, train_acc is 1.000000\n"
     ]
    },
    {
     "name": "stderr",
     "output_type": "stream",
     "text": [
      "  8%|▊         | 16/200 [01:39<21:52,  7.14s/it]"
     ]
    },
    {
     "name": "stdout",
     "output_type": "stream",
     "text": [
      "epoch is 16, test_loss is 1.415266, test_acc is 0.760495\n",
      "epoch is 17, train_loss is 0.000130, train_acc is 1.000000\n"
     ]
    },
    {
     "name": "stderr",
     "output_type": "stream",
     "text": [
      "  8%|▊         | 17/200 [01:46<22:13,  7.29s/it]"
     ]
    },
    {
     "name": "stdout",
     "output_type": "stream",
     "text": [
      "epoch is 17, test_loss is 1.449869, test_acc is 0.760949\n",
      "epoch is 18, train_loss is 0.000087, train_acc is 1.000000\n"
     ]
    },
    {
     "name": "stderr",
     "output_type": "stream",
     "text": [
      "  9%|▉         | 18/200 [01:54<22:22,  7.38s/it]"
     ]
    },
    {
     "name": "stdout",
     "output_type": "stream",
     "text": [
      "epoch is 18, test_loss is 1.489214, test_acc is 0.759048\n",
      "epoch is 19, train_loss is 0.000061, train_acc is 1.000000\n"
     ]
    },
    {
     "name": "stderr",
     "output_type": "stream",
     "text": [
      " 10%|▉         | 19/200 [02:02<22:35,  7.49s/it]"
     ]
    },
    {
     "name": "stdout",
     "output_type": "stream",
     "text": [
      "epoch is 19, test_loss is 1.521293, test_acc is 0.757755\n",
      "epoch is 20, train_loss is 0.000040, train_acc is 1.000000\n"
     ]
    },
    {
     "name": "stderr",
     "output_type": "stream",
     "text": [
      " 10%|█         | 20/200 [02:09<22:35,  7.53s/it]"
     ]
    },
    {
     "name": "stdout",
     "output_type": "stream",
     "text": [
      "epoch is 20, test_loss is 1.643291, test_acc is 0.751063\n",
      "epoch is 21, train_loss is 0.376093, train_acc is 0.888355\n"
     ]
    },
    {
     "name": "stderr",
     "output_type": "stream",
     "text": [
      " 10%|█         | 21/200 [02:17<22:31,  7.55s/it]"
     ]
    },
    {
     "name": "stdout",
     "output_type": "stream",
     "text": [
      "epoch is 21, test_loss is 1.118951, test_acc is 0.728728\n",
      "epoch is 22, train_loss is 0.054013, train_acc is 0.985786\n"
     ]
    },
    {
     "name": "stderr",
     "output_type": "stream",
     "text": [
      " 11%|█         | 22/200 [02:25<22:29,  7.58s/it]"
     ]
    },
    {
     "name": "stdout",
     "output_type": "stream",
     "text": [
      "epoch is 22, test_loss is 1.115747, test_acc is 0.732841\n",
      "epoch is 23, train_loss is 0.014331, train_acc is 0.996751\n"
     ]
    },
    {
     "name": "stderr",
     "output_type": "stream",
     "text": [
      " 12%|█▏        | 23/200 [02:32<22:24,  7.59s/it]"
     ]
    },
    {
     "name": "stdout",
     "output_type": "stream",
     "text": [
      "epoch is 23, test_loss is 1.259869, test_acc is 0.755268\n",
      "epoch is 24, train_loss is 0.001535, train_acc is 0.999940\n"
     ]
    },
    {
     "name": "stderr",
     "output_type": "stream",
     "text": [
      " 12%|█▏        | 24/200 [02:40<22:25,  7.65s/it]"
     ]
    },
    {
     "name": "stdout",
     "output_type": "stream",
     "text": [
      "epoch is 24, test_loss is 1.302896, test_acc is 0.761288\n",
      "epoch is 25, train_loss is 0.149973, train_acc is 0.963466\n"
     ]
    },
    {
     "name": "stderr",
     "output_type": "stream",
     "text": [
      " 12%|█▎        | 25/200 [02:47<22:08,  7.59s/it]"
     ]
    },
    {
     "name": "stdout",
     "output_type": "stream",
     "text": [
      "epoch is 25, test_loss is 1.024593, test_acc is 0.742848\n",
      "epoch is 26, train_loss is 0.066331, train_acc is 0.983099\n"
     ]
    },
    {
     "name": "stderr",
     "output_type": "stream",
     "text": [
      " 13%|█▎        | 26/200 [02:55<21:59,  7.58s/it]"
     ]
    },
    {
     "name": "stdout",
     "output_type": "stream",
     "text": [
      "epoch is 26, test_loss is 1.108725, test_acc is 0.750287\n",
      "epoch is 27, train_loss is 0.006654, train_acc is 0.999203\n"
     ]
    },
    {
     "name": "stderr",
     "output_type": "stream",
     "text": [
      " 14%|█▎        | 27/200 [03:03<21:50,  7.57s/it]"
     ]
    },
    {
     "name": "stdout",
     "output_type": "stream",
     "text": [
      "epoch is 27, test_loss is 1.240416, test_acc is 0.759915\n",
      "epoch is 28, train_loss is 0.000791, train_acc is 1.000000\n"
     ]
    },
    {
     "name": "stderr",
     "output_type": "stream",
     "text": [
      " 14%|█▍        | 28/200 [03:10<21:46,  7.60s/it]"
     ]
    },
    {
     "name": "stdout",
     "output_type": "stream",
     "text": [
      "epoch is 28, test_loss is 1.270234, test_acc is 0.764287\n",
      "epoch is 29, train_loss is 0.000294, train_acc is 1.000000\n"
     ]
    },
    {
     "name": "stderr",
     "output_type": "stream",
     "text": [
      " 14%|█▍        | 29/200 [03:18<21:33,  7.57s/it]"
     ]
    },
    {
     "name": "stdout",
     "output_type": "stream",
     "text": [
      "epoch is 29, test_loss is 1.323691, test_acc is 0.766119\n",
      "epoch is 30, train_loss is 0.000157, train_acc is 1.000000\n"
     ]
    },
    {
     "name": "stderr",
     "output_type": "stream",
     "text": [
      " 15%|█▌        | 30/200 [03:25<21:28,  7.58s/it]"
     ]
    },
    {
     "name": "stdout",
     "output_type": "stream",
     "text": [
      "epoch is 30, test_loss is 1.353006, test_acc is 0.766550\n",
      "epoch is 31, train_loss is 0.000093, train_acc is 1.000000\n"
     ]
    },
    {
     "name": "stderr",
     "output_type": "stream",
     "text": [
      " 16%|█▌        | 31/200 [03:33<21:19,  7.57s/it]"
     ]
    },
    {
     "name": "stdout",
     "output_type": "stream",
     "text": [
      "epoch is 31, test_loss is 1.405423, test_acc is 0.764338\n",
      "epoch is 32, train_loss is 0.000057, train_acc is 1.000000\n"
     ]
    },
    {
     "name": "stderr",
     "output_type": "stream",
     "text": [
      " 16%|█▌        | 32/200 [03:40<21:12,  7.57s/it]"
     ]
    },
    {
     "name": "stdout",
     "output_type": "stream",
     "text": [
      "epoch is 32, test_loss is 1.443512, test_acc is 0.768130\n",
      "epoch is 33, train_loss is 0.000035, train_acc is 1.000000\n"
     ]
    },
    {
     "name": "stderr",
     "output_type": "stream",
     "text": [
      " 16%|█▋        | 33/200 [03:48<21:06,  7.58s/it]"
     ]
    },
    {
     "name": "stdout",
     "output_type": "stream",
     "text": [
      "epoch is 33, test_loss is 1.502444, test_acc is 0.764206\n",
      "epoch is 34, train_loss is 0.000022, train_acc is 1.000000\n"
     ]
    },
    {
     "name": "stderr",
     "output_type": "stream",
     "text": [
      " 17%|█▋        | 34/200 [03:56<20:59,  7.59s/it]"
     ]
    },
    {
     "name": "stdout",
     "output_type": "stream",
     "text": [
      "epoch is 34, test_loss is 1.535195, test_acc is 0.765832\n",
      "epoch is 35, train_loss is 0.000014, train_acc is 1.000000\n"
     ]
    },
    {
     "name": "stderr",
     "output_type": "stream",
     "text": [
      " 18%|█▊        | 35/200 [04:03<20:46,  7.55s/it]"
     ]
    },
    {
     "name": "stdout",
     "output_type": "stream",
     "text": [
      "epoch is 35, test_loss is 1.581991, test_acc is 0.765286\n",
      "epoch is 36, train_loss is 0.000008, train_acc is 1.000000\n"
     ]
    },
    {
     "name": "stderr",
     "output_type": "stream",
     "text": [
      " 18%|█▊        | 36/200 [04:11<20:34,  7.53s/it]"
     ]
    },
    {
     "name": "stdout",
     "output_type": "stream",
     "text": [
      "epoch is 36, test_loss is 1.636910, test_acc is 0.765906\n",
      "epoch is 37, train_loss is 0.000005, train_acc is 1.000000\n"
     ]
    },
    {
     "name": "stderr",
     "output_type": "stream",
     "text": [
      " 18%|█▊        | 37/200 [04:18<20:21,  7.50s/it]"
     ]
    },
    {
     "name": "stdout",
     "output_type": "stream",
     "text": [
      "epoch is 37, test_loss is 1.686573, test_acc is 0.764832\n",
      "epoch is 38, train_loss is 0.000004, train_acc is 1.000000\n"
     ]
    },
    {
     "name": "stderr",
     "output_type": "stream",
     "text": [
      " 19%|█▉        | 38/200 [04:26<20:16,  7.51s/it]"
     ]
    },
    {
     "name": "stdout",
     "output_type": "stream",
     "text": [
      "epoch is 38, test_loss is 1.720408, test_acc is 0.767216\n",
      "epoch is 39, train_loss is 0.000002, train_acc is 1.000000\n"
     ]
    },
    {
     "name": "stderr",
     "output_type": "stream",
     "text": [
      " 20%|█▉        | 39/200 [04:33<20:16,  7.56s/it]"
     ]
    },
    {
     "name": "stdout",
     "output_type": "stream",
     "text": [
      "epoch is 39, test_loss is 1.751466, test_acc is 0.765941\n",
      "epoch is 40, train_loss is 0.000002, train_acc is 1.000000\n"
     ]
    },
    {
     "name": "stderr",
     "output_type": "stream",
     "text": [
      " 20%|██        | 40/200 [04:41<20:20,  7.63s/it]"
     ]
    },
    {
     "name": "stdout",
     "output_type": "stream",
     "text": [
      "epoch is 40, test_loss is 1.782825, test_acc is 0.769997\n",
      "epoch is 41, train_loss is 0.000001, train_acc is 1.000000\n"
     ]
    },
    {
     "name": "stderr",
     "output_type": "stream",
     "text": [
      " 20%|██        | 41/200 [04:49<20:15,  7.64s/it]"
     ]
    },
    {
     "name": "stdout",
     "output_type": "stream",
     "text": [
      "epoch is 41, test_loss is 1.824674, test_acc is 0.766992\n",
      "epoch is 42, train_loss is 0.253359, train_acc is 0.935276\n"
     ]
    },
    {
     "name": "stderr",
     "output_type": "stream",
     "text": [
      " 21%|██        | 42/200 [04:56<19:57,  7.58s/it]"
     ]
    },
    {
     "name": "stdout",
     "output_type": "stream",
     "text": [
      "epoch is 42, test_loss is 1.075566, test_acc is 0.744474\n",
      "epoch is 43, train_loss is 0.026800, train_acc is 0.993529\n"
     ]
    },
    {
     "name": "stderr",
     "output_type": "stream",
     "text": [
      " 22%|██▏       | 43/200 [05:04<19:43,  7.54s/it]"
     ]
    },
    {
     "name": "stdout",
     "output_type": "stream",
     "text": [
      "epoch is 43, test_loss is 1.379749, test_acc is 0.729940\n",
      "epoch is 44, train_loss is 0.052547, train_acc is 0.985111\n"
     ]
    },
    {
     "name": "stderr",
     "output_type": "stream",
     "text": [
      " 22%|██▏       | 44/200 [05:11<19:36,  7.54s/it]"
     ]
    },
    {
     "name": "stdout",
     "output_type": "stream",
     "text": [
      "epoch is 44, test_loss is 1.153049, test_acc is 0.754538\n",
      "epoch is 45, train_loss is 0.005456, train_acc is 0.999004\n"
     ]
    },
    {
     "name": "stderr",
     "output_type": "stream",
     "text": [
      " 22%|██▎       | 45/200 [05:18<19:22,  7.50s/it]"
     ]
    },
    {
     "name": "stdout",
     "output_type": "stream",
     "text": [
      "epoch is 45, test_loss is 1.296464, test_acc is 0.762138\n",
      "epoch is 46, train_loss is 0.000799, train_acc is 0.999960\n"
     ]
    },
    {
     "name": "stderr",
     "output_type": "stream",
     "text": [
      " 23%|██▎       | 46/200 [05:25<18:47,  7.32s/it]"
     ]
    },
    {
     "name": "stdout",
     "output_type": "stream",
     "text": [
      "epoch is 46, test_loss is 1.343937, test_acc is 0.767837\n",
      "epoch is 47, train_loss is 0.000228, train_acc is 1.000000\n"
     ]
    },
    {
     "name": "stderr",
     "output_type": "stream",
     "text": [
      " 24%|██▎       | 47/200 [05:31<17:31,  6.87s/it]"
     ]
    },
    {
     "name": "stdout",
     "output_type": "stream",
     "text": [
      "epoch is 47, test_loss is 1.408996, test_acc is 0.765401\n",
      "epoch is 48, train_loss is 0.000118, train_acc is 1.000000\n"
     ]
    },
    {
     "name": "stderr",
     "output_type": "stream",
     "text": [
      " 24%|██▍       | 48/200 [05:37<16:32,  6.53s/it]"
     ]
    },
    {
     "name": "stdout",
     "output_type": "stream",
     "text": [
      "epoch is 48, test_loss is 1.431518, test_acc is 0.768848\n",
      "epoch is 49, train_loss is 0.000061, train_acc is 1.000000\n"
     ]
    },
    {
     "name": "stderr",
     "output_type": "stream",
     "text": [
      " 24%|██▍       | 49/200 [05:43<15:47,  6.27s/it]"
     ]
    },
    {
     "name": "stdout",
     "output_type": "stream",
     "text": [
      "epoch is 49, test_loss is 1.475832, test_acc is 0.768658\n",
      "epoch is 50, train_loss is 0.000040, train_acc is 1.000000\n"
     ]
    },
    {
     "name": "stderr",
     "output_type": "stream",
     "text": [
      " 25%|██▌       | 50/200 [05:48<15:13,  6.09s/it]"
     ]
    },
    {
     "name": "stdout",
     "output_type": "stream",
     "text": [
      "epoch is 50, test_loss is 1.508234, test_acc is 0.770307\n",
      "epoch is 51, train_loss is 0.000024, train_acc is 1.000000\n"
     ]
    },
    {
     "name": "stderr",
     "output_type": "stream",
     "text": [
      " 26%|██▌       | 51/200 [05:54<14:51,  5.98s/it]"
     ]
    },
    {
     "name": "stdout",
     "output_type": "stream",
     "text": [
      "epoch is 51, test_loss is 1.561962, test_acc is 0.768313\n",
      "epoch is 52, train_loss is 0.000014, train_acc is 1.000000\n"
     ]
    },
    {
     "name": "stderr",
     "output_type": "stream",
     "text": [
      " 26%|██▌       | 52/200 [06:00<14:31,  5.89s/it]"
     ]
    },
    {
     "name": "stdout",
     "output_type": "stream",
     "text": [
      "epoch is 52, test_loss is 1.591966, test_acc is 0.770967\n",
      "epoch is 53, train_loss is 0.000008, train_acc is 1.000000\n"
     ]
    },
    {
     "name": "stderr",
     "output_type": "stream",
     "text": [
      " 26%|██▋       | 53/200 [06:05<14:16,  5.82s/it]"
     ]
    },
    {
     "name": "stdout",
     "output_type": "stream",
     "text": [
      "epoch is 53, test_loss is 1.656441, test_acc is 0.770014\n",
      "epoch is 54, train_loss is 0.000005, train_acc is 1.000000\n"
     ]
    },
    {
     "name": "stderr",
     "output_type": "stream",
     "text": [
      " 27%|██▋       | 54/200 [06:11<14:06,  5.80s/it]"
     ]
    },
    {
     "name": "stdout",
     "output_type": "stream",
     "text": [
      "epoch is 54, test_loss is 1.701778, test_acc is 0.771347\n",
      "epoch is 55, train_loss is 0.000003, train_acc is 1.000000\n"
     ]
    },
    {
     "name": "stderr",
     "output_type": "stream",
     "text": [
      " 28%|██▊       | 55/200 [06:17<13:55,  5.76s/it]"
     ]
    },
    {
     "name": "stdout",
     "output_type": "stream",
     "text": [
      "epoch is 55, test_loss is 1.765428, test_acc is 0.768681\n",
      "epoch is 56, train_loss is 0.000002, train_acc is 1.000000\n"
     ]
    },
    {
     "name": "stderr",
     "output_type": "stream",
     "text": [
      " 28%|██▊       | 56/200 [06:22<13:45,  5.73s/it]"
     ]
    },
    {
     "name": "stdout",
     "output_type": "stream",
     "text": [
      "epoch is 56, test_loss is 1.813313, test_acc is 0.770973\n",
      "epoch is 57, train_loss is 0.000001, train_acc is 1.000000\n"
     ]
    },
    {
     "name": "stderr",
     "output_type": "stream",
     "text": [
      " 28%|██▊       | 57/200 [06:28<13:39,  5.73s/it]"
     ]
    },
    {
     "name": "stdout",
     "output_type": "stream",
     "text": [
      "epoch is 57, test_loss is 1.824978, test_acc is 0.771249\n",
      "epoch is 58, train_loss is 0.000001, train_acc is 1.000000\n"
     ]
    },
    {
     "name": "stderr",
     "output_type": "stream",
     "text": [
      " 29%|██▉       | 58/200 [06:34<13:33,  5.73s/it]"
     ]
    },
    {
     "name": "stdout",
     "output_type": "stream",
     "text": [
      "epoch is 58, test_loss is 1.871390, test_acc is 0.771944\n",
      "epoch is 59, train_loss is 0.157784, train_acc is 0.965196\n"
     ]
    },
    {
     "name": "stderr",
     "output_type": "stream",
     "text": [
      " 30%|██▉       | 59/200 [06:40<13:41,  5.82s/it]"
     ]
    },
    {
     "name": "stdout",
     "output_type": "stream",
     "text": [
      "epoch is 59, test_loss is 0.976100, test_acc is 0.675017\n",
      "epoch is 60, train_loss is 0.080866, train_acc is 0.974646\n"
     ]
    },
    {
     "name": "stderr",
     "output_type": "stream",
     "text": [
      " 30%|███       | 60/200 [06:46<13:29,  5.78s/it]"
     ]
    },
    {
     "name": "stdout",
     "output_type": "stream",
     "text": [
      "epoch is 60, test_loss is 1.308876, test_acc is 0.736219\n",
      "epoch is 61, train_loss is 0.026074, train_acc is 0.993152\n"
     ]
    },
    {
     "name": "stderr",
     "output_type": "stream",
     "text": [
      " 30%|███       | 61/200 [06:51<13:19,  5.75s/it]"
     ]
    },
    {
     "name": "stdout",
     "output_type": "stream",
     "text": [
      "epoch is 61, test_loss is 1.432223, test_acc is 0.738097\n",
      "epoch is 62, train_loss is 0.041957, train_acc is 0.988996\n"
     ]
    },
    {
     "name": "stderr",
     "output_type": "stream",
     "text": [
      " 31%|███       | 62/200 [06:57<13:13,  5.75s/it]"
     ]
    },
    {
     "name": "stdout",
     "output_type": "stream",
     "text": [
      "epoch is 62, test_loss is 1.744690, test_acc is 0.668066\n",
      "epoch is 63, train_loss is 0.021765, train_acc is 0.993491\n"
     ]
    },
    {
     "name": "stderr",
     "output_type": "stream",
     "text": [
      " 32%|███▏      | 63/200 [07:03<13:11,  5.77s/it]"
     ]
    },
    {
     "name": "stdout",
     "output_type": "stream",
     "text": [
      "epoch is 63, test_loss is 1.457896, test_acc is 0.746134\n",
      "epoch is 64, train_loss is 0.055764, train_acc is 0.986567\n"
     ]
    },
    {
     "name": "stderr",
     "output_type": "stream",
     "text": [
      " 32%|███▏      | 64/200 [07:09<13:03,  5.76s/it]"
     ]
    },
    {
     "name": "stdout",
     "output_type": "stream",
     "text": [
      "epoch is 64, test_loss is 1.146339, test_acc is 0.765797\n",
      "epoch is 65, train_loss is 0.002648, train_acc is 0.999671\n"
     ]
    },
    {
     "name": "stderr",
     "output_type": "stream",
     "text": [
      " 32%|███▎      | 65/200 [07:14<12:56,  5.75s/it]"
     ]
    },
    {
     "name": "stdout",
     "output_type": "stream",
     "text": [
      "epoch is 65, test_loss is 1.363098, test_acc is 0.759231\n",
      "epoch is 66, train_loss is 0.070654, train_acc is 0.983185\n"
     ]
    },
    {
     "name": "stderr",
     "output_type": "stream",
     "text": [
      " 33%|███▎      | 66/200 [07:20<12:47,  5.73s/it]"
     ]
    },
    {
     "name": "stdout",
     "output_type": "stream",
     "text": [
      "epoch is 66, test_loss is 0.913237, test_acc is 0.749730\n",
      "epoch is 67, train_loss is 0.012083, train_acc is 0.997797\n"
     ]
    },
    {
     "name": "stderr",
     "output_type": "stream",
     "text": [
      " 34%|███▎      | 67/200 [07:27<13:51,  6.25s/it]"
     ]
    },
    {
     "name": "stdout",
     "output_type": "stream",
     "text": [
      "epoch is 67, test_loss is 1.339038, test_acc is 0.757726\n",
      "epoch is 68, train_loss is 0.043048, train_acc is 0.989517\n"
     ]
    },
    {
     "name": "stderr",
     "output_type": "stream",
     "text": [
      " 34%|███▍      | 68/200 [07:35<14:34,  6.63s/it]"
     ]
    },
    {
     "name": "stdout",
     "output_type": "stream",
     "text": [
      "epoch is 68, test_loss is 1.132654, test_acc is 0.767475\n",
      "epoch is 69, train_loss is 0.043621, train_acc is 0.990214\n"
     ]
    },
    {
     "name": "stderr",
     "output_type": "stream",
     "text": [
      " 34%|███▍      | 69/200 [07:43<15:07,  6.93s/it]"
     ]
    },
    {
     "name": "stdout",
     "output_type": "stream",
     "text": [
      "epoch is 69, test_loss is 1.097432, test_acc is 0.760960\n",
      "epoch is 70, train_loss is 0.003574, train_acc is 0.999701\n"
     ]
    },
    {
     "name": "stderr",
     "output_type": "stream",
     "text": [
      " 35%|███▌      | 70/200 [07:50<15:33,  7.18s/it]"
     ]
    },
    {
     "name": "stdout",
     "output_type": "stream",
     "text": [
      "epoch is 70, test_loss is 1.321686, test_acc is 0.764344\n",
      "epoch is 71, train_loss is 0.000405, train_acc is 1.000000\n"
     ]
    },
    {
     "name": "stderr",
     "output_type": "stream",
     "text": [
      " 36%|███▌      | 71/200 [07:58<15:42,  7.31s/it]"
     ]
    },
    {
     "name": "stdout",
     "output_type": "stream",
     "text": [
      "epoch is 71, test_loss is 1.341157, test_acc is 0.770617\n",
      "epoch is 72, train_loss is 0.000133, train_acc is 1.000000\n"
     ]
    },
    {
     "name": "stderr",
     "output_type": "stream",
     "text": [
      " 36%|███▌      | 72/200 [08:05<15:43,  7.37s/it]"
     ]
    },
    {
     "name": "stdout",
     "output_type": "stream",
     "text": [
      "epoch is 72, test_loss is 1.380207, test_acc is 0.772691\n",
      "epoch is 73, train_loss is 0.000075, train_acc is 1.000000\n"
     ]
    },
    {
     "name": "stderr",
     "output_type": "stream",
     "text": [
      " 36%|███▋      | 73/200 [08:13<15:34,  7.36s/it]"
     ]
    },
    {
     "name": "stdout",
     "output_type": "stream",
     "text": [
      "epoch is 73, test_loss is 1.440900, test_acc is 0.773598\n",
      "epoch is 74, train_loss is 0.000043, train_acc is 1.000000\n"
     ]
    },
    {
     "name": "stderr",
     "output_type": "stream",
     "text": [
      " 37%|███▋      | 74/200 [08:19<14:38,  6.97s/it]"
     ]
    },
    {
     "name": "stdout",
     "output_type": "stream",
     "text": [
      "epoch is 74, test_loss is 1.487371, test_acc is 0.770830\n",
      "epoch is 75, train_loss is 0.000026, train_acc is 1.000000\n"
     ]
    },
    {
     "name": "stderr",
     "output_type": "stream",
     "text": [
      " 38%|███▊      | 75/200 [08:25<13:45,  6.60s/it]"
     ]
    },
    {
     "name": "stdout",
     "output_type": "stream",
     "text": [
      "epoch is 75, test_loss is 1.538396, test_acc is 0.772932\n",
      "epoch is 76, train_loss is 0.000015, train_acc is 1.000000\n"
     ]
    },
    {
     "name": "stderr",
     "output_type": "stream",
     "text": [
      " 38%|███▊      | 76/200 [08:30<13:03,  6.32s/it]"
     ]
    },
    {
     "name": "stdout",
     "output_type": "stream",
     "text": [
      "epoch is 76, test_loss is 1.588393, test_acc is 0.773196\n",
      "epoch is 77, train_loss is 0.000009, train_acc is 1.000000\n"
     ]
    },
    {
     "name": "stderr",
     "output_type": "stream",
     "text": [
      " 38%|███▊      | 77/200 [08:36<12:31,  6.11s/it]"
     ]
    },
    {
     "name": "stdout",
     "output_type": "stream",
     "text": [
      "epoch is 77, test_loss is 1.635371, test_acc is 0.771525\n",
      "epoch is 78, train_loss is 0.000006, train_acc is 1.000000\n"
     ]
    },
    {
     "name": "stderr",
     "output_type": "stream",
     "text": [
      " 39%|███▉      | 78/200 [08:42<12:10,  5.99s/it]"
     ]
    },
    {
     "name": "stdout",
     "output_type": "stream",
     "text": [
      "epoch is 78, test_loss is 1.673647, test_acc is 0.775741\n",
      "epoch is 79, train_loss is 0.000003, train_acc is 1.000000\n"
     ]
    },
    {
     "name": "stderr",
     "output_type": "stream",
     "text": [
      " 40%|███▉      | 79/200 [08:47<11:54,  5.90s/it]"
     ]
    },
    {
     "name": "stdout",
     "output_type": "stream",
     "text": [
      "epoch is 79, test_loss is 1.719780, test_acc is 0.774661\n",
      "epoch is 80, train_loss is 0.000002, train_acc is 1.000000\n"
     ]
    },
    {
     "name": "stderr",
     "output_type": "stream",
     "text": [
      " 40%|████      | 80/200 [08:53<11:40,  5.83s/it]"
     ]
    },
    {
     "name": "stdout",
     "output_type": "stream",
     "text": [
      "epoch is 80, test_loss is 1.808954, test_acc is 0.772162\n",
      "epoch is 81, train_loss is 0.000002, train_acc is 1.000000\n"
     ]
    },
    {
     "name": "stderr",
     "output_type": "stream",
     "text": [
      " 40%|████      | 81/200 [08:59<11:35,  5.84s/it]"
     ]
    },
    {
     "name": "stdout",
     "output_type": "stream",
     "text": [
      "epoch is 81, test_loss is 1.783317, test_acc is 0.776729\n",
      "epoch is 82, train_loss is 0.000001, train_acc is 1.000000\n"
     ]
    },
    {
     "name": "stderr",
     "output_type": "stream",
     "text": [
      " 41%|████      | 82/200 [09:05<11:23,  5.79s/it]"
     ]
    },
    {
     "name": "stdout",
     "output_type": "stream",
     "text": [
      "epoch is 82, test_loss is 1.785938, test_acc is 0.774029\n",
      "epoch is 83, train_loss is 0.000001, train_acc is 1.000000\n"
     ]
    },
    {
     "name": "stderr",
     "output_type": "stream",
     "text": [
      " 42%|████▏     | 83/200 [09:10<11:12,  5.75s/it]"
     ]
    },
    {
     "name": "stdout",
     "output_type": "stream",
     "text": [
      "epoch is 83, test_loss is 1.793120, test_acc is 0.772156\n",
      "epoch is 84, train_loss is 0.000001, train_acc is 1.000000\n"
     ]
    },
    {
     "name": "stderr",
     "output_type": "stream",
     "text": [
      " 42%|████▏     | 84/200 [09:16<11:04,  5.73s/it]"
     ]
    },
    {
     "name": "stdout",
     "output_type": "stream",
     "text": [
      "epoch is 84, test_loss is 1.821185, test_acc is 0.772966\n",
      "epoch is 85, train_loss is 0.000001, train_acc is 1.000000\n"
     ]
    },
    {
     "name": "stderr",
     "output_type": "stream",
     "text": [
      " 42%|████▎     | 85/200 [09:22<11:12,  5.85s/it]"
     ]
    },
    {
     "name": "stdout",
     "output_type": "stream",
     "text": [
      "epoch is 85, test_loss is 1.822728, test_acc is 0.774420\n",
      "epoch is 86, train_loss is 0.000001, train_acc is 1.000000\n"
     ]
    },
    {
     "name": "stderr",
     "output_type": "stream",
     "text": [
      " 43%|████▎     | 86/200 [09:28<11:16,  5.93s/it]"
     ]
    },
    {
     "name": "stdout",
     "output_type": "stream",
     "text": [
      "epoch is 86, test_loss is 1.827098, test_acc is 0.774874\n",
      "epoch is 87, train_loss is 0.000001, train_acc is 1.000000\n"
     ]
    },
    {
     "name": "stderr",
     "output_type": "stream",
     "text": [
      " 44%|████▎     | 87/200 [09:34<11:20,  6.02s/it]"
     ]
    },
    {
     "name": "stdout",
     "output_type": "stream",
     "text": [
      "epoch is 87, test_loss is 1.846659, test_acc is 0.774960\n",
      "epoch is 88, train_loss is 0.000000, train_acc is 1.000000\n"
     ]
    },
    {
     "name": "stderr",
     "output_type": "stream",
     "text": [
      " 44%|████▍     | 88/200 [09:40<11:04,  5.94s/it]"
     ]
    },
    {
     "name": "stdout",
     "output_type": "stream",
     "text": [
      "epoch is 88, test_loss is 1.864760, test_acc is 0.774787\n",
      "epoch is 89, train_loss is 0.000000, train_acc is 1.000000\n"
     ]
    },
    {
     "name": "stderr",
     "output_type": "stream",
     "text": [
      " 44%|████▍     | 89/200 [09:46<10:56,  5.92s/it]"
     ]
    },
    {
     "name": "stdout",
     "output_type": "stream",
     "text": [
      "epoch is 89, test_loss is 1.904614, test_acc is 0.774632\n",
      "epoch is 90, train_loss is 0.000000, train_acc is 1.000000\n"
     ]
    },
    {
     "name": "stderr",
     "output_type": "stream",
     "text": [
      " 45%|████▌     | 90/200 [09:52<10:46,  5.88s/it]"
     ]
    },
    {
     "name": "stdout",
     "output_type": "stream",
     "text": [
      "epoch is 90, test_loss is 1.908303, test_acc is 0.775701\n",
      "epoch is 91, train_loss is 0.000000, train_acc is 1.000000\n"
     ]
    },
    {
     "name": "stderr",
     "output_type": "stream",
     "text": [
      " 46%|████▌     | 91/200 [09:58<10:37,  5.85s/it]"
     ]
    },
    {
     "name": "stdout",
     "output_type": "stream",
     "text": [
      "epoch is 91, test_loss is 1.931357, test_acc is 0.775115\n",
      "epoch is 92, train_loss is 0.000000, train_acc is 1.000000\n"
     ]
    },
    {
     "name": "stderr",
     "output_type": "stream",
     "text": [
      " 46%|████▌     | 92/200 [10:03<10:29,  5.83s/it]"
     ]
    },
    {
     "name": "stdout",
     "output_type": "stream",
     "text": [
      "epoch is 92, test_loss is 1.927344, test_acc is 0.775052\n",
      "epoch is 93, train_loss is 0.000000, train_acc is 1.000000\n"
     ]
    },
    {
     "name": "stderr",
     "output_type": "stream",
     "text": [
      " 46%|████▋     | 93/200 [10:09<10:20,  5.80s/it]"
     ]
    },
    {
     "name": "stdout",
     "output_type": "stream",
     "text": [
      "epoch is 93, test_loss is 1.964731, test_acc is 0.774563\n",
      "epoch is 94, train_loss is 0.000000, train_acc is 1.000000\n"
     ]
    },
    {
     "name": "stderr",
     "output_type": "stream",
     "text": [
      " 47%|████▋     | 94/200 [10:15<10:14,  5.80s/it]"
     ]
    },
    {
     "name": "stdout",
     "output_type": "stream",
     "text": [
      "epoch is 94, test_loss is 1.957984, test_acc is 0.775707\n",
      "epoch is 95, train_loss is 0.000000, train_acc is 1.000000\n"
     ]
    },
    {
     "name": "stderr",
     "output_type": "stream",
     "text": [
      " 48%|████▊     | 95/200 [10:21<10:07,  5.78s/it]"
     ]
    },
    {
     "name": "stdout",
     "output_type": "stream",
     "text": [
      "epoch is 95, test_loss is 1.980284, test_acc is 0.772691\n",
      "epoch is 96, train_loss is 0.000000, train_acc is 1.000000\n"
     ]
    },
    {
     "name": "stderr",
     "output_type": "stream",
     "text": [
      " 48%|████▊     | 96/200 [10:26<10:02,  5.79s/it]"
     ]
    },
    {
     "name": "stdout",
     "output_type": "stream",
     "text": [
      "epoch is 96, test_loss is 1.979540, test_acc is 0.775230\n",
      "epoch is 97, train_loss is 0.000000, train_acc is 1.000000\n"
     ]
    },
    {
     "name": "stderr",
     "output_type": "stream",
     "text": [
      " 48%|████▊     | 97/200 [10:32<09:55,  5.78s/it]"
     ]
    },
    {
     "name": "stdout",
     "output_type": "stream",
     "text": [
      "epoch is 97, test_loss is 1.993372, test_acc is 0.775678\n",
      "epoch is 98, train_loss is 0.000000, train_acc is 1.000000\n"
     ]
    },
    {
     "name": "stderr",
     "output_type": "stream",
     "text": [
      " 49%|████▉     | 98/200 [10:38<09:50,  5.79s/it]"
     ]
    },
    {
     "name": "stdout",
     "output_type": "stream",
     "text": [
      "epoch is 98, test_loss is 2.021000, test_acc is 0.775500\n",
      "epoch is 99, train_loss is 0.000000, train_acc is 1.000000\n"
     ]
    },
    {
     "name": "stderr",
     "output_type": "stream",
     "text": [
      " 50%|████▉     | 99/200 [10:44<09:43,  5.78s/it]"
     ]
    },
    {
     "name": "stdout",
     "output_type": "stream",
     "text": [
      "epoch is 99, test_loss is 2.029146, test_acc is 0.774609\n",
      "epoch is 100, train_loss is 0.000000, train_acc is 1.000000\n"
     ]
    },
    {
     "name": "stderr",
     "output_type": "stream",
     "text": [
      " 50%|█████     | 100/200 [10:50<09:42,  5.83s/it]"
     ]
    },
    {
     "name": "stdout",
     "output_type": "stream",
     "text": [
      "epoch is 100, test_loss is 2.027597, test_acc is 0.776247\n",
      "epoch is 101, train_loss is 0.000000, train_acc is 1.000000\n"
     ]
    },
    {
     "name": "stderr",
     "output_type": "stream",
     "text": [
      " 50%|█████     | 101/200 [10:56<09:38,  5.84s/it]"
     ]
    },
    {
     "name": "stdout",
     "output_type": "stream",
     "text": [
      "epoch is 101, test_loss is 2.023080, test_acc is 0.777252\n",
      "epoch is 102, train_loss is 0.000000, train_acc is 1.000000\n"
     ]
    },
    {
     "name": "stderr",
     "output_type": "stream",
     "text": [
      " 51%|█████     | 102/200 [11:01<09:32,  5.84s/it]"
     ]
    },
    {
     "name": "stdout",
     "output_type": "stream",
     "text": [
      "epoch is 102, test_loss is 2.015318, test_acc is 0.776327\n",
      "epoch is 103, train_loss is 0.000000, train_acc is 1.000000\n"
     ]
    },
    {
     "name": "stderr",
     "output_type": "stream",
     "text": [
      " 52%|█████▏    | 103/200 [11:07<09:26,  5.84s/it]"
     ]
    },
    {
     "name": "stdout",
     "output_type": "stream",
     "text": [
      "epoch is 103, test_loss is 2.022533, test_acc is 0.774454\n",
      "epoch is 104, train_loss is 0.000000, train_acc is 1.000000\n"
     ]
    },
    {
     "name": "stderr",
     "output_type": "stream",
     "text": [
      " 52%|█████▏    | 104/200 [11:13<09:20,  5.84s/it]"
     ]
    },
    {
     "name": "stdout",
     "output_type": "stream",
     "text": [
      "epoch is 104, test_loss is 2.021603, test_acc is 0.775942\n",
      "epoch is 105, train_loss is 0.000000, train_acc is 1.000000\n"
     ]
    },
    {
     "name": "stderr",
     "output_type": "stream",
     "text": [
      " 52%|█████▎    | 105/200 [11:19<09:16,  5.86s/it]"
     ]
    },
    {
     "name": "stdout",
     "output_type": "stream",
     "text": [
      "epoch is 105, test_loss is 2.015762, test_acc is 0.776086\n",
      "epoch is 106, train_loss is 0.000000, train_acc is 1.000000\n"
     ]
    },
    {
     "name": "stderr",
     "output_type": "stream",
     "text": [
      " 53%|█████▎    | 106/200 [11:25<09:12,  5.88s/it]"
     ]
    },
    {
     "name": "stdout",
     "output_type": "stream",
     "text": [
      "epoch is 106, test_loss is 2.020714, test_acc is 0.776603\n",
      "epoch is 107, train_loss is 0.000000, train_acc is 1.000000\n"
     ]
    },
    {
     "name": "stderr",
     "output_type": "stream",
     "text": [
      " 54%|█████▎    | 107/200 [11:31<09:03,  5.84s/it]"
     ]
    },
    {
     "name": "stdout",
     "output_type": "stream",
     "text": [
      "epoch is 107, test_loss is 2.032459, test_acc is 0.776517\n",
      "epoch is 108, train_loss is 0.000000, train_acc is 1.000000\n"
     ]
    },
    {
     "name": "stderr",
     "output_type": "stream",
     "text": [
      " 54%|█████▍    | 108/200 [11:37<08:59,  5.86s/it]"
     ]
    },
    {
     "name": "stdout",
     "output_type": "stream",
     "text": [
      "epoch is 108, test_loss is 2.035732, test_acc is 0.775867\n",
      "epoch is 109, train_loss is 0.000000, train_acc is 1.000000\n"
     ]
    },
    {
     "name": "stderr",
     "output_type": "stream",
     "text": [
      " 55%|█████▍    | 109/200 [11:42<08:51,  5.84s/it]"
     ]
    },
    {
     "name": "stdout",
     "output_type": "stream",
     "text": [
      "epoch is 109, test_loss is 2.020580, test_acc is 0.774920\n",
      "epoch is 110, train_loss is 0.000000, train_acc is 1.000000\n"
     ]
    },
    {
     "name": "stderr",
     "output_type": "stream",
     "text": [
      " 55%|█████▌    | 110/200 [11:48<08:47,  5.86s/it]"
     ]
    },
    {
     "name": "stdout",
     "output_type": "stream",
     "text": [
      "epoch is 110, test_loss is 2.013191, test_acc is 0.777171\n",
      "epoch is 111, train_loss is 0.000000, train_acc is 1.000000\n"
     ]
    },
    {
     "name": "stderr",
     "output_type": "stream",
     "text": [
      " 56%|█████▌    | 111/200 [11:54<08:41,  5.86s/it]"
     ]
    },
    {
     "name": "stdout",
     "output_type": "stream",
     "text": [
      "epoch is 111, test_loss is 2.012486, test_acc is 0.774064\n",
      "epoch is 112, train_loss is 0.000000, train_acc is 1.000000\n"
     ]
    },
    {
     "name": "stderr",
     "output_type": "stream",
     "text": [
      " 56%|█████▌    | 112/200 [12:00<08:33,  5.83s/it]"
     ]
    },
    {
     "name": "stdout",
     "output_type": "stream",
     "text": [
      "epoch is 112, test_loss is 2.016802, test_acc is 0.779107\n",
      "epoch is 113, train_loss is 0.000000, train_acc is 1.000000\n"
     ]
    },
    {
     "name": "stderr",
     "output_type": "stream",
     "text": [
      " 56%|█████▋    | 113/200 [12:06<08:27,  5.84s/it]"
     ]
    },
    {
     "name": "stdout",
     "output_type": "stream",
     "text": [
      "epoch is 113, test_loss is 2.036603, test_acc is 0.775712\n",
      "epoch is 114, train_loss is 0.000000, train_acc is 1.000000\n"
     ]
    },
    {
     "name": "stderr",
     "output_type": "stream",
     "text": [
      " 57%|█████▋    | 114/200 [12:12<08:23,  5.86s/it]"
     ]
    },
    {
     "name": "stdout",
     "output_type": "stream",
     "text": [
      "epoch is 114, test_loss is 2.011516, test_acc is 0.774512\n",
      "epoch is 115, train_loss is 0.000000, train_acc is 1.000000\n"
     ]
    },
    {
     "name": "stderr",
     "output_type": "stream",
     "text": [
      " 57%|█████▊    | 115/200 [12:17<08:15,  5.83s/it]"
     ]
    },
    {
     "name": "stdout",
     "output_type": "stream",
     "text": [
      "epoch is 115, test_loss is 2.025603, test_acc is 0.774098\n",
      "epoch is 116, train_loss is 0.000000, train_acc is 1.000000\n"
     ]
    },
    {
     "name": "stderr",
     "output_type": "stream",
     "text": [
      " 58%|█████▊    | 116/200 [12:23<08:11,  5.85s/it]"
     ]
    },
    {
     "name": "stdout",
     "output_type": "stream",
     "text": [
      "epoch is 116, test_loss is 2.013953, test_acc is 0.777148\n",
      "epoch is 117, train_loss is 0.000000, train_acc is 1.000000\n"
     ]
    },
    {
     "name": "stderr",
     "output_type": "stream",
     "text": [
      " 58%|█████▊    | 117/200 [12:29<08:03,  5.83s/it]"
     ]
    },
    {
     "name": "stdout",
     "output_type": "stream",
     "text": [
      "epoch is 117, test_loss is 2.025787, test_acc is 0.775580\n",
      "epoch is 118, train_loss is 0.000000, train_acc is 1.000000\n"
     ]
    },
    {
     "name": "stderr",
     "output_type": "stream",
     "text": [
      " 59%|█████▉    | 118/200 [12:35<07:56,  5.81s/it]"
     ]
    },
    {
     "name": "stdout",
     "output_type": "stream",
     "text": [
      "epoch is 118, test_loss is 2.029580, test_acc is 0.775890\n",
      "epoch is 119, train_loss is 0.000000, train_acc is 1.000000\n"
     ]
    },
    {
     "name": "stderr",
     "output_type": "stream",
     "text": [
      " 60%|█████▉    | 119/200 [12:41<07:49,  5.79s/it]"
     ]
    },
    {
     "name": "stdout",
     "output_type": "stream",
     "text": [
      "epoch is 119, test_loss is 2.020261, test_acc is 0.776999\n",
      "epoch is 120, train_loss is 0.000000, train_acc is 1.000000\n"
     ]
    },
    {
     "name": "stderr",
     "output_type": "stream",
     "text": [
      " 60%|██████    | 120/200 [12:46<07:43,  5.79s/it]"
     ]
    },
    {
     "name": "stdout",
     "output_type": "stream",
     "text": [
      "epoch is 120, test_loss is 2.026431, test_acc is 0.774064\n",
      "epoch is 121, train_loss is 0.000000, train_acc is 1.000000\n"
     ]
    },
    {
     "name": "stderr",
     "output_type": "stream",
     "text": [
      " 60%|██████    | 121/200 [12:52<07:39,  5.81s/it]"
     ]
    },
    {
     "name": "stdout",
     "output_type": "stream",
     "text": [
      "epoch is 121, test_loss is 2.023212, test_acc is 0.777166\n",
      "epoch is 122, train_loss is 0.000000, train_acc is 1.000000\n"
     ]
    },
    {
     "name": "stderr",
     "output_type": "stream",
     "text": [
      " 61%|██████    | 122/200 [12:58<07:34,  5.82s/it]"
     ]
    },
    {
     "name": "stdout",
     "output_type": "stream",
     "text": [
      "epoch is 122, test_loss is 2.020445, test_acc is 0.777338\n",
      "epoch is 123, train_loss is 0.000000, train_acc is 1.000000\n"
     ]
    },
    {
     "name": "stderr",
     "output_type": "stream",
     "text": [
      " 62%|██████▏   | 123/200 [13:04<07:24,  5.78s/it]"
     ]
    },
    {
     "name": "stdout",
     "output_type": "stream",
     "text": [
      "epoch is 123, test_loss is 2.025796, test_acc is 0.774380\n",
      "epoch is 124, train_loss is 0.000000, train_acc is 1.000000\n"
     ]
    },
    {
     "name": "stderr",
     "output_type": "stream",
     "text": [
      " 62%|██████▏   | 124/200 [13:10<07:20,  5.80s/it]"
     ]
    },
    {
     "name": "stdout",
     "output_type": "stream",
     "text": [
      "epoch is 124, test_loss is 2.029002, test_acc is 0.775144\n",
      "epoch is 125, train_loss is 0.000000, train_acc is 1.000000\n"
     ]
    },
    {
     "name": "stderr",
     "output_type": "stream",
     "text": [
      " 62%|██████▎   | 125/200 [13:15<07:14,  5.80s/it]"
     ]
    },
    {
     "name": "stdout",
     "output_type": "stream",
     "text": [
      "epoch is 125, test_loss is 2.027454, test_acc is 0.777729\n",
      "epoch is 126, train_loss is 0.000000, train_acc is 1.000000\n"
     ]
    },
    {
     "name": "stderr",
     "output_type": "stream",
     "text": [
      " 63%|██████▎   | 126/200 [13:21<07:07,  5.78s/it]"
     ]
    },
    {
     "name": "stdout",
     "output_type": "stream",
     "text": [
      "epoch is 126, test_loss is 2.020087, test_acc is 0.778378\n",
      "epoch is 127, train_loss is 0.000000, train_acc is 1.000000\n"
     ]
    },
    {
     "name": "stderr",
     "output_type": "stream",
     "text": [
      " 64%|██████▎   | 127/200 [13:27<07:01,  5.77s/it]"
     ]
    },
    {
     "name": "stdout",
     "output_type": "stream",
     "text": [
      "epoch is 127, test_loss is 2.028045, test_acc is 0.774782\n",
      "epoch is 128, train_loss is 0.000000, train_acc is 1.000000\n"
     ]
    },
    {
     "name": "stderr",
     "output_type": "stream",
     "text": [
      " 64%|██████▍   | 128/200 [13:33<06:55,  5.78s/it]"
     ]
    },
    {
     "name": "stdout",
     "output_type": "stream",
     "text": [
      "epoch is 128, test_loss is 2.020605, test_acc is 0.774454\n",
      "epoch is 129, train_loss is 0.000000, train_acc is 1.000000\n"
     ]
    },
    {
     "name": "stderr",
     "output_type": "stream",
     "text": [
      " 64%|██████▍   | 129/200 [13:39<06:54,  5.84s/it]"
     ]
    },
    {
     "name": "stdout",
     "output_type": "stream",
     "text": [
      "epoch is 129, test_loss is 2.013388, test_acc is 0.776695\n",
      "epoch is 130, train_loss is 0.000000, train_acc is 1.000000\n"
     ]
    },
    {
     "name": "stderr",
     "output_type": "stream",
     "text": [
      " 65%|██████▌   | 130/200 [13:44<06:47,  5.83s/it]"
     ]
    },
    {
     "name": "stdout",
     "output_type": "stream",
     "text": [
      "epoch is 130, test_loss is 2.018789, test_acc is 0.774207\n",
      "epoch is 131, train_loss is 0.000000, train_acc is 1.000000\n"
     ]
    },
    {
     "name": "stderr",
     "output_type": "stream",
     "text": [
      " 66%|██████▌   | 131/200 [13:50<06:43,  5.84s/it]"
     ]
    },
    {
     "name": "stdout",
     "output_type": "stream",
     "text": [
      "epoch is 131, test_loss is 2.006921, test_acc is 0.776999\n",
      "epoch is 132, train_loss is 0.000000, train_acc is 1.000000\n"
     ]
    },
    {
     "name": "stderr",
     "output_type": "stream",
     "text": [
      " 66%|██████▌   | 132/200 [13:57<06:53,  6.08s/it]"
     ]
    },
    {
     "name": "stdout",
     "output_type": "stream",
     "text": [
      "epoch is 132, test_loss is 2.025533, test_acc is 0.776293\n",
      "epoch is 133, train_loss is 0.000000, train_acc is 1.000000\n"
     ]
    },
    {
     "name": "stderr",
     "output_type": "stream",
     "text": [
      " 66%|██████▋   | 133/200 [14:04<07:14,  6.48s/it]"
     ]
    },
    {
     "name": "stdout",
     "output_type": "stream",
     "text": [
      "epoch is 133, test_loss is 2.031115, test_acc is 0.774563\n",
      "epoch is 134, train_loss is 0.000000, train_acc is 1.000000\n"
     ]
    },
    {
     "name": "stderr",
     "output_type": "stream",
     "text": [
      " 67%|██████▋   | 134/200 [14:12<07:29,  6.82s/it]"
     ]
    },
    {
     "name": "stdout",
     "output_type": "stream",
     "text": [
      "epoch is 134, test_loss is 2.018925, test_acc is 0.775718\n",
      "epoch is 135, train_loss is 0.000000, train_acc is 1.000000\n"
     ]
    },
    {
     "name": "stderr",
     "output_type": "stream",
     "text": [
      " 68%|██████▊   | 135/200 [14:20<07:39,  7.07s/it]"
     ]
    },
    {
     "name": "stdout",
     "output_type": "stream",
     "text": [
      "epoch is 135, test_loss is 2.028648, test_acc is 0.776752\n",
      "epoch is 136, train_loss is 0.000000, train_acc is 1.000000\n"
     ]
    },
    {
     "name": "stderr",
     "output_type": "stream",
     "text": [
      " 68%|██████▊   | 136/200 [14:27<07:41,  7.21s/it]"
     ]
    },
    {
     "name": "stdout",
     "output_type": "stream",
     "text": [
      "epoch is 136, test_loss is 2.004098, test_acc is 0.779119\n",
      "epoch is 137, train_loss is 0.000000, train_acc is 1.000000\n"
     ]
    },
    {
     "name": "stderr",
     "output_type": "stream",
     "text": [
      " 68%|██████▊   | 137/200 [14:35<07:37,  7.27s/it]"
     ]
    },
    {
     "name": "stdout",
     "output_type": "stream",
     "text": [
      "epoch is 137, test_loss is 2.018006, test_acc is 0.776677\n",
      "epoch is 138, train_loss is 0.000000, train_acc is 1.000000\n"
     ]
    },
    {
     "name": "stderr",
     "output_type": "stream",
     "text": [
      " 69%|██████▉   | 138/200 [14:42<07:32,  7.30s/it]"
     ]
    },
    {
     "name": "stdout",
     "output_type": "stream",
     "text": [
      "epoch is 138, test_loss is 2.021517, test_acc is 0.776764\n",
      "epoch is 139, train_loss is 0.000000, train_acc is 1.000000\n"
     ]
    },
    {
     "name": "stderr",
     "output_type": "stream",
     "text": [
      " 70%|██████▉   | 139/200 [14:50<07:30,  7.39s/it]"
     ]
    },
    {
     "name": "stdout",
     "output_type": "stream",
     "text": [
      "epoch is 139, test_loss is 2.018131, test_acc is 0.774575\n",
      "epoch is 140, train_loss is 0.000000, train_acc is 1.000000\n"
     ]
    },
    {
     "name": "stderr",
     "output_type": "stream",
     "text": [
      " 70%|███████   | 140/200 [14:57<07:26,  7.44s/it]"
     ]
    },
    {
     "name": "stdout",
     "output_type": "stream",
     "text": [
      "epoch is 140, test_loss is 2.021834, test_acc is 0.777637\n",
      "epoch is 141, train_loss is 0.000000, train_acc is 1.000000\n"
     ]
    },
    {
     "name": "stderr",
     "output_type": "stream",
     "text": [
      " 70%|███████   | 141/200 [15:05<07:23,  7.52s/it]"
     ]
    },
    {
     "name": "stdout",
     "output_type": "stream",
     "text": [
      "epoch is 141, test_loss is 2.030831, test_acc is 0.774879\n",
      "epoch is 142, train_loss is 0.000000, train_acc is 1.000000\n"
     ]
    },
    {
     "name": "stderr",
     "output_type": "stream",
     "text": [
      " 71%|███████   | 142/200 [15:13<07:18,  7.57s/it]"
     ]
    },
    {
     "name": "stdout",
     "output_type": "stream",
     "text": [
      "epoch is 142, test_loss is 2.023268, test_acc is 0.778441\n",
      "epoch is 143, train_loss is 0.000000, train_acc is 1.000000\n"
     ]
    },
    {
     "name": "stderr",
     "output_type": "stream",
     "text": [
      " 72%|███████▏  | 143/200 [15:20<07:09,  7.53s/it]"
     ]
    },
    {
     "name": "stdout",
     "output_type": "stream",
     "text": [
      "epoch is 143, test_loss is 2.029676, test_acc is 0.774644\n",
      "epoch is 144, train_loss is 0.000000, train_acc is 1.000000\n"
     ]
    },
    {
     "name": "stderr",
     "output_type": "stream",
     "text": [
      " 72%|███████▏  | 144/200 [15:28<07:05,  7.59s/it]"
     ]
    },
    {
     "name": "stdout",
     "output_type": "stream",
     "text": [
      "epoch is 144, test_loss is 2.019370, test_acc is 0.775666\n",
      "epoch is 145, train_loss is 0.000000, train_acc is 1.000000\n"
     ]
    },
    {
     "name": "stderr",
     "output_type": "stream",
     "text": [
      " 72%|███████▎  | 145/200 [15:35<06:56,  7.58s/it]"
     ]
    },
    {
     "name": "stdout",
     "output_type": "stream",
     "text": [
      "epoch is 145, test_loss is 2.046684, test_acc is 0.774851\n",
      "epoch is 146, train_loss is 0.000000, train_acc is 1.000000\n"
     ]
    },
    {
     "name": "stderr",
     "output_type": "stream",
     "text": [
      " 73%|███████▎  | 146/200 [15:43<06:49,  7.59s/it]"
     ]
    },
    {
     "name": "stdout",
     "output_type": "stream",
     "text": [
      "epoch is 146, test_loss is 2.021271, test_acc is 0.776045\n",
      "epoch is 147, train_loss is 0.000000, train_acc is 1.000000\n"
     ]
    },
    {
     "name": "stderr",
     "output_type": "stream",
     "text": [
      " 74%|███████▎  | 147/200 [15:50<06:38,  7.52s/it]"
     ]
    },
    {
     "name": "stdout",
     "output_type": "stream",
     "text": [
      "epoch is 147, test_loss is 2.013098, test_acc is 0.776574\n",
      "epoch is 148, train_loss is 0.000000, train_acc is 1.000000\n"
     ]
    },
    {
     "name": "stderr",
     "output_type": "stream",
     "text": [
      " 74%|███████▍  | 148/200 [15:58<06:31,  7.54s/it]"
     ]
    },
    {
     "name": "stdout",
     "output_type": "stream",
     "text": [
      "epoch is 148, test_loss is 2.032875, test_acc is 0.776068\n",
      "epoch is 149, train_loss is 0.000000, train_acc is 1.000000\n"
     ]
    },
    {
     "name": "stderr",
     "output_type": "stream",
     "text": [
      " 74%|███████▍  | 149/200 [16:06<06:29,  7.63s/it]"
     ]
    },
    {
     "name": "stdout",
     "output_type": "stream",
     "text": [
      "epoch is 149, test_loss is 2.030989, test_acc is 0.773886\n",
      "epoch is 150, train_loss is 0.000000, train_acc is 1.000000\n"
     ]
    },
    {
     "name": "stderr",
     "output_type": "stream",
     "text": [
      " 75%|███████▌  | 150/200 [16:13<06:21,  7.64s/it]"
     ]
    },
    {
     "name": "stdout",
     "output_type": "stream",
     "text": [
      "epoch is 150, test_loss is 2.039031, test_acc is 0.776649\n",
      "epoch is 151, train_loss is 0.000000, train_acc is 1.000000\n"
     ]
    },
    {
     "name": "stderr",
     "output_type": "stream",
     "text": [
      " 76%|███████▌  | 151/200 [16:21<06:12,  7.60s/it]"
     ]
    },
    {
     "name": "stdout",
     "output_type": "stream",
     "text": [
      "epoch is 151, test_loss is 2.038826, test_acc is 0.775368\n",
      "epoch is 152, train_loss is 0.000000, train_acc is 1.000000\n"
     ]
    },
    {
     "name": "stderr",
     "output_type": "stream",
     "text": [
      " 76%|███████▌  | 152/200 [16:28<06:05,  7.61s/it]"
     ]
    },
    {
     "name": "stdout",
     "output_type": "stream",
     "text": [
      "epoch is 152, test_loss is 2.017761, test_acc is 0.778964\n",
      "epoch is 153, train_loss is 0.000000, train_acc is 1.000000\n"
     ]
    },
    {
     "name": "stderr",
     "output_type": "stream",
     "text": [
      " 76%|███████▋  | 153/200 [16:36<05:57,  7.60s/it]"
     ]
    },
    {
     "name": "stdout",
     "output_type": "stream",
     "text": [
      "epoch is 153, test_loss is 2.023562, test_acc is 0.776563\n",
      "epoch is 154, train_loss is 0.000000, train_acc is 1.000000\n"
     ]
    },
    {
     "name": "stderr",
     "output_type": "stream",
     "text": [
      " 77%|███████▋  | 154/200 [16:44<05:50,  7.62s/it]"
     ]
    },
    {
     "name": "stdout",
     "output_type": "stream",
     "text": [
      "epoch is 154, test_loss is 2.028359, test_acc is 0.774334\n",
      "epoch is 155, train_loss is 0.000000, train_acc is 1.000000\n"
     ]
    },
    {
     "name": "stderr",
     "output_type": "stream",
     "text": [
      " 78%|███████▊  | 155/200 [16:51<05:45,  7.67s/it]"
     ]
    },
    {
     "name": "stdout",
     "output_type": "stream",
     "text": [
      "epoch is 155, test_loss is 2.032854, test_acc is 0.775890\n",
      "epoch is 156, train_loss is 0.000000, train_acc is 1.000000\n"
     ]
    },
    {
     "name": "stderr",
     "output_type": "stream",
     "text": [
      " 78%|███████▊  | 156/200 [16:59<05:39,  7.71s/it]"
     ]
    },
    {
     "name": "stdout",
     "output_type": "stream",
     "text": [
      "epoch is 156, test_loss is 2.011124, test_acc is 0.776838\n",
      "epoch is 157, train_loss is 0.000000, train_acc is 1.000000\n"
     ]
    },
    {
     "name": "stderr",
     "output_type": "stream",
     "text": [
      " 78%|███████▊  | 157/200 [17:07<05:27,  7.62s/it]"
     ]
    },
    {
     "name": "stdout",
     "output_type": "stream",
     "text": [
      "epoch is 157, test_loss is 2.035099, test_acc is 0.775902\n",
      "epoch is 158, train_loss is 0.000000, train_acc is 1.000000\n"
     ]
    },
    {
     "name": "stderr",
     "output_type": "stream",
     "text": [
      " 79%|███████▉  | 158/200 [17:14<05:22,  7.67s/it]"
     ]
    },
    {
     "name": "stdout",
     "output_type": "stream",
     "text": [
      "epoch is 158, test_loss is 2.023808, test_acc is 0.775178\n",
      "epoch is 159, train_loss is 0.000000, train_acc is 1.000000\n"
     ]
    },
    {
     "name": "stderr",
     "output_type": "stream",
     "text": [
      " 80%|███████▉  | 159/200 [17:22<05:16,  7.71s/it]"
     ]
    },
    {
     "name": "stdout",
     "output_type": "stream",
     "text": [
      "epoch is 159, test_loss is 2.023556, test_acc is 0.777252\n",
      "epoch is 160, train_loss is 0.000000, train_acc is 1.000000\n"
     ]
    },
    {
     "name": "stderr",
     "output_type": "stream",
     "text": [
      " 80%|████████  | 160/200 [17:30<05:12,  7.81s/it]"
     ]
    },
    {
     "name": "stdout",
     "output_type": "stream",
     "text": [
      "epoch is 160, test_loss is 2.014640, test_acc is 0.778906\n",
      "epoch is 161, train_loss is 0.000000, train_acc is 1.000000\n"
     ]
    },
    {
     "name": "stderr",
     "output_type": "stream",
     "text": [
      " 80%|████████  | 161/200 [17:38<05:00,  7.71s/it]"
     ]
    },
    {
     "name": "stdout",
     "output_type": "stream",
     "text": [
      "epoch is 161, test_loss is 2.021217, test_acc is 0.777378\n",
      "epoch is 162, train_loss is 0.000000, train_acc is 1.000000\n"
     ]
    },
    {
     "name": "stderr",
     "output_type": "stream",
     "text": [
      " 81%|████████  | 162/200 [17:45<04:51,  7.67s/it]"
     ]
    },
    {
     "name": "stdout",
     "output_type": "stream",
     "text": [
      "epoch is 162, test_loss is 2.014878, test_acc is 0.775724\n",
      "epoch is 163, train_loss is 0.000000, train_acc is 1.000000\n"
     ]
    },
    {
     "name": "stderr",
     "output_type": "stream",
     "text": [
      " 82%|████████▏ | 163/200 [17:53<04:42,  7.65s/it]"
     ]
    },
    {
     "name": "stdout",
     "output_type": "stream",
     "text": [
      "epoch is 163, test_loss is 2.025419, test_acc is 0.775586\n",
      "epoch is 164, train_loss is 0.000000, train_acc is 1.000000\n"
     ]
    },
    {
     "name": "stderr",
     "output_type": "stream",
     "text": [
      " 82%|████████▏ | 164/200 [18:00<04:25,  7.39s/it]"
     ]
    },
    {
     "name": "stdout",
     "output_type": "stream",
     "text": [
      "epoch is 164, test_loss is 2.006411, test_acc is 0.777872\n",
      "epoch is 165, train_loss is 0.000000, train_acc is 1.000000\n"
     ]
    },
    {
     "name": "stderr",
     "output_type": "stream",
     "text": [
      " 82%|████████▎ | 165/200 [18:06<04:03,  6.96s/it]"
     ]
    },
    {
     "name": "stdout",
     "output_type": "stream",
     "text": [
      "epoch is 165, test_loss is 2.018958, test_acc is 0.776384\n",
      "epoch is 166, train_loss is 0.000000, train_acc is 1.000000\n"
     ]
    },
    {
     "name": "stderr",
     "output_type": "stream",
     "text": [
      " 83%|████████▎ | 166/200 [18:12<03:46,  6.66s/it]"
     ]
    },
    {
     "name": "stdout",
     "output_type": "stream",
     "text": [
      "epoch is 166, test_loss is 2.028719, test_acc is 0.774948\n",
      "epoch is 167, train_loss is 0.000000, train_acc is 1.000000\n"
     ]
    },
    {
     "name": "stderr",
     "output_type": "stream",
     "text": [
      " 84%|████████▎ | 167/200 [18:17<03:30,  6.37s/it]"
     ]
    },
    {
     "name": "stdout",
     "output_type": "stream",
     "text": [
      "epoch is 167, test_loss is 2.027200, test_acc is 0.774339\n",
      "epoch is 168, train_loss is 0.000000, train_acc is 1.000000\n"
     ]
    },
    {
     "name": "stderr",
     "output_type": "stream",
     "text": [
      " 84%|████████▍ | 168/200 [18:23<03:17,  6.18s/it]"
     ]
    },
    {
     "name": "stdout",
     "output_type": "stream",
     "text": [
      "epoch is 168, test_loss is 2.019201, test_acc is 0.775586\n",
      "epoch is 169, train_loss is 0.000000, train_acc is 1.000000\n"
     ]
    },
    {
     "name": "stderr",
     "output_type": "stream",
     "text": [
      " 84%|████████▍ | 169/200 [18:29<03:07,  6.06s/it]"
     ]
    },
    {
     "name": "stdout",
     "output_type": "stream",
     "text": [
      "epoch is 169, test_loss is 2.019476, test_acc is 0.774029\n",
      "epoch is 170, train_loss is 0.000000, train_acc is 1.000000\n"
     ]
    },
    {
     "name": "stderr",
     "output_type": "stream",
     "text": [
      " 85%|████████▌ | 170/200 [18:35<02:59,  5.99s/it]"
     ]
    },
    {
     "name": "stdout",
     "output_type": "stream",
     "text": [
      "epoch is 170, test_loss is 2.011394, test_acc is 0.777637\n",
      "epoch is 171, train_loss is 0.000000, train_acc is 1.000000\n"
     ]
    },
    {
     "name": "stderr",
     "output_type": "stream",
     "text": [
      " 86%|████████▌ | 171/200 [18:41<02:52,  5.94s/it]"
     ]
    },
    {
     "name": "stdout",
     "output_type": "stream",
     "text": [
      "epoch is 171, test_loss is 2.014727, test_acc is 0.776275\n",
      "epoch is 172, train_loss is 0.000000, train_acc is 1.000000\n"
     ]
    },
    {
     "name": "stderr",
     "output_type": "stream",
     "text": [
      " 86%|████████▌ | 172/200 [18:46<02:45,  5.90s/it]"
     ]
    },
    {
     "name": "stdout",
     "output_type": "stream",
     "text": [
      "epoch is 172, test_loss is 2.037624, test_acc is 0.775431\n",
      "epoch is 173, train_loss is 0.000000, train_acc is 1.000000\n"
     ]
    },
    {
     "name": "stderr",
     "output_type": "stream",
     "text": [
      " 86%|████████▋ | 173/200 [18:52<02:38,  5.85s/it]"
     ]
    },
    {
     "name": "stdout",
     "output_type": "stream",
     "text": [
      "epoch is 173, test_loss is 2.030605, test_acc is 0.776660\n",
      "epoch is 174, train_loss is 0.000000, train_acc is 1.000000\n"
     ]
    },
    {
     "name": "stderr",
     "output_type": "stream",
     "text": [
      " 87%|████████▋ | 174/200 [18:58<02:31,  5.82s/it]"
     ]
    },
    {
     "name": "stdout",
     "output_type": "stream",
     "text": [
      "epoch is 174, test_loss is 2.037012, test_acc is 0.774747\n",
      "epoch is 175, train_loss is 0.000000, train_acc is 1.000000\n"
     ]
    },
    {
     "name": "stderr",
     "output_type": "stream",
     "text": [
      " 88%|████████▊ | 175/200 [19:04<02:24,  5.79s/it]"
     ]
    },
    {
     "name": "stdout",
     "output_type": "stream",
     "text": [
      "epoch is 175, test_loss is 2.015725, test_acc is 0.774719\n",
      "epoch is 176, train_loss is 0.000000, train_acc is 1.000000\n"
     ]
    },
    {
     "name": "stderr",
     "output_type": "stream",
     "text": [
      " 88%|████████▊ | 176/200 [19:09<02:18,  5.78s/it]"
     ]
    },
    {
     "name": "stdout",
     "output_type": "stream",
     "text": [
      "epoch is 176, test_loss is 2.027736, test_acc is 0.776999\n",
      "epoch is 177, train_loss is 0.000000, train_acc is 1.000000\n"
     ]
    },
    {
     "name": "stderr",
     "output_type": "stream",
     "text": [
      " 88%|████████▊ | 177/200 [19:16<02:15,  5.91s/it]"
     ]
    },
    {
     "name": "stdout",
     "output_type": "stream",
     "text": [
      "epoch is 177, test_loss is 2.040487, test_acc is 0.775661\n",
      "epoch is 178, train_loss is 0.000000, train_acc is 1.000000\n"
     ]
    },
    {
     "name": "stderr",
     "output_type": "stream",
     "text": [
      " 89%|████████▉ | 178/200 [19:21<02:10,  5.92s/it]"
     ]
    },
    {
     "name": "stdout",
     "output_type": "stream",
     "text": [
      "epoch is 178, test_loss is 2.038011, test_acc is 0.776281\n",
      "epoch is 179, train_loss is 0.000000, train_acc is 1.000000\n"
     ]
    },
    {
     "name": "stderr",
     "output_type": "stream",
     "text": [
      " 90%|████████▉ | 179/200 [19:27<02:03,  5.87s/it]"
     ]
    },
    {
     "name": "stdout",
     "output_type": "stream",
     "text": [
      "epoch is 179, test_loss is 2.031284, test_acc is 0.776160\n",
      "epoch is 180, train_loss is 0.000000, train_acc is 1.000000\n"
     ]
    },
    {
     "name": "stderr",
     "output_type": "stream",
     "text": [
      " 90%|█████████ | 180/200 [19:33<01:56,  5.83s/it]"
     ]
    },
    {
     "name": "stdout",
     "output_type": "stream",
     "text": [
      "epoch is 180, test_loss is 2.018214, test_acc is 0.777045\n",
      "epoch is 181, train_loss is 0.000000, train_acc is 1.000000\n"
     ]
    },
    {
     "name": "stderr",
     "output_type": "stream",
     "text": [
      " 90%|█████████ | 181/200 [19:39<01:50,  5.83s/it]"
     ]
    },
    {
     "name": "stdout",
     "output_type": "stream",
     "text": [
      "epoch is 181, test_loss is 2.024345, test_acc is 0.777562\n",
      "epoch is 182, train_loss is 0.000000, train_acc is 1.000000\n"
     ]
    },
    {
     "name": "stderr",
     "output_type": "stream",
     "text": [
      " 91%|█████████ | 182/200 [19:45<01:45,  5.86s/it]"
     ]
    },
    {
     "name": "stdout",
     "output_type": "stream",
     "text": [
      "epoch is 182, test_loss is 2.029654, test_acc is 0.777499\n",
      "epoch is 183, train_loss is 0.000000, train_acc is 1.000000\n"
     ]
    },
    {
     "name": "stderr",
     "output_type": "stream",
     "text": [
      " 92%|█████████▏| 183/200 [19:50<01:39,  5.83s/it]"
     ]
    },
    {
     "name": "stdout",
     "output_type": "stream",
     "text": [
      "epoch is 183, test_loss is 2.018949, test_acc is 0.776608\n",
      "epoch is 184, train_loss is 0.000000, train_acc is 1.000000\n"
     ]
    },
    {
     "name": "stderr",
     "output_type": "stream",
     "text": [
      " 92%|█████████▏| 184/200 [19:56<01:33,  5.81s/it]"
     ]
    },
    {
     "name": "stdout",
     "output_type": "stream",
     "text": [
      "epoch is 184, test_loss is 2.022994, test_acc is 0.776712\n",
      "epoch is 185, train_loss is 0.000000, train_acc is 1.000000\n"
     ]
    },
    {
     "name": "stderr",
     "output_type": "stream",
     "text": [
      " 92%|█████████▎| 185/200 [20:02<01:27,  5.82s/it]"
     ]
    },
    {
     "name": "stdout",
     "output_type": "stream",
     "text": [
      "epoch is 185, test_loss is 2.025104, test_acc is 0.778240\n",
      "epoch is 186, train_loss is 0.000000, train_acc is 1.000000\n"
     ]
    },
    {
     "name": "stderr",
     "output_type": "stream",
     "text": [
      " 93%|█████████▎| 186/200 [20:08<01:21,  5.80s/it]"
     ]
    },
    {
     "name": "stdout",
     "output_type": "stream",
     "text": [
      "epoch is 186, test_loss is 2.009594, test_acc is 0.779452\n",
      "epoch is 187, train_loss is 0.000000, train_acc is 1.000000\n"
     ]
    },
    {
     "name": "stderr",
     "output_type": "stream",
     "text": [
      " 94%|█████████▎| 187/200 [20:14<01:15,  5.79s/it]"
     ]
    },
    {
     "name": "stdout",
     "output_type": "stream",
     "text": [
      "epoch is 187, test_loss is 2.022121, test_acc is 0.775356\n",
      "epoch is 188, train_loss is 0.000000, train_acc is 1.000000\n"
     ]
    },
    {
     "name": "stderr",
     "output_type": "stream",
     "text": [
      " 94%|█████████▍| 188/200 [20:19<01:09,  5.77s/it]"
     ]
    },
    {
     "name": "stdout",
     "output_type": "stream",
     "text": [
      "epoch is 188, test_loss is 2.012359, test_acc is 0.777120\n",
      "epoch is 189, train_loss is 0.000000, train_acc is 1.000000\n"
     ]
    },
    {
     "name": "stderr",
     "output_type": "stream",
     "text": [
      " 94%|█████████▍| 189/200 [20:25<01:03,  5.80s/it]"
     ]
    },
    {
     "name": "stdout",
     "output_type": "stream",
     "text": [
      "epoch is 189, test_loss is 2.013569, test_acc is 0.776827\n",
      "epoch is 190, train_loss is 0.000000, train_acc is 1.000000\n"
     ]
    },
    {
     "name": "stderr",
     "output_type": "stream",
     "text": [
      " 95%|█████████▌| 190/200 [20:32<01:00,  6.00s/it]"
     ]
    },
    {
     "name": "stdout",
     "output_type": "stream",
     "text": [
      "epoch is 190, test_loss is 2.032717, test_acc is 0.775167\n",
      "epoch is 191, train_loss is 0.000000, train_acc is 1.000000\n"
     ]
    },
    {
     "name": "stderr",
     "output_type": "stream",
     "text": [
      " 96%|█████████▌| 191/200 [20:39<00:58,  6.51s/it]"
     ]
    },
    {
     "name": "stdout",
     "output_type": "stream",
     "text": [
      "epoch is 191, test_loss is 2.025703, test_acc is 0.775264\n",
      "epoch is 192, train_loss is 0.000000, train_acc is 1.000000\n"
     ]
    },
    {
     "name": "stderr",
     "output_type": "stream",
     "text": [
      " 96%|█████████▌| 192/200 [20:47<00:55,  6.99s/it]"
     ]
    },
    {
     "name": "stdout",
     "output_type": "stream",
     "text": [
      "epoch is 192, test_loss is 2.044182, test_acc is 0.775689\n",
      "epoch is 193, train_loss is 0.000000, train_acc is 1.000000\n"
     ]
    },
    {
     "name": "stderr",
     "output_type": "stream",
     "text": [
      " 96%|█████████▋| 193/200 [20:55<00:50,  7.22s/it]"
     ]
    },
    {
     "name": "stdout",
     "output_type": "stream",
     "text": [
      "epoch is 193, test_loss is 2.021190, test_acc is 0.777545\n",
      "epoch is 194, train_loss is 0.000000, train_acc is 1.000000\n"
     ]
    },
    {
     "name": "stderr",
     "output_type": "stream",
     "text": [
      " 97%|█████████▋| 194/200 [21:03<00:44,  7.36s/it]"
     ]
    },
    {
     "name": "stdout",
     "output_type": "stream",
     "text": [
      "epoch is 194, test_loss is 2.041415, test_acc is 0.775500\n",
      "epoch is 195, train_loss is 0.000000, train_acc is 1.000000\n"
     ]
    },
    {
     "name": "stderr",
     "output_type": "stream",
     "text": [
      " 98%|█████████▊| 195/200 [21:11<00:37,  7.45s/it]"
     ]
    },
    {
     "name": "stdout",
     "output_type": "stream",
     "text": [
      "epoch is 195, test_loss is 2.024267, test_acc is 0.776764\n",
      "epoch is 196, train_loss is 0.000000, train_acc is 1.000000\n"
     ]
    },
    {
     "name": "stderr",
     "output_type": "stream",
     "text": [
      " 98%|█████████▊| 196/200 [21:18<00:30,  7.51s/it]"
     ]
    },
    {
     "name": "stdout",
     "output_type": "stream",
     "text": [
      "epoch is 196, test_loss is 2.025294, test_acc is 0.777528\n",
      "epoch is 197, train_loss is 0.000000, train_acc is 1.000000\n"
     ]
    },
    {
     "name": "stderr",
     "output_type": "stream",
     "text": [
      " 98%|█████████▊| 197/200 [21:26<00:22,  7.56s/it]"
     ]
    },
    {
     "name": "stdout",
     "output_type": "stream",
     "text": [
      "epoch is 197, test_loss is 2.019351, test_acc is 0.777229\n",
      "epoch is 198, train_loss is 0.000000, train_acc is 1.000000\n"
     ]
    },
    {
     "name": "stderr",
     "output_type": "stream",
     "text": [
      " 99%|█████████▉| 198/200 [21:34<00:15,  7.62s/it]"
     ]
    },
    {
     "name": "stdout",
     "output_type": "stream",
     "text": [
      "epoch is 198, test_loss is 2.034463, test_acc is 0.776132\n",
      "epoch is 199, train_loss is 0.000000, train_acc is 1.000000\n"
     ]
    },
    {
     "name": "stderr",
     "output_type": "stream",
     "text": [
      "100%|█████████▉| 199/200 [21:41<00:07,  7.57s/it]"
     ]
    },
    {
     "name": "stdout",
     "output_type": "stream",
     "text": [
      "epoch is 199, test_loss is 2.023935, test_acc is 0.777171\n",
      "epoch is 200, train_loss is 0.000000, train_acc is 1.000000\n"
     ]
    },
    {
     "name": "stderr",
     "output_type": "stream",
     "text": [
      "100%|██████████| 200/200 [21:49<00:00,  6.55s/it]"
     ]
    },
    {
     "name": "stdout",
     "output_type": "stream",
     "text": [
      "epoch is 200, test_loss is 2.019516, test_acc is 0.776919\n"
     ]
    },
    {
     "name": "stderr",
     "output_type": "stream",
     "text": [
      "\n"
     ]
    }
   ],
   "source": [
    "#default para RMS opt\n",
    "model = train(optimizer='RMSprop', learning_rate=1e-4, max_epochs=200, eval_freq=500, ada_opt=True, save_para=True)"
   ]
  },
  {
   "cell_type": "code",
   "execution_count": 9,
   "id": "caa9ed4b-f869-406f-951a-989a4d89fbbf",
   "metadata": {},
   "outputs": [
    {
     "name": "stdout",
     "output_type": "stream",
     "text": [
      "start training CNN...\n",
      "cuda:0\n"
     ]
    },
    {
     "name": "stderr",
     "output_type": "stream",
     "text": [
      "  0%|          | 0/200 [00:00<?, ?it/s]"
     ]
    },
    {
     "name": "stdout",
     "output_type": "stream",
     "text": [
      "epoch is 1, train_loss is 1.322207, train_acc is 0.563699\n"
     ]
    },
    {
     "name": "stderr",
     "output_type": "stream",
     "text": [
      "  0%|          | 1/200 [00:07<24:55,  7.52s/it]"
     ]
    },
    {
     "name": "stdout",
     "output_type": "stream",
     "text": [
      "epoch is 1, test_loss is 0.864261, test_acc is 0.696875\n",
      "epoch is 2, train_loss is 0.741495, train_acc is 0.739552\n"
     ]
    },
    {
     "name": "stderr",
     "output_type": "stream",
     "text": [
      "  1%|          | 2/200 [00:14<24:18,  7.37s/it]"
     ]
    },
    {
     "name": "stdout",
     "output_type": "stream",
     "text": [
      "epoch is 2, test_loss is 0.720483, test_acc is 0.747903\n",
      "epoch is 3, train_loss is 0.563654, train_acc is 0.800999\n"
     ]
    },
    {
     "name": "stderr",
     "output_type": "stream",
     "text": [
      "  2%|▏         | 3/200 [00:22<24:42,  7.52s/it]"
     ]
    },
    {
     "name": "stdout",
     "output_type": "stream",
     "text": [
      "epoch is 3, test_loss is 0.635043, test_acc is 0.786529\n",
      "epoch is 4, train_loss is 0.453482, train_acc is 0.841634\n"
     ]
    },
    {
     "name": "stderr",
     "output_type": "stream",
     "text": [
      "  2%|▏         | 4/200 [00:28<22:38,  6.93s/it]"
     ]
    },
    {
     "name": "stdout",
     "output_type": "stream",
     "text": [
      "epoch is 4, test_loss is 0.602619, test_acc is 0.798340\n",
      "epoch is 5, train_loss is 0.353823, train_acc is 0.875942\n"
     ]
    },
    {
     "name": "stderr",
     "output_type": "stream",
     "text": [
      "  2%|▎         | 5/200 [00:34<21:10,  6.52s/it]"
     ]
    },
    {
     "name": "stdout",
     "output_type": "stream",
     "text": [
      "epoch is 5, test_loss is 0.617318, test_acc is 0.802533\n",
      "epoch is 6, train_loss is 0.277168, train_acc is 0.902858\n"
     ]
    },
    {
     "name": "stderr",
     "output_type": "stream",
     "text": [
      "  3%|▎         | 6/200 [00:39<20:06,  6.22s/it]"
     ]
    },
    {
     "name": "stdout",
     "output_type": "stream",
     "text": [
      "epoch is 6, test_loss is 0.676567, test_acc is 0.791958\n",
      "epoch is 7, train_loss is 0.231766, train_acc is 0.917277\n"
     ]
    },
    {
     "name": "stderr",
     "output_type": "stream",
     "text": [
      "  4%|▎         | 7/200 [00:45<19:30,  6.07s/it]"
     ]
    },
    {
     "name": "stdout",
     "output_type": "stream",
     "text": [
      "epoch is 7, test_loss is 0.647898, test_acc is 0.806847\n",
      "epoch is 8, train_loss is 0.177472, train_acc is 0.938008\n"
     ]
    },
    {
     "name": "stderr",
     "output_type": "stream",
     "text": [
      "  4%|▍         | 8/200 [00:51<18:58,  5.93s/it]"
     ]
    },
    {
     "name": "stdout",
     "output_type": "stream",
     "text": [
      "epoch is 8, test_loss is 0.660596, test_acc is 0.811661\n",
      "epoch is 9, train_loss is 0.140511, train_acc is 0.950855\n"
     ]
    },
    {
     "name": "stderr",
     "output_type": "stream",
     "text": [
      "  4%|▍         | 9/200 [00:57<18:40,  5.86s/it]"
     ]
    },
    {
     "name": "stdout",
     "output_type": "stream",
     "text": [
      "epoch is 9, test_loss is 0.726903, test_acc is 0.814660\n",
      "epoch is 10, train_loss is 0.117698, train_acc is 0.958079\n"
     ]
    },
    {
     "name": "stderr",
     "output_type": "stream",
     "text": [
      "  5%|▌         | 10/200 [01:02<18:21,  5.80s/it]"
     ]
    },
    {
     "name": "stdout",
     "output_type": "stream",
     "text": [
      "epoch is 10, test_loss is 0.763834, test_acc is 0.809639\n",
      "epoch is 11, train_loss is 0.101308, train_acc is 0.964806\n"
     ]
    },
    {
     "name": "stderr",
     "output_type": "stream",
     "text": [
      "  6%|▌         | 11/200 [01:08<18:06,  5.75s/it]"
     ]
    },
    {
     "name": "stdout",
     "output_type": "stream",
     "text": [
      "epoch is 11, test_loss is 0.753947, test_acc is 0.818974\n",
      "epoch is 12, train_loss is 0.079618, train_acc is 0.971784\n"
     ]
    },
    {
     "name": "stderr",
     "output_type": "stream",
     "text": [
      "  6%|▌         | 12/200 [01:13<17:53,  5.71s/it]"
     ]
    },
    {
     "name": "stdout",
     "output_type": "stream",
     "text": [
      "epoch is 12, test_loss is 0.779688, test_acc is 0.826091\n",
      "epoch is 13, train_loss is 0.071712, train_acc is 0.974582\n"
     ]
    },
    {
     "name": "stderr",
     "output_type": "stream",
     "text": [
      "  6%|▋         | 13/200 [01:19<17:44,  5.69s/it]"
     ]
    },
    {
     "name": "stdout",
     "output_type": "stream",
     "text": [
      "epoch is 13, test_loss is 0.876985, test_acc is 0.818767\n",
      "epoch is 14, train_loss is 0.067660, train_acc is 0.976985\n"
     ]
    },
    {
     "name": "stderr",
     "output_type": "stream",
     "text": [
      "  7%|▋         | 14/200 [01:25<17:43,  5.72s/it]"
     ]
    },
    {
     "name": "stdout",
     "output_type": "stream",
     "text": [
      "epoch is 14, test_loss is 0.855019, test_acc is 0.824764\n",
      "epoch is 15, train_loss is 0.064217, train_acc is 0.977058\n"
     ]
    },
    {
     "name": "stderr",
     "output_type": "stream",
     "text": [
      "  8%|▊         | 15/200 [01:30<17:31,  5.68s/it]"
     ]
    },
    {
     "name": "stdout",
     "output_type": "stream",
     "text": [
      "epoch is 15, test_loss is 0.932541, test_acc is 0.814804\n",
      "epoch is 16, train_loss is 0.059305, train_acc is 0.979131\n"
     ]
    },
    {
     "name": "stderr",
     "output_type": "stream",
     "text": [
      "  8%|▊         | 16/200 [01:36<17:21,  5.66s/it]"
     ]
    },
    {
     "name": "stdout",
     "output_type": "stream",
     "text": [
      "epoch is 16, test_loss is 0.853997, test_acc is 0.823621\n",
      "epoch is 17, train_loss is 0.042396, train_acc is 0.984839\n"
     ]
    },
    {
     "name": "stderr",
     "output_type": "stream",
     "text": [
      "  8%|▊         | 17/200 [01:42<17:20,  5.68s/it]"
     ]
    },
    {
     "name": "stdout",
     "output_type": "stream",
     "text": [
      "epoch is 17, test_loss is 0.940668, test_acc is 0.824540\n",
      "epoch is 18, train_loss is 0.050456, train_acc is 0.982130\n"
     ]
    },
    {
     "name": "stderr",
     "output_type": "stream",
     "text": [
      "  9%|▉         | 18/200 [01:47<17:12,  5.67s/it]"
     ]
    },
    {
     "name": "stdout",
     "output_type": "stream",
     "text": [
      "epoch is 18, test_loss is 0.945492, test_acc is 0.821576\n",
      "epoch is 19, train_loss is 0.037503, train_acc is 0.986643\n"
     ]
    },
    {
     "name": "stderr",
     "output_type": "stream",
     "text": [
      " 10%|▉         | 19/200 [01:53<17:08,  5.68s/it]"
     ]
    },
    {
     "name": "stdout",
     "output_type": "stream",
     "text": [
      "epoch is 19, test_loss is 0.921235, test_acc is 0.826218\n",
      "epoch is 20, train_loss is 0.040923, train_acc is 0.985498\n"
     ]
    },
    {
     "name": "stderr",
     "output_type": "stream",
     "text": [
      " 10%|█         | 20/200 [01:59<17:01,  5.68s/it]"
     ]
    },
    {
     "name": "stdout",
     "output_type": "stream",
     "text": [
      "epoch is 20, test_loss is 0.932203, test_acc is 0.824236\n",
      "epoch is 21, train_loss is 0.040194, train_acc is 0.986237\n"
     ]
    },
    {
     "name": "stderr",
     "output_type": "stream",
     "text": [
      " 10%|█         | 21/200 [02:05<16:56,  5.68s/it]"
     ]
    },
    {
     "name": "stdout",
     "output_type": "stream",
     "text": [
      "epoch is 21, test_loss is 0.930699, test_acc is 0.826781\n",
      "epoch is 22, train_loss is 0.039493, train_acc is 0.986363\n"
     ]
    },
    {
     "name": "stderr",
     "output_type": "stream",
     "text": [
      " 11%|█         | 22/200 [02:10<16:53,  5.70s/it]"
     ]
    },
    {
     "name": "stdout",
     "output_type": "stream",
     "text": [
      "epoch is 22, test_loss is 0.957432, test_acc is 0.825695\n",
      "epoch is 23, train_loss is 0.035261, train_acc is 0.987422\n"
     ]
    },
    {
     "name": "stderr",
     "output_type": "stream",
     "text": [
      " 12%|█▏        | 23/200 [02:17<17:23,  5.89s/it]"
     ]
    },
    {
     "name": "stdout",
     "output_type": "stream",
     "text": [
      "epoch is 23, test_loss is 0.922732, test_acc is 0.831089\n",
      "epoch is 24, train_loss is 0.032705, train_acc is 0.988947\n"
     ]
    },
    {
     "name": "stderr",
     "output_type": "stream",
     "text": [
      " 12%|█▏        | 24/200 [02:22<17:16,  5.89s/it]"
     ]
    },
    {
     "name": "stdout",
     "output_type": "stream",
     "text": [
      "epoch is 24, test_loss is 0.995691, test_acc is 0.827338\n",
      "epoch is 25, train_loss is 0.031174, train_acc is 0.989188\n"
     ]
    },
    {
     "name": "stderr",
     "output_type": "stream",
     "text": [
      " 12%|█▎        | 25/200 [02:28<17:03,  5.85s/it]"
     ]
    },
    {
     "name": "stdout",
     "output_type": "stream",
     "text": [
      "epoch is 25, test_loss is 0.991569, test_acc is 0.827453\n",
      "epoch is 26, train_loss is 0.032936, train_acc is 0.988428\n"
     ]
    },
    {
     "name": "stderr",
     "output_type": "stream",
     "text": [
      " 13%|█▎        | 26/200 [02:34<16:52,  5.82s/it]"
     ]
    },
    {
     "name": "stdout",
     "output_type": "stream",
     "text": [
      "epoch is 26, test_loss is 0.932643, test_acc is 0.836064\n",
      "epoch is 27, train_loss is 0.030514, train_acc is 0.988827\n"
     ]
    },
    {
     "name": "stderr",
     "output_type": "stream",
     "text": [
      " 14%|█▎        | 27/200 [02:40<16:46,  5.82s/it]"
     ]
    },
    {
     "name": "stdout",
     "output_type": "stream",
     "text": [
      "epoch is 27, test_loss is 0.995161, test_acc is 0.830072\n",
      "epoch is 28, train_loss is 0.034948, train_acc is 0.988100\n"
     ]
    },
    {
     "name": "stderr",
     "output_type": "stream",
     "text": [
      " 14%|█▍        | 28/200 [02:46<16:43,  5.83s/it]"
     ]
    },
    {
     "name": "stdout",
     "output_type": "stream",
     "text": [
      "epoch is 28, test_loss is 0.906536, test_acc is 0.832014\n",
      "epoch is 29, train_loss is 0.027299, train_acc is 0.990900\n"
     ]
    },
    {
     "name": "stderr",
     "output_type": "stream",
     "text": [
      " 14%|█▍        | 29/200 [02:52<16:40,  5.85s/it]"
     ]
    },
    {
     "name": "stdout",
     "output_type": "stream",
     "text": [
      "epoch is 29, test_loss is 0.977063, test_acc is 0.832301\n",
      "epoch is 30, train_loss is 0.031531, train_acc is 0.989137\n"
     ]
    },
    {
     "name": "stderr",
     "output_type": "stream",
     "text": [
      " 15%|█▌        | 30/200 [02:57<16:30,  5.82s/it]"
     ]
    },
    {
     "name": "stdout",
     "output_type": "stream",
     "text": [
      "epoch is 30, test_loss is 0.984165, test_acc is 0.827189\n",
      "epoch is 31, train_loss is 0.022298, train_acc is 0.992107\n"
     ]
    },
    {
     "name": "stderr",
     "output_type": "stream",
     "text": [
      " 16%|█▌        | 31/200 [03:03<16:20,  5.80s/it]"
     ]
    },
    {
     "name": "stdout",
     "output_type": "stream",
     "text": [
      "epoch is 31, test_loss is 1.035206, test_acc is 0.825281\n",
      "epoch is 32, train_loss is 0.022612, train_acc is 0.992067\n"
     ]
    },
    {
     "name": "stderr",
     "output_type": "stream",
     "text": [
      " 16%|█▌        | 32/200 [03:09<16:14,  5.80s/it]"
     ]
    },
    {
     "name": "stdout",
     "output_type": "stream",
     "text": [
      "epoch is 32, test_loss is 1.071488, test_acc is 0.824368\n",
      "epoch is 33, train_loss is 0.032371, train_acc is 0.989266\n"
     ]
    },
    {
     "name": "stderr",
     "output_type": "stream",
     "text": [
      " 16%|█▋        | 33/200 [03:15<16:08,  5.80s/it]"
     ]
    },
    {
     "name": "stdout",
     "output_type": "stream",
     "text": [
      "epoch is 33, test_loss is 1.013948, test_acc is 0.829395\n",
      "epoch is 34, train_loss is 0.036170, train_acc is 0.987273\n"
     ]
    },
    {
     "name": "stderr",
     "output_type": "stream",
     "text": [
      " 17%|█▋        | 34/200 [03:21<16:09,  5.84s/it]"
     ]
    },
    {
     "name": "stdout",
     "output_type": "stream",
     "text": [
      "epoch is 34, test_loss is 0.978972, test_acc is 0.830061\n",
      "epoch is 35, train_loss is 0.028867, train_acc is 0.989596\n"
     ]
    },
    {
     "name": "stderr",
     "output_type": "stream",
     "text": [
      " 18%|█▊        | 35/200 [03:26<16:00,  5.82s/it]"
     ]
    },
    {
     "name": "stdout",
     "output_type": "stream",
     "text": [
      "epoch is 35, test_loss is 1.010671, test_acc is 0.827430\n",
      "epoch is 36, train_loss is 0.021701, train_acc is 0.992306\n"
     ]
    },
    {
     "name": "stderr",
     "output_type": "stream",
     "text": [
      " 18%|█▊        | 36/200 [03:32<15:48,  5.78s/it]"
     ]
    },
    {
     "name": "stdout",
     "output_type": "stream",
     "text": [
      "epoch is 36, test_loss is 0.952562, test_acc is 0.839597\n",
      "epoch is 37, train_loss is 0.019593, train_acc is 0.993173\n"
     ]
    },
    {
     "name": "stderr",
     "output_type": "stream",
     "text": [
      " 18%|█▊        | 37/200 [03:38<15:38,  5.76s/it]"
     ]
    },
    {
     "name": "stdout",
     "output_type": "stream",
     "text": [
      "epoch is 37, test_loss is 1.084504, test_acc is 0.827763\n",
      "epoch is 38, train_loss is 0.030785, train_acc is 0.989447\n"
     ]
    },
    {
     "name": "stderr",
     "output_type": "stream",
     "text": [
      " 19%|█▉        | 38/200 [03:44<15:45,  5.84s/it]"
     ]
    },
    {
     "name": "stdout",
     "output_type": "stream",
     "text": [
      "epoch is 38, test_loss is 1.020948, test_acc is 0.831951\n",
      "epoch is 39, train_loss is 0.019427, train_acc is 0.993341\n"
     ]
    },
    {
     "name": "stderr",
     "output_type": "stream",
     "text": [
      " 20%|█▉        | 39/200 [03:50<15:40,  5.84s/it]"
     ]
    },
    {
     "name": "stdout",
     "output_type": "stream",
     "text": [
      "epoch is 39, test_loss is 1.014480, test_acc is 0.837690\n",
      "epoch is 40, train_loss is 0.026605, train_acc is 0.990561\n"
     ]
    },
    {
     "name": "stderr",
     "output_type": "stream",
     "text": [
      " 20%|██        | 40/200 [03:55<15:28,  5.80s/it]"
     ]
    },
    {
     "name": "stdout",
     "output_type": "stream",
     "text": [
      "epoch is 40, test_loss is 0.994216, test_acc is 0.832767\n",
      "epoch is 41, train_loss is 0.024403, train_acc is 0.991826\n"
     ]
    },
    {
     "name": "stderr",
     "output_type": "stream",
     "text": [
      " 20%|██        | 41/200 [04:02<16:19,  6.16s/it]"
     ]
    },
    {
     "name": "stdout",
     "output_type": "stream",
     "text": [
      "epoch is 41, test_loss is 0.982972, test_acc is 0.838241\n",
      "epoch is 42, train_loss is 0.024446, train_acc is 0.991758\n"
     ]
    },
    {
     "name": "stderr",
     "output_type": "stream",
     "text": [
      " 21%|██        | 42/200 [04:10<17:15,  6.55s/it]"
     ]
    },
    {
     "name": "stdout",
     "output_type": "stream",
     "text": [
      "epoch is 42, test_loss is 0.997428, test_acc is 0.835087\n",
      "epoch is 43, train_loss is 0.015530, train_acc is 0.994847\n"
     ]
    },
    {
     "name": "stderr",
     "output_type": "stream",
     "text": [
      " 22%|██▏       | 43/200 [04:17<17:53,  6.84s/it]"
     ]
    },
    {
     "name": "stdout",
     "output_type": "stream",
     "text": [
      "epoch is 43, test_loss is 1.016016, test_acc is 0.841027\n",
      "epoch is 44, train_loss is 0.021729, train_acc is 0.992353\n"
     ]
    },
    {
     "name": "stderr",
     "output_type": "stream",
     "text": [
      " 22%|██▏       | 44/200 [04:25<18:25,  7.09s/it]"
     ]
    },
    {
     "name": "stdout",
     "output_type": "stream",
     "text": [
      "epoch is 44, test_loss is 1.068326, test_acc is 0.829331\n",
      "epoch is 45, train_loss is 0.023755, train_acc is 0.991528\n"
     ]
    },
    {
     "name": "stderr",
     "output_type": "stream",
     "text": [
      " 22%|██▎       | 45/200 [04:32<18:34,  7.19s/it]"
     ]
    },
    {
     "name": "stdout",
     "output_type": "stream",
     "text": [
      "epoch is 45, test_loss is 1.064937, test_acc is 0.831687\n",
      "epoch is 46, train_loss is 0.020495, train_acc is 0.992653\n"
     ]
    },
    {
     "name": "stderr",
     "output_type": "stream",
     "text": [
      " 23%|██▎       | 46/200 [04:40<18:55,  7.38s/it]"
     ]
    },
    {
     "name": "stdout",
     "output_type": "stream",
     "text": [
      "epoch is 46, test_loss is 1.068817, test_acc is 0.823173\n",
      "epoch is 47, train_loss is 0.027591, train_acc is 0.990881\n"
     ]
    },
    {
     "name": "stderr",
     "output_type": "stream",
     "text": [
      " 24%|██▎       | 47/200 [04:48<19:06,  7.50s/it]"
     ]
    },
    {
     "name": "stdout",
     "output_type": "stream",
     "text": [
      "epoch is 47, test_loss is 1.015540, test_acc is 0.831480\n",
      "epoch is 48, train_loss is 0.020566, train_acc is 0.992953\n"
     ]
    },
    {
     "name": "stderr",
     "output_type": "stream",
     "text": [
      " 24%|██▍       | 48/200 [04:55<18:54,  7.47s/it]"
     ]
    },
    {
     "name": "stdout",
     "output_type": "stream",
     "text": [
      "epoch is 48, test_loss is 1.028362, test_acc is 0.839620\n",
      "epoch is 49, train_loss is 0.017713, train_acc is 0.993720\n"
     ]
    },
    {
     "name": "stderr",
     "output_type": "stream",
     "text": [
      " 24%|██▍       | 49/200 [05:03<18:46,  7.46s/it]"
     ]
    },
    {
     "name": "stdout",
     "output_type": "stream",
     "text": [
      "epoch is 49, test_loss is 1.040193, test_acc is 0.836736\n",
      "epoch is 50, train_loss is 0.018001, train_acc is 0.994180\n"
     ]
    },
    {
     "name": "stderr",
     "output_type": "stream",
     "text": [
      " 25%|██▌       | 50/200 [05:10<18:45,  7.50s/it]"
     ]
    },
    {
     "name": "stdout",
     "output_type": "stream",
     "text": [
      "epoch is 50, test_loss is 1.074022, test_acc is 0.832841\n",
      "epoch is 51, train_loss is 0.018008, train_acc is 0.994108\n"
     ]
    },
    {
     "name": "stderr",
     "output_type": "stream",
     "text": [
      " 26%|██▌       | 51/200 [05:18<18:48,  7.58s/it]"
     ]
    },
    {
     "name": "stdout",
     "output_type": "stream",
     "text": [
      "epoch is 51, test_loss is 1.016953, test_acc is 0.838339\n",
      "epoch is 52, train_loss is 0.017096, train_acc is 0.994121\n"
     ]
    },
    {
     "name": "stderr",
     "output_type": "stream",
     "text": [
      " 26%|██▌       | 52/200 [05:26<18:47,  7.62s/it]"
     ]
    },
    {
     "name": "stdout",
     "output_type": "stream",
     "text": [
      "epoch is 52, test_loss is 1.093986, test_acc is 0.834484\n",
      "epoch is 53, train_loss is 0.015934, train_acc is 0.994429\n"
     ]
    },
    {
     "name": "stderr",
     "output_type": "stream",
     "text": [
      " 26%|██▋       | 53/200 [05:34<18:43,  7.65s/it]"
     ]
    },
    {
     "name": "stdout",
     "output_type": "stream",
     "text": [
      "epoch is 53, test_loss is 1.176004, test_acc is 0.831422\n",
      "epoch is 54, train_loss is 0.022563, train_acc is 0.992296\n"
     ]
    },
    {
     "name": "stderr",
     "output_type": "stream",
     "text": [
      " 27%|██▋       | 54/200 [05:41<18:38,  7.66s/it]"
     ]
    },
    {
     "name": "stdout",
     "output_type": "stream",
     "text": [
      "epoch is 54, test_loss is 1.053523, test_acc is 0.828653\n",
      "epoch is 55, train_loss is 0.013536, train_acc is 0.995395\n"
     ]
    },
    {
     "name": "stderr",
     "output_type": "stream",
     "text": [
      " 28%|██▊       | 55/200 [05:49<18:26,  7.63s/it]"
     ]
    },
    {
     "name": "stdout",
     "output_type": "stream",
     "text": [
      "epoch is 55, test_loss is 1.061546, test_acc is 0.833427\n",
      "epoch is 56, train_loss is 0.011773, train_acc is 0.996003\n"
     ]
    },
    {
     "name": "stderr",
     "output_type": "stream",
     "text": [
      " 28%|██▊       | 56/200 [05:56<18:10,  7.57s/it]"
     ]
    },
    {
     "name": "stdout",
     "output_type": "stream",
     "text": [
      "epoch is 56, test_loss is 1.157955, test_acc is 0.833990\n",
      "epoch is 57, train_loss is 0.017397, train_acc is 0.994199\n"
     ]
    },
    {
     "name": "stderr",
     "output_type": "stream",
     "text": [
      " 28%|██▊       | 57/200 [06:04<17:53,  7.51s/it]"
     ]
    },
    {
     "name": "stdout",
     "output_type": "stream",
     "text": [
      "epoch is 57, test_loss is 1.070715, test_acc is 0.835334\n",
      "epoch is 58, train_loss is 0.022942, train_acc is 0.992216\n"
     ]
    },
    {
     "name": "stderr",
     "output_type": "stream",
     "text": [
      " 29%|██▉       | 58/200 [06:11<17:48,  7.52s/it]"
     ]
    },
    {
     "name": "stdout",
     "output_type": "stream",
     "text": [
      "epoch is 58, test_loss is 1.139361, test_acc is 0.827344\n",
      "epoch is 59, train_loss is 0.026058, train_acc is 0.991031\n"
     ]
    },
    {
     "name": "stderr",
     "output_type": "stream",
     "text": [
      " 30%|██▉       | 59/200 [06:19<17:39,  7.51s/it]"
     ]
    },
    {
     "name": "stdout",
     "output_type": "stream",
     "text": [
      "epoch is 59, test_loss is 1.061436, test_acc is 0.833979\n",
      "epoch is 60, train_loss is 0.020320, train_acc is 0.993044\n"
     ]
    },
    {
     "name": "stderr",
     "output_type": "stream",
     "text": [
      " 30%|███       | 60/200 [06:27<17:43,  7.60s/it]"
     ]
    },
    {
     "name": "stdout",
     "output_type": "stream",
     "text": [
      "epoch is 60, test_loss is 1.037118, test_acc is 0.836914\n",
      "epoch is 61, train_loss is 0.011513, train_acc is 0.995804\n"
     ]
    },
    {
     "name": "stderr",
     "output_type": "stream",
     "text": [
      " 30%|███       | 61/200 [06:34<17:13,  7.43s/it]"
     ]
    },
    {
     "name": "stdout",
     "output_type": "stream",
     "text": [
      "epoch is 61, test_loss is 1.128347, test_acc is 0.838884\n",
      "epoch is 62, train_loss is 0.011642, train_acc is 0.996183\n"
     ]
    },
    {
     "name": "stderr",
     "output_type": "stream",
     "text": [
      " 31%|███       | 62/200 [06:40<16:08,  7.01s/it]"
     ]
    },
    {
     "name": "stdout",
     "output_type": "stream",
     "text": [
      "epoch is 62, test_loss is 1.076809, test_acc is 0.837747\n",
      "epoch is 63, train_loss is 0.020518, train_acc is 0.992963\n"
     ]
    },
    {
     "name": "stderr",
     "output_type": "stream",
     "text": [
      " 32%|███▏      | 63/200 [06:45<15:14,  6.67s/it]"
     ]
    },
    {
     "name": "stdout",
     "output_type": "stream",
     "text": [
      "epoch is 63, test_loss is 1.083106, test_acc is 0.830503\n",
      "epoch is 64, train_loss is 0.022275, train_acc is 0.992237\n"
     ]
    },
    {
     "name": "stderr",
     "output_type": "stream",
     "text": [
      " 32%|███▏      | 64/200 [06:51<14:25,  6.36s/it]"
     ]
    },
    {
     "name": "stdout",
     "output_type": "stream",
     "text": [
      "epoch is 64, test_loss is 1.045916, test_acc is 0.830578\n",
      "epoch is 65, train_loss is 0.015999, train_acc is 0.994230\n"
     ]
    },
    {
     "name": "stderr",
     "output_type": "stream",
     "text": [
      " 32%|███▎      | 65/200 [06:57<13:54,  6.18s/it]"
     ]
    },
    {
     "name": "stdout",
     "output_type": "stream",
     "text": [
      "epoch is 65, test_loss is 1.029079, test_acc is 0.839384\n",
      "epoch is 66, train_loss is 0.010516, train_acc is 0.996134\n"
     ]
    },
    {
     "name": "stderr",
     "output_type": "stream",
     "text": [
      " 33%|███▎      | 66/200 [07:03<13:31,  6.05s/it]"
     ]
    },
    {
     "name": "stdout",
     "output_type": "stream",
     "text": [
      "epoch is 66, test_loss is 1.102984, test_acc is 0.841728\n",
      "epoch is 67, train_loss is 0.009684, train_acc is 0.996741\n"
     ]
    },
    {
     "name": "stderr",
     "output_type": "stream",
     "text": [
      " 34%|███▎      | 67/200 [07:08<13:10,  5.94s/it]"
     ]
    },
    {
     "name": "stdout",
     "output_type": "stream",
     "text": [
      "epoch is 67, test_loss is 1.184552, test_acc is 0.831796\n",
      "epoch is 68, train_loss is 0.012822, train_acc is 0.995435\n"
     ]
    },
    {
     "name": "stderr",
     "output_type": "stream",
     "text": [
      " 34%|███▍      | 68/200 [07:14<12:55,  5.87s/it]"
     ]
    },
    {
     "name": "stdout",
     "output_type": "stream",
     "text": [
      "epoch is 68, test_loss is 1.123141, test_acc is 0.834162\n",
      "epoch is 69, train_loss is 0.020429, train_acc is 0.993094\n"
     ]
    },
    {
     "name": "stderr",
     "output_type": "stream",
     "text": [
      " 34%|███▍      | 69/200 [07:20<12:41,  5.81s/it]"
     ]
    },
    {
     "name": "stdout",
     "output_type": "stream",
     "text": [
      "epoch is 69, test_loss is 1.057808, test_acc is 0.836426\n",
      "epoch is 70, train_loss is 0.016430, train_acc is 0.994667\n"
     ]
    },
    {
     "name": "stderr",
     "output_type": "stream",
     "text": [
      " 35%|███▌      | 70/200 [07:25<12:28,  5.76s/it]"
     ]
    },
    {
     "name": "stdout",
     "output_type": "stream",
     "text": [
      "epoch is 70, test_loss is 1.059657, test_acc is 0.836702\n",
      "epoch is 71, train_loss is 0.009233, train_acc is 0.996761\n"
     ]
    },
    {
     "name": "stderr",
     "output_type": "stream",
     "text": [
      " 36%|███▌      | 71/200 [07:31<12:19,  5.73s/it]"
     ]
    },
    {
     "name": "stdout",
     "output_type": "stream",
     "text": [
      "epoch is 71, test_loss is 1.093937, test_acc is 0.842245\n",
      "epoch is 72, train_loss is 0.009655, train_acc is 0.996801\n"
     ]
    },
    {
     "name": "stderr",
     "output_type": "stream",
     "text": [
      " 36%|███▌      | 72/200 [07:37<12:16,  5.75s/it]"
     ]
    },
    {
     "name": "stdout",
     "output_type": "stream",
     "text": [
      "epoch is 72, test_loss is 1.112526, test_acc is 0.839849\n",
      "epoch is 73, train_loss is 0.015522, train_acc is 0.994558\n"
     ]
    },
    {
     "name": "stderr",
     "output_type": "stream",
     "text": [
      " 36%|███▋      | 73/200 [07:43<12:10,  5.75s/it]"
     ]
    },
    {
     "name": "stdout",
     "output_type": "stream",
     "text": [
      "epoch is 73, test_loss is 1.083854, test_acc is 0.832686\n",
      "epoch is 74, train_loss is 0.013775, train_acc is 0.995256\n"
     ]
    },
    {
     "name": "stderr",
     "output_type": "stream",
     "text": [
      " 37%|███▋      | 74/200 [07:48<12:05,  5.76s/it]"
     ]
    },
    {
     "name": "stdout",
     "output_type": "stream",
     "text": [
      "epoch is 74, test_loss is 1.063640, test_acc is 0.839275\n",
      "epoch is 75, train_loss is 0.018825, train_acc is 0.994130\n"
     ]
    },
    {
     "name": "stderr",
     "output_type": "stream",
     "text": [
      " 38%|███▊      | 75/200 [07:54<12:03,  5.78s/it]"
     ]
    },
    {
     "name": "stdout",
     "output_type": "stream",
     "text": [
      "epoch is 75, test_loss is 1.104186, test_acc is 0.835604\n",
      "epoch is 76, train_loss is 0.011709, train_acc is 0.996033\n"
     ]
    },
    {
     "name": "stderr",
     "output_type": "stream",
     "text": [
      " 38%|███▊      | 76/200 [08:00<11:58,  5.79s/it]"
     ]
    },
    {
     "name": "stdout",
     "output_type": "stream",
     "text": [
      "epoch is 76, test_loss is 1.105828, test_acc is 0.836110\n",
      "epoch is 77, train_loss is 0.010737, train_acc is 0.995964\n"
     ]
    },
    {
     "name": "stderr",
     "output_type": "stream",
     "text": [
      " 38%|███▊      | 77/200 [08:06<11:46,  5.75s/it]"
     ]
    },
    {
     "name": "stdout",
     "output_type": "stream",
     "text": [
      "epoch is 77, test_loss is 1.105735, test_acc is 0.839832\n",
      "epoch is 78, train_loss is 0.009358, train_acc is 0.996891\n"
     ]
    },
    {
     "name": "stderr",
     "output_type": "stream",
     "text": [
      " 39%|███▉      | 78/200 [08:11<11:43,  5.77s/it]"
     ]
    },
    {
     "name": "stdout",
     "output_type": "stream",
     "text": [
      "epoch is 78, test_loss is 1.064525, test_acc is 0.844715\n",
      "epoch is 79, train_loss is 0.014500, train_acc is 0.994887\n"
     ]
    },
    {
     "name": "stderr",
     "output_type": "stream",
     "text": [
      " 40%|███▉      | 79/200 [08:17<11:36,  5.76s/it]"
     ]
    },
    {
     "name": "stdout",
     "output_type": "stream",
     "text": [
      "epoch is 79, test_loss is 1.098649, test_acc is 0.838040\n",
      "epoch is 80, train_loss is 0.014205, train_acc is 0.995177\n"
     ]
    },
    {
     "name": "stderr",
     "output_type": "stream",
     "text": [
      " 40%|████      | 80/200 [08:23<11:29,  5.75s/it]"
     ]
    },
    {
     "name": "stdout",
     "output_type": "stream",
     "text": [
      "epoch is 80, test_loss is 1.038233, test_acc is 0.844945\n",
      "epoch is 81, train_loss is 0.003624, train_acc is 0.998804\n"
     ]
    },
    {
     "name": "stderr",
     "output_type": "stream",
     "text": [
      " 40%|████      | 81/200 [08:29<11:21,  5.73s/it]"
     ]
    },
    {
     "name": "stdout",
     "output_type": "stream",
     "text": [
      "epoch is 81, test_loss is 0.981174, test_acc is 0.852706\n",
      "epoch is 82, train_loss is 0.000449, train_acc is 1.000000\n"
     ]
    },
    {
     "name": "stderr",
     "output_type": "stream",
     "text": [
      " 41%|████      | 82/200 [08:34<11:13,  5.71s/it]"
     ]
    },
    {
     "name": "stdout",
     "output_type": "stream",
     "text": [
      "epoch is 82, test_loss is 0.969569, test_acc is 0.853992\n",
      "epoch is 83, train_loss is 0.000284, train_acc is 1.000000\n"
     ]
    },
    {
     "name": "stderr",
     "output_type": "stream",
     "text": [
      " 42%|████▏     | 83/200 [08:40<11:22,  5.84s/it]"
     ]
    },
    {
     "name": "stdout",
     "output_type": "stream",
     "text": [
      "epoch is 83, test_loss is 0.987473, test_acc is 0.853366\n",
      "epoch is 84, train_loss is 0.000257, train_acc is 1.000000\n"
     ]
    },
    {
     "name": "stderr",
     "output_type": "stream",
     "text": [
      " 42%|████▏     | 84/200 [08:46<11:19,  5.86s/it]"
     ]
    },
    {
     "name": "stdout",
     "output_type": "stream",
     "text": [
      "epoch is 84, test_loss is 0.968344, test_acc is 0.854205\n",
      "epoch is 85, train_loss is 0.000191, train_acc is 1.000000\n"
     ]
    },
    {
     "name": "stderr",
     "output_type": "stream",
     "text": [
      " 42%|████▎     | 85/200 [08:52<11:09,  5.82s/it]"
     ]
    },
    {
     "name": "stdout",
     "output_type": "stream",
     "text": [
      "epoch is 85, test_loss is 0.991240, test_acc is 0.854354\n",
      "epoch is 86, train_loss is 0.000193, train_acc is 0.999980\n"
     ]
    },
    {
     "name": "stderr",
     "output_type": "stream",
     "text": [
      " 43%|████▎     | 86/200 [08:58<11:07,  5.85s/it]"
     ]
    },
    {
     "name": "stdout",
     "output_type": "stream",
     "text": [
      "epoch is 86, test_loss is 0.989742, test_acc is 0.853889\n",
      "epoch is 87, train_loss is 0.000145, train_acc is 1.000000\n"
     ]
    },
    {
     "name": "stderr",
     "output_type": "stream",
     "text": [
      " 44%|████▎     | 87/200 [09:04<10:59,  5.83s/it]"
     ]
    },
    {
     "name": "stdout",
     "output_type": "stream",
     "text": [
      "epoch is 87, test_loss is 0.981354, test_acc is 0.855722\n",
      "epoch is 88, train_loss is 0.000125, train_acc is 1.000000\n"
     ]
    },
    {
     "name": "stderr",
     "output_type": "stream",
     "text": [
      " 44%|████▍     | 88/200 [09:10<10:52,  5.83s/it]"
     ]
    },
    {
     "name": "stdout",
     "output_type": "stream",
     "text": [
      "epoch is 88, test_loss is 0.990205, test_acc is 0.853745\n",
      "epoch is 89, train_loss is 0.000112, train_acc is 1.000000\n"
     ]
    },
    {
     "name": "stderr",
     "output_type": "stream",
     "text": [
      " 44%|████▍     | 89/200 [09:15<10:49,  5.85s/it]"
     ]
    },
    {
     "name": "stdout",
     "output_type": "stream",
     "text": [
      "epoch is 89, test_loss is 0.987286, test_acc is 0.856882\n",
      "epoch is 90, train_loss is 0.000109, train_acc is 1.000000\n"
     ]
    },
    {
     "name": "stderr",
     "output_type": "stream",
     "text": [
      " 45%|████▌     | 90/200 [09:21<10:41,  5.84s/it]"
     ]
    },
    {
     "name": "stdout",
     "output_type": "stream",
     "text": [
      "epoch is 90, test_loss is 0.989968, test_acc is 0.852740\n",
      "epoch is 91, train_loss is 0.000088, train_acc is 1.000000\n"
     ]
    },
    {
     "name": "stderr",
     "output_type": "stream",
     "text": [
      " 46%|████▌     | 91/200 [09:27<10:33,  5.81s/it]"
     ]
    },
    {
     "name": "stdout",
     "output_type": "stream",
     "text": [
      "epoch is 91, test_loss is 0.995810, test_acc is 0.856032\n",
      "epoch is 92, train_loss is 0.000082, train_acc is 1.000000\n"
     ]
    },
    {
     "name": "stderr",
     "output_type": "stream",
     "text": [
      " 46%|████▌     | 92/200 [09:33<10:24,  5.78s/it]"
     ]
    },
    {
     "name": "stdout",
     "output_type": "stream",
     "text": [
      "epoch is 92, test_loss is 0.995814, test_acc is 0.855991\n",
      "epoch is 93, train_loss is 0.000085, train_acc is 1.000000\n"
     ]
    },
    {
     "name": "stderr",
     "output_type": "stream",
     "text": [
      " 46%|████▋     | 93/200 [09:39<10:19,  5.79s/it]"
     ]
    },
    {
     "name": "stdout",
     "output_type": "stream",
     "text": [
      "epoch is 93, test_loss is 0.994555, test_acc is 0.854665\n",
      "epoch is 94, train_loss is 0.000069, train_acc is 1.000000\n"
     ]
    },
    {
     "name": "stderr",
     "output_type": "stream",
     "text": [
      " 47%|████▋     | 94/200 [09:44<10:14,  5.80s/it]"
     ]
    },
    {
     "name": "stdout",
     "output_type": "stream",
     "text": [
      "epoch is 94, test_loss is 1.007696, test_acc is 0.854061\n",
      "epoch is 95, train_loss is 0.000068, train_acc is 1.000000\n"
     ]
    },
    {
     "name": "stderr",
     "output_type": "stream",
     "text": [
      " 48%|████▊     | 95/200 [09:50<10:07,  5.78s/it]"
     ]
    },
    {
     "name": "stdout",
     "output_type": "stream",
     "text": [
      "epoch is 95, test_loss is 1.009611, test_acc is 0.854848\n",
      "epoch is 96, train_loss is 0.000063, train_acc is 1.000000\n"
     ]
    },
    {
     "name": "stderr",
     "output_type": "stream",
     "text": [
      " 48%|████▊     | 96/200 [09:56<10:01,  5.78s/it]"
     ]
    },
    {
     "name": "stdout",
     "output_type": "stream",
     "text": [
      "epoch is 96, test_loss is 1.014430, test_acc is 0.854728\n",
      "epoch is 97, train_loss is 0.000056, train_acc is 1.000000\n"
     ]
    },
    {
     "name": "stderr",
     "output_type": "stream",
     "text": [
      " 48%|████▊     | 97/200 [10:02<10:00,  5.83s/it]"
     ]
    },
    {
     "name": "stdout",
     "output_type": "stream",
     "text": [
      "epoch is 97, test_loss is 1.010261, test_acc is 0.856296\n",
      "epoch is 98, train_loss is 0.000059, train_acc is 1.000000\n"
     ]
    },
    {
     "name": "stderr",
     "output_type": "stream",
     "text": [
      " 49%|████▉     | 98/200 [10:08<09:54,  5.83s/it]"
     ]
    },
    {
     "name": "stdout",
     "output_type": "stream",
     "text": [
      "epoch is 98, test_loss is 1.010744, test_acc is 0.856135\n",
      "epoch is 99, train_loss is 0.000047, train_acc is 1.000000\n"
     ]
    },
    {
     "name": "stderr",
     "output_type": "stream",
     "text": [
      " 50%|████▉     | 99/200 [10:13<09:48,  5.82s/it]"
     ]
    },
    {
     "name": "stdout",
     "output_type": "stream",
     "text": [
      "epoch is 99, test_loss is 1.009460, test_acc is 0.856394\n",
      "epoch is 100, train_loss is 0.000047, train_acc is 1.000000\n"
     ]
    },
    {
     "name": "stderr",
     "output_type": "stream",
     "text": [
      " 50%|█████     | 100/200 [10:19<09:40,  5.81s/it]"
     ]
    },
    {
     "name": "stdout",
     "output_type": "stream",
     "text": [
      "epoch is 100, test_loss is 1.013993, test_acc is 0.856152\n",
      "epoch is 101, train_loss is 0.000048, train_acc is 1.000000\n"
     ]
    },
    {
     "name": "stderr",
     "output_type": "stream",
     "text": [
      " 50%|█████     | 101/200 [10:25<09:42,  5.88s/it]"
     ]
    },
    {
     "name": "stdout",
     "output_type": "stream",
     "text": [
      "epoch is 101, test_loss is 1.017630, test_acc is 0.854400\n",
      "epoch is 102, train_loss is 0.000045, train_acc is 1.000000\n"
     ]
    },
    {
     "name": "stderr",
     "output_type": "stream",
     "text": [
      " 51%|█████     | 102/200 [10:31<09:30,  5.82s/it]"
     ]
    },
    {
     "name": "stdout",
     "output_type": "stream",
     "text": [
      "epoch is 102, test_loss is 1.017556, test_acc is 0.855233\n",
      "epoch is 103, train_loss is 0.000043, train_acc is 1.000000\n"
     ]
    },
    {
     "name": "stderr",
     "output_type": "stream",
     "text": [
      " 52%|█████▏    | 103/200 [10:37<09:21,  5.79s/it]"
     ]
    },
    {
     "name": "stdout",
     "output_type": "stream",
     "text": [
      "epoch is 103, test_loss is 1.017662, test_acc is 0.855486\n",
      "epoch is 104, train_loss is 0.000055, train_acc is 1.000000\n"
     ]
    },
    {
     "name": "stderr",
     "output_type": "stream",
     "text": [
      " 52%|█████▏    | 104/200 [10:42<09:10,  5.74s/it]"
     ]
    },
    {
     "name": "stdout",
     "output_type": "stream",
     "text": [
      "epoch is 104, test_loss is 1.018634, test_acc is 0.856704\n",
      "epoch is 105, train_loss is 0.000048, train_acc is 1.000000\n"
     ]
    },
    {
     "name": "stderr",
     "output_type": "stream",
     "text": [
      " 52%|█████▎    | 105/200 [10:48<09:03,  5.72s/it]"
     ]
    },
    {
     "name": "stdout",
     "output_type": "stream",
     "text": [
      "epoch is 105, test_loss is 1.019531, test_acc is 0.855233\n",
      "epoch is 106, train_loss is 0.000044, train_acc is 1.000000\n"
     ]
    },
    {
     "name": "stderr",
     "output_type": "stream",
     "text": [
      " 53%|█████▎    | 106/200 [10:54<08:59,  5.74s/it]"
     ]
    },
    {
     "name": "stdout",
     "output_type": "stream",
     "text": [
      "epoch is 106, test_loss is 1.007070, test_acc is 0.856101\n",
      "epoch is 107, train_loss is 0.000043, train_acc is 1.000000\n"
     ]
    },
    {
     "name": "stderr",
     "output_type": "stream",
     "text": [
      " 54%|█████▎    | 107/200 [10:59<08:52,  5.73s/it]"
     ]
    },
    {
     "name": "stdout",
     "output_type": "stream",
     "text": [
      "epoch is 107, test_loss is 1.020947, test_acc is 0.852884\n",
      "epoch is 108, train_loss is 0.000045, train_acc is 1.000000\n"
     ]
    },
    {
     "name": "stderr",
     "output_type": "stream",
     "text": [
      " 54%|█████▍    | 108/200 [11:05<08:45,  5.71s/it]"
     ]
    },
    {
     "name": "stdout",
     "output_type": "stream",
     "text": [
      "epoch is 108, test_loss is 1.015316, test_acc is 0.856566\n",
      "epoch is 109, train_loss is 0.000041, train_acc is 1.000000\n"
     ]
    },
    {
     "name": "stderr",
     "output_type": "stream",
     "text": [
      " 55%|█████▍    | 109/200 [11:11<08:42,  5.74s/it]"
     ]
    },
    {
     "name": "stdout",
     "output_type": "stream",
     "text": [
      "epoch is 109, test_loss is 1.018430, test_acc is 0.857232\n",
      "epoch is 110, train_loss is 0.000041, train_acc is 1.000000\n"
     ]
    },
    {
     "name": "stderr",
     "output_type": "stream",
     "text": [
      " 55%|█████▌    | 110/200 [11:18<09:24,  6.27s/it]"
     ]
    },
    {
     "name": "stdout",
     "output_type": "stream",
     "text": [
      "epoch is 110, test_loss is 1.020841, test_acc is 0.855159\n",
      "epoch is 111, train_loss is 0.000042, train_acc is 1.000000\n"
     ]
    },
    {
     "name": "stderr",
     "output_type": "stream",
     "text": [
      " 56%|█████▌    | 111/200 [11:26<09:54,  6.67s/it]"
     ]
    },
    {
     "name": "stdout",
     "output_type": "stream",
     "text": [
      "epoch is 111, test_loss is 1.015788, test_acc is 0.855285\n",
      "epoch is 112, train_loss is 0.000044, train_acc is 1.000000\n"
     ]
    },
    {
     "name": "stderr",
     "output_type": "stream",
     "text": [
      " 56%|█████▌    | 112/200 [11:34<10:10,  6.94s/it]"
     ]
    },
    {
     "name": "stdout",
     "output_type": "stream",
     "text": [
      "epoch is 112, test_loss is 1.033036, test_acc is 0.855021\n",
      "epoch is 113, train_loss is 0.000041, train_acc is 1.000000\n"
     ]
    },
    {
     "name": "stderr",
     "output_type": "stream",
     "text": [
      " 56%|█████▋    | 113/200 [11:41<10:12,  7.04s/it]"
     ]
    },
    {
     "name": "stdout",
     "output_type": "stream",
     "text": [
      "epoch is 113, test_loss is 1.012112, test_acc is 0.855601\n",
      "epoch is 114, train_loss is 0.000042, train_acc is 1.000000\n"
     ]
    },
    {
     "name": "stderr",
     "output_type": "stream",
     "text": [
      " 57%|█████▋    | 114/200 [11:49<10:20,  7.21s/it]"
     ]
    },
    {
     "name": "stdout",
     "output_type": "stream",
     "text": [
      "epoch is 114, test_loss is 1.038321, test_acc is 0.854883\n",
      "epoch is 115, train_loss is 0.000037, train_acc is 1.000000\n"
     ]
    },
    {
     "name": "stderr",
     "output_type": "stream",
     "text": [
      " 57%|█████▊    | 115/200 [11:56<10:18,  7.28s/it]"
     ]
    },
    {
     "name": "stdout",
     "output_type": "stream",
     "text": [
      "epoch is 115, test_loss is 1.017995, test_acc is 0.854785\n",
      "epoch is 116, train_loss is 0.000043, train_acc is 1.000000\n"
     ]
    },
    {
     "name": "stderr",
     "output_type": "stream",
     "text": [
      " 58%|█████▊    | 116/200 [12:03<10:15,  7.33s/it]"
     ]
    },
    {
     "name": "stdout",
     "output_type": "stream",
     "text": [
      "epoch is 116, test_loss is 1.019562, test_acc is 0.858174\n",
      "epoch is 117, train_loss is 0.000041, train_acc is 1.000000\n"
     ]
    },
    {
     "name": "stderr",
     "output_type": "stream",
     "text": [
      " 58%|█████▊    | 117/200 [12:11<10:15,  7.41s/it]"
     ]
    },
    {
     "name": "stdout",
     "output_type": "stream",
     "text": [
      "epoch is 117, test_loss is 1.022807, test_acc is 0.855124\n",
      "epoch is 118, train_loss is 0.000035, train_acc is 1.000000\n"
     ]
    },
    {
     "name": "stderr",
     "output_type": "stream",
     "text": [
      " 59%|█████▉    | 118/200 [12:19<10:10,  7.44s/it]"
     ]
    },
    {
     "name": "stdout",
     "output_type": "stream",
     "text": [
      "epoch is 118, test_loss is 1.025985, test_acc is 0.854021\n",
      "epoch is 119, train_loss is 0.000034, train_acc is 1.000000\n"
     ]
    },
    {
     "name": "stderr",
     "output_type": "stream",
     "text": [
      " 60%|█████▉    | 119/200 [12:26<10:08,  7.51s/it]"
     ]
    },
    {
     "name": "stdout",
     "output_type": "stream",
     "text": [
      "epoch is 119, test_loss is 1.010542, test_acc is 0.856911\n",
      "epoch is 120, train_loss is 0.000035, train_acc is 1.000000\n"
     ]
    },
    {
     "name": "stderr",
     "output_type": "stream",
     "text": [
      " 60%|██████    | 120/200 [12:34<10:01,  7.52s/it]"
     ]
    },
    {
     "name": "stdout",
     "output_type": "stream",
     "text": [
      "epoch is 120, test_loss is 1.020766, test_acc is 0.855015\n",
      "epoch is 121, train_loss is 0.000038, train_acc is 1.000000\n"
     ]
    },
    {
     "name": "stderr",
     "output_type": "stream",
     "text": [
      " 60%|██████    | 121/200 [12:41<09:56,  7.55s/it]"
     ]
    },
    {
     "name": "stdout",
     "output_type": "stream",
     "text": [
      "epoch is 121, test_loss is 1.019708, test_acc is 0.855819\n",
      "epoch is 122, train_loss is 0.000039, train_acc is 1.000000\n"
     ]
    },
    {
     "name": "stderr",
     "output_type": "stream",
     "text": [
      " 61%|██████    | 122/200 [12:49<09:50,  7.57s/it]"
     ]
    },
    {
     "name": "stdout",
     "output_type": "stream",
     "text": [
      "epoch is 122, test_loss is 1.041391, test_acc is 0.854906\n",
      "epoch is 123, train_loss is 0.000038, train_acc is 1.000000\n"
     ]
    },
    {
     "name": "stderr",
     "output_type": "stream",
     "text": [
      " 62%|██████▏   | 123/200 [12:56<09:38,  7.52s/it]"
     ]
    },
    {
     "name": "stdout",
     "output_type": "stream",
     "text": [
      "epoch is 123, test_loss is 1.016479, test_acc is 0.855354\n",
      "epoch is 124, train_loss is 0.000038, train_acc is 1.000000\n"
     ]
    },
    {
     "name": "stderr",
     "output_type": "stream",
     "text": [
      " 62%|██████▏   | 124/200 [13:04<09:34,  7.56s/it]"
     ]
    },
    {
     "name": "stdout",
     "output_type": "stream",
     "text": [
      "epoch is 124, test_loss is 1.023619, test_acc is 0.856807\n",
      "epoch is 125, train_loss is 0.000035, train_acc is 1.000000\n"
     ]
    },
    {
     "name": "stderr",
     "output_type": "stream",
     "text": [
      " 62%|██████▎   | 125/200 [13:12<09:31,  7.62s/it]"
     ]
    },
    {
     "name": "stdout",
     "output_type": "stream",
     "text": [
      "epoch is 125, test_loss is 1.017343, test_acc is 0.856893\n",
      "epoch is 126, train_loss is 0.000034, train_acc is 1.000000\n"
     ]
    },
    {
     "name": "stderr",
     "output_type": "stream",
     "text": [
      " 63%|██████▎   | 126/200 [13:20<09:26,  7.66s/it]"
     ]
    },
    {
     "name": "stdout",
     "output_type": "stream",
     "text": [
      "epoch is 126, test_loss is 1.012901, test_acc is 0.857232\n",
      "epoch is 127, train_loss is 0.000037, train_acc is 1.000000\n"
     ]
    },
    {
     "name": "stderr",
     "output_type": "stream",
     "text": [
      " 64%|██████▎   | 127/200 [13:27<09:14,  7.60s/it]"
     ]
    },
    {
     "name": "stdout",
     "output_type": "stream",
     "text": [
      "epoch is 127, test_loss is 1.024693, test_acc is 0.856417\n",
      "epoch is 128, train_loss is 0.000038, train_acc is 1.000000\n"
     ]
    },
    {
     "name": "stderr",
     "output_type": "stream",
     "text": [
      " 64%|██████▍   | 128/200 [13:35<09:08,  7.62s/it]"
     ]
    },
    {
     "name": "stdout",
     "output_type": "stream",
     "text": [
      "epoch is 128, test_loss is 1.016179, test_acc is 0.858209\n",
      "epoch is 129, train_loss is 0.000037, train_acc is 1.000000\n"
     ]
    },
    {
     "name": "stderr",
     "output_type": "stream",
     "text": [
      " 64%|██████▍   | 129/200 [13:42<09:00,  7.61s/it]"
     ]
    },
    {
     "name": "stdout",
     "output_type": "stream",
     "text": [
      "epoch is 129, test_loss is 1.031260, test_acc is 0.855021\n",
      "epoch is 130, train_loss is 0.000039, train_acc is 1.000000\n"
     ]
    },
    {
     "name": "stderr",
     "output_type": "stream",
     "text": [
      " 65%|██████▌   | 130/200 [13:50<08:51,  7.60s/it]"
     ]
    },
    {
     "name": "stdout",
     "output_type": "stream",
     "text": [
      "epoch is 130, test_loss is 1.042120, test_acc is 0.855808\n",
      "epoch is 131, train_loss is 0.000039, train_acc is 1.000000\n"
     ]
    },
    {
     "name": "stderr",
     "output_type": "stream",
     "text": [
      " 66%|██████▌   | 131/200 [13:57<08:44,  7.60s/it]"
     ]
    },
    {
     "name": "stdout",
     "output_type": "stream",
     "text": [
      "epoch is 131, test_loss is 1.017683, test_acc is 0.857996\n",
      "epoch is 132, train_loss is 0.000034, train_acc is 1.000000\n"
     ]
    },
    {
     "name": "stderr",
     "output_type": "stream",
     "text": [
      " 66%|██████▌   | 132/200 [14:05<08:36,  7.60s/it]"
     ]
    },
    {
     "name": "stdout",
     "output_type": "stream",
     "text": [
      "epoch is 132, test_loss is 1.025600, test_acc is 0.856554\n",
      "epoch is 133, train_loss is 0.000037, train_acc is 1.000000\n"
     ]
    },
    {
     "name": "stderr",
     "output_type": "stream",
     "text": [
      " 66%|██████▋   | 133/200 [14:13<08:27,  7.57s/it]"
     ]
    },
    {
     "name": "stdout",
     "output_type": "stream",
     "text": [
      "epoch is 133, test_loss is 1.012330, test_acc is 0.857479\n",
      "epoch is 134, train_loss is 0.000038, train_acc is 1.000000\n"
     ]
    },
    {
     "name": "stderr",
     "output_type": "stream",
     "text": [
      " 67%|██████▋   | 134/200 [14:20<08:24,  7.64s/it]"
     ]
    },
    {
     "name": "stdout",
     "output_type": "stream",
     "text": [
      "epoch is 134, test_loss is 1.027148, test_acc is 0.855210\n",
      "epoch is 135, train_loss is 0.000038, train_acc is 1.000000\n"
     ]
    },
    {
     "name": "stderr",
     "output_type": "stream",
     "text": [
      " 68%|██████▊   | 135/200 [14:28<08:13,  7.59s/it]"
     ]
    },
    {
     "name": "stdout",
     "output_type": "stream",
     "text": [
      "epoch is 135, test_loss is 1.028883, test_acc is 0.856980\n",
      "epoch is 136, train_loss is 0.000035, train_acc is 1.000000\n"
     ]
    },
    {
     "name": "stderr",
     "output_type": "stream",
     "text": [
      " 68%|██████▊   | 136/200 [14:35<08:00,  7.51s/it]"
     ]
    },
    {
     "name": "stdout",
     "output_type": "stream",
     "text": [
      "epoch is 136, test_loss is 1.033919, test_acc is 0.854848\n",
      "epoch is 137, train_loss is 0.000034, train_acc is 1.000000\n"
     ]
    },
    {
     "name": "stderr",
     "output_type": "stream",
     "text": [
      " 68%|██████▊   | 137/200 [14:41<07:22,  7.02s/it]"
     ]
    },
    {
     "name": "stdout",
     "output_type": "stream",
     "text": [
      "epoch is 137, test_loss is 1.039485, test_acc is 0.855055\n",
      "epoch is 138, train_loss is 0.000034, train_acc is 1.000000\n"
     ]
    },
    {
     "name": "stderr",
     "output_type": "stream",
     "text": [
      " 69%|██████▉   | 138/200 [14:47<06:55,  6.70s/it]"
     ]
    },
    {
     "name": "stdout",
     "output_type": "stream",
     "text": [
      "epoch is 138, test_loss is 1.019856, test_acc is 0.856055\n",
      "epoch is 139, train_loss is 0.000036, train_acc is 1.000000\n"
     ]
    },
    {
     "name": "stderr",
     "output_type": "stream",
     "text": [
      " 70%|██████▉   | 139/200 [14:53<06:29,  6.38s/it]"
     ]
    },
    {
     "name": "stdout",
     "output_type": "stream",
     "text": [
      "epoch is 139, test_loss is 1.033850, test_acc is 0.855509\n",
      "epoch is 140, train_loss is 0.000043, train_acc is 1.000000\n"
     ]
    },
    {
     "name": "stderr",
     "output_type": "stream",
     "text": [
      " 70%|███████   | 140/200 [14:58<06:10,  6.18s/it]"
     ]
    },
    {
     "name": "stdout",
     "output_type": "stream",
     "text": [
      "epoch is 140, test_loss is 1.026505, test_acc is 0.856457\n",
      "epoch is 141, train_loss is 0.000039, train_acc is 1.000000\n"
     ]
    },
    {
     "name": "stderr",
     "output_type": "stream",
     "text": [
      " 70%|███████   | 141/200 [15:04<05:55,  6.03s/it]"
     ]
    },
    {
     "name": "stdout",
     "output_type": "stream",
     "text": [
      "epoch is 141, test_loss is 1.030520, test_acc is 0.857462\n",
      "epoch is 142, train_loss is 0.000037, train_acc is 1.000000\n"
     ]
    },
    {
     "name": "stderr",
     "output_type": "stream",
     "text": [
      " 71%|███████   | 142/200 [15:10<05:45,  5.97s/it]"
     ]
    },
    {
     "name": "stdout",
     "output_type": "stream",
     "text": [
      "epoch is 142, test_loss is 1.031186, test_acc is 0.854659\n",
      "epoch is 143, train_loss is 0.000035, train_acc is 1.000000\n"
     ]
    },
    {
     "name": "stderr",
     "output_type": "stream",
     "text": [
      " 72%|███████▏  | 143/200 [15:16<05:36,  5.91s/it]"
     ]
    },
    {
     "name": "stdout",
     "output_type": "stream",
     "text": [
      "epoch is 143, test_loss is 1.020937, test_acc is 0.856221\n",
      "epoch is 144, train_loss is 0.000038, train_acc is 1.000000\n"
     ]
    },
    {
     "name": "stderr",
     "output_type": "stream",
     "text": [
      " 72%|███████▏  | 144/200 [15:21<05:28,  5.86s/it]"
     ]
    },
    {
     "name": "stdout",
     "output_type": "stream",
     "text": [
      "epoch is 144, test_loss is 1.023467, test_acc is 0.857617\n",
      "epoch is 145, train_loss is 0.000034, train_acc is 1.000000\n"
     ]
    },
    {
     "name": "stderr",
     "output_type": "stream",
     "text": [
      " 72%|███████▎  | 145/200 [15:27<05:19,  5.82s/it]"
     ]
    },
    {
     "name": "stdout",
     "output_type": "stream",
     "text": [
      "epoch is 145, test_loss is 1.026016, test_acc is 0.854280\n",
      "epoch is 146, train_loss is 0.000035, train_acc is 1.000000\n"
     ]
    },
    {
     "name": "stderr",
     "output_type": "stream",
     "text": [
      " 73%|███████▎  | 146/200 [15:33<05:13,  5.80s/it]"
     ]
    },
    {
     "name": "stdout",
     "output_type": "stream",
     "text": [
      "epoch is 146, test_loss is 1.033756, test_acc is 0.854894\n",
      "epoch is 147, train_loss is 0.000036, train_acc is 1.000000\n"
     ]
    },
    {
     "name": "stderr",
     "output_type": "stream",
     "text": [
      " 74%|███████▎  | 147/200 [15:39<05:06,  5.79s/it]"
     ]
    },
    {
     "name": "stdout",
     "output_type": "stream",
     "text": [
      "epoch is 147, test_loss is 1.024465, test_acc is 0.854372\n",
      "epoch is 148, train_loss is 0.000036, train_acc is 1.000000\n"
     ]
    },
    {
     "name": "stderr",
     "output_type": "stream",
     "text": [
      " 74%|███████▍  | 148/200 [15:44<05:01,  5.80s/it]"
     ]
    },
    {
     "name": "stdout",
     "output_type": "stream",
     "text": [
      "epoch is 148, test_loss is 1.023347, test_acc is 0.856669\n",
      "epoch is 149, train_loss is 0.000036, train_acc is 1.000000\n"
     ]
    },
    {
     "name": "stderr",
     "output_type": "stream",
     "text": [
      " 74%|███████▍  | 149/200 [15:50<04:54,  5.78s/it]"
     ]
    },
    {
     "name": "stdout",
     "output_type": "stream",
     "text": [
      "epoch is 149, test_loss is 1.026981, test_acc is 0.855273\n",
      "epoch is 150, train_loss is 0.000033, train_acc is 1.000000\n"
     ]
    },
    {
     "name": "stderr",
     "output_type": "stream",
     "text": [
      " 75%|███████▌  | 150/200 [15:56<04:48,  5.77s/it]"
     ]
    },
    {
     "name": "stdout",
     "output_type": "stream",
     "text": [
      "epoch is 150, test_loss is 1.022673, test_acc is 0.857686\n",
      "epoch is 151, train_loss is 0.000035, train_acc is 1.000000\n"
     ]
    },
    {
     "name": "stderr",
     "output_type": "stream",
     "text": [
      " 76%|███████▌  | 151/200 [16:02<04:42,  5.76s/it]"
     ]
    },
    {
     "name": "stdout",
     "output_type": "stream",
     "text": [
      "epoch is 151, test_loss is 1.019713, test_acc is 0.856451\n",
      "epoch is 152, train_loss is 0.000039, train_acc is 1.000000\n"
     ]
    },
    {
     "name": "stderr",
     "output_type": "stream",
     "text": [
      " 76%|███████▌  | 152/200 [16:07<04:36,  5.76s/it]"
     ]
    },
    {
     "name": "stdout",
     "output_type": "stream",
     "text": [
      "epoch is 152, test_loss is 1.022715, test_acc is 0.855877\n",
      "epoch is 153, train_loss is 0.000034, train_acc is 1.000000\n"
     ]
    },
    {
     "name": "stderr",
     "output_type": "stream",
     "text": [
      " 76%|███████▋  | 153/200 [16:13<04:34,  5.84s/it]"
     ]
    },
    {
     "name": "stdout",
     "output_type": "stream",
     "text": [
      "epoch is 153, test_loss is 1.032801, test_acc is 0.855911\n",
      "epoch is 154, train_loss is 0.000032, train_acc is 1.000000\n"
     ]
    },
    {
     "name": "stderr",
     "output_type": "stream",
     "text": [
      " 77%|███████▋  | 154/200 [16:19<04:28,  5.84s/it]"
     ]
    },
    {
     "name": "stdout",
     "output_type": "stream",
     "text": [
      "epoch is 154, test_loss is 1.031466, test_acc is 0.853521\n",
      "epoch is 155, train_loss is 0.000035, train_acc is 1.000000\n"
     ]
    },
    {
     "name": "stderr",
     "output_type": "stream",
     "text": [
      " 78%|███████▊  | 155/200 [16:25<04:22,  5.84s/it]"
     ]
    },
    {
     "name": "stdout",
     "output_type": "stream",
     "text": [
      "epoch is 155, test_loss is 1.017049, test_acc is 0.856175\n",
      "epoch is 156, train_loss is 0.000032, train_acc is 1.000000\n"
     ]
    },
    {
     "name": "stderr",
     "output_type": "stream",
     "text": [
      " 78%|███████▊  | 156/200 [16:31<04:16,  5.82s/it]"
     ]
    },
    {
     "name": "stdout",
     "output_type": "stream",
     "text": [
      "epoch is 156, test_loss is 1.024320, test_acc is 0.856968\n",
      "epoch is 157, train_loss is 0.000034, train_acc is 1.000000\n"
     ]
    },
    {
     "name": "stderr",
     "output_type": "stream",
     "text": [
      " 78%|███████▊  | 157/200 [16:37<04:09,  5.80s/it]"
     ]
    },
    {
     "name": "stdout",
     "output_type": "stream",
     "text": [
      "epoch is 157, test_loss is 1.015443, test_acc is 0.856526\n",
      "epoch is 158, train_loss is 0.000034, train_acc is 1.000000\n"
     ]
    },
    {
     "name": "stderr",
     "output_type": "stream",
     "text": [
      " 79%|███████▉  | 158/200 [16:42<04:03,  5.79s/it]"
     ]
    },
    {
     "name": "stdout",
     "output_type": "stream",
     "text": [
      "epoch is 158, test_loss is 1.024961, test_acc is 0.856784\n",
      "epoch is 159, train_loss is 0.000033, train_acc is 1.000000\n"
     ]
    },
    {
     "name": "stderr",
     "output_type": "stream",
     "text": [
      " 80%|███████▉  | 159/200 [16:48<03:57,  5.80s/it]"
     ]
    },
    {
     "name": "stdout",
     "output_type": "stream",
     "text": [
      "epoch is 159, test_loss is 1.011368, test_acc is 0.857387\n",
      "epoch is 160, train_loss is 0.000041, train_acc is 1.000000\n"
     ]
    },
    {
     "name": "stderr",
     "output_type": "stream",
     "text": [
      " 80%|████████  | 160/200 [16:54<03:52,  5.81s/it]"
     ]
    },
    {
     "name": "stdout",
     "output_type": "stream",
     "text": [
      "epoch is 160, test_loss is 1.027874, test_acc is 0.854716\n",
      "epoch is 161, train_loss is 0.000031, train_acc is 1.000000\n"
     ]
    },
    {
     "name": "stderr",
     "output_type": "stream",
     "text": [
      " 80%|████████  | 161/200 [17:00<03:46,  5.81s/it]"
     ]
    },
    {
     "name": "stdout",
     "output_type": "stream",
     "text": [
      "epoch is 161, test_loss is 1.029045, test_acc is 0.855291\n",
      "epoch is 162, train_loss is 0.000030, train_acc is 1.000000\n"
     ]
    },
    {
     "name": "stderr",
     "output_type": "stream",
     "text": [
      " 81%|████████  | 162/200 [17:06<03:41,  5.84s/it]"
     ]
    },
    {
     "name": "stdout",
     "output_type": "stream",
     "text": [
      "epoch is 162, test_loss is 1.034200, test_acc is 0.857117\n",
      "epoch is 163, train_loss is 0.000030, train_acc is 1.000000\n"
     ]
    },
    {
     "name": "stderr",
     "output_type": "stream",
     "text": [
      " 82%|████████▏ | 163/200 [17:12<03:36,  5.85s/it]"
     ]
    },
    {
     "name": "stdout",
     "output_type": "stream",
     "text": [
      "epoch is 163, test_loss is 1.027475, test_acc is 0.855463\n",
      "epoch is 164, train_loss is 0.000036, train_acc is 1.000000\n"
     ]
    },
    {
     "name": "stderr",
     "output_type": "stream",
     "text": [
      " 82%|████████▏ | 164/200 [17:19<03:46,  6.30s/it]"
     ]
    },
    {
     "name": "stdout",
     "output_type": "stream",
     "text": [
      "epoch is 164, test_loss is 1.030079, test_acc is 0.855670\n",
      "epoch is 165, train_loss is 0.000032, train_acc is 1.000000\n"
     ]
    },
    {
     "name": "stderr",
     "output_type": "stream",
     "text": [
      " 82%|████████▎ | 165/200 [17:27<03:55,  6.73s/it]"
     ]
    },
    {
     "name": "stdout",
     "output_type": "stream",
     "text": [
      "epoch is 165, test_loss is 1.029171, test_acc is 0.855905\n",
      "epoch is 166, train_loss is 0.000030, train_acc is 1.000000\n"
     ]
    },
    {
     "name": "stderr",
     "output_type": "stream",
     "text": [
      " 83%|████████▎ | 166/200 [17:34<03:58,  7.00s/it]"
     ]
    },
    {
     "name": "stdout",
     "output_type": "stream",
     "text": [
      "epoch is 166, test_loss is 1.026045, test_acc is 0.857295\n",
      "epoch is 167, train_loss is 0.000029, train_acc is 1.000000\n"
     ]
    },
    {
     "name": "stderr",
     "output_type": "stream",
     "text": [
      " 84%|████████▎ | 167/200 [17:42<03:58,  7.22s/it]"
     ]
    },
    {
     "name": "stdout",
     "output_type": "stream",
     "text": [
      "epoch is 167, test_loss is 1.026750, test_acc is 0.855831\n",
      "epoch is 168, train_loss is 0.000034, train_acc is 1.000000\n"
     ]
    },
    {
     "name": "stderr",
     "output_type": "stream",
     "text": [
      " 84%|████████▍ | 168/200 [17:49<03:51,  7.23s/it]"
     ]
    },
    {
     "name": "stdout",
     "output_type": "stream",
     "text": [
      "epoch is 168, test_loss is 1.029293, test_acc is 0.857962\n",
      "epoch is 169, train_loss is 0.000029, train_acc is 1.000000\n"
     ]
    },
    {
     "name": "stderr",
     "output_type": "stream",
     "text": [
      " 84%|████████▍ | 169/200 [17:57<03:47,  7.33s/it]"
     ]
    },
    {
     "name": "stdout",
     "output_type": "stream",
     "text": [
      "epoch is 169, test_loss is 1.037982, test_acc is 0.855216\n",
      "epoch is 170, train_loss is 0.000034, train_acc is 1.000000\n"
     ]
    },
    {
     "name": "stderr",
     "output_type": "stream",
     "text": [
      " 85%|████████▌ | 170/200 [18:04<03:41,  7.40s/it]"
     ]
    },
    {
     "name": "stdout",
     "output_type": "stream",
     "text": [
      "epoch is 170, test_loss is 1.026128, test_acc is 0.855348\n",
      "epoch is 171, train_loss is 0.000030, train_acc is 1.000000\n"
     ]
    },
    {
     "name": "stderr",
     "output_type": "stream",
     "text": [
      " 86%|████████▌ | 171/200 [18:11<03:24,  7.05s/it]"
     ]
    },
    {
     "name": "stdout",
     "output_type": "stream",
     "text": [
      "epoch is 171, test_loss is 1.033553, test_acc is 0.855170\n",
      "epoch is 172, train_loss is 0.000029, train_acc is 1.000000\n"
     ]
    },
    {
     "name": "stderr",
     "output_type": "stream",
     "text": [
      " 86%|████████▌ | 172/200 [18:16<03:06,  6.67s/it]"
     ]
    },
    {
     "name": "stdout",
     "output_type": "stream",
     "text": [
      "epoch is 172, test_loss is 1.036059, test_acc is 0.858042\n",
      "epoch is 173, train_loss is 0.000029, train_acc is 1.000000\n"
     ]
    },
    {
     "name": "stderr",
     "output_type": "stream",
     "text": [
      " 86%|████████▋ | 173/200 [18:22<02:51,  6.36s/it]"
     ]
    },
    {
     "name": "stdout",
     "output_type": "stream",
     "text": [
      "epoch is 173, test_loss is 1.036516, test_acc is 0.855854\n",
      "epoch is 174, train_loss is 0.000030, train_acc is 1.000000\n"
     ]
    },
    {
     "name": "stderr",
     "output_type": "stream",
     "text": [
      " 87%|████████▋ | 174/200 [18:28<02:39,  6.13s/it]"
     ]
    },
    {
     "name": "stdout",
     "output_type": "stream",
     "text": [
      "epoch is 174, test_loss is 1.030968, test_acc is 0.857347\n",
      "epoch is 175, train_loss is 0.000029, train_acc is 1.000000\n"
     ]
    },
    {
     "name": "stderr",
     "output_type": "stream",
     "text": [
      " 88%|████████▊ | 175/200 [18:33<02:29,  5.99s/it]"
     ]
    },
    {
     "name": "stdout",
     "output_type": "stream",
     "text": [
      "epoch is 175, test_loss is 1.028588, test_acc is 0.855440\n",
      "epoch is 176, train_loss is 0.000029, train_acc is 1.000000\n"
     ]
    },
    {
     "name": "stderr",
     "output_type": "stream",
     "text": [
      " 88%|████████▊ | 176/200 [18:39<02:21,  5.88s/it]"
     ]
    },
    {
     "name": "stdout",
     "output_type": "stream",
     "text": [
      "epoch is 176, test_loss is 1.033892, test_acc is 0.856261\n",
      "epoch is 177, train_loss is 0.000029, train_acc is 1.000000\n"
     ]
    },
    {
     "name": "stderr",
     "output_type": "stream",
     "text": [
      " 88%|████████▊ | 177/200 [18:45<02:13,  5.81s/it]"
     ]
    },
    {
     "name": "stdout",
     "output_type": "stream",
     "text": [
      "epoch is 177, test_loss is 1.035204, test_acc is 0.857198\n",
      "epoch is 178, train_loss is 0.000028, train_acc is 1.000000\n"
     ]
    },
    {
     "name": "stderr",
     "output_type": "stream",
     "text": [
      " 89%|████████▉ | 178/200 [18:50<02:06,  5.74s/it]"
     ]
    },
    {
     "name": "stdout",
     "output_type": "stream",
     "text": [
      "epoch is 178, test_loss is 1.033341, test_acc is 0.857347\n",
      "epoch is 179, train_loss is 0.000027, train_acc is 1.000000\n"
     ]
    },
    {
     "name": "stderr",
     "output_type": "stream",
     "text": [
      " 90%|████████▉ | 179/200 [18:56<02:00,  5.74s/it]"
     ]
    },
    {
     "name": "stdout",
     "output_type": "stream",
     "text": [
      "epoch is 179, test_loss is 1.031339, test_acc is 0.857968\n",
      "epoch is 180, train_loss is 0.000030, train_acc is 1.000000\n"
     ]
    },
    {
     "name": "stderr",
     "output_type": "stream",
     "text": [
      " 90%|█████████ | 180/200 [19:02<01:54,  5.70s/it]"
     ]
    },
    {
     "name": "stdout",
     "output_type": "stream",
     "text": [
      "epoch is 180, test_loss is 1.034239, test_acc is 0.856060\n",
      "epoch is 181, train_loss is 0.000026, train_acc is 1.000000\n"
     ]
    },
    {
     "name": "stderr",
     "output_type": "stream",
     "text": [
      " 90%|█████████ | 181/200 [19:07<01:47,  5.66s/it]"
     ]
    },
    {
     "name": "stdout",
     "output_type": "stream",
     "text": [
      "epoch is 181, test_loss is 1.040816, test_acc is 0.854452\n",
      "epoch is 182, train_loss is 0.000026, train_acc is 1.000000\n"
     ]
    },
    {
     "name": "stderr",
     "output_type": "stream",
     "text": [
      " 91%|█████████ | 182/200 [19:13<01:41,  5.65s/it]"
     ]
    },
    {
     "name": "stdout",
     "output_type": "stream",
     "text": [
      "epoch is 182, test_loss is 1.028488, test_acc is 0.858140\n",
      "epoch is 183, train_loss is 0.000025, train_acc is 1.000000\n"
     ]
    },
    {
     "name": "stderr",
     "output_type": "stream",
     "text": [
      " 92%|█████████▏| 183/200 [19:18<01:36,  5.65s/it]"
     ]
    },
    {
     "name": "stdout",
     "output_type": "stream",
     "text": [
      "epoch is 183, test_loss is 1.036267, test_acc is 0.855859\n",
      "epoch is 184, train_loss is 0.000029, train_acc is 1.000000\n"
     ]
    },
    {
     "name": "stderr",
     "output_type": "stream",
     "text": [
      " 92%|█████████▏| 184/200 [19:24<01:30,  5.65s/it]"
     ]
    },
    {
     "name": "stdout",
     "output_type": "stream",
     "text": [
      "epoch is 184, test_loss is 1.037402, test_acc is 0.855612\n",
      "epoch is 185, train_loss is 0.000024, train_acc is 1.000000\n"
     ]
    },
    {
     "name": "stderr",
     "output_type": "stream",
     "text": [
      " 92%|█████████▎| 185/200 [19:30<01:24,  5.64s/it]"
     ]
    },
    {
     "name": "stdout",
     "output_type": "stream",
     "text": [
      "epoch is 185, test_loss is 1.031195, test_acc is 0.857071\n",
      "epoch is 186, train_loss is 0.000025, train_acc is 1.000000\n"
     ]
    },
    {
     "name": "stderr",
     "output_type": "stream",
     "text": [
      " 93%|█████████▎| 186/200 [19:35<01:18,  5.63s/it]"
     ]
    },
    {
     "name": "stdout",
     "output_type": "stream",
     "text": [
      "epoch is 186, test_loss is 1.034167, test_acc is 0.857738\n",
      "epoch is 187, train_loss is 0.000026, train_acc is 1.000000\n"
     ]
    },
    {
     "name": "stderr",
     "output_type": "stream",
     "text": [
      " 94%|█████████▎| 187/200 [19:41<01:13,  5.62s/it]"
     ]
    },
    {
     "name": "stdout",
     "output_type": "stream",
     "text": [
      "epoch is 187, test_loss is 1.037498, test_acc is 0.857135\n",
      "epoch is 188, train_loss is 0.000023, train_acc is 1.000000\n"
     ]
    },
    {
     "name": "stderr",
     "output_type": "stream",
     "text": [
      " 94%|█████████▍| 188/200 [19:47<01:09,  5.75s/it]"
     ]
    },
    {
     "name": "stdout",
     "output_type": "stream",
     "text": [
      "epoch is 188, test_loss is 1.041526, test_acc is 0.856945\n",
      "epoch is 189, train_loss is 0.000024, train_acc is 1.000000\n"
     ]
    },
    {
     "name": "stderr",
     "output_type": "stream",
     "text": [
      " 94%|█████████▍| 189/200 [19:53<01:04,  5.85s/it]"
     ]
    },
    {
     "name": "stdout",
     "output_type": "stream",
     "text": [
      "epoch is 189, test_loss is 1.037055, test_acc is 0.858209\n",
      "epoch is 190, train_loss is 0.000024, train_acc is 1.000000\n"
     ]
    },
    {
     "name": "stderr",
     "output_type": "stream",
     "text": [
      " 95%|█████████▌| 190/200 [19:59<00:57,  5.79s/it]"
     ]
    },
    {
     "name": "stdout",
     "output_type": "stream",
     "text": [
      "epoch is 190, test_loss is 1.044309, test_acc is 0.857146\n",
      "epoch is 191, train_loss is 0.000022, train_acc is 1.000000\n"
     ]
    },
    {
     "name": "stderr",
     "output_type": "stream",
     "text": [
      " 96%|█████████▌| 191/200 [20:04<00:52,  5.78s/it]"
     ]
    },
    {
     "name": "stdout",
     "output_type": "stream",
     "text": [
      "epoch is 191, test_loss is 1.046370, test_acc is 0.857617\n",
      "epoch is 192, train_loss is 0.000022, train_acc is 1.000000\n"
     ]
    },
    {
     "name": "stderr",
     "output_type": "stream",
     "text": [
      " 96%|█████████▌| 192/200 [20:10<00:46,  5.78s/it]"
     ]
    },
    {
     "name": "stdout",
     "output_type": "stream",
     "text": [
      "epoch is 192, test_loss is 1.039077, test_acc is 0.855124\n",
      "epoch is 193, train_loss is 0.000021, train_acc is 1.000000\n"
     ]
    },
    {
     "name": "stderr",
     "output_type": "stream",
     "text": [
      " 96%|█████████▋| 193/200 [20:16<00:40,  5.78s/it]"
     ]
    },
    {
     "name": "stdout",
     "output_type": "stream",
     "text": [
      "epoch is 193, test_loss is 1.044391, test_acc is 0.855061\n",
      "epoch is 194, train_loss is 0.000023, train_acc is 1.000000\n"
     ]
    },
    {
     "name": "stderr",
     "output_type": "stream",
     "text": [
      " 97%|█████████▋| 194/200 [20:22<00:34,  5.75s/it]"
     ]
    },
    {
     "name": "stdout",
     "output_type": "stream",
     "text": [
      "epoch is 194, test_loss is 1.038651, test_acc is 0.857037\n",
      "epoch is 195, train_loss is 0.000022, train_acc is 1.000000\n"
     ]
    },
    {
     "name": "stderr",
     "output_type": "stream",
     "text": [
      " 98%|█████████▊| 195/200 [20:27<00:28,  5.75s/it]"
     ]
    },
    {
     "name": "stdout",
     "output_type": "stream",
     "text": [
      "epoch is 195, test_loss is 1.045977, test_acc is 0.857520\n",
      "epoch is 196, train_loss is 0.000022, train_acc is 1.000000\n"
     ]
    },
    {
     "name": "stderr",
     "output_type": "stream",
     "text": [
      " 98%|█████████▊| 196/200 [20:33<00:22,  5.72s/it]"
     ]
    },
    {
     "name": "stdout",
     "output_type": "stream",
     "text": [
      "epoch is 196, test_loss is 1.039653, test_acc is 0.857669\n",
      "epoch is 197, train_loss is 0.000020, train_acc is 1.000000\n"
     ]
    },
    {
     "name": "stderr",
     "output_type": "stream",
     "text": [
      " 98%|█████████▊| 197/200 [20:39<00:17,  5.72s/it]"
     ]
    },
    {
     "name": "stdout",
     "output_type": "stream",
     "text": [
      "epoch is 197, test_loss is 1.039814, test_acc is 0.856526\n",
      "epoch is 198, train_loss is 0.000020, train_acc is 1.000000\n"
     ]
    },
    {
     "name": "stderr",
     "output_type": "stream",
     "text": [
      " 99%|█████████▉| 198/200 [20:44<00:11,  5.72s/it]"
     ]
    },
    {
     "name": "stdout",
     "output_type": "stream",
     "text": [
      "epoch is 198, test_loss is 1.042501, test_acc is 0.857250\n",
      "epoch is 199, train_loss is 0.000020, train_acc is 1.000000\n"
     ]
    },
    {
     "name": "stderr",
     "output_type": "stream",
     "text": [
      "100%|█████████▉| 199/200 [20:50<00:05,  5.71s/it]"
     ]
    },
    {
     "name": "stdout",
     "output_type": "stream",
     "text": [
      "epoch is 199, test_loss is 1.050467, test_acc is 0.856129\n",
      "epoch is 200, train_loss is 0.000019, train_acc is 1.000000\n"
     ]
    },
    {
     "name": "stderr",
     "output_type": "stream",
     "text": [
      "100%|██████████| 200/200 [20:56<00:00,  6.28s/it]"
     ]
    },
    {
     "name": "stdout",
     "output_type": "stream",
     "text": [
      "epoch is 200, test_loss is 1.049155, test_acc is 0.857646\n"
     ]
    },
    {
     "name": "stderr",
     "output_type": "stream",
     "text": [
      "\n"
     ]
    }
   ],
   "source": [
    "#lr=1e-3 defalut opt\n",
    "model = train(optimizer='ADAM', learning_rate=1e-3, max_epochs=200, eval_freq=500, ada_opt=True, save_para=True)"
   ]
  },
  {
   "cell_type": "code",
   "execution_count": 10,
   "id": "0fced254-08c4-43ad-9408-c261edfaf2c0",
   "metadata": {},
   "outputs": [
    {
     "name": "stdout",
     "output_type": "stream",
     "text": [
      "start training CNN...\n",
      "cuda:0\n"
     ]
    },
    {
     "name": "stderr",
     "output_type": "stream",
     "text": [
      "  0%|          | 0/200 [00:00<?, ?it/s]"
     ]
    },
    {
     "name": "stdout",
     "output_type": "stream",
     "text": [
      "epoch is 1, train_loss is 0.000020, train_acc is 1.000000\n"
     ]
    },
    {
     "name": "stderr",
     "output_type": "stream",
     "text": [
      "  0%|          | 1/200 [00:05<19:06,  5.76s/it]"
     ]
    },
    {
     "name": "stdout",
     "output_type": "stream",
     "text": [
      "epoch is 1, test_loss is 1.061776, test_acc is 0.858002\n",
      "epoch is 2, train_loss is 0.000014, train_acc is 1.000000\n"
     ]
    },
    {
     "name": "stderr",
     "output_type": "stream",
     "text": [
      "  1%|          | 2/200 [00:11<18:56,  5.74s/it]"
     ]
    },
    {
     "name": "stdout",
     "output_type": "stream",
     "text": [
      "epoch is 2, test_loss is 1.076054, test_acc is 0.856560\n",
      "epoch is 3, train_loss is 0.000013, train_acc is 1.000000\n"
     ]
    },
    {
     "name": "stderr",
     "output_type": "stream",
     "text": [
      "  2%|▏         | 3/200 [00:17<18:44,  5.71s/it]"
     ]
    },
    {
     "name": "stdout",
     "output_type": "stream",
     "text": [
      "epoch is 3, test_loss is 1.070232, test_acc is 0.857588\n",
      "epoch is 4, train_loss is 0.000010, train_acc is 1.000000\n"
     ]
    },
    {
     "name": "stderr",
     "output_type": "stream",
     "text": [
      "  2%|▏         | 4/200 [00:22<18:37,  5.70s/it]"
     ]
    },
    {
     "name": "stdout",
     "output_type": "stream",
     "text": [
      "epoch is 4, test_loss is 1.090128, test_acc is 0.856244\n",
      "epoch is 5, train_loss is 0.000008, train_acc is 1.000000\n"
     ]
    },
    {
     "name": "stderr",
     "output_type": "stream",
     "text": [
      "  2%|▎         | 5/200 [00:28<18:36,  5.72s/it]"
     ]
    },
    {
     "name": "stdout",
     "output_type": "stream",
     "text": [
      "epoch is 5, test_loss is 1.092765, test_acc is 0.857663\n",
      "epoch is 6, train_loss is 0.000007, train_acc is 1.000000\n"
     ]
    },
    {
     "name": "stderr",
     "output_type": "stream",
     "text": [
      "  3%|▎         | 6/200 [00:34<18:26,  5.70s/it]"
     ]
    },
    {
     "name": "stdout",
     "output_type": "stream",
     "text": [
      "epoch is 6, test_loss is 1.100348, test_acc is 0.857520\n",
      "epoch is 7, train_loss is 0.000007, train_acc is 1.000000\n"
     ]
    },
    {
     "name": "stderr",
     "output_type": "stream",
     "text": [
      "  4%|▎         | 7/200 [00:39<18:18,  5.69s/it]"
     ]
    },
    {
     "name": "stdout",
     "output_type": "stream",
     "text": [
      "epoch is 7, test_loss is 1.093780, test_acc is 0.859048\n",
      "epoch is 8, train_loss is 0.000006, train_acc is 1.000000\n"
     ]
    },
    {
     "name": "stderr",
     "output_type": "stream",
     "text": [
      "  4%|▍         | 8/200 [00:45<18:15,  5.71s/it]"
     ]
    },
    {
     "name": "stdout",
     "output_type": "stream",
     "text": [
      "epoch is 8, test_loss is 1.097566, test_acc is 0.858031\n",
      "epoch is 9, train_loss is 0.000005, train_acc is 1.000000\n"
     ]
    },
    {
     "name": "stderr",
     "output_type": "stream",
     "text": [
      "  4%|▍         | 9/200 [00:51<18:08,  5.70s/it]"
     ]
    },
    {
     "name": "stdout",
     "output_type": "stream",
     "text": [
      "epoch is 9, test_loss is 1.118189, test_acc is 0.857812\n",
      "epoch is 10, train_loss is 0.000005, train_acc is 1.000000\n"
     ]
    },
    {
     "name": "stderr",
     "output_type": "stream",
     "text": [
      "  5%|▌         | 10/200 [00:57<18:06,  5.72s/it]"
     ]
    },
    {
     "name": "stdout",
     "output_type": "stream",
     "text": [
      "epoch is 10, test_loss is 1.115693, test_acc is 0.858347\n",
      "epoch is 11, train_loss is 0.000004, train_acc is 1.000000\n"
     ]
    },
    {
     "name": "stderr",
     "output_type": "stream",
     "text": [
      "  6%|▌         | 11/200 [01:02<18:04,  5.74s/it]"
     ]
    },
    {
     "name": "stdout",
     "output_type": "stream",
     "text": [
      "epoch is 11, test_loss is 1.124484, test_acc is 0.858801\n",
      "epoch is 12, train_loss is 0.000004, train_acc is 1.000000\n"
     ]
    },
    {
     "name": "stderr",
     "output_type": "stream",
     "text": [
      "  6%|▌         | 12/200 [01:08<17:55,  5.72s/it]"
     ]
    },
    {
     "name": "stdout",
     "output_type": "stream",
     "text": [
      "epoch is 12, test_loss is 1.123979, test_acc is 0.859651\n",
      "epoch is 13, train_loss is 0.000003, train_acc is 1.000000\n"
     ]
    },
    {
     "name": "stderr",
     "output_type": "stream",
     "text": [
      "  6%|▋         | 13/200 [01:14<17:47,  5.71s/it]"
     ]
    },
    {
     "name": "stdout",
     "output_type": "stream",
     "text": [
      "epoch is 13, test_loss is 1.146971, test_acc is 0.858324\n",
      "epoch is 14, train_loss is 0.000003, train_acc is 1.000000\n"
     ]
    },
    {
     "name": "stderr",
     "output_type": "stream",
     "text": [
      "  7%|▋         | 14/200 [01:19<17:41,  5.71s/it]"
     ]
    },
    {
     "name": "stdout",
     "output_type": "stream",
     "text": [
      "epoch is 14, test_loss is 1.129438, test_acc is 0.858691\n",
      "epoch is 15, train_loss is 0.000003, train_acc is 1.000000\n"
     ]
    },
    {
     "name": "stderr",
     "output_type": "stream",
     "text": [
      "  8%|▊         | 15/200 [01:25<17:35,  5.71s/it]"
     ]
    },
    {
     "name": "stdout",
     "output_type": "stream",
     "text": [
      "epoch is 15, test_loss is 1.138709, test_acc is 0.860024\n",
      "epoch is 16, train_loss is 0.000003, train_acc is 1.000000\n"
     ]
    },
    {
     "name": "stderr",
     "output_type": "stream",
     "text": [
      "  8%|▊         | 16/200 [01:31<17:31,  5.71s/it]"
     ]
    },
    {
     "name": "stdout",
     "output_type": "stream",
     "text": [
      "epoch is 16, test_loss is 1.149078, test_acc is 0.857537\n",
      "epoch is 17, train_loss is 0.000004, train_acc is 1.000000\n"
     ]
    },
    {
     "name": "stderr",
     "output_type": "stream",
     "text": [
      "  8%|▊         | 17/200 [01:37<17:26,  5.72s/it]"
     ]
    },
    {
     "name": "stdout",
     "output_type": "stream",
     "text": [
      "epoch is 17, test_loss is 1.147659, test_acc is 0.860277\n",
      "epoch is 18, train_loss is 0.000003, train_acc is 1.000000\n"
     ]
    },
    {
     "name": "stderr",
     "output_type": "stream",
     "text": [
      "  9%|▉         | 18/200 [01:43<17:55,  5.91s/it]"
     ]
    },
    {
     "name": "stdout",
     "output_type": "stream",
     "text": [
      "epoch is 18, test_loss is 1.152248, test_acc is 0.858220\n",
      "epoch is 19, train_loss is 0.000002, train_acc is 1.000000\n"
     ]
    },
    {
     "name": "stderr",
     "output_type": "stream",
     "text": [
      " 10%|▉         | 19/200 [01:51<19:17,  6.40s/it]"
     ]
    },
    {
     "name": "stdout",
     "output_type": "stream",
     "text": [
      "epoch is 19, test_loss is 1.152131, test_acc is 0.858892\n",
      "epoch is 20, train_loss is 0.000002, train_acc is 1.000000\n"
     ]
    },
    {
     "name": "stderr",
     "output_type": "stream",
     "text": [
      " 10%|█         | 20/200 [01:58<20:19,  6.78s/it]"
     ]
    },
    {
     "name": "stdout",
     "output_type": "stream",
     "text": [
      "epoch is 20, test_loss is 1.149629, test_acc is 0.859909\n",
      "epoch is 21, train_loss is 0.000002, train_acc is 1.000000\n"
     ]
    },
    {
     "name": "stderr",
     "output_type": "stream",
     "text": [
      " 10%|█         | 21/200 [02:06<21:10,  7.10s/it]"
     ]
    },
    {
     "name": "stdout",
     "output_type": "stream",
     "text": [
      "epoch is 21, test_loss is 1.167187, test_acc is 0.859053\n",
      "epoch is 22, train_loss is 0.000002, train_acc is 1.000000\n"
     ]
    },
    {
     "name": "stderr",
     "output_type": "stream",
     "text": [
      " 11%|█         | 22/200 [02:14<21:45,  7.34s/it]"
     ]
    },
    {
     "name": "stdout",
     "output_type": "stream",
     "text": [
      "epoch is 22, test_loss is 1.180418, test_acc is 0.859938\n",
      "epoch is 23, train_loss is 0.000002, train_acc is 1.000000\n"
     ]
    },
    {
     "name": "stderr",
     "output_type": "stream",
     "text": [
      " 12%|█▏        | 23/200 [02:22<22:03,  7.48s/it]"
     ]
    },
    {
     "name": "stdout",
     "output_type": "stream",
     "text": [
      "epoch is 23, test_loss is 1.170429, test_acc is 0.859628\n",
      "epoch is 24, train_loss is 0.000002, train_acc is 1.000000\n"
     ]
    },
    {
     "name": "stderr",
     "output_type": "stream",
     "text": [
      " 12%|█▏        | 24/200 [02:30<22:18,  7.60s/it]"
     ]
    },
    {
     "name": "stdout",
     "output_type": "stream",
     "text": [
      "epoch is 24, test_loss is 1.169690, test_acc is 0.860535\n",
      "epoch is 25, train_loss is 0.000002, train_acc is 1.000000\n"
     ]
    },
    {
     "name": "stderr",
     "output_type": "stream",
     "text": [
      " 12%|█▎        | 25/200 [02:38<22:29,  7.71s/it]"
     ]
    },
    {
     "name": "stdout",
     "output_type": "stream",
     "text": [
      "epoch is 25, test_loss is 1.181105, test_acc is 0.858651\n",
      "epoch is 26, train_loss is 0.000001, train_acc is 1.000000\n"
     ]
    },
    {
     "name": "stderr",
     "output_type": "stream",
     "text": [
      " 13%|█▎        | 26/200 [02:45<22:14,  7.67s/it]"
     ]
    },
    {
     "name": "stdout",
     "output_type": "stream",
     "text": [
      "epoch is 26, test_loss is 1.165617, test_acc is 0.861162\n",
      "epoch is 27, train_loss is 0.000001, train_acc is 1.000000\n"
     ]
    },
    {
     "name": "stderr",
     "output_type": "stream",
     "text": [
      " 14%|█▎        | 27/200 [02:53<22:01,  7.64s/it]"
     ]
    },
    {
     "name": "stdout",
     "output_type": "stream",
     "text": [
      "epoch is 27, test_loss is 1.174545, test_acc is 0.860225\n",
      "epoch is 28, train_loss is 0.000001, train_acc is 1.000000\n"
     ]
    },
    {
     "name": "stderr",
     "output_type": "stream",
     "text": [
      " 14%|█▍        | 28/200 [03:01<22:00,  7.68s/it]"
     ]
    },
    {
     "name": "stdout",
     "output_type": "stream",
     "text": [
      "epoch is 28, test_loss is 1.163201, test_acc is 0.858996\n",
      "epoch is 29, train_loss is 0.000001, train_acc is 1.000000\n"
     ]
    },
    {
     "name": "stderr",
     "output_type": "stream",
     "text": [
      " 14%|█▍        | 29/200 [03:08<21:47,  7.65s/it]"
     ]
    },
    {
     "name": "stdout",
     "output_type": "stream",
     "text": [
      "epoch is 29, test_loss is 1.179963, test_acc is 0.860518\n",
      "epoch is 30, train_loss is 0.000001, train_acc is 1.000000\n"
     ]
    },
    {
     "name": "stderr",
     "output_type": "stream",
     "text": [
      " 15%|█▌        | 30/200 [03:16<21:42,  7.66s/it]"
     ]
    },
    {
     "name": "stdout",
     "output_type": "stream",
     "text": [
      "epoch is 30, test_loss is 1.179373, test_acc is 0.859019\n",
      "epoch is 31, train_loss is 0.000001, train_acc is 1.000000\n"
     ]
    },
    {
     "name": "stderr",
     "output_type": "stream",
     "text": [
      " 16%|█▌        | 31/200 [03:23<21:21,  7.58s/it]"
     ]
    },
    {
     "name": "stdout",
     "output_type": "stream",
     "text": [
      "epoch is 31, test_loss is 1.192436, test_acc is 0.860581\n",
      "epoch is 32, train_loss is 0.000001, train_acc is 1.000000\n"
     ]
    },
    {
     "name": "stderr",
     "output_type": "stream",
     "text": [
      " 16%|█▌        | 32/200 [03:31<21:23,  7.64s/it]"
     ]
    },
    {
     "name": "stdout",
     "output_type": "stream",
     "text": [
      "epoch is 32, test_loss is 1.199814, test_acc is 0.858732\n",
      "epoch is 33, train_loss is 0.000001, train_acc is 1.000000\n"
     ]
    },
    {
     "name": "stderr",
     "output_type": "stream",
     "text": [
      " 16%|█▋        | 33/200 [03:39<21:16,  7.64s/it]"
     ]
    },
    {
     "name": "stdout",
     "output_type": "stream",
     "text": [
      "epoch is 33, test_loss is 1.194972, test_acc is 0.859898\n",
      "epoch is 34, train_loss is 0.000001, train_acc is 1.000000\n"
     ]
    },
    {
     "name": "stderr",
     "output_type": "stream",
     "text": [
      " 17%|█▋        | 34/200 [03:46<21:02,  7.60s/it]"
     ]
    },
    {
     "name": "stdout",
     "output_type": "stream",
     "text": [
      "epoch is 34, test_loss is 1.190202, test_acc is 0.857945\n",
      "epoch is 35, train_loss is 0.000001, train_acc is 1.000000\n"
     ]
    },
    {
     "name": "stderr",
     "output_type": "stream",
     "text": [
      " 18%|█▊        | 35/200 [03:54<20:49,  7.57s/it]"
     ]
    },
    {
     "name": "stdout",
     "output_type": "stream",
     "text": [
      "epoch is 35, test_loss is 1.199628, test_acc is 0.859174\n",
      "epoch is 36, train_loss is 0.000001, train_acc is 1.000000\n"
     ]
    },
    {
     "name": "stderr",
     "output_type": "stream",
     "text": [
      " 18%|█▊        | 36/200 [04:01<20:43,  7.58s/it]"
     ]
    },
    {
     "name": "stdout",
     "output_type": "stream",
     "text": [
      "epoch is 36, test_loss is 1.204588, test_acc is 0.859065\n",
      "epoch is 37, train_loss is 0.000001, train_acc is 1.000000\n"
     ]
    },
    {
     "name": "stderr",
     "output_type": "stream",
     "text": [
      " 18%|█▊        | 37/200 [04:09<20:47,  7.65s/it]"
     ]
    },
    {
     "name": "stdout",
     "output_type": "stream",
     "text": [
      "epoch is 37, test_loss is 1.202803, test_acc is 0.857215\n",
      "epoch is 38, train_loss is 0.000001, train_acc is 1.000000\n"
     ]
    },
    {
     "name": "stderr",
     "output_type": "stream",
     "text": [
      " 19%|█▉        | 38/200 [04:17<20:45,  7.69s/it]"
     ]
    },
    {
     "name": "stdout",
     "output_type": "stream",
     "text": [
      "epoch is 38, test_loss is 1.199715, test_acc is 0.861242\n",
      "epoch is 39, train_loss is 0.000001, train_acc is 1.000000\n"
     ]
    },
    {
     "name": "stderr",
     "output_type": "stream",
     "text": [
      " 20%|█▉        | 39/200 [04:25<20:52,  7.78s/it]"
     ]
    },
    {
     "name": "stdout",
     "output_type": "stream",
     "text": [
      "epoch is 39, test_loss is 1.207075, test_acc is 0.857818\n",
      "epoch is 40, train_loss is 0.000001, train_acc is 1.000000\n"
     ]
    },
    {
     "name": "stderr",
     "output_type": "stream",
     "text": [
      " 20%|██        | 40/200 [04:32<20:40,  7.76s/it]"
     ]
    },
    {
     "name": "stdout",
     "output_type": "stream",
     "text": [
      "epoch is 40, test_loss is 1.204919, test_acc is 0.858479\n",
      "epoch is 41, train_loss is 0.000001, train_acc is 1.000000\n"
     ]
    },
    {
     "name": "stderr",
     "output_type": "stream",
     "text": [
      " 20%|██        | 41/200 [04:40<20:26,  7.71s/it]"
     ]
    },
    {
     "name": "stdout",
     "output_type": "stream",
     "text": [
      "epoch is 41, test_loss is 1.204766, test_acc is 0.860386\n",
      "epoch is 42, train_loss is 0.000001, train_acc is 1.000000\n"
     ]
    },
    {
     "name": "stderr",
     "output_type": "stream",
     "text": [
      " 21%|██        | 42/200 [04:48<20:24,  7.75s/it]"
     ]
    },
    {
     "name": "stdout",
     "output_type": "stream",
     "text": [
      "epoch is 42, test_loss is 1.202545, test_acc is 0.860828\n",
      "epoch is 43, train_loss is 0.000001, train_acc is 1.000000\n"
     ]
    },
    {
     "name": "stderr",
     "output_type": "stream",
     "text": [
      " 22%|██▏       | 43/200 [04:56<20:17,  7.75s/it]"
     ]
    },
    {
     "name": "stdout",
     "output_type": "stream",
     "text": [
      "epoch is 43, test_loss is 1.212375, test_acc is 0.857623\n",
      "epoch is 44, train_loss is 0.000001, train_acc is 1.000000\n"
     ]
    },
    {
     "name": "stderr",
     "output_type": "stream",
     "text": [
      " 22%|██▏       | 44/200 [05:03<20:08,  7.75s/it]"
     ]
    },
    {
     "name": "stdout",
     "output_type": "stream",
     "text": [
      "epoch is 44, test_loss is 1.226174, test_acc is 0.859519\n",
      "epoch is 45, train_loss is 0.000001, train_acc is 1.000000\n"
     ]
    },
    {
     "name": "stderr",
     "output_type": "stream",
     "text": [
      " 22%|██▎       | 45/200 [05:11<20:01,  7.75s/it]"
     ]
    },
    {
     "name": "stdout",
     "output_type": "stream",
     "text": [
      "epoch is 45, test_loss is 1.215829, test_acc is 0.861719\n",
      "epoch is 46, train_loss is 0.000001, train_acc is 1.000000\n"
     ]
    },
    {
     "name": "stderr",
     "output_type": "stream",
     "text": [
      " 23%|██▎       | 46/200 [05:19<20:02,  7.81s/it]"
     ]
    },
    {
     "name": "stdout",
     "output_type": "stream",
     "text": [
      "epoch is 46, test_loss is 1.217512, test_acc is 0.860834\n",
      "epoch is 47, train_loss is 0.000001, train_acc is 1.000000\n"
     ]
    },
    {
     "name": "stderr",
     "output_type": "stream",
     "text": [
      " 24%|██▎       | 47/200 [05:27<19:41,  7.72s/it]"
     ]
    },
    {
     "name": "stdout",
     "output_type": "stream",
     "text": [
      "epoch is 47, test_loss is 1.225298, test_acc is 0.860823\n",
      "epoch is 48, train_loss is 0.000001, train_acc is 1.000000\n"
     ]
    },
    {
     "name": "stderr",
     "output_type": "stream",
     "text": [
      " 24%|██▍       | 48/200 [05:34<19:34,  7.73s/it]"
     ]
    },
    {
     "name": "stdout",
     "output_type": "stream",
     "text": [
      "epoch is 48, test_loss is 1.232442, test_acc is 0.860248\n",
      "epoch is 49, train_loss is 0.000001, train_acc is 1.000000\n"
     ]
    },
    {
     "name": "stderr",
     "output_type": "stream",
     "text": [
      " 24%|██▍       | 49/200 [05:42<19:25,  7.72s/it]"
     ]
    },
    {
     "name": "stdout",
     "output_type": "stream",
     "text": [
      "epoch is 49, test_loss is 1.226629, test_acc is 0.859128\n",
      "epoch is 50, train_loss is 0.000000, train_acc is 1.000000\n"
     ]
    },
    {
     "name": "stderr",
     "output_type": "stream",
     "text": [
      " 25%|██▌       | 50/200 [05:50<19:14,  7.69s/it]"
     ]
    },
    {
     "name": "stdout",
     "output_type": "stream",
     "text": [
      "epoch is 50, test_loss is 1.210400, test_acc is 0.863092\n",
      "epoch is 51, train_loss is 0.000000, train_acc is 1.000000\n"
     ]
    },
    {
     "name": "stderr",
     "output_type": "stream",
     "text": [
      " 26%|██▌       | 51/200 [05:57<19:04,  7.68s/it]"
     ]
    },
    {
     "name": "stdout",
     "output_type": "stream",
     "text": [
      "epoch is 51, test_loss is 1.227942, test_acc is 0.858525\n",
      "epoch is 52, train_loss is 0.000000, train_acc is 1.000000\n"
     ]
    },
    {
     "name": "stderr",
     "output_type": "stream",
     "text": [
      " 26%|██▌       | 52/200 [06:05<19:01,  7.71s/it]"
     ]
    },
    {
     "name": "stdout",
     "output_type": "stream",
     "text": [
      "epoch is 52, test_loss is 1.227427, test_acc is 0.860507\n",
      "epoch is 53, train_loss is 0.000000, train_acc is 1.000000\n"
     ]
    },
    {
     "name": "stderr",
     "output_type": "stream",
     "text": [
      " 26%|██▋       | 53/200 [06:12<18:03,  7.37s/it]"
     ]
    },
    {
     "name": "stdout",
     "output_type": "stream",
     "text": [
      "epoch is 53, test_loss is 1.245222, test_acc is 0.860702\n",
      "epoch is 54, train_loss is 0.000001, train_acc is 1.000000\n"
     ]
    },
    {
     "name": "stderr",
     "output_type": "stream",
     "text": [
      " 27%|██▋       | 54/200 [06:18<16:51,  6.93s/it]"
     ]
    },
    {
     "name": "stdout",
     "output_type": "stream",
     "text": [
      "epoch is 54, test_loss is 1.234225, test_acc is 0.860311\n",
      "epoch is 55, train_loss is 0.000000, train_acc is 1.000000\n"
     ]
    },
    {
     "name": "stderr",
     "output_type": "stream",
     "text": [
      " 28%|██▊       | 55/200 [06:23<15:51,  6.56s/it]"
     ]
    },
    {
     "name": "stdout",
     "output_type": "stream",
     "text": [
      "epoch is 55, test_loss is 1.234425, test_acc is 0.860018\n",
      "epoch is 56, train_loss is 0.000000, train_acc is 1.000000\n"
     ]
    },
    {
     "name": "stderr",
     "output_type": "stream",
     "text": [
      " 28%|██▊       | 56/200 [06:29<15:06,  6.30s/it]"
     ]
    },
    {
     "name": "stdout",
     "output_type": "stream",
     "text": [
      "epoch is 56, test_loss is 1.231450, test_acc is 0.859082\n",
      "epoch is 57, train_loss is 0.000000, train_acc is 1.000000\n"
     ]
    },
    {
     "name": "stderr",
     "output_type": "stream",
     "text": [
      " 28%|██▊       | 57/200 [06:35<14:36,  6.13s/it]"
     ]
    },
    {
     "name": "stdout",
     "output_type": "stream",
     "text": [
      "epoch is 57, test_loss is 1.242006, test_acc is 0.860105\n",
      "epoch is 58, train_loss is 0.000000, train_acc is 1.000000\n"
     ]
    },
    {
     "name": "stderr",
     "output_type": "stream",
     "text": [
      " 29%|██▉       | 58/200 [06:41<14:18,  6.05s/it]"
     ]
    },
    {
     "name": "stdout",
     "output_type": "stream",
     "text": [
      "epoch is 58, test_loss is 1.246717, test_acc is 0.860311\n",
      "epoch is 59, train_loss is 0.000000, train_acc is 1.000000\n"
     ]
    },
    {
     "name": "stderr",
     "output_type": "stream",
     "text": [
      " 30%|██▉       | 59/200 [06:46<13:57,  5.94s/it]"
     ]
    },
    {
     "name": "stdout",
     "output_type": "stream",
     "text": [
      "epoch is 59, test_loss is 1.247603, test_acc is 0.859674\n",
      "epoch is 60, train_loss is 0.000000, train_acc is 1.000000\n"
     ]
    },
    {
     "name": "stderr",
     "output_type": "stream",
     "text": [
      " 30%|███       | 60/200 [06:52<13:39,  5.86s/it]"
     ]
    },
    {
     "name": "stdout",
     "output_type": "stream",
     "text": [
      "epoch is 60, test_loss is 1.242471, test_acc is 0.861569\n",
      "epoch is 61, train_loss is 0.000000, train_acc is 1.000000\n"
     ]
    },
    {
     "name": "stderr",
     "output_type": "stream",
     "text": [
      " 30%|███       | 61/200 [06:58<13:27,  5.81s/it]"
     ]
    },
    {
     "name": "stdout",
     "output_type": "stream",
     "text": [
      "epoch is 61, test_loss is 1.245330, test_acc is 0.860690\n",
      "epoch is 62, train_loss is 0.000000, train_acc is 1.000000\n"
     ]
    },
    {
     "name": "stderr",
     "output_type": "stream",
     "text": [
      " 31%|███       | 62/200 [07:03<13:14,  5.76s/it]"
     ]
    },
    {
     "name": "stdout",
     "output_type": "stream",
     "text": [
      "epoch is 62, test_loss is 1.246291, test_acc is 0.860133\n",
      "epoch is 63, train_loss is 0.000000, train_acc is 1.000000\n"
     ]
    },
    {
     "name": "stderr",
     "output_type": "stream",
     "text": [
      " 32%|███▏      | 63/200 [07:09<13:04,  5.73s/it]"
     ]
    },
    {
     "name": "stdout",
     "output_type": "stream",
     "text": [
      "epoch is 63, test_loss is 1.249601, test_acc is 0.860679\n",
      "epoch is 64, train_loss is 0.000000, train_acc is 1.000000\n"
     ]
    },
    {
     "name": "stderr",
     "output_type": "stream",
     "text": [
      " 32%|███▏      | 64/200 [07:15<13:04,  5.77s/it]"
     ]
    },
    {
     "name": "stdout",
     "output_type": "stream",
     "text": [
      "epoch is 64, test_loss is 1.265798, test_acc is 0.858295\n",
      "epoch is 65, train_loss is 0.000000, train_acc is 1.000000\n"
     ]
    },
    {
     "name": "stderr",
     "output_type": "stream",
     "text": [
      " 32%|███▎      | 65/200 [07:20<12:53,  5.73s/it]"
     ]
    },
    {
     "name": "stdout",
     "output_type": "stream",
     "text": [
      "epoch is 65, test_loss is 1.257822, test_acc is 0.860558\n",
      "epoch is 66, train_loss is 0.000000, train_acc is 1.000000\n"
     ]
    },
    {
     "name": "stderr",
     "output_type": "stream",
     "text": [
      " 33%|███▎      | 66/200 [07:26<12:45,  5.71s/it]"
     ]
    },
    {
     "name": "stdout",
     "output_type": "stream",
     "text": [
      "epoch is 66, test_loss is 1.244264, test_acc is 0.863942\n",
      "epoch is 67, train_loss is 0.000000, train_acc is 1.000000\n"
     ]
    },
    {
     "name": "stderr",
     "output_type": "stream",
     "text": [
      " 34%|███▎      | 67/200 [07:32<12:36,  5.69s/it]"
     ]
    },
    {
     "name": "stdout",
     "output_type": "stream",
     "text": [
      "epoch is 67, test_loss is 1.253290, test_acc is 0.862115\n",
      "epoch is 68, train_loss is 0.000000, train_acc is 1.000000\n"
     ]
    },
    {
     "name": "stderr",
     "output_type": "stream",
     "text": [
      " 34%|███▍      | 68/200 [07:37<12:29,  5.68s/it]"
     ]
    },
    {
     "name": "stdout",
     "output_type": "stream",
     "text": [
      "epoch is 68, test_loss is 1.262594, test_acc is 0.860788\n",
      "epoch is 69, train_loss is 0.000000, train_acc is 1.000000\n"
     ]
    },
    {
     "name": "stderr",
     "output_type": "stream",
     "text": [
      " 34%|███▍      | 69/200 [07:43<12:21,  5.66s/it]"
     ]
    },
    {
     "name": "stdout",
     "output_type": "stream",
     "text": [
      "epoch is 69, test_loss is 1.266545, test_acc is 0.860593\n",
      "epoch is 70, train_loss is 0.000000, train_acc is 1.000000\n"
     ]
    },
    {
     "name": "stderr",
     "output_type": "stream",
     "text": [
      " 35%|███▌      | 70/200 [07:49<12:18,  5.68s/it]"
     ]
    },
    {
     "name": "stdout",
     "output_type": "stream",
     "text": [
      "epoch is 70, test_loss is 1.271372, test_acc is 0.860679\n",
      "epoch is 71, train_loss is 0.000000, train_acc is 1.000000\n"
     ]
    },
    {
     "name": "stderr",
     "output_type": "stream",
     "text": [
      " 36%|███▌      | 71/200 [07:54<12:12,  5.68s/it]"
     ]
    },
    {
     "name": "stdout",
     "output_type": "stream",
     "text": [
      "epoch is 71, test_loss is 1.266484, test_acc is 0.860800\n",
      "epoch is 72, train_loss is 0.000000, train_acc is 1.000000\n"
     ]
    },
    {
     "name": "stderr",
     "output_type": "stream",
     "text": [
      " 36%|███▌      | 72/200 [08:00<12:06,  5.67s/it]"
     ]
    },
    {
     "name": "stdout",
     "output_type": "stream",
     "text": [
      "epoch is 72, test_loss is 1.267522, test_acc is 0.862414\n",
      "epoch is 73, train_loss is 0.000000, train_acc is 1.000000\n"
     ]
    },
    {
     "name": "stderr",
     "output_type": "stream",
     "text": [
      " 36%|███▋      | 73/200 [08:06<11:59,  5.66s/it]"
     ]
    },
    {
     "name": "stdout",
     "output_type": "stream",
     "text": [
      "epoch is 73, test_loss is 1.270946, test_acc is 0.861592\n",
      "epoch is 74, train_loss is 0.000000, train_acc is 1.000000\n"
     ]
    },
    {
     "name": "stderr",
     "output_type": "stream",
     "text": [
      " 37%|███▋      | 74/200 [08:11<11:56,  5.69s/it]"
     ]
    },
    {
     "name": "stdout",
     "output_type": "stream",
     "text": [
      "epoch is 74, test_loss is 1.255915, test_acc is 0.861926\n",
      "epoch is 75, train_loss is 0.000000, train_acc is 1.000000\n"
     ]
    },
    {
     "name": "stderr",
     "output_type": "stream",
     "text": [
      " 38%|███▊      | 75/200 [08:17<12:01,  5.77s/it]"
     ]
    },
    {
     "name": "stdout",
     "output_type": "stream",
     "text": [
      "epoch is 75, test_loss is 1.269672, test_acc is 0.861081\n",
      "epoch is 76, train_loss is 0.000000, train_acc is 1.000000\n"
     ]
    },
    {
     "name": "stderr",
     "output_type": "stream",
     "text": [
      " 38%|███▊      | 76/200 [08:23<11:59,  5.80s/it]"
     ]
    },
    {
     "name": "stdout",
     "output_type": "stream",
     "text": [
      "epoch is 76, test_loss is 1.278681, test_acc is 0.860742\n",
      "epoch is 77, train_loss is 0.000000, train_acc is 1.000000\n"
     ]
    },
    {
     "name": "stderr",
     "output_type": "stream",
     "text": [
      " 38%|███▊      | 77/200 [08:29<11:57,  5.84s/it]"
     ]
    },
    {
     "name": "stdout",
     "output_type": "stream",
     "text": [
      "epoch is 77, test_loss is 1.257956, test_acc is 0.859691\n",
      "epoch is 78, train_loss is 0.000000, train_acc is 1.000000\n"
     ]
    },
    {
     "name": "stderr",
     "output_type": "stream",
     "text": [
      " 39%|███▉      | 78/200 [08:35<11:48,  5.81s/it]"
     ]
    },
    {
     "name": "stdout",
     "output_type": "stream",
     "text": [
      "epoch is 78, test_loss is 1.286297, test_acc is 0.860978\n",
      "epoch is 79, train_loss is 0.000000, train_acc is 1.000000\n"
     ]
    },
    {
     "name": "stderr",
     "output_type": "stream",
     "text": [
      " 40%|███▉      | 79/200 [08:41<11:38,  5.77s/it]"
     ]
    },
    {
     "name": "stdout",
     "output_type": "stream",
     "text": [
      "epoch is 79, test_loss is 1.278374, test_acc is 0.860570\n",
      "epoch is 80, train_loss is 0.000000, train_acc is 1.000000\n"
     ]
    },
    {
     "name": "stderr",
     "output_type": "stream",
     "text": [
      " 40%|████      | 80/200 [08:46<11:29,  5.75s/it]"
     ]
    },
    {
     "name": "stdout",
     "output_type": "stream",
     "text": [
      "epoch is 80, test_loss is 1.285677, test_acc is 0.860788\n",
      "epoch is 81, train_loss is 0.000000, train_acc is 1.000000\n"
     ]
    },
    {
     "name": "stderr",
     "output_type": "stream",
     "text": [
      " 40%|████      | 81/200 [08:52<11:22,  5.73s/it]"
     ]
    },
    {
     "name": "stdout",
     "output_type": "stream",
     "text": [
      "epoch is 81, test_loss is 1.290931, test_acc is 0.859329\n",
      "epoch is 82, train_loss is 0.000000, train_acc is 1.000000\n"
     ]
    },
    {
     "name": "stderr",
     "output_type": "stream",
     "text": [
      " 41%|████      | 82/200 [08:58<11:19,  5.76s/it]"
     ]
    },
    {
     "name": "stdout",
     "output_type": "stream",
     "text": [
      "epoch is 82, test_loss is 1.286102, test_acc is 0.860645\n",
      "epoch is 83, train_loss is 0.000000, train_acc is 1.000000\n"
     ]
    },
    {
     "name": "stderr",
     "output_type": "stream",
     "text": [
      " 42%|████▏     | 83/200 [09:04<11:10,  5.73s/it]"
     ]
    },
    {
     "name": "stdout",
     "output_type": "stream",
     "text": [
      "epoch is 83, test_loss is 1.291974, test_acc is 0.859685\n",
      "epoch is 84, train_loss is 0.000000, train_acc is 1.000000\n"
     ]
    },
    {
     "name": "stderr",
     "output_type": "stream",
     "text": [
      " 42%|████▏     | 84/200 [09:09<11:05,  5.74s/it]"
     ]
    },
    {
     "name": "stdout",
     "output_type": "stream",
     "text": [
      "epoch is 84, test_loss is 1.277989, test_acc is 0.861489\n",
      "epoch is 85, train_loss is 0.000000, train_acc is 1.000000\n"
     ]
    },
    {
     "name": "stderr",
     "output_type": "stream",
     "text": [
      " 42%|████▎     | 85/200 [09:15<10:59,  5.74s/it]"
     ]
    },
    {
     "name": "stdout",
     "output_type": "stream",
     "text": [
      "epoch is 85, test_loss is 1.291251, test_acc is 0.859381\n",
      "epoch is 86, train_loss is 0.000000, train_acc is 1.000000\n"
     ]
    },
    {
     "name": "stderr",
     "output_type": "stream",
     "text": [
      " 43%|████▎     | 86/200 [09:21<10:56,  5.76s/it]"
     ]
    },
    {
     "name": "stdout",
     "output_type": "stream",
     "text": [
      "epoch is 86, test_loss is 1.274086, test_acc is 0.861305\n",
      "epoch is 87, train_loss is 0.000000, train_acc is 1.000000\n"
     ]
    },
    {
     "name": "stderr",
     "output_type": "stream",
     "text": [
      " 44%|████▎     | 87/200 [09:27<10:51,  5.77s/it]"
     ]
    },
    {
     "name": "stdout",
     "output_type": "stream",
     "text": [
      "epoch is 87, test_loss is 1.274623, test_acc is 0.860679\n",
      "epoch is 88, train_loss is 0.000000, train_acc is 1.000000\n"
     ]
    },
    {
     "name": "stderr",
     "output_type": "stream",
     "text": [
      " 44%|████▍     | 88/200 [09:34<11:35,  6.21s/it]"
     ]
    },
    {
     "name": "stdout",
     "output_type": "stream",
     "text": [
      "epoch is 88, test_loss is 1.281124, test_acc is 0.862776\n",
      "epoch is 89, train_loss is 0.000000, train_acc is 1.000000\n"
     ]
    },
    {
     "name": "stderr",
     "output_type": "stream",
     "text": [
      " 44%|████▍     | 89/200 [09:42<12:16,  6.64s/it]"
     ]
    },
    {
     "name": "stdout",
     "output_type": "stream",
     "text": [
      "epoch is 89, test_loss is 1.276845, test_acc is 0.861294\n",
      "epoch is 90, train_loss is 0.000000, train_acc is 1.000000\n"
     ]
    },
    {
     "name": "stderr",
     "output_type": "stream",
     "text": [
      " 45%|████▌     | 90/200 [09:49<12:44,  6.95s/it]"
     ]
    },
    {
     "name": "stdout",
     "output_type": "stream",
     "text": [
      "epoch is 90, test_loss is 1.285492, test_acc is 0.860507\n",
      "epoch is 91, train_loss is 0.000000, train_acc is 1.000000\n"
     ]
    },
    {
     "name": "stderr",
     "output_type": "stream",
     "text": [
      " 46%|████▌     | 91/200 [09:57<13:06,  7.21s/it]"
     ]
    },
    {
     "name": "stdout",
     "output_type": "stream",
     "text": [
      "epoch is 91, test_loss is 1.274427, test_acc is 0.861742\n",
      "epoch is 92, train_loss is 0.000000, train_acc is 1.000000\n"
     ]
    },
    {
     "name": "stderr",
     "output_type": "stream",
     "text": [
      " 46%|████▌     | 92/200 [10:05<13:18,  7.39s/it]"
     ]
    },
    {
     "name": "stdout",
     "output_type": "stream",
     "text": [
      "epoch is 92, test_loss is 1.286370, test_acc is 0.862219\n",
      "epoch is 93, train_loss is 0.000000, train_acc is 1.000000\n"
     ]
    },
    {
     "name": "stderr",
     "output_type": "stream",
     "text": [
      " 46%|████▋     | 93/200 [10:12<13:14,  7.42s/it]"
     ]
    },
    {
     "name": "stdout",
     "output_type": "stream",
     "text": [
      "epoch is 93, test_loss is 1.268612, test_acc is 0.862063\n",
      "epoch is 94, train_loss is 0.000000, train_acc is 1.000000\n"
     ]
    },
    {
     "name": "stderr",
     "output_type": "stream",
     "text": [
      " 47%|████▋     | 94/200 [10:20<13:17,  7.52s/it]"
     ]
    },
    {
     "name": "stdout",
     "output_type": "stream",
     "text": [
      "epoch is 94, test_loss is 1.284225, test_acc is 0.860151\n",
      "epoch is 95, train_loss is 0.000000, train_acc is 1.000000\n"
     ]
    },
    {
     "name": "stderr",
     "output_type": "stream",
     "text": [
      " 48%|████▊     | 95/200 [10:27<12:49,  7.33s/it]"
     ]
    },
    {
     "name": "stdout",
     "output_type": "stream",
     "text": [
      "epoch is 95, test_loss is 1.289084, test_acc is 0.861265\n",
      "epoch is 96, train_loss is 0.000000, train_acc is 1.000000\n"
     ]
    },
    {
     "name": "stderr",
     "output_type": "stream",
     "text": [
      " 48%|████▊     | 96/200 [10:33<11:53,  6.86s/it]"
     ]
    },
    {
     "name": "stdout",
     "output_type": "stream",
     "text": [
      "epoch is 96, test_loss is 1.307334, test_acc is 0.859995\n",
      "epoch is 97, train_loss is 0.000000, train_acc is 1.000000\n"
     ]
    },
    {
     "name": "stderr",
     "output_type": "stream",
     "text": [
      " 48%|████▊     | 97/200 [10:39<11:15,  6.56s/it]"
     ]
    },
    {
     "name": "stdout",
     "output_type": "stream",
     "text": [
      "epoch is 97, test_loss is 1.283158, test_acc is 0.862644\n",
      "epoch is 98, train_loss is 0.000000, train_acc is 1.000000\n"
     ]
    },
    {
     "name": "stderr",
     "output_type": "stream",
     "text": [
      " 49%|████▉     | 98/200 [10:44<10:39,  6.27s/it]"
     ]
    },
    {
     "name": "stdout",
     "output_type": "stream",
     "text": [
      "epoch is 98, test_loss is 1.294645, test_acc is 0.860260\n",
      "epoch is 99, train_loss is 0.000000, train_acc is 1.000000\n"
     ]
    },
    {
     "name": "stderr",
     "output_type": "stream",
     "text": [
      " 50%|████▉     | 99/200 [10:50<10:13,  6.07s/it]"
     ]
    },
    {
     "name": "stdout",
     "output_type": "stream",
     "text": [
      "epoch is 99, test_loss is 1.293906, test_acc is 0.860524\n",
      "epoch is 100, train_loss is 0.000000, train_acc is 1.000000\n"
     ]
    },
    {
     "name": "stderr",
     "output_type": "stream",
     "text": [
      " 50%|█████     | 100/200 [10:55<09:53,  5.94s/it]"
     ]
    },
    {
     "name": "stdout",
     "output_type": "stream",
     "text": [
      "epoch is 100, test_loss is 1.278227, test_acc is 0.861437\n",
      "epoch is 101, train_loss is 0.000000, train_acc is 1.000000\n"
     ]
    },
    {
     "name": "stderr",
     "output_type": "stream",
     "text": [
      " 50%|█████     | 101/200 [11:01<09:39,  5.85s/it]"
     ]
    },
    {
     "name": "stdout",
     "output_type": "stream",
     "text": [
      "epoch is 101, test_loss is 1.286481, test_acc is 0.861253\n",
      "epoch is 102, train_loss is 0.000000, train_acc is 1.000000\n"
     ]
    },
    {
     "name": "stderr",
     "output_type": "stream",
     "text": [
      " 51%|█████     | 102/200 [11:07<09:27,  5.79s/it]"
     ]
    },
    {
     "name": "stdout",
     "output_type": "stream",
     "text": [
      "epoch is 102, test_loss is 1.274326, test_acc is 0.861133\n",
      "epoch is 103, train_loss is 0.000000, train_acc is 1.000000\n"
     ]
    },
    {
     "name": "stderr",
     "output_type": "stream",
     "text": [
      " 52%|█████▏    | 103/200 [11:12<09:16,  5.74s/it]"
     ]
    },
    {
     "name": "stdout",
     "output_type": "stream",
     "text": [
      "epoch is 103, test_loss is 1.271576, test_acc is 0.860811\n",
      "epoch is 104, train_loss is 0.000000, train_acc is 1.000000\n"
     ]
    },
    {
     "name": "stderr",
     "output_type": "stream",
     "text": [
      " 52%|█████▏    | 104/200 [11:18<09:08,  5.71s/it]"
     ]
    },
    {
     "name": "stdout",
     "output_type": "stream",
     "text": [
      "epoch is 104, test_loss is 1.277762, test_acc is 0.860995\n",
      "epoch is 105, train_loss is 0.000000, train_acc is 1.000000\n"
     ]
    },
    {
     "name": "stderr",
     "output_type": "stream",
     "text": [
      " 52%|█████▎    | 105/200 [11:24<09:01,  5.70s/it]"
     ]
    },
    {
     "name": "stdout",
     "output_type": "stream",
     "text": [
      "epoch is 105, test_loss is 1.287480, test_acc is 0.860851\n",
      "epoch is 106, train_loss is 0.000000, train_acc is 1.000000\n"
     ]
    },
    {
     "name": "stderr",
     "output_type": "stream",
     "text": [
      " 53%|█████▎    | 106/200 [11:29<08:57,  5.71s/it]"
     ]
    },
    {
     "name": "stdout",
     "output_type": "stream",
     "text": [
      "epoch is 106, test_loss is 1.283289, test_acc is 0.861426\n",
      "epoch is 107, train_loss is 0.000000, train_acc is 1.000000\n"
     ]
    },
    {
     "name": "stderr",
     "output_type": "stream",
     "text": [
      " 54%|█████▎    | 107/200 [11:35<08:48,  5.68s/it]"
     ]
    },
    {
     "name": "stdout",
     "output_type": "stream",
     "text": [
      "epoch is 107, test_loss is 1.282194, test_acc is 0.862856\n",
      "epoch is 108, train_loss is 0.000000, train_acc is 1.000000\n"
     ]
    },
    {
     "name": "stderr",
     "output_type": "stream",
     "text": [
      " 54%|█████▍    | 108/200 [11:41<08:41,  5.67s/it]"
     ]
    },
    {
     "name": "stdout",
     "output_type": "stream",
     "text": [
      "epoch is 108, test_loss is 1.279070, test_acc is 0.862414\n",
      "epoch is 109, train_loss is 0.000000, train_acc is 1.000000\n"
     ]
    },
    {
     "name": "stderr",
     "output_type": "stream",
     "text": [
      " 55%|█████▍    | 109/200 [11:46<08:40,  5.72s/it]"
     ]
    },
    {
     "name": "stdout",
     "output_type": "stream",
     "text": [
      "epoch is 109, test_loss is 1.288585, test_acc is 0.861207\n",
      "epoch is 110, train_loss is 0.000000, train_acc is 1.000000\n"
     ]
    },
    {
     "name": "stderr",
     "output_type": "stream",
     "text": [
      " 55%|█████▌    | 110/200 [11:52<08:34,  5.72s/it]"
     ]
    },
    {
     "name": "stdout",
     "output_type": "stream",
     "text": [
      "epoch is 110, test_loss is 1.294132, test_acc is 0.859794\n",
      "epoch is 111, train_loss is 0.000000, train_acc is 1.000000\n"
     ]
    },
    {
     "name": "stderr",
     "output_type": "stream",
     "text": [
      " 56%|█████▌    | 111/200 [11:58<08:28,  5.72s/it]"
     ]
    },
    {
     "name": "stdout",
     "output_type": "stream",
     "text": [
      "epoch is 111, test_loss is 1.283011, test_acc is 0.859909\n",
      "epoch is 112, train_loss is 0.000000, train_acc is 1.000000\n"
     ]
    },
    {
     "name": "stderr",
     "output_type": "stream",
     "text": [
      " 56%|█████▌    | 112/200 [12:04<08:23,  5.72s/it]"
     ]
    },
    {
     "name": "stdout",
     "output_type": "stream",
     "text": [
      "epoch is 112, test_loss is 1.278027, test_acc is 0.861437\n",
      "epoch is 113, train_loss is 0.000000, train_acc is 1.000000\n"
     ]
    },
    {
     "name": "stderr",
     "output_type": "stream",
     "text": [
      " 56%|█████▋    | 113/200 [12:10<08:23,  5.79s/it]"
     ]
    },
    {
     "name": "stdout",
     "output_type": "stream",
     "text": [
      "epoch is 113, test_loss is 1.287230, test_acc is 0.861340\n",
      "epoch is 114, train_loss is 0.000000, train_acc is 1.000000\n"
     ]
    },
    {
     "name": "stderr",
     "output_type": "stream",
     "text": [
      " 57%|█████▋    | 114/200 [12:15<08:14,  5.76s/it]"
     ]
    },
    {
     "name": "stdout",
     "output_type": "stream",
     "text": [
      "epoch is 114, test_loss is 1.285183, test_acc is 0.860604\n",
      "epoch is 115, train_loss is 0.000000, train_acc is 1.000000\n"
     ]
    },
    {
     "name": "stderr",
     "output_type": "stream",
     "text": [
      " 57%|█████▊    | 115/200 [12:21<08:11,  5.79s/it]"
     ]
    },
    {
     "name": "stdout",
     "output_type": "stream",
     "text": [
      "epoch is 115, test_loss is 1.286115, test_acc is 0.861064\n",
      "epoch is 116, train_loss is 0.000000, train_acc is 1.000000\n"
     ]
    },
    {
     "name": "stderr",
     "output_type": "stream",
     "text": [
      " 58%|█████▊    | 116/200 [12:27<08:09,  5.82s/it]"
     ]
    },
    {
     "name": "stdout",
     "output_type": "stream",
     "text": [
      "epoch is 116, test_loss is 1.297383, test_acc is 0.860794\n",
      "epoch is 117, train_loss is 0.000000, train_acc is 1.000000\n"
     ]
    },
    {
     "name": "stderr",
     "output_type": "stream",
     "text": [
      " 58%|█████▊    | 117/200 [12:33<08:01,  5.80s/it]"
     ]
    },
    {
     "name": "stdout",
     "output_type": "stream",
     "text": [
      "epoch is 117, test_loss is 1.279079, test_acc is 0.862592\n",
      "epoch is 118, train_loss is 0.000000, train_acc is 1.000000\n"
     ]
    },
    {
     "name": "stderr",
     "output_type": "stream",
     "text": [
      " 59%|█████▉    | 118/200 [12:38<07:52,  5.76s/it]"
     ]
    },
    {
     "name": "stdout",
     "output_type": "stream",
     "text": [
      "epoch is 118, test_loss is 1.290936, test_acc is 0.859197\n",
      "epoch is 119, train_loss is 0.000000, train_acc is 1.000000\n"
     ]
    },
    {
     "name": "stderr",
     "output_type": "stream",
     "text": [
      " 60%|█████▉    | 119/200 [12:44<07:46,  5.75s/it]"
     ]
    },
    {
     "name": "stdout",
     "output_type": "stream",
     "text": [
      "epoch is 119, test_loss is 1.303984, test_acc is 0.860179\n",
      "epoch is 120, train_loss is 0.000000, train_acc is 1.000000\n"
     ]
    },
    {
     "name": "stderr",
     "output_type": "stream",
     "text": [
      " 60%|██████    | 120/200 [12:50<07:37,  5.72s/it]"
     ]
    },
    {
     "name": "stdout",
     "output_type": "stream",
     "text": [
      "epoch is 120, test_loss is 1.284902, test_acc is 0.859312\n",
      "epoch is 121, train_loss is 0.000000, train_acc is 1.000000\n"
     ]
    },
    {
     "name": "stderr",
     "output_type": "stream",
     "text": [
      " 60%|██████    | 121/200 [12:56<07:31,  5.72s/it]"
     ]
    },
    {
     "name": "stdout",
     "output_type": "stream",
     "text": [
      "epoch is 121, test_loss is 1.278798, test_acc is 0.861495\n",
      "epoch is 122, train_loss is 0.000000, train_acc is 1.000000\n"
     ]
    },
    {
     "name": "stderr",
     "output_type": "stream",
     "text": [
      " 61%|██████    | 122/200 [13:01<07:27,  5.74s/it]"
     ]
    },
    {
     "name": "stdout",
     "output_type": "stream",
     "text": [
      "epoch is 122, test_loss is 1.283506, test_acc is 0.863442\n",
      "epoch is 123, train_loss is 0.000000, train_acc is 1.000000\n"
     ]
    },
    {
     "name": "stderr",
     "output_type": "stream",
     "text": [
      " 62%|██████▏   | 123/200 [13:08<07:47,  6.08s/it]"
     ]
    },
    {
     "name": "stdout",
     "output_type": "stream",
     "text": [
      "epoch is 123, test_loss is 1.273165, test_acc is 0.861673\n",
      "epoch is 124, train_loss is 0.000000, train_acc is 1.000000\n"
     ]
    },
    {
     "name": "stderr",
     "output_type": "stream",
     "text": [
      " 62%|██████▏   | 124/200 [13:16<08:20,  6.59s/it]"
     ]
    },
    {
     "name": "stdout",
     "output_type": "stream",
     "text": [
      "epoch is 124, test_loss is 1.303266, test_acc is 0.859926\n",
      "epoch is 125, train_loss is 0.000000, train_acc is 1.000000\n"
     ]
    },
    {
     "name": "stderr",
     "output_type": "stream",
     "text": [
      " 62%|██████▎   | 125/200 [13:24<08:35,  6.87s/it]"
     ]
    },
    {
     "name": "stdout",
     "output_type": "stream",
     "text": [
      "epoch is 125, test_loss is 1.291491, test_acc is 0.861345\n",
      "epoch is 126, train_loss is 0.000000, train_acc is 1.000000\n"
     ]
    },
    {
     "name": "stderr",
     "output_type": "stream",
     "text": [
      " 63%|██████▎   | 126/200 [13:31<08:47,  7.12s/it]"
     ]
    },
    {
     "name": "stdout",
     "output_type": "stream",
     "text": [
      "epoch is 126, test_loss is 1.276096, test_acc is 0.860690\n",
      "epoch is 127, train_loss is 0.000000, train_acc is 1.000000\n"
     ]
    },
    {
     "name": "stderr",
     "output_type": "stream",
     "text": [
      " 64%|██████▎   | 127/200 [13:39<08:50,  7.26s/it]"
     ]
    },
    {
     "name": "stdout",
     "output_type": "stream",
     "text": [
      "epoch is 127, test_loss is 1.285394, test_acc is 0.861104\n",
      "epoch is 128, train_loss is 0.000000, train_acc is 1.000000\n"
     ]
    },
    {
     "name": "stderr",
     "output_type": "stream",
     "text": [
      " 64%|██████▍   | 128/200 [13:46<08:47,  7.33s/it]"
     ]
    },
    {
     "name": "stdout",
     "output_type": "stream",
     "text": [
      "epoch is 128, test_loss is 1.283810, test_acc is 0.860558\n",
      "epoch is 129, train_loss is 0.000000, train_acc is 1.000000\n"
     ]
    },
    {
     "name": "stderr",
     "output_type": "stream",
     "text": [
      " 64%|██████▍   | 129/200 [13:53<08:16,  7.00s/it]"
     ]
    },
    {
     "name": "stdout",
     "output_type": "stream",
     "text": [
      "epoch is 129, test_loss is 1.282292, test_acc is 0.862741\n",
      "epoch is 130, train_loss is 0.000000, train_acc is 1.000000\n"
     ]
    },
    {
     "name": "stderr",
     "output_type": "stream",
     "text": [
      " 65%|██████▌   | 130/200 [13:58<07:46,  6.66s/it]"
     ]
    },
    {
     "name": "stdout",
     "output_type": "stream",
     "text": [
      "epoch is 130, test_loss is 1.298611, test_acc is 0.859903\n",
      "epoch is 131, train_loss is 0.000000, train_acc is 1.000000\n"
     ]
    },
    {
     "name": "stderr",
     "output_type": "stream",
     "text": [
      " 66%|██████▌   | 131/200 [14:04<07:18,  6.35s/it]"
     ]
    },
    {
     "name": "stdout",
     "output_type": "stream",
     "text": [
      "epoch is 131, test_loss is 1.280938, test_acc is 0.862219\n",
      "epoch is 132, train_loss is 0.000000, train_acc is 1.000000\n"
     ]
    },
    {
     "name": "stderr",
     "output_type": "stream",
     "text": [
      " 66%|██████▌   | 132/200 [14:10<06:57,  6.14s/it]"
     ]
    },
    {
     "name": "stdout",
     "output_type": "stream",
     "text": [
      "epoch is 132, test_loss is 1.278803, test_acc is 0.861610\n",
      "epoch is 133, train_loss is 0.000000, train_acc is 1.000000\n"
     ]
    },
    {
     "name": "stderr",
     "output_type": "stream",
     "text": [
      " 66%|██████▋   | 133/200 [14:15<06:42,  6.01s/it]"
     ]
    },
    {
     "name": "stdout",
     "output_type": "stream",
     "text": [
      "epoch is 133, test_loss is 1.270206, test_acc is 0.863551\n",
      "epoch is 134, train_loss is 0.000000, train_acc is 1.000000\n"
     ]
    },
    {
     "name": "stderr",
     "output_type": "stream",
     "text": [
      " 67%|██████▋   | 134/200 [14:21<06:31,  5.93s/it]"
     ]
    },
    {
     "name": "stdout",
     "output_type": "stream",
     "text": [
      "epoch is 134, test_loss is 1.274248, test_acc is 0.862534\n",
      "epoch is 135, train_loss is 0.000000, train_acc is 1.000000\n"
     ]
    },
    {
     "name": "stderr",
     "output_type": "stream",
     "text": [
      " 68%|██████▊   | 135/200 [14:27<06:20,  5.85s/it]"
     ]
    },
    {
     "name": "stdout",
     "output_type": "stream",
     "text": [
      "epoch is 135, test_loss is 1.284033, test_acc is 0.859949\n",
      "epoch is 136, train_loss is 0.000000, train_acc is 1.000000\n"
     ]
    },
    {
     "name": "stderr",
     "output_type": "stream",
     "text": [
      " 68%|██████▊   | 136/200 [14:32<06:11,  5.80s/it]"
     ]
    },
    {
     "name": "stdout",
     "output_type": "stream",
     "text": [
      "epoch is 136, test_loss is 1.299546, test_acc is 0.859111\n",
      "epoch is 137, train_loss is 0.000000, train_acc is 1.000000\n"
     ]
    },
    {
     "name": "stderr",
     "output_type": "stream",
     "text": [
      " 68%|██████▊   | 137/200 [14:38<06:03,  5.77s/it]"
     ]
    },
    {
     "name": "stdout",
     "output_type": "stream",
     "text": [
      "epoch is 137, test_loss is 1.264746, test_acc is 0.863752\n",
      "epoch is 138, train_loss is 0.000000, train_acc is 1.000000\n"
     ]
    },
    {
     "name": "stderr",
     "output_type": "stream",
     "text": [
      " 69%|██████▉   | 138/200 [14:44<05:56,  5.75s/it]"
     ]
    },
    {
     "name": "stdout",
     "output_type": "stream",
     "text": [
      "epoch is 138, test_loss is 1.270987, test_acc is 0.862483\n",
      "epoch is 139, train_loss is 0.000000, train_acc is 1.000000\n"
     ]
    },
    {
     "name": "stderr",
     "output_type": "stream",
     "text": [
      " 70%|██████▉   | 139/200 [14:50<05:48,  5.72s/it]"
     ]
    },
    {
     "name": "stdout",
     "output_type": "stream",
     "text": [
      "epoch is 139, test_loss is 1.277617, test_acc is 0.860415\n",
      "epoch is 140, train_loss is 0.000000, train_acc is 1.000000\n"
     ]
    },
    {
     "name": "stderr",
     "output_type": "stream",
     "text": [
      " 70%|███████   | 140/200 [14:55<05:44,  5.75s/it]"
     ]
    },
    {
     "name": "stdout",
     "output_type": "stream",
     "text": [
      "epoch is 140, test_loss is 1.276587, test_acc is 0.862948\n",
      "epoch is 141, train_loss is 0.000000, train_acc is 1.000000\n"
     ]
    },
    {
     "name": "stderr",
     "output_type": "stream",
     "text": [
      " 70%|███████   | 141/200 [15:01<05:37,  5.73s/it]"
     ]
    },
    {
     "name": "stdout",
     "output_type": "stream",
     "text": [
      "epoch is 141, test_loss is 1.284677, test_acc is 0.859174\n",
      "epoch is 142, train_loss is 0.000000, train_acc is 1.000000\n"
     ]
    },
    {
     "name": "stderr",
     "output_type": "stream",
     "text": [
      " 71%|███████   | 142/200 [15:07<05:30,  5.69s/it]"
     ]
    },
    {
     "name": "stdout",
     "output_type": "stream",
     "text": [
      "epoch is 142, test_loss is 1.281613, test_acc is 0.860765\n",
      "epoch is 143, train_loss is 0.000000, train_acc is 1.000000\n"
     ]
    },
    {
     "name": "stderr",
     "output_type": "stream",
     "text": [
      " 72%|███████▏  | 143/200 [15:12<05:23,  5.67s/it]"
     ]
    },
    {
     "name": "stdout",
     "output_type": "stream",
     "text": [
      "epoch is 143, test_loss is 1.286726, test_acc is 0.860409\n",
      "epoch is 144, train_loss is 0.000000, train_acc is 1.000000\n"
     ]
    },
    {
     "name": "stderr",
     "output_type": "stream",
     "text": [
      " 72%|███████▏  | 144/200 [15:18<05:19,  5.70s/it]"
     ]
    },
    {
     "name": "stdout",
     "output_type": "stream",
     "text": [
      "epoch is 144, test_loss is 1.287146, test_acc is 0.861317\n",
      "epoch is 145, train_loss is 0.000000, train_acc is 1.000000\n"
     ]
    },
    {
     "name": "stderr",
     "output_type": "stream",
     "text": [
      " 72%|███████▎  | 145/200 [15:24<05:13,  5.70s/it]"
     ]
    },
    {
     "name": "stdout",
     "output_type": "stream",
     "text": [
      "epoch is 145, test_loss is 1.300416, test_acc is 0.860380\n",
      "epoch is 146, train_loss is 0.000000, train_acc is 1.000000\n"
     ]
    },
    {
     "name": "stderr",
     "output_type": "stream",
     "text": [
      " 73%|███████▎  | 146/200 [15:29<05:08,  5.71s/it]"
     ]
    },
    {
     "name": "stdout",
     "output_type": "stream",
     "text": [
      "epoch is 146, test_loss is 1.281768, test_acc is 0.861156\n",
      "epoch is 147, train_loss is 0.000000, train_acc is 1.000000\n"
     ]
    },
    {
     "name": "stderr",
     "output_type": "stream",
     "text": [
      " 74%|███████▎  | 147/200 [15:35<05:01,  5.69s/it]"
     ]
    },
    {
     "name": "stdout",
     "output_type": "stream",
     "text": [
      "epoch is 147, test_loss is 1.288494, test_acc is 0.861747\n",
      "epoch is 148, train_loss is 0.000000, train_acc is 1.000000\n"
     ]
    },
    {
     "name": "stderr",
     "output_type": "stream",
     "text": [
      " 74%|███████▍  | 148/200 [15:41<04:55,  5.69s/it]"
     ]
    },
    {
     "name": "stdout",
     "output_type": "stream",
     "text": [
      "epoch is 148, test_loss is 1.285564, test_acc is 0.860863\n",
      "epoch is 149, train_loss is 0.000000, train_acc is 1.000000\n"
     ]
    },
    {
     "name": "stderr",
     "output_type": "stream",
     "text": [
      " 74%|███████▍  | 149/200 [15:46<04:49,  5.68s/it]"
     ]
    },
    {
     "name": "stdout",
     "output_type": "stream",
     "text": [
      "epoch is 149, test_loss is 1.291443, test_acc is 0.858697\n",
      "epoch is 150, train_loss is 0.000000, train_acc is 1.000000\n"
     ]
    },
    {
     "name": "stderr",
     "output_type": "stream",
     "text": [
      " 75%|███████▌  | 150/200 [15:52<04:43,  5.68s/it]"
     ]
    },
    {
     "name": "stdout",
     "output_type": "stream",
     "text": [
      "epoch is 150, test_loss is 1.274818, test_acc is 0.861311\n",
      "epoch is 151, train_loss is 0.000000, train_acc is 1.000000\n"
     ]
    },
    {
     "name": "stderr",
     "output_type": "stream",
     "text": [
      " 76%|███████▌  | 151/200 [15:58<04:38,  5.67s/it]"
     ]
    },
    {
     "name": "stdout",
     "output_type": "stream",
     "text": [
      "epoch is 151, test_loss is 1.280974, test_acc is 0.861460\n",
      "epoch is 152, train_loss is 0.000000, train_acc is 1.000000\n"
     ]
    },
    {
     "name": "stderr",
     "output_type": "stream",
     "text": [
      " 76%|███████▌  | 152/200 [16:03<04:32,  5.67s/it]"
     ]
    },
    {
     "name": "stdout",
     "output_type": "stream",
     "text": [
      "epoch is 152, test_loss is 1.286576, test_acc is 0.861437\n",
      "epoch is 153, train_loss is 0.000000, train_acc is 1.000000\n"
     ]
    },
    {
     "name": "stderr",
     "output_type": "stream",
     "text": [
      " 76%|███████▋  | 153/200 [16:09<04:28,  5.72s/it]"
     ]
    },
    {
     "name": "stdout",
     "output_type": "stream",
     "text": [
      "epoch is 153, test_loss is 1.281517, test_acc is 0.862569\n",
      "epoch is 154, train_loss is 0.000000, train_acc is 1.000000\n"
     ]
    },
    {
     "name": "stderr",
     "output_type": "stream",
     "text": [
      " 77%|███████▋  | 154/200 [16:15<04:24,  5.76s/it]"
     ]
    },
    {
     "name": "stdout",
     "output_type": "stream",
     "text": [
      "epoch is 154, test_loss is 1.292670, test_acc is 0.860656\n",
      "epoch is 155, train_loss is 0.000000, train_acc is 1.000000\n"
     ]
    },
    {
     "name": "stderr",
     "output_type": "stream",
     "text": [
      " 78%|███████▊  | 155/200 [16:21<04:17,  5.72s/it]"
     ]
    },
    {
     "name": "stdout",
     "output_type": "stream",
     "text": [
      "epoch is 155, test_loss is 1.284390, test_acc is 0.860254\n",
      "epoch is 156, train_loss is 0.000000, train_acc is 1.000000\n"
     ]
    },
    {
     "name": "stderr",
     "output_type": "stream",
     "text": [
      " 78%|███████▊  | 156/200 [16:27<04:12,  5.73s/it]"
     ]
    },
    {
     "name": "stdout",
     "output_type": "stream",
     "text": [
      "epoch is 156, test_loss is 1.284959, test_acc is 0.860805\n",
      "epoch is 157, train_loss is 0.000000, train_acc is 1.000000\n"
     ]
    },
    {
     "name": "stderr",
     "output_type": "stream",
     "text": [
      " 78%|███████▊  | 157/200 [16:32<04:07,  5.75s/it]"
     ]
    },
    {
     "name": "stdout",
     "output_type": "stream",
     "text": [
      "epoch is 157, test_loss is 1.280074, test_acc is 0.861569\n",
      "epoch is 158, train_loss is 0.000000, train_acc is 1.000000\n"
     ]
    },
    {
     "name": "stderr",
     "output_type": "stream",
     "text": [
      " 79%|███████▉  | 158/200 [16:38<04:05,  5.85s/it]"
     ]
    },
    {
     "name": "stdout",
     "output_type": "stream",
     "text": [
      "epoch is 158, test_loss is 1.285140, test_acc is 0.859869\n",
      "epoch is 159, train_loss is 0.000000, train_acc is 1.000000\n"
     ]
    },
    {
     "name": "stderr",
     "output_type": "stream",
     "text": [
      " 80%|███████▉  | 159/200 [16:44<04:00,  5.87s/it]"
     ]
    },
    {
     "name": "stdout",
     "output_type": "stream",
     "text": [
      "epoch is 159, test_loss is 1.294609, test_acc is 0.861690\n",
      "epoch is 160, train_loss is 0.000000, train_acc is 1.000000\n"
     ]
    },
    {
     "name": "stderr",
     "output_type": "stream",
     "text": [
      " 80%|████████  | 160/200 [16:50<03:54,  5.87s/it]"
     ]
    },
    {
     "name": "stdout",
     "output_type": "stream",
     "text": [
      "epoch is 160, test_loss is 1.283671, test_acc is 0.859473\n",
      "epoch is 161, train_loss is 0.000000, train_acc is 1.000000\n"
     ]
    },
    {
     "name": "stderr",
     "output_type": "stream",
     "text": [
      " 80%|████████  | 161/200 [16:56<03:47,  5.83s/it]"
     ]
    },
    {
     "name": "stdout",
     "output_type": "stream",
     "text": [
      "epoch is 161, test_loss is 1.290759, test_acc is 0.860357\n",
      "epoch is 162, train_loss is 0.000000, train_acc is 1.000000\n"
     ]
    },
    {
     "name": "stderr",
     "output_type": "stream",
     "text": [
      " 81%|████████  | 162/200 [17:02<03:41,  5.82s/it]"
     ]
    },
    {
     "name": "stdout",
     "output_type": "stream",
     "text": [
      "epoch is 162, test_loss is 1.272238, test_acc is 0.861564\n",
      "epoch is 163, train_loss is 0.000000, train_acc is 1.000000\n"
     ]
    },
    {
     "name": "stderr",
     "output_type": "stream",
     "text": [
      " 82%|████████▏ | 163/200 [17:07<03:33,  5.78s/it]"
     ]
    },
    {
     "name": "stdout",
     "output_type": "stream",
     "text": [
      "epoch is 163, test_loss is 1.278602, test_acc is 0.861851\n",
      "epoch is 164, train_loss is 0.000000, train_acc is 1.000000\n"
     ]
    },
    {
     "name": "stderr",
     "output_type": "stream",
     "text": [
      " 82%|████████▏ | 164/200 [17:13<03:26,  5.74s/it]"
     ]
    },
    {
     "name": "stdout",
     "output_type": "stream",
     "text": [
      "epoch is 164, test_loss is 1.280753, test_acc is 0.862333\n",
      "epoch is 165, train_loss is 0.000000, train_acc is 1.000000\n"
     ]
    },
    {
     "name": "stderr",
     "output_type": "stream",
     "text": [
      " 82%|████████▎ | 165/200 [17:19<03:19,  5.71s/it]"
     ]
    },
    {
     "name": "stdout",
     "output_type": "stream",
     "text": [
      "epoch is 165, test_loss is 1.289549, test_acc is 0.860386\n",
      "epoch is 166, train_loss is 0.000000, train_acc is 1.000000\n"
     ]
    },
    {
     "name": "stderr",
     "output_type": "stream",
     "text": [
      " 83%|████████▎ | 166/200 [17:24<03:14,  5.72s/it]"
     ]
    },
    {
     "name": "stdout",
     "output_type": "stream",
     "text": [
      "epoch is 166, test_loss is 1.286010, test_acc is 0.862770\n",
      "epoch is 167, train_loss is 0.000000, train_acc is 1.000000\n"
     ]
    },
    {
     "name": "stderr",
     "output_type": "stream",
     "text": [
      " 84%|████████▎ | 167/200 [17:30<03:08,  5.71s/it]"
     ]
    },
    {
     "name": "stdout",
     "output_type": "stream",
     "text": [
      "epoch is 167, test_loss is 1.286795, test_acc is 0.860570\n",
      "epoch is 168, train_loss is 0.000000, train_acc is 1.000000\n"
     ]
    },
    {
     "name": "stderr",
     "output_type": "stream",
     "text": [
      " 84%|████████▍ | 168/200 [17:36<03:02,  5.72s/it]"
     ]
    },
    {
     "name": "stdout",
     "output_type": "stream",
     "text": [
      "epoch is 168, test_loss is 1.286821, test_acc is 0.860926\n",
      "epoch is 169, train_loss is 0.000000, train_acc is 1.000000\n"
     ]
    },
    {
     "name": "stderr",
     "output_type": "stream",
     "text": [
      " 84%|████████▍ | 169/200 [17:42<02:58,  5.74s/it]"
     ]
    },
    {
     "name": "stdout",
     "output_type": "stream",
     "text": [
      "epoch is 169, test_loss is 1.281936, test_acc is 0.860949\n",
      "epoch is 170, train_loss is 0.000000, train_acc is 1.000000\n"
     ]
    },
    {
     "name": "stderr",
     "output_type": "stream",
     "text": [
      " 85%|████████▌ | 170/200 [17:47<02:51,  5.73s/it]"
     ]
    },
    {
     "name": "stdout",
     "output_type": "stream",
     "text": [
      "epoch is 170, test_loss is 1.269852, test_acc is 0.863454\n",
      "epoch is 171, train_loss is 0.000000, train_acc is 1.000000\n"
     ]
    },
    {
     "name": "stderr",
     "output_type": "stream",
     "text": [
      " 86%|████████▌ | 171/200 [17:54<02:49,  5.85s/it]"
     ]
    },
    {
     "name": "stdout",
     "output_type": "stream",
     "text": [
      "epoch is 171, test_loss is 1.276986, test_acc is 0.860938\n",
      "epoch is 172, train_loss is 0.000000, train_acc is 1.000000\n"
     ]
    },
    {
     "name": "stderr",
     "output_type": "stream",
     "text": [
      " 86%|████████▌ | 172/200 [18:01<02:58,  6.37s/it]"
     ]
    },
    {
     "name": "stdout",
     "output_type": "stream",
     "text": [
      "epoch is 172, test_loss is 1.285555, test_acc is 0.861598\n",
      "epoch is 173, train_loss is 0.000000, train_acc is 1.000000\n"
     ]
    },
    {
     "name": "stderr",
     "output_type": "stream",
     "text": [
      " 86%|████████▋ | 173/200 [18:08<03:00,  6.68s/it]"
     ]
    },
    {
     "name": "stdout",
     "output_type": "stream",
     "text": [
      "epoch is 173, test_loss is 1.276059, test_acc is 0.863028\n",
      "epoch is 174, train_loss is 0.000000, train_acc is 1.000000\n"
     ]
    },
    {
     "name": "stderr",
     "output_type": "stream",
     "text": [
      " 87%|████████▋ | 174/200 [18:16<03:00,  6.95s/it]"
     ]
    },
    {
     "name": "stdout",
     "output_type": "stream",
     "text": [
      "epoch is 174, test_loss is 1.279809, test_acc is 0.859605\n",
      "epoch is 175, train_loss is 0.000000, train_acc is 1.000000\n"
     ]
    },
    {
     "name": "stderr",
     "output_type": "stream",
     "text": [
      " 88%|████████▊ | 175/200 [18:24<02:59,  7.16s/it]"
     ]
    },
    {
     "name": "stdout",
     "output_type": "stream",
     "text": [
      "epoch is 175, test_loss is 1.289623, test_acc is 0.861363\n",
      "epoch is 176, train_loss is 0.000000, train_acc is 1.000000\n"
     ]
    },
    {
     "name": "stderr",
     "output_type": "stream",
     "text": [
      " 88%|████████▊ | 176/200 [18:31<02:56,  7.34s/it]"
     ]
    },
    {
     "name": "stdout",
     "output_type": "stream",
     "text": [
      "epoch is 176, test_loss is 1.283557, test_acc is 0.860277\n",
      "epoch is 177, train_loss is 0.000000, train_acc is 1.000000\n"
     ]
    },
    {
     "name": "stderr",
     "output_type": "stream",
     "text": [
      " 88%|████████▊ | 177/200 [18:39<02:53,  7.54s/it]"
     ]
    },
    {
     "name": "stdout",
     "output_type": "stream",
     "text": [
      "epoch is 177, test_loss is 1.290041, test_acc is 0.859840\n",
      "epoch is 178, train_loss is 0.000000, train_acc is 1.000000\n"
     ]
    },
    {
     "name": "stderr",
     "output_type": "stream",
     "text": [
      " 89%|████████▉ | 178/200 [18:47<02:47,  7.62s/it]"
     ]
    },
    {
     "name": "stdout",
     "output_type": "stream",
     "text": [
      "epoch is 178, test_loss is 1.293192, test_acc is 0.860915\n",
      "epoch is 179, train_loss is 0.000000, train_acc is 1.000000\n"
     ]
    },
    {
     "name": "stderr",
     "output_type": "stream",
     "text": [
      " 90%|████████▉ | 179/200 [18:55<02:40,  7.64s/it]"
     ]
    },
    {
     "name": "stdout",
     "output_type": "stream",
     "text": [
      "epoch is 179, test_loss is 1.289297, test_acc is 0.861236\n",
      "epoch is 180, train_loss is 0.000000, train_acc is 1.000000\n"
     ]
    },
    {
     "name": "stderr",
     "output_type": "stream",
     "text": [
      " 90%|█████████ | 180/200 [19:02<02:30,  7.52s/it]"
     ]
    },
    {
     "name": "stdout",
     "output_type": "stream",
     "text": [
      "epoch is 180, test_loss is 1.273361, test_acc is 0.861914\n",
      "epoch is 181, train_loss is 0.000000, train_acc is 1.000000\n"
     ]
    },
    {
     "name": "stderr",
     "output_type": "stream",
     "text": [
      " 90%|█████████ | 181/200 [19:08<02:13,  7.01s/it]"
     ]
    },
    {
     "name": "stdout",
     "output_type": "stream",
     "text": [
      "epoch is 181, test_loss is 1.287378, test_acc is 0.863011\n",
      "epoch is 182, train_loss is 0.000000, train_acc is 1.000000\n"
     ]
    },
    {
     "name": "stderr",
     "output_type": "stream",
     "text": [
      " 91%|█████████ | 182/200 [19:14<01:58,  6.60s/it]"
     ]
    },
    {
     "name": "stdout",
     "output_type": "stream",
     "text": [
      "epoch is 182, test_loss is 1.279034, test_acc is 0.861397\n",
      "epoch is 183, train_loss is 0.000000, train_acc is 1.000000\n"
     ]
    },
    {
     "name": "stderr",
     "output_type": "stream",
     "text": [
      " 92%|█████████▏| 183/200 [19:19<01:47,  6.33s/it]"
     ]
    },
    {
     "name": "stdout",
     "output_type": "stream",
     "text": [
      "epoch is 183, test_loss is 1.282182, test_acc is 0.862695\n",
      "epoch is 184, train_loss is 0.000000, train_acc is 1.000000\n"
     ]
    },
    {
     "name": "stderr",
     "output_type": "stream",
     "text": [
      " 92%|█████████▏| 184/200 [19:25<01:38,  6.16s/it]"
     ]
    },
    {
     "name": "stdout",
     "output_type": "stream",
     "text": [
      "epoch is 184, test_loss is 1.265577, test_acc is 0.860696\n",
      "epoch is 185, train_loss is 0.000000, train_acc is 1.000000\n"
     ]
    },
    {
     "name": "stderr",
     "output_type": "stream",
     "text": [
      " 92%|█████████▎| 185/200 [19:31<01:30,  6.01s/it]"
     ]
    },
    {
     "name": "stdout",
     "output_type": "stream",
     "text": [
      "epoch is 185, test_loss is 1.294395, test_acc is 0.859817\n",
      "epoch is 186, train_loss is 0.000000, train_acc is 1.000000\n"
     ]
    },
    {
     "name": "stderr",
     "output_type": "stream",
     "text": [
      " 93%|█████████▎| 186/200 [19:36<01:22,  5.92s/it]"
     ]
    },
    {
     "name": "stdout",
     "output_type": "stream",
     "text": [
      "epoch is 186, test_loss is 1.288059, test_acc is 0.858588\n",
      "epoch is 187, train_loss is 0.000000, train_acc is 1.000000\n"
     ]
    },
    {
     "name": "stderr",
     "output_type": "stream",
     "text": [
      " 94%|█████████▎| 187/200 [19:42<01:16,  5.88s/it]"
     ]
    },
    {
     "name": "stdout",
     "output_type": "stream",
     "text": [
      "epoch is 187, test_loss is 1.283221, test_acc is 0.860403\n",
      "epoch is 188, train_loss is 0.000000, train_acc is 1.000000\n"
     ]
    },
    {
     "name": "stderr",
     "output_type": "stream",
     "text": [
      " 94%|█████████▍| 188/200 [19:48<01:09,  5.82s/it]"
     ]
    },
    {
     "name": "stdout",
     "output_type": "stream",
     "text": [
      "epoch is 188, test_loss is 1.292291, test_acc is 0.859358\n",
      "epoch is 189, train_loss is 0.000000, train_acc is 1.000000\n"
     ]
    },
    {
     "name": "stderr",
     "output_type": "stream",
     "text": [
      " 94%|█████████▍| 189/200 [19:54<01:03,  5.77s/it]"
     ]
    },
    {
     "name": "stdout",
     "output_type": "stream",
     "text": [
      "epoch is 189, test_loss is 1.286112, test_acc is 0.861753\n",
      "epoch is 190, train_loss is 0.000000, train_acc is 1.000000\n"
     ]
    },
    {
     "name": "stderr",
     "output_type": "stream",
     "text": [
      " 95%|█████████▌| 190/200 [19:59<00:57,  5.77s/it]"
     ]
    },
    {
     "name": "stdout",
     "output_type": "stream",
     "text": [
      "epoch is 190, test_loss is 1.284010, test_acc is 0.860570\n",
      "epoch is 191, train_loss is 0.000000, train_acc is 1.000000\n"
     ]
    },
    {
     "name": "stderr",
     "output_type": "stream",
     "text": [
      " 96%|█████████▌| 191/200 [20:05<00:51,  5.77s/it]"
     ]
    },
    {
     "name": "stdout",
     "output_type": "stream",
     "text": [
      "epoch is 191, test_loss is 1.279915, test_acc is 0.861156\n",
      "epoch is 192, train_loss is 0.000000, train_acc is 1.000000\n"
     ]
    },
    {
     "name": "stderr",
     "output_type": "stream",
     "text": [
      " 96%|█████████▌| 192/200 [20:11<00:46,  5.84s/it]"
     ]
    },
    {
     "name": "stdout",
     "output_type": "stream",
     "text": [
      "epoch is 192, test_loss is 1.275766, test_acc is 0.862925\n",
      "epoch is 193, train_loss is 0.000000, train_acc is 1.000000\n"
     ]
    },
    {
     "name": "stderr",
     "output_type": "stream",
     "text": [
      " 96%|█████████▋| 193/200 [20:17<00:40,  5.81s/it]"
     ]
    },
    {
     "name": "stdout",
     "output_type": "stream",
     "text": [
      "epoch is 193, test_loss is 1.277920, test_acc is 0.861857\n",
      "epoch is 194, train_loss is 0.000000, train_acc is 1.000000\n"
     ]
    },
    {
     "name": "stderr",
     "output_type": "stream",
     "text": [
      " 97%|█████████▋| 194/200 [20:23<00:34,  5.79s/it]"
     ]
    },
    {
     "name": "stdout",
     "output_type": "stream",
     "text": [
      "epoch is 194, test_loss is 1.284731, test_acc is 0.861156\n",
      "epoch is 195, train_loss is 0.000000, train_acc is 1.000000\n"
     ]
    },
    {
     "name": "stderr",
     "output_type": "stream",
     "text": [
      " 98%|█████████▊| 195/200 [20:28<00:28,  5.76s/it]"
     ]
    },
    {
     "name": "stdout",
     "output_type": "stream",
     "text": [
      "epoch is 195, test_loss is 1.296929, test_acc is 0.859243\n",
      "epoch is 196, train_loss is 0.000000, train_acc is 1.000000\n"
     ]
    },
    {
     "name": "stderr",
     "output_type": "stream",
     "text": [
      " 98%|█████████▊| 196/200 [20:34<00:22,  5.74s/it]"
     ]
    },
    {
     "name": "stdout",
     "output_type": "stream",
     "text": [
      "epoch is 196, test_loss is 1.292512, test_acc is 0.860139\n",
      "epoch is 197, train_loss is 0.000000, train_acc is 1.000000\n"
     ]
    },
    {
     "name": "stderr",
     "output_type": "stream",
     "text": [
      " 98%|█████████▊| 197/200 [20:40<00:17,  5.73s/it]"
     ]
    },
    {
     "name": "stdout",
     "output_type": "stream",
     "text": [
      "epoch is 197, test_loss is 1.283414, test_acc is 0.861386\n",
      "epoch is 198, train_loss is 0.000000, train_acc is 1.000000\n"
     ]
    },
    {
     "name": "stderr",
     "output_type": "stream",
     "text": [
      " 99%|█████████▉| 198/200 [20:45<00:11,  5.72s/it]"
     ]
    },
    {
     "name": "stdout",
     "output_type": "stream",
     "text": [
      "epoch is 198, test_loss is 1.285650, test_acc is 0.862155\n",
      "epoch is 199, train_loss is 0.000000, train_acc is 1.000000\n"
     ]
    },
    {
     "name": "stderr",
     "output_type": "stream",
     "text": [
      "100%|█████████▉| 199/200 [20:51<00:05,  5.70s/it]"
     ]
    },
    {
     "name": "stdout",
     "output_type": "stream",
     "text": [
      "epoch is 199, test_loss is 1.288942, test_acc is 0.861259\n",
      "epoch is 200, train_loss is 0.000000, train_acc is 1.000000\n"
     ]
    },
    {
     "name": "stderr",
     "output_type": "stream",
     "text": [
      "100%|██████████| 200/200 [20:57<00:00,  6.29s/it]"
     ]
    },
    {
     "name": "stdout",
     "output_type": "stream",
     "text": [
      "epoch is 200, test_loss is 1.281958, test_acc is 0.858812\n"
     ]
    },
    {
     "name": "stderr",
     "output_type": "stream",
     "text": [
      "\n"
     ]
    }
   ],
   "source": [
    "#lr=1e-5 para defalut opt\n",
    "model = train(optimizer='ADAM', learning_rate=1e-5, max_epochs=200, eval_freq=500, ada_opt=True, save_para=True)"
   ]
  },
  {
   "cell_type": "code",
   "execution_count": 12,
   "id": "ef429053-c355-47d9-8782-15a22faa0a66",
   "metadata": {},
   "outputs": [
    {
     "name": "stdout",
     "output_type": "stream",
     "text": [
      "start training CNN...\n",
      "cuda:0\n"
     ]
    },
    {
     "name": "stderr",
     "output_type": "stream",
     "text": [
      "  0%|          | 0/200 [00:00<?, ?it/s]"
     ]
    },
    {
     "name": "stdout",
     "output_type": "stream",
     "text": [
      "epoch is 1, train_loss is 1.388532, train_acc is 0.499202\n"
     ]
    },
    {
     "name": "stderr",
     "output_type": "stream",
     "text": [
      "  0%|          | 1/200 [00:05<19:27,  5.86s/it]"
     ]
    },
    {
     "name": "stdout",
     "output_type": "stream",
     "text": [
      "epoch is 1, test_loss is 0.984427, test_acc is 0.645060\n",
      "epoch is 2, train_loss is 0.836617, train_acc is 0.703318\n"
     ]
    },
    {
     "name": "stderr",
     "output_type": "stream",
     "text": [
      "  1%|          | 2/200 [00:11<19:10,  5.81s/it]"
     ]
    },
    {
     "name": "stdout",
     "output_type": "stream",
     "text": [
      "epoch is 2, test_loss is 0.752973, test_acc is 0.730342\n",
      "epoch is 3, train_loss is 0.634614, train_acc is 0.777163\n"
     ]
    },
    {
     "name": "stderr",
     "output_type": "stream",
     "text": [
      "  2%|▏         | 3/200 [00:17<19:01,  5.79s/it]"
     ]
    },
    {
     "name": "stdout",
     "output_type": "stream",
     "text": [
      "epoch is 3, test_loss is 0.656440, test_acc is 0.773162\n",
      "epoch is 4, train_loss is 0.503553, train_acc is 0.824721\n"
     ]
    },
    {
     "name": "stderr",
     "output_type": "stream",
     "text": [
      "  2%|▏         | 4/200 [00:23<19:04,  5.84s/it]"
     ]
    },
    {
     "name": "stdout",
     "output_type": "stream",
     "text": [
      "epoch is 4, test_loss is 0.602485, test_acc is 0.790579\n",
      "epoch is 5, train_loss is 0.397192, train_acc is 0.861675\n"
     ]
    },
    {
     "name": "stderr",
     "output_type": "stream",
     "text": [
      "  2%|▎         | 5/200 [00:29<19:00,  5.85s/it]"
     ]
    },
    {
     "name": "stdout",
     "output_type": "stream",
     "text": [
      "epoch is 5, test_loss is 0.622166, test_acc is 0.795134\n",
      "epoch is 6, train_loss is 0.312808, train_acc is 0.890568\n"
     ]
    },
    {
     "name": "stderr",
     "output_type": "stream",
     "text": [
      "  3%|▎         | 6/200 [00:35<18:58,  5.87s/it]"
     ]
    },
    {
     "name": "stdout",
     "output_type": "stream",
     "text": [
      "epoch is 6, test_loss is 0.603241, test_acc is 0.808594\n",
      "epoch is 7, train_loss is 0.245361, train_acc is 0.914294\n"
     ]
    },
    {
     "name": "stderr",
     "output_type": "stream",
     "text": [
      "  4%|▎         | 7/200 [00:40<18:45,  5.83s/it]"
     ]
    },
    {
     "name": "stdout",
     "output_type": "stream",
     "text": [
      "epoch is 7, test_loss is 0.614620, test_acc is 0.815981\n",
      "epoch is 8, train_loss is 0.193839, train_acc is 0.932209\n"
     ]
    },
    {
     "name": "stderr",
     "output_type": "stream",
     "text": [
      "  4%|▍         | 8/200 [00:46<18:36,  5.82s/it]"
     ]
    },
    {
     "name": "stdout",
     "output_type": "stream",
     "text": [
      "epoch is 8, test_loss is 0.660392, test_acc is 0.812305\n",
      "epoch is 9, train_loss is 0.160548, train_acc is 0.942673\n"
     ]
    },
    {
     "name": "stderr",
     "output_type": "stream",
     "text": [
      "  4%|▍         | 9/200 [00:52<18:58,  5.96s/it]"
     ]
    },
    {
     "name": "stdout",
     "output_type": "stream",
     "text": [
      "epoch is 9, test_loss is 0.668988, test_acc is 0.819985\n",
      "epoch is 10, train_loss is 0.120174, train_acc is 0.957472\n"
     ]
    },
    {
     "name": "stderr",
     "output_type": "stream",
     "text": [
      "  5%|▌         | 10/200 [01:00<20:50,  6.58s/it]"
     ]
    },
    {
     "name": "stdout",
     "output_type": "stream",
     "text": [
      "epoch is 10, test_loss is 0.725845, test_acc is 0.817682\n",
      "epoch is 11, train_loss is 0.099001, train_acc is 0.964978\n"
     ]
    },
    {
     "name": "stderr",
     "output_type": "stream",
     "text": [
      "  6%|▌         | 11/200 [01:08<21:49,  6.93s/it]"
     ]
    },
    {
     "name": "stdout",
     "output_type": "stream",
     "text": [
      "epoch is 11, test_loss is 0.790683, test_acc is 0.819106\n",
      "epoch is 12, train_loss is 0.089288, train_acc is 0.968018\n"
     ]
    },
    {
     "name": "stderr",
     "output_type": "stream",
     "text": [
      "  6%|▌         | 12/200 [01:16<22:27,  7.17s/it]"
     ]
    },
    {
     "name": "stdout",
     "output_type": "stream",
     "text": [
      "epoch is 12, test_loss is 0.782635, test_acc is 0.821209\n",
      "epoch is 13, train_loss is 0.068230, train_acc is 0.975643\n"
     ]
    },
    {
     "name": "stderr",
     "output_type": "stream",
     "text": [
      "  6%|▋         | 13/200 [01:24<22:57,  7.37s/it]"
     ]
    },
    {
     "name": "stdout",
     "output_type": "stream",
     "text": [
      "epoch is 13, test_loss is 0.807551, test_acc is 0.824977\n",
      "epoch is 14, train_loss is 0.066382, train_acc is 0.976289\n"
     ]
    },
    {
     "name": "stderr",
     "output_type": "stream",
     "text": [
      "  7%|▋         | 14/200 [01:32<23:23,  7.55s/it]"
     ]
    },
    {
     "name": "stdout",
     "output_type": "stream",
     "text": [
      "epoch is 14, test_loss is 0.857392, test_acc is 0.823420\n",
      "epoch is 15, train_loss is 0.060867, train_acc is 0.978388\n"
     ]
    },
    {
     "name": "stderr",
     "output_type": "stream",
     "text": [
      "  8%|▊         | 15/200 [01:38<22:38,  7.34s/it]"
     ]
    },
    {
     "name": "stdout",
     "output_type": "stream",
     "text": [
      "epoch is 15, test_loss is 0.844827, test_acc is 0.827556\n",
      "epoch is 16, train_loss is 0.054680, train_acc is 0.980903\n"
     ]
    },
    {
     "name": "stderr",
     "output_type": "stream",
     "text": [
      "  8%|▊         | 16/200 [01:45<21:21,  6.96s/it]"
     ]
    },
    {
     "name": "stdout",
     "output_type": "stream",
     "text": [
      "epoch is 16, test_loss is 0.877363, test_acc is 0.825867\n",
      "epoch is 17, train_loss is 0.043456, train_acc is 0.984492\n"
     ]
    },
    {
     "name": "stderr",
     "output_type": "stream",
     "text": [
      "  8%|▊         | 17/200 [01:50<20:03,  6.58s/it]"
     ]
    },
    {
     "name": "stdout",
     "output_type": "stream",
     "text": [
      "epoch is 17, test_loss is 0.915308, test_acc is 0.826045\n",
      "epoch is 18, train_loss is 0.041941, train_acc is 0.984971\n"
     ]
    },
    {
     "name": "stderr",
     "output_type": "stream",
     "text": [
      "  9%|▉         | 18/200 [01:56<19:12,  6.33s/it]"
     ]
    },
    {
     "name": "stdout",
     "output_type": "stream",
     "text": [
      "epoch is 18, test_loss is 0.921811, test_acc is 0.828665\n",
      "epoch is 19, train_loss is 0.045334, train_acc is 0.984972\n"
     ]
    },
    {
     "name": "stderr",
     "output_type": "stream",
     "text": [
      " 10%|▉         | 19/200 [02:02<18:38,  6.18s/it]"
     ]
    },
    {
     "name": "stdout",
     "output_type": "stream",
     "text": [
      "epoch is 19, test_loss is 0.937481, test_acc is 0.823495\n",
      "epoch is 20, train_loss is 0.042546, train_acc is 0.984912\n"
     ]
    },
    {
     "name": "stderr",
     "output_type": "stream",
     "text": [
      " 10%|█         | 20/200 [02:08<18:11,  6.06s/it]"
     ]
    },
    {
     "name": "stdout",
     "output_type": "stream",
     "text": [
      "epoch is 20, test_loss is 0.947928, test_acc is 0.826775\n",
      "epoch is 21, train_loss is 0.032451, train_acc is 0.988530\n"
     ]
    },
    {
     "name": "stderr",
     "output_type": "stream",
     "text": [
      " 10%|█         | 21/200 [02:13<17:44,  5.95s/it]"
     ]
    },
    {
     "name": "stdout",
     "output_type": "stream",
     "text": [
      "epoch is 21, test_loss is 0.950374, test_acc is 0.837552\n",
      "epoch is 22, train_loss is 0.038949, train_acc is 0.986335\n"
     ]
    },
    {
     "name": "stderr",
     "output_type": "stream",
     "text": [
      " 11%|█         | 22/200 [02:19<17:31,  5.91s/it]"
     ]
    },
    {
     "name": "stdout",
     "output_type": "stream",
     "text": [
      "epoch is 22, test_loss is 0.930333, test_acc is 0.830153\n",
      "epoch is 23, train_loss is 0.030568, train_acc is 0.989337\n"
     ]
    },
    {
     "name": "stderr",
     "output_type": "stream",
     "text": [
      " 12%|█▏        | 23/200 [02:25<17:21,  5.88s/it]"
     ]
    },
    {
     "name": "stdout",
     "output_type": "stream",
     "text": [
      "epoch is 23, test_loss is 0.953756, test_acc is 0.830256\n",
      "epoch is 24, train_loss is 0.026401, train_acc is 0.990901\n"
     ]
    },
    {
     "name": "stderr",
     "output_type": "stream",
     "text": [
      " 12%|█▏        | 24/200 [02:31<17:07,  5.84s/it]"
     ]
    },
    {
     "name": "stdout",
     "output_type": "stream",
     "text": [
      "epoch is 24, test_loss is 0.967916, test_acc is 0.838568\n",
      "epoch is 25, train_loss is 0.033454, train_acc is 0.988468\n"
     ]
    },
    {
     "name": "stderr",
     "output_type": "stream",
     "text": [
      " 12%|█▎        | 25/200 [02:36<16:55,  5.80s/it]"
     ]
    },
    {
     "name": "stdout",
     "output_type": "stream",
     "text": [
      "epoch is 25, test_loss is 0.976485, test_acc is 0.827057\n",
      "epoch is 26, train_loss is 0.037835, train_acc is 0.986724\n"
     ]
    },
    {
     "name": "stderr",
     "output_type": "stream",
     "text": [
      " 13%|█▎        | 26/200 [02:42<16:44,  5.77s/it]"
     ]
    },
    {
     "name": "stdout",
     "output_type": "stream",
     "text": [
      "epoch is 26, test_loss is 0.922964, test_acc is 0.832330\n",
      "epoch is 27, train_loss is 0.021173, train_acc is 0.992234\n"
     ]
    },
    {
     "name": "stderr",
     "output_type": "stream",
     "text": [
      " 14%|█▎        | 27/200 [02:48<16:51,  5.85s/it]"
     ]
    },
    {
     "name": "stdout",
     "output_type": "stream",
     "text": [
      "epoch is 27, test_loss is 1.052465, test_acc is 0.834249\n",
      "epoch is 28, train_loss is 0.029157, train_acc is 0.989347\n"
     ]
    },
    {
     "name": "stderr",
     "output_type": "stream",
     "text": [
      " 14%|█▍        | 28/200 [02:54<16:50,  5.88s/it]"
     ]
    },
    {
     "name": "stdout",
     "output_type": "stream",
     "text": [
      "epoch is 28, test_loss is 1.030021, test_acc is 0.826976\n",
      "epoch is 29, train_loss is 0.027630, train_acc is 0.990151\n"
     ]
    },
    {
     "name": "stderr",
     "output_type": "stream",
     "text": [
      " 14%|█▍        | 29/200 [03:00<16:42,  5.86s/it]"
     ]
    },
    {
     "name": "stdout",
     "output_type": "stream",
     "text": [
      "epoch is 29, test_loss is 1.015770, test_acc is 0.833617\n",
      "epoch is 30, train_loss is 0.026713, train_acc is 0.990761\n"
     ]
    },
    {
     "name": "stderr",
     "output_type": "stream",
     "text": [
      " 15%|█▌        | 30/200 [03:06<16:33,  5.85s/it]"
     ]
    },
    {
     "name": "stdout",
     "output_type": "stream",
     "text": [
      "epoch is 30, test_loss is 1.018630, test_acc is 0.834099\n",
      "epoch is 31, train_loss is 0.022183, train_acc is 0.992407\n"
     ]
    },
    {
     "name": "stderr",
     "output_type": "stream",
     "text": [
      " 16%|█▌        | 31/200 [03:11<16:24,  5.83s/it]"
     ]
    },
    {
     "name": "stdout",
     "output_type": "stream",
     "text": [
      "epoch is 31, test_loss is 1.012386, test_acc is 0.829113\n",
      "epoch is 32, train_loss is 0.017620, train_acc is 0.994031\n"
     ]
    },
    {
     "name": "stderr",
     "output_type": "stream",
     "text": [
      " 16%|█▌        | 32/200 [03:17<16:17,  5.82s/it]"
     ]
    },
    {
     "name": "stdout",
     "output_type": "stream",
     "text": [
      "epoch is 32, test_loss is 1.130122, test_acc is 0.820335\n",
      "epoch is 33, train_loss is 0.029940, train_acc is 0.989844\n"
     ]
    },
    {
     "name": "stderr",
     "output_type": "stream",
     "text": [
      " 16%|█▋        | 33/200 [03:23<16:11,  5.82s/it]"
     ]
    },
    {
     "name": "stdout",
     "output_type": "stream",
     "text": [
      "epoch is 33, test_loss is 0.998668, test_acc is 0.829176\n",
      "epoch is 34, train_loss is 0.025258, train_acc is 0.990961\n"
     ]
    },
    {
     "name": "stderr",
     "output_type": "stream",
     "text": [
      " 17%|█▋        | 34/200 [03:29<16:05,  5.82s/it]"
     ]
    },
    {
     "name": "stdout",
     "output_type": "stream",
     "text": [
      "epoch is 34, test_loss is 1.018871, test_acc is 0.833123\n",
      "epoch is 35, train_loss is 0.022994, train_acc is 0.992146\n"
     ]
    },
    {
     "name": "stderr",
     "output_type": "stream",
     "text": [
      " 18%|█▊        | 35/200 [03:35<16:00,  5.82s/it]"
     ]
    },
    {
     "name": "stdout",
     "output_type": "stream",
     "text": [
      "epoch is 35, test_loss is 1.083331, test_acc is 0.824885\n",
      "epoch is 36, train_loss is 0.033429, train_acc is 0.988378\n"
     ]
    },
    {
     "name": "stderr",
     "output_type": "stream",
     "text": [
      " 18%|█▊        | 36/200 [03:41<15:54,  5.82s/it]"
     ]
    },
    {
     "name": "stdout",
     "output_type": "stream",
     "text": [
      "epoch is 36, test_loss is 1.023240, test_acc is 0.824822\n",
      "epoch is 37, train_loss is 0.029751, train_acc is 0.989805\n"
     ]
    },
    {
     "name": "stderr",
     "output_type": "stream",
     "text": [
      " 18%|█▊        | 37/200 [03:46<15:52,  5.84s/it]"
     ]
    },
    {
     "name": "stdout",
     "output_type": "stream",
     "text": [
      "epoch is 37, test_loss is 1.048113, test_acc is 0.833841\n",
      "epoch is 38, train_loss is 0.020026, train_acc is 0.993870\n"
     ]
    },
    {
     "name": "stderr",
     "output_type": "stream",
     "text": [
      " 19%|█▉        | 38/200 [03:54<17:00,  6.30s/it]"
     ]
    },
    {
     "name": "stdout",
     "output_type": "stream",
     "text": [
      "epoch is 38, test_loss is 1.064397, test_acc is 0.833755\n",
      "epoch is 39, train_loss is 0.023034, train_acc is 0.992374\n"
     ]
    },
    {
     "name": "stderr",
     "output_type": "stream",
     "text": [
      " 20%|█▉        | 39/200 [04:01<18:01,  6.72s/it]"
     ]
    },
    {
     "name": "stdout",
     "output_type": "stream",
     "text": [
      "epoch is 39, test_loss is 1.054465, test_acc is 0.831876\n",
      "epoch is 40, train_loss is 0.022668, train_acc is 0.992195\n"
     ]
    },
    {
     "name": "stderr",
     "output_type": "stream",
     "text": [
      " 20%|██        | 40/200 [04:09<18:41,  7.01s/it]"
     ]
    },
    {
     "name": "stdout",
     "output_type": "stream",
     "text": [
      "epoch is 40, test_loss is 1.075655, test_acc is 0.834013\n",
      "epoch is 41, train_loss is 0.021167, train_acc is 0.992694\n"
     ]
    },
    {
     "name": "stderr",
     "output_type": "stream",
     "text": [
      " 20%|██        | 41/200 [04:17<19:17,  7.28s/it]"
     ]
    },
    {
     "name": "stdout",
     "output_type": "stream",
     "text": [
      "epoch is 41, test_loss is 1.069719, test_acc is 0.830877\n",
      "epoch is 42, train_loss is 0.024254, train_acc is 0.991528\n"
     ]
    },
    {
     "name": "stderr",
     "output_type": "stream",
     "text": [
      " 21%|██        | 42/200 [04:25<19:35,  7.44s/it]"
     ]
    },
    {
     "name": "stdout",
     "output_type": "stream",
     "text": [
      "epoch is 42, test_loss is 1.087090, test_acc is 0.828728\n",
      "epoch is 43, train_loss is 0.018326, train_acc is 0.993881\n"
     ]
    },
    {
     "name": "stderr",
     "output_type": "stream",
     "text": [
      " 22%|██▏       | 43/200 [04:33<19:39,  7.51s/it]"
     ]
    },
    {
     "name": "stdout",
     "output_type": "stream",
     "text": [
      "epoch is 43, test_loss is 0.992088, test_acc is 0.840981\n",
      "epoch is 44, train_loss is 0.015206, train_acc is 0.994946\n"
     ]
    },
    {
     "name": "stderr",
     "output_type": "stream",
     "text": [
      " 22%|██▏       | 44/200 [04:40<19:39,  7.56s/it]"
     ]
    },
    {
     "name": "stdout",
     "output_type": "stream",
     "text": [
      "epoch is 44, test_loss is 1.106076, test_acc is 0.834214\n",
      "epoch is 45, train_loss is 0.023111, train_acc is 0.992217\n"
     ]
    },
    {
     "name": "stderr",
     "output_type": "stream",
     "text": [
      " 22%|██▎       | 45/200 [04:48<19:42,  7.63s/it]"
     ]
    },
    {
     "name": "stdout",
     "output_type": "stream",
     "text": [
      "epoch is 45, test_loss is 1.069331, test_acc is 0.834122\n",
      "epoch is 46, train_loss is 0.028957, train_acc is 0.990212\n"
     ]
    },
    {
     "name": "stderr",
     "output_type": "stream",
     "text": [
      " 23%|██▎       | 46/200 [04:56<19:38,  7.65s/it]"
     ]
    },
    {
     "name": "stdout",
     "output_type": "stream",
     "text": [
      "epoch is 46, test_loss is 1.037445, test_acc is 0.830647\n",
      "epoch is 47, train_loss is 0.018758, train_acc is 0.993791\n"
     ]
    },
    {
     "name": "stderr",
     "output_type": "stream",
     "text": [
      " 24%|██▎       | 47/200 [05:03<19:28,  7.64s/it]"
     ]
    },
    {
     "name": "stdout",
     "output_type": "stream",
     "text": [
      "epoch is 47, test_loss is 1.053986, test_acc is 0.835489\n",
      "epoch is 48, train_loss is 0.010746, train_acc is 0.996283\n"
     ]
    },
    {
     "name": "stderr",
     "output_type": "stream",
     "text": [
      " 24%|██▍       | 48/200 [05:11<19:27,  7.68s/it]"
     ]
    },
    {
     "name": "stdout",
     "output_type": "stream",
     "text": [
      "epoch is 48, test_loss is 1.123597, test_acc is 0.830831\n",
      "epoch is 49, train_loss is 0.016121, train_acc is 0.994408\n"
     ]
    },
    {
     "name": "stderr",
     "output_type": "stream",
     "text": [
      " 24%|██▍       | 49/200 [05:19<19:14,  7.64s/it]"
     ]
    },
    {
     "name": "stdout",
     "output_type": "stream",
     "text": [
      "epoch is 49, test_loss is 1.057338, test_acc is 0.831112\n",
      "epoch is 50, train_loss is 0.011077, train_acc is 0.996452\n"
     ]
    },
    {
     "name": "stderr",
     "output_type": "stream",
     "text": [
      " 25%|██▌       | 50/200 [05:25<17:56,  7.18s/it]"
     ]
    },
    {
     "name": "stdout",
     "output_type": "stream",
     "text": [
      "epoch is 50, test_loss is 1.059231, test_acc is 0.843003\n",
      "epoch is 51, train_loss is 0.015381, train_acc is 0.994866\n"
     ]
    },
    {
     "name": "stderr",
     "output_type": "stream",
     "text": [
      " 26%|██▌       | 51/200 [05:31<16:49,  6.77s/it]"
     ]
    },
    {
     "name": "stdout",
     "output_type": "stream",
     "text": [
      "epoch is 51, test_loss is 1.136066, test_acc is 0.831221\n",
      "epoch is 52, train_loss is 0.024155, train_acc is 0.992026\n"
     ]
    },
    {
     "name": "stderr",
     "output_type": "stream",
     "text": [
      " 26%|██▌       | 52/200 [05:36<16:00,  6.49s/it]"
     ]
    },
    {
     "name": "stdout",
     "output_type": "stream",
     "text": [
      "epoch is 52, test_loss is 1.076360, test_acc is 0.828533\n",
      "epoch is 53, train_loss is 0.021697, train_acc is 0.992625\n"
     ]
    },
    {
     "name": "stderr",
     "output_type": "stream",
     "text": [
      " 26%|██▋       | 53/200 [05:42<15:28,  6.32s/it]"
     ]
    },
    {
     "name": "stdout",
     "output_type": "stream",
     "text": [
      "epoch is 53, test_loss is 1.087453, test_acc is 0.831422\n",
      "epoch is 54, train_loss is 0.021368, train_acc is 0.992434\n"
     ]
    },
    {
     "name": "stderr",
     "output_type": "stream",
     "text": [
      " 27%|██▋       | 54/200 [05:48<15:09,  6.23s/it]"
     ]
    },
    {
     "name": "stdout",
     "output_type": "stream",
     "text": [
      "epoch is 54, test_loss is 1.046994, test_acc is 0.835472\n",
      "epoch is 55, train_loss is 0.013351, train_acc is 0.995415\n"
     ]
    },
    {
     "name": "stderr",
     "output_type": "stream",
     "text": [
      " 28%|██▊       | 55/200 [05:54<14:45,  6.11s/it]"
     ]
    },
    {
     "name": "stdout",
     "output_type": "stream",
     "text": [
      "epoch is 55, test_loss is 1.097269, test_acc is 0.836081\n",
      "epoch is 56, train_loss is 0.015071, train_acc is 0.994777\n"
     ]
    },
    {
     "name": "stderr",
     "output_type": "stream",
     "text": [
      " 28%|██▊       | 56/200 [06:00<14:32,  6.06s/it]"
     ]
    },
    {
     "name": "stdout",
     "output_type": "stream",
     "text": [
      "epoch is 56, test_loss is 1.119685, test_acc is 0.832451\n",
      "epoch is 57, train_loss is 0.021710, train_acc is 0.992644\n"
     ]
    },
    {
     "name": "stderr",
     "output_type": "stream",
     "text": [
      " 28%|██▊       | 57/200 [06:06<14:21,  6.02s/it]"
     ]
    },
    {
     "name": "stdout",
     "output_type": "stream",
     "text": [
      "epoch is 57, test_loss is 1.057441, test_acc is 0.831417\n",
      "epoch is 58, train_loss is 0.015331, train_acc is 0.994785\n"
     ]
    },
    {
     "name": "stderr",
     "output_type": "stream",
     "text": [
      " 29%|██▉       | 58/200 [06:12<14:07,  5.97s/it]"
     ]
    },
    {
     "name": "stdout",
     "output_type": "stream",
     "text": [
      "epoch is 58, test_loss is 1.081697, test_acc is 0.835892\n",
      "epoch is 59, train_loss is 0.021976, train_acc is 0.992426\n"
     ]
    },
    {
     "name": "stderr",
     "output_type": "stream",
     "text": [
      " 30%|██▉       | 59/200 [06:18<14:02,  5.97s/it]"
     ]
    },
    {
     "name": "stdout",
     "output_type": "stream",
     "text": [
      "epoch is 59, test_loss is 0.995294, test_acc is 0.832646\n",
      "epoch is 60, train_loss is 0.009410, train_acc is 0.996672\n"
     ]
    },
    {
     "name": "stderr",
     "output_type": "stream",
     "text": [
      " 30%|███       | 60/200 [06:24<13:48,  5.92s/it]"
     ]
    },
    {
     "name": "stdout",
     "output_type": "stream",
     "text": [
      "epoch is 60, test_loss is 1.069766, test_acc is 0.844043\n",
      "epoch is 61, train_loss is 0.007559, train_acc is 0.997358\n"
     ]
    },
    {
     "name": "stderr",
     "output_type": "stream",
     "text": [
      " 30%|███       | 61/200 [06:30<13:38,  5.89s/it]"
     ]
    },
    {
     "name": "stdout",
     "output_type": "stream",
     "text": [
      "epoch is 61, test_loss is 1.128808, test_acc is 0.846347\n",
      "epoch is 62, train_loss is 0.021201, train_acc is 0.992694\n"
     ]
    },
    {
     "name": "stderr",
     "output_type": "stream",
     "text": [
      " 31%|███       | 62/200 [06:35<13:30,  5.87s/it]"
     ]
    },
    {
     "name": "stdout",
     "output_type": "stream",
     "text": [
      "epoch is 62, test_loss is 1.116219, test_acc is 0.828901\n",
      "epoch is 63, train_loss is 0.021834, train_acc is 0.992684\n"
     ]
    },
    {
     "name": "stderr",
     "output_type": "stream",
     "text": [
      " 32%|███▏      | 63/200 [06:41<13:25,  5.88s/it]"
     ]
    },
    {
     "name": "stdout",
     "output_type": "stream",
     "text": [
      "epoch is 63, test_loss is 1.065574, test_acc is 0.828452\n",
      "epoch is 64, train_loss is 0.008580, train_acc is 0.997149\n"
     ]
    },
    {
     "name": "stderr",
     "output_type": "stream",
     "text": [
      " 32%|███▏      | 64/200 [06:47<13:19,  5.88s/it]"
     ]
    },
    {
     "name": "stdout",
     "output_type": "stream",
     "text": [
      "epoch is 64, test_loss is 1.107255, test_acc is 0.837873\n",
      "epoch is 65, train_loss is 0.008413, train_acc is 0.997259\n"
     ]
    },
    {
     "name": "stderr",
     "output_type": "stream",
     "text": [
      " 32%|███▎      | 65/200 [06:53<13:12,  5.87s/it]"
     ]
    },
    {
     "name": "stdout",
     "output_type": "stream",
     "text": [
      "epoch is 65, test_loss is 1.204839, test_acc is 0.837856\n",
      "epoch is 66, train_loss is 0.021195, train_acc is 0.992744\n"
     ]
    },
    {
     "name": "stderr",
     "output_type": "stream",
     "text": [
      " 33%|███▎      | 66/200 [06:59<13:03,  5.85s/it]"
     ]
    },
    {
     "name": "stdout",
     "output_type": "stream",
     "text": [
      "epoch is 66, test_loss is 1.090564, test_acc is 0.839034\n",
      "epoch is 67, train_loss is 0.018324, train_acc is 0.994079\n"
     ]
    },
    {
     "name": "stderr",
     "output_type": "stream",
     "text": [
      " 34%|███▎      | 67/200 [07:05<12:55,  5.83s/it]"
     ]
    },
    {
     "name": "stdout",
     "output_type": "stream",
     "text": [
      "epoch is 67, test_loss is 1.110865, test_acc is 0.829188\n",
      "epoch is 68, train_loss is 0.012343, train_acc is 0.996063\n"
     ]
    },
    {
     "name": "stderr",
     "output_type": "stream",
     "text": [
      " 34%|███▍      | 68/200 [07:10<12:50,  5.84s/it]"
     ]
    },
    {
     "name": "stdout",
     "output_type": "stream",
     "text": [
      "epoch is 68, test_loss is 1.098717, test_acc is 0.837339\n",
      "epoch is 69, train_loss is 0.005313, train_acc is 0.998335\n"
     ]
    },
    {
     "name": "stderr",
     "output_type": "stream",
     "text": [
      " 34%|███▍      | 69/200 [07:16<12:48,  5.87s/it]"
     ]
    },
    {
     "name": "stdout",
     "output_type": "stream",
     "text": [
      "epoch is 69, test_loss is 1.136248, test_acc is 0.842245\n",
      "epoch is 70, train_loss is 0.005509, train_acc is 0.998175\n"
     ]
    },
    {
     "name": "stderr",
     "output_type": "stream",
     "text": [
      " 35%|███▌      | 70/200 [07:22<12:42,  5.87s/it]"
     ]
    },
    {
     "name": "stdout",
     "output_type": "stream",
     "text": [
      "epoch is 70, test_loss is 1.164699, test_acc is 0.840252\n",
      "epoch is 71, train_loss is 0.020550, train_acc is 0.993730\n"
     ]
    },
    {
     "name": "stderr",
     "output_type": "stream",
     "text": [
      " 36%|███▌      | 71/200 [07:28<12:37,  5.87s/it]"
     ]
    },
    {
     "name": "stdout",
     "output_type": "stream",
     "text": [
      "epoch is 71, test_loss is 1.105857, test_acc is 0.830681\n",
      "epoch is 72, train_loss is 0.014810, train_acc is 0.994966\n"
     ]
    },
    {
     "name": "stderr",
     "output_type": "stream",
     "text": [
      " 36%|███▌      | 72/200 [07:34<12:30,  5.86s/it]"
     ]
    },
    {
     "name": "stdout",
     "output_type": "stream",
     "text": [
      "epoch is 72, test_loss is 1.043886, test_acc is 0.841349\n",
      "epoch is 73, train_loss is 0.010820, train_acc is 0.996122\n"
     ]
    },
    {
     "name": "stderr",
     "output_type": "stream",
     "text": [
      " 36%|███▋      | 73/200 [07:40<12:22,  5.85s/it]"
     ]
    },
    {
     "name": "stdout",
     "output_type": "stream",
     "text": [
      "epoch is 73, test_loss is 1.098964, test_acc is 0.837069\n",
      "epoch is 74, train_loss is 0.010948, train_acc is 0.996392\n"
     ]
    },
    {
     "name": "stderr",
     "output_type": "stream",
     "text": [
      " 37%|███▋      | 74/200 [07:46<12:17,  5.86s/it]"
     ]
    },
    {
     "name": "stdout",
     "output_type": "stream",
     "text": [
      "epoch is 74, test_loss is 1.104263, test_acc is 0.841148\n",
      "epoch is 75, train_loss is 0.012064, train_acc is 0.995944\n"
     ]
    },
    {
     "name": "stderr",
     "output_type": "stream",
     "text": [
      " 38%|███▊      | 75/200 [07:51<12:10,  5.85s/it]"
     ]
    },
    {
     "name": "stdout",
     "output_type": "stream",
     "text": [
      "epoch is 75, test_loss is 1.158643, test_acc is 0.837040\n",
      "epoch is 76, train_loss is 0.020523, train_acc is 0.993243\n"
     ]
    },
    {
     "name": "stderr",
     "output_type": "stream",
     "text": [
      " 38%|███▊      | 76/200 [07:58<12:21,  5.98s/it]"
     ]
    },
    {
     "name": "stdout",
     "output_type": "stream",
     "text": [
      "epoch is 76, test_loss is 1.090367, test_acc is 0.830199\n",
      "epoch is 77, train_loss is 0.013371, train_acc is 0.995595\n"
     ]
    },
    {
     "name": "stderr",
     "output_type": "stream",
     "text": [
      " 38%|███▊      | 77/200 [08:04<12:13,  5.96s/it]"
     ]
    },
    {
     "name": "stdout",
     "output_type": "stream",
     "text": [
      "epoch is 77, test_loss is 1.085300, test_acc is 0.838896\n",
      "epoch is 78, train_loss is 0.014660, train_acc is 0.995056\n"
     ]
    },
    {
     "name": "stderr",
     "output_type": "stream",
     "text": [
      " 39%|███▉      | 78/200 [08:10<12:04,  5.94s/it]"
     ]
    },
    {
     "name": "stdout",
     "output_type": "stream",
     "text": [
      "epoch is 78, test_loss is 1.076733, test_acc is 0.839241\n",
      "epoch is 79, train_loss is 0.014384, train_acc is 0.995106\n"
     ]
    },
    {
     "name": "stderr",
     "output_type": "stream",
     "text": [
      " 40%|███▉      | 79/200 [08:15<11:56,  5.92s/it]"
     ]
    },
    {
     "name": "stdout",
     "output_type": "stream",
     "text": [
      "epoch is 79, test_loss is 1.105024, test_acc is 0.838074\n",
      "epoch is 80, train_loss is 0.011910, train_acc is 0.996242\n"
     ]
    },
    {
     "name": "stderr",
     "output_type": "stream",
     "text": [
      " 40%|████      | 80/200 [08:21<11:45,  5.88s/it]"
     ]
    },
    {
     "name": "stdout",
     "output_type": "stream",
     "text": [
      "epoch is 80, test_loss is 1.036859, test_acc is 0.838086\n",
      "epoch is 81, train_loss is 0.003688, train_acc is 0.998973\n"
     ]
    },
    {
     "name": "stderr",
     "output_type": "stream",
     "text": [
      " 40%|████      | 81/200 [08:27<11:44,  5.92s/it]"
     ]
    },
    {
     "name": "stdout",
     "output_type": "stream",
     "text": [
      "epoch is 81, test_loss is 0.977010, test_acc is 0.852510\n",
      "epoch is 82, train_loss is 0.000434, train_acc is 1.000000\n"
     ]
    },
    {
     "name": "stderr",
     "output_type": "stream",
     "text": [
      " 41%|████      | 82/200 [08:33<11:33,  5.87s/it]"
     ]
    },
    {
     "name": "stdout",
     "output_type": "stream",
     "text": [
      "epoch is 82, test_loss is 0.991158, test_acc is 0.850385\n",
      "epoch is 83, train_loss is 0.000332, train_acc is 0.999980\n"
     ]
    },
    {
     "name": "stderr",
     "output_type": "stream",
     "text": [
      " 42%|████▏     | 83/200 [08:39<11:23,  5.84s/it]"
     ]
    },
    {
     "name": "stdout",
     "output_type": "stream",
     "text": [
      "epoch is 83, test_loss is 0.989256, test_acc is 0.852286\n",
      "epoch is 84, train_loss is 0.000254, train_acc is 1.000000\n"
     ]
    },
    {
     "name": "stderr",
     "output_type": "stream",
     "text": [
      " 42%|████▏     | 84/200 [08:45<11:15,  5.83s/it]"
     ]
    },
    {
     "name": "stdout",
     "output_type": "stream",
     "text": [
      "epoch is 84, test_loss is 0.987216, test_acc is 0.850971\n",
      "epoch is 85, train_loss is 0.000183, train_acc is 1.000000\n"
     ]
    },
    {
     "name": "stderr",
     "output_type": "stream",
     "text": [
      " 42%|████▎     | 85/200 [08:51<11:14,  5.86s/it]"
     ]
    },
    {
     "name": "stdout",
     "output_type": "stream",
     "text": [
      "epoch is 85, test_loss is 0.982468, test_acc is 0.851344\n",
      "epoch is 86, train_loss is 0.000180, train_acc is 1.000000\n"
     ]
    },
    {
     "name": "stderr",
     "output_type": "stream",
     "text": [
      " 43%|████▎     | 86/200 [08:56<11:05,  5.84s/it]"
     ]
    },
    {
     "name": "stdout",
     "output_type": "stream",
     "text": [
      "epoch is 86, test_loss is 0.980148, test_acc is 0.852125\n",
      "epoch is 87, train_loss is 0.000145, train_acc is 1.000000\n"
     ]
    },
    {
     "name": "stderr",
     "output_type": "stream",
     "text": [
      " 44%|████▎     | 87/200 [09:02<10:58,  5.83s/it]"
     ]
    },
    {
     "name": "stdout",
     "output_type": "stream",
     "text": [
      "epoch is 87, test_loss is 0.996517, test_acc is 0.851103\n",
      "epoch is 88, train_loss is 0.000130, train_acc is 1.000000\n"
     ]
    },
    {
     "name": "stderr",
     "output_type": "stream",
     "text": [
      " 44%|████▍     | 88/200 [09:08<10:54,  5.84s/it]"
     ]
    },
    {
     "name": "stdout",
     "output_type": "stream",
     "text": [
      "epoch is 88, test_loss is 1.000598, test_acc is 0.852137\n",
      "epoch is 89, train_loss is 0.000129, train_acc is 1.000000\n"
     ]
    },
    {
     "name": "stderr",
     "output_type": "stream",
     "text": [
      " 44%|████▍     | 89/200 [09:15<11:34,  6.26s/it]"
     ]
    },
    {
     "name": "stdout",
     "output_type": "stream",
     "text": [
      "epoch is 89, test_loss is 0.991994, test_acc is 0.852625\n",
      "epoch is 90, train_loss is 0.000116, train_acc is 1.000000\n"
     ]
    },
    {
     "name": "stderr",
     "output_type": "stream",
     "text": [
      " 45%|████▌     | 90/200 [09:23<12:20,  6.73s/it]"
     ]
    },
    {
     "name": "stdout",
     "output_type": "stream",
     "text": [
      "epoch is 90, test_loss is 1.005600, test_acc is 0.850632\n",
      "epoch is 91, train_loss is 0.000119, train_acc is 1.000000\n"
     ]
    },
    {
     "name": "stderr",
     "output_type": "stream",
     "text": [
      " 46%|████▌     | 91/200 [09:31<12:46,  7.03s/it]"
     ]
    },
    {
     "name": "stdout",
     "output_type": "stream",
     "text": [
      "epoch is 91, test_loss is 0.999491, test_acc is 0.852901\n",
      "epoch is 92, train_loss is 0.000093, train_acc is 1.000000\n"
     ]
    },
    {
     "name": "stderr",
     "output_type": "stream",
     "text": [
      " 46%|████▌     | 92/200 [09:38<13:01,  7.24s/it]"
     ]
    },
    {
     "name": "stdout",
     "output_type": "stream",
     "text": [
      "epoch is 92, test_loss is 1.001882, test_acc is 0.852327\n",
      "epoch is 93, train_loss is 0.000082, train_acc is 1.000000\n"
     ]
    },
    {
     "name": "stderr",
     "output_type": "stream",
     "text": [
      " 46%|████▋     | 93/200 [09:46<13:07,  7.36s/it]"
     ]
    },
    {
     "name": "stdout",
     "output_type": "stream",
     "text": [
      "epoch is 93, test_loss is 1.017411, test_acc is 0.850747\n",
      "epoch is 94, train_loss is 0.000087, train_acc is 1.000000\n"
     ]
    },
    {
     "name": "stderr",
     "output_type": "stream",
     "text": [
      " 47%|████▋     | 94/200 [09:54<13:09,  7.45s/it]"
     ]
    },
    {
     "name": "stdout",
     "output_type": "stream",
     "text": [
      "epoch is 94, test_loss is 1.000020, test_acc is 0.855383\n",
      "epoch is 95, train_loss is 0.000069, train_acc is 1.000000\n"
     ]
    },
    {
     "name": "stderr",
     "output_type": "stream",
     "text": [
      " 48%|████▊     | 95/200 [10:02<13:12,  7.55s/it]"
     ]
    },
    {
     "name": "stdout",
     "output_type": "stream",
     "text": [
      "epoch is 95, test_loss is 1.013812, test_acc is 0.853165\n",
      "epoch is 96, train_loss is 0.000068, train_acc is 1.000000\n"
     ]
    },
    {
     "name": "stderr",
     "output_type": "stream",
     "text": [
      " 48%|████▊     | 96/200 [10:09<13:11,  7.61s/it]"
     ]
    },
    {
     "name": "stdout",
     "output_type": "stream",
     "text": [
      "epoch is 96, test_loss is 1.010922, test_acc is 0.852510\n",
      "epoch is 97, train_loss is 0.000064, train_acc is 1.000000\n"
     ]
    },
    {
     "name": "stderr",
     "output_type": "stream",
     "text": [
      " 48%|████▊     | 97/200 [10:17<13:11,  7.69s/it]"
     ]
    },
    {
     "name": "stdout",
     "output_type": "stream",
     "text": [
      "epoch is 97, test_loss is 1.016758, test_acc is 0.854515\n",
      "epoch is 98, train_loss is 0.000060, train_acc is 1.000000\n"
     ]
    },
    {
     "name": "stderr",
     "output_type": "stream",
     "text": [
      " 49%|████▉     | 98/200 [10:25<13:04,  7.69s/it]"
     ]
    },
    {
     "name": "stdout",
     "output_type": "stream",
     "text": [
      "epoch is 98, test_loss is 1.014309, test_acc is 0.853004\n",
      "epoch is 99, train_loss is 0.000058, train_acc is 1.000000\n"
     ]
    },
    {
     "name": "stderr",
     "output_type": "stream",
     "text": [
      " 50%|████▉     | 99/200 [10:33<13:00,  7.73s/it]"
     ]
    },
    {
     "name": "stdout",
     "output_type": "stream",
     "text": [
      "epoch is 99, test_loss is 1.024561, test_acc is 0.852240\n",
      "epoch is 100, train_loss is 0.000055, train_acc is 1.000000\n"
     ]
    },
    {
     "name": "stderr",
     "output_type": "stream",
     "text": [
      " 50%|█████     | 100/200 [10:40<12:52,  7.73s/it]"
     ]
    },
    {
     "name": "stdout",
     "output_type": "stream",
     "text": [
      "epoch is 100, test_loss is 1.027786, test_acc is 0.853613\n",
      "epoch is 101, train_loss is 0.000051, train_acc is 1.000000\n"
     ]
    },
    {
     "name": "stderr",
     "output_type": "stream",
     "text": [
      " 50%|█████     | 101/200 [10:48<12:50,  7.79s/it]"
     ]
    },
    {
     "name": "stdout",
     "output_type": "stream",
     "text": [
      "epoch is 101, test_loss is 1.018178, test_acc is 0.855193\n",
      "epoch is 102, train_loss is 0.000055, train_acc is 1.000000\n"
     ]
    },
    {
     "name": "stderr",
     "output_type": "stream",
     "text": [
      " 51%|█████     | 102/200 [10:56<12:32,  7.68s/it]"
     ]
    },
    {
     "name": "stdout",
     "output_type": "stream",
     "text": [
      "epoch is 102, test_loss is 1.013846, test_acc is 0.854791\n",
      "epoch is 103, train_loss is 0.000051, train_acc is 1.000000\n"
     ]
    },
    {
     "name": "stderr",
     "output_type": "stream",
     "text": [
      " 52%|█████▏    | 103/200 [11:02<11:39,  7.21s/it]"
     ]
    },
    {
     "name": "stdout",
     "output_type": "stream",
     "text": [
      "epoch is 103, test_loss is 1.016309, test_acc is 0.856325\n",
      "epoch is 104, train_loss is 0.000051, train_acc is 1.000000\n"
     ]
    },
    {
     "name": "stderr",
     "output_type": "stream",
     "text": [
      " 52%|█████▏    | 104/200 [11:08<10:51,  6.78s/it]"
     ]
    },
    {
     "name": "stdout",
     "output_type": "stream",
     "text": [
      "epoch is 104, test_loss is 1.019510, test_acc is 0.853246\n",
      "epoch is 105, train_loss is 0.000054, train_acc is 1.000000\n"
     ]
    },
    {
     "name": "stderr",
     "output_type": "stream",
     "text": [
      " 52%|█████▎    | 105/200 [11:13<10:14,  6.47s/it]"
     ]
    },
    {
     "name": "stdout",
     "output_type": "stream",
     "text": [
      "epoch is 105, test_loss is 1.017688, test_acc is 0.853602\n",
      "epoch is 106, train_loss is 0.000048, train_acc is 1.000000\n"
     ]
    },
    {
     "name": "stderr",
     "output_type": "stream",
     "text": [
      " 53%|█████▎    | 106/200 [11:19<09:49,  6.27s/it]"
     ]
    },
    {
     "name": "stdout",
     "output_type": "stream",
     "text": [
      "epoch is 106, test_loss is 1.039587, test_acc is 0.851637\n",
      "epoch is 107, train_loss is 0.000049, train_acc is 1.000000\n"
     ]
    },
    {
     "name": "stderr",
     "output_type": "stream",
     "text": [
      " 54%|█████▎    | 107/200 [11:25<09:30,  6.13s/it]"
     ]
    },
    {
     "name": "stdout",
     "output_type": "stream",
     "text": [
      "epoch is 107, test_loss is 1.021997, test_acc is 0.855440\n",
      "epoch is 108, train_loss is 0.000047, train_acc is 1.000000\n"
     ]
    },
    {
     "name": "stderr",
     "output_type": "stream",
     "text": [
      " 54%|█████▍    | 108/200 [11:31<09:15,  6.03s/it]"
     ]
    },
    {
     "name": "stdout",
     "output_type": "stream",
     "text": [
      "epoch is 108, test_loss is 1.022921, test_acc is 0.853366\n",
      "epoch is 109, train_loss is 0.000050, train_acc is 1.000000\n"
     ]
    },
    {
     "name": "stderr",
     "output_type": "stream",
     "text": [
      " 55%|█████▍    | 109/200 [11:37<09:04,  5.98s/it]"
     ]
    },
    {
     "name": "stdout",
     "output_type": "stream",
     "text": [
      "epoch is 109, test_loss is 1.020359, test_acc is 0.855078\n",
      "epoch is 110, train_loss is 0.000045, train_acc is 1.000000\n"
     ]
    },
    {
     "name": "stderr",
     "output_type": "stream",
     "text": [
      " 55%|█████▌    | 110/200 [11:43<08:54,  5.94s/it]"
     ]
    },
    {
     "name": "stdout",
     "output_type": "stream",
     "text": [
      "epoch is 110, test_loss is 1.022009, test_acc is 0.852545\n",
      "epoch is 111, train_loss is 0.000046, train_acc is 1.000000\n"
     ]
    },
    {
     "name": "stderr",
     "output_type": "stream",
     "text": [
      " 56%|█████▌    | 111/200 [11:48<08:46,  5.92s/it]"
     ]
    },
    {
     "name": "stdout",
     "output_type": "stream",
     "text": [
      "epoch is 111, test_loss is 1.035875, test_acc is 0.853286\n",
      "epoch is 112, train_loss is 0.000045, train_acc is 1.000000\n"
     ]
    },
    {
     "name": "stderr",
     "output_type": "stream",
     "text": [
      " 56%|█████▌    | 112/200 [11:54<08:39,  5.91s/it]"
     ]
    },
    {
     "name": "stdout",
     "output_type": "stream",
     "text": [
      "epoch is 112, test_loss is 1.025843, test_acc is 0.853901\n",
      "epoch is 113, train_loss is 0.000048, train_acc is 1.000000\n"
     ]
    },
    {
     "name": "stderr",
     "output_type": "stream",
     "text": [
      " 56%|█████▋    | 113/200 [12:00<08:32,  5.89s/it]"
     ]
    },
    {
     "name": "stdout",
     "output_type": "stream",
     "text": [
      "epoch is 113, test_loss is 1.038379, test_acc is 0.851419\n",
      "epoch is 114, train_loss is 0.000045, train_acc is 1.000000\n"
     ]
    },
    {
     "name": "stderr",
     "output_type": "stream",
     "text": [
      " 57%|█████▋    | 114/200 [12:06<08:26,  5.89s/it]"
     ]
    },
    {
     "name": "stdout",
     "output_type": "stream",
     "text": [
      "epoch is 114, test_loss is 1.028484, test_acc is 0.853631\n",
      "epoch is 115, train_loss is 0.000049, train_acc is 1.000000\n"
     ]
    },
    {
     "name": "stderr",
     "output_type": "stream",
     "text": [
      " 57%|█████▊    | 115/200 [12:12<08:20,  5.88s/it]"
     ]
    },
    {
     "name": "stdout",
     "output_type": "stream",
     "text": [
      "epoch is 115, test_loss is 1.026276, test_acc is 0.856164\n",
      "epoch is 116, train_loss is 0.000045, train_acc is 1.000000\n"
     ]
    },
    {
     "name": "stderr",
     "output_type": "stream",
     "text": [
      " 58%|█████▊    | 116/200 [12:18<08:14,  5.89s/it]"
     ]
    },
    {
     "name": "stdout",
     "output_type": "stream",
     "text": [
      "epoch is 116, test_loss is 1.033565, test_acc is 0.852459\n",
      "epoch is 117, train_loss is 0.000042, train_acc is 1.000000\n"
     ]
    },
    {
     "name": "stderr",
     "output_type": "stream",
     "text": [
      " 58%|█████▊    | 117/200 [12:24<08:08,  5.88s/it]"
     ]
    },
    {
     "name": "stdout",
     "output_type": "stream",
     "text": [
      "epoch is 117, test_loss is 1.034950, test_acc is 0.851430\n",
      "epoch is 118, train_loss is 0.000045, train_acc is 1.000000\n"
     ]
    },
    {
     "name": "stderr",
     "output_type": "stream",
     "text": [
      " 59%|█████▉    | 118/200 [12:30<08:01,  5.88s/it]"
     ]
    },
    {
     "name": "stdout",
     "output_type": "stream",
     "text": [
      "epoch is 118, test_loss is 1.023685, test_acc is 0.855026\n",
      "epoch is 119, train_loss is 0.000047, train_acc is 1.000000\n"
     ]
    },
    {
     "name": "stderr",
     "output_type": "stream",
     "text": [
      " 60%|█████▉    | 119/200 [12:35<07:54,  5.86s/it]"
     ]
    },
    {
     "name": "stdout",
     "output_type": "stream",
     "text": [
      "epoch is 119, test_loss is 1.035254, test_acc is 0.853372\n",
      "epoch is 120, train_loss is 0.000040, train_acc is 1.000000\n"
     ]
    },
    {
     "name": "stderr",
     "output_type": "stream",
     "text": [
      " 60%|██████    | 120/200 [12:42<07:55,  5.95s/it]"
     ]
    },
    {
     "name": "stdout",
     "output_type": "stream",
     "text": [
      "epoch is 120, test_loss is 1.042153, test_acc is 0.855463\n",
      "epoch is 121, train_loss is 0.000043, train_acc is 1.000000\n"
     ]
    },
    {
     "name": "stderr",
     "output_type": "stream",
     "text": [
      " 60%|██████    | 121/200 [12:48<07:51,  5.97s/it]"
     ]
    },
    {
     "name": "stdout",
     "output_type": "stream",
     "text": [
      "epoch is 121, test_loss is 1.035083, test_acc is 0.853338\n",
      "epoch is 122, train_loss is 0.000041, train_acc is 1.000000\n"
     ]
    },
    {
     "name": "stderr",
     "output_type": "stream",
     "text": [
      " 61%|██████    | 122/200 [12:53<07:44,  5.95s/it]"
     ]
    },
    {
     "name": "stdout",
     "output_type": "stream",
     "text": [
      "epoch is 122, test_loss is 1.024359, test_acc is 0.856284\n",
      "epoch is 123, train_loss is 0.000043, train_acc is 1.000000\n"
     ]
    },
    {
     "name": "stderr",
     "output_type": "stream",
     "text": [
      " 62%|██████▏   | 123/200 [12:59<07:39,  5.96s/it]"
     ]
    },
    {
     "name": "stdout",
     "output_type": "stream",
     "text": [
      "epoch is 123, test_loss is 1.032815, test_acc is 0.852878\n",
      "epoch is 124, train_loss is 0.000043, train_acc is 1.000000\n"
     ]
    },
    {
     "name": "stderr",
     "output_type": "stream",
     "text": [
      " 62%|██████▏   | 124/200 [13:05<07:29,  5.92s/it]"
     ]
    },
    {
     "name": "stdout",
     "output_type": "stream",
     "text": [
      "epoch is 124, test_loss is 1.028538, test_acc is 0.852327\n",
      "epoch is 125, train_loss is 0.000042, train_acc is 1.000000\n"
     ]
    },
    {
     "name": "stderr",
     "output_type": "stream",
     "text": [
      " 62%|██████▎   | 125/200 [13:11<07:21,  5.89s/it]"
     ]
    },
    {
     "name": "stdout",
     "output_type": "stream",
     "text": [
      "epoch is 125, test_loss is 1.035324, test_acc is 0.854831\n",
      "epoch is 126, train_loss is 0.000040, train_acc is 1.000000\n"
     ]
    },
    {
     "name": "stderr",
     "output_type": "stream",
     "text": [
      " 63%|██████▎   | 126/200 [13:17<07:14,  5.87s/it]"
     ]
    },
    {
     "name": "stdout",
     "output_type": "stream",
     "text": [
      "epoch is 126, test_loss is 1.030126, test_acc is 0.853355\n",
      "epoch is 127, train_loss is 0.000040, train_acc is 1.000000\n"
     ]
    },
    {
     "name": "stderr",
     "output_type": "stream",
     "text": [
      " 64%|██████▎   | 127/200 [13:23<07:07,  5.85s/it]"
     ]
    },
    {
     "name": "stdout",
     "output_type": "stream",
     "text": [
      "epoch is 127, test_loss is 1.030197, test_acc is 0.854929\n",
      "epoch is 128, train_loss is 0.000043, train_acc is 1.000000\n"
     ]
    },
    {
     "name": "stderr",
     "output_type": "stream",
     "text": [
      " 64%|██████▍   | 128/200 [13:28<07:00,  5.84s/it]"
     ]
    },
    {
     "name": "stdout",
     "output_type": "stream",
     "text": [
      "epoch is 128, test_loss is 1.031800, test_acc is 0.855147\n",
      "epoch is 129, train_loss is 0.000041, train_acc is 1.000000\n"
     ]
    },
    {
     "name": "stderr",
     "output_type": "stream",
     "text": [
      " 64%|██████▍   | 129/200 [13:34<06:52,  5.82s/it]"
     ]
    },
    {
     "name": "stdout",
     "output_type": "stream",
     "text": [
      "epoch is 129, test_loss is 1.032149, test_acc is 0.855061\n",
      "epoch is 130, train_loss is 0.000043, train_acc is 1.000000\n"
     ]
    },
    {
     "name": "stderr",
     "output_type": "stream",
     "text": [
      " 65%|██████▌   | 130/200 [13:40<06:46,  5.80s/it]"
     ]
    },
    {
     "name": "stdout",
     "output_type": "stream",
     "text": [
      "epoch is 130, test_loss is 1.027920, test_acc is 0.852706\n",
      "epoch is 131, train_loss is 0.000039, train_acc is 1.000000\n"
     ]
    },
    {
     "name": "stderr",
     "output_type": "stream",
     "text": [
      " 66%|██████▌   | 131/200 [13:46<06:39,  5.79s/it]"
     ]
    },
    {
     "name": "stdout",
     "output_type": "stream",
     "text": [
      "epoch is 131, test_loss is 1.033311, test_acc is 0.852332\n",
      "epoch is 132, train_loss is 0.000040, train_acc is 1.000000\n"
     ]
    },
    {
     "name": "stderr",
     "output_type": "stream",
     "text": [
      " 66%|██████▌   | 132/200 [13:52<06:33,  5.79s/it]"
     ]
    },
    {
     "name": "stdout",
     "output_type": "stream",
     "text": [
      "epoch is 132, test_loss is 1.038042, test_acc is 0.851534\n",
      "epoch is 133, train_loss is 0.000040, train_acc is 1.000000\n"
     ]
    },
    {
     "name": "stderr",
     "output_type": "stream",
     "text": [
      " 66%|██████▋   | 133/200 [13:59<06:58,  6.25s/it]"
     ]
    },
    {
     "name": "stdout",
     "output_type": "stream",
     "text": [
      "epoch is 133, test_loss is 1.037178, test_acc is 0.853487\n",
      "epoch is 134, train_loss is 0.000041, train_acc is 1.000000\n"
     ]
    },
    {
     "name": "stderr",
     "output_type": "stream",
     "text": [
      " 67%|██████▋   | 134/200 [14:07<07:20,  6.68s/it]"
     ]
    },
    {
     "name": "stdout",
     "output_type": "stream",
     "text": [
      "epoch is 134, test_loss is 1.026262, test_acc is 0.854010\n",
      "epoch is 135, train_loss is 0.000043, train_acc is 1.000000\n"
     ]
    },
    {
     "name": "stderr",
     "output_type": "stream",
     "text": [
      " 68%|██████▊   | 135/200 [14:14<07:32,  6.96s/it]"
     ]
    },
    {
     "name": "stdout",
     "output_type": "stream",
     "text": [
      "epoch is 135, test_loss is 1.022556, test_acc is 0.855946\n",
      "epoch is 136, train_loss is 0.000046, train_acc is 1.000000\n"
     ]
    },
    {
     "name": "stderr",
     "output_type": "stream",
     "text": [
      " 68%|██████▊   | 136/200 [14:22<07:37,  7.15s/it]"
     ]
    },
    {
     "name": "stdout",
     "output_type": "stream",
     "text": [
      "epoch is 136, test_loss is 1.028335, test_acc is 0.853987\n",
      "epoch is 137, train_loss is 0.000042, train_acc is 1.000000\n"
     ]
    },
    {
     "name": "stderr",
     "output_type": "stream",
     "text": [
      " 68%|██████▊   | 137/200 [14:29<07:40,  7.31s/it]"
     ]
    },
    {
     "name": "stdout",
     "output_type": "stream",
     "text": [
      "epoch is 137, test_loss is 1.044795, test_acc is 0.854205\n",
      "epoch is 138, train_loss is 0.000039, train_acc is 1.000000\n"
     ]
    },
    {
     "name": "stderr",
     "output_type": "stream",
     "text": [
      " 69%|██████▉   | 138/200 [14:37<07:45,  7.51s/it]"
     ]
    },
    {
     "name": "stdout",
     "output_type": "stream",
     "text": [
      "epoch is 138, test_loss is 1.027130, test_acc is 0.854090\n",
      "epoch is 139, train_loss is 0.000040, train_acc is 1.000000\n"
     ]
    },
    {
     "name": "stderr",
     "output_type": "stream",
     "text": [
      " 70%|██████▉   | 139/200 [14:45<07:41,  7.56s/it]"
     ]
    },
    {
     "name": "stdout",
     "output_type": "stream",
     "text": [
      "epoch is 139, test_loss is 1.037315, test_acc is 0.852516\n",
      "epoch is 140, train_loss is 0.000043, train_acc is 1.000000\n"
     ]
    },
    {
     "name": "stderr",
     "output_type": "stream",
     "text": [
      " 70%|███████   | 140/200 [14:53<07:36,  7.61s/it]"
     ]
    },
    {
     "name": "stdout",
     "output_type": "stream",
     "text": [
      "epoch is 140, test_loss is 1.028694, test_acc is 0.854366\n",
      "epoch is 141, train_loss is 0.000042, train_acc is 1.000000\n"
     ]
    },
    {
     "name": "stderr",
     "output_type": "stream",
     "text": [
      " 70%|███████   | 141/200 [15:00<07:28,  7.60s/it]"
     ]
    },
    {
     "name": "stdout",
     "output_type": "stream",
     "text": [
      "epoch is 141, test_loss is 1.017947, test_acc is 0.854067\n",
      "epoch is 142, train_loss is 0.000039, train_acc is 1.000000\n"
     ]
    },
    {
     "name": "stderr",
     "output_type": "stream",
     "text": [
      " 71%|███████   | 142/200 [15:08<07:23,  7.65s/it]"
     ]
    },
    {
     "name": "stdout",
     "output_type": "stream",
     "text": [
      "epoch is 142, test_loss is 1.034714, test_acc is 0.854377\n",
      "epoch is 143, train_loss is 0.000039, train_acc is 1.000000\n"
     ]
    },
    {
     "name": "stderr",
     "output_type": "stream",
     "text": [
      " 72%|███████▏  | 143/200 [15:16<07:18,  7.70s/it]"
     ]
    },
    {
     "name": "stdout",
     "output_type": "stream",
     "text": [
      "epoch is 143, test_loss is 1.024847, test_acc is 0.854550\n",
      "epoch is 144, train_loss is 0.000040, train_acc is 1.000000\n"
     ]
    },
    {
     "name": "stderr",
     "output_type": "stream",
     "text": [
      " 72%|███████▏  | 144/200 [15:24<07:16,  7.79s/it]"
     ]
    },
    {
     "name": "stdout",
     "output_type": "stream",
     "text": [
      "epoch is 144, test_loss is 1.032496, test_acc is 0.854050\n",
      "epoch is 145, train_loss is 0.000039, train_acc is 1.000000\n"
     ]
    },
    {
     "name": "stderr",
     "output_type": "stream",
     "text": [
      " 72%|███████▎  | 145/200 [15:32<07:04,  7.72s/it]"
     ]
    },
    {
     "name": "stdout",
     "output_type": "stream",
     "text": [
      "epoch is 145, test_loss is 1.048235, test_acc is 0.852683\n",
      "epoch is 146, train_loss is 0.000038, train_acc is 1.000000\n"
     ]
    },
    {
     "name": "stderr",
     "output_type": "stream",
     "text": [
      " 73%|███████▎  | 146/200 [15:39<06:52,  7.63s/it]"
     ]
    },
    {
     "name": "stdout",
     "output_type": "stream",
     "text": [
      "epoch is 146, test_loss is 1.026935, test_acc is 0.855980\n",
      "epoch is 147, train_loss is 0.000041, train_acc is 1.000000\n"
     ]
    },
    {
     "name": "stderr",
     "output_type": "stream",
     "text": [
      " 74%|███████▎  | 147/200 [15:45<06:20,  7.17s/it]"
     ]
    },
    {
     "name": "stdout",
     "output_type": "stream",
     "text": [
      "epoch is 147, test_loss is 1.035544, test_acc is 0.853665\n",
      "epoch is 148, train_loss is 0.000037, train_acc is 1.000000\n"
     ]
    },
    {
     "name": "stderr",
     "output_type": "stream",
     "text": [
      " 74%|███████▍  | 148/200 [15:51<05:50,  6.75s/it]"
     ]
    },
    {
     "name": "stdout",
     "output_type": "stream",
     "text": [
      "epoch is 148, test_loss is 1.033754, test_acc is 0.853550\n",
      "epoch is 149, train_loss is 0.000036, train_acc is 1.000000\n"
     ]
    },
    {
     "name": "stderr",
     "output_type": "stream",
     "text": [
      " 74%|███████▍  | 149/200 [15:57<05:33,  6.55s/it]"
     ]
    },
    {
     "name": "stdout",
     "output_type": "stream",
     "text": [
      "epoch is 149, test_loss is 1.033821, test_acc is 0.853429\n",
      "epoch is 150, train_loss is 0.000039, train_acc is 1.000000\n"
     ]
    },
    {
     "name": "stderr",
     "output_type": "stream",
     "text": [
      " 75%|███████▌  | 150/200 [16:03<05:16,  6.32s/it]"
     ]
    },
    {
     "name": "stdout",
     "output_type": "stream",
     "text": [
      "epoch is 150, test_loss is 1.018110, test_acc is 0.855750\n",
      "epoch is 151, train_loss is 0.000039, train_acc is 1.000000\n"
     ]
    },
    {
     "name": "stderr",
     "output_type": "stream",
     "text": [
      " 76%|███████▌  | 151/200 [16:08<05:01,  6.14s/it]"
     ]
    },
    {
     "name": "stdout",
     "output_type": "stream",
     "text": [
      "epoch is 151, test_loss is 1.036703, test_acc is 0.853022\n",
      "epoch is 152, train_loss is 0.000044, train_acc is 1.000000\n"
     ]
    },
    {
     "name": "stderr",
     "output_type": "stream",
     "text": [
      " 76%|███████▌  | 152/200 [16:14<04:50,  6.04s/it]"
     ]
    },
    {
     "name": "stdout",
     "output_type": "stream",
     "text": [
      "epoch is 152, test_loss is 1.026902, test_acc is 0.856129\n",
      "epoch is 153, train_loss is 0.000041, train_acc is 1.000000\n"
     ]
    },
    {
     "name": "stderr",
     "output_type": "stream",
     "text": [
      " 76%|███████▋  | 153/200 [16:20<04:40,  5.98s/it]"
     ]
    },
    {
     "name": "stdout",
     "output_type": "stream",
     "text": [
      "epoch is 153, test_loss is 1.030101, test_acc is 0.856124\n",
      "epoch is 154, train_loss is 0.000034, train_acc is 1.000000\n"
     ]
    },
    {
     "name": "stderr",
     "output_type": "stream",
     "text": [
      " 77%|███████▋  | 154/200 [16:26<04:32,  5.91s/it]"
     ]
    },
    {
     "name": "stdout",
     "output_type": "stream",
     "text": [
      "epoch is 154, test_loss is 1.029518, test_acc is 0.854475\n",
      "epoch is 155, train_loss is 0.000037, train_acc is 1.000000\n"
     ]
    },
    {
     "name": "stderr",
     "output_type": "stream",
     "text": [
      " 78%|███████▊  | 155/200 [16:32<04:26,  5.92s/it]"
     ]
    },
    {
     "name": "stdout",
     "output_type": "stream",
     "text": [
      "epoch is 155, test_loss is 1.029546, test_acc is 0.855676\n",
      "epoch is 156, train_loss is 0.000038, train_acc is 1.000000\n"
     ]
    },
    {
     "name": "stderr",
     "output_type": "stream",
     "text": [
      " 78%|███████▊  | 156/200 [16:38<04:19,  5.90s/it]"
     ]
    },
    {
     "name": "stdout",
     "output_type": "stream",
     "text": [
      "epoch is 156, test_loss is 1.042066, test_acc is 0.854050\n",
      "epoch is 157, train_loss is 0.000040, train_acc is 1.000000\n"
     ]
    },
    {
     "name": "stderr",
     "output_type": "stream",
     "text": [
      " 78%|███████▊  | 157/200 [16:44<04:13,  5.89s/it]"
     ]
    },
    {
     "name": "stdout",
     "output_type": "stream",
     "text": [
      "epoch is 157, test_loss is 1.036214, test_acc is 0.852361\n",
      "epoch is 158, train_loss is 0.000035, train_acc is 1.000000\n"
     ]
    },
    {
     "name": "stderr",
     "output_type": "stream",
     "text": [
      " 79%|███████▉  | 158/200 [16:49<04:07,  5.88s/it]"
     ]
    },
    {
     "name": "stdout",
     "output_type": "stream",
     "text": [
      "epoch is 158, test_loss is 1.035021, test_acc is 0.853458\n",
      "epoch is 159, train_loss is 0.000034, train_acc is 1.000000\n"
     ]
    },
    {
     "name": "stderr",
     "output_type": "stream",
     "text": [
      " 80%|███████▉  | 159/200 [16:55<04:01,  5.88s/it]"
     ]
    },
    {
     "name": "stdout",
     "output_type": "stream",
     "text": [
      "epoch is 159, test_loss is 1.029050, test_acc is 0.855141\n",
      "epoch is 160, train_loss is 0.000042, train_acc is 1.000000\n"
     ]
    },
    {
     "name": "stderr",
     "output_type": "stream",
     "text": [
      " 80%|████████  | 160/200 [17:01<03:59,  5.99s/it]"
     ]
    },
    {
     "name": "stdout",
     "output_type": "stream",
     "text": [
      "epoch is 160, test_loss is 1.044668, test_acc is 0.853527\n",
      "epoch is 161, train_loss is 0.000038, train_acc is 1.000000\n"
     ]
    },
    {
     "name": "stderr",
     "output_type": "stream",
     "text": [
      " 80%|████████  | 161/200 [17:07<03:51,  5.94s/it]"
     ]
    },
    {
     "name": "stdout",
     "output_type": "stream",
     "text": [
      "epoch is 161, test_loss is 1.037696, test_acc is 0.853832\n",
      "epoch is 162, train_loss is 0.000036, train_acc is 1.000000\n"
     ]
    },
    {
     "name": "stderr",
     "output_type": "stream",
     "text": [
      " 81%|████████  | 162/200 [17:13<03:46,  5.95s/it]"
     ]
    },
    {
     "name": "stdout",
     "output_type": "stream",
     "text": [
      "epoch is 162, test_loss is 1.022892, test_acc is 0.856072\n",
      "epoch is 163, train_loss is 0.000035, train_acc is 1.000000\n"
     ]
    },
    {
     "name": "stderr",
     "output_type": "stream",
     "text": [
      " 82%|████████▏ | 163/200 [17:19<03:41,  5.98s/it]"
     ]
    },
    {
     "name": "stdout",
     "output_type": "stream",
     "text": [
      "epoch is 163, test_loss is 1.026533, test_acc is 0.855101\n",
      "epoch is 164, train_loss is 0.000035, train_acc is 1.000000\n"
     ]
    },
    {
     "name": "stderr",
     "output_type": "stream",
     "text": [
      " 82%|████████▏ | 164/200 [17:25<03:33,  5.92s/it]"
     ]
    },
    {
     "name": "stdout",
     "output_type": "stream",
     "text": [
      "epoch is 164, test_loss is 1.026203, test_acc is 0.853992\n",
      "epoch is 165, train_loss is 0.000033, train_acc is 1.000000\n"
     ]
    },
    {
     "name": "stderr",
     "output_type": "stream",
     "text": [
      " 82%|████████▎ | 165/200 [17:31<03:26,  5.89s/it]"
     ]
    },
    {
     "name": "stdout",
     "output_type": "stream",
     "text": [
      "epoch is 165, test_loss is 1.048702, test_acc is 0.851930\n",
      "epoch is 166, train_loss is 0.000034, train_acc is 1.000000\n"
     ]
    },
    {
     "name": "stderr",
     "output_type": "stream",
     "text": [
      " 83%|████████▎ | 166/200 [17:37<03:19,  5.86s/it]"
     ]
    },
    {
     "name": "stdout",
     "output_type": "stream",
     "text": [
      "epoch is 166, test_loss is 1.037851, test_acc is 0.853303\n",
      "epoch is 167, train_loss is 0.000034, train_acc is 1.000000\n"
     ]
    },
    {
     "name": "stderr",
     "output_type": "stream",
     "text": [
      " 84%|████████▎ | 167/200 [17:43<03:12,  5.84s/it]"
     ]
    },
    {
     "name": "stdout",
     "output_type": "stream",
     "text": [
      "epoch is 167, test_loss is 1.041351, test_acc is 0.854056\n",
      "epoch is 168, train_loss is 0.000034, train_acc is 1.000000\n"
     ]
    },
    {
     "name": "stderr",
     "output_type": "stream",
     "text": [
      " 84%|████████▍ | 168/200 [17:48<03:06,  5.82s/it]"
     ]
    },
    {
     "name": "stdout",
     "output_type": "stream",
     "text": [
      "epoch is 168, test_loss is 1.041149, test_acc is 0.854739\n",
      "epoch is 169, train_loss is 0.000035, train_acc is 1.000000\n"
     ]
    },
    {
     "name": "stderr",
     "output_type": "stream",
     "text": [
      " 84%|████████▍ | 169/200 [17:55<03:06,  6.02s/it]"
     ]
    },
    {
     "name": "stdout",
     "output_type": "stream",
     "text": [
      "epoch is 169, test_loss is 1.035552, test_acc is 0.852378\n",
      "epoch is 170, train_loss is 0.000030, train_acc is 1.000000\n"
     ]
    },
    {
     "name": "stderr",
     "output_type": "stream",
     "text": [
      " 85%|████████▌ | 170/200 [18:02<03:15,  6.52s/it]"
     ]
    },
    {
     "name": "stdout",
     "output_type": "stream",
     "text": [
      "epoch is 170, test_loss is 1.034472, test_acc is 0.857077\n",
      "epoch is 171, train_loss is 0.000032, train_acc is 1.000000\n"
     ]
    },
    {
     "name": "stderr",
     "output_type": "stream",
     "text": [
      " 86%|████████▌ | 171/200 [18:10<03:19,  6.87s/it]"
     ]
    },
    {
     "name": "stdout",
     "output_type": "stream",
     "text": [
      "epoch is 171, test_loss is 1.046225, test_acc is 0.853740\n",
      "epoch is 172, train_loss is 0.000034, train_acc is 1.000000\n"
     ]
    },
    {
     "name": "stderr",
     "output_type": "stream",
     "text": [
      " 86%|████████▌ | 172/200 [18:18<03:19,  7.11s/it]"
     ]
    },
    {
     "name": "stdout",
     "output_type": "stream",
     "text": [
      "epoch is 172, test_loss is 1.049240, test_acc is 0.852809\n",
      "epoch is 173, train_loss is 0.000032, train_acc is 1.000000\n"
     ]
    },
    {
     "name": "stderr",
     "output_type": "stream",
     "text": [
      " 86%|████████▋ | 173/200 [18:26<03:16,  7.28s/it]"
     ]
    },
    {
     "name": "stdout",
     "output_type": "stream",
     "text": [
      "epoch is 173, test_loss is 1.045086, test_acc is 0.855406\n",
      "epoch is 174, train_loss is 0.000035, train_acc is 1.000000\n"
     ]
    },
    {
     "name": "stderr",
     "output_type": "stream",
     "text": [
      " 87%|████████▋ | 174/200 [18:33<03:13,  7.46s/it]"
     ]
    },
    {
     "name": "stdout",
     "output_type": "stream",
     "text": [
      "epoch is 174, test_loss is 1.030657, test_acc is 0.856175\n",
      "epoch is 175, train_loss is 0.000030, train_acc is 1.000000\n"
     ]
    },
    {
     "name": "stderr",
     "output_type": "stream",
     "text": [
      " 88%|████████▊ | 175/200 [18:40<02:56,  7.06s/it]"
     ]
    },
    {
     "name": "stdout",
     "output_type": "stream",
     "text": [
      "epoch is 175, test_loss is 1.039058, test_acc is 0.855825\n",
      "epoch is 176, train_loss is 0.000032, train_acc is 1.000000\n"
     ]
    },
    {
     "name": "stderr",
     "output_type": "stream",
     "text": [
      " 88%|████████▊ | 176/200 [18:45<02:41,  6.73s/it]"
     ]
    },
    {
     "name": "stdout",
     "output_type": "stream",
     "text": [
      "epoch is 176, test_loss is 1.039688, test_acc is 0.851775\n",
      "epoch is 177, train_loss is 0.000035, train_acc is 1.000000\n"
     ]
    },
    {
     "name": "stderr",
     "output_type": "stream",
     "text": [
      " 88%|████████▊ | 177/200 [18:51<02:28,  6.45s/it]"
     ]
    },
    {
     "name": "stdout",
     "output_type": "stream",
     "text": [
      "epoch is 177, test_loss is 1.039080, test_acc is 0.854320\n",
      "epoch is 178, train_loss is 0.000032, train_acc is 1.000000\n"
     ]
    },
    {
     "name": "stderr",
     "output_type": "stream",
     "text": [
      " 89%|████████▉ | 178/200 [18:57<02:17,  6.23s/it]"
     ]
    },
    {
     "name": "stdout",
     "output_type": "stream",
     "text": [
      "epoch is 178, test_loss is 1.037100, test_acc is 0.855308\n",
      "epoch is 179, train_loss is 0.000029, train_acc is 1.000000\n"
     ]
    },
    {
     "name": "stderr",
     "output_type": "stream",
     "text": [
      " 90%|████████▉ | 179/200 [19:03<02:08,  6.11s/it]"
     ]
    },
    {
     "name": "stdout",
     "output_type": "stream",
     "text": [
      "epoch is 179, test_loss is 1.049490, test_acc is 0.854659\n",
      "epoch is 180, train_loss is 0.000030, train_acc is 1.000000\n"
     ]
    },
    {
     "name": "stderr",
     "output_type": "stream",
     "text": [
      " 90%|█████████ | 180/200 [19:09<02:00,  6.02s/it]"
     ]
    },
    {
     "name": "stdout",
     "output_type": "stream",
     "text": [
      "epoch is 180, test_loss is 1.045238, test_acc is 0.854372\n",
      "epoch is 181, train_loss is 0.000030, train_acc is 1.000000\n"
     ]
    },
    {
     "name": "stderr",
     "output_type": "stream",
     "text": [
      " 90%|█████████ | 181/200 [19:14<01:52,  5.94s/it]"
     ]
    },
    {
     "name": "stdout",
     "output_type": "stream",
     "text": [
      "epoch is 181, test_loss is 1.034651, test_acc is 0.854722\n",
      "epoch is 182, train_loss is 0.000030, train_acc is 1.000000\n"
     ]
    },
    {
     "name": "stderr",
     "output_type": "stream",
     "text": [
      " 91%|█████████ | 182/200 [19:20<01:45,  5.88s/it]"
     ]
    },
    {
     "name": "stdout",
     "output_type": "stream",
     "text": [
      "epoch is 182, test_loss is 1.034100, test_acc is 0.855141\n",
      "epoch is 183, train_loss is 0.000026, train_acc is 1.000000\n"
     ]
    },
    {
     "name": "stderr",
     "output_type": "stream",
     "text": [
      " 92%|█████████▏| 183/200 [19:26<01:39,  5.88s/it]"
     ]
    },
    {
     "name": "stdout",
     "output_type": "stream",
     "text": [
      "epoch is 183, test_loss is 1.043932, test_acc is 0.852447\n",
      "epoch is 184, train_loss is 0.000030, train_acc is 1.000000\n"
     ]
    },
    {
     "name": "stderr",
     "output_type": "stream",
     "text": [
      " 92%|█████████▏| 184/200 [19:32<01:33,  5.84s/it]"
     ]
    },
    {
     "name": "stdout",
     "output_type": "stream",
     "text": [
      "epoch is 184, test_loss is 1.043073, test_acc is 0.853142\n",
      "epoch is 185, train_loss is 0.000031, train_acc is 1.000000\n"
     ]
    },
    {
     "name": "stderr",
     "output_type": "stream",
     "text": [
      " 92%|█████████▎| 185/200 [19:38<01:27,  5.81s/it]"
     ]
    },
    {
     "name": "stdout",
     "output_type": "stream",
     "text": [
      "epoch is 185, test_loss is 1.045587, test_acc is 0.855210\n",
      "epoch is 186, train_loss is 0.000028, train_acc is 1.000000\n"
     ]
    },
    {
     "name": "stderr",
     "output_type": "stream",
     "text": [
      " 93%|█████████▎| 186/200 [19:43<01:21,  5.81s/it]"
     ]
    },
    {
     "name": "stdout",
     "output_type": "stream",
     "text": [
      "epoch is 186, test_loss is 1.049921, test_acc is 0.854808\n",
      "epoch is 187, train_loss is 0.000027, train_acc is 1.000000\n"
     ]
    },
    {
     "name": "stderr",
     "output_type": "stream",
     "text": [
      " 94%|█████████▎| 187/200 [19:49<01:16,  5.90s/it]"
     ]
    },
    {
     "name": "stdout",
     "output_type": "stream",
     "text": [
      "epoch is 187, test_loss is 1.037250, test_acc is 0.857313\n",
      "epoch is 188, train_loss is 0.000026, train_acc is 1.000000\n"
     ]
    },
    {
     "name": "stderr",
     "output_type": "stream",
     "text": [
      " 94%|█████████▍| 188/200 [19:56<01:13,  6.14s/it]"
     ]
    },
    {
     "name": "stdout",
     "output_type": "stream",
     "text": [
      "epoch is 188, test_loss is 1.046405, test_acc is 0.855021\n",
      "epoch is 189, train_loss is 0.000029, train_acc is 1.000000\n"
     ]
    },
    {
     "name": "stderr",
     "output_type": "stream",
     "text": [
      " 94%|█████████▍| 189/200 [20:02<01:06,  6.08s/it]"
     ]
    },
    {
     "name": "stdout",
     "output_type": "stream",
     "text": [
      "epoch is 189, test_loss is 1.049574, test_acc is 0.854475\n",
      "epoch is 190, train_loss is 0.000026, train_acc is 1.000000\n"
     ]
    },
    {
     "name": "stderr",
     "output_type": "stream",
     "text": [
      " 95%|█████████▌| 190/200 [20:08<01:00,  6.02s/it]"
     ]
    },
    {
     "name": "stdout",
     "output_type": "stream",
     "text": [
      "epoch is 190, test_loss is 1.039774, test_acc is 0.857485\n",
      "epoch is 191, train_loss is 0.000025, train_acc is 1.000000\n"
     ]
    },
    {
     "name": "stderr",
     "output_type": "stream",
     "text": [
      " 96%|█████████▌| 191/200 [20:14<00:53,  5.99s/it]"
     ]
    },
    {
     "name": "stdout",
     "output_type": "stream",
     "text": [
      "epoch is 191, test_loss is 1.046339, test_acc is 0.855009\n",
      "epoch is 192, train_loss is 0.000025, train_acc is 1.000000\n"
     ]
    },
    {
     "name": "stderr",
     "output_type": "stream",
     "text": [
      " 96%|█████████▌| 192/200 [20:20<00:47,  5.98s/it]"
     ]
    },
    {
     "name": "stdout",
     "output_type": "stream",
     "text": [
      "epoch is 192, test_loss is 1.051945, test_acc is 0.856646\n",
      "epoch is 193, train_loss is 0.000025, train_acc is 1.000000\n"
     ]
    },
    {
     "name": "stderr",
     "output_type": "stream",
     "text": [
      " 96%|█████████▋| 193/200 [20:26<00:41,  5.92s/it]"
     ]
    },
    {
     "name": "stdout",
     "output_type": "stream",
     "text": [
      "epoch is 193, test_loss is 1.050917, test_acc is 0.855957\n",
      "epoch is 194, train_loss is 0.000025, train_acc is 1.000000\n"
     ]
    },
    {
     "name": "stderr",
     "output_type": "stream",
     "text": [
      " 97%|█████████▋| 194/200 [20:31<00:35,  5.89s/it]"
     ]
    },
    {
     "name": "stdout",
     "output_type": "stream",
     "text": [
      "epoch is 194, test_loss is 1.044907, test_acc is 0.854705\n",
      "epoch is 195, train_loss is 0.000024, train_acc is 1.000000\n"
     ]
    },
    {
     "name": "stderr",
     "output_type": "stream",
     "text": [
      " 98%|█████████▊| 195/200 [20:37<00:29,  5.87s/it]"
     ]
    },
    {
     "name": "stdout",
     "output_type": "stream",
     "text": [
      "epoch is 195, test_loss is 1.054590, test_acc is 0.854211\n",
      "epoch is 196, train_loss is 0.000023, train_acc is 1.000000\n"
     ]
    },
    {
     "name": "stderr",
     "output_type": "stream",
     "text": [
      " 98%|█████████▊| 196/200 [20:43<00:23,  5.85s/it]"
     ]
    },
    {
     "name": "stdout",
     "output_type": "stream",
     "text": [
      "epoch is 196, test_loss is 1.051191, test_acc is 0.854182\n",
      "epoch is 197, train_loss is 0.000022, train_acc is 1.000000\n"
     ]
    },
    {
     "name": "stderr",
     "output_type": "stream",
     "text": [
      " 98%|█████████▊| 197/200 [20:49<00:17,  5.85s/it]"
     ]
    },
    {
     "name": "stdout",
     "output_type": "stream",
     "text": [
      "epoch is 197, test_loss is 1.053300, test_acc is 0.853774\n",
      "epoch is 198, train_loss is 0.000022, train_acc is 1.000000\n"
     ]
    },
    {
     "name": "stderr",
     "output_type": "stream",
     "text": [
      " 99%|█████████▉| 198/200 [20:55<00:11,  5.85s/it]"
     ]
    },
    {
     "name": "stdout",
     "output_type": "stream",
     "text": [
      "epoch is 198, test_loss is 1.054656, test_acc is 0.856635\n",
      "epoch is 199, train_loss is 0.000022, train_acc is 1.000000\n"
     ]
    },
    {
     "name": "stderr",
     "output_type": "stream",
     "text": [
      "100%|█████████▉| 199/200 [21:01<00:05,  5.85s/it]"
     ]
    },
    {
     "name": "stdout",
     "output_type": "stream",
     "text": [
      "epoch is 199, test_loss is 1.049911, test_acc is 0.855618\n",
      "epoch is 200, train_loss is 0.000024, train_acc is 1.000000\n"
     ]
    },
    {
     "name": "stderr",
     "output_type": "stream",
     "text": [
      "100%|██████████| 200/200 [21:06<00:00,  6.33s/it]"
     ]
    },
    {
     "name": "stdout",
     "output_type": "stream",
     "text": [
      "epoch is 200, test_loss is 1.051665, test_acc is 0.855819\n"
     ]
    },
    {
     "name": "stderr",
     "output_type": "stream",
     "text": [
      "\n"
     ]
    }
   ],
   "source": [
    "#lr=1e-5 para defalut opt\n",
    "model = train(optimizer='ADAM', learning_rate=1e-3, max_epochs=200, eval_freq=500, ada_opt=True, save_para=False)"
   ]
  },
  {
   "cell_type": "code",
   "execution_count": 13,
   "id": "004d472b-4783-4217-a38d-2f6f47cebee6",
   "metadata": {},
   "outputs": [
    {
     "name": "stdout",
     "output_type": "stream",
     "text": [
      "start training CNN...\n",
      "cuda:0\n"
     ]
    },
    {
     "name": "stderr",
     "output_type": "stream",
     "text": [
      "  0%|          | 0/200 [00:00<?, ?it/s]"
     ]
    },
    {
     "name": "stdout",
     "output_type": "stream",
     "text": [
      "epoch is 1, train_loss is 1.950363, train_acc is 0.346748\n"
     ]
    },
    {
     "name": "stderr",
     "output_type": "stream",
     "text": [
      "  0%|          | 1/200 [00:05<19:09,  5.77s/it]"
     ]
    },
    {
     "name": "stdout",
     "output_type": "stream",
     "text": [
      "epoch is 1, test_loss is 1.534186, test_acc is 0.451844\n",
      "epoch is 2, train_loss is 1.375649, train_acc is 0.512724\n"
     ]
    },
    {
     "name": "stderr",
     "output_type": "stream",
     "text": [
      "  1%|          | 2/200 [00:11<19:16,  5.84s/it]"
     ]
    },
    {
     "name": "stdout",
     "output_type": "stream",
     "text": [
      "epoch is 2, test_loss is 1.371576, test_acc is 0.518624\n",
      "epoch is 3, train_loss is 1.203551, train_acc is 0.578184\n"
     ]
    },
    {
     "name": "stderr",
     "output_type": "stream",
     "text": [
      "  2%|▏         | 3/200 [00:17<19:05,  5.81s/it]"
     ]
    },
    {
     "name": "stdout",
     "output_type": "stream",
     "text": [
      "epoch is 3, test_loss is 1.285299, test_acc is 0.545358\n",
      "epoch is 4, train_loss is 1.080508, train_acc is 0.625324\n"
     ]
    },
    {
     "name": "stderr",
     "output_type": "stream",
     "text": [
      "  2%|▏         | 4/200 [00:23<19:13,  5.88s/it]"
     ]
    },
    {
     "name": "stdout",
     "output_type": "stream",
     "text": [
      "epoch is 4, test_loss is 1.231778, test_acc is 0.566705\n",
      "epoch is 5, train_loss is 0.978132, train_acc is 0.668107\n"
     ]
    },
    {
     "name": "stderr",
     "output_type": "stream",
     "text": [
      "  2%|▎         | 5/200 [00:31<21:07,  6.50s/it]"
     ]
    },
    {
     "name": "stdout",
     "output_type": "stream",
     "text": [
      "epoch is 5, test_loss is 1.193535, test_acc is 0.582318\n",
      "epoch is 6, train_loss is 0.886611, train_acc is 0.704621\n"
     ]
    },
    {
     "name": "stderr",
     "output_type": "stream",
     "text": [
      "  3%|▎         | 6/200 [00:38<22:15,  6.88s/it]"
     ]
    },
    {
     "name": "stdout",
     "output_type": "stream",
     "text": [
      "epoch is 6, test_loss is 1.164049, test_acc is 0.595514\n",
      "epoch is 7, train_loss is 0.806086, train_acc is 0.735953\n"
     ]
    },
    {
     "name": "stderr",
     "output_type": "stream",
     "text": [
      "  4%|▎         | 7/200 [00:46<23:13,  7.22s/it]"
     ]
    },
    {
     "name": "stdout",
     "output_type": "stream",
     "text": [
      "epoch is 7, test_loss is 1.150204, test_acc is 0.600144\n",
      "epoch is 8, train_loss is 0.732280, train_acc is 0.767000\n"
     ]
    },
    {
     "name": "stderr",
     "output_type": "stream",
     "text": [
      "  4%|▍         | 8/200 [00:54<23:40,  7.40s/it]"
     ]
    },
    {
     "name": "stdout",
     "output_type": "stream",
     "text": [
      "epoch is 8, test_loss is 1.127808, test_acc is 0.608381\n",
      "epoch is 9, train_loss is 0.664992, train_acc is 0.794052\n"
     ]
    },
    {
     "name": "stderr",
     "output_type": "stream",
     "text": [
      "  4%|▍         | 9/200 [01:02<23:55,  7.51s/it]"
     ]
    },
    {
     "name": "stdout",
     "output_type": "stream",
     "text": [
      "epoch is 9, test_loss is 1.112790, test_acc is 0.613758\n",
      "epoch is 10, train_loss is 0.600525, train_acc is 0.821607\n"
     ]
    },
    {
     "name": "stderr",
     "output_type": "stream",
     "text": [
      "  5%|▌         | 10/200 [01:09<24:06,  7.62s/it]"
     ]
    },
    {
     "name": "stdout",
     "output_type": "stream",
     "text": [
      "epoch is 10, test_loss is 1.106971, test_acc is 0.619738\n",
      "epoch is 11, train_loss is 0.542816, train_acc is 0.847205\n"
     ]
    },
    {
     "name": "stderr",
     "output_type": "stream",
     "text": [
      "  6%|▌         | 11/200 [01:17<23:55,  7.59s/it]"
     ]
    },
    {
     "name": "stdout",
     "output_type": "stream",
     "text": [
      "epoch is 11, test_loss is 1.103870, test_acc is 0.619376\n",
      "epoch is 12, train_loss is 0.489580, train_acc is 0.869117\n"
     ]
    },
    {
     "name": "stderr",
     "output_type": "stream",
     "text": [
      "  6%|▌         | 12/200 [01:25<23:56,  7.64s/it]"
     ]
    },
    {
     "name": "stdout",
     "output_type": "stream",
     "text": [
      "epoch is 12, test_loss is 1.097765, test_acc is 0.622731\n",
      "epoch is 13, train_loss is 0.439888, train_acc is 0.891512\n"
     ]
    },
    {
     "name": "stderr",
     "output_type": "stream",
     "text": [
      "  6%|▋         | 13/200 [01:32<23:48,  7.64s/it]"
     ]
    },
    {
     "name": "stdout",
     "output_type": "stream",
     "text": [
      "epoch is 13, test_loss is 1.092159, test_acc is 0.627160\n",
      "epoch is 14, train_loss is 0.393786, train_acc is 0.908130\n"
     ]
    },
    {
     "name": "stderr",
     "output_type": "stream",
     "text": [
      "  7%|▋         | 14/200 [01:40<23:43,  7.66s/it]"
     ]
    },
    {
     "name": "stdout",
     "output_type": "stream",
     "text": [
      "epoch is 14, test_loss is 1.097742, test_acc is 0.632186\n",
      "epoch is 15, train_loss is 0.352991, train_acc is 0.924324\n"
     ]
    },
    {
     "name": "stderr",
     "output_type": "stream",
     "text": [
      "  8%|▊         | 15/200 [01:48<23:37,  7.66s/it]"
     ]
    },
    {
     "name": "stdout",
     "output_type": "stream",
     "text": [
      "epoch is 15, test_loss is 1.099013, test_acc is 0.631830\n",
      "epoch is 16, train_loss is 0.313599, train_acc is 0.941421\n"
     ]
    },
    {
     "name": "stderr",
     "output_type": "stream",
     "text": [
      "  8%|▊         | 16/200 [01:56<23:45,  7.75s/it]"
     ]
    },
    {
     "name": "stdout",
     "output_type": "stream",
     "text": [
      "epoch is 16, test_loss is 1.094270, test_acc is 0.633709\n",
      "epoch is 17, train_loss is 0.278505, train_acc is 0.953954\n"
     ]
    },
    {
     "name": "stderr",
     "output_type": "stream",
     "text": [
      "  8%|▊         | 17/200 [02:03<23:33,  7.72s/it]"
     ]
    },
    {
     "name": "stdout",
     "output_type": "stream",
     "text": [
      "epoch is 17, test_loss is 1.109758, test_acc is 0.635507\n",
      "epoch is 18, train_loss is 0.248062, train_acc is 0.963900\n"
     ]
    },
    {
     "name": "stderr",
     "output_type": "stream",
     "text": [
      "  9%|▉         | 18/200 [02:11<23:26,  7.73s/it]"
     ]
    },
    {
     "name": "stdout",
     "output_type": "stream",
     "text": [
      "epoch is 18, test_loss is 1.109702, test_acc is 0.630722\n",
      "epoch is 19, train_loss is 0.219932, train_acc is 0.973191\n"
     ]
    },
    {
     "name": "stderr",
     "output_type": "stream",
     "text": [
      " 10%|▉         | 19/200 [02:19<23:28,  7.78s/it]"
     ]
    },
    {
     "name": "stdout",
     "output_type": "stream",
     "text": [
      "epoch is 19, test_loss is 1.110826, test_acc is 0.638333\n",
      "epoch is 20, train_loss is 0.193609, train_acc is 0.979139\n"
     ]
    },
    {
     "name": "stderr",
     "output_type": "stream",
     "text": [
      " 10%|█         | 20/200 [02:27<23:11,  7.73s/it]"
     ]
    },
    {
     "name": "stdout",
     "output_type": "stream",
     "text": [
      "epoch is 20, test_loss is 1.116235, test_acc is 0.636989\n",
      "epoch is 21, train_loss is 0.171286, train_acc is 0.985368\n"
     ]
    },
    {
     "name": "stderr",
     "output_type": "stream",
     "text": [
      " 10%|█         | 21/200 [02:34<23:03,  7.73s/it]"
     ]
    },
    {
     "name": "stdout",
     "output_type": "stream",
     "text": [
      "epoch is 21, test_loss is 1.121366, test_acc is 0.638850\n",
      "epoch is 22, train_loss is 0.151866, train_acc is 0.989088\n"
     ]
    },
    {
     "name": "stderr",
     "output_type": "stream",
     "text": [
      " 11%|█         | 22/200 [02:42<23:02,  7.77s/it]"
     ]
    },
    {
     "name": "stdout",
     "output_type": "stream",
     "text": [
      "epoch is 22, test_loss is 1.128648, test_acc is 0.639689\n",
      "epoch is 23, train_loss is 0.132292, train_acc is 0.992645\n"
     ]
    },
    {
     "name": "stderr",
     "output_type": "stream",
     "text": [
      " 12%|█▏        | 23/200 [02:50<22:57,  7.79s/it]"
     ]
    },
    {
     "name": "stdout",
     "output_type": "stream",
     "text": [
      "epoch is 23, test_loss is 1.134597, test_acc is 0.641085\n",
      "epoch is 24, train_loss is 0.117081, train_acc is 0.995006\n"
     ]
    },
    {
     "name": "stderr",
     "output_type": "stream",
     "text": [
      " 12%|█▏        | 24/200 [02:58<22:40,  7.73s/it]"
     ]
    },
    {
     "name": "stdout",
     "output_type": "stream",
     "text": [
      "epoch is 24, test_loss is 1.142012, test_acc is 0.642337\n",
      "epoch is 25, train_loss is 0.104929, train_acc is 0.996161\n"
     ]
    },
    {
     "name": "stderr",
     "output_type": "stream",
     "text": [
      " 12%|█▎        | 25/200 [03:05<21:46,  7.47s/it]"
     ]
    },
    {
     "name": "stdout",
     "output_type": "stream",
     "text": [
      "epoch is 25, test_loss is 1.152688, test_acc is 0.641895\n",
      "epoch is 26, train_loss is 0.092396, train_acc is 0.997947\n"
     ]
    },
    {
     "name": "stderr",
     "output_type": "stream",
     "text": [
      " 13%|█▎        | 26/200 [03:11<20:29,  7.07s/it]"
     ]
    },
    {
     "name": "stdout",
     "output_type": "stream",
     "text": [
      "epoch is 26, test_loss is 1.159091, test_acc is 0.643532\n",
      "epoch is 27, train_loss is 0.081123, train_acc is 0.998724\n"
     ]
    },
    {
     "name": "stderr",
     "output_type": "stream",
     "text": [
      " 14%|█▎        | 27/200 [03:17<19:26,  6.74s/it]"
     ]
    },
    {
     "name": "stdout",
     "output_type": "stream",
     "text": [
      "epoch is 27, test_loss is 1.170499, test_acc is 0.646180\n",
      "epoch is 28, train_loss is 0.072376, train_acc is 0.999243\n"
     ]
    },
    {
     "name": "stderr",
     "output_type": "stream",
     "text": [
      " 14%|█▍        | 28/200 [03:22<18:27,  6.44s/it]"
     ]
    },
    {
     "name": "stdout",
     "output_type": "stream",
     "text": [
      "epoch is 28, test_loss is 1.176932, test_acc is 0.643664\n",
      "epoch is 29, train_loss is 0.063487, train_acc is 0.999631\n"
     ]
    },
    {
     "name": "stderr",
     "output_type": "stream",
     "text": [
      " 14%|█▍        | 29/200 [03:28<17:46,  6.24s/it]"
     ]
    },
    {
     "name": "stdout",
     "output_type": "stream",
     "text": [
      "epoch is 29, test_loss is 1.187298, test_acc is 0.646128\n",
      "epoch is 30, train_loss is 0.056762, train_acc is 0.999830\n"
     ]
    },
    {
     "name": "stderr",
     "output_type": "stream",
     "text": [
      " 15%|█▌        | 30/200 [03:34<17:16,  6.10s/it]"
     ]
    },
    {
     "name": "stdout",
     "output_type": "stream",
     "text": [
      "epoch is 30, test_loss is 1.197143, test_acc is 0.647852\n",
      "epoch is 31, train_loss is 0.050739, train_acc is 0.999900\n"
     ]
    },
    {
     "name": "stderr",
     "output_type": "stream",
     "text": [
      " 16%|█▌        | 31/200 [03:40<16:57,  6.02s/it]"
     ]
    },
    {
     "name": "stdout",
     "output_type": "stream",
     "text": [
      "epoch is 31, test_loss is 1.211719, test_acc is 0.645077\n",
      "epoch is 32, train_loss is 0.045427, train_acc is 0.999940\n"
     ]
    },
    {
     "name": "stderr",
     "output_type": "stream",
     "text": [
      " 16%|█▌        | 32/200 [03:45<16:36,  5.93s/it]"
     ]
    },
    {
     "name": "stdout",
     "output_type": "stream",
     "text": [
      "epoch is 32, test_loss is 1.212824, test_acc is 0.649190\n",
      "epoch is 33, train_loss is 0.040799, train_acc is 0.999980\n"
     ]
    },
    {
     "name": "stderr",
     "output_type": "stream",
     "text": [
      " 16%|█▋        | 33/200 [03:51<16:20,  5.87s/it]"
     ]
    },
    {
     "name": "stdout",
     "output_type": "stream",
     "text": [
      "epoch is 33, test_loss is 1.226873, test_acc is 0.647306\n",
      "epoch is 34, train_loss is 0.037084, train_acc is 1.000000\n"
     ]
    },
    {
     "name": "stderr",
     "output_type": "stream",
     "text": [
      " 17%|█▋        | 34/200 [03:57<16:18,  5.90s/it]"
     ]
    },
    {
     "name": "stdout",
     "output_type": "stream",
     "text": [
      "epoch is 34, test_loss is 1.236314, test_acc is 0.651333\n",
      "epoch is 35, train_loss is 0.033375, train_acc is 1.000000\n"
     ]
    },
    {
     "name": "stderr",
     "output_type": "stream",
     "text": [
      " 18%|█▊        | 35/200 [04:03<16:05,  5.85s/it]"
     ]
    },
    {
     "name": "stdout",
     "output_type": "stream",
     "text": [
      "epoch is 35, test_loss is 1.240082, test_acc is 0.647725\n",
      "epoch is 36, train_loss is 0.030611, train_acc is 1.000000\n"
     ]
    },
    {
     "name": "stderr",
     "output_type": "stream",
     "text": [
      " 18%|█▊        | 36/200 [04:09<15:54,  5.82s/it]"
     ]
    },
    {
     "name": "stdout",
     "output_type": "stream",
     "text": [
      "epoch is 36, test_loss is 1.249453, test_acc is 0.653573\n",
      "epoch is 37, train_loss is 0.027379, train_acc is 1.000000\n"
     ]
    },
    {
     "name": "stderr",
     "output_type": "stream",
     "text": [
      " 18%|█▊        | 37/200 [04:14<15:43,  5.79s/it]"
     ]
    },
    {
     "name": "stdout",
     "output_type": "stream",
     "text": [
      "epoch is 37, test_loss is 1.265961, test_acc is 0.650098\n",
      "epoch is 38, train_loss is 0.025621, train_acc is 1.000000\n"
     ]
    },
    {
     "name": "stderr",
     "output_type": "stream",
     "text": [
      " 19%|█▉        | 38/200 [04:20<15:35,  5.77s/it]"
     ]
    },
    {
     "name": "stdout",
     "output_type": "stream",
     "text": [
      "epoch is 38, test_loss is 1.273822, test_acc is 0.649173\n",
      "epoch is 39, train_loss is 0.022708, train_acc is 1.000000\n"
     ]
    },
    {
     "name": "stderr",
     "output_type": "stream",
     "text": [
      " 20%|█▉        | 39/200 [04:26<15:30,  5.78s/it]"
     ]
    },
    {
     "name": "stdout",
     "output_type": "stream",
     "text": [
      "epoch is 39, test_loss is 1.275527, test_acc is 0.650908\n",
      "epoch is 40, train_loss is 0.020958, train_acc is 1.000000\n"
     ]
    },
    {
     "name": "stderr",
     "output_type": "stream",
     "text": [
      " 20%|██        | 40/200 [04:32<15:31,  5.82s/it]"
     ]
    },
    {
     "name": "stdout",
     "output_type": "stream",
     "text": [
      "epoch is 40, test_loss is 1.288402, test_acc is 0.647708\n",
      "epoch is 41, train_loss is 0.019086, train_acc is 1.000000\n"
     ]
    },
    {
     "name": "stderr",
     "output_type": "stream",
     "text": [
      " 20%|██        | 41/200 [04:38<15:25,  5.82s/it]"
     ]
    },
    {
     "name": "stdout",
     "output_type": "stream",
     "text": [
      "epoch is 41, test_loss is 1.302768, test_acc is 0.653274\n",
      "epoch is 42, train_loss is 0.017256, train_acc is 1.000000\n"
     ]
    },
    {
     "name": "stderr",
     "output_type": "stream",
     "text": [
      " 21%|██        | 42/200 [04:43<15:20,  5.82s/it]"
     ]
    },
    {
     "name": "stdout",
     "output_type": "stream",
     "text": [
      "epoch is 42, test_loss is 1.304802, test_acc is 0.651166\n",
      "epoch is 43, train_loss is 0.016274, train_acc is 1.000000\n"
     ]
    },
    {
     "name": "stderr",
     "output_type": "stream",
     "text": [
      " 22%|██▏       | 43/200 [04:49<15:14,  5.83s/it]"
     ]
    },
    {
     "name": "stdout",
     "output_type": "stream",
     "text": [
      "epoch is 43, test_loss is 1.320813, test_acc is 0.649046\n",
      "epoch is 44, train_loss is 0.014685, train_acc is 1.000000\n"
     ]
    },
    {
     "name": "stderr",
     "output_type": "stream",
     "text": [
      " 22%|██▏       | 44/200 [04:55<15:11,  5.84s/it]"
     ]
    },
    {
     "name": "stdout",
     "output_type": "stream",
     "text": [
      "epoch is 44, test_loss is 1.325443, test_acc is 0.653372\n",
      "epoch is 45, train_loss is 0.013533, train_acc is 1.000000\n"
     ]
    },
    {
     "name": "stderr",
     "output_type": "stream",
     "text": [
      " 22%|██▎       | 45/200 [05:01<15:02,  5.83s/it]"
     ]
    },
    {
     "name": "stdout",
     "output_type": "stream",
     "text": [
      "epoch is 45, test_loss is 1.346349, test_acc is 0.650144\n",
      "epoch is 46, train_loss is 0.012349, train_acc is 1.000000\n"
     ]
    },
    {
     "name": "stderr",
     "output_type": "stream",
     "text": [
      " 23%|██▎       | 46/200 [05:07<14:56,  5.82s/it]"
     ]
    },
    {
     "name": "stdout",
     "output_type": "stream",
     "text": [
      "epoch is 46, test_loss is 1.346160, test_acc is 0.653653\n",
      "epoch is 47, train_loss is 0.011614, train_acc is 1.000000\n"
     ]
    },
    {
     "name": "stderr",
     "output_type": "stream",
     "text": [
      " 24%|██▎       | 47/200 [05:13<14:52,  5.83s/it]"
     ]
    },
    {
     "name": "stdout",
     "output_type": "stream",
     "text": [
      "epoch is 47, test_loss is 1.354412, test_acc is 0.653343\n",
      "epoch is 48, train_loss is 0.010850, train_acc is 1.000000\n"
     ]
    },
    {
     "name": "stderr",
     "output_type": "stream",
     "text": [
      " 24%|██▍       | 48/200 [05:19<14:55,  5.89s/it]"
     ]
    },
    {
     "name": "stdout",
     "output_type": "stream",
     "text": [
      "epoch is 48, test_loss is 1.362159, test_acc is 0.655044\n",
      "epoch is 49, train_loss is 0.010030, train_acc is 1.000000\n"
     ]
    },
    {
     "name": "stderr",
     "output_type": "stream",
     "text": [
      " 24%|██▍       | 49/200 [05:24<14:45,  5.86s/it]"
     ]
    },
    {
     "name": "stdout",
     "output_type": "stream",
     "text": [
      "epoch is 49, test_loss is 1.367404, test_acc is 0.655704\n",
      "epoch is 50, train_loss is 0.009147, train_acc is 1.000000\n"
     ]
    },
    {
     "name": "stderr",
     "output_type": "stream",
     "text": [
      " 25%|██▌       | 50/200 [05:30<14:38,  5.86s/it]"
     ]
    },
    {
     "name": "stdout",
     "output_type": "stream",
     "text": [
      "epoch is 50, test_loss is 1.381667, test_acc is 0.652028\n",
      "epoch is 51, train_loss is 0.008397, train_acc is 1.000000\n"
     ]
    },
    {
     "name": "stderr",
     "output_type": "stream",
     "text": [
      " 26%|██▌       | 51/200 [05:36<14:29,  5.83s/it]"
     ]
    },
    {
     "name": "stdout",
     "output_type": "stream",
     "text": [
      "epoch is 51, test_loss is 1.385416, test_acc is 0.653803\n",
      "epoch is 52, train_loss is 0.007761, train_acc is 1.000000\n"
     ]
    },
    {
     "name": "stderr",
     "output_type": "stream",
     "text": [
      " 26%|██▌       | 52/200 [05:43<15:27,  6.27s/it]"
     ]
    },
    {
     "name": "stdout",
     "output_type": "stream",
     "text": [
      "epoch is 52, test_loss is 1.394610, test_acc is 0.655308\n",
      "epoch is 53, train_loss is 0.007523, train_acc is 1.000000\n"
     ]
    },
    {
     "name": "stderr",
     "output_type": "stream",
     "text": [
      " 26%|██▋       | 53/200 [05:51<16:28,  6.72s/it]"
     ]
    },
    {
     "name": "stdout",
     "output_type": "stream",
     "text": [
      "epoch is 53, test_loss is 1.407917, test_acc is 0.654642\n",
      "epoch is 54, train_loss is 0.006747, train_acc is 1.000000\n"
     ]
    },
    {
     "name": "stderr",
     "output_type": "stream",
     "text": [
      " 27%|██▋       | 54/200 [05:59<17:11,  7.06s/it]"
     ]
    },
    {
     "name": "stdout",
     "output_type": "stream",
     "text": [
      "epoch is 54, test_loss is 1.412443, test_acc is 0.656267\n",
      "epoch is 55, train_loss is 0.006247, train_acc is 1.000000\n"
     ]
    },
    {
     "name": "stderr",
     "output_type": "stream",
     "text": [
      " 28%|██▊       | 55/200 [06:07<17:33,  7.26s/it]"
     ]
    },
    {
     "name": "stdout",
     "output_type": "stream",
     "text": [
      "epoch is 55, test_loss is 1.421560, test_acc is 0.655354\n",
      "epoch is 56, train_loss is 0.005850, train_acc is 1.000000\n"
     ]
    },
    {
     "name": "stderr",
     "output_type": "stream",
     "text": [
      " 28%|██▊       | 56/200 [06:15<17:51,  7.44s/it]"
     ]
    },
    {
     "name": "stdout",
     "output_type": "stream",
     "text": [
      "epoch is 56, test_loss is 1.430968, test_acc is 0.656032\n",
      "epoch is 57, train_loss is 0.005302, train_acc is 1.000000\n"
     ]
    },
    {
     "name": "stderr",
     "output_type": "stream",
     "text": [
      " 28%|██▊       | 57/200 [06:22<17:58,  7.54s/it]"
     ]
    },
    {
     "name": "stdout",
     "output_type": "stream",
     "text": [
      "epoch is 57, test_loss is 1.443511, test_acc is 0.655193\n",
      "epoch is 58, train_loss is 0.005094, train_acc is 1.000000\n"
     ]
    },
    {
     "name": "stderr",
     "output_type": "stream",
     "text": [
      " 29%|██▉       | 58/200 [06:30<18:03,  7.63s/it]"
     ]
    },
    {
     "name": "stdout",
     "output_type": "stream",
     "text": [
      "epoch is 58, test_loss is 1.445247, test_acc is 0.654429\n",
      "epoch is 59, train_loss is 0.004658, train_acc is 1.000000\n"
     ]
    },
    {
     "name": "stderr",
     "output_type": "stream",
     "text": [
      " 30%|██▉       | 59/200 [06:38<17:46,  7.56s/it]"
     ]
    },
    {
     "name": "stdout",
     "output_type": "stream",
     "text": [
      "epoch is 59, test_loss is 1.448484, test_acc is 0.657600\n",
      "epoch is 60, train_loss is 0.004376, train_acc is 1.000000\n"
     ]
    },
    {
     "name": "stderr",
     "output_type": "stream",
     "text": [
      " 30%|███       | 60/200 [06:44<16:39,  7.14s/it]"
     ]
    },
    {
     "name": "stdout",
     "output_type": "stream",
     "text": [
      "epoch is 60, test_loss is 1.473291, test_acc is 0.652068\n",
      "epoch is 61, train_loss is 0.004163, train_acc is 1.000000\n"
     ]
    },
    {
     "name": "stderr",
     "output_type": "stream",
     "text": [
      " 30%|███       | 61/200 [06:50<15:38,  6.75s/it]"
     ]
    },
    {
     "name": "stdout",
     "output_type": "stream",
     "text": [
      "epoch is 61, test_loss is 1.469839, test_acc is 0.655733\n",
      "epoch is 62, train_loss is 0.003883, train_acc is 1.000000\n"
     ]
    },
    {
     "name": "stderr",
     "output_type": "stream",
     "text": [
      " 31%|███       | 62/200 [06:56<15:00,  6.53s/it]"
     ]
    },
    {
     "name": "stdout",
     "output_type": "stream",
     "text": [
      "epoch is 62, test_loss is 1.479537, test_acc is 0.655411\n",
      "epoch is 63, train_loss is 0.003546, train_acc is 1.000000\n"
     ]
    },
    {
     "name": "stderr",
     "output_type": "stream",
     "text": [
      " 32%|███▏      | 63/200 [07:01<14:25,  6.31s/it]"
     ]
    },
    {
     "name": "stdout",
     "output_type": "stream",
     "text": [
      "epoch is 63, test_loss is 1.481774, test_acc is 0.655928\n",
      "epoch is 64, train_loss is 0.003310, train_acc is 1.000000\n"
     ]
    },
    {
     "name": "stderr",
     "output_type": "stream",
     "text": [
      " 32%|███▏      | 64/200 [07:07<13:56,  6.15s/it]"
     ]
    },
    {
     "name": "stdout",
     "output_type": "stream",
     "text": [
      "epoch is 64, test_loss is 1.489603, test_acc is 0.656675\n",
      "epoch is 65, train_loss is 0.003240, train_acc is 1.000000\n"
     ]
    },
    {
     "name": "stderr",
     "output_type": "stream",
     "text": [
      " 32%|███▎      | 65/200 [07:13<13:36,  6.05s/it]"
     ]
    },
    {
     "name": "stdout",
     "output_type": "stream",
     "text": [
      "epoch is 65, test_loss is 1.501961, test_acc is 0.655756\n",
      "epoch is 66, train_loss is 0.002991, train_acc is 1.000000\n"
     ]
    },
    {
     "name": "stderr",
     "output_type": "stream",
     "text": [
      " 33%|███▎      | 66/200 [07:19<13:20,  5.98s/it]"
     ]
    },
    {
     "name": "stdout",
     "output_type": "stream",
     "text": [
      "epoch is 66, test_loss is 1.510217, test_acc is 0.654561\n",
      "epoch is 67, train_loss is 0.002900, train_acc is 0.999980\n"
     ]
    },
    {
     "name": "stderr",
     "output_type": "stream",
     "text": [
      " 34%|███▎      | 67/200 [07:24<13:03,  5.89s/it]"
     ]
    },
    {
     "name": "stdout",
     "output_type": "stream",
     "text": [
      "epoch is 67, test_loss is 1.527194, test_acc is 0.655009\n",
      "epoch is 68, train_loss is 0.002622, train_acc is 1.000000\n"
     ]
    },
    {
     "name": "stderr",
     "output_type": "stream",
     "text": [
      " 34%|███▍      | 68/200 [07:30<12:52,  5.85s/it]"
     ]
    },
    {
     "name": "stdout",
     "output_type": "stream",
     "text": [
      "epoch is 68, test_loss is 1.531832, test_acc is 0.658404\n",
      "epoch is 69, train_loss is 0.002420, train_acc is 1.000000\n"
     ]
    },
    {
     "name": "stderr",
     "output_type": "stream",
     "text": [
      " 34%|███▍      | 69/200 [07:36<12:42,  5.82s/it]"
     ]
    },
    {
     "name": "stdout",
     "output_type": "stream",
     "text": [
      "epoch is 69, test_loss is 1.546852, test_acc is 0.655136\n",
      "epoch is 70, train_loss is 0.002314, train_acc is 1.000000\n"
     ]
    },
    {
     "name": "stderr",
     "output_type": "stream",
     "text": [
      " 35%|███▌      | 70/200 [07:42<12:34,  5.80s/it]"
     ]
    },
    {
     "name": "stdout",
     "output_type": "stream",
     "text": [
      "epoch is 70, test_loss is 1.545041, test_acc is 0.655607\n",
      "epoch is 71, train_loss is 0.002115, train_acc is 1.000000\n"
     ]
    },
    {
     "name": "stderr",
     "output_type": "stream",
     "text": [
      " 36%|███▌      | 71/200 [07:47<12:25,  5.78s/it]"
     ]
    },
    {
     "name": "stdout",
     "output_type": "stream",
     "text": [
      "epoch is 71, test_loss is 1.554897, test_acc is 0.658398\n",
      "epoch is 72, train_loss is 0.001981, train_acc is 1.000000\n"
     ]
    },
    {
     "name": "stderr",
     "output_type": "stream",
     "text": [
      " 36%|███▌      | 72/200 [07:53<12:22,  5.80s/it]"
     ]
    },
    {
     "name": "stdout",
     "output_type": "stream",
     "text": [
      "epoch is 72, test_loss is 1.555176, test_acc is 0.657922\n",
      "epoch is 73, train_loss is 0.001877, train_acc is 1.000000\n"
     ]
    },
    {
     "name": "stderr",
     "output_type": "stream",
     "text": [
      " 36%|███▋      | 73/200 [07:59<12:17,  5.81s/it]"
     ]
    },
    {
     "name": "stdout",
     "output_type": "stream",
     "text": [
      "epoch is 73, test_loss is 1.564435, test_acc is 0.656330\n",
      "epoch is 74, train_loss is 0.001836, train_acc is 1.000000\n"
     ]
    },
    {
     "name": "stderr",
     "output_type": "stream",
     "text": [
      " 37%|███▋      | 74/200 [08:05<12:08,  5.78s/it]"
     ]
    },
    {
     "name": "stdout",
     "output_type": "stream",
     "text": [
      "epoch is 74, test_loss is 1.569134, test_acc is 0.659139\n",
      "epoch is 75, train_loss is 0.001671, train_acc is 1.000000\n"
     ]
    },
    {
     "name": "stderr",
     "output_type": "stream",
     "text": [
      " 38%|███▊      | 75/200 [08:11<12:01,  5.77s/it]"
     ]
    },
    {
     "name": "stdout",
     "output_type": "stream",
     "text": [
      "epoch is 75, test_loss is 1.583533, test_acc is 0.657359\n",
      "epoch is 76, train_loss is 0.001587, train_acc is 1.000000\n"
     ]
    },
    {
     "name": "stderr",
     "output_type": "stream",
     "text": [
      " 38%|███▊      | 76/200 [08:16<11:58,  5.80s/it]"
     ]
    },
    {
     "name": "stdout",
     "output_type": "stream",
     "text": [
      "epoch is 76, test_loss is 1.587151, test_acc is 0.656066\n",
      "epoch is 77, train_loss is 0.001485, train_acc is 1.000000\n"
     ]
    },
    {
     "name": "stderr",
     "output_type": "stream",
     "text": [
      " 38%|███▊      | 77/200 [08:22<11:49,  5.77s/it]"
     ]
    },
    {
     "name": "stdout",
     "output_type": "stream",
     "text": [
      "epoch is 77, test_loss is 1.599837, test_acc is 0.661024\n",
      "epoch is 78, train_loss is 0.001349, train_acc is 1.000000\n"
     ]
    },
    {
     "name": "stderr",
     "output_type": "stream",
     "text": [
      " 39%|███▉      | 78/200 [08:28<11:41,  5.75s/it]"
     ]
    },
    {
     "name": "stdout",
     "output_type": "stream",
     "text": [
      "epoch is 78, test_loss is 1.610447, test_acc is 0.657904\n",
      "epoch is 79, train_loss is 0.001296, train_acc is 1.000000\n"
     ]
    },
    {
     "name": "stderr",
     "output_type": "stream",
     "text": [
      " 40%|███▉      | 79/200 [08:34<11:34,  5.74s/it]"
     ]
    },
    {
     "name": "stdout",
     "output_type": "stream",
     "text": [
      "epoch is 79, test_loss is 1.614186, test_acc is 0.656359\n",
      "epoch is 80, train_loss is 0.001240, train_acc is 1.000000\n"
     ]
    },
    {
     "name": "stderr",
     "output_type": "stream",
     "text": [
      " 40%|████      | 80/200 [08:39<11:28,  5.74s/it]"
     ]
    },
    {
     "name": "stdout",
     "output_type": "stream",
     "text": [
      "epoch is 80, test_loss is 1.628282, test_acc is 0.655429\n",
      "epoch is 81, train_loss is 0.001114, train_acc is 1.000000\n"
     ]
    },
    {
     "name": "stderr",
     "output_type": "stream",
     "text": [
      " 40%|████      | 81/200 [08:45<11:21,  5.73s/it]"
     ]
    },
    {
     "name": "stdout",
     "output_type": "stream",
     "text": [
      "epoch is 81, test_loss is 1.633437, test_acc is 0.655767\n",
      "epoch is 82, train_loss is 0.001100, train_acc is 1.000000\n"
     ]
    },
    {
     "name": "stderr",
     "output_type": "stream",
     "text": [
      " 41%|████      | 82/200 [08:51<11:31,  5.86s/it]"
     ]
    },
    {
     "name": "stdout",
     "output_type": "stream",
     "text": [
      "epoch is 82, test_loss is 1.621098, test_acc is 0.659283\n",
      "epoch is 83, train_loss is 0.001062, train_acc is 1.000000\n"
     ]
    },
    {
     "name": "stderr",
     "output_type": "stream",
     "text": [
      " 42%|████▏     | 83/200 [08:57<11:35,  5.94s/it]"
     ]
    },
    {
     "name": "stdout",
     "output_type": "stream",
     "text": [
      "epoch is 83, test_loss is 1.618554, test_acc is 0.658967\n",
      "epoch is 84, train_loss is 0.001040, train_acc is 1.000000\n"
     ]
    },
    {
     "name": "stderr",
     "output_type": "stream",
     "text": [
      " 42%|████▏     | 84/200 [09:03<11:27,  5.92s/it]"
     ]
    },
    {
     "name": "stdout",
     "output_type": "stream",
     "text": [
      "epoch is 84, test_loss is 1.626261, test_acc is 0.658812\n",
      "epoch is 85, train_loss is 0.001058, train_acc is 1.000000\n"
     ]
    },
    {
     "name": "stderr",
     "output_type": "stream",
     "text": [
      " 42%|████▎     | 85/200 [09:09<11:15,  5.88s/it]"
     ]
    },
    {
     "name": "stdout",
     "output_type": "stream",
     "text": [
      "epoch is 85, test_loss is 1.620086, test_acc is 0.658691\n",
      "epoch is 86, train_loss is 0.001063, train_acc is 1.000000\n"
     ]
    },
    {
     "name": "stderr",
     "output_type": "stream",
     "text": [
      " 43%|████▎     | 86/200 [09:15<11:08,  5.86s/it]"
     ]
    },
    {
     "name": "stdout",
     "output_type": "stream",
     "text": [
      "epoch is 86, test_loss is 1.622069, test_acc is 0.659496\n",
      "epoch is 87, train_loss is 0.001076, train_acc is 1.000000\n"
     ]
    },
    {
     "name": "stderr",
     "output_type": "stream",
     "text": [
      " 44%|████▎     | 87/200 [09:21<11:02,  5.87s/it]"
     ]
    },
    {
     "name": "stdout",
     "output_type": "stream",
     "text": [
      "epoch is 87, test_loss is 1.632521, test_acc is 0.656813\n",
      "epoch is 88, train_loss is 0.001068, train_acc is 1.000000\n"
     ]
    },
    {
     "name": "stderr",
     "output_type": "stream",
     "text": [
      " 44%|████▍     | 88/200 [09:26<10:52,  5.83s/it]"
     ]
    },
    {
     "name": "stdout",
     "output_type": "stream",
     "text": [
      "epoch is 88, test_loss is 1.625571, test_acc is 0.658002\n",
      "epoch is 89, train_loss is 0.001057, train_acc is 1.000000\n"
     ]
    },
    {
     "name": "stderr",
     "output_type": "stream",
     "text": [
      " 44%|████▍     | 89/200 [09:32<10:44,  5.81s/it]"
     ]
    },
    {
     "name": "stdout",
     "output_type": "stream",
     "text": [
      "epoch is 89, test_loss is 1.621776, test_acc is 0.661811\n",
      "epoch is 90, train_loss is 0.001019, train_acc is 1.000000\n"
     ]
    },
    {
     "name": "stderr",
     "output_type": "stream",
     "text": [
      " 45%|████▌     | 90/200 [09:38<10:37,  5.80s/it]"
     ]
    },
    {
     "name": "stdout",
     "output_type": "stream",
     "text": [
      "epoch is 90, test_loss is 1.625573, test_acc is 0.660403\n",
      "epoch is 91, train_loss is 0.001036, train_acc is 1.000000\n"
     ]
    },
    {
     "name": "stderr",
     "output_type": "stream",
     "text": [
      " 46%|████▌     | 91/200 [09:44<10:34,  5.82s/it]"
     ]
    },
    {
     "name": "stdout",
     "output_type": "stream",
     "text": [
      "epoch is 91, test_loss is 1.627989, test_acc is 0.658117\n",
      "epoch is 92, train_loss is 0.001009, train_acc is 1.000000\n"
     ]
    },
    {
     "name": "stderr",
     "output_type": "stream",
     "text": [
      " 46%|████▌     | 92/200 [09:50<10:30,  5.83s/it]"
     ]
    },
    {
     "name": "stdout",
     "output_type": "stream",
     "text": [
      "epoch is 92, test_loss is 1.635159, test_acc is 0.659823\n",
      "epoch is 93, train_loss is 0.000997, train_acc is 1.000000\n"
     ]
    },
    {
     "name": "stderr",
     "output_type": "stream",
     "text": [
      " 46%|████▋     | 93/200 [09:56<10:23,  5.83s/it]"
     ]
    },
    {
     "name": "stdout",
     "output_type": "stream",
     "text": [
      "epoch is 93, test_loss is 1.642039, test_acc is 0.656767\n",
      "epoch is 94, train_loss is 0.000994, train_acc is 1.000000\n"
     ]
    },
    {
     "name": "stderr",
     "output_type": "stream",
     "text": [
      " 47%|████▋     | 94/200 [10:01<10:16,  5.81s/it]"
     ]
    },
    {
     "name": "stdout",
     "output_type": "stream",
     "text": [
      "epoch is 94, test_loss is 1.642422, test_acc is 0.660053\n",
      "epoch is 95, train_loss is 0.000979, train_acc is 1.000000\n"
     ]
    },
    {
     "name": "stderr",
     "output_type": "stream",
     "text": [
      " 48%|████▊     | 95/200 [10:07<10:10,  5.81s/it]"
     ]
    },
    {
     "name": "stdout",
     "output_type": "stream",
     "text": [
      "epoch is 95, test_loss is 1.643326, test_acc is 0.656049\n",
      "epoch is 96, train_loss is 0.000970, train_acc is 1.000000\n"
     ]
    },
    {
     "name": "stderr",
     "output_type": "stream",
     "text": [
      " 48%|████▊     | 96/200 [10:13<10:04,  5.82s/it]"
     ]
    },
    {
     "name": "stdout",
     "output_type": "stream",
     "text": [
      "epoch is 96, test_loss is 1.646043, test_acc is 0.654762\n",
      "epoch is 97, train_loss is 0.000951, train_acc is 1.000000\n"
     ]
    },
    {
     "name": "stderr",
     "output_type": "stream",
     "text": [
      " 48%|████▊     | 97/200 [10:19<09:58,  5.81s/it]"
     ]
    },
    {
     "name": "stdout",
     "output_type": "stream",
     "text": [
      "epoch is 97, test_loss is 1.634895, test_acc is 0.658094\n",
      "epoch is 98, train_loss is 0.000957, train_acc is 1.000000\n"
     ]
    },
    {
     "name": "stderr",
     "output_type": "stream",
     "text": [
      " 49%|████▉     | 98/200 [10:25<09:51,  5.80s/it]"
     ]
    },
    {
     "name": "stdout",
     "output_type": "stream",
     "text": [
      "epoch is 98, test_loss is 1.651306, test_acc is 0.656750\n",
      "epoch is 99, train_loss is 0.000919, train_acc is 1.000000\n"
     ]
    },
    {
     "name": "stderr",
     "output_type": "stream",
     "text": [
      " 50%|████▉     | 99/200 [10:30<09:48,  5.83s/it]"
     ]
    },
    {
     "name": "stdout",
     "output_type": "stream",
     "text": [
      "epoch is 99, test_loss is 1.646505, test_acc is 0.658720\n",
      "epoch is 100, train_loss is 0.000937, train_acc is 1.000000\n"
     ]
    },
    {
     "name": "stderr",
     "output_type": "stream",
     "text": [
      " 50%|█████     | 100/200 [10:36<09:41,  5.81s/it]"
     ]
    },
    {
     "name": "stdout",
     "output_type": "stream",
     "text": [
      "epoch is 100, test_loss is 1.651976, test_acc is 0.659858\n",
      "epoch is 101, train_loss is 0.000908, train_acc is 1.000000\n"
     ]
    },
    {
     "name": "stderr",
     "output_type": "stream",
     "text": [
      " 50%|█████     | 101/200 [10:42<09:34,  5.80s/it]"
     ]
    },
    {
     "name": "stdout",
     "output_type": "stream",
     "text": [
      "epoch is 101, test_loss is 1.655228, test_acc is 0.658508\n",
      "epoch is 102, train_loss is 0.000924, train_acc is 1.000000\n"
     ]
    },
    {
     "name": "stderr",
     "output_type": "stream",
     "text": [
      " 51%|█████     | 102/200 [10:48<09:27,  5.79s/it]"
     ]
    },
    {
     "name": "stdout",
     "output_type": "stream",
     "text": [
      "epoch is 102, test_loss is 1.635207, test_acc is 0.658301\n",
      "epoch is 103, train_loss is 0.000909, train_acc is 1.000000\n"
     ]
    },
    {
     "name": "stderr",
     "output_type": "stream",
     "text": [
      " 52%|█████▏    | 103/200 [10:54<09:23,  5.81s/it]"
     ]
    },
    {
     "name": "stdout",
     "output_type": "stream",
     "text": [
      "epoch is 103, test_loss is 1.649790, test_acc is 0.658714\n",
      "epoch is 104, train_loss is 0.000895, train_acc is 1.000000\n"
     ]
    },
    {
     "name": "stderr",
     "output_type": "stream",
     "text": [
      " 52%|█████▏    | 104/200 [10:59<09:18,  5.82s/it]"
     ]
    },
    {
     "name": "stdout",
     "output_type": "stream",
     "text": [
      "epoch is 104, test_loss is 1.663775, test_acc is 0.658174\n",
      "epoch is 105, train_loss is 0.000933, train_acc is 1.000000\n"
     ]
    },
    {
     "name": "stderr",
     "output_type": "stream",
     "text": [
      " 52%|█████▎    | 105/200 [11:05<09:16,  5.86s/it]"
     ]
    },
    {
     "name": "stdout",
     "output_type": "stream",
     "text": [
      "epoch is 105, test_loss is 1.642943, test_acc is 0.658180\n",
      "epoch is 106, train_loss is 0.000890, train_acc is 1.000000\n"
     ]
    },
    {
     "name": "stderr",
     "output_type": "stream",
     "text": [
      " 53%|█████▎    | 106/200 [11:11<09:09,  5.84s/it]"
     ]
    },
    {
     "name": "stdout",
     "output_type": "stream",
     "text": [
      "epoch is 106, test_loss is 1.648176, test_acc is 0.659812\n",
      "epoch is 107, train_loss is 0.000871, train_acc is 1.000000\n"
     ]
    },
    {
     "name": "stderr",
     "output_type": "stream",
     "text": [
      " 54%|█████▎    | 107/200 [11:17<09:03,  5.85s/it]"
     ]
    },
    {
     "name": "stdout",
     "output_type": "stream",
     "text": [
      "epoch is 107, test_loss is 1.650877, test_acc is 0.658789\n",
      "epoch is 108, train_loss is 0.000904, train_acc is 1.000000\n"
     ]
    },
    {
     "name": "stderr",
     "output_type": "stream",
     "text": [
      " 54%|█████▍    | 108/200 [11:23<08:56,  5.83s/it]"
     ]
    },
    {
     "name": "stdout",
     "output_type": "stream",
     "text": [
      "epoch is 108, test_loss is 1.640720, test_acc is 0.659582\n",
      "epoch is 109, train_loss is 0.000886, train_acc is 1.000000\n"
     ]
    },
    {
     "name": "stderr",
     "output_type": "stream",
     "text": [
      " 55%|█████▍    | 109/200 [11:29<08:50,  5.83s/it]"
     ]
    },
    {
     "name": "stdout",
     "output_type": "stream",
     "text": [
      "epoch is 109, test_loss is 1.655244, test_acc is 0.657364\n",
      "epoch is 110, train_loss is 0.000905, train_acc is 1.000000\n"
     ]
    },
    {
     "name": "stderr",
     "output_type": "stream",
     "text": [
      " 55%|█████▌    | 110/200 [11:34<08:43,  5.81s/it]"
     ]
    },
    {
     "name": "stdout",
     "output_type": "stream",
     "text": [
      "epoch is 110, test_loss is 1.646708, test_acc is 0.659714\n",
      "epoch is 111, train_loss is 0.000900, train_acc is 1.000000\n"
     ]
    },
    {
     "name": "stderr",
     "output_type": "stream",
     "text": [
      " 56%|█████▌    | 111/200 [11:40<08:36,  5.81s/it]"
     ]
    },
    {
     "name": "stdout",
     "output_type": "stream",
     "text": [
      "epoch is 111, test_loss is 1.645984, test_acc is 0.659249\n",
      "epoch is 112, train_loss is 0.000877, train_acc is 1.000000\n"
     ]
    },
    {
     "name": "stderr",
     "output_type": "stream",
     "text": [
      " 56%|█████▌    | 112/200 [11:46<08:31,  5.82s/it]"
     ]
    },
    {
     "name": "stdout",
     "output_type": "stream",
     "text": [
      "epoch is 112, test_loss is 1.653408, test_acc is 0.657910\n",
      "epoch is 113, train_loss is 0.000898, train_acc is 1.000000\n"
     ]
    },
    {
     "name": "stderr",
     "output_type": "stream",
     "text": [
      " 56%|█████▋    | 113/200 [11:52<08:25,  5.81s/it]"
     ]
    },
    {
     "name": "stdout",
     "output_type": "stream",
     "text": [
      "epoch is 113, test_loss is 1.660334, test_acc is 0.655825\n",
      "epoch is 114, train_loss is 0.000894, train_acc is 1.000000\n"
     ]
    },
    {
     "name": "stderr",
     "output_type": "stream",
     "text": [
      " 57%|█████▋    | 114/200 [11:58<08:23,  5.85s/it]"
     ]
    },
    {
     "name": "stdout",
     "output_type": "stream",
     "text": [
      "epoch is 114, test_loss is 1.652107, test_acc is 0.659197\n",
      "epoch is 115, train_loss is 0.000861, train_acc is 1.000000\n"
     ]
    },
    {
     "name": "stderr",
     "output_type": "stream",
     "text": [
      " 57%|█████▊    | 115/200 [12:04<08:18,  5.86s/it]"
     ]
    },
    {
     "name": "stdout",
     "output_type": "stream",
     "text": [
      "epoch is 115, test_loss is 1.651948, test_acc is 0.656307\n",
      "epoch is 116, train_loss is 0.000864, train_acc is 1.000000\n"
     ]
    },
    {
     "name": "stderr",
     "output_type": "stream",
     "text": [
      " 58%|█████▊    | 116/200 [12:10<08:14,  5.88s/it]"
     ]
    },
    {
     "name": "stdout",
     "output_type": "stream",
     "text": [
      "epoch is 116, test_loss is 1.652226, test_acc is 0.659467\n",
      "epoch is 117, train_loss is 0.000887, train_acc is 1.000000\n"
     ]
    },
    {
     "name": "stderr",
     "output_type": "stream",
     "text": [
      " 58%|█████▊    | 117/200 [12:15<08:06,  5.86s/it]"
     ]
    },
    {
     "name": "stdout",
     "output_type": "stream",
     "text": [
      "epoch is 117, test_loss is 1.647351, test_acc is 0.661340\n",
      "epoch is 118, train_loss is 0.000878, train_acc is 1.000000\n"
     ]
    },
    {
     "name": "stderr",
     "output_type": "stream",
     "text": [
      " 59%|█████▉    | 118/200 [12:21<08:02,  5.88s/it]"
     ]
    },
    {
     "name": "stdout",
     "output_type": "stream",
     "text": [
      "epoch is 118, test_loss is 1.657188, test_acc is 0.660633\n",
      "epoch is 119, train_loss is 0.000855, train_acc is 1.000000\n"
     ]
    },
    {
     "name": "stderr",
     "output_type": "stream",
     "text": [
      " 60%|█████▉    | 119/200 [12:27<07:55,  5.88s/it]"
     ]
    },
    {
     "name": "stdout",
     "output_type": "stream",
     "text": [
      "epoch is 119, test_loss is 1.657068, test_acc is 0.660306\n",
      "epoch is 120, train_loss is 0.000874, train_acc is 1.000000\n"
     ]
    },
    {
     "name": "stderr",
     "output_type": "stream",
     "text": [
      " 60%|██████    | 120/200 [12:33<07:50,  5.88s/it]"
     ]
    },
    {
     "name": "stdout",
     "output_type": "stream",
     "text": [
      "epoch is 120, test_loss is 1.657662, test_acc is 0.654745\n",
      "epoch is 121, train_loss is 0.000886, train_acc is 1.000000\n"
     ]
    },
    {
     "name": "stderr",
     "output_type": "stream",
     "text": [
      " 60%|██████    | 121/200 [12:39<07:45,  5.89s/it]"
     ]
    },
    {
     "name": "stdout",
     "output_type": "stream",
     "text": [
      "epoch is 121, test_loss is 1.645465, test_acc is 0.660323\n",
      "epoch is 122, train_loss is 0.000876, train_acc is 1.000000\n"
     ]
    },
    {
     "name": "stderr",
     "output_type": "stream",
     "text": [
      " 61%|██████    | 122/200 [12:45<07:37,  5.86s/it]"
     ]
    },
    {
     "name": "stdout",
     "output_type": "stream",
     "text": [
      "epoch is 122, test_loss is 1.650355, test_acc is 0.656853\n",
      "epoch is 123, train_loss is 0.000885, train_acc is 1.000000\n"
     ]
    },
    {
     "name": "stderr",
     "output_type": "stream",
     "text": [
      " 62%|██████▏   | 123/200 [12:51<07:29,  5.84s/it]"
     ]
    },
    {
     "name": "stdout",
     "output_type": "stream",
     "text": [
      "epoch is 123, test_loss is 1.663640, test_acc is 0.657192\n",
      "epoch is 124, train_loss is 0.000870, train_acc is 1.000000\n"
     ]
    },
    {
     "name": "stderr",
     "output_type": "stream",
     "text": [
      " 62%|██████▏   | 124/200 [12:56<07:23,  5.83s/it]"
     ]
    },
    {
     "name": "stdout",
     "output_type": "stream",
     "text": [
      "epoch is 124, test_loss is 1.654396, test_acc is 0.660202\n",
      "epoch is 125, train_loss is 0.000892, train_acc is 1.000000\n"
     ]
    },
    {
     "name": "stderr",
     "output_type": "stream",
     "text": [
      " 62%|██████▎   | 125/200 [13:02<07:18,  5.84s/it]"
     ]
    },
    {
     "name": "stdout",
     "output_type": "stream",
     "text": [
      "epoch is 125, test_loss is 1.658402, test_acc is 0.657462\n",
      "epoch is 126, train_loss is 0.000860, train_acc is 1.000000\n"
     ]
    },
    {
     "name": "stderr",
     "output_type": "stream",
     "text": [
      " 63%|██████▎   | 126/200 [13:08<07:11,  5.84s/it]"
     ]
    },
    {
     "name": "stdout",
     "output_type": "stream",
     "text": [
      "epoch is 126, test_loss is 1.658893, test_acc is 0.656313\n",
      "epoch is 127, train_loss is 0.000883, train_acc is 1.000000\n"
     ]
    },
    {
     "name": "stderr",
     "output_type": "stream",
     "text": [
      " 64%|██████▎   | 127/200 [13:14<07:05,  5.82s/it]"
     ]
    },
    {
     "name": "stdout",
     "output_type": "stream",
     "text": [
      "epoch is 127, test_loss is 1.653271, test_acc is 0.660449\n",
      "epoch is 128, train_loss is 0.000876, train_acc is 1.000000\n"
     ]
    },
    {
     "name": "stderr",
     "output_type": "stream",
     "text": [
      " 64%|██████▍   | 128/200 [13:20<06:58,  5.82s/it]"
     ]
    },
    {
     "name": "stdout",
     "output_type": "stream",
     "text": [
      "epoch is 128, test_loss is 1.639895, test_acc is 0.658755\n",
      "epoch is 129, train_loss is 0.000899, train_acc is 1.000000\n"
     ]
    },
    {
     "name": "stderr",
     "output_type": "stream",
     "text": [
      " 64%|██████▍   | 129/200 [13:26<06:56,  5.87s/it]"
     ]
    },
    {
     "name": "stdout",
     "output_type": "stream",
     "text": [
      "epoch is 129, test_loss is 1.650559, test_acc is 0.659662\n",
      "epoch is 130, train_loss is 0.000889, train_acc is 1.000000\n"
     ]
    },
    {
     "name": "stderr",
     "output_type": "stream",
     "text": [
      " 65%|██████▌   | 130/200 [13:33<07:25,  6.36s/it]"
     ]
    },
    {
     "name": "stdout",
     "output_type": "stream",
     "text": [
      "epoch is 130, test_loss is 1.650012, test_acc is 0.660863\n",
      "epoch is 131, train_loss is 0.000861, train_acc is 1.000000\n"
     ]
    },
    {
     "name": "stderr",
     "output_type": "stream",
     "text": [
      " 66%|██████▌   | 131/200 [13:41<07:47,  6.77s/it]"
     ]
    },
    {
     "name": "stdout",
     "output_type": "stream",
     "text": [
      "epoch is 131, test_loss is 1.642991, test_acc is 0.663011\n",
      "epoch is 132, train_loss is 0.000903, train_acc is 1.000000\n"
     ]
    },
    {
     "name": "stderr",
     "output_type": "stream",
     "text": [
      " 66%|██████▌   | 132/200 [13:49<08:02,  7.09s/it]"
     ]
    },
    {
     "name": "stdout",
     "output_type": "stream",
     "text": [
      "epoch is 132, test_loss is 1.651944, test_acc is 0.658628\n",
      "epoch is 133, train_loss is 0.000895, train_acc is 1.000000\n"
     ]
    },
    {
     "name": "stderr",
     "output_type": "stream",
     "text": [
      " 66%|██████▋   | 133/200 [13:57<08:10,  7.33s/it]"
     ]
    },
    {
     "name": "stdout",
     "output_type": "stream",
     "text": [
      "epoch is 133, test_loss is 1.659427, test_acc is 0.655618\n",
      "epoch is 134, train_loss is 0.000872, train_acc is 1.000000\n"
     ]
    },
    {
     "name": "stderr",
     "output_type": "stream",
     "text": [
      " 67%|██████▋   | 134/200 [14:05<08:15,  7.51s/it]"
     ]
    },
    {
     "name": "stdout",
     "output_type": "stream",
     "text": [
      "epoch is 134, test_loss is 1.664527, test_acc is 0.656244\n",
      "epoch is 135, train_loss is 0.000878, train_acc is 1.000000\n"
     ]
    },
    {
     "name": "stderr",
     "output_type": "stream",
     "text": [
      " 68%|██████▊   | 135/200 [14:12<08:15,  7.63s/it]"
     ]
    },
    {
     "name": "stdout",
     "output_type": "stream",
     "text": [
      "epoch is 135, test_loss is 1.658082, test_acc is 0.657721\n",
      "epoch is 136, train_loss is 0.000861, train_acc is 1.000000\n"
     ]
    },
    {
     "name": "stderr",
     "output_type": "stream",
     "text": [
      " 68%|██████▊   | 136/200 [14:20<08:12,  7.69s/it]"
     ]
    },
    {
     "name": "stdout",
     "output_type": "stream",
     "text": [
      "epoch is 136, test_loss is 1.650271, test_acc is 0.656428\n",
      "epoch is 137, train_loss is 0.000865, train_acc is 1.000000\n"
     ]
    },
    {
     "name": "stderr",
     "output_type": "stream",
     "text": [
      " 68%|██████▊   | 137/200 [14:28<08:07,  7.73s/it]"
     ]
    },
    {
     "name": "stdout",
     "output_type": "stream",
     "text": [
      "epoch is 137, test_loss is 1.653057, test_acc is 0.658307\n",
      "epoch is 138, train_loss is 0.000875, train_acc is 1.000000\n"
     ]
    },
    {
     "name": "stderr",
     "output_type": "stream",
     "text": [
      " 69%|██████▉   | 138/200 [14:36<08:04,  7.81s/it]"
     ]
    },
    {
     "name": "stdout",
     "output_type": "stream",
     "text": [
      "epoch is 138, test_loss is 1.645250, test_acc is 0.656187\n",
      "epoch is 139, train_loss is 0.000874, train_acc is 1.000000\n"
     ]
    },
    {
     "name": "stderr",
     "output_type": "stream",
     "text": [
      " 70%|██████▉   | 139/200 [14:44<07:59,  7.85s/it]"
     ]
    },
    {
     "name": "stdout",
     "output_type": "stream",
     "text": [
      "epoch is 139, test_loss is 1.655425, test_acc is 0.657261\n",
      "epoch is 140, train_loss is 0.000871, train_acc is 1.000000\n"
     ]
    },
    {
     "name": "stderr",
     "output_type": "stream",
     "text": [
      " 70%|███████   | 140/200 [14:52<07:52,  7.88s/it]"
     ]
    },
    {
     "name": "stdout",
     "output_type": "stream",
     "text": [
      "epoch is 140, test_loss is 1.653252, test_acc is 0.656928\n",
      "epoch is 141, train_loss is 0.000839, train_acc is 1.000000\n"
     ]
    },
    {
     "name": "stderr",
     "output_type": "stream",
     "text": [
      " 70%|███████   | 141/200 [15:00<07:43,  7.85s/it]"
     ]
    },
    {
     "name": "stdout",
     "output_type": "stream",
     "text": [
      "epoch is 141, test_loss is 1.658060, test_acc is 0.657393\n",
      "epoch is 142, train_loss is 0.000873, train_acc is 1.000000\n"
     ]
    },
    {
     "name": "stderr",
     "output_type": "stream",
     "text": [
      " 71%|███████   | 142/200 [15:08<07:36,  7.87s/it]"
     ]
    },
    {
     "name": "stdout",
     "output_type": "stream",
     "text": [
      "epoch is 142, test_loss is 1.655773, test_acc is 0.655819\n",
      "epoch is 143, train_loss is 0.000871, train_acc is 1.000000\n"
     ]
    },
    {
     "name": "stderr",
     "output_type": "stream",
     "text": [
      " 72%|███████▏  | 143/200 [15:16<07:29,  7.89s/it]"
     ]
    },
    {
     "name": "stdout",
     "output_type": "stream",
     "text": [
      "epoch is 143, test_loss is 1.662964, test_acc is 0.657600\n",
      "epoch is 144, train_loss is 0.000862, train_acc is 1.000000\n"
     ]
    },
    {
     "name": "stderr",
     "output_type": "stream",
     "text": [
      " 72%|███████▏  | 144/200 [15:23<07:20,  7.87s/it]"
     ]
    },
    {
     "name": "stdout",
     "output_type": "stream",
     "text": [
      "epoch is 144, test_loss is 1.650516, test_acc is 0.659616\n",
      "epoch is 145, train_loss is 0.000869, train_acc is 1.000000\n"
     ]
    },
    {
     "name": "stderr",
     "output_type": "stream",
     "text": [
      " 72%|███████▎  | 145/200 [15:32<07:16,  7.94s/it]"
     ]
    },
    {
     "name": "stdout",
     "output_type": "stream",
     "text": [
      "epoch is 145, test_loss is 1.653221, test_acc is 0.659582\n",
      "epoch is 146, train_loss is 0.000868, train_acc is 1.000000\n"
     ]
    },
    {
     "name": "stderr",
     "output_type": "stream",
     "text": [
      " 73%|███████▎  | 146/200 [15:39<07:07,  7.91s/it]"
     ]
    },
    {
     "name": "stdout",
     "output_type": "stream",
     "text": [
      "epoch is 146, test_loss is 1.654150, test_acc is 0.659536\n",
      "epoch is 147, train_loss is 0.000893, train_acc is 1.000000\n"
     ]
    },
    {
     "name": "stderr",
     "output_type": "stream",
     "text": [
      " 74%|███████▎  | 147/200 [15:47<06:57,  7.88s/it]"
     ]
    },
    {
     "name": "stdout",
     "output_type": "stream",
     "text": [
      "epoch is 147, test_loss is 1.656711, test_acc is 0.659881\n",
      "epoch is 148, train_loss is 0.000891, train_acc is 1.000000\n"
     ]
    },
    {
     "name": "stderr",
     "output_type": "stream",
     "text": [
      " 74%|███████▍  | 148/200 [15:55<06:47,  7.84s/it]"
     ]
    },
    {
     "name": "stdout",
     "output_type": "stream",
     "text": [
      "epoch is 148, test_loss is 1.653772, test_acc is 0.660162\n",
      "epoch is 149, train_loss is 0.000841, train_acc is 1.000000\n"
     ]
    },
    {
     "name": "stderr",
     "output_type": "stream",
     "text": [
      " 74%|███████▍  | 149/200 [16:03<06:41,  7.87s/it]"
     ]
    },
    {
     "name": "stdout",
     "output_type": "stream",
     "text": [
      "epoch is 149, test_loss is 1.655382, test_acc is 0.658169\n",
      "epoch is 150, train_loss is 0.000868, train_acc is 1.000000\n"
     ]
    },
    {
     "name": "stderr",
     "output_type": "stream",
     "text": [
      " 75%|███████▌  | 150/200 [16:11<06:33,  7.88s/it]"
     ]
    },
    {
     "name": "stdout",
     "output_type": "stream",
     "text": [
      "epoch is 150, test_loss is 1.662495, test_acc is 0.656974\n",
      "epoch is 151, train_loss is 0.000864, train_acc is 1.000000\n"
     ]
    },
    {
     "name": "stderr",
     "output_type": "stream",
     "text": [
      " 76%|███████▌  | 151/200 [16:19<06:24,  7.86s/it]"
     ]
    },
    {
     "name": "stdout",
     "output_type": "stream",
     "text": [
      "epoch is 151, test_loss is 1.651616, test_acc is 0.659283\n",
      "epoch is 152, train_loss is 0.000870, train_acc is 1.000000\n"
     ]
    },
    {
     "name": "stderr",
     "output_type": "stream",
     "text": [
      " 76%|███████▌  | 152/200 [16:26<06:15,  7.83s/it]"
     ]
    },
    {
     "name": "stdout",
     "output_type": "stream",
     "text": [
      "epoch is 152, test_loss is 1.665367, test_acc is 0.657341\n",
      "epoch is 153, train_loss is 0.000883, train_acc is 1.000000\n"
     ]
    },
    {
     "name": "stderr",
     "output_type": "stream",
     "text": [
      " 76%|███████▋  | 153/200 [16:34<06:06,  7.80s/it]"
     ]
    },
    {
     "name": "stdout",
     "output_type": "stream",
     "text": [
      "epoch is 153, test_loss is 1.656287, test_acc is 0.657393\n",
      "epoch is 154, train_loss is 0.000904, train_acc is 1.000000\n"
     ]
    },
    {
     "name": "stderr",
     "output_type": "stream",
     "text": [
      " 77%|███████▋  | 154/200 [16:42<05:59,  7.81s/it]"
     ]
    },
    {
     "name": "stdout",
     "output_type": "stream",
     "text": [
      "epoch is 154, test_loss is 1.650079, test_acc is 0.660202\n",
      "epoch is 155, train_loss is 0.000843, train_acc is 1.000000\n"
     ]
    },
    {
     "name": "stderr",
     "output_type": "stream",
     "text": [
      " 78%|███████▊  | 155/200 [16:50<05:53,  7.86s/it]"
     ]
    },
    {
     "name": "stdout",
     "output_type": "stream",
     "text": [
      "epoch is 155, test_loss is 1.654368, test_acc is 0.658921\n",
      "epoch is 156, train_loss is 0.000881, train_acc is 1.000000\n"
     ]
    },
    {
     "name": "stderr",
     "output_type": "stream",
     "text": [
      " 78%|███████▊  | 156/200 [16:58<05:43,  7.81s/it]"
     ]
    },
    {
     "name": "stdout",
     "output_type": "stream",
     "text": [
      "epoch is 156, test_loss is 1.658676, test_acc is 0.659990\n",
      "epoch is 157, train_loss is 0.000871, train_acc is 1.000000\n"
     ]
    },
    {
     "name": "stderr",
     "output_type": "stream",
     "text": [
      " 78%|███████▊  | 157/200 [17:06<05:36,  7.83s/it]"
     ]
    },
    {
     "name": "stdout",
     "output_type": "stream",
     "text": [
      "epoch is 157, test_loss is 1.656278, test_acc is 0.659237\n",
      "epoch is 158, train_loss is 0.000853, train_acc is 1.000000\n"
     ]
    },
    {
     "name": "stderr",
     "output_type": "stream",
     "text": [
      " 79%|███████▉  | 158/200 [17:13<05:26,  7.77s/it]"
     ]
    },
    {
     "name": "stdout",
     "output_type": "stream",
     "text": [
      "epoch is 158, test_loss is 1.649793, test_acc is 0.658381\n",
      "epoch is 159, train_loss is 0.000866, train_acc is 1.000000\n"
     ]
    },
    {
     "name": "stderr",
     "output_type": "stream",
     "text": [
      " 80%|███████▉  | 159/200 [17:21<05:20,  7.81s/it]"
     ]
    },
    {
     "name": "stdout",
     "output_type": "stream",
     "text": [
      "epoch is 159, test_loss is 1.655691, test_acc is 0.657634\n",
      "epoch is 160, train_loss is 0.000862, train_acc is 1.000000\n"
     ]
    },
    {
     "name": "stderr",
     "output_type": "stream",
     "text": [
      " 80%|████████  | 160/200 [17:29<05:14,  7.86s/it]"
     ]
    },
    {
     "name": "stdout",
     "output_type": "stream",
     "text": [
      "epoch is 160, test_loss is 1.656138, test_acc is 0.655388\n",
      "epoch is 161, train_loss is 0.000852, train_acc is 1.000000\n"
     ]
    },
    {
     "name": "stderr",
     "output_type": "stream",
     "text": [
      " 80%|████████  | 161/200 [17:37<05:07,  7.87s/it]"
     ]
    },
    {
     "name": "stdout",
     "output_type": "stream",
     "text": [
      "epoch is 161, test_loss is 1.645980, test_acc is 0.659588\n",
      "epoch is 162, train_loss is 0.000919, train_acc is 1.000000\n"
     ]
    },
    {
     "name": "stderr",
     "output_type": "stream",
     "text": [
      " 81%|████████  | 162/200 [17:45<04:56,  7.81s/it]"
     ]
    },
    {
     "name": "stdout",
     "output_type": "stream",
     "text": [
      "epoch is 162, test_loss is 1.661537, test_acc is 0.658462\n",
      "epoch is 163, train_loss is 0.000854, train_acc is 1.000000\n"
     ]
    },
    {
     "name": "stderr",
     "output_type": "stream",
     "text": [
      " 82%|████████▏ | 163/200 [17:51<04:37,  7.50s/it]"
     ]
    },
    {
     "name": "stdout",
     "output_type": "stream",
     "text": [
      "epoch is 163, test_loss is 1.651959, test_acc is 0.657893\n",
      "epoch is 164, train_loss is 0.000872, train_acc is 1.000000\n"
     ]
    },
    {
     "name": "stderr",
     "output_type": "stream",
     "text": [
      " 82%|████████▏ | 164/200 [17:57<04:12,  7.02s/it]"
     ]
    },
    {
     "name": "stdout",
     "output_type": "stream",
     "text": [
      "epoch is 164, test_loss is 1.644919, test_acc is 0.660036\n",
      "epoch is 165, train_loss is 0.000875, train_acc is 1.000000\n"
     ]
    },
    {
     "name": "stderr",
     "output_type": "stream",
     "text": [
      " 82%|████████▎ | 165/200 [18:03<03:51,  6.63s/it]"
     ]
    },
    {
     "name": "stdout",
     "output_type": "stream",
     "text": [
      "epoch is 165, test_loss is 1.653956, test_acc is 0.660070\n",
      "epoch is 166, train_loss is 0.000857, train_acc is 1.000000\n"
     ]
    },
    {
     "name": "stderr",
     "output_type": "stream",
     "text": [
      " 83%|████████▎ | 166/200 [18:09<03:36,  6.38s/it]"
     ]
    },
    {
     "name": "stdout",
     "output_type": "stream",
     "text": [
      "epoch is 166, test_loss is 1.659327, test_acc is 0.659881\n",
      "epoch is 167, train_loss is 0.000851, train_acc is 1.000000\n"
     ]
    },
    {
     "name": "stderr",
     "output_type": "stream",
     "text": [
      " 84%|████████▎ | 167/200 [18:15<03:24,  6.19s/it]"
     ]
    },
    {
     "name": "stdout",
     "output_type": "stream",
     "text": [
      "epoch is 167, test_loss is 1.659371, test_acc is 0.658375\n",
      "epoch is 168, train_loss is 0.000843, train_acc is 1.000000\n"
     ]
    },
    {
     "name": "stderr",
     "output_type": "stream",
     "text": [
      " 84%|████████▍ | 168/200 [18:20<03:13,  6.05s/it]"
     ]
    },
    {
     "name": "stdout",
     "output_type": "stream",
     "text": [
      "epoch is 168, test_loss is 1.649976, test_acc is 0.658967\n",
      "epoch is 169, train_loss is 0.000844, train_acc is 1.000000\n"
     ]
    },
    {
     "name": "stderr",
     "output_type": "stream",
     "text": [
      " 84%|████████▍ | 169/200 [18:26<03:04,  5.95s/it]"
     ]
    },
    {
     "name": "stdout",
     "output_type": "stream",
     "text": [
      "epoch is 169, test_loss is 1.648943, test_acc is 0.659053\n",
      "epoch is 170, train_loss is 0.000850, train_acc is 1.000000\n"
     ]
    },
    {
     "name": "stderr",
     "output_type": "stream",
     "text": [
      " 85%|████████▌ | 170/200 [18:32<02:57,  5.91s/it]"
     ]
    },
    {
     "name": "stdout",
     "output_type": "stream",
     "text": [
      "epoch is 170, test_loss is 1.659017, test_acc is 0.657318\n",
      "epoch is 171, train_loss is 0.000839, train_acc is 1.000000\n"
     ]
    },
    {
     "name": "stderr",
     "output_type": "stream",
     "text": [
      " 86%|████████▌ | 171/200 [18:38<02:50,  5.89s/it]"
     ]
    },
    {
     "name": "stdout",
     "output_type": "stream",
     "text": [
      "epoch is 171, test_loss is 1.650698, test_acc is 0.657336\n",
      "epoch is 172, train_loss is 0.000836, train_acc is 1.000000\n"
     ]
    },
    {
     "name": "stderr",
     "output_type": "stream",
     "text": [
      " 86%|████████▌ | 172/200 [18:43<02:43,  5.83s/it]"
     ]
    },
    {
     "name": "stdout",
     "output_type": "stream",
     "text": [
      "epoch is 172, test_loss is 1.648232, test_acc is 0.658668\n",
      "epoch is 173, train_loss is 0.000853, train_acc is 1.000000\n"
     ]
    },
    {
     "name": "stderr",
     "output_type": "stream",
     "text": [
      " 86%|████████▋ | 173/200 [18:49<02:38,  5.86s/it]"
     ]
    },
    {
     "name": "stdout",
     "output_type": "stream",
     "text": [
      "epoch is 173, test_loss is 1.649147, test_acc is 0.658869\n",
      "epoch is 174, train_loss is 0.000851, train_acc is 1.000000\n"
     ]
    },
    {
     "name": "stderr",
     "output_type": "stream",
     "text": [
      " 87%|████████▋ | 174/200 [18:55<02:31,  5.82s/it]"
     ]
    },
    {
     "name": "stdout",
     "output_type": "stream",
     "text": [
      "epoch is 174, test_loss is 1.661660, test_acc is 0.659076\n",
      "epoch is 175, train_loss is 0.000889, train_acc is 1.000000\n"
     ]
    },
    {
     "name": "stderr",
     "output_type": "stream",
     "text": [
      " 88%|████████▊ | 175/200 [19:01<02:25,  5.81s/it]"
     ]
    },
    {
     "name": "stdout",
     "output_type": "stream",
     "text": [
      "epoch is 175, test_loss is 1.647628, test_acc is 0.659926\n",
      "epoch is 176, train_loss is 0.000854, train_acc is 1.000000\n"
     ]
    },
    {
     "name": "stderr",
     "output_type": "stream",
     "text": [
      " 88%|████████▊ | 176/200 [19:07<02:19,  5.81s/it]"
     ]
    },
    {
     "name": "stdout",
     "output_type": "stream",
     "text": [
      "epoch is 176, test_loss is 1.659539, test_acc is 0.658956\n",
      "epoch is 177, train_loss is 0.000864, train_acc is 1.000000\n"
     ]
    },
    {
     "name": "stderr",
     "output_type": "stream",
     "text": [
      " 88%|████████▊ | 177/200 [19:12<02:13,  5.80s/it]"
     ]
    },
    {
     "name": "stdout",
     "output_type": "stream",
     "text": [
      "epoch is 177, test_loss is 1.655912, test_acc is 0.659272\n",
      "epoch is 178, train_loss is 0.000847, train_acc is 1.000000\n"
     ]
    },
    {
     "name": "stderr",
     "output_type": "stream",
     "text": [
      " 89%|████████▉ | 178/200 [19:18<02:09,  5.89s/it]"
     ]
    },
    {
     "name": "stdout",
     "output_type": "stream",
     "text": [
      "epoch is 178, test_loss is 1.654697, test_acc is 0.659829\n",
      "epoch is 179, train_loss is 0.000840, train_acc is 1.000000\n"
     ]
    },
    {
     "name": "stderr",
     "output_type": "stream",
     "text": [
      " 90%|████████▉ | 179/200 [19:25<02:05,  5.97s/it]"
     ]
    },
    {
     "name": "stdout",
     "output_type": "stream",
     "text": [
      "epoch is 179, test_loss is 1.654784, test_acc is 0.657945\n",
      "epoch is 180, train_loss is 0.000836, train_acc is 1.000000\n"
     ]
    },
    {
     "name": "stderr",
     "output_type": "stream",
     "text": [
      " 90%|█████████ | 180/200 [19:30<01:58,  5.93s/it]"
     ]
    },
    {
     "name": "stdout",
     "output_type": "stream",
     "text": [
      "epoch is 180, test_loss is 1.659149, test_acc is 0.655291\n",
      "epoch is 181, train_loss is 0.000864, train_acc is 1.000000\n"
     ]
    },
    {
     "name": "stderr",
     "output_type": "stream",
     "text": [
      " 90%|█████████ | 181/200 [19:36<01:52,  5.92s/it]"
     ]
    },
    {
     "name": "stdout",
     "output_type": "stream",
     "text": [
      "epoch is 181, test_loss is 1.654488, test_acc is 0.657508\n",
      "epoch is 182, train_loss is 0.000859, train_acc is 1.000000\n"
     ]
    },
    {
     "name": "stderr",
     "output_type": "stream",
     "text": [
      " 91%|█████████ | 182/200 [19:42<01:46,  5.89s/it]"
     ]
    },
    {
     "name": "stdout",
     "output_type": "stream",
     "text": [
      "epoch is 182, test_loss is 1.657438, test_acc is 0.658128\n",
      "epoch is 183, train_loss is 0.000845, train_acc is 1.000000\n"
     ]
    },
    {
     "name": "stderr",
     "output_type": "stream",
     "text": [
      " 92%|█████████▏| 183/200 [19:48<01:39,  5.86s/it]"
     ]
    },
    {
     "name": "stdout",
     "output_type": "stream",
     "text": [
      "epoch is 183, test_loss is 1.650906, test_acc is 0.658869\n",
      "epoch is 184, train_loss is 0.000870, train_acc is 1.000000\n"
     ]
    },
    {
     "name": "stderr",
     "output_type": "stream",
     "text": [
      " 92%|█████████▏| 184/200 [19:54<01:33,  5.83s/it]"
     ]
    },
    {
     "name": "stdout",
     "output_type": "stream",
     "text": [
      "epoch is 184, test_loss is 1.649011, test_acc is 0.658496\n",
      "epoch is 185, train_loss is 0.000855, train_acc is 1.000000\n"
     ]
    },
    {
     "name": "stderr",
     "output_type": "stream",
     "text": [
      " 92%|█████████▎| 185/200 [20:00<01:28,  5.91s/it]"
     ]
    },
    {
     "name": "stdout",
     "output_type": "stream",
     "text": [
      "epoch is 185, test_loss is 1.652139, test_acc is 0.659708\n",
      "epoch is 186, train_loss is 0.000862, train_acc is 1.000000\n"
     ]
    },
    {
     "name": "stderr",
     "output_type": "stream",
     "text": [
      " 93%|█████████▎| 186/200 [20:06<01:22,  5.87s/it]"
     ]
    },
    {
     "name": "stdout",
     "output_type": "stream",
     "text": [
      "epoch is 186, test_loss is 1.651861, test_acc is 0.659766\n",
      "epoch is 187, train_loss is 0.000854, train_acc is 1.000000\n"
     ]
    },
    {
     "name": "stderr",
     "output_type": "stream",
     "text": [
      " 94%|█████████▎| 187/200 [20:11<01:16,  5.85s/it]"
     ]
    },
    {
     "name": "stdout",
     "output_type": "stream",
     "text": [
      "epoch is 187, test_loss is 1.647029, test_acc is 0.663367\n",
      "epoch is 188, train_loss is 0.000848, train_acc is 1.000000\n"
     ]
    },
    {
     "name": "stderr",
     "output_type": "stream",
     "text": [
      " 94%|█████████▍| 188/200 [20:17<01:10,  5.87s/it]"
     ]
    },
    {
     "name": "stdout",
     "output_type": "stream",
     "text": [
      "epoch is 188, test_loss is 1.660773, test_acc is 0.656618\n",
      "epoch is 189, train_loss is 0.000843, train_acc is 1.000000\n"
     ]
    },
    {
     "name": "stderr",
     "output_type": "stream",
     "text": [
      " 94%|█████████▍| 189/200 [20:23<01:04,  5.84s/it]"
     ]
    },
    {
     "name": "stdout",
     "output_type": "stream",
     "text": [
      "epoch is 189, test_loss is 1.654853, test_acc is 0.656250\n",
      "epoch is 190, train_loss is 0.000850, train_acc is 1.000000\n"
     ]
    },
    {
     "name": "stderr",
     "output_type": "stream",
     "text": [
      " 95%|█████████▌| 190/200 [20:29<00:58,  5.85s/it]"
     ]
    },
    {
     "name": "stdout",
     "output_type": "stream",
     "text": [
      "epoch is 190, test_loss is 1.657272, test_acc is 0.658858\n",
      "epoch is 191, train_loss is 0.000853, train_acc is 1.000000\n"
     ]
    },
    {
     "name": "stderr",
     "output_type": "stream",
     "text": [
      " 96%|█████████▌| 191/200 [20:35<00:52,  5.83s/it]"
     ]
    },
    {
     "name": "stdout",
     "output_type": "stream",
     "text": [
      "epoch is 191, test_loss is 1.660656, test_acc is 0.657227\n",
      "epoch is 192, train_loss is 0.000848, train_acc is 1.000000\n"
     ]
    },
    {
     "name": "stderr",
     "output_type": "stream",
     "text": [
      " 96%|█████████▌| 192/200 [20:41<00:46,  5.87s/it]"
     ]
    },
    {
     "name": "stdout",
     "output_type": "stream",
     "text": [
      "epoch is 192, test_loss is 1.655678, test_acc is 0.659444\n",
      "epoch is 193, train_loss is 0.000851, train_acc is 1.000000\n"
     ]
    },
    {
     "name": "stderr",
     "output_type": "stream",
     "text": [
      " 96%|█████████▋| 193/200 [20:46<00:40,  5.83s/it]"
     ]
    },
    {
     "name": "stdout",
     "output_type": "stream",
     "text": [
      "epoch is 193, test_loss is 1.661121, test_acc is 0.657594\n",
      "epoch is 194, train_loss is 0.000845, train_acc is 1.000000\n"
     ]
    },
    {
     "name": "stderr",
     "output_type": "stream",
     "text": [
      " 97%|█████████▋| 194/200 [20:52<00:34,  5.78s/it]"
     ]
    },
    {
     "name": "stdout",
     "output_type": "stream",
     "text": [
      "epoch is 194, test_loss is 1.659126, test_acc is 0.656974\n",
      "epoch is 195, train_loss is 0.000854, train_acc is 1.000000\n"
     ]
    },
    {
     "name": "stderr",
     "output_type": "stream",
     "text": [
      " 98%|█████████▊| 195/200 [20:58<00:28,  5.75s/it]"
     ]
    },
    {
     "name": "stdout",
     "output_type": "stream",
     "text": [
      "epoch is 195, test_loss is 1.653520, test_acc is 0.658927\n",
      "epoch is 196, train_loss is 0.000835, train_acc is 1.000000\n"
     ]
    },
    {
     "name": "stderr",
     "output_type": "stream",
     "text": [
      " 98%|█████████▊| 196/200 [21:03<00:22,  5.72s/it]"
     ]
    },
    {
     "name": "stdout",
     "output_type": "stream",
     "text": [
      "epoch is 196, test_loss is 1.654494, test_acc is 0.660036\n",
      "epoch is 197, train_loss is 0.000851, train_acc is 1.000000\n"
     ]
    },
    {
     "name": "stderr",
     "output_type": "stream",
     "text": [
      " 98%|█████████▊| 197/200 [21:09<00:17,  5.70s/it]"
     ]
    },
    {
     "name": "stdout",
     "output_type": "stream",
     "text": [
      "epoch is 197, test_loss is 1.657032, test_acc is 0.656882\n",
      "epoch is 198, train_loss is 0.000845, train_acc is 1.000000\n"
     ]
    },
    {
     "name": "stderr",
     "output_type": "stream",
     "text": [
      " 99%|█████████▉| 198/200 [21:15<00:11,  5.71s/it]"
     ]
    },
    {
     "name": "stdout",
     "output_type": "stream",
     "text": [
      "epoch is 198, test_loss is 1.664768, test_acc is 0.659409\n",
      "epoch is 199, train_loss is 0.000841, train_acc is 1.000000\n"
     ]
    },
    {
     "name": "stderr",
     "output_type": "stream",
     "text": [
      "100%|█████████▉| 199/200 [21:21<00:05,  5.72s/it]"
     ]
    },
    {
     "name": "stdout",
     "output_type": "stream",
     "text": [
      "epoch is 199, test_loss is 1.655259, test_acc is 0.657772\n",
      "epoch is 200, train_loss is 0.000822, train_acc is 1.000000\n"
     ]
    },
    {
     "name": "stderr",
     "output_type": "stream",
     "text": [
      "100%|██████████| 200/200 [21:26<00:00,  6.43s/it]"
     ]
    },
    {
     "name": "stdout",
     "output_type": "stream",
     "text": [
      "epoch is 200, test_loss is 1.654962, test_acc is 0.659754\n"
     ]
    },
    {
     "name": "stderr",
     "output_type": "stream",
     "text": [
      "\n"
     ]
    }
   ],
   "source": [
    "#lr=1e-5 para defalut opt\n",
    "model = train(optimizer='ADAM', learning_rate=1e-5, max_epochs=200, eval_freq=500, ada_opt=True, save_para=False)"
   ]
  }
 ],
 "metadata": {
  "kernelspec": {
   "display_name": "PyTorch-1.8",
   "language": "python",
   "name": "pytorch-1.8"
  },
  "language_info": {
   "codemirror_mode": {
    "name": "ipython",
    "version": 3
   },
   "file_extension": ".py",
   "mimetype": "text/x-python",
   "name": "python",
   "nbconvert_exporter": "python",
   "pygments_lexer": "ipython3",
   "version": "3.7.10"
  }
 },
 "nbformat": 4,
 "nbformat_minor": 5
}
